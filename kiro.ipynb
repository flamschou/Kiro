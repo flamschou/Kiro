{
 "cells": [
  {
   "cell_type": "code",
   "execution_count": 4,
   "metadata": {},
   "outputs": [
    {
     "name": "stderr",
     "output_type": "stream",
     "text": [
      "\u001b[32m\u001b[1m    Updating\u001b[22m\u001b[39m registry at `C:\\Users\\flama\\.julia\\registries\\General.toml`\n"
     ]
    },
    {
     "name": "stderr",
     "output_type": "stream",
     "text": [
      "\u001b[32m\u001b[1m   Resolving\u001b[22m\u001b[39m package versions..."
     ]
    },
    {
     "name": "stderr",
     "output_type": "stream",
     "text": [
      "\n",
      "\u001b[32m\u001b[1m  No Changes\u001b[22m\u001b[39m to `C:\\Users\\flama\\.julia\\environments\\v1.8\\Project.toml`\n",
      "\u001b[32m\u001b[1m  No Changes\u001b[22m\u001b[39m to `C:\\Users\\flama\\.julia\\environments\\v1.8\\Manifest.toml`\n"
     ]
    },
    {
     "name": "stderr",
     "output_type": "stream",
     "text": [
      "\u001b[32m\u001b[1m   Resolving\u001b[22m\u001b[39m package versions..."
     ]
    },
    {
     "name": "stderr",
     "output_type": "stream",
     "text": [
      "\n",
      "\u001b[32m\u001b[1m  No Changes\u001b[22m\u001b[39m to `C:\\Users\\flama\\.julia\\environments\\v1.8\\Project.toml`\n",
      "\u001b[32m\u001b[1m  No Changes\u001b[22m\u001b[39m to `C:\\Users\\flama\\.julia\\environments\\v1.8\\Manifest.toml`\n"
     ]
    }
   ],
   "source": [
    "import Pkg; Pkg.add(\"JSON\"); Pkg.add(\"Plots\")\n",
    "\n",
    "using JSON\n",
    "using Plots"
   ]
  },
  {
   "cell_type": "code",
   "execution_count": 5,
   "metadata": {},
   "outputs": [
    {
     "data": {
      "text/plain": [
       "Dict{String, Any} with 7 entries:\n",
       "  \"land_substation_cable_types\"       => Any[Dict{String, Any}(\"rating\"=>500, \"…\n",
       "  \"wind_turbines\"                     => Any[Dict{String, Any}(\"id\"=>1, \"x\"=>-5…\n",
       "  \"wind_scenarios\"                    => Any[Dict{String, Any}(\"power_generatio…\n",
       "  \"substation_locations\"              => Any[Dict{String, Any}(\"id\"=>1, \"x\"=>-1…\n",
       "  \"substation_types\"                  => Any[Dict{String, Any}(\"cost\"=>100000, …\n",
       "  \"general_parameters\"                => Dict{String, Any}(\"maximum_power\"=>100…\n",
       "  \"substation_substation_cable_types\" => Any[Dict{String, Any}(\"rating\"=>500, \"…"
      ]
     },
     "metadata": {},
     "output_type": "display_data"
    }
   ],
   "source": [
    "json_tiny = JSON.parsefile(\"KIRO-tiny.json\")\n"
   ]
  },
  {
   "cell_type": "code",
   "execution_count": 6,
   "metadata": {},
   "outputs": [
    {
     "data": {
      "text/plain": [
       "Dict{String, Any} with 7 entries:\n",
       "  \"land_substation_cable_types\"       => Any[Dict{String, Any}(\"rating\"=>200, \"…\n",
       "  \"wind_turbines\"                     => Any[Dict{String, Any}(\"id\"=>1, \"x\"=>79…\n",
       "  \"wind_scenarios\"                    => Any[Dict{String, Any}(\"power_generatio…\n",
       "  \"substation_locations\"              => Any[Dict{String, Any}(\"id\"=>1, \"x\"=>35…\n",
       "  \"substation_types\"                  => Any[Dict{String, Any}(\"cost\"=>300.0, \"…\n",
       "  \"general_parameters\"                => Dict{String, Any}(\"maximum_curtailing\"…\n",
       "  \"substation_substation_cable_types\" => Any[Dict{String, Any}(\"rating\"=>100, \"…"
      ]
     },
     "metadata": {},
     "output_type": "display_data"
    }
   ],
   "source": [
    "json_small = JSON.parsefile(\"KIRO-small.json\")"
   ]
  },
  {
   "cell_type": "code",
   "execution_count": 7,
   "metadata": {},
   "outputs": [
    {
     "data": {
      "text/plain": [
       "Dict{String, Any} with 7 entries:\n",
       "  \"land_substation_cable_types\"       => Any[Dict{String, Any}(\"rating\"=>200, \"…\n",
       "  \"wind_turbines\"                     => Any[Dict{String, Any}(\"id\"=>1, \"x\"=>78…\n",
       "  \"wind_scenarios\"                    => Any[Dict{String, Any}(\"power_generatio…\n",
       "  \"substation_locations\"              => Any[Dict{String, Any}(\"id\"=>1, \"x\"=>40…\n",
       "  \"substation_types\"                  => Any[Dict{String, Any}(\"cost\"=>300.0, \"…\n",
       "  \"general_parameters\"                => Dict{String, Any}(\"maximum_curtailing\"…\n",
       "  \"substation_substation_cable_types\" => Any[Dict{String, Any}(\"rating\"=>100, \"…"
      ]
     },
     "metadata": {},
     "output_type": "display_data"
    }
   ],
   "source": [
    "json_medium = JSON.parsefile(\"KIRO-medium.json\")"
   ]
  },
  {
   "cell_type": "code",
   "execution_count": 8,
   "metadata": {},
   "outputs": [
    {
     "data": {
      "text/plain": [
       "Dict{String, Any} with 7 entries:\n",
       "  \"land_substation_cable_types\"       => Any[Dict{String, Any}(\"rating\"=>200, \"…\n",
       "  \"wind_turbines\"                     => Any[Dict{String, Any}(\"id\"=>1, \"x\"=>78…\n",
       "  \"wind_scenarios\"                    => Any[Dict{String, Any}(\"power_generatio…\n",
       "  \"substation_locations\"              => Any[Dict{String, Any}(\"id\"=>1, \"x\"=>65…\n",
       "  \"substation_types\"                  => Any[Dict{String, Any}(\"cost\"=>240.0, \"…\n",
       "  \"general_parameters\"                => Dict{String, Any}(\"maximum_curtailing\"…\n",
       "  \"substation_substation_cable_types\" => Any[Dict{String, Any}(\"rating\"=>100, \"…"
      ]
     },
     "metadata": {},
     "output_type": "display_data"
    }
   ],
   "source": [
    "json_large = JSON.parsefile(\"KIRO-large.json\")"
   ]
  },
  {
   "cell_type": "code",
   "execution_count": 9,
   "metadata": {},
   "outputs": [
    {
     "data": {
      "text/plain": [
       "Dict{String, Any} with 7 entries:\n",
       "  \"land_substation_cable_types\"       => Any[Dict{String, Any}(\"rating\"=>200, \"…\n",
       "  \"wind_turbines\"                     => Any[Dict{String, Any}(\"id\"=>1, \"x\"=>79…\n",
       "  \"wind_scenarios\"                    => Any[Dict{String, Any}(\"power_generatio…\n",
       "  \"substation_locations\"              => Any[Dict{String, Any}(\"id\"=>1, \"x\"=>22…\n",
       "  \"substation_types\"                  => Any[Dict{String, Any}(\"cost\"=>240.0, \"…\n",
       "  \"general_parameters\"                => Dict{String, Any}(\"maximum_curtailing\"…\n",
       "  \"substation_substation_cable_types\" => Any[Dict{String, Any}(\"rating\"=>100, \"…"
      ]
     },
     "metadata": {},
     "output_type": "display_data"
    }
   ],
   "source": [
    "json_huge = JSON.parsefile(\"KIRO-huge.json\")"
   ]
  },
  {
   "cell_type": "code",
   "execution_count": 10,
   "metadata": {},
   "outputs": [
    {
     "data": {
      "text/plain": [
       "get_substation_substation_cable_types (generic function with 1 method)"
      ]
     },
     "metadata": {},
     "output_type": "display_data"
    }
   ],
   "source": [
    "# Get Functions\n",
    "\n",
    "function get_parameters(name_json)\n",
    "    general_parameters = name_json[\"general_parameters\"]\n",
    "    return general_parameters\n",
    "end\n",
    "\n",
    "function get_wind_turbines(name_json)\n",
    "    get_wind_turbines = name_json[\"wind_turbines\"]\n",
    "\n",
    "    return get_wind_turbines\n",
    "end\n",
    "\n",
    "function get_wind_scenarios(name_json)\n",
    "    get_wind_scenarios = name_json[\"wind_scenarios\"]\n",
    "    return get_wind_scenarios\n",
    "end\n",
    "\n",
    "function get_substation_locations(name_json)\n",
    "    get_substation_locations = name_json[\"substation_locations\"]\n",
    "    \n",
    "    return get_substation_locations\n",
    "end\n",
    "\n",
    "function get_substation_types(name_json)\n",
    "    get_substation_types = name_json[\"substation_types\"]\n",
    "\n",
    "    return get_substation_types\n",
    "end\n",
    "\n",
    "function get_land_substation_cable_types(name_json)\n",
    "    get_land_substation_cable_types = name_json[\"land_substation_cable_types\"]\n",
    "\n",
    "    return get_land_substation_cable_types\n",
    "end\n",
    "\n",
    "function get_substation_substation_cable_types(name_json)\n",
    "    get_substation_substation_cable_types = name_json[\"substation_substation_cable_types\"]\n",
    "\n",
    "    return get_substation_substation_cable_types\n",
    "end"
   ]
  },
  {
   "cell_type": "code",
   "execution_count": 11,
   "metadata": {},
   "outputs": [
    {
     "name": "stdout",
     "output_type": "stream",
     "text": [
      "[0, 0]"
     ]
    },
    {
     "name": "stdout",
     "output_type": "stream",
     "text": [
      "Any["
     ]
    },
    {
     "name": "stdout",
     "output_type": "stream",
     "text": [
      "[79.0, -3.5], [79.5, -3.5], [80.0, -3.5], [80.5, -3.5], [81.0, -3.5], [79.0, -3.0], [79.5, -3.0], [80.0, -3.0], [80.5, -3.0], [81.0, -3.0], [79.0, -2.5], [79.5, -2.5], [80.0, -2.5], [80.5, -2.5], [81.0, -2.5], [79.0, -2.0], [79.5, -2.0], [80.0, -2.0], [80.5, -2.0], [81.0, -2.0], [79.0, -1.5], [79.5, -1.5], [80.0, -1.5], [80.5, -1.5], [81.0, -1.5], [79.0, -1.0], [79.5, -1.0], [80.0, -1.0], [80.5, -1.0], [81.0, -1.0], [79.0, -0.5], [79.5, -0.5], [80.0, -0.5], [80.5, -0.5], [81.0, -0.5], [79.0, 0.0], [79.5, 0.0], [80.0, 0.0], [80.5, 0.0], [81.0, 0.0], [79.0, 0.5], [79.5, 0.5], [80.0, 0.5], [80.5, 0.5], [81.0, 0.5], [79.0, 1.0], [79.5, 1.0], [80.0, 1.0], [80.5, 1.0], [81.0, 1.0], [79.0, 1.5], [79.5, 1.5], [80.0, 1.5], [80.5, 1.5], [81.0, 1.5], [79.0, 2.0], [79.5, 2.0], [80.0, 2.0], [80.5, 2.0], [81.0, 2.0], [79.0, 2.5], [79.5, 2.5], [80.0, 2.5], [80.5, 2.5], [81.0, 2.5], [79.0, 3.0], [79.5, 3.0], [80.0, 3.0], [80.5, 3.0], [81.0, 3.0], [79.0, 3.5], [79.5, 3.5], [80.0, 3.5], [80.5, 3.5], [81.0, 3.5]]"
     ]
    },
    {
     "name": "stdout",
     "output_type": "stream",
     "text": [
      "15"
     ]
    },
    {
     "data": {
      "text/plain": [
       "18-element Vector{Any}:\n",
       " Dict{String, Any}(\"rating\" => 100, \"variable_cost\" => 1.0, \"id\" => 1, \"fixed_cost\" => 40.0)\n",
       " Dict{String, Any}(\"rating\" => 200, \"variable_cost\" => 2.0, \"id\" => 2, \"fixed_cost\" => 40.0)\n",
       " Dict{String, Any}(\"rating\" => 300, \"variable_cost\" => 3.0, \"id\" => 3, \"fixed_cost\" => 40.0)\n",
       " Dict{String, Any}(\"rating\" => 500, \"variable_cost\" => 5.0, \"id\" => 4, \"fixed_cost\" => 50.0)\n",
       " Dict{String, Any}(\"rating\" => 900, \"variable_cost\" => 9.0, \"id\" => 5, \"fixed_cost\" => 50.0)\n",
       " Dict{String, Any}(\"rating\" => 1450, \"variable_cost\" => 14.0, \"id\" => 6, \"fixed_cost\" => 60.0)\n",
       " Dict{String, Any}(\"rating\" => 100, \"variable_cost\" => 0.9, \"id\" => 7, \"fixed_cost\" => 36.0)\n",
       " Dict{String, Any}(\"rating\" => 200, \"variable_cost\" => 1.8, \"id\" => 8, \"fixed_cost\" => 36.0)\n",
       " Dict{String, Any}(\"rating\" => 300, \"variable_cost\" => 2.7, \"id\" => 9, \"fixed_cost\" => 36.0)\n",
       " Dict{String, Any}(\"rating\" => 500, \"variable_cost\" => 4.5, \"id\" => 10, \"fixed_cost\" => 45.0)\n",
       " Dict{String, Any}(\"rating\" => 900, \"variable_cost\" => 8.1, \"id\" => 11, \"fixed_cost\" => 45.0)\n",
       " Dict{String, Any}(\"rating\" => 1450, \"variable_cost\" => 12.6, \"id\" => 12, \"fixed_cost\" => 54.0)\n",
       " Dict{String, Any}(\"rating\" => 100, \"variable_cost\" => 0.85, \"id\" => 13, \"fixed_cost\" => 34.0)\n",
       " Dict{String, Any}(\"rating\" => 200, \"variable_cost\" => 1.7, \"id\" => 14, \"fixed_cost\" => 34.0)\n",
       " Dict{String, Any}(\"rating\" => 300, \"variable_cost\" => 2.55, \"id\" => 15, \"fixed_cost\" => 34.0)\n",
       " Dict{String, Any}(\"rating\" => 500, \"variable_cost\" => 4.25, \"id\" => 16, \"fixed_cost\" => 42.5)\n",
       " Dict{String, Any}(\"rating\" => 900, \"variable_cost\" => 7.6499999999999995, \"id\" => 17, \"fixed_cost\" => 42.5)\n",
       " Dict{String, Any}(\"rating\" => 1450, \"variable_cost\" => 11.9, \"id\" => 18, \"fixed_cost\" => 51.0)"
      ]
     },
     "metadata": {},
     "output_type": "display_data"
    }
   ],
   "source": [
    "#collectes des données utiles\n",
    "\n",
    "file = json_small\n",
    "\n",
    "P_max = get_parameters(file)[\"maximum_power\"]\n",
    "coords_mls = get_parameters(file)[\"main_land_station\"]\n",
    "C_ft = get_parameters(file)[\"fixed_cost_cable\"]\n",
    "C_lt = get_parameters(file)[\"variable_cost_cable\"]\n",
    "C_0 = get_parameters(file)[\"curtailing_cost\"]\n",
    "C_p = get_parameters(file)[\"curtailing_penalty\"]\n",
    "C_max = get_parameters(file)[\"maximum_curtailing\"]\n",
    "general_parameters = Dict(\"maximum_power\" => P_max, \"main_land_station\" => coords_mls, \"fixed_cost_cable\" => C_ft, \"variable_cost_cable\" => C_lt, \"curtailing_cost\" => C_0, \"curtailing_penalty\" => C_p, \"maximum_curtailing\" => C_max)\n",
    "\n",
    "v_0 = [coords_mls[\"x\"], coords_mls[\"y\"]]\n",
    "\n",
    "print(v_0)\n",
    "\n",
    "wind_turbines = get_wind_turbines(file)\n",
    "x_turbines = [turbine[\"x\"] for turbine in wind_turbines]\n",
    "y_turbines = [turbine[\"y\"] for turbine in wind_turbines]\n",
    "\n",
    "V_t = []\n",
    "for i in 1:length(x_turbines)\n",
    "    push!(V_t,[x_turbines[i], y_turbines[i]])\n",
    "end\n",
    "\n",
    "print(V_t)\n",
    "\n",
    "wind_scenarios = get_wind_scenarios(file)\n",
    "\n",
    "substation_locations = get_substation_locations(file)\n",
    "x_substations = [substation[\"x\"] for substation in substation_locations]\n",
    "y_substations = [substation[\"y\"] for substation in substation_locations]\n",
    "\n",
    "V_s = []\n",
    "for i in 1:length(x_substations)\n",
    "    push!(V_s, [x_substations[i], y_substations[i]])\n",
    "end\n",
    "\n",
    "print(length(V_s))\n",
    "\n",
    "substation_types = get_substation_types(file)\n",
    "\n",
    "land_substation_cable_types = get_land_substation_cable_types(file)\n",
    "\n",
    "sub_sub_cable_types = get_substation_substation_cable_types(file)\n"
   ]
  },
  {
   "cell_type": "code",
   "execution_count": 12,
   "metadata": {},
   "outputs": [
    {
     "data": {
      "text/plain": [
       "cost (generic function with 1 method)"
      ]
     },
     "metadata": {},
     "output_type": "display_data"
    }
   ],
   "source": [
    "# Fonctions coûts \n",
    "\n",
    "function cost_turbines_substation(L, D1, general_parameters)\n",
    "    # L : vecteur liant turbines et sous-stations\n",
    "    # D1 : matrice des distances entre les turbines et les sous-stations\n",
    "    # general_parameters : paramètres généraux du problème\n",
    "\n",
    "    # On initialise le coût\n",
    "    cost = 0\n",
    "\n",
    "    # On calcule le coût de la liaison entre les turbines et les sous-stations\n",
    "    for i in 1:length(L)\n",
    "        cost += general_parameters[\"fixed_cost_cable\"] +D1[i,L[i]]*general_parameters[\"variable_cost_cable\"]\n",
    "    end\n",
    "\n",
    "    return cost\n",
    "end\n",
    "\n",
    "function cost_substation_substation(S, D2, substation_substation_cable_types)\n",
    "    # S : vecteur liant les sous-stations\n",
    "    # D2 : matrice des distances entre les sous-stations\n",
    "    # substation_substation_cable_types : types de câbles entre les sous-stations\n",
    "\n",
    "    # On initialise le coût\n",
    "    cost = 0\n",
    "\n",
    "    # On calcule le coût de la liaison entre les sous-stations\n",
    "    for i in 1:size(S, 1)\n",
    "        if S[i, 2] != 0 && S[i, 4] != 0\n",
    "            cost += substation_substation_cable_types[S[i, 4]][\"fixed_cost\"]+D2[i, S[i, 2]]*substation_substation_cable_types[S[i, 4]][\"variable_cost\"]\n",
    "        end\n",
    "    end\n",
    "    cost = cost/2\n",
    "\n",
    "    return cost\n",
    "end\n",
    "\n",
    "function cost_substation_land_substation(S, D3, land_substation_cable_types)\n",
    "    # S : vecteur liant les sous-stations\n",
    "    # D3 : vecteur des distances entre les sous-stations et la station terrestre\n",
    "    # land_substation_cable_types : types de câbles entre les sous-stations et la station terrestre\n",
    "\n",
    "    # On initialise le coût\n",
    "    cost = 0\n",
    "\n",
    "    # On calcule le coût de la liaison entre les sous-stations et la station terrestre\n",
    "    for i in 1:size(S, 1)\n",
    "        if S[i, 3] != 0\n",
    "            cost += land_substation_cable_types[S[i, 3]][\"fixed_cost\"]+D3[i]*land_substation_cable_types[S[i, 3]][\"variable_cost\"]\n",
    "        end\n",
    "    end\n",
    "\n",
    "    return cost\n",
    "end\n",
    "\n",
    "function cost_substation(S, substation_types)\n",
    "    # S : vecteur liant les sous-stations\n",
    "    # substation_types : types de sous-stations\n",
    "\n",
    "    # On initialise le coût\n",
    "    cost = 0\n",
    "\n",
    "    # On calcule le coût de construction des sous-stations\n",
    "    for i in 1:size(S, 1)\n",
    "        if S[i, 5] != 0\n",
    "            cost += substation_types[S[i, 5]][\"cost\"]\n",
    "        end\n",
    "    end\n",
    "\n",
    "    return cost\n",
    "end\n",
    "\n",
    "\n",
    "function c_c(C, general_parameters)\n",
    "\n",
    "    return general_parameters[\"curtailing_cost\"]*C + general_parameters[\"curtailing_penalty\"]*max(0,C-general_parameters[\"maximum_curtailing\"])\n",
    "end\n",
    "\n",
    "\n",
    "function C_f_aux(v, v1, w, wind_scenarios, S, substation_substation_cable_types, land_substation_cable_types, substation_types)\n",
    "    C_f_aux = 0\n",
    "\n",
    "    C_f_aux += wind_scenarios[w][\"power_generation\"]*S[v1, 1]\n",
    "\n",
    "    if S[v1, 2] == v && S[v1, 4] != 0\n",
    "        C_f_aux += min(substation_substation_cable_types[S[v1, 4]][\"rating\"], wind_scenarios[w][\"power_generation\"]*S[v, 1])\n",
    "    else\n",
    "        C_f_aux += min(0, wind_scenarios[w][\"power_generation\"]*S[v, 1])\n",
    "    end\n",
    "\n",
    "    if S[v1, 3] != 0\n",
    "        C_f_aux -= min(substation_types[S[v1, 5]][\"rating\"],land_substation_cable_types[S[v1, 3]][\"rating\"])\n",
    "    end\n",
    "\n",
    "    return C_f_aux\n",
    "end\n",
    "\n",
    "\n",
    "function C_f(v, w, wind_scenarios, S, substation_substation_cable_types, land_substation_cable_types, substation_types)\n",
    "    C_f = 0\n",
    "\n",
    "    if S[v, 2] != 0 && S[v, 4] != 0\n",
    "        C_f += max(0, wind_scenarios[w][\"power_generation\"]*S[v, 1]-substation_substation_cable_types[S[v, 4]][\"rating\"])\n",
    "    else\n",
    "        C_f += max(0, wind_scenarios[w][\"power_generation\"]*S[v, 1])\n",
    "    end\n",
    "\n",
    "    for i in 1:size(S, 1)\n",
    "        if S[i, 3] != 0\n",
    "            C_f += max(0, C_f_aux(v, i, w, wind_scenarios, S, substation_substation_cable_types, land_substation_cable_types, substation_types))\n",
    "        end\n",
    "    end\n",
    "\n",
    "    return C_f\n",
    "\n",
    "end\n",
    "\n",
    "\n",
    "function C_n(w, wind_scenarios, S, substation_substation_cable_types, land_substation_cable_types, substation_types)\n",
    "    \n",
    "    C_n = 0\n",
    "\n",
    "    for i in 1:size(S, 1)\n",
    "        if S[i, 3] != 0\n",
    "            C_n += max(0, wind_scenarios[w][\"power_generation\"]*S[i, 1]-min(substation_types[S[i, 5]][\"rating\"],land_substation_cable_types[S[i, 3]][\"rating\"]))\n",
    "        end\n",
    "    end\n",
    "\n",
    "    return C_n\n",
    "end\n",
    "    \n",
    "\n",
    "function p_f(v, S, land_substation_cable_types, substation_types)\n",
    "    p_f = 0\n",
    "\n",
    "    if S[v, 3] != 0\n",
    "        p_f += land_substation_cable_types[S[v, 3]][\"probability_of_failure\"]\n",
    "\n",
    "        p_f += substation_types[S[v, 5]][\"probability_of_failure\"]\n",
    "    end\n",
    "\n",
    "    return p_f\n",
    "end\n",
    "\n",
    "\n",
    "function operational_cost_aux(S, w, wind_scenarios, general_parameters, substation_substation_cable_types, land_substation_cable_types, substation_types)\n",
    "    cost1 = 0\n",
    "    cost2 = 0\n",
    "\n",
    "    for i in 1:size(S, 1)\n",
    "        cost1 += p_f(i, S, land_substation_cable_types, substation_types)*c_c(C_f(i, w, wind_scenarios, S, substation_substation_cable_types, land_substation_cable_types, substation_types), general_parameters)\n",
    "    end\n",
    "\n",
    "    for i in 1:size(S, 1)\n",
    "        cost2 += p_f(i, S, land_substation_cable_types, substation_types)\n",
    "    end\n",
    "    cost2 = (1 - cost2)*c_c(C_n(w, wind_scenarios, S, substation_substation_cable_types, land_substation_cable_types, substation_types),general_parameters)\n",
    "\n",
    "    return cost1 + cost2\n",
    "end\n",
    "\n",
    "function operational_cost(L, S, wind_scenarios, general_parameters, substation_substation_cable_types, land_substation_cable_types, substation_types)\n",
    "    # L : vecteur liant turbines et sous-stations\n",
    "    # S : vecteur liant les sous-stations\n",
    "    # wind_scenarios : scénarios de vent\n",
    "    # general_parameters : paramètres généraux du problème\n",
    "\n",
    "    # On initialise le coût\n",
    "    cost = 0\n",
    "\n",
    "    for w in 1:length(wind_scenarios)\n",
    "        cost += wind_scenarios[w][\"probability\"]*operational_cost_aux(S, w, wind_scenarios, general_parameters, substation_substation_cable_types, land_substation_cable_types, substation_types)\n",
    "        \n",
    "    end\n",
    "\n",
    "    return cost\n",
    "end\n",
    "\n",
    "function cost(L, S, D1, D2, D3, wind_scenarios, general_parameters, substation_substation_cable_types, land_substation_cable_types, substation_types)\n",
    "    # L : vecteur liant turbines et sous-stations\n",
    "    # S : vecteur liant les sous-stations\n",
    "    # D1 : matrice des distances entre les turbines et les sous-stations\n",
    "    # D2 : matrice des distances entre les sous-stations\n",
    "    # D3 : vecteur des distances entre les sous-stations et la station terrestre\n",
    "    # wind_scenarios : scénarios de vent\n",
    "    # general_parameters : paramètres généraux du problème\n",
    "    # substation_substation_cable_types : types de câbles entre les sous-stations\n",
    "    # land_substation_cable_types : types de câbles entre les sous-stations et la station terrestre\n",
    "    # substation_types : types de sous-stations\n",
    "\n",
    "    # On initialise le coût\n",
    "    cost = 0\n",
    "\n",
    "    # On calcule le coût de la liaison entre les turbines et les sous-stations\n",
    "    cost += cost_turbines_substation(L, D1, general_parameters)\n",
    "\n",
    "    # On calcule le coût de la liaison entre les sous-stations\n",
    "    cost += cost_substation_substation(S, D2, substation_substation_cable_types)\n",
    "\n",
    "    # On calcule le coût de la liaison entre les sous-stations et la station terrestre\n",
    "    cost += cost_substation_land_substation(S, D3, land_substation_cable_types)\n",
    "\n",
    "    # On calcule le coût de construction des sous-stations\n",
    "    cost += cost_substation(S, substation_types)\n",
    "\n",
    "    # On calcule le coût opérationnel\n",
    "    cost += operational_cost(L, S, wind_scenarios, general_parameters, substation_substation_cable_types, land_substation_cable_types, substation_types)\n",
    "\n",
    "    return cost\n",
    "end"
   ]
  },
  {
   "cell_type": "code",
   "execution_count": 13,
   "metadata": {},
   "outputs": [
    {
     "data": {
      "text/plain": [
       "distance (generic function with 1 method)"
      ]
     },
     "metadata": {},
     "output_type": "display_data"
    }
   ],
   "source": [
    "#  Création des matrices de distances des turbines aux sous-stations, des sous-stations à la station terrestre et des sous-stations entre elles\n",
    "\n",
    "function distance(V_t,V_s,v_0)\n",
    "    # V_t : vecteur des turbines\n",
    "    # V_s : vecteur des sous-stations\n",
    "    # v_0 : vecteur de la station terrestre\n",
    "    \n",
    "    # On initialise le vecteur des distances\n",
    "    D1 = zeros(length(V_t),length(V_s))\n",
    "    D2 = zeros(length(V_s),length(V_s))\n",
    "    D3 = zeros(length(V_s),1)\n",
    "\n",
    "    # On calcule les distances entre les turbines et les sous-stations, et entre les sous-stations et la station terrestre et entre les sous-stations\n",
    "    for i in 1:length(V_t)\n",
    "        for j in 1:length(V_s)\n",
    "            D1[i,j] = sqrt((V_t[i][1]-V_s[j][1])^2 + (V_t[i][2]-V_s[j][2])^2)\n",
    "        end\n",
    "    end\n",
    "\n",
    "    for i in 1:length(V_s)\n",
    "        for j in 1:length(V_s)\n",
    "            D2[i,j] = sqrt((V_s[i][1]-V_s[j][1])^2 + (V_s[i][2]-V_s[j][2])^2)\n",
    "        end\n",
    "        D2[i,i] = +Inf\n",
    "    end\n",
    "\n",
    "    for i in 1:length(V_s)\n",
    "        D3[i] = sqrt((V_s[i][1]-v_0[1])^2 + (V_s[i][2]-v_0[2])^2)\n",
    "    end\n",
    "\n",
    "    return D1,D2,D3\n",
    "end"
   ]
  },
  {
   "cell_type": "code",
   "execution_count": 14,
   "metadata": {},
   "outputs": [
    {
     "data": {
      "text/plain": [
       "heuristique_1 (generic function with 1 method)"
      ]
     },
     "metadata": {},
     "output_type": "display_data"
    }
   ],
   "source": [
    "function heuristique_1(D1, D2)\n",
    "    # D1 : matrice des distances entre les turbines et les sous-stations\n",
    "    # D2 : matrice des distances entre les sous-stations\n",
    "\n",
    "    # On initialise le vecteur liant turbines et sous-stations\n",
    "    L = zeros(Int, size(D1, 1), 1)\n",
    "\n",
    "    # On initialise le vecteur des sous-stations\n",
    "    S = zeros(Int, size(D2, 1), 5)\n",
    "\n",
    "    # On emplit ce vecteur en associant à chaque turbine la sous-station la plus proche\n",
    "    for i in 1:size(D1, 1)\n",
    "        L[i] = argmin(D1[i,:])\n",
    "        S[L[i], 1] += 1\n",
    "        S[L[i], 5] = 1\n",
    "        S[L[i], 3] = 1\n",
    "    end\n",
    "\n",
    "    # On emplit ce vecteur en associant à chaque sous-station présente dans L la sous-station la plus proche\n",
    "    for i in 1:length(L)\n",
    "        if S[L[i], 2] == 0 && S[argmin(D2[L[i],:]), 2] == 0\n",
    "            S[L[i], 2] = argmin(D2[L[i],:])\n",
    "            S[S[L[i], 2], 2] = L[i]\n",
    "            S[L[i], 4] = 1  \n",
    "            S[S[L[i], 2], 4] = 1\n",
    "        end\n",
    "    end\n",
    "\n",
    "    return L,S\n",
    "end"
   ]
  },
  {
   "cell_type": "code",
   "execution_count": 15,
   "metadata": {},
   "outputs": [
    {
     "data": {
      "text/plain": [
       "5401.482138858938"
      ]
     },
     "metadata": {},
     "output_type": "display_data"
    }
   ],
   "source": [
    "# on teste l'heuristique 1\n",
    "\n",
    "D1, D2, D3 = distance(V_t, V_s, v_0)\n",
    "L,S = heuristique_1(D1, D2)\n",
    "\n",
    "cost(L, S, D1, D2, D3, wind_scenarios, general_parameters, sub_sub_cable_types, land_substation_cable_types, substation_types)"
   ]
  },
  {
   "cell_type": "code",
   "execution_count": 16,
   "metadata": {},
   "outputs": [
    {
     "data": {
      "text/plain": [
       "voisinage_substation_substation (generic function with 1 method)"
      ]
     },
     "metadata": {},
     "output_type": "display_data"
    }
   ],
   "source": [
    "# Fonctions voisinages\n",
    "# Ces fonctions sont la base de la méta-heuristique ; elles effectuent les changements de lien entre turbines et sous-stations et entre sous-stations entre elles\n",
    "\n",
    "function voisinage_turbine_substation(L, S, D1, D2, D3, wind_scenarios, general_parameters, substation_substation_cable_types, land_substation_cable_types, substation_types)\n",
    "    # L : vecteur liant turbines et sous-stations\n",
    "    # S : vecteur liant les sous-stations\n",
    "    # D1 : matrice des distances entre les turbines et les sous-stations\n",
    "    # D2 : matrice des distances entre les sous-stations\n",
    "    # D3 : vecteur des distances entre les sous-stations et la station terrestre\n",
    "\n",
    "    # On choisit aléatoirement une turbine, notée n, on la lie avec la sous-station la plus proche de celle à laquelle est elle actuellement associée\n",
    "    new = rand(1:length(L))\n",
    "\n",
    "    S1 = copy(S)\n",
    "    L1 = copy(L)\n",
    "    \n",
    "    old = L[new]\n",
    "    linked_old = S[old, 2]\n",
    "\n",
    "    # On change la liaison entre la turbine et la sous-station en choisissant la sous-station la plus proche de l'ancienne sous-station\n",
    "    #L[new] = argmin(D2[old,:])\n",
    "    L[new] = rand(1:size(S, 1))\n",
    "    S[old, 1] -= 1\n",
    "\n",
    "    # Si la sous-station n'est plus reliée à aucune turbine, on la supprime\n",
    "    if S[old, 1] == 0\n",
    "        if linked_old != 0\n",
    "            if S[L[new], 2] == 0\n",
    "                S[L[new], 2] = linked_old\n",
    "                S[linked_old, 2] = L[new]\n",
    "                S[L[new], 4] = S[linked_old, 4]\n",
    "            else\n",
    "                S[linked_old, 2] = 0\n",
    "                S[linked_old, 4] = 0\n",
    "            end\n",
    "        end\n",
    "        S[old, 2] = 0\n",
    "        S[old, 3] = 0\n",
    "        S[old, 4] = 0\n",
    "        S[old, 5] = 0\n",
    "    end\n",
    "\n",
    "    if S[L[new], 1] == 0\n",
    "        S[L[new], 5] = substation_types[end][\"id\"]\n",
    "        S[L[new], 3] = land_substation_cable_types[end][\"id\"]\n",
    "    end\n",
    "\n",
    "    S[L[new], 1] += 1\n",
    "\n",
    "    if cost(L, S, D1, D2, D3, wind_scenarios, general_parameters, substation_substation_cable_types, land_substation_cable_types, substation_types) < cost(L1, S1, D1, D2, D3, wind_scenarios, general_parameters, substation_substation_cable_types, land_substation_cable_types, substation_types)\n",
    "        return L, S\n",
    "    else\n",
    "        return L1, S1\n",
    "    end\n",
    "end\n",
    "\n",
    "function voisinage_type_cables(L, S, D1, D2, D3, wind_scenarios, general_parameters, substation_substation_cable_types, land_substation_cable_types, substation_types)\n",
    "    # L : vecteur liant turbines et sous-stations\n",
    "    # S : vecteur liant les sous-stations\n",
    "    # D1 : matrice des distances entre les turbines et les sous-stations\n",
    "    # D2 : matrice des distances entre les sous-stations\n",
    "    # D3 : vecteur des distances entre les sous-stations et la station terrestre\n",
    "\n",
    "    # On choisit aléatoirement une sous-station créée, on modifie le type de câble entre cette sous-station et la station terrestre\n",
    "    S1 = copy(S)\n",
    "    L1 = copy(L)\n",
    "    turbine = rand(1:length(L))\n",
    "\n",
    "    substation = L[turbine]\n",
    "\n",
    "    new = rand(1:length(land_substation_cable_types))\n",
    "    S[substation, 3] = land_substation_cable_types[new][\"id\"]\n",
    "\n",
    "    if cost(L, S, D1, D2, D3, wind_scenarios, general_parameters, substation_substation_cable_types, land_substation_cable_types, substation_types) < cost(L1, S1, D1, D2, D3, wind_scenarios, general_parameters, substation_substation_cable_types, land_substation_cable_types, substation_types)\n",
    "        return L, S\n",
    "    else\n",
    "        return L1, S1\n",
    "    end\n",
    "end\n",
    "\n",
    "function voisinage_type_substation(L, S, D1, D2, D3, wind_scenarios, general_parameters, substation_substation_cable_types, land_substation_cable_types, substation_types)\n",
    "    # L : vecteur liant turbines et sous-stations\n",
    "    # S : vecteur liant les sous-stations\n",
    "    # D1 : matrice des distances entre les turbines et les sous-stations\n",
    "    # D2 : matrice des distances entre les sous-stations\n",
    "    # D3 : vecteur des distances entre les sous-stations et la station terrestre\n",
    "\n",
    "    # On choisit aléatoirement une sous-station créée, on modifie le type de sous-station\n",
    "    S1 = copy(S)\n",
    "    L1 = copy(L)\n",
    "    turbine = rand(1:length(L))\n",
    "\n",
    "    substation = L[turbine]\n",
    "\n",
    "    new = rand(1:length(substation_types))\n",
    "    S[substation, 5] = substation_types[new][\"id\"]\n",
    "\n",
    "    if cost(L, S, D1, D2, D3, wind_scenarios, general_parameters, substation_substation_cable_types, land_substation_cable_types, substation_types) < cost(L1, S1, D1, D2, D3, wind_scenarios, general_parameters, substation_substation_cable_types, land_substation_cable_types, substation_types)\n",
    "        return L, S\n",
    "    else\n",
    "        return L1, S1\n",
    "    end\n",
    "end\n",
    "\n",
    "    \n",
    "\n",
    "function voisinage_substation_substation(L, S, D1, D2, D3, wind_scenarios, general_parameters, substation_substation_cable_types, land_substation_cable_types, substation_types)\n",
    "    # L : vecteur liant turbines et sous-stations\n",
    "    # S : vecteur liant les sous-stations\n",
    "    # D1 : matrice des distances entre les turbines et les sous-stations\n",
    "    # D2 : matrice des distances entre les sous-stations\n",
    "    # D3 : vecteur des distances entre les sous-stations et la station terrestre\n",
    "\n",
    "    # On choisit aléatoirement une sous-station, notée n, on la lie avec la sous-station la plus proche de celle à laquelle est elle actuellement associée\n",
    "    \n",
    "    L1 = copy(L)  # Use copy to create an independent copy of L\n",
    "    S1 = copy(S)  # Use copy to create an independent copy of S\n",
    "    substation = rand(1:size(S, 1))\n",
    "\n",
    "    old = S[substation, 2]\n",
    "\n",
    "    # Check if the substation is currently linked to a turbine\n",
    "    if old != 0\n",
    "        # Find the new substation linked to the nearest turbine (excluding the current substation)\n",
    "        new = L[argmin(D2[old, filter(x -> x != substation, L)])]\n",
    "\n",
    "        # Update connections based on the new assignment\n",
    "        if S[new, 2] != 0\n",
    "            S[S[new, 2], 2] = old\n",
    "            S[S[new, 2], 4] = S[old, 4]\n",
    "            S[old, 2] = S[new, 2]\n",
    "        else\n",
    "            S[old, 4] = 0\n",
    "            S[old, 2] = 0\n",
    "        end\n",
    "\n",
    "        S[new, 2] = substation\n",
    "        S[substation, 2] = new\n",
    "\n",
    "        S[new, 4] = substation_substation_cable_types[end][\"id\"]\n",
    "        S[substation, 4] = substation_substation_cable_types[end][\"id\"]\n",
    "    else\n",
    "        # Find the new substation linked to the nearest turbine\n",
    "        new = L[argmin(D2[substation, L])]\n",
    "\n",
    "        # Update connections based on the new assignment\n",
    "        if S[new, 2] != 0\n",
    "            S[S[new, 2], 4] = 0\n",
    "            S[S[new, 2], 2] = 0\n",
    "        end\n",
    "\n",
    "        S[substation, 2] = new\n",
    "        S[new, 2] = substation\n",
    "        S[substation, 4] = substation_substation_cable_types[end][\"id\"]\n",
    "        S[new, 4] = substation_substation_cable_types[end][\"id\"]\n",
    "    end\n",
    "\n",
    "    if cost(L, S, D1, D2, D3, wind_scenarios, general_parameters, substation_substation_cable_types, land_substation_cable_types, substation_types) > cost(L1, S1, D1, D2, D3, wind_scenarios, general_parameters, substation_substation_cable_types, land_substation_cable_types, substation_types)\n",
    "        return L, S\n",
    "    else\n",
    "        return L1, S1\n",
    "    end\n",
    "end\n"
   ]
  },
  {
   "cell_type": "code",
   "execution_count": 17,
   "metadata": {},
   "outputs": [
    {
     "name": "stdout",
     "output_type": "stream",
     "text": [
      "[0 0 0 0 0; 0 0 0 0 0; 20 6 1 1 1; 0 0 0 0 0; 0 0 0 0 0; 15 3 1 1 1; 0 9 0 18 0; 0 0 0 0 0; 11 7 1 18 1; 0 0 0 0 0; 0 0 0 0 0; 19 0 1 0 1; 0 0 0 0 0; 0 0 0 0 0; 10 0 1 0 1]"
     ]
    }
   ],
   "source": [
    "# test des fonctions voisinages\n",
    "\n",
    "L,S = voisinage_turbine_substation(L, S, D1, D2, D3, wind_scenarios, general_parameters, sub_sub_cable_types, land_substation_cable_types, substation_types)\n",
    "L, S = voisinage_substation_substation(L, S, D1, D2, D3, wind_scenarios, general_parameters, sub_sub_cable_types, land_substation_cable_types, substation_types)\n",
    "print(S)"
   ]
  },
  {
   "cell_type": "code",
   "execution_count": 18,
   "metadata": {},
   "outputs": [
    {
     "data": {
      "text/plain": [
       "metaheuristique (generic function with 1 method)"
      ]
     },
     "metadata": {},
     "output_type": "display_data"
    }
   ],
   "source": [
    "# Métaheuristique\n",
    "\n",
    "function metaheuristique(wind_scenarios, general_parameters, substation_substation_cable_types, land_substation_cable_types, substation_types)\n",
    "    D1, D2, D3 = distance(V_t,V_s,v_0)\n",
    "    L, S = heuristique_1(D1, D2)\n",
    "    costs = []\n",
    "    for i in 1:1000\n",
    "        if rand() < 0.3\n",
    "            L, S = voisinage_turbine_substation(L, S, D1, D2, D3, wind_scenarios, general_parameters, substation_substation_cable_types, land_substation_cable_types, substation_types)\n",
    "        else\n",
    "            if rand() < 0.5\n",
    "                L, S = voisinage_type_cables(L, S, D1, D2, D3, wind_scenarios, general_parameters, substation_substation_cable_types, land_substation_cable_types, substation_types)\n",
    "            else\n",
    "                L, S = voisinage_type_substation(L, S, D1, D2, D3, wind_scenarios, general_parameters, substation_substation_cable_types, land_substation_cable_types, substation_types)\n",
    "            end\n",
    "        end\n",
    "        new_cost = cost(L, S, D1, D2, D3, wind_scenarios, general_parameters, substation_substation_cable_types, land_substation_cable_types, substation_types)\n",
    "        push!(costs, new_cost)\n",
    "    end\n",
    "    final_cost = cost(L, S, D1, D2, D3, wind_scenarios, general_parameters, substation_substation_cable_types, land_substation_cable_types, substation_types)\n",
    "    return L, S, costs, final_cost\n",
    "end"
   ]
  },
  {
   "cell_type": "code",
   "execution_count": 19,
   "metadata": {},
   "outputs": [
    {
     "data": {
      "image/png": "[encoded data removed]",
      "image/svg+xml": [
       "<?xml version=\"1.0\" encoding=\"utf-8\"?>\n",
       "<svg xmlns=\"http://www.w3.org/2000/svg\" xmlns:xlink=\"http://www.w3.org/1999/xlink\" width=\"600\" height=\"400\" viewBox=\"0 0 2400 1600\">\n",
       "<defs>\n",
       "  <clipPath id=\"clip980\">\n",
       "    <rect x=\"0\" y=\"0\" width=\"2400\" height=\"1600\"/>\n",
       "  </clipPath>\n",
       "</defs>\n",
       "<path clip-path=\"url(#clip980)\" d=\"M0 1600 L2400 1600 L2400 0 L0 0  Z\" fill=\"#ffffff\" fill-rule=\"evenodd\" fill-opacity=\"1\"/>\n",
       "<defs>\n",
       "  <clipPath id=\"clip981\">\n",
       "    <rect x=\"480\" y=\"0\" width=\"1681\" height=\"1600\"/>\n",
       "  </clipPath>\n",
       "</defs>\n",
       "<path clip-path=\"url(#clip980)\" d=\"M265.445 1423.18 L2352.76 1423.18 L2352.76 123.472 L265.445 123.472  Z\" fill=\"#ffffff\" fill-rule=\"evenodd\" fill-opacity=\"1\"/>\n",
       "<defs>\n",
       "  <clipPath id=\"clip982\">\n",
       "    <rect x=\"265\" y=\"123\" width=\"2088\" height=\"1301\"/>\n",
       "  </clipPath>\n",
       "</defs>\n",
       "<polyline clip-path=\"url(#clip982)\" style=\"stroke:#000000; stroke-linecap:round; stroke-linejoin:round; stroke-width:2; stroke-opacity:0.1; fill:none\" points=\"322.548,1423.18 322.548,123.472 \"/>\n",
       "<polyline clip-path=\"url(#clip982)\" style=\"stroke:#000000; stroke-linecap:round; stroke-linejoin:round; stroke-width:2; stroke-opacity:0.1; fill:none\" points=\"815.332,1423.18 815.332,123.472 \"/>\n",
       "<polyline clip-path=\"url(#clip982)\" style=\"stroke:#000000; stroke-linecap:round; stroke-linejoin:round; stroke-width:2; stroke-opacity:0.1; fill:none\" points=\"1308.11,1423.18 1308.11,123.472 \"/>\n",
       "<polyline clip-path=\"url(#clip982)\" style=\"stroke:#000000; stroke-linecap:round; stroke-linejoin:round; stroke-width:2; stroke-opacity:0.1; fill:none\" points=\"1800.9,1423.18 1800.9,123.472 \"/>\n",
       "<polyline clip-path=\"url(#clip982)\" style=\"stroke:#000000; stroke-linecap:round; stroke-linejoin:round; stroke-width:2; stroke-opacity:0.1; fill:none\" points=\"2293.68,1423.18 2293.68,123.472 \"/>\n",
       "<polyline clip-path=\"url(#clip980)\" style=\"stroke:#000000; stroke-linecap:round; stroke-linejoin:round; stroke-width:4; stroke-opacity:1; fill:none\" points=\"265.445,1423.18 2352.76,1423.18 \"/>\n",
       "<polyline clip-path=\"url(#clip980)\" style=\"stroke:#000000; stroke-linecap:round; stroke-linejoin:round; stroke-width:4; stroke-opacity:1; fill:none\" points=\"322.548,1423.18 322.548,1404.28 \"/>\n",
       "<polyline clip-path=\"url(#clip980)\" style=\"stroke:#000000; stroke-linecap:round; stroke-linejoin:round; stroke-width:4; stroke-opacity:1; fill:none\" points=\"815.332,1423.18 815.332,1404.28 \"/>\n",
       "<polyline clip-path=\"url(#clip980)\" style=\"stroke:#000000; stroke-linecap:round; stroke-linejoin:round; stroke-width:4; stroke-opacity:1; fill:none\" points=\"1308.11,1423.18 1308.11,1404.28 \"/>\n",
       "<polyline clip-path=\"url(#clip980)\" style=\"stroke:#000000; stroke-linecap:round; stroke-linejoin:round; stroke-width:4; stroke-opacity:1; fill:none\" points=\"1800.9,1423.18 1800.9,1404.28 \"/>\n",
       "<polyline clip-path=\"url(#clip980)\" style=\"stroke:#000000; stroke-linecap:round; stroke-linejoin:round; stroke-width:4; stroke-opacity:1; fill:none\" points=\"2293.68,1423.18 2293.68,1404.28 \"/>\n",
       "<path clip-path=\"url(#clip980)\" d=\"M322.548 1454.1 Q318.937 1454.1 317.109 1457.66 Q315.303 1461.2 315.303 1468.33 Q315.303 1475.44 317.109 1479.01 Q318.937 1482.55 322.548 1482.55 Q326.183 1482.55 327.988 1479.01 Q329.817 1475.44 329.817 1468.33 Q329.817 1461.2 327.988 1457.66 Q326.183 1454.1 322.548 1454.1 M322.548 1450.39 Q328.359 1450.39 331.414 1455 Q334.493 1459.58 334.493 1468.33 Q334.493 1477.06 331.414 1481.67 Q328.359 1486.25 322.548 1486.25 Q316.738 1486.25 313.66 1481.67 Q310.604 1477.06 310.604 1468.33 Q310.604 1459.58 313.66 1455 Q316.738 1450.39 322.548 1450.39 Z\" fill=\"#000000\" fill-rule=\"nonzero\" fill-opacity=\"1\" /><path clip-path=\"url(#clip980)\" d=\"M779.024 1481.64 L795.343 1481.64 L795.343 1485.58 L773.399 1485.58 L773.399 1481.64 Q776.061 1478.89 780.644 1474.26 Q785.251 1469.61 786.431 1468.27 Q788.677 1465.74 789.556 1464.01 Q790.459 1462.25 790.459 1460.56 Q790.459 1457.8 788.515 1456.07 Q786.593 1454.33 783.491 1454.33 Q781.292 1454.33 778.839 1455.09 Q776.408 1455.86 773.63 1457.41 L773.63 1452.69 Q776.454 1451.55 778.908 1450.97 Q781.362 1450.39 783.399 1450.39 Q788.769 1450.39 791.964 1453.08 Q795.158 1455.77 795.158 1460.26 Q795.158 1462.39 794.348 1464.31 Q793.561 1466.2 791.454 1468.8 Q790.876 1469.47 787.774 1472.69 Q784.672 1475.88 779.024 1481.64 Z\" fill=\"#000000\" fill-rule=\"nonzero\" fill-opacity=\"1\" /><path clip-path=\"url(#clip980)\" d=\"M805.204 1451.02 L823.561 1451.02 L823.561 1454.96 L809.487 1454.96 L809.487 1463.43 Q810.505 1463.08 811.524 1462.92 Q812.542 1462.73 813.561 1462.73 Q819.348 1462.73 822.727 1465.9 Q826.107 1469.08 826.107 1474.49 Q826.107 1480.07 822.635 1483.17 Q819.163 1486.25 812.843 1486.25 Q810.667 1486.25 808.399 1485.88 Q806.153 1485.51 803.746 1484.77 L803.746 1480.07 Q805.829 1481.2 808.052 1481.76 Q810.274 1482.32 812.751 1482.32 Q816.755 1482.32 819.093 1480.21 Q821.431 1478.1 821.431 1474.49 Q821.431 1470.88 819.093 1468.77 Q816.755 1466.67 812.751 1466.67 Q810.876 1466.67 809.001 1467.08 Q807.149 1467.5 805.204 1468.38 L805.204 1451.02 Z\" fill=\"#000000\" fill-rule=\"nonzero\" fill-opacity=\"1\" /><path clip-path=\"url(#clip980)\" d=\"M845.32 1454.1 Q841.709 1454.1 839.88 1457.66 Q838.075 1461.2 838.075 1468.33 Q838.075 1475.44 839.88 1479.01 Q841.709 1482.55 845.32 1482.55 Q848.954 1482.55 850.76 1479.01 Q852.588 1475.44 852.588 1468.33 Q852.588 1461.2 850.76 1457.66 Q848.954 1454.1 845.32 1454.1 M845.32 1450.39 Q851.13 1450.39 854.186 1455 Q857.264 1459.58 857.264 1468.33 Q857.264 1477.06 854.186 1481.67 Q851.13 1486.25 845.32 1486.25 Q839.51 1486.25 836.431 1481.67 Q833.375 1477.06 833.375 1468.33 Q833.375 1459.58 836.431 1455 Q839.51 1450.39 845.32 1450.39 Z\" fill=\"#000000\" fill-rule=\"nonzero\" fill-opacity=\"1\" /><path clip-path=\"url(#clip980)\" d=\"M1267.73 1451.02 L1286.09 1451.02 L1286.09 1454.96 L1272.02 1454.96 L1272.02 1463.43 Q1273.03 1463.08 1274.05 1462.92 Q1275.07 1462.73 1276.09 1462.73 Q1281.88 1462.73 1285.26 1465.9 Q1288.64 1469.08 1288.64 1474.49 Q1288.64 1480.07 1285.16 1483.17 Q1281.69 1486.25 1275.37 1486.25 Q1273.2 1486.25 1270.93 1485.88 Q1268.68 1485.51 1266.27 1484.77 L1266.27 1480.07 Q1268.36 1481.2 1270.58 1481.76 Q1272.8 1482.32 1275.28 1482.32 Q1279.28 1482.32 1281.62 1480.21 Q1283.96 1478.1 1283.96 1474.49 Q1283.96 1470.88 1281.62 1468.77 Q1279.28 1466.67 1275.28 1466.67 Q1273.4 1466.67 1271.53 1467.08 Q1269.68 1467.5 1267.73 1468.38 L1267.73 1451.02 Z\" fill=\"#000000\" fill-rule=\"nonzero\" fill-opacity=\"1\" /><path clip-path=\"url(#clip980)\" d=\"M1307.85 1454.1 Q1304.24 1454.1 1302.41 1457.66 Q1300.6 1461.2 1300.6 1468.33 Q1300.6 1475.44 1302.41 1479.01 Q1304.24 1482.55 1307.85 1482.55 Q1311.48 1482.55 1313.29 1479.01 Q1315.12 1475.44 1315.12 1468.33 Q1315.12 1461.2 1313.29 1457.66 Q1311.48 1454.1 1307.85 1454.1 M1307.85 1450.39 Q1313.66 1450.39 1316.71 1455 Q1319.79 1459.58 1319.79 1468.33 Q1319.79 1477.06 1316.71 1481.67 Q1313.66 1486.25 1307.85 1486.25 Q1302.04 1486.25 1298.96 1481.67 Q1295.9 1477.06 1295.9 1468.33 Q1295.9 1459.58 1298.96 1455 Q1302.04 1450.39 1307.85 1450.39 Z\" fill=\"#000000\" fill-rule=\"nonzero\" fill-opacity=\"1\" /><path clip-path=\"url(#clip980)\" d=\"M1338.01 1454.1 Q1334.4 1454.1 1332.57 1457.66 Q1330.77 1461.2 1330.77 1468.33 Q1330.77 1475.44 1332.57 1479.01 Q1334.4 1482.55 1338.01 1482.55 Q1341.64 1482.55 1343.45 1479.01 Q1345.28 1475.44 1345.28 1468.33 Q1345.28 1461.2 1343.45 1457.66 Q1341.64 1454.1 1338.01 1454.1 M1338.01 1450.39 Q1343.82 1450.39 1346.88 1455 Q1349.95 1459.58 1349.95 1468.33 Q1349.95 1477.06 1346.88 1481.67 Q1343.82 1486.25 1338.01 1486.25 Q1332.2 1486.25 1329.12 1481.67 Q1326.07 1477.06 1326.07 1468.33 Q1326.07 1459.58 1329.12 1455 Q1332.2 1450.39 1338.01 1450.39 Z\" fill=\"#000000\" fill-rule=\"nonzero\" fill-opacity=\"1\" /><path clip-path=\"url(#clip980)\" d=\"M1759.17 1451.02 L1781.4 1451.02 L1781.4 1453.01 L1768.85 1485.58 L1763.97 1485.58 L1775.77 1454.96 L1759.17 1454.96 L1759.17 1451.02 Z\" fill=\"#000000\" fill-rule=\"nonzero\" fill-opacity=\"1\" /><path clip-path=\"url(#clip980)\" d=\"M1790.56 1451.02 L1808.92 1451.02 L1808.92 1454.96 L1794.84 1454.96 L1794.84 1463.43 Q1795.86 1463.08 1796.88 1462.92 Q1797.9 1462.73 1798.92 1462.73 Q1804.71 1462.73 1808.09 1465.9 Q1811.46 1469.08 1811.46 1474.49 Q1811.46 1480.07 1807.99 1483.17 Q1804.52 1486.25 1798.2 1486.25 Q1796.03 1486.25 1793.76 1485.88 Q1791.51 1485.51 1789.1 1484.77 L1789.1 1480.07 Q1791.19 1481.2 1793.41 1481.76 Q1795.63 1482.32 1798.11 1482.32 Q1802.11 1482.32 1804.45 1480.21 Q1806.79 1478.1 1806.79 1474.49 Q1806.79 1470.88 1804.45 1468.77 Q1802.11 1466.67 1798.11 1466.67 Q1796.23 1466.67 1794.36 1467.08 Q1792.51 1467.5 1790.56 1468.38 L1790.56 1451.02 Z\" fill=\"#000000\" fill-rule=\"nonzero\" fill-opacity=\"1\" /><path clip-path=\"url(#clip980)\" d=\"M1830.68 1454.1 Q1827.07 1454.1 1825.24 1457.66 Q1823.43 1461.2 1823.43 1468.33 Q1823.43 1475.44 1825.24 1479.01 Q1827.07 1482.55 1830.68 1482.55 Q1834.31 1482.55 1836.12 1479.01 Q1837.95 1475.44 1837.95 1468.33 Q1837.95 1461.2 1836.12 1457.66 Q1834.31 1454.1 1830.68 1454.1 M1830.68 1450.39 Q1836.49 1450.39 1839.54 1455 Q1842.62 1459.58 1842.62 1468.33 Q1842.62 1477.06 1839.54 1481.67 Q1836.49 1486.25 1830.68 1486.25 Q1824.87 1486.25 1821.79 1481.67 Q1818.73 1477.06 1818.73 1468.33 Q1818.73 1459.58 1821.79 1455 Q1824.87 1450.39 1830.68 1450.39 Z\" fill=\"#000000\" fill-rule=\"nonzero\" fill-opacity=\"1\" /><path clip-path=\"url(#clip980)\" d=\"M2238.21 1481.64 L2245.85 1481.64 L2245.85 1455.28 L2237.54 1456.95 L2237.54 1452.69 L2245.8 1451.02 L2250.48 1451.02 L2250.48 1481.64 L2258.11 1481.64 L2258.11 1485.58 L2238.21 1485.58 L2238.21 1481.64 Z\" fill=\"#000000\" fill-rule=\"nonzero\" fill-opacity=\"1\" /><path clip-path=\"url(#clip980)\" d=\"M2277.56 1454.1 Q2273.95 1454.1 2272.12 1457.66 Q2270.31 1461.2 2270.31 1468.33 Q2270.31 1475.44 2272.12 1479.01 Q2273.95 1482.55 2277.56 1482.55 Q2281.19 1482.55 2283 1479.01 Q2284.83 1475.44 2284.83 1468.33 Q2284.83 1461.2 2283 1457.66 Q2281.19 1454.1 2277.56 1454.1 M2277.56 1450.39 Q2283.37 1450.39 2286.42 1455 Q2289.5 1459.58 2289.5 1468.33 Q2289.5 1477.06 2286.42 1481.67 Q2283.37 1486.25 2277.56 1486.25 Q2271.75 1486.25 2268.67 1481.67 Q2265.61 1477.06 2265.61 1468.33 Q2265.61 1459.58 2268.67 1455 Q2271.75 1450.39 2277.56 1450.39 Z\" fill=\"#000000\" fill-rule=\"nonzero\" fill-opacity=\"1\" /><path clip-path=\"url(#clip980)\" d=\"M2307.72 1454.1 Q2304.11 1454.1 2302.28 1457.66 Q2300.48 1461.2 2300.48 1468.33 Q2300.48 1475.44 2302.28 1479.01 Q2304.11 1482.55 2307.72 1482.55 Q2311.35 1482.55 2313.16 1479.01 Q2314.99 1475.44 2314.99 1468.33 Q2314.99 1461.2 2313.16 1457.66 Q2311.35 1454.1 2307.72 1454.1 M2307.72 1450.39 Q2313.53 1450.39 2316.59 1455 Q2319.66 1459.58 2319.66 1468.33 Q2319.66 1477.06 2316.59 1481.67 Q2313.53 1486.25 2307.72 1486.25 Q2301.91 1486.25 2298.83 1481.67 Q2295.78 1477.06 2295.78 1468.33 Q2295.78 1459.58 2298.83 1455 Q2301.91 1450.39 2307.72 1450.39 Z\" fill=\"#000000\" fill-rule=\"nonzero\" fill-opacity=\"1\" /><path clip-path=\"url(#clip980)\" d=\"M2337.88 1454.1 Q2334.27 1454.1 2332.44 1457.66 Q2330.64 1461.2 2330.64 1468.33 Q2330.64 1475.44 2332.44 1479.01 Q2334.27 1482.55 2337.88 1482.55 Q2341.52 1482.55 2343.32 1479.01 Q2345.15 1475.44 2345.15 1468.33 Q2345.15 1461.2 2343.32 1457.66 Q2341.52 1454.1 2337.88 1454.1 M2337.88 1450.39 Q2343.69 1450.39 2346.75 1455 Q2349.83 1459.58 2349.83 1468.33 Q2349.83 1477.06 2346.75 1481.67 Q2343.69 1486.25 2337.88 1486.25 Q2332.07 1486.25 2328.99 1481.67 Q2325.94 1477.06 2325.94 1468.33 Q2325.94 1459.58 2328.99 1455 Q2332.07 1450.39 2337.88 1450.39 Z\" fill=\"#000000\" fill-rule=\"nonzero\" fill-opacity=\"1\" /><path clip-path=\"url(#clip980)\" d=\"M1158.66 1520.52 L1165.09 1520.52 L1165.09 1568.04 L1158.66 1568.04 L1158.66 1520.52 Z\" fill=\"#000000\" fill-rule=\"nonzero\" fill-opacity=\"1\" /><path clip-path=\"url(#clip980)\" d=\"M1183.43 1522.27 L1183.43 1532.4 L1195.49 1532.4 L1195.49 1536.95 L1183.43 1536.95 L1183.43 1556.3 Q1183.43 1560.66 1184.6 1561.9 Q1185.81 1563.14 1189.47 1563.14 L1195.49 1563.14 L1195.49 1568.04 L1189.47 1568.04 Q1182.69 1568.04 1180.12 1565.53 Q1177.54 1562.98 1177.54 1556.3 L1177.54 1536.95 L1173.24 1536.95 L1173.24 1532.4 L1177.54 1532.4 L1177.54 1522.27 L1183.43 1522.27 Z\" fill=\"#000000\" fill-rule=\"nonzero\" fill-opacity=\"1\" /><path clip-path=\"url(#clip980)\" d=\"M1233.68 1548.76 L1233.68 1551.62 L1206.76 1551.62 Q1207.14 1557.67 1210.38 1560.85 Q1213.66 1564 1219.49 1564 Q1222.86 1564 1226.01 1563.17 Q1229.19 1562.35 1232.31 1560.69 L1232.31 1566.23 Q1229.16 1567.57 1225.85 1568.27 Q1222.54 1568.97 1219.14 1568.97 Q1210.61 1568.97 1205.61 1564 Q1200.64 1559.04 1200.64 1550.57 Q1200.64 1541.82 1205.36 1536.69 Q1210.1 1531.54 1218.12 1531.54 Q1225.31 1531.54 1229.48 1536.18 Q1233.68 1540.8 1233.68 1548.76 M1227.83 1547.04 Q1227.76 1542.23 1225.12 1539.37 Q1222.51 1536.5 1218.18 1536.5 Q1213.28 1536.5 1210.32 1539.27 Q1207.39 1542.04 1206.95 1547.07 L1227.83 1547.04 M1222.19 1515.91 L1228.53 1515.91 L1218.15 1527.88 L1213.28 1527.88 L1222.19 1515.91 Z\" fill=\"#000000\" fill-rule=\"nonzero\" fill-opacity=\"1\" /><path clip-path=\"url(#clip980)\" d=\"M1263.95 1537.87 Q1262.96 1537.3 1261.79 1537.04 Q1260.64 1536.76 1259.24 1536.76 Q1254.28 1536.76 1251.6 1540 Q1248.96 1543.22 1248.96 1549.27 L1248.96 1568.04 L1243.07 1568.04 L1243.07 1532.4 L1248.96 1532.4 L1248.96 1537.93 Q1250.81 1534.69 1253.77 1533.13 Q1256.73 1531.54 1260.96 1531.54 Q1261.56 1531.54 1262.3 1531.63 Q1263.03 1531.7 1263.92 1531.85 L1263.95 1537.87 Z\" fill=\"#000000\" fill-rule=\"nonzero\" fill-opacity=\"1\" /><path clip-path=\"url(#clip980)\" d=\"M1286.3 1550.12 Q1279.2 1550.12 1276.46 1551.75 Q1273.72 1553.37 1273.72 1557.29 Q1273.72 1560.4 1275.76 1562.25 Q1277.83 1564.07 1281.36 1564.07 Q1286.23 1564.07 1289.16 1560.63 Q1292.12 1557.16 1292.12 1551.43 L1292.12 1550.12 L1286.3 1550.12 M1297.98 1547.71 L1297.98 1568.04 L1292.12 1568.04 L1292.12 1562.63 Q1290.11 1565.88 1287.12 1567.44 Q1284.13 1568.97 1279.8 1568.97 Q1274.33 1568.97 1271.08 1565.91 Q1267.87 1562.82 1267.87 1557.67 Q1267.87 1551.65 1271.88 1548.6 Q1275.92 1545.54 1283.91 1545.54 L1292.12 1545.54 L1292.12 1544.97 Q1292.12 1540.93 1289.45 1538.73 Q1286.8 1536.5 1282 1536.5 Q1278.94 1536.5 1276.05 1537.23 Q1273.15 1537.97 1270.48 1539.43 L1270.48 1534.02 Q1273.69 1532.78 1276.71 1532.17 Q1279.74 1531.54 1282.6 1531.54 Q1290.34 1531.54 1294.16 1535.55 Q1297.98 1539.56 1297.98 1547.71 Z\" fill=\"#000000\" fill-rule=\"nonzero\" fill-opacity=\"1\" /><path clip-path=\"url(#clip980)\" d=\"M1315.83 1522.27 L1315.83 1532.4 L1327.9 1532.4 L1327.9 1536.95 L1315.83 1536.95 L1315.83 1556.3 Q1315.83 1560.66 1317.01 1561.9 Q1318.22 1563.14 1321.88 1563.14 L1327.9 1563.14 L1327.9 1568.04 L1321.88 1568.04 Q1315.1 1568.04 1312.52 1565.53 Q1309.94 1562.98 1309.94 1556.3 L1309.94 1536.95 L1305.65 1536.95 L1305.65 1532.4 L1309.94 1532.4 L1309.94 1522.27 L1315.83 1522.27 Z\" fill=\"#000000\" fill-rule=\"nonzero\" fill-opacity=\"1\" /><path clip-path=\"url(#clip980)\" d=\"M1335.6 1532.4 L1341.45 1532.4 L1341.45 1568.04 L1335.6 1568.04 L1335.6 1532.4 M1335.6 1518.52 L1341.45 1518.52 L1341.45 1525.93 L1335.6 1525.93 L1335.6 1518.52 Z\" fill=\"#000000\" fill-rule=\"nonzero\" fill-opacity=\"1\" /><path clip-path=\"url(#clip980)\" d=\"M1367.52 1536.5 Q1362.81 1536.5 1360.07 1540.19 Q1357.34 1543.85 1357.34 1550.25 Q1357.34 1556.65 1360.04 1560.34 Q1362.78 1564 1367.52 1564 Q1372.2 1564 1374.94 1560.31 Q1377.67 1556.62 1377.67 1550.25 Q1377.67 1543.92 1374.94 1540.23 Q1372.2 1536.5 1367.52 1536.5 M1367.52 1531.54 Q1375.16 1531.54 1379.52 1536.5 Q1383.88 1541.47 1383.88 1550.25 Q1383.88 1559 1379.52 1564 Q1375.16 1568.97 1367.52 1568.97 Q1359.85 1568.97 1355.49 1564 Q1351.16 1559 1351.16 1550.25 Q1351.16 1541.47 1355.49 1536.5 Q1359.85 1531.54 1367.52 1531.54 Z\" fill=\"#000000\" fill-rule=\"nonzero\" fill-opacity=\"1\" /><path clip-path=\"url(#clip980)\" d=\"M1423.22 1546.53 L1423.22 1568.04 L1417.37 1568.04 L1417.37 1546.72 Q1417.37 1541.66 1415.39 1539.14 Q1413.42 1536.63 1409.47 1536.63 Q1404.73 1536.63 1401.99 1539.65 Q1399.25 1542.68 1399.25 1547.9 L1399.25 1568.04 L1393.37 1568.04 L1393.37 1532.4 L1399.25 1532.4 L1399.25 1537.93 Q1401.36 1534.72 1404.19 1533.13 Q1407.05 1531.54 1410.78 1531.54 Q1416.92 1531.54 1420.07 1535.36 Q1423.22 1539.14 1423.22 1546.53 Z\" fill=\"#000000\" fill-rule=\"nonzero\" fill-opacity=\"1\" /><path clip-path=\"url(#clip980)\" d=\"M1457.63 1533.45 L1457.63 1538.98 Q1455.15 1537.71 1452.47 1537.07 Q1449.8 1536.44 1446.93 1536.44 Q1442.57 1536.44 1440.38 1537.77 Q1438.21 1539.11 1438.21 1541.79 Q1438.21 1543.82 1439.77 1545 Q1441.33 1546.15 1446.04 1547.2 L1448.05 1547.64 Q1454.29 1548.98 1456.9 1551.43 Q1459.54 1553.85 1459.54 1558.21 Q1459.54 1563.17 1455.59 1566.07 Q1451.68 1568.97 1444.8 1568.97 Q1441.94 1568.97 1438.82 1568.39 Q1435.73 1567.85 1432.29 1566.74 L1432.29 1560.69 Q1435.54 1562.38 1438.69 1563.24 Q1441.84 1564.07 1444.93 1564.07 Q1449.07 1564.07 1451.29 1562.66 Q1453.52 1561.23 1453.52 1558.65 Q1453.52 1556.27 1451.9 1554.99 Q1450.31 1553.72 1444.86 1552.54 L1442.83 1552.07 Q1437.39 1550.92 1434.97 1548.56 Q1432.55 1546.18 1432.55 1542.04 Q1432.55 1537.01 1436.11 1534.27 Q1439.68 1531.54 1446.23 1531.54 Q1449.48 1531.54 1452.34 1532.01 Q1455.21 1532.49 1457.63 1533.45 Z\" fill=\"#000000\" fill-rule=\"nonzero\" fill-opacity=\"1\" /><polyline clip-path=\"url(#clip982)\" style=\"stroke:#000000; stroke-linecap:round; stroke-linejoin:round; stroke-width:2; stroke-opacity:0.1; fill:none\" points=\"265.445,1308.35 2352.76,1308.35 \"/>\n",
       "<polyline clip-path=\"url(#clip982)\" style=\"stroke:#000000; stroke-linecap:round; stroke-linejoin:round; stroke-width:2; stroke-opacity:0.1; fill:none\" points=\"265.445,1006.46 2352.76,1006.46 \"/>\n",
       "<polyline clip-path=\"url(#clip982)\" style=\"stroke:#000000; stroke-linecap:round; stroke-linejoin:round; stroke-width:2; stroke-opacity:0.1; fill:none\" points=\"265.445,704.561 2352.76,704.561 \"/>\n",
       "<polyline clip-path=\"url(#clip982)\" style=\"stroke:#000000; stroke-linecap:round; stroke-linejoin:round; stroke-width:2; stroke-opacity:0.1; fill:none\" points=\"265.445,402.667 2352.76,402.667 \"/>\n",
       "<polyline clip-path=\"url(#clip980)\" style=\"stroke:#000000; stroke-linecap:round; stroke-linejoin:round; stroke-width:4; stroke-opacity:1; fill:none\" points=\"265.445,1423.18 265.445,123.472 \"/>\n",
       "<polyline clip-path=\"url(#clip980)\" style=\"stroke:#000000; stroke-linecap:round; stroke-linejoin:round; stroke-width:4; stroke-opacity:1; fill:none\" points=\"265.445,1308.35 284.342,1308.35 \"/>\n",
       "<polyline clip-path=\"url(#clip980)\" style=\"stroke:#000000; stroke-linecap:round; stroke-linejoin:round; stroke-width:4; stroke-opacity:1; fill:none\" points=\"265.445,1006.46 284.342,1006.46 \"/>\n",
       "<polyline clip-path=\"url(#clip980)\" style=\"stroke:#000000; stroke-linecap:round; stroke-linejoin:round; stroke-width:4; stroke-opacity:1; fill:none\" points=\"265.445,704.561 284.342,704.561 \"/>\n",
       "<polyline clip-path=\"url(#clip980)\" style=\"stroke:#000000; stroke-linecap:round; stroke-linejoin:round; stroke-width:4; stroke-opacity:1; fill:none\" points=\"265.445,402.667 284.342,402.667 \"/>\n",
       "<path clip-path=\"url(#clip980)\" d=\"M131.181 1307 Q134.538 1307.71 136.413 1309.98 Q138.311 1312.25 138.311 1315.58 Q138.311 1320.7 134.792 1323.5 Q131.274 1326.3 124.793 1326.3 Q122.617 1326.3 120.302 1325.86 Q118.01 1325.44 115.556 1324.59 L115.556 1320.07 Q117.501 1321.21 119.816 1321.79 Q122.13 1322.37 124.654 1322.37 Q129.052 1322.37 131.343 1320.63 Q133.658 1318.89 133.658 1315.58 Q133.658 1312.53 131.505 1310.82 Q129.376 1309.08 125.556 1309.08 L121.529 1309.08 L121.529 1305.24 L125.742 1305.24 Q129.191 1305.24 131.019 1303.87 Q132.848 1302.48 132.848 1299.89 Q132.848 1297.23 130.95 1295.82 Q129.075 1294.38 125.556 1294.38 Q123.635 1294.38 121.436 1294.8 Q119.237 1295.21 116.598 1296.09 L116.598 1291.93 Q119.26 1291.19 121.575 1290.82 Q123.913 1290.45 125.973 1290.45 Q131.297 1290.45 134.399 1292.88 Q137.501 1295.28 137.501 1299.4 Q137.501 1302.27 135.857 1304.26 Q134.214 1306.23 131.181 1307 Z\" fill=\"#000000\" fill-rule=\"nonzero\" fill-opacity=\"1\" /><path clip-path=\"url(#clip980)\" d=\"M147.223 1291.07 L165.579 1291.07 L165.579 1295.01 L151.505 1295.01 L151.505 1303.48 Q152.524 1303.13 153.542 1302.97 Q154.561 1302.78 155.579 1302.78 Q161.366 1302.78 164.746 1305.95 Q168.126 1309.13 168.126 1314.54 Q168.126 1320.12 164.653 1323.22 Q161.181 1326.3 154.862 1326.3 Q152.686 1326.3 150.417 1325.93 Q148.172 1325.56 145.765 1324.82 L145.765 1320.12 Q147.848 1321.26 150.07 1321.81 Q152.292 1322.37 154.769 1322.37 Q158.774 1322.37 161.112 1320.26 Q163.45 1318.15 163.45 1314.54 Q163.45 1310.93 161.112 1308.82 Q158.774 1306.72 154.769 1306.72 Q152.894 1306.72 151.019 1307.13 Q149.167 1307.55 147.223 1308.43 L147.223 1291.07 Z\" fill=\"#000000\" fill-rule=\"nonzero\" fill-opacity=\"1\" /><path clip-path=\"url(#clip980)\" d=\"M187.338 1294.15 Q183.727 1294.15 181.899 1297.71 Q180.093 1301.26 180.093 1308.38 Q180.093 1315.49 181.899 1319.06 Q183.727 1322.6 187.338 1322.6 Q190.973 1322.6 192.778 1319.06 Q194.607 1315.49 194.607 1308.38 Q194.607 1301.26 192.778 1297.71 Q190.973 1294.15 187.338 1294.15 M187.338 1290.45 Q193.149 1290.45 196.204 1295.05 Q199.283 1299.63 199.283 1308.38 Q199.283 1317.11 196.204 1321.72 Q193.149 1326.3 187.338 1326.3 Q181.528 1326.3 178.45 1321.72 Q175.394 1317.11 175.394 1308.38 Q175.394 1299.63 178.45 1295.05 Q181.528 1290.45 187.338 1290.45 Z\" fill=\"#000000\" fill-rule=\"nonzero\" fill-opacity=\"1\" /><path clip-path=\"url(#clip980)\" d=\"M217.5 1294.15 Q213.889 1294.15 212.061 1297.71 Q210.255 1301.26 210.255 1308.38 Q210.255 1315.49 212.061 1319.06 Q213.889 1322.6 217.5 1322.6 Q221.135 1322.6 222.94 1319.06 Q224.769 1315.49 224.769 1308.38 Q224.769 1301.26 222.94 1297.71 Q221.135 1294.15 217.5 1294.15 M217.5 1290.45 Q223.31 1290.45 226.366 1295.05 Q229.445 1299.63 229.445 1308.38 Q229.445 1317.11 226.366 1321.72 Q223.31 1326.3 217.5 1326.3 Q211.69 1326.3 208.612 1321.72 Q205.556 1317.11 205.556 1308.38 Q205.556 1299.63 208.612 1295.05 Q211.69 1290.45 217.5 1290.45 Z\" fill=\"#000000\" fill-rule=\"nonzero\" fill-opacity=\"1\" /><path clip-path=\"url(#clip980)\" d=\"M129.862 993.25 L118.056 1011.7 L129.862 1011.7 L129.862 993.25 M128.635 989.176 L134.515 989.176 L134.515 1011.7 L139.445 1011.7 L139.445 1015.59 L134.515 1015.59 L134.515 1023.74 L129.862 1023.74 L129.862 1015.59 L114.26 1015.59 L114.26 1011.07 L128.635 989.176 Z\" fill=\"#000000\" fill-rule=\"nonzero\" fill-opacity=\"1\" /><path clip-path=\"url(#clip980)\" d=\"M157.177 992.254 Q153.566 992.254 151.737 995.819 Q149.931 999.361 149.931 1006.49 Q149.931 1013.6 151.737 1017.16 Q153.566 1020.7 157.177 1020.7 Q160.811 1020.7 162.616 1017.16 Q164.445 1013.6 164.445 1006.49 Q164.445 999.361 162.616 995.819 Q160.811 992.254 157.177 992.254 M157.177 988.551 Q162.987 988.551 166.042 993.157 Q169.121 997.74 169.121 1006.49 Q169.121 1015.22 166.042 1019.82 Q162.987 1024.41 157.177 1024.41 Q151.366 1024.41 148.288 1019.82 Q145.232 1015.22 145.232 1006.49 Q145.232 997.74 148.288 993.157 Q151.366 988.551 157.177 988.551 Z\" fill=\"#000000\" fill-rule=\"nonzero\" fill-opacity=\"1\" /><path clip-path=\"url(#clip980)\" d=\"M187.338 992.254 Q183.727 992.254 181.899 995.819 Q180.093 999.361 180.093 1006.49 Q180.093 1013.6 181.899 1017.16 Q183.727 1020.7 187.338 1020.7 Q190.973 1020.7 192.778 1017.16 Q194.607 1013.6 194.607 1006.49 Q194.607 999.361 192.778 995.819 Q190.973 992.254 187.338 992.254 M187.338 988.551 Q193.149 988.551 196.204 993.157 Q199.283 997.74 199.283 1006.49 Q199.283 1015.22 196.204 1019.82 Q193.149 1024.41 187.338 1024.41 Q181.528 1024.41 178.45 1019.82 Q175.394 1015.22 175.394 1006.49 Q175.394 997.74 178.45 993.157 Q181.528 988.551 187.338 988.551 Z\" fill=\"#000000\" fill-rule=\"nonzero\" fill-opacity=\"1\" /><path clip-path=\"url(#clip980)\" d=\"M217.5 992.254 Q213.889 992.254 212.061 995.819 Q210.255 999.361 210.255 1006.49 Q210.255 1013.6 212.061 1017.16 Q213.889 1020.7 217.5 1020.7 Q221.135 1020.7 222.94 1017.16 Q224.769 1013.6 224.769 1006.49 Q224.769 999.361 222.94 995.819 Q221.135 992.254 217.5 992.254 M217.5 988.551 Q223.31 988.551 226.366 993.157 Q229.445 997.74 229.445 1006.49 Q229.445 1015.22 226.366 1019.82 Q223.31 1024.41 217.5 1024.41 Q211.69 1024.41 208.612 1019.82 Q205.556 1015.22 205.556 1006.49 Q205.556 997.74 208.612 993.157 Q211.69 988.551 217.5 988.551 Z\" fill=\"#000000\" fill-rule=\"nonzero\" fill-opacity=\"1\" /><path clip-path=\"url(#clip980)\" d=\"M129.862 691.355 L118.056 709.804 L129.862 709.804 L129.862 691.355 M128.635 687.281 L134.515 687.281 L134.515 709.804 L139.445 709.804 L139.445 713.693 L134.515 713.693 L134.515 721.841 L129.862 721.841 L129.862 713.693 L114.26 713.693 L114.26 709.179 L128.635 687.281 Z\" fill=\"#000000\" fill-rule=\"nonzero\" fill-opacity=\"1\" /><path clip-path=\"url(#clip980)\" d=\"M147.223 687.281 L165.579 687.281 L165.579 691.216 L151.505 691.216 L151.505 699.689 Q152.524 699.341 153.542 699.179 Q154.561 698.994 155.579 698.994 Q161.366 698.994 164.746 702.165 Q168.126 705.337 168.126 710.753 Q168.126 716.332 164.653 719.434 Q161.181 722.512 154.862 722.512 Q152.686 722.512 150.417 722.142 Q148.172 721.772 145.765 721.031 L145.765 716.332 Q147.848 717.466 150.07 718.022 Q152.292 718.577 154.769 718.577 Q158.774 718.577 161.112 716.471 Q163.45 714.364 163.45 710.753 Q163.45 707.142 161.112 705.036 Q158.774 702.929 154.769 702.929 Q152.894 702.929 151.019 703.346 Q149.167 703.763 147.223 704.642 L147.223 687.281 Z\" fill=\"#000000\" fill-rule=\"nonzero\" fill-opacity=\"1\" /><path clip-path=\"url(#clip980)\" d=\"M187.338 690.36 Q183.727 690.36 181.899 693.925 Q180.093 697.466 180.093 704.596 Q180.093 711.702 181.899 715.267 Q183.727 718.809 187.338 718.809 Q190.973 718.809 192.778 715.267 Q194.607 711.702 194.607 704.596 Q194.607 697.466 192.778 693.925 Q190.973 690.36 187.338 690.36 M187.338 686.656 Q193.149 686.656 196.204 691.263 Q199.283 695.846 199.283 704.596 Q199.283 713.323 196.204 717.929 Q193.149 722.512 187.338 722.512 Q181.528 722.512 178.45 717.929 Q175.394 713.323 175.394 704.596 Q175.394 695.846 178.45 691.263 Q181.528 686.656 187.338 686.656 Z\" fill=\"#000000\" fill-rule=\"nonzero\" fill-opacity=\"1\" /><path clip-path=\"url(#clip980)\" d=\"M217.5 690.36 Q213.889 690.36 212.061 693.925 Q210.255 697.466 210.255 704.596 Q210.255 711.702 212.061 715.267 Q213.889 718.809 217.5 718.809 Q221.135 718.809 222.94 715.267 Q224.769 711.702 224.769 704.596 Q224.769 697.466 222.94 693.925 Q221.135 690.36 217.5 690.36 M217.5 686.656 Q223.31 686.656 226.366 691.263 Q229.445 695.846 229.445 704.596 Q229.445 713.323 226.366 717.929 Q223.31 722.512 217.5 722.512 Q211.69 722.512 208.612 717.929 Q205.556 713.323 205.556 704.596 Q205.556 695.846 208.612 691.263 Q211.69 686.656 217.5 686.656 Z\" fill=\"#000000\" fill-rule=\"nonzero\" fill-opacity=\"1\" /><path clip-path=\"url(#clip980)\" d=\"M117.061 385.387 L135.417 385.387 L135.417 389.322 L121.343 389.322 L121.343 397.794 Q122.362 397.447 123.38 397.285 Q124.399 397.1 125.418 397.1 Q131.205 397.1 134.584 400.271 Q137.964 403.442 137.964 408.859 Q137.964 414.438 134.492 417.539 Q131.019 420.618 124.7 420.618 Q122.524 420.618 120.255 420.248 Q118.01 419.877 115.603 419.137 L115.603 414.438 Q117.686 415.572 119.908 416.127 Q122.13 416.683 124.607 416.683 Q128.612 416.683 130.95 414.576 Q133.288 412.47 133.288 408.859 Q133.288 405.248 130.95 403.141 Q128.612 401.035 124.607 401.035 Q122.732 401.035 120.857 401.451 Q119.006 401.868 117.061 402.748 L117.061 385.387 Z\" fill=\"#000000\" fill-rule=\"nonzero\" fill-opacity=\"1\" /><path clip-path=\"url(#clip980)\" d=\"M157.177 388.465 Q153.566 388.465 151.737 392.03 Q149.931 395.572 149.931 402.701 Q149.931 409.808 151.737 413.373 Q153.566 416.914 157.177 416.914 Q160.811 416.914 162.616 413.373 Q164.445 409.808 164.445 402.701 Q164.445 395.572 162.616 392.03 Q160.811 388.465 157.177 388.465 M157.177 384.762 Q162.987 384.762 166.042 389.368 Q169.121 393.952 169.121 402.701 Q169.121 411.428 166.042 416.035 Q162.987 420.618 157.177 420.618 Q151.366 420.618 148.288 416.035 Q145.232 411.428 145.232 402.701 Q145.232 393.952 148.288 389.368 Q151.366 384.762 157.177 384.762 Z\" fill=\"#000000\" fill-rule=\"nonzero\" fill-opacity=\"1\" /><path clip-path=\"url(#clip980)\" d=\"M187.338 388.465 Q183.727 388.465 181.899 392.03 Q180.093 395.572 180.093 402.701 Q180.093 409.808 181.899 413.373 Q183.727 416.914 187.338 416.914 Q190.973 416.914 192.778 413.373 Q194.607 409.808 194.607 402.701 Q194.607 395.572 192.778 392.03 Q190.973 388.465 187.338 388.465 M187.338 384.762 Q193.149 384.762 196.204 389.368 Q199.283 393.952 199.283 402.701 Q199.283 411.428 196.204 416.035 Q193.149 420.618 187.338 420.618 Q181.528 420.618 178.45 416.035 Q175.394 411.428 175.394 402.701 Q175.394 393.952 178.45 389.368 Q181.528 384.762 187.338 384.762 Z\" fill=\"#000000\" fill-rule=\"nonzero\" fill-opacity=\"1\" /><path clip-path=\"url(#clip980)\" d=\"M217.5 388.465 Q213.889 388.465 212.061 392.03 Q210.255 395.572 210.255 402.701 Q210.255 409.808 212.061 413.373 Q213.889 416.914 217.5 416.914 Q221.135 416.914 222.94 413.373 Q224.769 409.808 224.769 402.701 Q224.769 395.572 222.94 392.03 Q221.135 388.465 217.5 388.465 M217.5 384.762 Q223.31 384.762 226.366 389.368 Q229.445 393.952 229.445 402.701 Q229.445 411.428 226.366 416.035 Q223.31 420.618 217.5 420.618 Q211.69 420.618 208.612 416.035 Q205.556 411.428 205.556 402.701 Q205.556 393.952 208.612 389.368 Q211.69 384.762 217.5 384.762 Z\" fill=\"#000000\" fill-rule=\"nonzero\" fill-opacity=\"1\" /><path clip-path=\"url(#clip980)\" d=\"M20.1444 808.528 L26.9239 808.528 Q23.9002 811.775 22.4043 815.467 Q20.9083 819.127 20.9083 823.265 Q20.9083 831.413 25.9054 835.742 Q30.8707 840.07 40.2919 840.07 Q49.6813 840.07 54.6784 835.742 Q59.6436 831.413 59.6436 823.265 Q59.6436 819.127 58.1477 815.467 Q56.6518 811.775 53.6281 808.528 L60.3439 808.528 Q62.6355 811.902 63.7814 815.69 Q64.9272 819.446 64.9272 823.647 Q64.9272 834.437 58.3387 840.643 Q51.7183 846.85 40.2919 846.85 Q28.8336 846.85 22.2451 840.643 Q15.6248 834.437 15.6248 823.647 Q15.6248 819.382 16.7706 815.626 Q17.8846 811.839 20.1444 808.528 Z\" fill=\"#000000\" fill-rule=\"nonzero\" fill-opacity=\"1\" /><path clip-path=\"url(#clip980)\" d=\"M32.4621 785.039 Q32.4621 789.75 36.1542 792.487 Q39.8145 795.224 46.212 795.224 Q52.6095 795.224 56.3017 792.519 Q59.9619 789.781 59.9619 785.039 Q59.9619 780.36 56.2698 777.623 Q52.5777 774.886 46.212 774.886 Q39.8781 774.886 36.186 777.623 Q32.4621 780.36 32.4621 785.039 M27.4968 785.039 Q27.4968 777.4 32.4621 773.04 Q37.4273 768.679 46.212 768.679 Q54.9649 768.679 59.9619 773.04 Q64.9272 777.4 64.9272 785.039 Q64.9272 792.71 59.9619 797.07 Q54.9649 801.399 46.212 801.399 Q37.4273 801.399 32.4621 797.07 Q27.4968 792.71 27.4968 785.039 Z\" fill=\"#000000\" fill-rule=\"nonzero\" fill-opacity=\"1\" /><path clip-path=\"url(#clip980)\" d=\"M49.9359 759.576 L28.3562 759.576 L28.3562 753.72 L49.7131 753.72 Q54.7739 753.72 57.3202 751.746 Q59.8346 749.773 59.8346 745.826 Q59.8346 741.084 56.8109 738.346 Q53.7872 735.577 48.5673 735.577 L28.3562 735.577 L28.3562 729.721 L64.0042 729.721 L64.0042 735.577 L58.5296 735.577 Q61.7762 737.71 63.3676 740.543 Q64.9272 743.344 64.9272 747.067 Q64.9272 753.21 61.1078 756.393 Q57.2883 759.576 49.9359 759.576 M27.4968 744.839 L27.4968 744.839 M11.869 747.258 L11.869 742.548 L23.8365 734.75 L23.8365 739.174 L16.0386 744.903 L23.8365 750.632 L23.8365 755.056 L11.869 747.258 Z\" fill=\"#000000\" fill-rule=\"nonzero\" fill-opacity=\"1\" /><path clip-path=\"url(#clip980)\" d=\"M18.2347 711.865 L28.3562 711.865 L28.3562 699.802 L32.9077 699.802 L32.9077 711.865 L52.2594 711.865 Q56.6199 711.865 57.8613 710.687 Q59.1026 709.478 59.1026 705.818 L59.1026 699.802 L64.0042 699.802 L64.0042 705.818 Q64.0042 712.597 61.4897 715.175 Q58.9434 717.753 52.2594 717.753 L32.9077 717.753 L32.9077 722.05 L28.3562 722.05 L28.3562 717.753 L18.2347 717.753 L18.2347 711.865 Z\" fill=\"#000000\" fill-rule=\"nonzero\" fill-opacity=\"1\" /><path clip-path=\"url(#clip980)\" d=\"M951.021 12.096 L989.261 12.096 L989.261 18.9825 L959.203 18.9825 L959.203 36.8875 L988.005 36.8875 L988.005 43.7741 L959.203 43.7741 L959.203 65.6895 L989.99 65.6895 L989.99 72.576 L951.021 72.576 L951.021 12.096 M972.247 -4.35067 L979.742 -4.35067 L970.505 6.34372 L964.308 6.34372 L972.247 -4.35067 Z\" fill=\"#000000\" fill-rule=\"nonzero\" fill-opacity=\"1\" /><path clip-path=\"url(#clip980)\" d=\"M997.768 27.2059 L1005.67 27.2059 L1019.85 65.2844 L1034.02 27.2059 L1041.92 27.2059 L1024.91 72.576 L1014.78 72.576 L997.768 27.2059 Z\" fill=\"#000000\" fill-rule=\"nonzero\" fill-opacity=\"1\" /><path clip-path=\"url(#clip980)\" d=\"M1069.79 32.4315 Q1063.8 32.4315 1060.31 37.1306 Q1056.83 41.7891 1056.83 49.9314 Q1056.83 58.0738 1060.27 62.7728 Q1063.76 67.4314 1069.79 67.4314 Q1075.75 67.4314 1079.23 62.7323 Q1082.72 58.0333 1082.72 49.9314 Q1082.72 41.8701 1079.23 37.1711 Q1075.75 32.4315 1069.79 32.4315 M1069.79 26.1121 Q1079.52 26.1121 1085.07 32.4315 Q1090.61 38.7509 1090.61 49.9314 Q1090.61 61.0714 1085.07 67.4314 Q1079.52 73.7508 1069.79 73.7508 Q1060.03 73.7508 1054.48 67.4314 Q1048.97 61.0714 1048.97 49.9314 Q1048.97 38.7509 1054.48 32.4315 Q1060.03 26.1121 1069.79 26.1121 Z\" fill=\"#000000\" fill-rule=\"nonzero\" fill-opacity=\"1\" /><path clip-path=\"url(#clip980)\" d=\"M1102.97 9.54393 L1110.42 9.54393 L1110.42 72.576 L1102.97 72.576 L1102.97 9.54393 Z\" fill=\"#000000\" fill-rule=\"nonzero\" fill-opacity=\"1\" /><path clip-path=\"url(#clip980)\" d=\"M1125.25 54.671 L1125.25 27.2059 L1132.7 27.2059 L1132.7 54.3874 Q1132.7 60.8284 1135.22 64.0691 Q1137.73 67.2693 1142.75 67.2693 Q1148.79 67.2693 1152.27 63.421 Q1155.79 59.5726 1155.79 52.9291 L1155.79 27.2059 L1163.25 27.2059 L1163.25 72.576 L1155.79 72.576 L1155.79 65.6084 Q1153.08 69.7404 1149.47 71.7658 Q1145.91 73.7508 1141.17 73.7508 Q1133.35 73.7508 1129.3 68.8897 Q1125.25 64.0286 1125.25 54.671 M1144.01 26.1121 L1144.01 26.1121 Z\" fill=\"#000000\" fill-rule=\"nonzero\" fill-opacity=\"1\" /><path clip-path=\"url(#clip980)\" d=\"M1185.97 14.324 L1185.97 27.2059 L1201.33 27.2059 L1201.33 32.9987 L1185.97 32.9987 L1185.97 57.6282 Q1185.97 63.1779 1187.47 64.7578 Q1189.01 66.3376 1193.67 66.3376 L1201.33 66.3376 L1201.33 72.576 L1193.67 72.576 Q1185.04 72.576 1181.76 69.3758 Q1178.48 66.1351 1178.48 57.6282 L1178.48 32.9987 L1173.01 32.9987 L1173.01 27.2059 L1178.48 27.2059 L1178.48 14.324 L1185.97 14.324 Z\" fill=\"#000000\" fill-rule=\"nonzero\" fill-opacity=\"1\" /><path clip-path=\"url(#clip980)\" d=\"M1211.13 27.2059 L1218.58 27.2059 L1218.58 72.576 L1211.13 72.576 L1211.13 27.2059 M1211.13 9.54393 L1218.58 9.54393 L1218.58 18.9825 L1211.13 18.9825 L1211.13 9.54393 Z\" fill=\"#000000\" fill-rule=\"nonzero\" fill-opacity=\"1\" /><path clip-path=\"url(#clip980)\" d=\"M1251.76 32.4315 Q1245.76 32.4315 1242.28 37.1306 Q1238.8 41.7891 1238.8 49.9314 Q1238.8 58.0738 1242.24 62.7728 Q1245.72 67.4314 1251.76 67.4314 Q1257.71 67.4314 1261.2 62.7323 Q1264.68 58.0333 1264.68 49.9314 Q1264.68 41.8701 1261.2 37.1711 Q1257.71 32.4315 1251.76 32.4315 M1251.76 26.1121 Q1261.48 26.1121 1267.03 32.4315 Q1272.58 38.7509 1272.58 49.9314 Q1272.58 61.0714 1267.03 67.4314 Q1261.48 73.7508 1251.76 73.7508 Q1242 73.7508 1236.45 67.4314 Q1230.94 61.0714 1230.94 49.9314 Q1230.94 38.7509 1236.45 32.4315 Q1242 26.1121 1251.76 26.1121 Z\" fill=\"#000000\" fill-rule=\"nonzero\" fill-opacity=\"1\" /><path clip-path=\"url(#clip980)\" d=\"M1322.65 45.1919 L1322.65 72.576 L1315.2 72.576 L1315.2 45.4349 Q1315.2 38.994 1312.69 35.7938 Q1310.17 32.5936 1305.15 32.5936 Q1299.11 32.5936 1295.63 36.4419 Q1292.15 40.2903 1292.15 46.9338 L1292.15 72.576 L1284.65 72.576 L1284.65 27.2059 L1292.15 27.2059 L1292.15 34.2544 Q1294.82 30.163 1298.43 28.1376 Q1302.07 26.1121 1306.81 26.1121 Q1314.63 26.1121 1318.64 30.9732 Q1322.65 35.7938 1322.65 45.1919 Z\" fill=\"#000000\" fill-rule=\"nonzero\" fill-opacity=\"1\" /><path clip-path=\"url(#clip980)\" d=\"M1393.74 34.0924 L1393.74 9.54393 L1401.2 9.54393 L1401.2 72.576 L1393.74 72.576 L1393.74 65.7705 Q1391.39 69.8214 1387.79 71.8063 Q1384.22 73.7508 1379.2 73.7508 Q1370.98 73.7508 1365.79 67.1883 Q1360.65 60.6258 1360.65 49.9314 Q1360.65 39.2371 1365.79 32.6746 Q1370.98 26.1121 1379.2 26.1121 Q1384.22 26.1121 1387.79 28.0971 Q1391.39 30.0415 1393.74 34.0924 M1368.34 49.9314 Q1368.34 58.1548 1371.71 62.8538 Q1375.11 67.5124 1381.02 67.5124 Q1386.94 67.5124 1390.34 62.8538 Q1393.74 58.1548 1393.74 49.9314 Q1393.74 41.7081 1390.34 37.0496 Q1386.94 32.3505 1381.02 32.3505 Q1375.11 32.3505 1371.71 37.0496 Q1368.34 41.7081 1368.34 49.9314 Z\" fill=\"#000000\" fill-rule=\"nonzero\" fill-opacity=\"1\" /><path clip-path=\"url(#clip980)\" d=\"M1415.78 54.671 L1415.78 27.2059 L1423.23 27.2059 L1423.23 54.3874 Q1423.23 60.8284 1425.75 64.0691 Q1428.26 67.2693 1433.28 67.2693 Q1439.32 67.2693 1442.8 63.421 Q1446.32 59.5726 1446.32 52.9291 L1446.32 27.2059 L1453.78 27.2059 L1453.78 72.576 L1446.32 72.576 L1446.32 65.6084 Q1443.61 69.7404 1440.01 71.7658 Q1436.44 73.7508 1431.7 73.7508 Q1423.88 73.7508 1419.83 68.8897 Q1415.78 64.0286 1415.78 54.671 M1434.54 26.1121 L1434.54 26.1121 Z\" fill=\"#000000\" fill-rule=\"nonzero\" fill-opacity=\"1\" /><path clip-path=\"url(#clip980)\" d=\"M1528.15 28.9478 L1528.15 35.9153 Q1524.99 34.1734 1521.79 33.3227 Q1518.63 32.4315 1515.39 32.4315 Q1508.14 32.4315 1504.13 37.0496 Q1500.12 41.6271 1500.12 49.9314 Q1500.12 58.2358 1504.13 62.8538 Q1508.14 67.4314 1515.39 67.4314 Q1518.63 67.4314 1521.79 66.5807 Q1524.99 65.6895 1528.15 63.9476 L1528.15 70.8341 Q1525.03 72.2924 1521.67 73.0216 Q1518.35 73.7508 1514.58 73.7508 Q1504.33 73.7508 1498.3 67.3098 Q1492.26 60.8689 1492.26 49.9314 Q1492.26 38.832 1498.34 32.472 Q1504.46 26.1121 1515.07 26.1121 Q1518.51 26.1121 1521.79 26.8413 Q1525.07 27.5299 1528.15 28.9478 Z\" fill=\"#000000\" fill-rule=\"nonzero\" fill-opacity=\"1\" /><path clip-path=\"url(#clip980)\" d=\"M1558.7 32.4315 Q1552.7 32.4315 1549.22 37.1306 Q1545.73 41.7891 1545.73 49.9314 Q1545.73 58.0738 1549.18 62.7728 Q1552.66 67.4314 1558.7 67.4314 Q1564.65 67.4314 1568.14 62.7323 Q1571.62 58.0333 1571.62 49.9314 Q1571.62 41.8701 1568.14 37.1711 Q1564.65 32.4315 1558.7 32.4315 M1558.7 26.1121 Q1568.42 26.1121 1573.97 32.4315 Q1579.52 38.7509 1579.52 49.9314 Q1579.52 61.0714 1573.97 67.4314 Q1568.42 73.7508 1558.7 73.7508 Q1548.93 73.7508 1543.38 67.4314 Q1537.88 61.0714 1537.88 49.9314 Q1537.88 38.7509 1543.38 32.4315 Q1548.93 26.1121 1558.7 26.1121 Z\" fill=\"#000000\" fill-rule=\"nonzero\" fill-opacity=\"1\" /><path clip-path=\"url(#clip980)\" d=\"M1591.1 54.671 L1591.1 27.2059 L1598.56 27.2059 L1598.56 54.3874 Q1598.56 60.8284 1601.07 64.0691 Q1603.58 67.2693 1608.6 67.2693 Q1614.64 67.2693 1618.12 63.421 Q1621.65 59.5726 1621.65 52.9291 L1621.65 27.2059 L1629.1 27.2059 L1629.1 72.576 L1621.65 72.576 L1621.65 65.6084 Q1618.93 69.7404 1615.33 71.7658 Q1611.76 73.7508 1607.02 73.7508 Q1599.21 73.7508 1595.15 68.8897 Q1591.1 64.0286 1591.1 54.671 M1609.86 26.1121 L1609.86 26.1121 M1606.78 6.22219 L1612.78 6.22219 L1622.7 21.4536 L1617.07 21.4536 L1609.78 11.5289 L1602.49 21.4536 L1596.86 21.4536 L1606.78 6.22219 Z\" fill=\"#000000\" fill-rule=\"nonzero\" fill-opacity=\"1\" /><path clip-path=\"url(#clip980)\" d=\"M1651.83 14.324 L1651.83 27.2059 L1667.18 27.2059 L1667.18 32.9987 L1651.83 32.9987 L1651.83 57.6282 Q1651.83 63.1779 1653.33 64.7578 Q1654.87 66.3376 1659.52 66.3376 L1667.18 66.3376 L1667.18 72.576 L1659.52 72.576 Q1650.9 72.576 1647.61 69.3758 Q1644.33 66.1351 1644.33 57.6282 L1644.33 32.9987 L1638.86 32.9987 L1638.86 27.2059 L1644.33 27.2059 L1644.33 14.324 L1651.83 14.324 Z\" fill=\"#000000\" fill-rule=\"nonzero\" fill-opacity=\"1\" /><polyline clip-path=\"url(#clip982)\" style=\"stroke:#009af9; stroke-linecap:round; stroke-linejoin:round; stroke-width:4; stroke-opacity:1; fill:none\" points=\"324.52,160.256 326.491,160.256 328.462,160.256 330.433,160.256 332.404,160.256 334.375,160.256 336.346,160.256 338.317,160.256 340.289,160.256 342.26,160.256 344.231,254.869 346.202,301.271 348.173,301.271 350.144,301.271 352.115,301.271 354.087,309.895 356.058,309.895 358.029,309.895 360,309.895 361.971,356.425 363.942,356.425 365.913,356.425 367.884,356.425 369.856,356.425 371.827,356.425 373.798,356.425 375.769,367.96 377.74,427.177 379.711,427.177 381.682,427.177 383.654,427.177 385.625,427.177 387.596,454.469 389.567,454.469 391.538,488.056 393.509,488.056 395.48,488.056 397.451,488.056 399.423,488.056 401.394,488.056 403.365,488.056 405.336,488.056 407.307,488.056 409.278,488.056 411.249,488.056 413.221,488.056 415.192,488.056 417.163,488.056 419.134,488.056 421.105,488.056 423.076,488.056 425.047,500.05 427.018,500.05 428.99,500.05 430.961,500.05 432.932,500.05 434.903,500.05 436.874,500.05 438.845,500.05 440.816,500.05 442.788,500.05 444.759,500.05 446.73,500.05 448.701,500.05 450.672,500.05 452.643,500.05 454.614,544.977 456.585,544.977 458.557,544.977 460.528,544.977 462.499,544.977 464.47,544.977 466.441,544.977 468.412,544.977 470.383,544.977 472.355,544.977 474.326,544.977 476.297,544.977 478.268,544.977 480.239,544.977 482.21,544.977 484.181,544.977 486.152,544.977 488.124,544.977 490.095,562.233 492.066,562.233 494.037,608.034 496.008,608.034 497.979,608.034 499.95,624.786 501.922,624.786 503.893,628.985 505.864,628.985 507.835,628.985 509.806,628.985 511.777,689.31 513.748,689.31 515.719,715.568 517.691,715.568 519.662,715.568 521.633,715.568 523.604,715.568 525.575,715.568 527.546,715.568 529.517,715.568 531.488,715.568 533.46,715.568 535.431,715.568 537.402,715.568 539.373,715.568 541.344,715.568 543.315,715.568 545.286,715.568 547.258,715.568 549.229,715.568 551.2,715.568 553.171,715.568 555.142,845.018 557.113,845.018 559.084,845.018 561.055,845.018 563.027,845.018 564.998,845.018 566.969,845.018 568.94,845.018 570.911,1056.51 572.882,1056.51 574.853,1061.16 576.825,1061.16 578.796,1096.65 580.767,1096.65 582.738,1096.65 584.709,1120.63 586.68,1120.63 588.651,1120.63 590.622,1120.63 592.594,1120.63 594.565,1120.63 596.536,1120.63 598.507,1120.63 600.478,1120.63 602.449,1120.63 604.42,1120.63 606.392,1120.63 608.363,1120.63 610.334,1120.63 612.305,1120.63 614.276,1120.63 616.247,1120.63 618.218,1120.63 620.189,1120.63 622.161,1131.13 624.132,1131.13 626.103,1142.75 628.074,1142.75 630.045,1142.75 632.016,1142.75 633.987,1142.75 635.959,1142.75 637.93,1142.75 639.901,1142.75 641.872,1142.75 643.843,1142.75 645.814,1142.75 647.785,1142.75 649.756,1142.75 651.728,1142.75 653.699,1142.75 655.67,1142.75 657.641,1142.75 659.612,1142.75 661.583,1142.75 663.554,1142.75 665.526,1142.75 667.497,1142.75 669.468,1156.59 671.439,1156.59 673.41,1156.59 675.381,1156.59 677.352,1156.59 679.323,1156.59 681.295,1156.59 683.266,1156.59 685.237,1156.59 687.208,1156.59 689.179,1156.59 691.15,1156.59 693.121,1156.59 695.093,1156.59 697.064,1156.59 699.035,1156.59 701.006,1156.59 702.977,1156.59 704.948,1156.59 706.919,1156.59 708.89,1156.59 710.862,1176.18 712.833,1176.18 714.804,1176.18 716.775,1176.18 718.746,1176.18 720.717,1176.18 722.688,1176.18 724.659,1176.18 726.631,1176.18 728.602,1176.18 730.573,1176.18 732.544,1176.18 734.515,1176.18 736.486,1176.18 738.457,1176.18 740.429,1176.18 742.4,1176.18 744.371,1176.18 746.342,1176.18 748.313,1176.18 750.284,1176.18 752.255,1176.18 754.226,1176.18 756.198,1176.18 758.169,1176.18 760.14,1176.18 762.111,1176.18 764.082,1176.18 766.053,1176.18 768.024,1176.18 769.996,1176.18 771.967,1176.18 773.938,1176.18 775.909,1176.18 777.88,1213.2 779.851,1213.2 781.822,1213.2 783.793,1213.2 785.765,1213.2 787.736,1213.2 789.707,1213.2 791.678,1213.2 793.649,1213.2 795.62,1213.2 797.591,1213.2 799.563,1213.2 801.534,1213.2 803.505,1213.2 805.476,1213.2 807.447,1213.2 809.418,1213.2 811.389,1213.2 813.36,1213.2 815.332,1213.2 817.303,1227.58 819.274,1227.58 821.245,1227.58 823.216,1227.58 825.187,1227.58 827.158,1227.58 829.13,1227.58 831.101,1227.58 833.072,1227.58 835.043,1227.58 837.014,1227.58 838.985,1227.58 840.956,1227.58 842.927,1227.58 844.899,1227.58 846.87,1227.58 848.841,1227.58 850.812,1227.58 852.783,1227.58 854.754,1227.58 856.725,1227.58 858.697,1257.14 860.668,1257.14 862.639,1257.14 864.61,1257.14 866.581,1257.14 868.552,1257.14 870.523,1257.14 872.494,1257.14 874.466,1257.14 876.437,1257.14 878.408,1257.14 880.379,1257.14 882.35,1257.14 884.321,1257.14 886.292,1257.14 888.264,1257.14 890.235,1257.14 892.206,1257.14 894.177,1257.14 896.148,1257.14 898.119,1257.14 900.09,1257.14 902.061,1257.14 904.033,1257.14 906.004,1257.14 907.975,1260.82 909.946,1260.82 911.917,1260.82 913.888,1260.82 915.859,1260.82 917.83,1260.82 919.802,1260.82 921.773,1260.82 923.744,1260.82 925.715,1260.82 927.686,1260.82 929.657,1260.82 931.628,1262.46 933.6,1262.46 935.571,1262.46 937.542,1262.46 939.513,1262.46 941.484,1262.46 943.455,1262.46 945.426,1262.46 947.397,1262.46 949.369,1262.46 951.34,1262.46 953.311,1262.46 955.282,1262.46 957.253,1262.46 959.224,1262.46 961.195,1262.46 963.167,1262.46 965.138,1262.46 967.109,1262.46 969.08,1262.46 971.051,1262.46 973.022,1262.46 974.993,1262.46 976.964,1262.46 978.936,1262.46 980.907,1262.46 982.878,1262.46 984.849,1262.46 986.82,1262.46 988.791,1262.46 990.762,1262.46 992.734,1262.46 994.705,1262.46 996.676,1262.46 998.647,1262.46 1000.62,1262.46 1002.59,1262.46 1004.56,1262.46 1006.53,1262.46 1008.5,1262.46 1010.47,1262.46 1012.44,1262.46 1014.42,1262.46 1016.39,1262.46 1018.36,1262.46 1020.33,1262.46 1022.3,1262.46 1024.27,1262.46 1026.24,1262.46 1028.21,1262.46 1030.19,1262.46 1032.16,1262.46 1034.13,1262.46 1036.1,1262.46 1038.07,1262.46 1040.04,1262.46 1042.01,1262.46 1043.98,1262.46 1045.95,1262.46 1047.93,1262.46 1049.9,1262.46 1051.87,1262.46 1053.84,1274.03 1055.81,1274.03 1057.78,1274.03 1059.75,1274.03 1061.72,1274.03 1063.69,1274.03 1065.67,1274.03 1067.64,1274.03 1069.61,1274.03 1071.58,1274.03 1073.55,1274.03 1075.52,1274.03 1077.49,1274.03 1079.46,1274.03 1081.43,1274.03 1083.41,1274.03 1085.38,1274.03 1087.35,1274.03 1089.32,1277.77 1091.29,1277.77 1093.26,1277.77 1095.23,1277.77 1097.2,1277.77 1099.17,1277.77 1101.15,1277.77 1103.12,1277.77 1105.09,1277.77 1107.06,1277.77 1109.03,1277.77 1111,1277.77 1112.97,1277.77 1114.94,1277.77 1116.91,1277.77 1118.89,1277.77 1120.86,1277.77 1122.83,1277.77 1124.8,1277.77 1126.77,1277.77 1128.74,1277.77 1130.71,1277.77 1132.68,1277.77 1134.66,1277.77 1136.63,1277.77 1138.6,1277.77 1140.57,1277.77 1142.54,1277.77 1144.51,1277.77 1146.48,1277.77 1148.45,1277.77 1150.42,1277.77 1152.4,1277.77 1154.37,1277.77 1156.34,1277.77 1158.31,1277.77 1160.28,1277.77 1162.25,1277.77 1164.22,1277.77 1166.19,1277.77 1168.16,1277.77 1170.14,1277.77 1172.11,1277.77 1174.08,1277.77 1176.05,1293.45 1178.02,1293.45 1179.99,1293.45 1181.96,1293.45 1183.93,1293.45 1185.9,1293.45 1187.88,1293.45 1189.85,1293.45 1191.82,1293.45 1193.79,1293.45 1195.76,1293.45 1197.73,1293.45 1199.7,1293.45 1201.67,1293.45 1203.64,1293.45 1205.62,1293.45 1207.59,1293.45 1209.56,1293.45 1211.53,1293.45 1213.5,1293.45 1215.47,1293.45 1217.44,1293.45 1219.41,1293.45 1221.38,1293.45 1223.36,1293.45 1225.33,1293.45 1227.3,1293.45 1229.27,1293.45 1231.24,1293.45 1233.21,1293.45 1235.18,1293.45 1237.15,1293.45 1239.13,1293.45 1241.1,1293.45 1243.07,1293.45 1245.04,1293.45 1247.01,1293.45 1248.98,1293.45 1250.95,1293.45 1252.92,1293.45 1254.89,1293.45 1256.87,1293.45 1258.84,1293.45 1260.81,1293.45 1262.78,1293.45 1264.75,1293.45 1266.72,1293.45 1268.69,1293.45 1270.66,1293.45 1272.63,1293.45 1274.61,1293.45 1276.58,1293.45 1278.55,1293.45 1280.52,1360.47 1282.49,1360.47 1284.46,1360.47 1286.43,1360.47 1288.4,1360.47 1290.37,1360.47 1292.35,1360.47 1294.32,1360.47 1296.29,1360.47 1298.26,1360.47 1300.23,1360.47 1302.2,1360.47 1304.17,1360.47 1306.14,1360.47 1308.11,1360.47 1310.09,1360.47 1312.06,1360.47 1314.03,1360.47 1316,1360.47 1317.97,1360.47 1319.94,1360.47 1321.91,1360.47 1323.88,1360.47 1325.85,1360.47 1327.83,1360.47 1329.8,1360.47 1331.77,1360.47 1333.74,1360.47 1335.71,1360.47 1337.68,1360.47 1339.65,1360.47 1341.62,1360.47 1343.6,1360.47 1345.57,1360.47 1347.54,1360.47 1349.51,1360.47 1351.48,1360.47 1353.45,1360.47 1355.42,1360.47 1357.39,1360.47 1359.36,1360.47 1361.34,1360.47 1363.31,1360.47 1365.28,1360.47 1367.25,1360.47 1369.22,1360.47 1371.19,1360.47 1373.16,1360.47 1375.13,1360.47 1377.1,1360.47 1379.08,1360.47 1381.05,1360.47 1383.02,1360.47 1384.99,1360.47 1386.96,1360.47 1388.93,1360.47 1390.9,1360.47 1392.87,1360.47 1394.84,1360.47 1396.82,1360.47 1398.79,1360.47 1400.76,1360.47 1402.73,1360.47 1404.7,1360.47 1406.67,1360.47 1408.64,1360.47 1410.61,1360.47 1412.58,1360.47 1414.56,1360.47 1416.53,1360.47 1418.5,1360.47 1420.47,1360.47 1422.44,1360.47 1424.41,1360.47 1426.38,1360.47 1428.35,1360.47 1430.32,1360.47 1432.3,1360.47 1434.27,1360.47 1436.24,1364.01 1438.21,1364.01 1440.18,1364.01 1442.15,1364.01 1444.12,1364.01 1446.09,1364.01 1448.07,1364.01 1450.04,1364.01 1452.01,1364.01 1453.98,1364.01 1455.95,1364.01 1457.92,1364.01 1459.89,1364.01 1461.86,1364.01 1463.83,1364.01 1465.81,1364.01 1467.78,1364.01 1469.75,1364.01 1471.72,1364.01 1473.69,1364.01 1475.66,1364.01 1477.63,1364.01 1479.6,1364.01 1481.57,1364.01 1483.55,1364.01 1485.52,1364.01 1487.49,1364.01 1489.46,1364.01 1491.43,1364.01 1493.4,1364.01 1495.37,1364.01 1497.34,1364.01 1499.31,1364.01 1501.29,1364.01 1503.26,1364.01 1505.23,1364.01 1507.2,1364.01 1509.17,1364.01 1511.14,1364.01 1513.11,1364.01 1515.08,1364.01 1517.05,1364.01 1519.03,1364.01 1521,1364.01 1522.97,1364.01 1524.94,1364.01 1526.91,1364.01 1528.88,1364.01 1530.85,1364.01 1532.82,1364.01 1534.8,1364.01 1536.77,1364.01 1538.74,1364.01 1540.71,1364.01 1542.68,1364.01 1544.65,1364.01 1546.62,1364.01 1548.59,1364.01 1550.56,1381.52 1552.54,1381.52 1554.51,1381.52 1556.48,1381.52 1558.45,1381.52 1560.42,1381.52 1562.39,1381.52 1564.36,1381.52 1566.33,1381.52 1568.3,1381.52 1570.28,1381.52 1572.25,1381.52 1574.22,1381.52 1576.19,1381.52 1578.16,1381.52 1580.13,1381.52 1582.1,1381.52 1584.07,1381.52 1586.04,1381.52 1588.02,1381.52 1589.99,1381.52 1591.96,1381.52 1593.93,1381.52 1595.9,1381.52 1597.87,1381.52 1599.84,1381.52 1601.81,1381.52 1603.78,1381.52 1605.76,1381.52 1607.73,1381.52 1609.7,1381.52 1611.67,1381.52 1613.64,1381.52 1615.61,1381.52 1617.58,1381.52 1619.55,1381.52 1621.52,1381.52 1623.5,1381.52 1625.47,1381.52 1627.44,1381.52 1629.41,1381.52 1631.38,1381.52 1633.35,1381.52 1635.32,1381.52 1637.29,1381.52 1639.27,1381.52 1641.24,1381.52 1643.21,1381.52 1645.18,1381.52 1647.15,1381.52 1649.12,1381.52 1651.09,1381.52 1653.06,1381.52 1655.03,1381.52 1657.01,1381.52 1658.98,1381.52 1660.95,1381.52 1662.92,1381.52 1664.89,1381.52 1666.86,1381.52 1668.83,1381.52 1670.8,1381.52 1672.77,1381.52 1674.75,1381.52 1676.72,1381.52 1678.69,1381.52 1680.66,1381.52 1682.63,1381.52 1684.6,1381.52 1686.57,1381.52 1688.54,1381.52 1690.51,1381.52 1692.49,1381.52 1694.46,1381.52 1696.43,1381.52 1698.4,1381.52 1700.37,1381.52 1702.34,1381.52 1704.31,1381.52 1706.28,1381.52 1708.25,1381.52 1710.23,1381.52 1712.2,1381.52 1714.17,1381.52 1716.14,1381.52 1718.11,1381.52 1720.08,1381.52 1722.05,1381.52 1724.02,1381.52 1725.99,1381.52 1727.97,1381.52 1729.94,1381.52 1731.91,1381.52 1733.88,1381.52 1735.85,1381.52 1737.82,1381.52 1739.79,1381.52 1741.76,1381.52 1743.74,1381.52 1745.71,1386.4 1747.68,1386.4 1749.65,1386.4 1751.62,1386.4 1753.59,1386.4 1755.56,1386.4 1757.53,1386.4 1759.5,1386.4 1761.48,1386.4 1763.45,1386.4 1765.42,1386.4 1767.39,1386.4 1769.36,1386.4 1771.33,1386.4 1773.3,1386.4 1775.27,1386.4 1777.24,1386.4 1779.22,1386.4 1781.19,1386.4 1783.16,1386.4 1785.13,1386.4 1787.1,1386.4 1789.07,1386.4 1791.04,1386.4 1793.01,1386.4 1794.98,1386.4 1796.96,1386.4 1798.93,1386.4 1800.9,1386.4 1802.87,1386.4 1804.84,1386.4 1806.81,1386.4 1808.78,1386.4 1810.75,1386.4 1812.72,1386.4 1814.7,1386.4 1816.67,1386.4 1818.64,1386.4 1820.61,1386.4 1822.58,1386.4 1824.55,1386.4 1826.52,1386.4 1828.49,1386.4 1830.46,1386.4 1832.44,1386.4 1834.41,1386.4 1836.38,1386.4 1838.35,1386.4 1840.32,1386.4 1842.29,1386.4 1844.26,1386.4 1846.23,1386.4 1848.21,1386.4 1850.18,1386.4 1852.15,1386.4 1854.12,1386.4 1856.09,1386.4 1858.06,1386.4 1860.03,1386.4 1862,1386.4 1863.97,1386.4 1865.95,1386.4 1867.92,1386.4 1869.89,1386.4 1871.86,1386.4 1873.83,1386.4 1875.8,1386.4 1877.77,1386.4 1879.74,1386.4 1881.71,1386.4 1883.69,1386.4 1885.66,1386.4 1887.63,1386.4 1889.6,1386.4 1891.57,1386.4 1893.54,1386.4 1895.51,1386.4 1897.48,1386.4 1899.45,1386.4 1901.43,1386.4 1903.4,1386.4 1905.37,1386.4 1907.34,1386.4 1909.31,1386.4 1911.28,1386.4 1913.25,1386.4 1915.22,1386.4 1917.19,1386.4 1919.17,1386.4 1921.14,1386.4 1923.11,1386.4 1925.08,1386.4 1927.05,1386.4 1929.02,1386.4 1930.99,1386.4 1932.96,1386.4 1934.93,1386.4 1936.91,1386.4 1938.88,1386.4 1940.85,1386.4 1942.82,1386.4 1944.79,1386.4 1946.76,1386.4 1948.73,1386.4 1950.7,1386.4 1952.68,1386.4 1954.65,1386.4 1956.62,1386.4 1958.59,1386.4 1960.56,1386.4 1962.53,1386.4 1964.5,1386.4 1966.47,1386.4 1968.44,1386.4 1970.42,1386.4 1972.39,1386.4 1974.36,1386.4 1976.33,1386.4 1978.3,1386.4 1980.27,1386.4 1982.24,1386.4 1984.21,1386.4 1986.18,1386.4 1988.16,1386.4 1990.13,1386.4 1992.1,1386.4 1994.07,1386.4 1996.04,1386.4 1998.01,1386.4 1999.98,1386.4 2001.95,1386.4 2003.92,1386.4 2005.9,1386.4 2007.87,1386.4 2009.84,1386.4 2011.81,1386.4 2013.78,1386.4 2015.75,1386.4 2017.72,1386.4 2019.69,1386.4 2021.66,1386.4 2023.64,1386.4 2025.61,1386.4 2027.58,1386.4 2029.55,1386.4 2031.52,1386.4 2033.49,1386.4 2035.46,1386.4 2037.43,1386.4 2039.4,1386.4 2041.38,1386.4 2043.35,1386.4 2045.32,1386.4 2047.29,1386.4 2049.26,1386.4 2051.23,1386.4 2053.2,1386.4 2055.17,1386.4 2057.15,1386.4 2059.12,1386.4 2061.09,1386.4 2063.06,1386.4 2065.03,1386.4 2067,1386.4 2068.97,1386.4 2070.94,1386.4 2072.91,1386.4 2074.89,1386.4 2076.86,1386.4 2078.83,1386.4 2080.8,1386.4 2082.77,1386.4 2084.74,1386.4 2086.71,1386.4 2088.68,1386.4 2090.65,1386.4 2092.63,1386.4 2094.6,1386.4 2096.57,1386.4 2098.54,1386.4 2100.51,1386.4 2102.48,1386.4 2104.45,1386.4 2106.42,1386.4 2108.39,1386.4 2110.37,1386.4 2112.34,1386.4 2114.31,1386.4 2116.28,1386.4 2118.25,1386.4 2120.22,1386.4 2122.19,1386.4 2124.16,1386.4 2126.13,1386.4 2128.11,1386.4 2130.08,1386.4 2132.05,1386.4 2134.02,1386.4 2135.99,1386.4 2137.96,1386.4 2139.93,1386.4 2141.9,1386.4 2143.87,1386.4 2145.85,1386.4 2147.82,1386.4 2149.79,1386.4 2151.76,1386.4 2153.73,1386.4 2155.7,1386.4 2157.67,1386.4 2159.64,1386.4 2161.62,1386.4 2163.59,1386.4 2165.56,1386.4 2167.53,1386.4 2169.5,1386.4 2171.47,1386.4 2173.44,1386.4 2175.41,1386.4 2177.38,1386.4 2179.36,1386.4 2181.33,1386.4 2183.3,1386.4 2185.27,1386.4 2187.24,1386.4 2189.21,1386.4 2191.18,1386.4 2193.15,1386.4 2195.12,1386.4 2197.1,1386.4 2199.07,1386.4 2201.04,1386.4 2203.01,1386.4 2204.98,1386.4 2206.95,1386.4 2208.92,1386.4 2210.89,1386.4 2212.86,1386.4 2214.84,1386.4 2216.81,1386.4 2218.78,1386.4 2220.75,1386.4 2222.72,1386.4 2224.69,1386.4 2226.66,1386.4 2228.63,1386.4 2230.6,1386.4 2232.58,1386.4 2234.55,1386.4 2236.52,1386.4 2238.49,1386.4 2240.46,1386.4 2242.43,1386.4 2244.4,1386.4 2246.37,1386.4 2248.35,1386.4 2250.32,1386.4 2252.29,1386.4 2254.26,1386.4 2256.23,1386.4 2258.2,1386.4 2260.17,1386.4 2262.14,1386.4 2264.11,1386.4 2266.09,1386.4 2268.06,1386.4 2270.03,1386.4 2272,1386.4 2273.97,1386.4 2275.94,1386.4 2277.91,1386.4 2279.88,1386.4 2281.85,1386.4 2283.83,1386.4 2285.8,1386.4 2287.77,1386.4 2289.74,1386.4 2291.71,1386.4 2293.68,1386.4 \"/>\n",
       "<path clip-path=\"url(#clip980)\" d=\"M2022.02 270.476 L2283.18 270.476 L2283.18 166.796 L2022.02 166.796  Z\" fill=\"#ffffff\" fill-rule=\"evenodd\" fill-opacity=\"1\"/>\n",
       "<polyline clip-path=\"url(#clip980)\" style=\"stroke:#000000; stroke-linecap:round; stroke-linejoin:round; stroke-width:4; stroke-opacity:1; fill:none\" points=\"2022.02,270.476 2283.18,270.476 2283.18,166.796 2022.02,166.796 2022.02,270.476 \"/>\n",
       "<polyline clip-path=\"url(#clip980)\" style=\"stroke:#009af9; stroke-linecap:round; stroke-linejoin:round; stroke-width:4; stroke-opacity:1; fill:none\" points=\"2045.21,218.636 2184.36,218.636 \"/>\n",
       "<path clip-path=\"url(#clip980)\" d=\"M2221.4 238.323 Q2219.59 242.953 2217.88 244.365 Q2216.17 245.777 2213.3 245.777 L2209.89 245.777 L2209.89 242.212 L2212.39 242.212 Q2214.15 242.212 2215.13 241.379 Q2216.1 240.545 2217.28 237.443 L2218.04 235.499 L2207.56 209.99 L2212.07 209.99 L2220.17 230.268 L2228.27 209.99 L2232.79 209.99 L2221.4 238.323 Z\" fill=\"#000000\" fill-rule=\"nonzero\" fill-opacity=\"1\" /><path clip-path=\"url(#clip980)\" d=\"M2240.08 231.981 L2247.72 231.981 L2247.72 205.615 L2239.41 207.282 L2239.41 203.022 L2247.67 201.356 L2252.35 201.356 L2252.35 231.981 L2259.99 231.981 L2259.99 235.916 L2240.08 235.916 L2240.08 231.981 Z\" fill=\"#000000\" fill-rule=\"nonzero\" fill-opacity=\"1\" /></svg>\n"
      ],
      "text/html": [
       "<?xml version=\"1.0\" encoding=\"utf-8\"?>\n",
       "<svg xmlns=\"http://www.w3.org/2000/svg\" xmlns:xlink=\"http://www.w3.org/1999/xlink\" width=\"600\" height=\"400\" viewBox=\"0 0 2400 1600\">\n",
       "<defs>\n",
       "  <clipPath id=\"clip030\">\n",
       "    <rect x=\"0\" y=\"0\" width=\"2400\" height=\"1600\"/>\n",
       "  </clipPath>\n",
       "</defs>\n",
       "<path clip-path=\"url(#clip030)\" d=\"M0 1600 L2400 1600 L2400 0 L0 0  Z\" fill=\"#ffffff\" fill-rule=\"evenodd\" fill-opacity=\"1\"/>\n",
       "<defs>\n",
       "  <clipPath id=\"clip031\">\n",
       "    <rect x=\"480\" y=\"0\" width=\"1681\" height=\"1600\"/>\n",
       "  </clipPath>\n",
       "</defs>\n",
       "<path clip-path=\"url(#clip030)\" d=\"M265.445 1423.18 L2352.76 1423.18 L2352.76 123.472 L265.445 123.472  Z\" fill=\"#ffffff\" fill-rule=\"evenodd\" fill-opacity=\"1\"/>\n",
       "<defs>\n",
       "  <clipPath id=\"clip032\">\n",
       "    <rect x=\"265\" y=\"123\" width=\"2088\" height=\"1301\"/>\n",
       "  </clipPath>\n",
       "</defs>\n",
       "<polyline clip-path=\"url(#clip032)\" style=\"stroke:#000000; stroke-linecap:round; stroke-linejoin:round; stroke-width:2; stroke-opacity:0.1; fill:none\" points=\"322.548,1423.18 322.548,123.472 \"/>\n",
       "<polyline clip-path=\"url(#clip032)\" style=\"stroke:#000000; stroke-linecap:round; stroke-linejoin:round; stroke-width:2; stroke-opacity:0.1; fill:none\" points=\"815.332,1423.18 815.332,123.472 \"/>\n",
       "<polyline clip-path=\"url(#clip032)\" style=\"stroke:#000000; stroke-linecap:round; stroke-linejoin:round; stroke-width:2; stroke-opacity:0.1; fill:none\" points=\"1308.11,1423.18 1308.11,123.472 \"/>\n",
       "<polyline clip-path=\"url(#clip032)\" style=\"stroke:#000000; stroke-linecap:round; stroke-linejoin:round; stroke-width:2; stroke-opacity:0.1; fill:none\" points=\"1800.9,1423.18 1800.9,123.472 \"/>\n",
       "<polyline clip-path=\"url(#clip032)\" style=\"stroke:#000000; stroke-linecap:round; stroke-linejoin:round; stroke-width:2; stroke-opacity:0.1; fill:none\" points=\"2293.68,1423.18 2293.68,123.472 \"/>\n",
       "<polyline clip-path=\"url(#clip030)\" style=\"stroke:#000000; stroke-linecap:round; stroke-linejoin:round; stroke-width:4; stroke-opacity:1; fill:none\" points=\"265.445,1423.18 2352.76,1423.18 \"/>\n",
       "<polyline clip-path=\"url(#clip030)\" style=\"stroke:#000000; stroke-linecap:round; stroke-linejoin:round; stroke-width:4; stroke-opacity:1; fill:none\" points=\"322.548,1423.18 322.548,1404.28 \"/>\n",
       "<polyline clip-path=\"url(#clip030)\" style=\"stroke:#000000; stroke-linecap:round; stroke-linejoin:round; stroke-width:4; stroke-opacity:1; fill:none\" points=\"815.332,1423.18 815.332,1404.28 \"/>\n",
       "<polyline clip-path=\"url(#clip030)\" style=\"stroke:#000000; stroke-linecap:round; stroke-linejoin:round; stroke-width:4; stroke-opacity:1; fill:none\" points=\"1308.11,1423.18 1308.11,1404.28 \"/>\n",
       "<polyline clip-path=\"url(#clip030)\" style=\"stroke:#000000; stroke-linecap:round; stroke-linejoin:round; stroke-width:4; stroke-opacity:1; fill:none\" points=\"1800.9,1423.18 1800.9,1404.28 \"/>\n",
       "<polyline clip-path=\"url(#clip030)\" style=\"stroke:#000000; stroke-linecap:round; stroke-linejoin:round; stroke-width:4; stroke-opacity:1; fill:none\" points=\"2293.68,1423.18 2293.68,1404.28 \"/>\n",
       "<path clip-path=\"url(#clip030)\" d=\"M322.548 1454.1 Q318.937 1454.1 317.109 1457.66 Q315.303 1461.2 315.303 1468.33 Q315.303 1475.44 317.109 1479.01 Q318.937 1482.55 322.548 1482.55 Q326.183 1482.55 327.988 1479.01 Q329.817 1475.44 329.817 1468.33 Q329.817 1461.2 327.988 1457.66 Q326.183 1454.1 322.548 1454.1 M322.548 1450.39 Q328.359 1450.39 331.414 1455 Q334.493 1459.58 334.493 1468.33 Q334.493 1477.06 331.414 1481.67 Q328.359 1486.25 322.548 1486.25 Q316.738 1486.25 313.66 1481.67 Q310.604 1477.06 310.604 1468.33 Q310.604 1459.58 313.66 1455 Q316.738 1450.39 322.548 1450.39 Z\" fill=\"#000000\" fill-rule=\"nonzero\" fill-opacity=\"1\" /><path clip-path=\"url(#clip030)\" d=\"M779.024 1481.64 L795.343 1481.64 L795.343 1485.58 L773.399 1485.58 L773.399 1481.64 Q776.061 1478.89 780.644 1474.26 Q785.251 1469.61 786.431 1468.27 Q788.677 1465.74 789.556 1464.01 Q790.459 1462.25 790.459 1460.56 Q790.459 1457.8 788.515 1456.07 Q786.593 1454.33 783.491 1454.33 Q781.292 1454.33 778.839 1455.09 Q776.408 1455.86 773.63 1457.41 L773.63 1452.69 Q776.454 1451.55 778.908 1450.97 Q781.362 1450.39 783.399 1450.39 Q788.769 1450.39 791.964 1453.08 Q795.158 1455.77 795.158 1460.26 Q795.158 1462.39 794.348 1464.31 Q793.561 1466.2 791.454 1468.8 Q790.876 1469.47 787.774 1472.69 Q784.672 1475.88 779.024 1481.64 Z\" fill=\"#000000\" fill-rule=\"nonzero\" fill-opacity=\"1\" /><path clip-path=\"url(#clip030)\" d=\"M805.204 1451.02 L823.561 1451.02 L823.561 1454.96 L809.487 1454.96 L809.487 1463.43 Q810.505 1463.08 811.524 1462.92 Q812.542 1462.73 813.561 1462.73 Q819.348 1462.73 822.727 1465.9 Q826.107 1469.08 826.107 1474.49 Q826.107 1480.07 822.635 1483.17 Q819.163 1486.25 812.843 1486.25 Q810.667 1486.25 808.399 1485.88 Q806.153 1485.51 803.746 1484.77 L803.746 1480.07 Q805.829 1481.2 808.052 1481.76 Q810.274 1482.32 812.751 1482.32 Q816.755 1482.32 819.093 1480.21 Q821.431 1478.1 821.431 1474.49 Q821.431 1470.88 819.093 1468.77 Q816.755 1466.67 812.751 1466.67 Q810.876 1466.67 809.001 1467.08 Q807.149 1467.5 805.204 1468.38 L805.204 1451.02 Z\" fill=\"#000000\" fill-rule=\"nonzero\" fill-opacity=\"1\" /><path clip-path=\"url(#clip030)\" d=\"M845.32 1454.1 Q841.709 1454.1 839.88 1457.66 Q838.075 1461.2 838.075 1468.33 Q838.075 1475.44 839.88 1479.01 Q841.709 1482.55 845.32 1482.55 Q848.954 1482.55 850.76 1479.01 Q852.588 1475.44 852.588 1468.33 Q852.588 1461.2 850.76 1457.66 Q848.954 1454.1 845.32 1454.1 M845.32 1450.39 Q851.13 1450.39 854.186 1455 Q857.264 1459.58 857.264 1468.33 Q857.264 1477.06 854.186 1481.67 Q851.13 1486.25 845.32 1486.25 Q839.51 1486.25 836.431 1481.67 Q833.375 1477.06 833.375 1468.33 Q833.375 1459.58 836.431 1455 Q839.51 1450.39 845.32 1450.39 Z\" fill=\"#000000\" fill-rule=\"nonzero\" fill-opacity=\"1\" /><path clip-path=\"url(#clip030)\" d=\"M1267.73 1451.02 L1286.09 1451.02 L1286.09 1454.96 L1272.02 1454.96 L1272.02 1463.43 Q1273.03 1463.08 1274.05 1462.92 Q1275.07 1462.73 1276.09 1462.73 Q1281.88 1462.73 1285.26 1465.9 Q1288.64 1469.08 1288.64 1474.49 Q1288.64 1480.07 1285.16 1483.17 Q1281.69 1486.25 1275.37 1486.25 Q1273.2 1486.25 1270.93 1485.88 Q1268.68 1485.51 1266.27 1484.77 L1266.27 1480.07 Q1268.36 1481.2 1270.58 1481.76 Q1272.8 1482.32 1275.28 1482.32 Q1279.28 1482.32 1281.62 1480.21 Q1283.96 1478.1 1283.96 1474.49 Q1283.96 1470.88 1281.62 1468.77 Q1279.28 1466.67 1275.28 1466.67 Q1273.4 1466.67 1271.53 1467.08 Q1269.68 1467.5 1267.73 1468.38 L1267.73 1451.02 Z\" fill=\"#000000\" fill-rule=\"nonzero\" fill-opacity=\"1\" /><path clip-path=\"url(#clip030)\" d=\"M1307.85 1454.1 Q1304.24 1454.1 1302.41 1457.66 Q1300.6 1461.2 1300.6 1468.33 Q1300.6 1475.44 1302.41 1479.01 Q1304.24 1482.55 1307.85 1482.55 Q1311.48 1482.55 1313.29 1479.01 Q1315.12 1475.44 1315.12 1468.33 Q1315.12 1461.2 1313.29 1457.66 Q1311.48 1454.1 1307.85 1454.1 M1307.85 1450.39 Q1313.66 1450.39 1316.71 1455 Q1319.79 1459.58 1319.79 1468.33 Q1319.79 1477.06 1316.71 1481.67 Q1313.66 1486.25 1307.85 1486.25 Q1302.04 1486.25 1298.96 1481.67 Q1295.9 1477.06 1295.9 1468.33 Q1295.9 1459.58 1298.96 1455 Q1302.04 1450.39 1307.85 1450.39 Z\" fill=\"#000000\" fill-rule=\"nonzero\" fill-opacity=\"1\" /><path clip-path=\"url(#clip030)\" d=\"M1338.01 1454.1 Q1334.4 1454.1 1332.57 1457.66 Q1330.77 1461.2 1330.77 1468.33 Q1330.77 1475.44 1332.57 1479.01 Q1334.4 1482.55 1338.01 1482.55 Q1341.64 1482.55 1343.45 1479.01 Q1345.28 1475.44 1345.28 1468.33 Q1345.28 1461.2 1343.45 1457.66 Q1341.64 1454.1 1338.01 1454.1 M1338.01 1450.39 Q1343.82 1450.39 1346.88 1455 Q1349.95 1459.58 1349.95 1468.33 Q1349.95 1477.06 1346.88 1481.67 Q1343.82 1486.25 1338.01 1486.25 Q1332.2 1486.25 1329.12 1481.67 Q1326.07 1477.06 1326.07 1468.33 Q1326.07 1459.58 1329.12 1455 Q1332.2 1450.39 1338.01 1450.39 Z\" fill=\"#000000\" fill-rule=\"nonzero\" fill-opacity=\"1\" /><path clip-path=\"url(#clip030)\" d=\"M1759.17 1451.02 L1781.4 1451.02 L1781.4 1453.01 L1768.85 1485.58 L1763.97 1485.58 L1775.77 1454.96 L1759.17 1454.96 L1759.17 1451.02 Z\" fill=\"#000000\" fill-rule=\"nonzero\" fill-opacity=\"1\" /><path clip-path=\"url(#clip030)\" d=\"M1790.56 1451.02 L1808.92 1451.02 L1808.92 1454.96 L1794.84 1454.96 L1794.84 1463.43 Q1795.86 1463.08 1796.88 1462.92 Q1797.9 1462.73 1798.92 1462.73 Q1804.71 1462.73 1808.09 1465.9 Q1811.46 1469.08 1811.46 1474.49 Q1811.46 1480.07 1807.99 1483.17 Q1804.52 1486.25 1798.2 1486.25 Q1796.03 1486.25 1793.76 1485.88 Q1791.51 1485.51 1789.1 1484.77 L1789.1 1480.07 Q1791.19 1481.2 1793.41 1481.76 Q1795.63 1482.32 1798.11 1482.32 Q1802.11 1482.32 1804.45 1480.21 Q1806.79 1478.1 1806.79 1474.49 Q1806.79 1470.88 1804.45 1468.77 Q1802.11 1466.67 1798.11 1466.67 Q1796.23 1466.67 1794.36 1467.08 Q1792.51 1467.5 1790.56 1468.38 L1790.56 1451.02 Z\" fill=\"#000000\" fill-rule=\"nonzero\" fill-opacity=\"1\" /><path clip-path=\"url(#clip030)\" d=\"M1830.68 1454.1 Q1827.07 1454.1 1825.24 1457.66 Q1823.43 1461.2 1823.43 1468.33 Q1823.43 1475.44 1825.24 1479.01 Q1827.07 1482.55 1830.68 1482.55 Q1834.31 1482.55 1836.12 1479.01 Q1837.95 1475.44 1837.95 1468.33 Q1837.95 1461.2 1836.12 1457.66 Q1834.31 1454.1 1830.68 1454.1 M1830.68 1450.39 Q1836.49 1450.39 1839.54 1455 Q1842.62 1459.58 1842.62 1468.33 Q1842.62 1477.06 1839.54 1481.67 Q1836.49 1486.25 1830.68 1486.25 Q1824.87 1486.25 1821.79 1481.67 Q1818.73 1477.06 1818.73 1468.33 Q1818.73 1459.58 1821.79 1455 Q1824.87 1450.39 1830.68 1450.39 Z\" fill=\"#000000\" fill-rule=\"nonzero\" fill-opacity=\"1\" /><path clip-path=\"url(#clip030)\" d=\"M2238.21 1481.64 L2245.85 1481.64 L2245.85 1455.28 L2237.54 1456.95 L2237.54 1452.69 L2245.8 1451.02 L2250.48 1451.02 L2250.48 1481.64 L2258.11 1481.64 L2258.11 1485.58 L2238.21 1485.58 L2238.21 1481.64 Z\" fill=\"#000000\" fill-rule=\"nonzero\" fill-opacity=\"1\" /><path clip-path=\"url(#clip030)\" d=\"M2277.56 1454.1 Q2273.95 1454.1 2272.12 1457.66 Q2270.31 1461.2 2270.31 1468.33 Q2270.31 1475.44 2272.12 1479.01 Q2273.95 1482.55 2277.56 1482.55 Q2281.19 1482.55 2283 1479.01 Q2284.83 1475.44 2284.83 1468.33 Q2284.83 1461.2 2283 1457.66 Q2281.19 1454.1 2277.56 1454.1 M2277.56 1450.39 Q2283.37 1450.39 2286.42 1455 Q2289.5 1459.58 2289.5 1468.33 Q2289.5 1477.06 2286.42 1481.67 Q2283.37 1486.25 2277.56 1486.25 Q2271.75 1486.25 2268.67 1481.67 Q2265.61 1477.06 2265.61 1468.33 Q2265.61 1459.58 2268.67 1455 Q2271.75 1450.39 2277.56 1450.39 Z\" fill=\"#000000\" fill-rule=\"nonzero\" fill-opacity=\"1\" /><path clip-path=\"url(#clip030)\" d=\"M2307.72 1454.1 Q2304.11 1454.1 2302.28 1457.66 Q2300.48 1461.2 2300.48 1468.33 Q2300.48 1475.44 2302.28 1479.01 Q2304.11 1482.55 2307.72 1482.55 Q2311.35 1482.55 2313.16 1479.01 Q2314.99 1475.44 2314.99 1468.33 Q2314.99 1461.2 2313.16 1457.66 Q2311.35 1454.1 2307.72 1454.1 M2307.72 1450.39 Q2313.53 1450.39 2316.59 1455 Q2319.66 1459.58 2319.66 1468.33 Q2319.66 1477.06 2316.59 1481.67 Q2313.53 1486.25 2307.72 1486.25 Q2301.91 1486.25 2298.83 1481.67 Q2295.78 1477.06 2295.78 1468.33 Q2295.78 1459.58 2298.83 1455 Q2301.91 1450.39 2307.72 1450.39 Z\" fill=\"#000000\" fill-rule=\"nonzero\" fill-opacity=\"1\" /><path clip-path=\"url(#clip030)\" d=\"M2337.88 1454.1 Q2334.27 1454.1 2332.44 1457.66 Q2330.64 1461.2 2330.64 1468.33 Q2330.64 1475.44 2332.44 1479.01 Q2334.27 1482.55 2337.88 1482.55 Q2341.52 1482.55 2343.32 1479.01 Q2345.15 1475.44 2345.15 1468.33 Q2345.15 1461.2 2343.32 1457.66 Q2341.52 1454.1 2337.88 1454.1 M2337.88 1450.39 Q2343.69 1450.39 2346.75 1455 Q2349.83 1459.58 2349.83 1468.33 Q2349.83 1477.06 2346.75 1481.67 Q2343.69 1486.25 2337.88 1486.25 Q2332.07 1486.25 2328.99 1481.67 Q2325.94 1477.06 2325.94 1468.33 Q2325.94 1459.58 2328.99 1455 Q2332.07 1450.39 2337.88 1450.39 Z\" fill=\"#000000\" fill-rule=\"nonzero\" fill-opacity=\"1\" /><path clip-path=\"url(#clip030)\" d=\"M1158.66 1520.52 L1165.09 1520.52 L1165.09 1568.04 L1158.66 1568.04 L1158.66 1520.52 Z\" fill=\"#000000\" fill-rule=\"nonzero\" fill-opacity=\"1\" /><path clip-path=\"url(#clip030)\" d=\"M1183.43 1522.27 L1183.43 1532.4 L1195.49 1532.4 L1195.49 1536.95 L1183.43 1536.95 L1183.43 1556.3 Q1183.43 1560.66 1184.6 1561.9 Q1185.81 1563.14 1189.47 1563.14 L1195.49 1563.14 L1195.49 1568.04 L1189.47 1568.04 Q1182.69 1568.04 1180.12 1565.53 Q1177.54 1562.98 1177.54 1556.3 L1177.54 1536.95 L1173.24 1536.95 L1173.24 1532.4 L1177.54 1532.4 L1177.54 1522.27 L1183.43 1522.27 Z\" fill=\"#000000\" fill-rule=\"nonzero\" fill-opacity=\"1\" /><path clip-path=\"url(#clip030)\" d=\"M1233.68 1548.76 L1233.68 1551.62 L1206.76 1551.62 Q1207.14 1557.67 1210.38 1560.85 Q1213.66 1564 1219.49 1564 Q1222.86 1564 1226.01 1563.17 Q1229.19 1562.35 1232.31 1560.69 L1232.31 1566.23 Q1229.16 1567.57 1225.85 1568.27 Q1222.54 1568.97 1219.14 1568.97 Q1210.61 1568.97 1205.61 1564 Q1200.64 1559.04 1200.64 1550.57 Q1200.64 1541.82 1205.36 1536.69 Q1210.1 1531.54 1218.12 1531.54 Q1225.31 1531.54 1229.48 1536.18 Q1233.68 1540.8 1233.68 1548.76 M1227.83 1547.04 Q1227.76 1542.23 1225.12 1539.37 Q1222.51 1536.5 1218.18 1536.5 Q1213.28 1536.5 1210.32 1539.27 Q1207.39 1542.04 1206.95 1547.07 L1227.83 1547.04 M1222.19 1515.91 L1228.53 1515.91 L1218.15 1527.88 L1213.28 1527.88 L1222.19 1515.91 Z\" fill=\"#000000\" fill-rule=\"nonzero\" fill-opacity=\"1\" /><path clip-path=\"url(#clip030)\" d=\"M1263.95 1537.87 Q1262.96 1537.3 1261.79 1537.04 Q1260.64 1536.76 1259.24 1536.76 Q1254.28 1536.76 1251.6 1540 Q1248.96 1543.22 1248.96 1549.27 L1248.96 1568.04 L1243.07 1568.04 L1243.07 1532.4 L1248.96 1532.4 L1248.96 1537.93 Q1250.81 1534.69 1253.77 1533.13 Q1256.73 1531.54 1260.96 1531.54 Q1261.56 1531.54 1262.3 1531.63 Q1263.03 1531.7 1263.92 1531.85 L1263.95 1537.87 Z\" fill=\"#000000\" fill-rule=\"nonzero\" fill-opacity=\"1\" /><path clip-path=\"url(#clip030)\" d=\"M1286.3 1550.12 Q1279.2 1550.12 1276.46 1551.75 Q1273.72 1553.37 1273.72 1557.29 Q1273.72 1560.4 1275.76 1562.25 Q1277.83 1564.07 1281.36 1564.07 Q1286.23 1564.07 1289.16 1560.63 Q1292.12 1557.16 1292.12 1551.43 L1292.12 1550.12 L1286.3 1550.12 M1297.98 1547.71 L1297.98 1568.04 L1292.12 1568.04 L1292.12 1562.63 Q1290.11 1565.88 1287.12 1567.44 Q1284.13 1568.97 1279.8 1568.97 Q1274.33 1568.97 1271.08 1565.91 Q1267.87 1562.82 1267.87 1557.67 Q1267.87 1551.65 1271.88 1548.6 Q1275.92 1545.54 1283.91 1545.54 L1292.12 1545.54 L1292.12 1544.97 Q1292.12 1540.93 1289.45 1538.73 Q1286.8 1536.5 1282 1536.5 Q1278.94 1536.5 1276.05 1537.23 Q1273.15 1537.97 1270.48 1539.43 L1270.48 1534.02 Q1273.69 1532.78 1276.71 1532.17 Q1279.74 1531.54 1282.6 1531.54 Q1290.34 1531.54 1294.16 1535.55 Q1297.98 1539.56 1297.98 1547.71 Z\" fill=\"#000000\" fill-rule=\"nonzero\" fill-opacity=\"1\" /><path clip-path=\"url(#clip030)\" d=\"M1315.83 1522.27 L1315.83 1532.4 L1327.9 1532.4 L1327.9 1536.95 L1315.83 1536.95 L1315.83 1556.3 Q1315.83 1560.66 1317.01 1561.9 Q1318.22 1563.14 1321.88 1563.14 L1327.9 1563.14 L1327.9 1568.04 L1321.88 1568.04 Q1315.1 1568.04 1312.52 1565.53 Q1309.94 1562.98 1309.94 1556.3 L1309.94 1536.95 L1305.65 1536.95 L1305.65 1532.4 L1309.94 1532.4 L1309.94 1522.27 L1315.83 1522.27 Z\" fill=\"#000000\" fill-rule=\"nonzero\" fill-opacity=\"1\" /><path clip-path=\"url(#clip030)\" d=\"M1335.6 1532.4 L1341.45 1532.4 L1341.45 1568.04 L1335.6 1568.04 L1335.6 1532.4 M1335.6 1518.52 L1341.45 1518.52 L1341.45 1525.93 L1335.6 1525.93 L1335.6 1518.52 Z\" fill=\"#000000\" fill-rule=\"nonzero\" fill-opacity=\"1\" /><path clip-path=\"url(#clip030)\" d=\"M1367.52 1536.5 Q1362.81 1536.5 1360.07 1540.19 Q1357.34 1543.85 1357.34 1550.25 Q1357.34 1556.65 1360.04 1560.34 Q1362.78 1564 1367.52 1564 Q1372.2 1564 1374.94 1560.31 Q1377.67 1556.62 1377.67 1550.25 Q1377.67 1543.92 1374.94 1540.23 Q1372.2 1536.5 1367.52 1536.5 M1367.52 1531.54 Q1375.16 1531.54 1379.52 1536.5 Q1383.88 1541.47 1383.88 1550.25 Q1383.88 1559 1379.52 1564 Q1375.16 1568.97 1367.52 1568.97 Q1359.85 1568.97 1355.49 1564 Q1351.16 1559 1351.16 1550.25 Q1351.16 1541.47 1355.49 1536.5 Q1359.85 1531.54 1367.52 1531.54 Z\" fill=\"#000000\" fill-rule=\"nonzero\" fill-opacity=\"1\" /><path clip-path=\"url(#clip030)\" d=\"M1423.22 1546.53 L1423.22 1568.04 L1417.37 1568.04 L1417.37 1546.72 Q1417.37 1541.66 1415.39 1539.14 Q1413.42 1536.63 1409.47 1536.63 Q1404.73 1536.63 1401.99 1539.65 Q1399.25 1542.68 1399.25 1547.9 L1399.25 1568.04 L1393.37 1568.04 L1393.37 1532.4 L1399.25 1532.4 L1399.25 1537.93 Q1401.36 1534.72 1404.19 1533.13 Q1407.05 1531.54 1410.78 1531.54 Q1416.92 1531.54 1420.07 1535.36 Q1423.22 1539.14 1423.22 1546.53 Z\" fill=\"#000000\" fill-rule=\"nonzero\" fill-opacity=\"1\" /><path clip-path=\"url(#clip030)\" d=\"M1457.63 1533.45 L1457.63 1538.98 Q1455.15 1537.71 1452.47 1537.07 Q1449.8 1536.44 1446.93 1536.44 Q1442.57 1536.44 1440.38 1537.77 Q1438.21 1539.11 1438.21 1541.79 Q1438.21 1543.82 1439.77 1545 Q1441.33 1546.15 1446.04 1547.2 L1448.05 1547.64 Q1454.29 1548.98 1456.9 1551.43 Q1459.54 1553.85 1459.54 1558.21 Q1459.54 1563.17 1455.59 1566.07 Q1451.68 1568.97 1444.8 1568.97 Q1441.94 1568.97 1438.82 1568.39 Q1435.73 1567.85 1432.29 1566.74 L1432.29 1560.69 Q1435.54 1562.38 1438.69 1563.24 Q1441.84 1564.07 1444.93 1564.07 Q1449.07 1564.07 1451.29 1562.66 Q1453.52 1561.23 1453.52 1558.65 Q1453.52 1556.27 1451.9 1554.99 Q1450.31 1553.72 1444.86 1552.54 L1442.83 1552.07 Q1437.39 1550.92 1434.97 1548.56 Q1432.55 1546.18 1432.55 1542.04 Q1432.55 1537.01 1436.11 1534.27 Q1439.68 1531.54 1446.23 1531.54 Q1449.48 1531.54 1452.34 1532.01 Q1455.21 1532.49 1457.63 1533.45 Z\" fill=\"#000000\" fill-rule=\"nonzero\" fill-opacity=\"1\" /><polyline clip-path=\"url(#clip032)\" style=\"stroke:#000000; stroke-linecap:round; stroke-linejoin:round; stroke-width:2; stroke-opacity:0.1; fill:none\" points=\"265.445,1308.35 2352.76,1308.35 \"/>\n",
       "<polyline clip-path=\"url(#clip032)\" style=\"stroke:#000000; stroke-linecap:round; stroke-linejoin:round; stroke-width:2; stroke-opacity:0.1; fill:none\" points=\"265.445,1006.46 2352.76,1006.46 \"/>\n",
       "<polyline clip-path=\"url(#clip032)\" style=\"stroke:#000000; stroke-linecap:round; stroke-linejoin:round; stroke-width:2; stroke-opacity:0.1; fill:none\" points=\"265.445,704.561 2352.76,704.561 \"/>\n",
       "<polyline clip-path=\"url(#clip032)\" style=\"stroke:#000000; stroke-linecap:round; stroke-linejoin:round; stroke-width:2; stroke-opacity:0.1; fill:none\" points=\"265.445,402.667 2352.76,402.667 \"/>\n",
       "<polyline clip-path=\"url(#clip030)\" style=\"stroke:#000000; stroke-linecap:round; stroke-linejoin:round; stroke-width:4; stroke-opacity:1; fill:none\" points=\"265.445,1423.18 265.445,123.472 \"/>\n",
       "<polyline clip-path=\"url(#clip030)\" style=\"stroke:#000000; stroke-linecap:round; stroke-linejoin:round; stroke-width:4; stroke-opacity:1; fill:none\" points=\"265.445,1308.35 284.342,1308.35 \"/>\n",
       "<polyline clip-path=\"url(#clip030)\" style=\"stroke:#000000; stroke-linecap:round; stroke-linejoin:round; stroke-width:4; stroke-opacity:1; fill:none\" points=\"265.445,1006.46 284.342,1006.46 \"/>\n",
       "<polyline clip-path=\"url(#clip030)\" style=\"stroke:#000000; stroke-linecap:round; stroke-linejoin:round; stroke-width:4; stroke-opacity:1; fill:none\" points=\"265.445,704.561 284.342,704.561 \"/>\n",
       "<polyline clip-path=\"url(#clip030)\" style=\"stroke:#000000; stroke-linecap:round; stroke-linejoin:round; stroke-width:4; stroke-opacity:1; fill:none\" points=\"265.445,402.667 284.342,402.667 \"/>\n",
       "<path clip-path=\"url(#clip030)\" d=\"M131.181 1307 Q134.538 1307.71 136.413 1309.98 Q138.311 1312.25 138.311 1315.58 Q138.311 1320.7 134.792 1323.5 Q131.274 1326.3 124.793 1326.3 Q122.617 1326.3 120.302 1325.86 Q118.01 1325.44 115.556 1324.59 L115.556 1320.07 Q117.501 1321.21 119.816 1321.79 Q122.13 1322.37 124.654 1322.37 Q129.052 1322.37 131.343 1320.63 Q133.658 1318.89 133.658 1315.58 Q133.658 1312.53 131.505 1310.82 Q129.376 1309.08 125.556 1309.08 L121.529 1309.08 L121.529 1305.24 L125.742 1305.24 Q129.191 1305.24 131.019 1303.87 Q132.848 1302.48 132.848 1299.89 Q132.848 1297.23 130.95 1295.82 Q129.075 1294.38 125.556 1294.38 Q123.635 1294.38 121.436 1294.8 Q119.237 1295.21 116.598 1296.09 L116.598 1291.93 Q119.26 1291.19 121.575 1290.82 Q123.913 1290.45 125.973 1290.45 Q131.297 1290.45 134.399 1292.88 Q137.501 1295.28 137.501 1299.4 Q137.501 1302.27 135.857 1304.26 Q134.214 1306.23 131.181 1307 Z\" fill=\"#000000\" fill-rule=\"nonzero\" fill-opacity=\"1\" /><path clip-path=\"url(#clip030)\" d=\"M147.223 1291.07 L165.579 1291.07 L165.579 1295.01 L151.505 1295.01 L151.505 1303.48 Q152.524 1303.13 153.542 1302.97 Q154.561 1302.78 155.579 1302.78 Q161.366 1302.78 164.746 1305.95 Q168.126 1309.13 168.126 1314.54 Q168.126 1320.12 164.653 1323.22 Q161.181 1326.3 154.862 1326.3 Q152.686 1326.3 150.417 1325.93 Q148.172 1325.56 145.765 1324.82 L145.765 1320.12 Q147.848 1321.26 150.07 1321.81 Q152.292 1322.37 154.769 1322.37 Q158.774 1322.37 161.112 1320.26 Q163.45 1318.15 163.45 1314.54 Q163.45 1310.93 161.112 1308.82 Q158.774 1306.72 154.769 1306.72 Q152.894 1306.72 151.019 1307.13 Q149.167 1307.55 147.223 1308.43 L147.223 1291.07 Z\" fill=\"#000000\" fill-rule=\"nonzero\" fill-opacity=\"1\" /><path clip-path=\"url(#clip030)\" d=\"M187.338 1294.15 Q183.727 1294.15 181.899 1297.71 Q180.093 1301.26 180.093 1308.38 Q180.093 1315.49 181.899 1319.06 Q183.727 1322.6 187.338 1322.6 Q190.973 1322.6 192.778 1319.06 Q194.607 1315.49 194.607 1308.38 Q194.607 1301.26 192.778 1297.71 Q190.973 1294.15 187.338 1294.15 M187.338 1290.45 Q193.149 1290.45 196.204 1295.05 Q199.283 1299.63 199.283 1308.38 Q199.283 1317.11 196.204 1321.72 Q193.149 1326.3 187.338 1326.3 Q181.528 1326.3 178.45 1321.72 Q175.394 1317.11 175.394 1308.38 Q175.394 1299.63 178.45 1295.05 Q181.528 1290.45 187.338 1290.45 Z\" fill=\"#000000\" fill-rule=\"nonzero\" fill-opacity=\"1\" /><path clip-path=\"url(#clip030)\" d=\"M217.5 1294.15 Q213.889 1294.15 212.061 1297.71 Q210.255 1301.26 210.255 1308.38 Q210.255 1315.49 212.061 1319.06 Q213.889 1322.6 217.5 1322.6 Q221.135 1322.6 222.94 1319.06 Q224.769 1315.49 224.769 1308.38 Q224.769 1301.26 222.94 1297.71 Q221.135 1294.15 217.5 1294.15 M217.5 1290.45 Q223.31 1290.45 226.366 1295.05 Q229.445 1299.63 229.445 1308.38 Q229.445 1317.11 226.366 1321.72 Q223.31 1326.3 217.5 1326.3 Q211.69 1326.3 208.612 1321.72 Q205.556 1317.11 205.556 1308.38 Q205.556 1299.63 208.612 1295.05 Q211.69 1290.45 217.5 1290.45 Z\" fill=\"#000000\" fill-rule=\"nonzero\" fill-opacity=\"1\" /><path clip-path=\"url(#clip030)\" d=\"M129.862 993.25 L118.056 1011.7 L129.862 1011.7 L129.862 993.25 M128.635 989.176 L134.515 989.176 L134.515 1011.7 L139.445 1011.7 L139.445 1015.59 L134.515 1015.59 L134.515 1023.74 L129.862 1023.74 L129.862 1015.59 L114.26 1015.59 L114.26 1011.07 L128.635 989.176 Z\" fill=\"#000000\" fill-rule=\"nonzero\" fill-opacity=\"1\" /><path clip-path=\"url(#clip030)\" d=\"M157.177 992.254 Q153.566 992.254 151.737 995.819 Q149.931 999.361 149.931 1006.49 Q149.931 1013.6 151.737 1017.16 Q153.566 1020.7 157.177 1020.7 Q160.811 1020.7 162.616 1017.16 Q164.445 1013.6 164.445 1006.49 Q164.445 999.361 162.616 995.819 Q160.811 992.254 157.177 992.254 M157.177 988.551 Q162.987 988.551 166.042 993.157 Q169.121 997.74 169.121 1006.49 Q169.121 1015.22 166.042 1019.82 Q162.987 1024.41 157.177 1024.41 Q151.366 1024.41 148.288 1019.82 Q145.232 1015.22 145.232 1006.49 Q145.232 997.74 148.288 993.157 Q151.366 988.551 157.177 988.551 Z\" fill=\"#000000\" fill-rule=\"nonzero\" fill-opacity=\"1\" /><path clip-path=\"url(#clip030)\" d=\"M187.338 992.254 Q183.727 992.254 181.899 995.819 Q180.093 999.361 180.093 1006.49 Q180.093 1013.6 181.899 1017.16 Q183.727 1020.7 187.338 1020.7 Q190.973 1020.7 192.778 1017.16 Q194.607 1013.6 194.607 1006.49 Q194.607 999.361 192.778 995.819 Q190.973 992.254 187.338 992.254 M187.338 988.551 Q193.149 988.551 196.204 993.157 Q199.283 997.74 199.283 1006.49 Q199.283 1015.22 196.204 1019.82 Q193.149 1024.41 187.338 1024.41 Q181.528 1024.41 178.45 1019.82 Q175.394 1015.22 175.394 1006.49 Q175.394 997.74 178.45 993.157 Q181.528 988.551 187.338 988.551 Z\" fill=\"#000000\" fill-rule=\"nonzero\" fill-opacity=\"1\" /><path clip-path=\"url(#clip030)\" d=\"M217.5 992.254 Q213.889 992.254 212.061 995.819 Q210.255 999.361 210.255 1006.49 Q210.255 1013.6 212.061 1017.16 Q213.889 1020.7 217.5 1020.7 Q221.135 1020.7 222.94 1017.16 Q224.769 1013.6 224.769 1006.49 Q224.769 999.361 222.94 995.819 Q221.135 992.254 217.5 992.254 M217.5 988.551 Q223.31 988.551 226.366 993.157 Q229.445 997.74 229.445 1006.49 Q229.445 1015.22 226.366 1019.82 Q223.31 1024.41 217.5 1024.41 Q211.69 1024.41 208.612 1019.82 Q205.556 1015.22 205.556 1006.49 Q205.556 997.74 208.612 993.157 Q211.69 988.551 217.5 988.551 Z\" fill=\"#000000\" fill-rule=\"nonzero\" fill-opacity=\"1\" /><path clip-path=\"url(#clip030)\" d=\"M129.862 691.355 L118.056 709.804 L129.862 709.804 L129.862 691.355 M128.635 687.281 L134.515 687.281 L134.515 709.804 L139.445 709.804 L139.445 713.693 L134.515 713.693 L134.515 721.841 L129.862 721.841 L129.862 713.693 L114.26 713.693 L114.26 709.179 L128.635 687.281 Z\" fill=\"#000000\" fill-rule=\"nonzero\" fill-opacity=\"1\" /><path clip-path=\"url(#clip030)\" d=\"M147.223 687.281 L165.579 687.281 L165.579 691.216 L151.505 691.216 L151.505 699.689 Q152.524 699.341 153.542 699.179 Q154.561 698.994 155.579 698.994 Q161.366 698.994 164.746 702.165 Q168.126 705.337 168.126 710.753 Q168.126 716.332 164.653 719.434 Q161.181 722.512 154.862 722.512 Q152.686 722.512 150.417 722.142 Q148.172 721.772 145.765 721.031 L145.765 716.332 Q147.848 717.466 150.07 718.022 Q152.292 718.577 154.769 718.577 Q158.774 718.577 161.112 716.471 Q163.45 714.364 163.45 710.753 Q163.45 707.142 161.112 705.036 Q158.774 702.929 154.769 702.929 Q152.894 702.929 151.019 703.346 Q149.167 703.763 147.223 704.642 L147.223 687.281 Z\" fill=\"#000000\" fill-rule=\"nonzero\" fill-opacity=\"1\" /><path clip-path=\"url(#clip030)\" d=\"M187.338 690.36 Q183.727 690.36 181.899 693.925 Q180.093 697.466 180.093 704.596 Q180.093 711.702 181.899 715.267 Q183.727 718.809 187.338 718.809 Q190.973 718.809 192.778 715.267 Q194.607 711.702 194.607 704.596 Q194.607 697.466 192.778 693.925 Q190.973 690.36 187.338 690.36 M187.338 686.656 Q193.149 686.656 196.204 691.263 Q199.283 695.846 199.283 704.596 Q199.283 713.323 196.204 717.929 Q193.149 722.512 187.338 722.512 Q181.528 722.512 178.45 717.929 Q175.394 713.323 175.394 704.596 Q175.394 695.846 178.45 691.263 Q181.528 686.656 187.338 686.656 Z\" fill=\"#000000\" fill-rule=\"nonzero\" fill-opacity=\"1\" /><path clip-path=\"url(#clip030)\" d=\"M217.5 690.36 Q213.889 690.36 212.061 693.925 Q210.255 697.466 210.255 704.596 Q210.255 711.702 212.061 715.267 Q213.889 718.809 217.5 718.809 Q221.135 718.809 222.94 715.267 Q224.769 711.702 224.769 704.596 Q224.769 697.466 222.94 693.925 Q221.135 690.36 217.5 690.36 M217.5 686.656 Q223.31 686.656 226.366 691.263 Q229.445 695.846 229.445 704.596 Q229.445 713.323 226.366 717.929 Q223.31 722.512 217.5 722.512 Q211.69 722.512 208.612 717.929 Q205.556 713.323 205.556 704.596 Q205.556 695.846 208.612 691.263 Q211.69 686.656 217.5 686.656 Z\" fill=\"#000000\" fill-rule=\"nonzero\" fill-opacity=\"1\" /><path clip-path=\"url(#clip030)\" d=\"M117.061 385.387 L135.417 385.387 L135.417 389.322 L121.343 389.322 L121.343 397.794 Q122.362 397.447 123.38 397.285 Q124.399 397.1 125.418 397.1 Q131.205 397.1 134.584 400.271 Q137.964 403.442 137.964 408.859 Q137.964 414.438 134.492 417.539 Q131.019 420.618 124.7 420.618 Q122.524 420.618 120.255 420.248 Q118.01 419.877 115.603 419.137 L115.603 414.438 Q117.686 415.572 119.908 416.127 Q122.13 416.683 124.607 416.683 Q128.612 416.683 130.95 414.576 Q133.288 412.47 133.288 408.859 Q133.288 405.248 130.95 403.141 Q128.612 401.035 124.607 401.035 Q122.732 401.035 120.857 401.451 Q119.006 401.868 117.061 402.748 L117.061 385.387 Z\" fill=\"#000000\" fill-rule=\"nonzero\" fill-opacity=\"1\" /><path clip-path=\"url(#clip030)\" d=\"M157.177 388.465 Q153.566 388.465 151.737 392.03 Q149.931 395.572 149.931 402.701 Q149.931 409.808 151.737 413.373 Q153.566 416.914 157.177 416.914 Q160.811 416.914 162.616 413.373 Q164.445 409.808 164.445 402.701 Q164.445 395.572 162.616 392.03 Q160.811 388.465 157.177 388.465 M157.177 384.762 Q162.987 384.762 166.042 389.368 Q169.121 393.952 169.121 402.701 Q169.121 411.428 166.042 416.035 Q162.987 420.618 157.177 420.618 Q151.366 420.618 148.288 416.035 Q145.232 411.428 145.232 402.701 Q145.232 393.952 148.288 389.368 Q151.366 384.762 157.177 384.762 Z\" fill=\"#000000\" fill-rule=\"nonzero\" fill-opacity=\"1\" /><path clip-path=\"url(#clip030)\" d=\"M187.338 388.465 Q183.727 388.465 181.899 392.03 Q180.093 395.572 180.093 402.701 Q180.093 409.808 181.899 413.373 Q183.727 416.914 187.338 416.914 Q190.973 416.914 192.778 413.373 Q194.607 409.808 194.607 402.701 Q194.607 395.572 192.778 392.03 Q190.973 388.465 187.338 388.465 M187.338 384.762 Q193.149 384.762 196.204 389.368 Q199.283 393.952 199.283 402.701 Q199.283 411.428 196.204 416.035 Q193.149 420.618 187.338 420.618 Q181.528 420.618 178.45 416.035 Q175.394 411.428 175.394 402.701 Q175.394 393.952 178.45 389.368 Q181.528 384.762 187.338 384.762 Z\" fill=\"#000000\" fill-rule=\"nonzero\" fill-opacity=\"1\" /><path clip-path=\"url(#clip030)\" d=\"M217.5 388.465 Q213.889 388.465 212.061 392.03 Q210.255 395.572 210.255 402.701 Q210.255 409.808 212.061 413.373 Q213.889 416.914 217.5 416.914 Q221.135 416.914 222.94 413.373 Q224.769 409.808 224.769 402.701 Q224.769 395.572 222.94 392.03 Q221.135 388.465 217.5 388.465 M217.5 384.762 Q223.31 384.762 226.366 389.368 Q229.445 393.952 229.445 402.701 Q229.445 411.428 226.366 416.035 Q223.31 420.618 217.5 420.618 Q211.69 420.618 208.612 416.035 Q205.556 411.428 205.556 402.701 Q205.556 393.952 208.612 389.368 Q211.69 384.762 217.5 384.762 Z\" fill=\"#000000\" fill-rule=\"nonzero\" fill-opacity=\"1\" /><path clip-path=\"url(#clip030)\" d=\"M20.1444 808.528 L26.9239 808.528 Q23.9002 811.775 22.4043 815.467 Q20.9083 819.127 20.9083 823.265 Q20.9083 831.413 25.9054 835.742 Q30.8707 840.07 40.2919 840.07 Q49.6813 840.07 54.6784 835.742 Q59.6436 831.413 59.6436 823.265 Q59.6436 819.127 58.1477 815.467 Q56.6518 811.775 53.6281 808.528 L60.3439 808.528 Q62.6355 811.902 63.7814 815.69 Q64.9272 819.446 64.9272 823.647 Q64.9272 834.437 58.3387 840.643 Q51.7183 846.85 40.2919 846.85 Q28.8336 846.85 22.2451 840.643 Q15.6248 834.437 15.6248 823.647 Q15.6248 819.382 16.7706 815.626 Q17.8846 811.839 20.1444 808.528 Z\" fill=\"#000000\" fill-rule=\"nonzero\" fill-opacity=\"1\" /><path clip-path=\"url(#clip030)\" d=\"M32.4621 785.039 Q32.4621 789.75 36.1542 792.487 Q39.8145 795.224 46.212 795.224 Q52.6095 795.224 56.3017 792.519 Q59.9619 789.781 59.9619 785.039 Q59.9619 780.36 56.2698 777.623 Q52.5777 774.886 46.212 774.886 Q39.8781 774.886 36.186 777.623 Q32.4621 780.36 32.4621 785.039 M27.4968 785.039 Q27.4968 777.4 32.4621 773.04 Q37.4273 768.679 46.212 768.679 Q54.9649 768.679 59.9619 773.04 Q64.9272 777.4 64.9272 785.039 Q64.9272 792.71 59.9619 797.07 Q54.9649 801.399 46.212 801.399 Q37.4273 801.399 32.4621 797.07 Q27.4968 792.71 27.4968 785.039 Z\" fill=\"#000000\" fill-rule=\"nonzero\" fill-opacity=\"1\" /><path clip-path=\"url(#clip030)\" d=\"M49.9359 759.576 L28.3562 759.576 L28.3562 753.72 L49.7131 753.72 Q54.7739 753.72 57.3202 751.746 Q59.8346 749.773 59.8346 745.826 Q59.8346 741.084 56.8109 738.346 Q53.7872 735.577 48.5673 735.577 L28.3562 735.577 L28.3562 729.721 L64.0042 729.721 L64.0042 735.577 L58.5296 735.577 Q61.7762 737.71 63.3676 740.543 Q64.9272 743.344 64.9272 747.067 Q64.9272 753.21 61.1078 756.393 Q57.2883 759.576 49.9359 759.576 M27.4968 744.839 L27.4968 744.839 M11.869 747.258 L11.869 742.548 L23.8365 734.75 L23.8365 739.174 L16.0386 744.903 L23.8365 750.632 L23.8365 755.056 L11.869 747.258 Z\" fill=\"#000000\" fill-rule=\"nonzero\" fill-opacity=\"1\" /><path clip-path=\"url(#clip030)\" d=\"M18.2347 711.865 L28.3562 711.865 L28.3562 699.802 L32.9077 699.802 L32.9077 711.865 L52.2594 711.865 Q56.6199 711.865 57.8613 710.687 Q59.1026 709.478 59.1026 705.818 L59.1026 699.802 L64.0042 699.802 L64.0042 705.818 Q64.0042 712.597 61.4897 715.175 Q58.9434 717.753 52.2594 717.753 L32.9077 717.753 L32.9077 722.05 L28.3562 722.05 L28.3562 717.753 L18.2347 717.753 L18.2347 711.865 Z\" fill=\"#000000\" fill-rule=\"nonzero\" fill-opacity=\"1\" /><path clip-path=\"url(#clip030)\" d=\"M951.021 12.096 L989.261 12.096 L989.261 18.9825 L959.203 18.9825 L959.203 36.8875 L988.005 36.8875 L988.005 43.7741 L959.203 43.7741 L959.203 65.6895 L989.99 65.6895 L989.99 72.576 L951.021 72.576 L951.021 12.096 M972.247 -4.35067 L979.742 -4.35067 L970.505 6.34372 L964.308 6.34372 L972.247 -4.35067 Z\" fill=\"#000000\" fill-rule=\"nonzero\" fill-opacity=\"1\" /><path clip-path=\"url(#clip030)\" d=\"M997.768 27.2059 L1005.67 27.2059 L1019.85 65.2844 L1034.02 27.2059 L1041.92 27.2059 L1024.91 72.576 L1014.78 72.576 L997.768 27.2059 Z\" fill=\"#000000\" fill-rule=\"nonzero\" fill-opacity=\"1\" /><path clip-path=\"url(#clip030)\" d=\"M1069.79 32.4315 Q1063.8 32.4315 1060.31 37.1306 Q1056.83 41.7891 1056.83 49.9314 Q1056.83 58.0738 1060.27 62.7728 Q1063.76 67.4314 1069.79 67.4314 Q1075.75 67.4314 1079.23 62.7323 Q1082.72 58.0333 1082.72 49.9314 Q1082.72 41.8701 1079.23 37.1711 Q1075.75 32.4315 1069.79 32.4315 M1069.79 26.1121 Q1079.52 26.1121 1085.07 32.4315 Q1090.61 38.7509 1090.61 49.9314 Q1090.61 61.0714 1085.07 67.4314 Q1079.52 73.7508 1069.79 73.7508 Q1060.03 73.7508 1054.48 67.4314 Q1048.97 61.0714 1048.97 49.9314 Q1048.97 38.7509 1054.48 32.4315 Q1060.03 26.1121 1069.79 26.1121 Z\" fill=\"#000000\" fill-rule=\"nonzero\" fill-opacity=\"1\" /><path clip-path=\"url(#clip030)\" d=\"M1102.97 9.54393 L1110.42 9.54393 L1110.42 72.576 L1102.97 72.576 L1102.97 9.54393 Z\" fill=\"#000000\" fill-rule=\"nonzero\" fill-opacity=\"1\" /><path clip-path=\"url(#clip030)\" d=\"M1125.25 54.671 L1125.25 27.2059 L1132.7 27.2059 L1132.7 54.3874 Q1132.7 60.8284 1135.22 64.0691 Q1137.73 67.2693 1142.75 67.2693 Q1148.79 67.2693 1152.27 63.421 Q1155.79 59.5726 1155.79 52.9291 L1155.79 27.2059 L1163.25 27.2059 L1163.25 72.576 L1155.79 72.576 L1155.79 65.6084 Q1153.08 69.7404 1149.47 71.7658 Q1145.91 73.7508 1141.17 73.7508 Q1133.35 73.7508 1129.3 68.8897 Q1125.25 64.0286 1125.25 54.671 M1144.01 26.1121 L1144.01 26.1121 Z\" fill=\"#000000\" fill-rule=\"nonzero\" fill-opacity=\"1\" /><path clip-path=\"url(#clip030)\" d=\"M1185.97 14.324 L1185.97 27.2059 L1201.33 27.2059 L1201.33 32.9987 L1185.97 32.9987 L1185.97 57.6282 Q1185.97 63.1779 1187.47 64.7578 Q1189.01 66.3376 1193.67 66.3376 L1201.33 66.3376 L1201.33 72.576 L1193.67 72.576 Q1185.04 72.576 1181.76 69.3758 Q1178.48 66.1351 1178.48 57.6282 L1178.48 32.9987 L1173.01 32.9987 L1173.01 27.2059 L1178.48 27.2059 L1178.48 14.324 L1185.97 14.324 Z\" fill=\"#000000\" fill-rule=\"nonzero\" fill-opacity=\"1\" /><path clip-path=\"url(#clip030)\" d=\"M1211.13 27.2059 L1218.58 27.2059 L1218.58 72.576 L1211.13 72.576 L1211.13 27.2059 M1211.13 9.54393 L1218.58 9.54393 L1218.58 18.9825 L1211.13 18.9825 L1211.13 9.54393 Z\" fill=\"#000000\" fill-rule=\"nonzero\" fill-opacity=\"1\" /><path clip-path=\"url(#clip030)\" d=\"M1251.76 32.4315 Q1245.76 32.4315 1242.28 37.1306 Q1238.8 41.7891 1238.8 49.9314 Q1238.8 58.0738 1242.24 62.7728 Q1245.72 67.4314 1251.76 67.4314 Q1257.71 67.4314 1261.2 62.7323 Q1264.68 58.0333 1264.68 49.9314 Q1264.68 41.8701 1261.2 37.1711 Q1257.71 32.4315 1251.76 32.4315 M1251.76 26.1121 Q1261.48 26.1121 1267.03 32.4315 Q1272.58 38.7509 1272.58 49.9314 Q1272.58 61.0714 1267.03 67.4314 Q1261.48 73.7508 1251.76 73.7508 Q1242 73.7508 1236.45 67.4314 Q1230.94 61.0714 1230.94 49.9314 Q1230.94 38.7509 1236.45 32.4315 Q1242 26.1121 1251.76 26.1121 Z\" fill=\"#000000\" fill-rule=\"nonzero\" fill-opacity=\"1\" /><path clip-path=\"url(#clip030)\" d=\"M1322.65 45.1919 L1322.65 72.576 L1315.2 72.576 L1315.2 45.4349 Q1315.2 38.994 1312.69 35.7938 Q1310.17 32.5936 1305.15 32.5936 Q1299.11 32.5936 1295.63 36.4419 Q1292.15 40.2903 1292.15 46.9338 L1292.15 72.576 L1284.65 72.576 L1284.65 27.2059 L1292.15 27.2059 L1292.15 34.2544 Q1294.82 30.163 1298.43 28.1376 Q1302.07 26.1121 1306.81 26.1121 Q1314.63 26.1121 1318.64 30.9732 Q1322.65 35.7938 1322.65 45.1919 Z\" fill=\"#000000\" fill-rule=\"nonzero\" fill-opacity=\"1\" /><path clip-path=\"url(#clip030)\" d=\"M1393.74 34.0924 L1393.74 9.54393 L1401.2 9.54393 L1401.2 72.576 L1393.74 72.576 L1393.74 65.7705 Q1391.39 69.8214 1387.79 71.8063 Q1384.22 73.7508 1379.2 73.7508 Q1370.98 73.7508 1365.79 67.1883 Q1360.65 60.6258 1360.65 49.9314 Q1360.65 39.2371 1365.79 32.6746 Q1370.98 26.1121 1379.2 26.1121 Q1384.22 26.1121 1387.79 28.0971 Q1391.39 30.0415 1393.74 34.0924 M1368.34 49.9314 Q1368.34 58.1548 1371.71 62.8538 Q1375.11 67.5124 1381.02 67.5124 Q1386.94 67.5124 1390.34 62.8538 Q1393.74 58.1548 1393.74 49.9314 Q1393.74 41.7081 1390.34 37.0496 Q1386.94 32.3505 1381.02 32.3505 Q1375.11 32.3505 1371.71 37.0496 Q1368.34 41.7081 1368.34 49.9314 Z\" fill=\"#000000\" fill-rule=\"nonzero\" fill-opacity=\"1\" /><path clip-path=\"url(#clip030)\" d=\"M1415.78 54.671 L1415.78 27.2059 L1423.23 27.2059 L1423.23 54.3874 Q1423.23 60.8284 1425.75 64.0691 Q1428.26 67.2693 1433.28 67.2693 Q1439.32 67.2693 1442.8 63.421 Q1446.32 59.5726 1446.32 52.9291 L1446.32 27.2059 L1453.78 27.2059 L1453.78 72.576 L1446.32 72.576 L1446.32 65.6084 Q1443.61 69.7404 1440.01 71.7658 Q1436.44 73.7508 1431.7 73.7508 Q1423.88 73.7508 1419.83 68.8897 Q1415.78 64.0286 1415.78 54.671 M1434.54 26.1121 L1434.54 26.1121 Z\" fill=\"#000000\" fill-rule=\"nonzero\" fill-opacity=\"1\" /><path clip-path=\"url(#clip030)\" d=\"M1528.15 28.9478 L1528.15 35.9153 Q1524.99 34.1734 1521.79 33.3227 Q1518.63 32.4315 1515.39 32.4315 Q1508.14 32.4315 1504.13 37.0496 Q1500.12 41.6271 1500.12 49.9314 Q1500.12 58.2358 1504.13 62.8538 Q1508.14 67.4314 1515.39 67.4314 Q1518.63 67.4314 1521.79 66.5807 Q1524.99 65.6895 1528.15 63.9476 L1528.15 70.8341 Q1525.03 72.2924 1521.67 73.0216 Q1518.35 73.7508 1514.58 73.7508 Q1504.33 73.7508 1498.3 67.3098 Q1492.26 60.8689 1492.26 49.9314 Q1492.26 38.832 1498.34 32.472 Q1504.46 26.1121 1515.07 26.1121 Q1518.51 26.1121 1521.79 26.8413 Q1525.07 27.5299 1528.15 28.9478 Z\" fill=\"#000000\" fill-rule=\"nonzero\" fill-opacity=\"1\" /><path clip-path=\"url(#clip030)\" d=\"M1558.7 32.4315 Q1552.7 32.4315 1549.22 37.1306 Q1545.73 41.7891 1545.73 49.9314 Q1545.73 58.0738 1549.18 62.7728 Q1552.66 67.4314 1558.7 67.4314 Q1564.65 67.4314 1568.14 62.7323 Q1571.62 58.0333 1571.62 49.9314 Q1571.62 41.8701 1568.14 37.1711 Q1564.65 32.4315 1558.7 32.4315 M1558.7 26.1121 Q1568.42 26.1121 1573.97 32.4315 Q1579.52 38.7509 1579.52 49.9314 Q1579.52 61.0714 1573.97 67.4314 Q1568.42 73.7508 1558.7 73.7508 Q1548.93 73.7508 1543.38 67.4314 Q1537.88 61.0714 1537.88 49.9314 Q1537.88 38.7509 1543.38 32.4315 Q1548.93 26.1121 1558.7 26.1121 Z\" fill=\"#000000\" fill-rule=\"nonzero\" fill-opacity=\"1\" /><path clip-path=\"url(#clip030)\" d=\"M1591.1 54.671 L1591.1 27.2059 L1598.56 27.2059 L1598.56 54.3874 Q1598.56 60.8284 1601.07 64.0691 Q1603.58 67.2693 1608.6 67.2693 Q1614.64 67.2693 1618.12 63.421 Q1621.65 59.5726 1621.65 52.9291 L1621.65 27.2059 L1629.1 27.2059 L1629.1 72.576 L1621.65 72.576 L1621.65 65.6084 Q1618.93 69.7404 1615.33 71.7658 Q1611.76 73.7508 1607.02 73.7508 Q1599.21 73.7508 1595.15 68.8897 Q1591.1 64.0286 1591.1 54.671 M1609.86 26.1121 L1609.86 26.1121 M1606.78 6.22219 L1612.78 6.22219 L1622.7 21.4536 L1617.07 21.4536 L1609.78 11.5289 L1602.49 21.4536 L1596.86 21.4536 L1606.78 6.22219 Z\" fill=\"#000000\" fill-rule=\"nonzero\" fill-opacity=\"1\" /><path clip-path=\"url(#clip030)\" d=\"M1651.83 14.324 L1651.83 27.2059 L1667.18 27.2059 L1667.18 32.9987 L1651.83 32.9987 L1651.83 57.6282 Q1651.83 63.1779 1653.33 64.7578 Q1654.87 66.3376 1659.52 66.3376 L1667.18 66.3376 L1667.18 72.576 L1659.52 72.576 Q1650.9 72.576 1647.61 69.3758 Q1644.33 66.1351 1644.33 57.6282 L1644.33 32.9987 L1638.86 32.9987 L1638.86 27.2059 L1644.33 27.2059 L1644.33 14.324 L1651.83 14.324 Z\" fill=\"#000000\" fill-rule=\"nonzero\" fill-opacity=\"1\" /><polyline clip-path=\"url(#clip032)\" style=\"stroke:#009af9; stroke-linecap:round; stroke-linejoin:round; stroke-width:4; stroke-opacity:1; fill:none\" points=\"324.52,160.256 326.491,160.256 328.462,160.256 330.433,160.256 332.404,160.256 334.375,160.256 336.346,160.256 338.317,160.256 340.289,160.256 342.26,160.256 344.231,254.869 346.202,301.271 348.173,301.271 350.144,301.271 352.115,301.271 354.087,309.895 356.058,309.895 358.029,309.895 360,309.895 361.971,356.425 363.942,356.425 365.913,356.425 367.884,356.425 369.856,356.425 371.827,356.425 373.798,356.425 375.769,367.96 377.74,427.177 379.711,427.177 381.682,427.177 383.654,427.177 385.625,427.177 387.596,454.469 389.567,454.469 391.538,488.056 393.509,488.056 395.48,488.056 397.451,488.056 399.423,488.056 401.394,488.056 403.365,488.056 405.336,488.056 407.307,488.056 409.278,488.056 411.249,488.056 413.221,488.056 415.192,488.056 417.163,488.056 419.134,488.056 421.105,488.056 423.076,488.056 425.047,500.05 427.018,500.05 428.99,500.05 430.961,500.05 432.932,500.05 434.903,500.05 436.874,500.05 438.845,500.05 440.816,500.05 442.788,500.05 444.759,500.05 446.73,500.05 448.701,500.05 450.672,500.05 452.643,500.05 454.614,544.977 456.585,544.977 458.557,544.977 460.528,544.977 462.499,544.977 464.47,544.977 466.441,544.977 468.412,544.977 470.383,544.977 472.355,544.977 474.326,544.977 476.297,544.977 478.268,544.977 480.239,544.977 482.21,544.977 484.181,544.977 486.152,544.977 488.124,544.977 490.095,562.233 492.066,562.233 494.037,608.034 496.008,608.034 497.979,608.034 499.95,624.786 501.922,624.786 503.893,628.985 505.864,628.985 507.835,628.985 509.806,628.985 511.777,689.31 513.748,689.31 515.719,715.568 517.691,715.568 519.662,715.568 521.633,715.568 523.604,715.568 525.575,715.568 527.546,715.568 529.517,715.568 531.488,715.568 533.46,715.568 535.431,715.568 537.402,715.568 539.373,715.568 541.344,715.568 543.315,715.568 545.286,715.568 547.258,715.568 549.229,715.568 551.2,715.568 553.171,715.568 555.142,845.018 557.113,845.018 559.084,845.018 561.055,845.018 563.027,845.018 564.998,845.018 566.969,845.018 568.94,845.018 570.911,1056.51 572.882,1056.51 574.853,1061.16 576.825,1061.16 578.796,1096.65 580.767,1096.65 582.738,1096.65 584.709,1120.63 586.68,1120.63 588.651,1120.63 590.622,1120.63 592.594,1120.63 594.565,1120.63 596.536,1120.63 598.507,1120.63 600.478,1120.63 602.449,1120.63 604.42,1120.63 606.392,1120.63 608.363,1120.63 610.334,1120.63 612.305,1120.63 614.276,1120.63 616.247,1120.63 618.218,1120.63 620.189,1120.63 622.161,1131.13 624.132,1131.13 626.103,1142.75 628.074,1142.75 630.045,1142.75 632.016,1142.75 633.987,1142.75 635.959,1142.75 637.93,1142.75 639.901,1142.75 641.872,1142.75 643.843,1142.75 645.814,1142.75 647.785,1142.75 649.756,1142.75 651.728,1142.75 653.699,1142.75 655.67,1142.75 657.641,1142.75 659.612,1142.75 661.583,1142.75 663.554,1142.75 665.526,1142.75 667.497,1142.75 669.468,1156.59 671.439,1156.59 673.41,1156.59 675.381,1156.59 677.352,1156.59 679.323,1156.59 681.295,1156.59 683.266,1156.59 685.237,1156.59 687.208,1156.59 689.179,1156.59 691.15,1156.59 693.121,1156.59 695.093,1156.59 697.064,1156.59 699.035,1156.59 701.006,1156.59 702.977,1156.59 704.948,1156.59 706.919,1156.59 708.89,1156.59 710.862,1176.18 712.833,1176.18 714.804,1176.18 716.775,1176.18 718.746,1176.18 720.717,1176.18 722.688,1176.18 724.659,1176.18 726.631,1176.18 728.602,1176.18 730.573,1176.18 732.544,1176.18 734.515,1176.18 736.486,1176.18 738.457,1176.18 740.429,1176.18 742.4,1176.18 744.371,1176.18 746.342,1176.18 748.313,1176.18 750.284,1176.18 752.255,1176.18 754.226,1176.18 756.198,1176.18 758.169,1176.18 760.14,1176.18 762.111,1176.18 764.082,1176.18 766.053,1176.18 768.024,1176.18 769.996,1176.18 771.967,1176.18 773.938,1176.18 775.909,1176.18 777.88,1213.2 779.851,1213.2 781.822,1213.2 783.793,1213.2 785.765,1213.2 787.736,1213.2 789.707,1213.2 791.678,1213.2 793.649,1213.2 795.62,1213.2 797.591,1213.2 799.563,1213.2 801.534,1213.2 803.505,1213.2 805.476,1213.2 807.447,1213.2 809.418,1213.2 811.389,1213.2 813.36,1213.2 815.332,1213.2 817.303,1227.58 819.274,1227.58 821.245,1227.58 823.216,1227.58 825.187,1227.58 827.158,1227.58 829.13,1227.58 831.101,1227.58 833.072,1227.58 835.043,1227.58 837.014,1227.58 838.985,1227.58 840.956,1227.58 842.927,1227.58 844.899,1227.58 846.87,1227.58 848.841,1227.58 850.812,1227.58 852.783,1227.58 854.754,1227.58 856.725,1227.58 858.697,1257.14 860.668,1257.14 862.639,1257.14 864.61,1257.14 866.581,1257.14 868.552,1257.14 870.523,1257.14 872.494,1257.14 874.466,1257.14 876.437,1257.14 878.408,1257.14 880.379,1257.14 882.35,1257.14 884.321,1257.14 886.292,1257.14 888.264,1257.14 890.235,1257.14 892.206,1257.14 894.177,1257.14 896.148,1257.14 898.119,1257.14 900.09,1257.14 902.061,1257.14 904.033,1257.14 906.004,1257.14 907.975,1260.82 909.946,1260.82 911.917,1260.82 913.888,1260.82 915.859,1260.82 917.83,1260.82 919.802,1260.82 921.773,1260.82 923.744,1260.82 925.715,1260.82 927.686,1260.82 929.657,1260.82 931.628,1262.46 933.6,1262.46 935.571,1262.46 937.542,1262.46 939.513,1262.46 941.484,1262.46 943.455,1262.46 945.426,1262.46 947.397,1262.46 949.369,1262.46 951.34,1262.46 953.311,1262.46 955.282,1262.46 957.253,1262.46 959.224,1262.46 961.195,1262.46 963.167,1262.46 965.138,1262.46 967.109,1262.46 969.08,1262.46 971.051,1262.46 973.022,1262.46 974.993,1262.46 976.964,1262.46 978.936,1262.46 980.907,1262.46 982.878,1262.46 984.849,1262.46 986.82,1262.46 988.791,1262.46 990.762,1262.46 992.734,1262.46 994.705,1262.46 996.676,1262.46 998.647,1262.46 1000.62,1262.46 1002.59,1262.46 1004.56,1262.46 1006.53,1262.46 1008.5,1262.46 1010.47,1262.46 1012.44,1262.46 1014.42,1262.46 1016.39,1262.46 1018.36,1262.46 1020.33,1262.46 1022.3,1262.46 1024.27,1262.46 1026.24,1262.46 1028.21,1262.46 1030.19,1262.46 1032.16,1262.46 1034.13,1262.46 1036.1,1262.46 1038.07,1262.46 1040.04,1262.46 1042.01,1262.46 1043.98,1262.46 1045.95,1262.46 1047.93,1262.46 1049.9,1262.46 1051.87,1262.46 1053.84,1274.03 1055.81,1274.03 1057.78,1274.03 1059.75,1274.03 1061.72,1274.03 1063.69,1274.03 1065.67,1274.03 1067.64,1274.03 1069.61,1274.03 1071.58,1274.03 1073.55,1274.03 1075.52,1274.03 1077.49,1274.03 1079.46,1274.03 1081.43,1274.03 1083.41,1274.03 1085.38,1274.03 1087.35,1274.03 1089.32,1277.77 1091.29,1277.77 1093.26,1277.77 1095.23,1277.77 1097.2,1277.77 1099.17,1277.77 1101.15,1277.77 1103.12,1277.77 1105.09,1277.77 1107.06,1277.77 1109.03,1277.77 1111,1277.77 1112.97,1277.77 1114.94,1277.77 1116.91,1277.77 1118.89,1277.77 1120.86,1277.77 1122.83,1277.77 1124.8,1277.77 1126.77,1277.77 1128.74,1277.77 1130.71,1277.77 1132.68,1277.77 1134.66,1277.77 1136.63,1277.77 1138.6,1277.77 1140.57,1277.77 1142.54,1277.77 1144.51,1277.77 1146.48,1277.77 1148.45,1277.77 1150.42,1277.77 1152.4,1277.77 1154.37,1277.77 1156.34,1277.77 1158.31,1277.77 1160.28,1277.77 1162.25,1277.77 1164.22,1277.77 1166.19,1277.77 1168.16,1277.77 1170.14,1277.77 1172.11,1277.77 1174.08,1277.77 1176.05,1293.45 1178.02,1293.45 1179.99,1293.45 1181.96,1293.45 1183.93,1293.45 1185.9,1293.45 1187.88,1293.45 1189.85,1293.45 1191.82,1293.45 1193.79,1293.45 1195.76,1293.45 1197.73,1293.45 1199.7,1293.45 1201.67,1293.45 1203.64,1293.45 1205.62,1293.45 1207.59,1293.45 1209.56,1293.45 1211.53,1293.45 1213.5,1293.45 1215.47,1293.45 1217.44,1293.45 1219.41,1293.45 1221.38,1293.45 1223.36,1293.45 1225.33,1293.45 1227.3,1293.45 1229.27,1293.45 1231.24,1293.45 1233.21,1293.45 1235.18,1293.45 1237.15,1293.45 1239.13,1293.45 1241.1,1293.45 1243.07,1293.45 1245.04,1293.45 1247.01,1293.45 1248.98,1293.45 1250.95,1293.45 1252.92,1293.45 1254.89,1293.45 1256.87,1293.45 1258.84,1293.45 1260.81,1293.45 1262.78,1293.45 1264.75,1293.45 1266.72,1293.45 1268.69,1293.45 1270.66,1293.45 1272.63,1293.45 1274.61,1293.45 1276.58,1293.45 1278.55,1293.45 1280.52,1360.47 1282.49,1360.47 1284.46,1360.47 1286.43,1360.47 1288.4,1360.47 1290.37,1360.47 1292.35,1360.47 1294.32,1360.47 1296.29,1360.47 1298.26,1360.47 1300.23,1360.47 1302.2,1360.47 1304.17,1360.47 1306.14,1360.47 1308.11,1360.47 1310.09,1360.47 1312.06,1360.47 1314.03,1360.47 1316,1360.47 1317.97,1360.47 1319.94,1360.47 1321.91,1360.47 1323.88,1360.47 1325.85,1360.47 1327.83,1360.47 1329.8,1360.47 1331.77,1360.47 1333.74,1360.47 1335.71,1360.47 1337.68,1360.47 1339.65,1360.47 1341.62,1360.47 1343.6,1360.47 1345.57,1360.47 1347.54,1360.47 1349.51,1360.47 1351.48,1360.47 1353.45,1360.47 1355.42,1360.47 1357.39,1360.47 1359.36,1360.47 1361.34,1360.47 1363.31,1360.47 1365.28,1360.47 1367.25,1360.47 1369.22,1360.47 1371.19,1360.47 1373.16,1360.47 1375.13,1360.47 1377.1,1360.47 1379.08,1360.47 1381.05,1360.47 1383.02,1360.47 1384.99,1360.47 1386.96,1360.47 1388.93,1360.47 1390.9,1360.47 1392.87,1360.47 1394.84,1360.47 1396.82,1360.47 1398.79,1360.47 1400.76,1360.47 1402.73,1360.47 1404.7,1360.47 1406.67,1360.47 1408.64,1360.47 1410.61,1360.47 1412.58,1360.47 1414.56,1360.47 1416.53,1360.47 1418.5,1360.47 1420.47,1360.47 1422.44,1360.47 1424.41,1360.47 1426.38,1360.47 1428.35,1360.47 1430.32,1360.47 1432.3,1360.47 1434.27,1360.47 1436.24,1364.01 1438.21,1364.01 1440.18,1364.01 1442.15,1364.01 1444.12,1364.01 1446.09,1364.01 1448.07,1364.01 1450.04,1364.01 1452.01,1364.01 1453.98,1364.01 1455.95,1364.01 1457.92,1364.01 1459.89,1364.01 1461.86,1364.01 1463.83,1364.01 1465.81,1364.01 1467.78,1364.01 1469.75,1364.01 1471.72,1364.01 1473.69,1364.01 1475.66,1364.01 1477.63,1364.01 1479.6,1364.01 1481.57,1364.01 1483.55,1364.01 1485.52,1364.01 1487.49,1364.01 1489.46,1364.01 1491.43,1364.01 1493.4,1364.01 1495.37,1364.01 1497.34,1364.01 1499.31,1364.01 1501.29,1364.01 1503.26,1364.01 1505.23,1364.01 1507.2,1364.01 1509.17,1364.01 1511.14,1364.01 1513.11,1364.01 1515.08,1364.01 1517.05,1364.01 1519.03,1364.01 1521,1364.01 1522.97,1364.01 1524.94,1364.01 1526.91,1364.01 1528.88,1364.01 1530.85,1364.01 1532.82,1364.01 1534.8,1364.01 1536.77,1364.01 1538.74,1364.01 1540.71,1364.01 1542.68,1364.01 1544.65,1364.01 1546.62,1364.01 1548.59,1364.01 1550.56,1381.52 1552.54,1381.52 1554.51,1381.52 1556.48,1381.52 1558.45,1381.52 1560.42,1381.52 1562.39,1381.52 1564.36,1381.52 1566.33,1381.52 1568.3,1381.52 1570.28,1381.52 1572.25,1381.52 1574.22,1381.52 1576.19,1381.52 1578.16,1381.52 1580.13,1381.52 1582.1,1381.52 1584.07,1381.52 1586.04,1381.52 1588.02,1381.52 1589.99,1381.52 1591.96,1381.52 1593.93,1381.52 1595.9,1381.52 1597.87,1381.52 1599.84,1381.52 1601.81,1381.52 1603.78,1381.52 1605.76,1381.52 1607.73,1381.52 1609.7,1381.52 1611.67,1381.52 1613.64,1381.52 1615.61,1381.52 1617.58,1381.52 1619.55,1381.52 1621.52,1381.52 1623.5,1381.52 1625.47,1381.52 1627.44,1381.52 1629.41,1381.52 1631.38,1381.52 1633.35,1381.52 1635.32,1381.52 1637.29,1381.52 1639.27,1381.52 1641.24,1381.52 1643.21,1381.52 1645.18,1381.52 1647.15,1381.52 1649.12,1381.52 1651.09,1381.52 1653.06,1381.52 1655.03,1381.52 1657.01,1381.52 1658.98,1381.52 1660.95,1381.52 1662.92,1381.52 1664.89,1381.52 1666.86,1381.52 1668.83,1381.52 1670.8,1381.52 1672.77,1381.52 1674.75,1381.52 1676.72,1381.52 1678.69,1381.52 1680.66,1381.52 1682.63,1381.52 1684.6,1381.52 1686.57,1381.52 1688.54,1381.52 1690.51,1381.52 1692.49,1381.52 1694.46,1381.52 1696.43,1381.52 1698.4,1381.52 1700.37,1381.52 1702.34,1381.52 1704.31,1381.52 1706.28,1381.52 1708.25,1381.52 1710.23,1381.52 1712.2,1381.52 1714.17,1381.52 1716.14,1381.52 1718.11,1381.52 1720.08,1381.52 1722.05,1381.52 1724.02,1381.52 1725.99,1381.52 1727.97,1381.52 1729.94,1381.52 1731.91,1381.52 1733.88,1381.52 1735.85,1381.52 1737.82,1381.52 1739.79,1381.52 1741.76,1381.52 1743.74,1381.52 1745.71,1386.4 1747.68,1386.4 1749.65,1386.4 1751.62,1386.4 1753.59,1386.4 1755.56,1386.4 1757.53,1386.4 1759.5,1386.4 1761.48,1386.4 1763.45,1386.4 1765.42,1386.4 1767.39,1386.4 1769.36,1386.4 1771.33,1386.4 1773.3,1386.4 1775.27,1386.4 1777.24,1386.4 1779.22,1386.4 1781.19,1386.4 1783.16,1386.4 1785.13,1386.4 1787.1,1386.4 1789.07,1386.4 1791.04,1386.4 1793.01,1386.4 1794.98,1386.4 1796.96,1386.4 1798.93,1386.4 1800.9,1386.4 1802.87,1386.4 1804.84,1386.4 1806.81,1386.4 1808.78,1386.4 1810.75,1386.4 1812.72,1386.4 1814.7,1386.4 1816.67,1386.4 1818.64,1386.4 1820.61,1386.4 1822.58,1386.4 1824.55,1386.4 1826.52,1386.4 1828.49,1386.4 1830.46,1386.4 1832.44,1386.4 1834.41,1386.4 1836.38,1386.4 1838.35,1386.4 1840.32,1386.4 1842.29,1386.4 1844.26,1386.4 1846.23,1386.4 1848.21,1386.4 1850.18,1386.4 1852.15,1386.4 1854.12,1386.4 1856.09,1386.4 1858.06,1386.4 1860.03,1386.4 1862,1386.4 1863.97,1386.4 1865.95,1386.4 1867.92,1386.4 1869.89,1386.4 1871.86,1386.4 1873.83,1386.4 1875.8,1386.4 1877.77,1386.4 1879.74,1386.4 1881.71,1386.4 1883.69,1386.4 1885.66,1386.4 1887.63,1386.4 1889.6,1386.4 1891.57,1386.4 1893.54,1386.4 1895.51,1386.4 1897.48,1386.4 1899.45,1386.4 1901.43,1386.4 1903.4,1386.4 1905.37,1386.4 1907.34,1386.4 1909.31,1386.4 1911.28,1386.4 1913.25,1386.4 1915.22,1386.4 1917.19,1386.4 1919.17,1386.4 1921.14,1386.4 1923.11,1386.4 1925.08,1386.4 1927.05,1386.4 1929.02,1386.4 1930.99,1386.4 1932.96,1386.4 1934.93,1386.4 1936.91,1386.4 1938.88,1386.4 1940.85,1386.4 1942.82,1386.4 1944.79,1386.4 1946.76,1386.4 1948.73,1386.4 1950.7,1386.4 1952.68,1386.4 1954.65,1386.4 1956.62,1386.4 1958.59,1386.4 1960.56,1386.4 1962.53,1386.4 1964.5,1386.4 1966.47,1386.4 1968.44,1386.4 1970.42,1386.4 1972.39,1386.4 1974.36,1386.4 1976.33,1386.4 1978.3,1386.4 1980.27,1386.4 1982.24,1386.4 1984.21,1386.4 1986.18,1386.4 1988.16,1386.4 1990.13,1386.4 1992.1,1386.4 1994.07,1386.4 1996.04,1386.4 1998.01,1386.4 1999.98,1386.4 2001.95,1386.4 2003.92,1386.4 2005.9,1386.4 2007.87,1386.4 2009.84,1386.4 2011.81,1386.4 2013.78,1386.4 2015.75,1386.4 2017.72,1386.4 2019.69,1386.4 2021.66,1386.4 2023.64,1386.4 2025.61,1386.4 2027.58,1386.4 2029.55,1386.4 2031.52,1386.4 2033.49,1386.4 2035.46,1386.4 2037.43,1386.4 2039.4,1386.4 2041.38,1386.4 2043.35,1386.4 2045.32,1386.4 2047.29,1386.4 2049.26,1386.4 2051.23,1386.4 2053.2,1386.4 2055.17,1386.4 2057.15,1386.4 2059.12,1386.4 2061.09,1386.4 2063.06,1386.4 2065.03,1386.4 2067,1386.4 2068.97,1386.4 2070.94,1386.4 2072.91,1386.4 2074.89,1386.4 2076.86,1386.4 2078.83,1386.4 2080.8,1386.4 2082.77,1386.4 2084.74,1386.4 2086.71,1386.4 2088.68,1386.4 2090.65,1386.4 2092.63,1386.4 2094.6,1386.4 2096.57,1386.4 2098.54,1386.4 2100.51,1386.4 2102.48,1386.4 2104.45,1386.4 2106.42,1386.4 2108.39,1386.4 2110.37,1386.4 2112.34,1386.4 2114.31,1386.4 2116.28,1386.4 2118.25,1386.4 2120.22,1386.4 2122.19,1386.4 2124.16,1386.4 2126.13,1386.4 2128.11,1386.4 2130.08,1386.4 2132.05,1386.4 2134.02,1386.4 2135.99,1386.4 2137.96,1386.4 2139.93,1386.4 2141.9,1386.4 2143.87,1386.4 2145.85,1386.4 2147.82,1386.4 2149.79,1386.4 2151.76,1386.4 2153.73,1386.4 2155.7,1386.4 2157.67,1386.4 2159.64,1386.4 2161.62,1386.4 2163.59,1386.4 2165.56,1386.4 2167.53,1386.4 2169.5,1386.4 2171.47,1386.4 2173.44,1386.4 2175.41,1386.4 2177.38,1386.4 2179.36,1386.4 2181.33,1386.4 2183.3,1386.4 2185.27,1386.4 2187.24,1386.4 2189.21,1386.4 2191.18,1386.4 2193.15,1386.4 2195.12,1386.4 2197.1,1386.4 2199.07,1386.4 2201.04,1386.4 2203.01,1386.4 2204.98,1386.4 2206.95,1386.4 2208.92,1386.4 2210.89,1386.4 2212.86,1386.4 2214.84,1386.4 2216.81,1386.4 2218.78,1386.4 2220.75,1386.4 2222.72,1386.4 2224.69,1386.4 2226.66,1386.4 2228.63,1386.4 2230.6,1386.4 2232.58,1386.4 2234.55,1386.4 2236.52,1386.4 2238.49,1386.4 2240.46,1386.4 2242.43,1386.4 2244.4,1386.4 2246.37,1386.4 2248.35,1386.4 2250.32,1386.4 2252.29,1386.4 2254.26,1386.4 2256.23,1386.4 2258.2,1386.4 2260.17,1386.4 2262.14,1386.4 2264.11,1386.4 2266.09,1386.4 2268.06,1386.4 2270.03,1386.4 2272,1386.4 2273.97,1386.4 2275.94,1386.4 2277.91,1386.4 2279.88,1386.4 2281.85,1386.4 2283.83,1386.4 2285.8,1386.4 2287.77,1386.4 2289.74,1386.4 2291.71,1386.4 2293.68,1386.4 \"/>\n",
       "<path clip-path=\"url(#clip030)\" d=\"M2022.02 270.476 L2283.18 270.476 L2283.18 166.796 L2022.02 166.796  Z\" fill=\"#ffffff\" fill-rule=\"evenodd\" fill-opacity=\"1\"/>\n",
       "<polyline clip-path=\"url(#clip030)\" style=\"stroke:#000000; stroke-linecap:round; stroke-linejoin:round; stroke-width:4; stroke-opacity:1; fill:none\" points=\"2022.02,270.476 2283.18,270.476 2283.18,166.796 2022.02,166.796 2022.02,270.476 \"/>\n",
       "<polyline clip-path=\"url(#clip030)\" style=\"stroke:#009af9; stroke-linecap:round; stroke-linejoin:round; stroke-width:4; stroke-opacity:1; fill:none\" points=\"2045.21,218.636 2184.36,218.636 \"/>\n",
       "<path clip-path=\"url(#clip030)\" d=\"M2221.4 238.323 Q2219.59 242.953 2217.88 244.365 Q2216.17 245.777 2213.3 245.777 L2209.89 245.777 L2209.89 242.212 L2212.39 242.212 Q2214.15 242.212 2215.13 241.379 Q2216.1 240.545 2217.28 237.443 L2218.04 235.499 L2207.56 209.99 L2212.07 209.99 L2220.17 230.268 L2228.27 209.99 L2232.79 209.99 L2221.4 238.323 Z\" fill=\"#000000\" fill-rule=\"nonzero\" fill-opacity=\"1\" /><path clip-path=\"url(#clip030)\" d=\"M2240.08 231.981 L2247.72 231.981 L2247.72 205.615 L2239.41 207.282 L2239.41 203.022 L2247.67 201.356 L2252.35 201.356 L2252.35 231.981 L2259.99 231.981 L2259.99 235.916 L2240.08 235.916 L2240.08 231.981 Z\" fill=\"#000000\" fill-rule=\"nonzero\" fill-opacity=\"1\" /></svg>\n"
      ]
     },
     "metadata": {},
     "output_type": "display_data"
    }
   ],
   "source": [
    "# Execution du programme\n",
    "\n",
    "L, S, costs, cost_f = metaheuristique(wind_scenarios, general_parameters, sub_sub_cable_types, land_substation_cable_types, substation_types)\n",
    "\n",
    "display(plot(1:1000, costs, xlabel=\"Itérations\", ylabel=\"Coût\", title=\"Évolution du coût\"))\n",
    "\n"
   ]
  },
  {
   "cell_type": "code",
   "execution_count": 21,
   "metadata": {},
   "outputs": [],
   "source": [
    "# Mise en forme des solutions a format JSON\n",
    "\n",
    "# on crée un dictionnaire pour les sous-stations qui contient les informations suivantes :\n",
    "# - id : identifiant de la sous-station\n",
    "# - land_cable_type : type de câble entre la sous-station et la station terrestre\n",
    "# - substation_type : type de sous-station\n",
    "\n",
    "substations = Dict()\n",
    "for i in 1:size(S, 1)\n",
    "    if S[i, 3] != 0\n",
    "        substations[i] = Dict(\"id\" => i, \"land_cable_type\" => S[i, 3], \"substation_type\" => S[i, 5])\n",
    "    end\n",
    "end\n",
    "\n",
    "\n",
    "# on crée un dictionnaire pour les câbles entre les sous-stations qui contient les informations suivantes :\n",
    "# - substation_id : identifiant de la première sous-station\n",
    "# - other_substation_id : identifiant de la deuxième sous-station\n",
    "# - cable_type : type de câble entre les deux sous-stations\n",
    "\n",
    "substation_substation_cables = Dict()\n",
    "for i in 1:size(S, 1)\n",
    "    if S[i, 2] != 0 && S[i, 4] != 0\n",
    "        substation_substation_cables[i] = Dict(\"substation_id\" => i, \"other_substation_id\" => S[i, 2], \"cable_type\" => S[i, 4])\n",
    "        S[S[i, 2], 4] = 0\n",
    "        S[S[i, 2], 2] = 0\n",
    "    end\n",
    "end\n",
    "\n",
    "\n",
    "# on crée un dictionnaire pour les turbines qui contient les informations suivantes :\n",
    "# - id : identifiant de la turbine\n",
    "# - substation_id : identifiant de la sous-station à laquelle est reliée la turbine\n",
    "\n",
    "turbines = Dict()\n",
    "for i in 1:length(L)\n",
    "    turbines[i] = Dict(\"id\" => i, \"substation_id\" => L[i])\n",
    "end\n",
    "\n",
    "solutions = Dict(\"substations\" => substations, \"substation_substation_cables\" => substation_substation_cables, \"turbines\" => turbines)\n",
    "\n",
    "# on écrit le dictionnaire dans un fichier JSON\n",
    "\n",
    "open(\"solution.json\", \"w\") do f\n",
    "    JSON.print(f, solutions)\n",
    "end"
   ]
  }
 ],
 "metadata": {
  "kernelspec": {
   "display_name": "Julia 1.8.5",
   "language": "julia",
   "name": "julia-1.8"
  },
  "language_info": {
   "file_extension": ".jl",
   "mimetype": "application/julia",
   "name": "julia",
   "version": "1.8.5"
  }
 },
 "nbformat": 4,
 "nbformat_minor": 2
}
