{
 "cells": [
  {
   "cell_type": "code",
   "execution_count": 1,
   "metadata": {},
   "outputs": [
    {
     "name": "stderr",
     "output_type": "stream",
     "text": [
      "\u001b[32m\u001b[1m    Updating\u001b[22m\u001b[39m registry at `C:\\Users\\caris\\.julia\\registries\\General.toml`\n"
     ]
    },
    {
     "name": "stderr",
     "output_type": "stream",
     "text": [
      "\u001b[32m\u001b[1m   Resolving\u001b[22m\u001b[39m package versions..."
     ]
    },
    {
     "name": "stderr",
     "output_type": "stream",
     "text": [
      "\n",
      "\u001b[32m\u001b[1m  No Changes\u001b[22m\u001b[39m to `C:\\Users\\caris\\.julia\\environments\\v1.9\\Project.toml`\n",
      "\u001b[32m\u001b[1m  No Changes\u001b[22m\u001b[39m to `C:\\Users\\caris\\.julia\\environments\\v1.9\\Manifest.toml`"
     ]
    },
    {
     "name": "stderr",
     "output_type": "stream",
     "text": [
      "\n"
     ]
    },
    {
     "name": "stderr",
     "output_type": "stream",
     "text": [
      "\u001b[32m\u001b[1m   Resolving\u001b[22m\u001b[39m package versions...\n"
     ]
    },
    {
     "name": "stderr",
     "output_type": "stream",
     "text": [
      "\u001b[32m\u001b[1m  No Changes\u001b[22m\u001b[39m to `C:\\Users\\caris\\.julia\\environments\\v1.9\\Project.toml`\n",
      "\u001b[32m\u001b[1m  No Changes\u001b[22m\u001b[39m to `C:\\Users\\caris\\.julia\\environments\\v1.9\\Manifest.toml`\n"
     ]
    }
   ],
   "source": [
    "import Pkg; Pkg.add(\"JSON\"); Pkg.add(\"Plots\")\n",
    "\n",
    "using JSON\n",
    "using Plots"
   ]
  },
  {
   "cell_type": "code",
   "execution_count": 2,
   "metadata": {},
   "outputs": [
    {
     "data": {
      "text/plain": [
       "Dict{String, Any} with 7 entries:\n",
       "  \"land_substation_cable_types\"       => Any[Dict{String, Any}(\"rating\"=>500, \"…\n",
       "  \"wind_turbines\"                     => Any[Dict{String, Any}(\"id\"=>1, \"x\"=>-5…\n",
       "  \"wind_scenarios\"                    => Any[Dict{String, Any}(\"power_generatio…\n",
       "  \"substation_locations\"              => Any[Dict{String, Any}(\"id\"=>1, \"x\"=>-1…\n",
       "  \"substation_types\"                  => Any[Dict{String, Any}(\"cost\"=>100000, …\n",
       "  \"general_parameters\"                => Dict{String, Any}(\"maximum_power\"=>100…\n",
       "  \"substation_substation_cable_types\" => Any[Dict{String, Any}(\"rating\"=>500, \"…"
      ]
     },
     "metadata": {},
     "output_type": "display_data"
    }
   ],
   "source": [
    "json_tiny = JSON.parsefile(\"KIRO-tiny.json\")\n"
   ]
  },
  {
   "cell_type": "code",
   "execution_count": 3,
   "metadata": {},
   "outputs": [
    {
     "data": {
      "text/plain": [
       "Dict{String, Any} with 7 entries:\n",
       "  \"land_substation_cable_types\"       => Any[Dict{String, Any}(\"rating\"=>200, \"…\n",
       "  \"wind_turbines\"                     => Any[Dict{String, Any}(\"id\"=>1, \"x\"=>79…\n",
       "  \"wind_scenarios\"                    => Any[Dict{String, Any}(\"power_generatio…\n",
       "  \"substation_locations\"              => Any[Dict{String, Any}(\"id\"=>1, \"x\"=>35…\n",
       "  \"substation_types\"                  => Any[Dict{String, Any}(\"cost\"=>300.0, \"…\n",
       "  \"general_parameters\"                => Dict{String, Any}(\"maximum_curtailing\"…\n",
       "  \"substation_substation_cable_types\" => Any[Dict{String, Any}(\"rating\"=>100, \"…"
      ]
     },
     "metadata": {},
     "output_type": "display_data"
    }
   ],
   "source": [
    "json_small = JSON.parsefile(\"KIRO-small.json\")"
   ]
  },
  {
   "cell_type": "code",
   "execution_count": 4,
   "metadata": {},
   "outputs": [
    {
     "data": {
      "text/plain": [
       "Dict{String, Any} with 7 entries:\n",
       "  \"land_substation_cable_types\"       => Any[Dict{String, Any}(\"rating\"=>200, \"…\n",
       "  \"wind_turbines\"                     => Any[Dict{String, Any}(\"id\"=>1, \"x\"=>78…\n",
       "  \"wind_scenarios\"                    => Any[Dict{String, Any}(\"power_generatio…\n",
       "  \"substation_locations\"              => Any[Dict{String, Any}(\"id\"=>1, \"x\"=>40…\n",
       "  \"substation_types\"                  => Any[Dict{String, Any}(\"cost\"=>300.0, \"…\n",
       "  \"general_parameters\"                => Dict{String, Any}(\"maximum_curtailing\"…\n",
       "  \"substation_substation_cable_types\" => Any[Dict{String, Any}(\"rating\"=>100, \"…"
      ]
     },
     "metadata": {},
     "output_type": "display_data"
    }
   ],
   "source": [
    "json_medium = JSON.parsefile(\"KIRO-medium.json\")"
   ]
  },
  {
   "cell_type": "code",
   "execution_count": 5,
   "metadata": {},
   "outputs": [
    {
     "data": {
      "text/plain": [
       "Dict{String, Any} with 7 entries:\n",
       "  \"land_substation_cable_types\"       => Any[Dict{String, Any}(\"rating\"=>200, \"…\n",
       "  \"wind_turbines\"                     => Any[Dict{String, Any}(\"id\"=>1, \"x\"=>78…\n",
       "  \"wind_scenarios\"                    => Any[Dict{String, Any}(\"power_generatio…\n",
       "  \"substation_locations\"              => Any[Dict{String, Any}(\"id\"=>1, \"x\"=>65…\n",
       "  \"substation_types\"                  => Any[Dict{String, Any}(\"cost\"=>240.0, \"…\n",
       "  \"general_parameters\"                => Dict{String, Any}(\"maximum_curtailing\"…\n",
       "  \"substation_substation_cable_types\" => Any[Dict{String, Any}(\"rating\"=>100, \"…"
      ]
     },
     "metadata": {},
     "output_type": "display_data"
    }
   ],
   "source": [
    "json_large = JSON.parsefile(\"KIRO-large.json\")"
   ]
  },
  {
   "cell_type": "code",
   "execution_count": 6,
   "metadata": {},
   "outputs": [
    {
     "data": {
      "text/plain": [
       "Dict{String, Any} with 7 entries:\n",
       "  \"land_substation_cable_types\"       => Any[Dict{String, Any}(\"rating\"=>200, \"…\n",
       "  \"wind_turbines\"                     => Any[Dict{String, Any}(\"id\"=>1, \"x\"=>79…\n",
       "  \"wind_scenarios\"                    => Any[Dict{String, Any}(\"power_generatio…\n",
       "  \"substation_locations\"              => Any[Dict{String, Any}(\"id\"=>1, \"x\"=>22…\n",
       "  \"substation_types\"                  => Any[Dict{String, Any}(\"cost\"=>240.0, \"…\n",
       "  \"general_parameters\"                => Dict{String, Any}(\"maximum_curtailing\"…\n",
       "  \"substation_substation_cable_types\" => Any[Dict{String, Any}(\"rating\"=>100, \"…"
      ]
     },
     "metadata": {},
     "output_type": "display_data"
    }
   ],
   "source": [
    "json_huge = JSON.parsefile(\"KIRO-huge.json\")"
   ]
  },
  {
   "cell_type": "code",
   "execution_count": 7,
   "metadata": {},
   "outputs": [
    {
     "data": {
      "text/plain": [
       "get_substation_substation_cable_types (generic function with 1 method)"
      ]
     },
     "metadata": {},
     "output_type": "display_data"
    }
   ],
   "source": [
    "# Get Functions\n",
    "\n",
    "function get_parameters(name_json)\n",
    "    general_parameters = name_json[\"general_parameters\"]\n",
    "    return general_parameters\n",
    "end\n",
    "\n",
    "function get_wind_turbines(name_json)\n",
    "    get_wind_turbines = name_json[\"wind_turbines\"]\n",
    "\n",
    "    return get_wind_turbines\n",
    "end\n",
    "\n",
    "function get_wind_scenarios(name_json)\n",
    "    get_wind_scenarios = name_json[\"wind_scenarios\"]\n",
    "    return get_wind_scenarios\n",
    "end\n",
    "\n",
    "function get_substation_locations(name_json)\n",
    "    get_substation_locations = name_json[\"substation_locations\"]\n",
    "    \n",
    "    return get_substation_locations\n",
    "end\n",
    "\n",
    "function get_substation_types(name_json)\n",
    "    get_substation_types = name_json[\"substation_types\"]\n",
    "\n",
    "    return get_substation_types\n",
    "end\n",
    "\n",
    "function get_land_substation_cable_types(name_json)\n",
    "    get_land_substation_cable_types = name_json[\"land_substation_cable_types\"]\n",
    "\n",
    "    return get_land_substation_cable_types\n",
    "end\n",
    "\n",
    "function get_substation_substation_cable_types(name_json)\n",
    "    get_substation_substation_cable_types = name_json[\"substation_substation_cable_types\"]\n",
    "\n",
    "    return get_substation_substation_cable_types\n",
    "end"
   ]
  },
  {
   "cell_type": "code",
   "execution_count": 8,
   "metadata": {},
   "outputs": [
    {
     "name": "stdout",
     "output_type": "stream",
     "text": [
      "[0, 0"
     ]
    },
    {
     "name": "stdout",
     "output_type": "stream",
     "text": [
      "]Any["
     ]
    },
    {
     "name": "stdout",
     "output_type": "stream",
     "text": [
      "[79.0, -6.0], [79.5, -6.0], [80.0, -6.0], [80.5, -6.0], [81.0, -6.0], [79.0, -5.5], [79.5, -5.5], [80.0, -5.5], [80.5, -5.5], [81.0, -5.5], [79.0, -5.0], [79.5, -5.0], [80.0, -5.0], [80.5, -5.0], [81.0, -5.0], [79.0, -4.5], [79.5, -4.5], [80.0, -4.5], [80.5, -4.5], [81.0, -4.5], [79.0, -4.0], [79.5, -4.0], [80.0, -4.0], [80.5, -4.0], [81.0, -4.0], [79.0, -3.5], [79.5, -3.5], [80.0, -3.5], [80.5, -3.5], [81.0, -3.5], [79.0, -3.0], [79.5, -3.0], [80.0, -3.0], [80.5, -3.0], [81.0, -3.0], [79.0, -2.5], [79.5, -2.5], [80.0, -2.5], [80.5, -2.5], [81.0, -2.5], [79.0, -2.0], [79.5, -2.0], [80.0, -2.0], [80.5, -2.0], [81.0, -2.0], [79.0, -1.5], [79.5, -1.5], [80.0, -1.5], [80.5, -1.5], [81.0, -1.5], [79.0, -1.0], [79.5, -1.0], [80.0, -1.0], [80.5, -1.0], [81.0, -1.0], [79.0, -0.5], [79.5, -0.5], [80.0, -0.5], [80.5, -0.5], [81.0, -0.5], [79.0, 0.0], [79.5, 0.0], [80.0, 0.0], [80.5, 0.0], [81.0, 0.0], [79.0, 0.5], [79.5, 0.5], [80.0, 0.5], [80.5, 0.5], [81.0, 0.5], [79.0, 1.0], [79.5, 1.0], [80.0, 1.0], [80.5, 1.0], [81.0, 1.0], [79.0, 1.5], [79.5, 1.5], [80.0, 1.5], [80.5, 1.5], [81.0, 1.5], [79.0, 2.0], [79.5, 2.0], [80.0, 2.0], [80.5, 2.0], [81.0, 2.0], [79.0, 2.5], [79.5, 2.5], [80.0, 2.5], [80.5, 2.5], [81.0, 2.5], [79.0, 3.0], [79.5, 3.0], [80.0, 3.0], [80.5, 3.0], [81.0, 3.0], [79.0, 3.5], [79.5, 3.5], [80.0, 3.5], [80.5, 3.5], [81.0, 3.5], [79.0, 4.0], [79.5, 4.0], [80.0, 4.0], [80.5, 4.0], [81.0, 4.0], [79.0, 4.5], [79.5, 4.5], [80.0, 4.5], [80.5, 4.5], [81.0, 4.5], [79.0, 5.0], [79.5, 5.0], [80.0, 5.0], [80.5, 5.0], [81.0, 5.0], [79.0, 5.5], [79.5, 5.5], [80.0, 5.5], [80.5, 5.5], [81.0, 5.5], [79.0, 6.0], [79.5, 6.0], [80.0, 6.0], [80.5, 6.0], [81.0, 6.0]]"
     ]
    },
    {
     "name": "stdout",
     "output_type": "stream",
     "text": [
      "81"
     ]
    },
    {
     "data": {
      "text/plain": [
       "24-element Vector{Any}:\n",
       " Dict{String, Any}(\"rating\" => 100, \"variable_cost\" => 5.0, \"id\" => 1, \"fixed_cost\" => 100.0)\n",
       " Dict{String, Any}(\"rating\" => 200, \"variable_cost\" => 5.0, \"id\" => 2, \"fixed_cost\" => 100.0)\n",
       " Dict{String, Any}(\"rating\" => 300, \"variable_cost\" => 5.0, \"id\" => 3, \"fixed_cost\" => 100.0)\n",
       " Dict{String, Any}(\"rating\" => 500, \"variable_cost\" => 7.5, \"id\" => 4, \"fixed_cost\" => 125.0)\n",
       " Dict{String, Any}(\"rating\" => 750, \"variable_cost\" => 7.5, \"id\" => 5, \"fixed_cost\" => 125.0)\n",
       " Dict{String, Any}(\"rating\" => 900, \"variable_cost\" => 10.0, \"id\" => 6, \"fixed_cost\" => 125.0)\n",
       " Dict{String, Any}(\"rating\" => 1450, \"variable_cost\" => 12.5, \"id\" => 7, \"fixed_cost\" => 150.0)\n",
       " Dict{String, Any}(\"rating\" => 2400, \"variable_cost\" => 17.5, \"id\" => 8, \"fixed_cost\" => 150.0)\n",
       " Dict{String, Any}(\"rating\" => 100, \"variable_cost\" => 4.5, \"id\" => 9, \"fixed_cost\" => 90.0)\n",
       " Dict{String, Any}(\"rating\" => 200, \"variable_cost\" => 4.5, \"id\" => 10, \"fixed_cost\" => 90.0)\n",
       " ⋮\n",
       " Dict{String, Any}(\"rating\" => 2400, \"variable_cost\" => 15.75, \"id\" => 16, \"fixed_cost\" => 135.0)\n",
       " Dict{String, Any}(\"rating\" => 100, \"variable_cost\" => 4.25, \"id\" => 17, \"fixed_cost\" => 85.0)\n",
       " Dict{String, Any}(\"rating\" => 200, \"variable_cost\" => 4.25, \"id\" => 18, \"fixed_cost\" => 85.0)\n",
       " Dict{String, Any}(\"rating\" => 300, \"variable_cost\" => 4.25, \"id\" => 19, \"fixed_cost\" => 85.0)\n",
       " Dict{String, Any}(\"rating\" => 500, \"variable_cost\" => 6.375, \"id\" => 20, \"fixed_cost\" => 106.25)\n",
       " Dict{String, Any}(\"rating\" => 750, \"variable_cost\" => 6.375, \"id\" => 21, \"fixed_cost\" => 106.25)\n",
       " Dict{String, Any}(\"rating\" => 900, \"variable_cost\" => 8.5, \"id\" => 22, \"fixed_cost\" => 106.25)\n",
       " Dict{String, Any}(\"rating\" => 1450, \"variable_cost\" => 10.625, \"id\" => 23, \"fixed_cost\" => 127.5)\n",
       " Dict{String, Any}(\"rating\" => 2400, \"variable_cost\" => 14.875, \"id\" => 24, \"fixed_cost\" => 127.5)"
      ]
     },
     "metadata": {},
     "output_type": "display_data"
    }
   ],
   "source": [
    "#collectes des données utiles\n",
    "\n",
    "file = json_huge\n",
    "\n",
    "P_max = get_parameters(file)[\"maximum_power\"]\n",
    "coords_mls = get_parameters(file)[\"main_land_station\"]\n",
    "C_ft = get_parameters(file)[\"fixed_cost_cable\"]\n",
    "C_lt = get_parameters(file)[\"variable_cost_cable\"]\n",
    "C_0 = get_parameters(file)[\"curtailing_cost\"]\n",
    "C_p = get_parameters(file)[\"curtailing_penalty\"]\n",
    "C_max = get_parameters(file)[\"maximum_curtailing\"]\n",
    "general_parameters = Dict(\"maximum_power\" => P_max, \"main_land_station\" => coords_mls, \"fixed_cost_cable\" => C_ft, \"variable_cost_cable\" => C_lt, \"curtailing_cost\" => C_0, \"curtailing_penalty\" => C_p, \"maximum_curtailing\" => C_max)\n",
    "\n",
    "v_0 = [coords_mls[\"x\"], coords_mls[\"y\"]]\n",
    "\n",
    "print(v_0)\n",
    "\n",
    "wind_turbines = get_wind_turbines(file)\n",
    "x_turbines = [turbine[\"x\"] for turbine in wind_turbines]\n",
    "y_turbines = [turbine[\"y\"] for turbine in wind_turbines]\n",
    "\n",
    "V_t = []\n",
    "for i in 1:length(x_turbines)\n",
    "    push!(V_t,[x_turbines[i], y_turbines[i]])\n",
    "end\n",
    "\n",
    "print(V_t)\n",
    "\n",
    "wind_scenarios = get_wind_scenarios(file)\n",
    "\n",
    "substation_locations = get_substation_locations(file)\n",
    "x_substations = [substation[\"x\"] for substation in substation_locations]\n",
    "y_substations = [substation[\"y\"] for substation in substation_locations]\n",
    "\n",
    "V_s = []\n",
    "for i in 1:length(x_substations)\n",
    "    push!(V_s, [x_substations[i], y_substations[i]])\n",
    "end\n",
    "\n",
    "print(length(V_s))\n",
    "\n",
    "substation_types = get_substation_types(file)\n",
    "\n",
    "land_substation_cable_types = get_land_substation_cable_types(file)\n",
    "\n",
    "sub_sub_cable_types = get_substation_substation_cable_types(file)\n"
   ]
  },
  {
   "cell_type": "code",
   "execution_count": 9,
   "metadata": {},
   "outputs": [
    {
     "data": {
      "text/plain": [
       "cost (generic function with 1 method)"
      ]
     },
     "metadata": {},
     "output_type": "display_data"
    }
   ],
   "source": [
    "# Fonctions coûts \n",
    "\n",
    "function cost_turbines_substation(L, D1, general_parameters)\n",
    "    # L : vecteur liant turbines et sous-stations\n",
    "    # D1 : matrice des distances entre les turbines et les sous-stations\n",
    "    # general_parameters : paramètres généraux du problème\n",
    "\n",
    "    # On initialise le coût\n",
    "    cost = 0\n",
    "\n",
    "    # On calcule le coût de la liaison entre les turbines et les sous-stations\n",
    "    for i in 1:length(L)\n",
    "        cost += general_parameters[\"fixed_cost_cable\"] +D1[i,L[i]]*general_parameters[\"variable_cost_cable\"]\n",
    "    end\n",
    "\n",
    "    return cost\n",
    "end\n",
    "\n",
    "function cost_substation_substation(S, D2, substation_substation_cable_types)\n",
    "    # S : vecteur liant les sous-stations\n",
    "    # D2 : matrice des distances entre les sous-stations\n",
    "    # substation_substation_cable_types : types de câbles entre les sous-stations\n",
    "\n",
    "    # On initialise le coût\n",
    "    cost = 0\n",
    "\n",
    "    # On calcule le coût de la liaison entre les sous-stations\n",
    "    for i in 1:size(S, 1)\n",
    "        if S[i, 2] != 0 && S[i, 4] != 0\n",
    "            cost += substation_substation_cable_types[S[i, 4]][\"fixed_cost\"]+D2[i, S[i, 2]]*substation_substation_cable_types[S[i, 4]][\"variable_cost\"]\n",
    "        end\n",
    "    end\n",
    "    cost = cost/2\n",
    "\n",
    "    return cost\n",
    "end\n",
    "\n",
    "function cost_substation_land_substation(S, D3, land_substation_cable_types)\n",
    "    # S : vecteur liant les sous-stations\n",
    "    # D3 : vecteur des distances entre les sous-stations et la station terrestre\n",
    "    # land_substation_cable_types : types de câbles entre les sous-stations et la station terrestre\n",
    "\n",
    "    # On initialise le coût\n",
    "    cost = 0\n",
    "\n",
    "    # On calcule le coût de la liaison entre les sous-stations et la station terrestre\n",
    "    for i in 1:size(S, 1)\n",
    "        if S[i, 3] != 0\n",
    "            cost += land_substation_cable_types[S[i, 3]][\"fixed_cost\"]+D3[i]*land_substation_cable_types[S[i, 3]][\"variable_cost\"]\n",
    "        end\n",
    "    end\n",
    "\n",
    "    return cost\n",
    "end\n",
    "\n",
    "function cost_substation(S, substation_types)\n",
    "    # S : vecteur liant les sous-stations\n",
    "    # substation_types : types de sous-stations\n",
    "\n",
    "    # On initialise le coût\n",
    "    cost = 0\n",
    "\n",
    "    # On calcule le coût de construction des sous-stations\n",
    "    for i in 1:size(S, 1)\n",
    "        if S[i, 5] != 0\n",
    "            cost += substation_types[S[i, 5]][\"cost\"]\n",
    "        end\n",
    "    end\n",
    "\n",
    "    return cost\n",
    "end\n",
    "\n",
    "\n",
    "function c_c(C, general_parameters)\n",
    "\n",
    "    return general_parameters[\"curtailing_cost\"]*C + general_parameters[\"curtailing_penalty\"]*max(0,C-general_parameters[\"maximum_curtailing\"])\n",
    "end\n",
    "\n",
    "\n",
    "function C_f_aux(v, v1, w, wind_scenarios, S, substation_substation_cable_types, land_substation_cable_types, substation_types)\n",
    "    C_f_aux = 0\n",
    "\n",
    "    C_f_aux += wind_scenarios[w][\"power_generation\"]*S[v1, 1]\n",
    "\n",
    "    if S[v1, 2] == v && S[v1, 4] != 0\n",
    "        C_f_aux += min(substation_substation_cable_types[S[v1, 4]][\"rating\"], wind_scenarios[w][\"power_generation\"]*S[v, 1])\n",
    "    else\n",
    "        C_f_aux += min(0, wind_scenarios[w][\"power_generation\"]*S[v, 1])\n",
    "    end\n",
    "\n",
    "    if S[v1, 3] != 0\n",
    "        C_f_aux -= min(substation_types[S[v1, 5]][\"rating\"],land_substation_cable_types[S[v1, 3]][\"rating\"])\n",
    "    end\n",
    "\n",
    "    return C_f_aux\n",
    "end\n",
    "\n",
    "\n",
    "function C_f(v, w, wind_scenarios, S, substation_substation_cable_types, land_substation_cable_types, substation_types)\n",
    "    C_f = 0\n",
    "\n",
    "    if S[v, 2] != 0 && S[v, 4] != 0\n",
    "        C_f += max(0, wind_scenarios[w][\"power_generation\"]*S[v, 1]-substation_substation_cable_types[S[v, 4]][\"rating\"])\n",
    "    else\n",
    "        C_f += max(0, wind_scenarios[w][\"power_generation\"]*S[v, 1])\n",
    "    end\n",
    "\n",
    "    for i in 1:size(S, 1)\n",
    "        if S[i, 3] != 0\n",
    "            C_f += max(0, C_f_aux(v, i, w, wind_scenarios, S, substation_substation_cable_types, land_substation_cable_types, substation_types))\n",
    "        end\n",
    "    end\n",
    "\n",
    "    return C_f\n",
    "\n",
    "end\n",
    "\n",
    "\n",
    "function C_n(w, wind_scenarios, S, substation_substation_cable_types, land_substation_cable_types, substation_types)\n",
    "    \n",
    "    C_n = 0\n",
    "\n",
    "    for i in 1:size(S, 1)\n",
    "        if S[i, 3] != 0\n",
    "            C_n += max(0, wind_scenarios[w][\"power_generation\"]*S[i, 1]-min(substation_types[S[i, 5]][\"rating\"],land_substation_cable_types[S[i, 3]][\"rating\"]))\n",
    "        end\n",
    "    end\n",
    "\n",
    "    return C_n\n",
    "end\n",
    "    \n",
    "\n",
    "function p_f(v, S, land_substation_cable_types, substation_types)\n",
    "    p_f = 0\n",
    "\n",
    "    if S[v, 3] != 0\n",
    "        p_f += land_substation_cable_types[S[v, 3]][\"probability_of_failure\"]\n",
    "\n",
    "        p_f += substation_types[S[v, 5]][\"probability_of_failure\"]\n",
    "    end\n",
    "\n",
    "    return p_f\n",
    "end\n",
    "\n",
    "\n",
    "function operational_cost_aux(S, w, wind_scenarios, general_parameters, substation_substation_cable_types, land_substation_cable_types, substation_types)\n",
    "    cost1 = 0\n",
    "    cost2 = 0\n",
    "\n",
    "    for i in 1:size(S, 1)\n",
    "        cost1 += p_f(i, S, land_substation_cable_types, substation_types)*c_c(C_f(i, w, wind_scenarios, S, substation_substation_cable_types, land_substation_cable_types, substation_types), general_parameters)\n",
    "    end\n",
    "\n",
    "    for i in 1:size(S, 1)\n",
    "        cost2 += p_f(i, S, land_substation_cable_types, substation_types)\n",
    "    end\n",
    "    cost2 = (1 - cost2)*c_c(C_n(w, wind_scenarios, S, substation_substation_cable_types, land_substation_cable_types, substation_types),general_parameters)\n",
    "\n",
    "    return cost1 + cost2\n",
    "end\n",
    "\n",
    "function operational_cost(L, S, wind_scenarios, general_parameters, substation_substation_cable_types, land_substation_cable_types, substation_types)\n",
    "    # L : vecteur liant turbines et sous-stations\n",
    "    # S : vecteur liant les sous-stations\n",
    "    # wind_scenarios : scénarios de vent\n",
    "    # general_parameters : paramètres généraux du problème\n",
    "\n",
    "    # On initialise le coût\n",
    "    cost = 0\n",
    "\n",
    "    for w in 1:length(wind_scenarios)\n",
    "        cost += wind_scenarios[w][\"probability\"]*operational_cost_aux(S, w, wind_scenarios, general_parameters, substation_substation_cable_types, land_substation_cable_types, substation_types)\n",
    "        \n",
    "    end\n",
    "\n",
    "    return cost\n",
    "end\n",
    "\n",
    "function cost(L, S, D1, D2, D3, wind_scenarios, general_parameters, substation_substation_cable_types, land_substation_cable_types, substation_types)\n",
    "    # L : vecteur liant turbines et sous-stations\n",
    "    # S : vecteur liant les sous-stations\n",
    "    # D1 : matrice des distances entre les turbines et les sous-stations\n",
    "    # D2 : matrice des distances entre les sous-stations\n",
    "    # D3 : vecteur des distances entre les sous-stations et la station terrestre\n",
    "    # wind_scenarios : scénarios de vent\n",
    "    # general_parameters : paramètres généraux du problème\n",
    "    # substation_substation_cable_types : types de câbles entre les sous-stations\n",
    "    # land_substation_cable_types : types de câbles entre les sous-stations et la station terrestre\n",
    "    # substation_types : types de sous-stations\n",
    "\n",
    "    # On initialise le coût\n",
    "    cost = 0\n",
    "\n",
    "    # On calcule le coût de la liaison entre les turbines et les sous-stations\n",
    "    cost += cost_turbines_substation(L, D1, general_parameters)\n",
    "\n",
    "    # On calcule le coût de la liaison entre les sous-stations\n",
    "    cost += cost_substation_substation(S, D2, substation_substation_cable_types)\n",
    "\n",
    "    # On calcule le coût de la liaison entre les sous-stations et la station terrestre\n",
    "    cost += cost_substation_land_substation(S, D3, land_substation_cable_types)\n",
    "\n",
    "    # On calcule le coût de construction des sous-stations\n",
    "    cost += cost_substation(S, substation_types)\n",
    "\n",
    "    # On calcule le coût opérationnel\n",
    "    cost += operational_cost(L, S, wind_scenarios, general_parameters, substation_substation_cable_types, land_substation_cable_types, substation_types)\n",
    "\n",
    "    return cost\n",
    "end"
   ]
  },
  {
   "cell_type": "code",
   "execution_count": 10,
   "metadata": {},
   "outputs": [
    {
     "data": {
      "text/plain": [
       "distance (generic function with 1 method)"
      ]
     },
     "metadata": {},
     "output_type": "display_data"
    }
   ],
   "source": [
    "#  Création des matrices de distances des turbines aux sous-stations, des sous-stations à la station terrestre et des sous-stations entre elles\n",
    "\n",
    "function distance(V_t,V_s,v_0)\n",
    "    # V_t : vecteur des turbines\n",
    "    # V_s : vecteur des sous-stations\n",
    "    # v_0 : vecteur de la station terrestre\n",
    "    \n",
    "    # On initialise le vecteur des distances\n",
    "    D1 = zeros(length(V_t),length(V_s))\n",
    "    D2 = zeros(length(V_s),length(V_s))\n",
    "    D3 = zeros(length(V_s),1)\n",
    "\n",
    "    # On calcule les distances entre les turbines et les sous-stations, et entre les sous-stations et la station terrestre et entre les sous-stations\n",
    "    for i in 1:length(V_t)\n",
    "        for j in 1:length(V_s)\n",
    "            D1[i,j] = sqrt((V_t[i][1]-V_s[j][1])^2 + (V_t[i][2]-V_s[j][2])^2)\n",
    "        end\n",
    "    end\n",
    "\n",
    "    for i in 1:length(V_s)\n",
    "        for j in 1:length(V_s)\n",
    "            D2[i,j] = sqrt((V_s[i][1]-V_s[j][1])^2 + (V_s[i][2]-V_s[j][2])^2)\n",
    "        end\n",
    "        D2[i,i] = +Inf\n",
    "    end\n",
    "\n",
    "    for i in 1:length(V_s)\n",
    "        D3[i] = sqrt((V_s[i][1]-v_0[1])^2 + (V_s[i][2]-v_0[2])^2)\n",
    "    end\n",
    "\n",
    "    return D1,D2,D3\n",
    "end"
   ]
  },
  {
   "cell_type": "code",
   "execution_count": 11,
   "metadata": {},
   "outputs": [
    {
     "data": {
      "text/plain": [
       "heuristique_1 (generic function with 1 method)"
      ]
     },
     "metadata": {},
     "output_type": "display_data"
    }
   ],
   "source": [
    "function heuristique_1(D1, D2)\n",
    "    # D1 : matrice des distances entre les turbines et les sous-stations\n",
    "    # D2 : matrice des distances entre les sous-stations\n",
    "\n",
    "    # On initialise le vecteur liant turbines et sous-stations\n",
    "    L = zeros(Int, size(D1, 1), 1)\n",
    "\n",
    "    # On initialise le vecteur des sous-stations\n",
    "    S = zeros(Int, size(D2, 1), 5)\n",
    "\n",
    "    # On emplit ce vecteur en associant à chaque turbine la sous-station la plus proche\n",
    "    for i in 1:size(D1, 1)\n",
    "        L[i] = argmin(D1[i,:])\n",
    "        S[L[i], 1] += 1\n",
    "        S[L[i], 5] = 1\n",
    "        S[L[i], 3] = 1\n",
    "    end\n",
    "\n",
    "    # On emplit ce vecteur en associant à chaque sous-station présente dans L la sous-station la plus proche\n",
    "    for i in 1:length(L)\n",
    "        if S[L[i], 2] == 0 && S[argmin(D2[L[i],:]), 2] == 0\n",
    "            S[L[i], 2] = argmin(D2[L[i],:])\n",
    "            S[S[L[i], 2], 2] = L[i]\n",
    "            S[L[i], 4] = rand(1:length(sub_sub_cable_types))\n",
    "            S[S[L[i], 2], 4] = S[L[i], 4]\n",
    "        end\n",
    "    end\n",
    "\n",
    "    return L,S\n",
    "end"
   ]
  },
  {
   "cell_type": "code",
   "execution_count": 12,
   "metadata": {},
   "outputs": [
    {
     "data": {
      "text/plain": [
       "16031.950398729019"
      ]
     },
     "metadata": {},
     "output_type": "display_data"
    }
   ],
   "source": [
    "# on teste l'heuristique 1\n",
    "\n",
    "D1, D2, D3 = distance(V_t, V_s, v_0)\n",
    "L,S = heuristique_1(D1, D2)\n",
    "\n",
    "cost(L, S, D1, D2, D3, wind_scenarios, general_parameters, sub_sub_cable_types, land_substation_cable_types, substation_types)"
   ]
  },
  {
   "cell_type": "code",
   "execution_count": 13,
   "metadata": {},
   "outputs": [
    {
     "data": {
      "text/plain": [
       "voisinage_substation_substation (generic function with 1 method)"
      ]
     },
     "metadata": {},
     "output_type": "display_data"
    }
   ],
   "source": [
    "# Fonctions voisinages\n",
    "# Ces fonctions sont la base de la méta-heuristique ; elles effectuent les changements de lien entre turbines et sous-stations et entre sous-stations entre elles\n",
    "\n",
    "function metropolis_acceptance(current_cost, new_cost, temperature)\n",
    "    if new_cost < current_cost\n",
    "        return true\n",
    "    else\n",
    "        probability_acceptance = exp((current_cost - new_cost) / temperature)\n",
    "        return rand() < probability_acceptance\n",
    "    end\n",
    "end\n",
    "\n",
    "\n",
    "function voisinage_turbine_substation(L, S, D1, D2, D3, temperature, wind_scenarios, general_parameters, substation_substation_cable_types, land_substation_cable_types, substation_types)\n",
    "    # L : vecteur liant turbines et sous-stations\n",
    "    # S : vecteur liant les sous-stations\n",
    "    # D1 : matrice des distances entre les turbines et les sous-stations\n",
    "    # D2 : matrice des distances entre les sous-stations\n",
    "    # D3 : vecteur des distances entre les sous-stations et la station terrestre\n",
    "\n",
    "    # On choisit aléatoirement une turbine, notée n, on la lie avec la sous-station la plus proche de celle à laquelle est elle actuellement associée\n",
    "    new = rand(1:length(L))\n",
    "\n",
    "    S1 = copy(S)\n",
    "    L1 = copy(L)\n",
    "    \n",
    "    old = L[new]\n",
    "    linked_old = S[old, 2]\n",
    "\n",
    "    # On change la liaison entre la turbine et la sous-station en choisissant la sous-station la plus proche de l'ancienne sous-station\n",
    "    #L[new] = argmin(D2[old,:])\n",
    "    L[new] = rand(1:size(S, 1))\n",
    "    S[old, 1] -= 1\n",
    "\n",
    "    # Si la sous-station n'est plus reliée à aucune turbine, on la supprime\n",
    "    if S[old, 1] == 0\n",
    "        if linked_old != 0\n",
    "            if S[L[new], 2] == 0\n",
    "                S[L[new], 2] = linked_old\n",
    "                S[linked_old, 2] = L[new]\n",
    "                S[L[new], 4] = S[linked_old, 4]\n",
    "            else\n",
    "                S[linked_old, 2] = 0\n",
    "                S[linked_old, 4] = 0\n",
    "            end\n",
    "        end\n",
    "        S[old, 2] = 0\n",
    "        S[old, 3] = 0\n",
    "        S[old, 4] = 0\n",
    "        S[old, 5] = 0\n",
    "    end\n",
    "\n",
    "    if S[L[new], 1] == 0\n",
    "        S[L[new], 5] = rand(1:length(substation_types))\n",
    "        S[L[new], 3] = rand(1:length(land_substation_cable_types))\n",
    "    end\n",
    "\n",
    "    S[L[new], 1] += 1\n",
    "\n",
    "    new_cost = cost(L, S, D1, D2, D3, wind_scenarios, general_parameters, substation_substation_cable_types, land_substation_cable_types, substation_types)\n",
    "    old_cost = cost(L1, S1, D1, D2, D3, wind_scenarios, general_parameters, substation_substation_cable_types, land_substation_cable_types, substation_types)\n",
    "    \n",
    "    if metropolis_acceptance(old_cost, new_cost, temperature)\n",
    "        return L, S\n",
    "    else\n",
    "        return L1, S1\n",
    "    end\n",
    "end\n",
    "\n",
    "function voisinage_type_cables(L, S, D1, D2, D3, temperature, wind_scenarios, general_parameters, substation_substation_cable_types, land_substation_cable_types, substation_types)\n",
    "    # L : vecteur liant turbines et sous-stations\n",
    "    # S : vecteur liant les sous-stations\n",
    "    # D1 : matrice des distances entre les turbines et les sous-stations\n",
    "    # D2 : matrice des distances entre les sous-stations\n",
    "    # D3 : vecteur des distances entre les sous-stations et la station terrestre\n",
    "\n",
    "    # On choisit aléatoirement une sous-station créée, on modifie le type de câble entre cette sous-station et la station terrestre\n",
    "    S1 = copy(S)\n",
    "    L1 = copy(L)\n",
    "    turbine = rand(1:length(L))\n",
    "\n",
    "    substation = L[turbine]\n",
    "\n",
    "    new = rand(1:length(land_substation_cable_types))\n",
    "    S[substation, 3] = land_substation_cable_types[new][\"id\"]\n",
    "\n",
    "    new_cost = cost(L, S, D1, D2, D3, wind_scenarios, general_parameters, substation_substation_cable_types, land_substation_cable_types, substation_types)\n",
    "    old_cost = cost(L1, S1, D1, D2, D3, wind_scenarios, general_parameters, substation_substation_cable_types, land_substation_cable_types, substation_types)\n",
    "    \n",
    "    if metropolis_acceptance(old_cost, new_cost, temperature)\n",
    "        return L, S\n",
    "    else\n",
    "        return L1, S1\n",
    "    end\n",
    "end\n",
    "\n",
    "function voisinage_type_substation(L, S, D1, D2, D3, temperature, wind_scenarios, general_parameters, substation_substation_cable_types, land_substation_cable_types, substation_types)\n",
    "    # L : vecteur liant turbines et sous-stations\n",
    "    # S : vecteur liant les sous-stations\n",
    "    # D1 : matrice des distances entre les turbines et les sous-stations\n",
    "    # D2 : matrice des distances entre les sous-stations\n",
    "    # D3 : vecteur des distances entre les sous-stations et la station terrestre\n",
    "\n",
    "    # On choisit aléatoirement une sous-station créée, on modifie le type de sous-station\n",
    "    S1 = copy(S)\n",
    "    L1 = copy(L)\n",
    "    turbine = rand(1:length(L))\n",
    "\n",
    "    substation = L[turbine]\n",
    "\n",
    "    new = rand(1:length(substation_types))\n",
    "    S[substation, 5] = substation_types[new][\"id\"]\n",
    "\n",
    "    new_cost = cost(L, S, D1, D2, D3, wind_scenarios, general_parameters, substation_substation_cable_types, land_substation_cable_types, substation_types)\n",
    "    old_cost = cost(L1, S1, D1, D2, D3, wind_scenarios, general_parameters, substation_substation_cable_types, land_substation_cable_types, substation_types)\n",
    "    \n",
    "    if metropolis_acceptance(old_cost, new_cost, temperature)\n",
    "        return L, S\n",
    "    else\n",
    "        return L1, S1\n",
    "    end\n",
    "end\n",
    "\n",
    "    \n",
    "\n",
    "function voisinage_substation_substation(L, S, D1, D2, D3, temperature, wind_scenarios, general_parameters, substation_substation_cable_types, land_substation_cable_types, substation_types)\n",
    "    # L : vecteur liant turbines et sous-stations\n",
    "    # S : vecteur liant les sous-stations\n",
    "    # D1 : matrice des distances entre les turbines et les sous-stations\n",
    "    # D2 : matrice des distances entre les sous-stations\n",
    "    # D3 : vecteur des distances entre les sous-stations et la station terrestre\n",
    "\n",
    "    # On choisit aléatoirement une sous-station, notée n, on la lie avec la sous-station la plus proche de celle à laquelle est elle actuellement associée\n",
    "    \n",
    "    L1 = copy(L)  # Use copy to create an independent copy of L\n",
    "    S1 = copy(S)  # Use copy to create an independent copy of S\n",
    "    turbine = rand(1:length(L))\n",
    "\n",
    "    substation = L[turbine]\n",
    "\n",
    "    old = S[substation, 2]\n",
    "\n",
    "    if old != 0\n",
    "        S[old, 4] = 0\n",
    "        S[old, 2] = 0\n",
    "    end\n",
    "\n",
    "    # On lie la sous-station à une sous-station aléatoirement\n",
    "\n",
    "    turbine_2 = rand(1:length(L))\n",
    "    substation_2 = L[turbine_2]\n",
    "\n",
    "    old_2 = S[substation_2, 2]\n",
    "\n",
    "    if old_2 != 0\n",
    "        S[old_2, 4] = 0\n",
    "        S[old_2, 2] = 0\n",
    "    end\n",
    "\n",
    "    S[substation, 2] = substation_2\n",
    "    S[substation_2, 2] = substation\n",
    "\n",
    "    S[substation, 4] = rand(1:length(sub_sub_cable_types))\n",
    "    S[substation_2, 4] = S[substation, 4]\n",
    "\n",
    "    new_cost = cost(L, S, D1, D2, D3, wind_scenarios, general_parameters, substation_substation_cable_types, land_substation_cable_types, substation_types)\n",
    "    old_cost = cost(L1, S1, D1, D2, D3, wind_scenarios, general_parameters, substation_substation_cable_types, land_substation_cable_types, substation_types)\n",
    "    \n",
    "    if metropolis_acceptance(old_cost, new_cost, temperature)\n",
    "        return L, S\n",
    "    else\n",
    "        return L1, S1\n",
    "    end\n",
    "end\n"
   ]
  },
  {
   "cell_type": "code",
   "execution_count": 30,
   "metadata": {},
   "outputs": [
    {
     "data": {
      "text/plain": [
       "metaheuristique (generic function with 1 method)"
      ]
     },
     "metadata": {},
     "output_type": "display_data"
    }
   ],
   "source": [
    "# Métaheuristique\n",
    "\n",
    "function metaheuristique(wind_scenarios, general_parameters, substation_substation_cable_types, land_substation_cable_types, substation_types)\n",
    "    D1, D2, D3 = distance(V_t,V_s,v_0)\n",
    "    L, S = heuristique_1(D1, D2)\n",
    "    costs = []\n",
    "    temperature = 3.4\n",
    "    for i in 1:2500\n",
    "        temperature = temperature/1.1\n",
    "        if i%100 == 0\n",
    "            println(i)\n",
    "        end\n",
    "        if rand() < 0.3\n",
    "            L, S = voisinage_turbine_substation(L, S, D1, D2, D3, temperature, wind_scenarios, general_parameters, substation_substation_cable_types, land_substation_cable_types, substation_types)\n",
    "        elseif rand() < 0.3\n",
    "            L, S = voisinage_substation_substation(L, S, D1, D2, D3, temperature, wind_scenarios, general_parameters, substation_substation_cable_types, land_substation_cable_types, substation_types)\n",
    "        else\n",
    "            if rand() < 0.5\n",
    "                L, S = voisinage_type_cables(L, S, D1, D2, D3, temperature, wind_scenarios, general_parameters, substation_substation_cable_types, land_substation_cable_types, substation_types)\n",
    "            else\n",
    "                L, S = voisinage_type_substation(L, S, D1, D2, D3, temperature, wind_scenarios, general_parameters, substation_substation_cable_types, land_substation_cable_types, substation_types)\n",
    "            end\n",
    "        end\n",
    "        new_cost = cost(L, S, D1, D2, D3, wind_scenarios, general_parameters, substation_substation_cable_types, land_substation_cable_types, substation_types)\n",
    "        push!(costs, new_cost)\n",
    "    end\n",
    "    final_cost = cost(L, S, D1, D2, D3, wind_scenarios, general_parameters, substation_substation_cable_types, land_substation_cable_types, substation_types)\n",
    "    return L, S, costs, final_cost\n",
    "end"
   ]
  },
  {
   "cell_type": "code",
   "execution_count": 31,
   "metadata": {},
   "outputs": [
    {
     "name": "stdout",
     "output_type": "stream",
     "text": [
      "100\n"
     ]
    },
    {
     "name": "stdout",
     "output_type": "stream",
     "text": [
      "200"
     ]
    },
    {
     "name": "stdout",
     "output_type": "stream",
     "text": [
      "\n",
      "300\n"
     ]
    },
    {
     "name": "stdout",
     "output_type": "stream",
     "text": [
      "400"
     ]
    },
    {
     "name": "stdout",
     "output_type": "stream",
     "text": [
      "\n",
      "500\n"
     ]
    },
    {
     "name": "stdout",
     "output_type": "stream",
     "text": [
      "600\n"
     ]
    },
    {
     "name": "stdout",
     "output_type": "stream",
     "text": [
      "700\n"
     ]
    },
    {
     "name": "stdout",
     "output_type": "stream",
     "text": [
      "800"
     ]
    },
    {
     "name": "stdout",
     "output_type": "stream",
     "text": [
      "\n"
     ]
    },
    {
     "name": "stdout",
     "output_type": "stream",
     "text": [
      "900\n",
      "1000\n"
     ]
    },
    {
     "name": "stdout",
     "output_type": "stream",
     "text": [
      "1100"
     ]
    },
    {
     "name": "stdout",
     "output_type": "stream",
     "text": [
      "\n",
      "1200\n"
     ]
    },
    {
     "name": "stdout",
     "output_type": "stream",
     "text": [
      "1300"
     ]
    },
    {
     "name": "stdout",
     "output_type": "stream",
     "text": [
      "\n",
      "1400"
     ]
    },
    {
     "name": "stdout",
     "output_type": "stream",
     "text": [
      "\n",
      "1500"
     ]
    },
    {
     "name": "stdout",
     "output_type": "stream",
     "text": [
      "\n",
      "1600\n"
     ]
    },
    {
     "name": "stdout",
     "output_type": "stream",
     "text": [
      "1700\n"
     ]
    },
    {
     "name": "stdout",
     "output_type": "stream",
     "text": [
      "1800\n"
     ]
    },
    {
     "name": "stdout",
     "output_type": "stream",
     "text": [
      "1900\n"
     ]
    },
    {
     "name": "stdout",
     "output_type": "stream",
     "text": [
      "2000\n"
     ]
    },
    {
     "name": "stdout",
     "output_type": "stream",
     "text": [
      "2100\n"
     ]
    },
    {
     "name": "stdout",
     "output_type": "stream",
     "text": [
      "2200"
     ]
    },
    {
     "name": "stdout",
     "output_type": "stream",
     "text": [
      "\n",
      "2300"
     ]
    },
    {
     "name": "stdout",
     "output_type": "stream",
     "text": [
      "\n",
      "2400\n"
     ]
    },
    {
     "data": {
      "image/png": "[encoded data removed]",
      "image/svg+xml": [
       "<?xml version=\"1.0\" encoding=\"utf-8\"?>\n",
       "<svg xmlns=\"http://www.w3.org/2000/svg\" xmlns:xlink=\"http://www.w3.org/1999/xlink\" width=\"600\" height=\"400\" viewBox=\"0 0 2400 1600\">\n",
       "<defs>\n",
       "  <clipPath id=\"clip940\">\n",
       "    <rect x=\"0\" y=\"0\" width=\"2400\" height=\"1600\"/>\n",
       "  </clipPath>\n",
       "</defs>\n",
       "<path clip-path=\"url(#clip940)\" d=\"M0 1600 L2400 1600 L2400 0 L0 0  Z\" fill=\"#ffffff\" fill-rule=\"evenodd\" fill-opacity=\"1\"/>\n",
       "<defs>\n",
       "  <clipPath id=\"clip941\">\n",
       "    <rect x=\"480\" y=\"0\" width=\"1681\" height=\"1600\"/>\n",
       "  </clipPath>\n",
       "</defs>\n",
       "<path clip-path=\"url(#clip940)\" d=\"M292.713 1423.18 L2352.76 1423.18 L2352.76 123.472 L292.713 123.472  Z\" fill=\"#ffffff\" fill-rule=\"evenodd\" fill-opacity=\"1\"/>\n",
       "<defs>\n",
       "  <clipPath id=\"clip942\">\n",
       "    <rect x=\"292\" y=\"123\" width=\"2061\" height=\"1301\"/>\n",
       "  </clipPath>\n",
       "</defs>\n",
       "<polyline clip-path=\"url(#clip942)\" style=\"stroke:#000000; stroke-linecap:round; stroke-linejoin:round; stroke-width:2; stroke-opacity:0.1; fill:none\" points=\"350.239,1423.18 350.239,123.472 \"/>\n",
       "<polyline clip-path=\"url(#clip942)\" style=\"stroke:#000000; stroke-linecap:round; stroke-linejoin:round; stroke-width:2; stroke-opacity:0.1; fill:none\" points=\"739.081,1423.18 739.081,123.472 \"/>\n",
       "<polyline clip-path=\"url(#clip942)\" style=\"stroke:#000000; stroke-linecap:round; stroke-linejoin:round; stroke-width:2; stroke-opacity:0.1; fill:none\" points=\"1127.92,1423.18 1127.92,123.472 \"/>\n",
       "<polyline clip-path=\"url(#clip942)\" style=\"stroke:#000000; stroke-linecap:round; stroke-linejoin:round; stroke-width:2; stroke-opacity:0.1; fill:none\" points=\"1516.77,1423.18 1516.77,123.472 \"/>\n",
       "<polyline clip-path=\"url(#clip942)\" style=\"stroke:#000000; stroke-linecap:round; stroke-linejoin:round; stroke-width:2; stroke-opacity:0.1; fill:none\" points=\"1905.61,1423.18 1905.61,123.472 \"/>\n",
       "<polyline clip-path=\"url(#clip942)\" style=\"stroke:#000000; stroke-linecap:round; stroke-linejoin:round; stroke-width:2; stroke-opacity:0.1; fill:none\" points=\"2294.45,1423.18 2294.45,123.472 \"/>\n",
       "<polyline clip-path=\"url(#clip940)\" style=\"stroke:#000000; stroke-linecap:round; stroke-linejoin:round; stroke-width:4; stroke-opacity:1; fill:none\" points=\"292.713,1423.18 2352.76,1423.18 \"/>\n",
       "<polyline clip-path=\"url(#clip940)\" style=\"stroke:#000000; stroke-linecap:round; stroke-linejoin:round; stroke-width:4; stroke-opacity:1; fill:none\" points=\"350.239,1423.18 350.239,1404.28 \"/>\n",
       "<polyline clip-path=\"url(#clip940)\" style=\"stroke:#000000; stroke-linecap:round; stroke-linejoin:round; stroke-width:4; stroke-opacity:1; fill:none\" points=\"739.081,1423.18 739.081,1404.28 \"/>\n",
       "<polyline clip-path=\"url(#clip940)\" style=\"stroke:#000000; stroke-linecap:round; stroke-linejoin:round; stroke-width:4; stroke-opacity:1; fill:none\" points=\"1127.92,1423.18 1127.92,1404.28 \"/>\n",
       "<polyline clip-path=\"url(#clip940)\" style=\"stroke:#000000; stroke-linecap:round; stroke-linejoin:round; stroke-width:4; stroke-opacity:1; fill:none\" points=\"1516.77,1423.18 1516.77,1404.28 \"/>\n",
       "<polyline clip-path=\"url(#clip940)\" style=\"stroke:#000000; stroke-linecap:round; stroke-linejoin:round; stroke-width:4; stroke-opacity:1; fill:none\" points=\"1905.61,1423.18 1905.61,1404.28 \"/>\n",
       "<polyline clip-path=\"url(#clip940)\" style=\"stroke:#000000; stroke-linecap:round; stroke-linejoin:round; stroke-width:4; stroke-opacity:1; fill:none\" points=\"2294.45,1423.18 2294.45,1404.28 \"/>\n",
       "<path clip-path=\"url(#clip940)\" d=\"M350.239 1454.1 Q346.627 1454.1 344.799 1457.66 Q342.993 1461.2 342.993 1468.33 Q342.993 1475.44 344.799 1479.01 Q346.627 1482.55 350.239 1482.55 Q353.873 1482.55 355.678 1479.01 Q357.507 1475.44 357.507 1468.33 Q357.507 1461.2 355.678 1457.66 Q353.873 1454.1 350.239 1454.1 M350.239 1450.39 Q356.049 1450.39 359.104 1455 Q362.183 1459.58 362.183 1468.33 Q362.183 1477.06 359.104 1481.67 Q356.049 1486.25 350.239 1486.25 Q344.428 1486.25 341.35 1481.67 Q338.294 1477.06 338.294 1468.33 Q338.294 1459.58 341.35 1455 Q344.428 1450.39 350.239 1450.39 Z\" fill=\"#000000\" fill-rule=\"nonzero\" fill-opacity=\"1\" /><path clip-path=\"url(#clip940)\" d=\"M698.7 1451.02 L717.056 1451.02 L717.056 1454.96 L702.982 1454.96 L702.982 1463.43 Q704.001 1463.08 705.019 1462.92 Q706.038 1462.73 707.056 1462.73 Q712.843 1462.73 716.223 1465.9 Q719.602 1469.08 719.602 1474.49 Q719.602 1480.07 716.13 1483.17 Q712.658 1486.25 706.338 1486.25 Q704.163 1486.25 701.894 1485.88 Q699.649 1485.51 697.241 1484.77 L697.241 1480.07 Q699.325 1481.2 701.547 1481.76 Q703.769 1482.32 706.246 1482.32 Q710.251 1482.32 712.588 1480.21 Q714.926 1478.1 714.926 1474.49 Q714.926 1470.88 712.588 1468.77 Q710.251 1466.67 706.246 1466.67 Q704.371 1466.67 702.496 1467.08 Q700.644 1467.5 698.7 1468.38 L698.7 1451.02 Z\" fill=\"#000000\" fill-rule=\"nonzero\" fill-opacity=\"1\" /><path clip-path=\"url(#clip940)\" d=\"M738.815 1454.1 Q735.204 1454.1 733.375 1457.66 Q731.57 1461.2 731.57 1468.33 Q731.57 1475.44 733.375 1479.01 Q735.204 1482.55 738.815 1482.55 Q742.449 1482.55 744.255 1479.01 Q746.084 1475.44 746.084 1468.33 Q746.084 1461.2 744.255 1457.66 Q742.449 1454.1 738.815 1454.1 M738.815 1450.39 Q744.625 1450.39 747.681 1455 Q750.76 1459.58 750.76 1468.33 Q750.76 1477.06 747.681 1481.67 Q744.625 1486.25 738.815 1486.25 Q733.005 1486.25 729.926 1481.67 Q726.871 1477.06 726.871 1468.33 Q726.871 1459.58 729.926 1455 Q733.005 1450.39 738.815 1450.39 Z\" fill=\"#000000\" fill-rule=\"nonzero\" fill-opacity=\"1\" /><path clip-path=\"url(#clip940)\" d=\"M768.977 1454.1 Q765.366 1454.1 763.537 1457.66 Q761.732 1461.2 761.732 1468.33 Q761.732 1475.44 763.537 1479.01 Q765.366 1482.55 768.977 1482.55 Q772.611 1482.55 774.417 1479.01 Q776.246 1475.44 776.246 1468.33 Q776.246 1461.2 774.417 1457.66 Q772.611 1454.1 768.977 1454.1 M768.977 1450.39 Q774.787 1450.39 777.843 1455 Q780.921 1459.58 780.921 1468.33 Q780.921 1477.06 777.843 1481.67 Q774.787 1486.25 768.977 1486.25 Q763.167 1486.25 760.088 1481.67 Q757.033 1477.06 757.033 1468.33 Q757.033 1459.58 760.088 1455 Q763.167 1450.39 768.977 1450.39 Z\" fill=\"#000000\" fill-rule=\"nonzero\" fill-opacity=\"1\" /><path clip-path=\"url(#clip940)\" d=\"M1072.45 1481.64 L1080.09 1481.64 L1080.09 1455.28 L1071.78 1456.95 L1071.78 1452.69 L1080.04 1451.02 L1084.72 1451.02 L1084.72 1481.64 L1092.36 1481.64 L1092.36 1485.58 L1072.45 1485.58 L1072.45 1481.64 Z\" fill=\"#000000\" fill-rule=\"nonzero\" fill-opacity=\"1\" /><path clip-path=\"url(#clip940)\" d=\"M1111.8 1454.1 Q1108.19 1454.1 1106.36 1457.66 Q1104.56 1461.2 1104.56 1468.33 Q1104.56 1475.44 1106.36 1479.01 Q1108.19 1482.55 1111.8 1482.55 Q1115.44 1482.55 1117.24 1479.01 Q1119.07 1475.44 1119.07 1468.33 Q1119.07 1461.2 1117.24 1457.66 Q1115.44 1454.1 1111.8 1454.1 M1111.8 1450.39 Q1117.61 1450.39 1120.67 1455 Q1123.75 1459.58 1123.75 1468.33 Q1123.75 1477.06 1120.67 1481.67 Q1117.61 1486.25 1111.8 1486.25 Q1105.99 1486.25 1102.91 1481.67 Q1099.86 1477.06 1099.86 1468.33 Q1099.86 1459.58 1102.91 1455 Q1105.99 1450.39 1111.8 1450.39 Z\" fill=\"#000000\" fill-rule=\"nonzero\" fill-opacity=\"1\" /><path clip-path=\"url(#clip940)\" d=\"M1141.96 1454.1 Q1138.35 1454.1 1136.52 1457.66 Q1134.72 1461.2 1134.72 1468.33 Q1134.72 1475.44 1136.52 1479.01 Q1138.35 1482.55 1141.96 1482.55 Q1145.6 1482.55 1147.4 1479.01 Q1149.23 1475.44 1149.23 1468.33 Q1149.23 1461.2 1147.4 1457.66 Q1145.6 1454.1 1141.96 1454.1 M1141.96 1450.39 Q1147.77 1450.39 1150.83 1455 Q1153.91 1459.58 1153.91 1468.33 Q1153.91 1477.06 1150.83 1481.67 Q1147.77 1486.25 1141.96 1486.25 Q1136.15 1486.25 1133.07 1481.67 Q1130.02 1477.06 1130.02 1468.33 Q1130.02 1459.58 1133.07 1455 Q1136.15 1450.39 1141.96 1450.39 Z\" fill=\"#000000\" fill-rule=\"nonzero\" fill-opacity=\"1\" /><path clip-path=\"url(#clip940)\" d=\"M1172.13 1454.1 Q1168.51 1454.1 1166.69 1457.66 Q1164.88 1461.2 1164.88 1468.33 Q1164.88 1475.44 1166.69 1479.01 Q1168.51 1482.55 1172.13 1482.55 Q1175.76 1482.55 1177.57 1479.01 Q1179.39 1475.44 1179.39 1468.33 Q1179.39 1461.2 1177.57 1457.66 Q1175.76 1454.1 1172.13 1454.1 M1172.13 1450.39 Q1177.94 1450.39 1180.99 1455 Q1184.07 1459.58 1184.07 1468.33 Q1184.07 1477.06 1180.99 1481.67 Q1177.94 1486.25 1172.13 1486.25 Q1166.32 1486.25 1163.24 1481.67 Q1160.18 1477.06 1160.18 1468.33 Q1160.18 1459.58 1163.24 1455 Q1166.32 1450.39 1172.13 1450.39 Z\" fill=\"#000000\" fill-rule=\"nonzero\" fill-opacity=\"1\" /><path clip-path=\"url(#clip940)\" d=\"M1461.29 1481.64 L1468.93 1481.64 L1468.93 1455.28 L1460.62 1456.95 L1460.62 1452.69 L1468.89 1451.02 L1473.56 1451.02 L1473.56 1481.64 L1481.2 1481.64 L1481.2 1485.58 L1461.29 1485.58 L1461.29 1481.64 Z\" fill=\"#000000\" fill-rule=\"nonzero\" fill-opacity=\"1\" /><path clip-path=\"url(#clip940)\" d=\"M1490.69 1451.02 L1509.05 1451.02 L1509.05 1454.96 L1494.97 1454.96 L1494.97 1463.43 Q1495.99 1463.08 1497.01 1462.92 Q1498.03 1462.73 1499.05 1462.73 Q1504.83 1462.73 1508.21 1465.9 Q1511.59 1469.08 1511.59 1474.49 Q1511.59 1480.07 1508.12 1483.17 Q1504.65 1486.25 1498.33 1486.25 Q1496.15 1486.25 1493.89 1485.88 Q1491.64 1485.51 1489.23 1484.77 L1489.23 1480.07 Q1491.32 1481.2 1493.54 1481.76 Q1495.76 1482.32 1498.24 1482.32 Q1502.24 1482.32 1504.58 1480.21 Q1506.92 1478.1 1506.92 1474.49 Q1506.92 1470.88 1504.58 1468.77 Q1502.24 1466.67 1498.24 1466.67 Q1496.36 1466.67 1494.49 1467.08 Q1492.64 1467.5 1490.69 1468.38 L1490.69 1451.02 Z\" fill=\"#000000\" fill-rule=\"nonzero\" fill-opacity=\"1\" /><path clip-path=\"url(#clip940)\" d=\"M1530.81 1454.1 Q1527.2 1454.1 1525.37 1457.66 Q1523.56 1461.2 1523.56 1468.33 Q1523.56 1475.44 1525.37 1479.01 Q1527.2 1482.55 1530.81 1482.55 Q1534.44 1482.55 1536.25 1479.01 Q1538.07 1475.44 1538.07 1468.33 Q1538.07 1461.2 1536.25 1457.66 Q1534.44 1454.1 1530.81 1454.1 M1530.81 1450.39 Q1536.62 1450.39 1539.67 1455 Q1542.75 1459.58 1542.75 1468.33 Q1542.75 1477.06 1539.67 1481.67 Q1536.62 1486.25 1530.81 1486.25 Q1525 1486.25 1521.92 1481.67 Q1518.86 1477.06 1518.86 1468.33 Q1518.86 1459.58 1521.92 1455 Q1525 1450.39 1530.81 1450.39 Z\" fill=\"#000000\" fill-rule=\"nonzero\" fill-opacity=\"1\" /><path clip-path=\"url(#clip940)\" d=\"M1560.97 1454.1 Q1557.36 1454.1 1555.53 1457.66 Q1553.72 1461.2 1553.72 1468.33 Q1553.72 1475.44 1555.53 1479.01 Q1557.36 1482.55 1560.97 1482.55 Q1564.6 1482.55 1566.41 1479.01 Q1568.24 1475.44 1568.24 1468.33 Q1568.24 1461.2 1566.41 1457.66 Q1564.6 1454.1 1560.97 1454.1 M1560.97 1450.39 Q1566.78 1450.39 1569.83 1455 Q1572.91 1459.58 1572.91 1468.33 Q1572.91 1477.06 1569.83 1481.67 Q1566.78 1486.25 1560.97 1486.25 Q1555.16 1486.25 1552.08 1481.67 Q1549.02 1477.06 1549.02 1468.33 Q1549.02 1459.58 1552.08 1455 Q1555.16 1450.39 1560.97 1450.39 Z\" fill=\"#000000\" fill-rule=\"nonzero\" fill-opacity=\"1\" /><path clip-path=\"url(#clip940)\" d=\"M1854.22 1481.64 L1870.54 1481.64 L1870.54 1485.58 L1848.6 1485.58 L1848.6 1481.64 Q1851.26 1478.89 1855.84 1474.26 Q1860.45 1469.61 1861.63 1468.27 Q1863.87 1465.74 1864.75 1464.01 Q1865.66 1462.25 1865.66 1460.56 Q1865.66 1457.8 1863.71 1456.07 Q1861.79 1454.33 1858.69 1454.33 Q1856.49 1454.33 1854.04 1455.09 Q1851.61 1455.86 1848.83 1457.41 L1848.83 1452.69 Q1851.65 1451.55 1854.11 1450.97 Q1856.56 1450.39 1858.6 1450.39 Q1863.97 1450.39 1867.16 1453.08 Q1870.36 1455.77 1870.36 1460.26 Q1870.36 1462.39 1869.55 1464.31 Q1868.76 1466.2 1866.65 1468.8 Q1866.07 1469.47 1862.97 1472.69 Q1859.87 1475.88 1854.22 1481.64 Z\" fill=\"#000000\" fill-rule=\"nonzero\" fill-opacity=\"1\" /><path clip-path=\"url(#clip940)\" d=\"M1890.36 1454.1 Q1886.74 1454.1 1884.92 1457.66 Q1883.11 1461.2 1883.11 1468.33 Q1883.11 1475.44 1884.92 1479.01 Q1886.74 1482.55 1890.36 1482.55 Q1893.99 1482.55 1895.8 1479.01 Q1897.62 1475.44 1897.62 1468.33 Q1897.62 1461.2 1895.8 1457.66 Q1893.99 1454.1 1890.36 1454.1 M1890.36 1450.39 Q1896.17 1450.39 1899.22 1455 Q1902.3 1459.58 1902.3 1468.33 Q1902.3 1477.06 1899.22 1481.67 Q1896.17 1486.25 1890.36 1486.25 Q1884.55 1486.25 1881.47 1481.67 Q1878.41 1477.06 1878.41 1468.33 Q1878.41 1459.58 1881.47 1455 Q1884.55 1450.39 1890.36 1450.39 Z\" fill=\"#000000\" fill-rule=\"nonzero\" fill-opacity=\"1\" /><path clip-path=\"url(#clip940)\" d=\"M1920.52 1454.1 Q1916.91 1454.1 1915.08 1457.66 Q1913.27 1461.2 1913.27 1468.33 Q1913.27 1475.44 1915.08 1479.01 Q1916.91 1482.55 1920.52 1482.55 Q1924.15 1482.55 1925.96 1479.01 Q1927.79 1475.44 1927.79 1468.33 Q1927.79 1461.2 1925.96 1457.66 Q1924.15 1454.1 1920.52 1454.1 M1920.52 1450.39 Q1926.33 1450.39 1929.38 1455 Q1932.46 1459.58 1932.46 1468.33 Q1932.46 1477.06 1929.38 1481.67 Q1926.33 1486.25 1920.52 1486.25 Q1914.71 1486.25 1911.63 1481.67 Q1908.57 1477.06 1908.57 1468.33 Q1908.57 1459.58 1911.63 1455 Q1914.71 1450.39 1920.52 1450.39 Z\" fill=\"#000000\" fill-rule=\"nonzero\" fill-opacity=\"1\" /><path clip-path=\"url(#clip940)\" d=\"M1950.68 1454.1 Q1947.07 1454.1 1945.24 1457.66 Q1943.43 1461.2 1943.43 1468.33 Q1943.43 1475.44 1945.24 1479.01 Q1947.07 1482.55 1950.68 1482.55 Q1954.31 1482.55 1956.12 1479.01 Q1957.95 1475.44 1957.95 1468.33 Q1957.95 1461.2 1956.12 1457.66 Q1954.31 1454.1 1950.68 1454.1 M1950.68 1450.39 Q1956.49 1450.39 1959.54 1455 Q1962.62 1459.58 1962.62 1468.33 Q1962.62 1477.06 1959.54 1481.67 Q1956.49 1486.25 1950.68 1486.25 Q1944.87 1486.25 1941.79 1481.67 Q1938.73 1477.06 1938.73 1468.33 Q1938.73 1459.58 1941.79 1455 Q1944.87 1450.39 1950.68 1450.39 Z\" fill=\"#000000\" fill-rule=\"nonzero\" fill-opacity=\"1\" /><path clip-path=\"url(#clip940)\" d=\"M2243.06 1481.64 L2259.38 1481.64 L2259.38 1485.58 L2237.44 1485.58 L2237.44 1481.64 Q2240.1 1478.89 2244.68 1474.26 Q2249.29 1469.61 2250.47 1468.27 Q2252.72 1465.74 2253.6 1464.01 Q2254.5 1462.25 2254.5 1460.56 Q2254.5 1457.8 2252.55 1456.07 Q2250.63 1454.33 2247.53 1454.33 Q2245.33 1454.33 2242.88 1455.09 Q2240.45 1455.86 2237.67 1457.41 L2237.67 1452.69 Q2240.49 1451.55 2242.95 1450.97 Q2245.4 1450.39 2247.44 1450.39 Q2252.81 1450.39 2256 1453.08 Q2259.2 1455.77 2259.2 1460.26 Q2259.2 1462.39 2258.39 1464.31 Q2257.6 1466.2 2255.49 1468.8 Q2254.92 1469.47 2251.81 1472.69 Q2248.71 1475.88 2243.06 1481.64 Z\" fill=\"#000000\" fill-rule=\"nonzero\" fill-opacity=\"1\" /><path clip-path=\"url(#clip940)\" d=\"M2269.24 1451.02 L2287.6 1451.02 L2287.6 1454.96 L2273.53 1454.96 L2273.53 1463.43 Q2274.55 1463.08 2275.56 1462.92 Q2276.58 1462.73 2277.6 1462.73 Q2283.39 1462.73 2286.77 1465.9 Q2290.15 1469.08 2290.15 1474.49 Q2290.15 1480.07 2286.68 1483.17 Q2283.2 1486.25 2276.88 1486.25 Q2274.71 1486.25 2272.44 1485.88 Q2270.19 1485.51 2267.79 1484.77 L2267.79 1480.07 Q2269.87 1481.2 2272.09 1481.76 Q2274.31 1482.32 2276.79 1482.32 Q2280.8 1482.32 2283.13 1480.21 Q2285.47 1478.1 2285.47 1474.49 Q2285.47 1470.88 2283.13 1468.77 Q2280.8 1466.67 2276.79 1466.67 Q2274.92 1466.67 2273.04 1467.08 Q2271.19 1467.5 2269.24 1468.38 L2269.24 1451.02 Z\" fill=\"#000000\" fill-rule=\"nonzero\" fill-opacity=\"1\" /><path clip-path=\"url(#clip940)\" d=\"M2309.36 1454.1 Q2305.75 1454.1 2303.92 1457.66 Q2302.11 1461.2 2302.11 1468.33 Q2302.11 1475.44 2303.92 1479.01 Q2305.75 1482.55 2309.36 1482.55 Q2312.99 1482.55 2314.8 1479.01 Q2316.63 1475.44 2316.63 1468.33 Q2316.63 1461.2 2314.8 1457.66 Q2312.99 1454.1 2309.36 1454.1 M2309.36 1450.39 Q2315.17 1450.39 2318.23 1455 Q2321.3 1459.58 2321.3 1468.33 Q2321.3 1477.06 2318.23 1481.67 Q2315.17 1486.25 2309.36 1486.25 Q2303.55 1486.25 2300.47 1481.67 Q2297.42 1477.06 2297.42 1468.33 Q2297.42 1459.58 2300.47 1455 Q2303.55 1450.39 2309.36 1450.39 Z\" fill=\"#000000\" fill-rule=\"nonzero\" fill-opacity=\"1\" /><path clip-path=\"url(#clip940)\" d=\"M2339.52 1454.1 Q2335.91 1454.1 2334.08 1457.66 Q2332.28 1461.2 2332.28 1468.33 Q2332.28 1475.44 2334.08 1479.01 Q2335.91 1482.55 2339.52 1482.55 Q2343.16 1482.55 2344.96 1479.01 Q2346.79 1475.44 2346.79 1468.33 Q2346.79 1461.2 2344.96 1457.66 Q2343.16 1454.1 2339.52 1454.1 M2339.52 1450.39 Q2345.33 1450.39 2348.39 1455 Q2351.47 1459.58 2351.47 1468.33 Q2351.47 1477.06 2348.39 1481.67 Q2345.33 1486.25 2339.52 1486.25 Q2333.71 1486.25 2330.63 1481.67 Q2327.58 1477.06 2327.58 1468.33 Q2327.58 1459.58 2330.63 1455 Q2333.71 1450.39 2339.52 1450.39 Z\" fill=\"#000000\" fill-rule=\"nonzero\" fill-opacity=\"1\" /><path clip-path=\"url(#clip940)\" d=\"M1172.3 1520.52 L1178.73 1520.52 L1178.73 1568.04 L1172.3 1568.04 L1172.3 1520.52 Z\" fill=\"#000000\" fill-rule=\"nonzero\" fill-opacity=\"1\" /><path clip-path=\"url(#clip940)\" d=\"M1197.06 1522.27 L1197.06 1532.4 L1209.12 1532.4 L1209.12 1536.95 L1197.06 1536.95 L1197.06 1556.3 Q1197.06 1560.66 1198.24 1561.9 Q1199.45 1563.14 1203.11 1563.14 L1209.12 1563.14 L1209.12 1568.04 L1203.11 1568.04 Q1196.33 1568.04 1193.75 1565.53 Q1191.17 1562.98 1191.17 1556.3 L1191.17 1536.95 L1186.87 1536.95 L1186.87 1532.4 L1191.17 1532.4 L1191.17 1522.27 L1197.06 1522.27 Z\" fill=\"#000000\" fill-rule=\"nonzero\" fill-opacity=\"1\" /><path clip-path=\"url(#clip940)\" d=\"M1247.32 1548.76 L1247.32 1551.62 L1220.39 1551.62 Q1220.77 1557.67 1224.02 1560.85 Q1227.3 1564 1233.12 1564 Q1236.5 1564 1239.65 1563.17 Q1242.83 1562.35 1245.95 1560.69 L1245.95 1566.23 Q1242.8 1567.57 1239.49 1568.27 Q1236.18 1568.97 1232.77 1568.97 Q1224.24 1568.97 1219.24 1564 Q1214.28 1559.04 1214.28 1550.57 Q1214.28 1541.82 1218.99 1536.69 Q1223.73 1531.54 1231.75 1531.54 Q1238.95 1531.54 1243.12 1536.18 Q1247.32 1540.8 1247.32 1548.76 M1241.46 1547.04 Q1241.4 1542.23 1238.75 1539.37 Q1236.14 1536.5 1231.82 1536.5 Q1226.91 1536.5 1223.95 1539.27 Q1221.03 1542.04 1220.58 1547.07 L1241.46 1547.04 M1235.83 1515.91 L1242.16 1515.91 L1231.78 1527.88 L1226.91 1527.88 L1235.83 1515.91 Z\" fill=\"#000000\" fill-rule=\"nonzero\" fill-opacity=\"1\" /><path clip-path=\"url(#clip940)\" d=\"M1277.59 1537.87 Q1276.6 1537.3 1275.42 1537.04 Q1274.28 1536.76 1272.88 1536.76 Q1267.91 1536.76 1265.24 1540 Q1262.59 1543.22 1262.59 1549.27 L1262.59 1568.04 L1256.71 1568.04 L1256.71 1532.4 L1262.59 1532.4 L1262.59 1537.93 Q1264.44 1534.69 1267.4 1533.13 Q1270.36 1531.54 1274.59 1531.54 Q1275.2 1531.54 1275.93 1531.63 Q1276.66 1531.7 1277.55 1531.85 L1277.59 1537.87 Z\" fill=\"#000000\" fill-rule=\"nonzero\" fill-opacity=\"1\" /><path clip-path=\"url(#clip940)\" d=\"M1299.93 1550.12 Q1292.83 1550.12 1290.09 1551.75 Q1287.36 1553.37 1287.36 1557.29 Q1287.36 1560.4 1289.39 1562.25 Q1291.46 1564.07 1295 1564.07 Q1299.87 1564.07 1302.79 1560.63 Q1305.75 1557.16 1305.75 1551.43 L1305.75 1550.12 L1299.93 1550.12 M1311.61 1547.71 L1311.61 1568.04 L1305.75 1568.04 L1305.75 1562.63 Q1303.75 1565.88 1300.76 1567.44 Q1297.77 1568.97 1293.44 1568.97 Q1287.96 1568.97 1284.72 1565.91 Q1281.5 1562.82 1281.5 1557.67 Q1281.5 1551.65 1285.51 1548.6 Q1289.55 1545.54 1297.54 1545.54 L1305.75 1545.54 L1305.75 1544.97 Q1305.75 1540.93 1303.08 1538.73 Q1300.44 1536.5 1295.63 1536.5 Q1292.58 1536.5 1289.68 1537.23 Q1286.78 1537.97 1284.11 1539.43 L1284.11 1534.02 Q1287.33 1532.78 1290.35 1532.17 Q1293.37 1531.54 1296.24 1531.54 Q1303.97 1531.54 1307.79 1535.55 Q1311.61 1539.56 1311.61 1547.71 Z\" fill=\"#000000\" fill-rule=\"nonzero\" fill-opacity=\"1\" /><path clip-path=\"url(#clip940)\" d=\"M1329.47 1522.27 L1329.47 1532.4 L1341.53 1532.4 L1341.53 1536.95 L1329.47 1536.95 L1329.47 1556.3 Q1329.47 1560.66 1330.64 1561.9 Q1331.85 1563.14 1335.51 1563.14 L1341.53 1563.14 L1341.53 1568.04 L1335.51 1568.04 Q1328.73 1568.04 1326.16 1565.53 Q1323.58 1562.98 1323.58 1556.3 L1323.58 1536.95 L1319.28 1536.95 L1319.28 1532.4 L1323.58 1532.4 L1323.58 1522.27 L1329.47 1522.27 Z\" fill=\"#000000\" fill-rule=\"nonzero\" fill-opacity=\"1\" /><path clip-path=\"url(#clip940)\" d=\"M1349.23 1532.4 L1355.09 1532.4 L1355.09 1568.04 L1349.23 1568.04 L1349.23 1532.4 M1349.23 1518.52 L1355.09 1518.52 L1355.09 1525.93 L1349.23 1525.93 L1349.23 1518.52 Z\" fill=\"#000000\" fill-rule=\"nonzero\" fill-opacity=\"1\" /><path clip-path=\"url(#clip940)\" d=\"M1381.16 1536.5 Q1376.45 1536.5 1373.71 1540.19 Q1370.97 1543.85 1370.97 1550.25 Q1370.97 1556.65 1373.68 1560.34 Q1376.41 1564 1381.16 1564 Q1385.83 1564 1388.57 1560.31 Q1391.31 1556.62 1391.31 1550.25 Q1391.31 1543.92 1388.57 1540.23 Q1385.83 1536.5 1381.16 1536.5 M1381.16 1531.54 Q1388.79 1531.54 1393.16 1536.5 Q1397.52 1541.47 1397.52 1550.25 Q1397.52 1559 1393.16 1564 Q1388.79 1568.97 1381.16 1568.97 Q1373.49 1568.97 1369.12 1564 Q1364.8 1559 1364.8 1550.25 Q1364.8 1541.47 1369.12 1536.5 Q1373.49 1531.54 1381.16 1531.54 Z\" fill=\"#000000\" fill-rule=\"nonzero\" fill-opacity=\"1\" /><path clip-path=\"url(#clip940)\" d=\"M1436.86 1546.53 L1436.86 1568.04 L1431 1568.04 L1431 1546.72 Q1431 1541.66 1429.03 1539.14 Q1427.05 1536.63 1423.11 1536.63 Q1418.36 1536.63 1415.63 1539.65 Q1412.89 1542.68 1412.89 1547.9 L1412.89 1568.04 L1407 1568.04 L1407 1532.4 L1412.89 1532.4 L1412.89 1537.93 Q1414.99 1534.72 1417.82 1533.13 Q1420.69 1531.54 1424.41 1531.54 Q1430.55 1531.54 1433.7 1535.36 Q1436.86 1539.14 1436.86 1546.53 Z\" fill=\"#000000\" fill-rule=\"nonzero\" fill-opacity=\"1\" /><path clip-path=\"url(#clip940)\" d=\"M1471.26 1533.45 L1471.26 1538.98 Q1468.78 1537.71 1466.11 1537.07 Q1463.43 1536.44 1460.57 1536.44 Q1456.21 1536.44 1454.01 1537.77 Q1451.85 1539.11 1451.85 1541.79 Q1451.85 1543.82 1453.41 1545 Q1454.97 1546.15 1459.68 1547.2 L1461.68 1547.64 Q1467.92 1548.98 1470.53 1551.43 Q1473.17 1553.85 1473.17 1558.21 Q1473.17 1563.17 1469.23 1566.07 Q1465.31 1568.97 1458.44 1568.97 Q1455.57 1568.97 1452.45 1568.39 Q1449.36 1567.85 1445.93 1566.74 L1445.93 1560.69 Q1449.17 1562.38 1452.32 1563.24 Q1455.48 1564.07 1458.56 1564.07 Q1462.7 1564.07 1464.93 1562.66 Q1467.16 1561.23 1467.16 1558.65 Q1467.16 1556.27 1465.53 1554.99 Q1463.94 1553.72 1458.5 1552.54 L1456.46 1552.07 Q1451.02 1550.92 1448.6 1548.56 Q1446.18 1546.18 1446.18 1542.04 Q1446.18 1537.01 1449.75 1534.27 Q1453.31 1531.54 1459.87 1531.54 Q1463.11 1531.54 1465.98 1532.01 Q1468.84 1532.49 1471.26 1533.45 Z\" fill=\"#000000\" fill-rule=\"nonzero\" fill-opacity=\"1\" /><polyline clip-path=\"url(#clip942)\" style=\"stroke:#000000; stroke-linecap:round; stroke-linejoin:round; stroke-width:2; stroke-opacity:0.1; fill:none\" points=\"292.713,1402.52 2352.76,1402.52 \"/>\n",
       "<polyline clip-path=\"url(#clip942)\" style=\"stroke:#000000; stroke-linecap:round; stroke-linejoin:round; stroke-width:2; stroke-opacity:0.1; fill:none\" points=\"292.713,1038.07 2352.76,1038.07 \"/>\n",
       "<polyline clip-path=\"url(#clip942)\" style=\"stroke:#000000; stroke-linecap:round; stroke-linejoin:round; stroke-width:2; stroke-opacity:0.1; fill:none\" points=\"292.713,673.609 2352.76,673.609 \"/>\n",
       "<polyline clip-path=\"url(#clip942)\" style=\"stroke:#000000; stroke-linecap:round; stroke-linejoin:round; stroke-width:2; stroke-opacity:0.1; fill:none\" points=\"292.713,309.153 2352.76,309.153 \"/>\n",
       "<polyline clip-path=\"url(#clip940)\" style=\"stroke:#000000; stroke-linecap:round; stroke-linejoin:round; stroke-width:4; stroke-opacity:1; fill:none\" points=\"292.713,1423.18 292.713,123.472 \"/>\n",
       "<polyline clip-path=\"url(#clip940)\" style=\"stroke:#000000; stroke-linecap:round; stroke-linejoin:round; stroke-width:4; stroke-opacity:1; fill:none\" points=\"292.713,1402.52 311.611,1402.52 \"/>\n",
       "<polyline clip-path=\"url(#clip940)\" style=\"stroke:#000000; stroke-linecap:round; stroke-linejoin:round; stroke-width:4; stroke-opacity:1; fill:none\" points=\"292.713,1038.07 311.611,1038.07 \"/>\n",
       "<polyline clip-path=\"url(#clip940)\" style=\"stroke:#000000; stroke-linecap:round; stroke-linejoin:round; stroke-width:4; stroke-opacity:1; fill:none\" points=\"292.713,673.609 311.611,673.609 \"/>\n",
       "<polyline clip-path=\"url(#clip940)\" style=\"stroke:#000000; stroke-linecap:round; stroke-linejoin:round; stroke-width:4; stroke-opacity:1; fill:none\" points=\"292.713,309.153 311.611,309.153 \"/>\n",
       "<path clip-path=\"url(#clip940)\" d=\"M143.103 1385.24 L165.325 1385.24 L165.325 1387.23 L152.778 1419.8 L147.894 1419.8 L159.7 1389.18 L143.103 1389.18 L143.103 1385.24 Z\" fill=\"#000000\" fill-rule=\"nonzero\" fill-opacity=\"1\" /><path clip-path=\"url(#clip940)\" d=\"M174.491 1385.24 L192.848 1385.24 L192.848 1389.18 L178.774 1389.18 L178.774 1397.65 Q179.792 1397.3 180.811 1397.14 Q181.829 1396.95 182.848 1396.95 Q188.635 1396.95 192.014 1400.13 Q195.394 1403.3 195.394 1408.71 Q195.394 1414.29 191.922 1417.39 Q188.45 1420.47 182.13 1420.47 Q179.954 1420.47 177.686 1420.1 Q175.44 1419.73 173.033 1418.99 L173.033 1414.29 Q175.116 1415.43 177.339 1415.98 Q179.561 1416.54 182.038 1416.54 Q186.042 1416.54 188.38 1414.43 Q190.718 1412.32 190.718 1408.71 Q190.718 1405.1 188.38 1403 Q186.042 1400.89 182.038 1400.89 Q180.163 1400.89 178.288 1401.31 Q176.436 1401.72 174.491 1402.6 L174.491 1385.24 Z\" fill=\"#000000\" fill-rule=\"nonzero\" fill-opacity=\"1\" /><path clip-path=\"url(#clip940)\" d=\"M214.607 1388.32 Q210.996 1388.32 209.167 1391.89 Q207.362 1395.43 207.362 1402.56 Q207.362 1409.66 209.167 1413.23 Q210.996 1416.77 214.607 1416.77 Q218.241 1416.77 220.047 1413.23 Q221.875 1409.66 221.875 1402.56 Q221.875 1395.43 220.047 1391.89 Q218.241 1388.32 214.607 1388.32 M214.607 1384.62 Q220.417 1384.62 223.473 1389.22 Q226.551 1393.81 226.551 1402.56 Q226.551 1411.28 223.473 1415.89 Q220.417 1420.47 214.607 1420.47 Q208.797 1420.47 205.718 1415.89 Q202.662 1411.28 202.662 1402.56 Q202.662 1393.81 205.718 1389.22 Q208.797 1384.62 214.607 1384.62 Z\" fill=\"#000000\" fill-rule=\"nonzero\" fill-opacity=\"1\" /><path clip-path=\"url(#clip940)\" d=\"M244.769 1388.32 Q241.158 1388.32 239.329 1391.89 Q237.523 1395.43 237.523 1402.56 Q237.523 1409.66 239.329 1413.23 Q241.158 1416.77 244.769 1416.77 Q248.403 1416.77 250.209 1413.23 Q252.037 1409.66 252.037 1402.56 Q252.037 1395.43 250.209 1391.89 Q248.403 1388.32 244.769 1388.32 M244.769 1384.62 Q250.579 1384.62 253.634 1389.22 Q256.713 1393.81 256.713 1402.56 Q256.713 1411.28 253.634 1415.89 Q250.579 1420.47 244.769 1420.47 Q238.959 1420.47 235.88 1415.89 Q232.824 1411.28 232.824 1402.56 Q232.824 1393.81 235.88 1389.22 Q238.959 1384.62 244.769 1384.62 Z\" fill=\"#000000\" fill-rule=\"nonzero\" fill-opacity=\"1\" /><path clip-path=\"url(#clip940)\" d=\"M114.931 1051.41 L122.57 1051.41 L122.57 1025.04 L114.26 1026.71 L114.26 1022.45 L122.524 1020.79 L127.2 1020.79 L127.2 1051.41 L134.839 1051.41 L134.839 1055.35 L114.931 1055.35 L114.931 1051.41 Z\" fill=\"#000000\" fill-rule=\"nonzero\" fill-opacity=\"1\" /><path clip-path=\"url(#clip940)\" d=\"M154.283 1023.86 Q150.672 1023.86 148.843 1027.43 Q147.038 1030.97 147.038 1038.1 Q147.038 1045.21 148.843 1048.77 Q150.672 1052.31 154.283 1052.31 Q157.917 1052.31 159.723 1048.77 Q161.552 1045.21 161.552 1038.1 Q161.552 1030.97 159.723 1027.43 Q157.917 1023.86 154.283 1023.86 M154.283 1020.16 Q160.093 1020.16 163.149 1024.77 Q166.227 1029.35 166.227 1038.1 Q166.227 1046.83 163.149 1051.43 Q160.093 1056.02 154.283 1056.02 Q148.473 1056.02 145.394 1051.43 Q142.339 1046.83 142.339 1038.1 Q142.339 1029.35 145.394 1024.77 Q148.473 1020.16 154.283 1020.16 Z\" fill=\"#000000\" fill-rule=\"nonzero\" fill-opacity=\"1\" /><path clip-path=\"url(#clip940)\" d=\"M184.445 1023.86 Q180.834 1023.86 179.005 1027.43 Q177.2 1030.97 177.2 1038.1 Q177.2 1045.21 179.005 1048.77 Q180.834 1052.31 184.445 1052.31 Q188.079 1052.31 189.885 1048.77 Q191.713 1045.21 191.713 1038.1 Q191.713 1030.97 189.885 1027.43 Q188.079 1023.86 184.445 1023.86 M184.445 1020.16 Q190.255 1020.16 193.311 1024.77 Q196.389 1029.35 196.389 1038.1 Q196.389 1046.83 193.311 1051.43 Q190.255 1056.02 184.445 1056.02 Q178.635 1056.02 175.556 1051.43 Q172.501 1046.83 172.501 1038.1 Q172.501 1029.35 175.556 1024.77 Q178.635 1020.16 184.445 1020.16 Z\" fill=\"#000000\" fill-rule=\"nonzero\" fill-opacity=\"1\" /><path clip-path=\"url(#clip940)\" d=\"M214.607 1023.86 Q210.996 1023.86 209.167 1027.43 Q207.362 1030.97 207.362 1038.1 Q207.362 1045.21 209.167 1048.77 Q210.996 1052.31 214.607 1052.31 Q218.241 1052.31 220.047 1048.77 Q221.875 1045.21 221.875 1038.1 Q221.875 1030.97 220.047 1027.43 Q218.241 1023.86 214.607 1023.86 M214.607 1020.16 Q220.417 1020.16 223.473 1024.77 Q226.551 1029.35 226.551 1038.1 Q226.551 1046.83 223.473 1051.43 Q220.417 1056.02 214.607 1056.02 Q208.797 1056.02 205.718 1051.43 Q202.662 1046.83 202.662 1038.1 Q202.662 1029.35 205.718 1024.77 Q208.797 1020.16 214.607 1020.16 Z\" fill=\"#000000\" fill-rule=\"nonzero\" fill-opacity=\"1\" /><path clip-path=\"url(#clip940)\" d=\"M244.769 1023.86 Q241.158 1023.86 239.329 1027.43 Q237.523 1030.97 237.523 1038.1 Q237.523 1045.21 239.329 1048.77 Q241.158 1052.31 244.769 1052.31 Q248.403 1052.31 250.209 1048.77 Q252.037 1045.21 252.037 1038.1 Q252.037 1030.97 250.209 1027.43 Q248.403 1023.86 244.769 1023.86 M244.769 1020.16 Q250.579 1020.16 253.634 1024.77 Q256.713 1029.35 256.713 1038.1 Q256.713 1046.83 253.634 1051.43 Q250.579 1056.02 244.769 1056.02 Q238.959 1056.02 235.88 1051.43 Q232.824 1046.83 232.824 1038.1 Q232.824 1029.35 235.88 1024.77 Q238.959 1020.16 244.769 1020.16 Z\" fill=\"#000000\" fill-rule=\"nonzero\" fill-opacity=\"1\" /><path clip-path=\"url(#clip940)\" d=\"M114.931 686.954 L122.57 686.954 L122.57 660.588 L114.26 662.255 L114.26 657.996 L122.524 656.329 L127.2 656.329 L127.2 686.954 L134.839 686.954 L134.839 690.889 L114.931 690.889 L114.931 686.954 Z\" fill=\"#000000\" fill-rule=\"nonzero\" fill-opacity=\"1\" /><path clip-path=\"url(#clip940)\" d=\"M148.311 686.954 L164.63 686.954 L164.63 690.889 L142.686 690.889 L142.686 686.954 Q145.348 684.199 149.931 679.57 Q154.538 674.917 155.718 673.575 Q157.964 671.051 158.843 669.315 Q159.746 667.556 159.746 665.866 Q159.746 663.112 157.802 661.376 Q155.88 659.639 152.778 659.639 Q150.579 659.639 148.126 660.403 Q145.695 661.167 142.917 662.718 L142.917 657.996 Q145.741 656.862 148.195 656.283 Q150.649 655.704 152.686 655.704 Q158.056 655.704 161.251 658.389 Q164.445 661.075 164.445 665.565 Q164.445 667.695 163.635 669.616 Q162.848 671.514 160.741 674.107 Q160.163 674.778 157.061 677.996 Q153.959 681.19 148.311 686.954 Z\" fill=\"#000000\" fill-rule=\"nonzero\" fill-opacity=\"1\" /><path clip-path=\"url(#clip940)\" d=\"M174.491 656.329 L192.848 656.329 L192.848 660.264 L178.774 660.264 L178.774 668.737 Q179.792 668.389 180.811 668.227 Q181.829 668.042 182.848 668.042 Q188.635 668.042 192.014 671.213 Q195.394 674.385 195.394 679.801 Q195.394 685.38 191.922 688.482 Q188.45 691.561 182.13 691.561 Q179.954 691.561 177.686 691.19 Q175.44 690.82 173.033 690.079 L173.033 685.38 Q175.116 686.514 177.339 687.07 Q179.561 687.625 182.038 687.625 Q186.042 687.625 188.38 685.519 Q190.718 683.412 190.718 679.801 Q190.718 676.19 188.38 674.084 Q186.042 671.977 182.038 671.977 Q180.163 671.977 178.288 672.394 Q176.436 672.811 174.491 673.69 L174.491 656.329 Z\" fill=\"#000000\" fill-rule=\"nonzero\" fill-opacity=\"1\" /><path clip-path=\"url(#clip940)\" d=\"M214.607 659.408 Q210.996 659.408 209.167 662.973 Q207.362 666.514 207.362 673.644 Q207.362 680.75 209.167 684.315 Q210.996 687.857 214.607 687.857 Q218.241 687.857 220.047 684.315 Q221.875 680.75 221.875 673.644 Q221.875 666.514 220.047 662.973 Q218.241 659.408 214.607 659.408 M214.607 655.704 Q220.417 655.704 223.473 660.311 Q226.551 664.894 226.551 673.644 Q226.551 682.371 223.473 686.977 Q220.417 691.561 214.607 691.561 Q208.797 691.561 205.718 686.977 Q202.662 682.371 202.662 673.644 Q202.662 664.894 205.718 660.311 Q208.797 655.704 214.607 655.704 Z\" fill=\"#000000\" fill-rule=\"nonzero\" fill-opacity=\"1\" /><path clip-path=\"url(#clip940)\" d=\"M244.769 659.408 Q241.158 659.408 239.329 662.973 Q237.523 666.514 237.523 673.644 Q237.523 680.75 239.329 684.315 Q241.158 687.857 244.769 687.857 Q248.403 687.857 250.209 684.315 Q252.037 680.75 252.037 673.644 Q252.037 666.514 250.209 662.973 Q248.403 659.408 244.769 659.408 M244.769 655.704 Q250.579 655.704 253.634 660.311 Q256.713 664.894 256.713 673.644 Q256.713 682.371 253.634 686.977 Q250.579 691.561 244.769 691.561 Q238.959 691.561 235.88 686.977 Q232.824 682.371 232.824 673.644 Q232.824 664.894 235.88 660.311 Q238.959 655.704 244.769 655.704 Z\" fill=\"#000000\" fill-rule=\"nonzero\" fill-opacity=\"1\" /><path clip-path=\"url(#clip940)\" d=\"M114.931 322.498 L122.57 322.498 L122.57 296.132 L114.26 297.799 L114.26 293.54 L122.524 291.873 L127.2 291.873 L127.2 322.498 L134.839 322.498 L134.839 326.433 L114.931 326.433 L114.931 322.498 Z\" fill=\"#000000\" fill-rule=\"nonzero\" fill-opacity=\"1\" /><path clip-path=\"url(#clip940)\" d=\"M144.329 291.873 L162.686 291.873 L162.686 295.808 L148.612 295.808 L148.612 304.28 Q149.63 303.933 150.649 303.771 Q151.667 303.586 152.686 303.586 Q158.473 303.586 161.852 306.757 Q165.232 309.929 165.232 315.345 Q165.232 320.924 161.76 324.026 Q158.288 327.104 151.968 327.104 Q149.792 327.104 147.524 326.734 Q145.279 326.364 142.871 325.623 L142.871 320.924 Q144.954 322.058 147.177 322.614 Q149.399 323.169 151.876 323.169 Q155.88 323.169 158.218 321.063 Q160.556 318.956 160.556 315.345 Q160.556 311.734 158.218 309.628 Q155.88 307.521 151.876 307.521 Q150.001 307.521 148.126 307.938 Q146.274 308.354 144.329 309.234 L144.329 291.873 Z\" fill=\"#000000\" fill-rule=\"nonzero\" fill-opacity=\"1\" /><path clip-path=\"url(#clip940)\" d=\"M184.445 294.952 Q180.834 294.952 179.005 298.517 Q177.2 302.058 177.2 309.188 Q177.2 316.294 179.005 319.859 Q180.834 323.401 184.445 323.401 Q188.079 323.401 189.885 319.859 Q191.713 316.294 191.713 309.188 Q191.713 302.058 189.885 298.517 Q188.079 294.952 184.445 294.952 M184.445 291.248 Q190.255 291.248 193.311 295.855 Q196.389 300.438 196.389 309.188 Q196.389 317.915 193.311 322.521 Q190.255 327.104 184.445 327.104 Q178.635 327.104 175.556 322.521 Q172.501 317.915 172.501 309.188 Q172.501 300.438 175.556 295.855 Q178.635 291.248 184.445 291.248 Z\" fill=\"#000000\" fill-rule=\"nonzero\" fill-opacity=\"1\" /><path clip-path=\"url(#clip940)\" d=\"M214.607 294.952 Q210.996 294.952 209.167 298.517 Q207.362 302.058 207.362 309.188 Q207.362 316.294 209.167 319.859 Q210.996 323.401 214.607 323.401 Q218.241 323.401 220.047 319.859 Q221.875 316.294 221.875 309.188 Q221.875 302.058 220.047 298.517 Q218.241 294.952 214.607 294.952 M214.607 291.248 Q220.417 291.248 223.473 295.855 Q226.551 300.438 226.551 309.188 Q226.551 317.915 223.473 322.521 Q220.417 327.104 214.607 327.104 Q208.797 327.104 205.718 322.521 Q202.662 317.915 202.662 309.188 Q202.662 300.438 205.718 295.855 Q208.797 291.248 214.607 291.248 Z\" fill=\"#000000\" fill-rule=\"nonzero\" fill-opacity=\"1\" /><path clip-path=\"url(#clip940)\" d=\"M244.769 294.952 Q241.158 294.952 239.329 298.517 Q237.523 302.058 237.523 309.188 Q237.523 316.294 239.329 319.859 Q241.158 323.401 244.769 323.401 Q248.403 323.401 250.209 319.859 Q252.037 316.294 252.037 309.188 Q252.037 302.058 250.209 298.517 Q248.403 294.952 244.769 294.952 M244.769 291.248 Q250.579 291.248 253.634 295.855 Q256.713 300.438 256.713 309.188 Q256.713 317.915 253.634 322.521 Q250.579 327.104 244.769 327.104 Q238.959 327.104 235.88 322.521 Q232.824 317.915 232.824 309.188 Q232.824 300.438 235.88 295.855 Q238.959 291.248 244.769 291.248 Z\" fill=\"#000000\" fill-rule=\"nonzero\" fill-opacity=\"1\" /><path clip-path=\"url(#clip940)\" d=\"M20.1444 808.528 L26.9239 808.528 Q23.9002 811.775 22.4043 815.467 Q20.9083 819.127 20.9083 823.265 Q20.9083 831.413 25.9054 835.742 Q30.8707 840.07 40.2919 840.07 Q49.6813 840.07 54.6784 835.742 Q59.6436 831.413 59.6436 823.265 Q59.6436 819.127 58.1477 815.467 Q56.6518 811.775 53.6281 808.528 L60.3439 808.528 Q62.6355 811.902 63.7814 815.69 Q64.9272 819.446 64.9272 823.647 Q64.9272 834.437 58.3387 840.643 Q51.7183 846.85 40.2919 846.85 Q28.8336 846.85 22.2451 840.643 Q15.6248 834.437 15.6248 823.647 Q15.6248 819.382 16.7706 815.626 Q17.8846 811.839 20.1444 808.528 Z\" fill=\"#000000\" fill-rule=\"nonzero\" fill-opacity=\"1\" /><path clip-path=\"url(#clip940)\" d=\"M32.4621 785.039 Q32.4621 789.75 36.1542 792.487 Q39.8145 795.224 46.212 795.224 Q52.6095 795.224 56.3017 792.519 Q59.9619 789.781 59.9619 785.039 Q59.9619 780.36 56.2698 777.623 Q52.5777 774.886 46.212 774.886 Q39.8781 774.886 36.186 777.623 Q32.4621 780.36 32.4621 785.039 M27.4968 785.039 Q27.4968 777.4 32.4621 773.04 Q37.4273 768.679 46.212 768.679 Q54.9649 768.679 59.9619 773.04 Q64.9272 777.4 64.9272 785.039 Q64.9272 792.71 59.9619 797.07 Q54.9649 801.399 46.212 801.399 Q37.4273 801.399 32.4621 797.07 Q27.4968 792.71 27.4968 785.039 Z\" fill=\"#000000\" fill-rule=\"nonzero\" fill-opacity=\"1\" /><path clip-path=\"url(#clip940)\" d=\"M49.9359 759.576 L28.3562 759.576 L28.3562 753.72 L49.7131 753.72 Q54.7739 753.72 57.3202 751.746 Q59.8346 749.773 59.8346 745.826 Q59.8346 741.084 56.8109 738.346 Q53.7872 735.577 48.5673 735.577 L28.3562 735.577 L28.3562 729.721 L64.0042 729.721 L64.0042 735.577 L58.5296 735.577 Q61.7762 737.71 63.3676 740.543 Q64.9272 743.344 64.9272 747.067 Q64.9272 753.21 61.1078 756.393 Q57.2883 759.576 49.9359 759.576 M27.4968 744.839 L27.4968 744.839 M11.869 747.258 L11.869 742.548 L23.8365 734.75 L23.8365 739.174 L16.0386 744.903 L23.8365 750.632 L23.8365 755.056 L11.869 747.258 Z\" fill=\"#000000\" fill-rule=\"nonzero\" fill-opacity=\"1\" /><path clip-path=\"url(#clip940)\" d=\"M18.2347 711.865 L28.3562 711.865 L28.3562 699.802 L32.9077 699.802 L32.9077 711.865 L52.2594 711.865 Q56.6199 711.865 57.8613 710.687 Q59.1026 709.478 59.1026 705.818 L59.1026 699.802 L64.0042 699.802 L64.0042 705.818 Q64.0042 712.597 61.4897 715.175 Q58.9434 717.753 52.2594 717.753 L32.9077 717.753 L32.9077 722.05 L28.3562 722.05 L28.3562 717.753 L18.2347 717.753 L18.2347 711.865 Z\" fill=\"#000000\" fill-rule=\"nonzero\" fill-opacity=\"1\" /><path clip-path=\"url(#clip940)\" d=\"M964.655 12.096 L1002.9 12.096 L1002.9 18.9825 L972.838 18.9825 L972.838 36.8875 L1001.64 36.8875 L1001.64 43.7741 L972.838 43.7741 L972.838 65.6895 L1003.62 65.6895 L1003.62 72.576 L964.655 72.576 L964.655 12.096 M985.882 -4.35067 L993.376 -4.35067 L984.14 6.34372 L977.942 6.34372 L985.882 -4.35067 Z\" fill=\"#000000\" fill-rule=\"nonzero\" fill-opacity=\"1\" /><path clip-path=\"url(#clip940)\" d=\"M1011.4 27.2059 L1019.3 27.2059 L1033.48 65.2844 L1047.66 27.2059 L1055.56 27.2059 L1038.54 72.576 L1028.42 72.576 L1011.4 27.2059 Z\" fill=\"#000000\" fill-rule=\"nonzero\" fill-opacity=\"1\" /><path clip-path=\"url(#clip940)\" d=\"M1083.43 32.4315 Q1077.43 32.4315 1073.95 37.1306 Q1070.46 41.7891 1070.46 49.9314 Q1070.46 58.0738 1073.91 62.7728 Q1077.39 67.4314 1083.43 67.4314 Q1089.38 67.4314 1092.87 62.7323 Q1096.35 58.0333 1096.35 49.9314 Q1096.35 41.8701 1092.87 37.1711 Q1089.38 32.4315 1083.43 32.4315 M1083.43 26.1121 Q1093.15 26.1121 1098.7 32.4315 Q1104.25 38.7509 1104.25 49.9314 Q1104.25 61.0714 1098.7 67.4314 Q1093.15 73.7508 1083.43 73.7508 Q1073.66 73.7508 1068.11 67.4314 Q1062.61 61.0714 1062.61 49.9314 Q1062.61 38.7509 1068.11 32.4315 Q1073.66 26.1121 1083.43 26.1121 Z\" fill=\"#000000\" fill-rule=\"nonzero\" fill-opacity=\"1\" /><path clip-path=\"url(#clip940)\" d=\"M1116.6 9.54393 L1124.06 9.54393 L1124.06 72.576 L1116.6 72.576 L1116.6 9.54393 Z\" fill=\"#000000\" fill-rule=\"nonzero\" fill-opacity=\"1\" /><path clip-path=\"url(#clip940)\" d=\"M1138.88 54.671 L1138.88 27.2059 L1146.34 27.2059 L1146.34 54.3874 Q1146.34 60.8284 1148.85 64.0691 Q1151.36 67.2693 1156.38 67.2693 Q1162.42 67.2693 1165.9 63.421 Q1169.43 59.5726 1169.43 52.9291 L1169.43 27.2059 L1176.88 27.2059 L1176.88 72.576 L1169.43 72.576 L1169.43 65.6084 Q1166.71 69.7404 1163.11 71.7658 Q1159.54 73.7508 1154.8 73.7508 Q1146.99 73.7508 1142.94 68.8897 Q1138.88 64.0286 1138.88 54.671 M1157.64 26.1121 L1157.64 26.1121 Z\" fill=\"#000000\" fill-rule=\"nonzero\" fill-opacity=\"1\" /><path clip-path=\"url(#clip940)\" d=\"M1199.61 14.324 L1199.61 27.2059 L1214.96 27.2059 L1214.96 32.9987 L1199.61 32.9987 L1199.61 57.6282 Q1199.61 63.1779 1201.11 64.7578 Q1202.65 66.3376 1207.3 66.3376 L1214.96 66.3376 L1214.96 72.576 L1207.3 72.576 Q1198.68 72.576 1195.39 69.3758 Q1192.11 66.1351 1192.11 57.6282 L1192.11 32.9987 L1186.64 32.9987 L1186.64 27.2059 L1192.11 27.2059 L1192.11 14.324 L1199.61 14.324 Z\" fill=\"#000000\" fill-rule=\"nonzero\" fill-opacity=\"1\" /><path clip-path=\"url(#clip940)\" d=\"M1224.76 27.2059 L1232.22 27.2059 L1232.22 72.576 L1224.76 72.576 L1224.76 27.2059 M1224.76 9.54393 L1232.22 9.54393 L1232.22 18.9825 L1224.76 18.9825 L1224.76 9.54393 Z\" fill=\"#000000\" fill-rule=\"nonzero\" fill-opacity=\"1\" /><path clip-path=\"url(#clip940)\" d=\"M1265.39 32.4315 Q1259.4 32.4315 1255.91 37.1306 Q1252.43 41.7891 1252.43 49.9314 Q1252.43 58.0738 1255.87 62.7728 Q1259.36 67.4314 1265.39 67.4314 Q1271.35 67.4314 1274.83 62.7323 Q1278.32 58.0333 1278.32 49.9314 Q1278.32 41.8701 1274.83 37.1711 Q1271.35 32.4315 1265.39 32.4315 M1265.39 26.1121 Q1275.12 26.1121 1280.67 32.4315 Q1286.22 38.7509 1286.22 49.9314 Q1286.22 61.0714 1280.67 67.4314 Q1275.12 73.7508 1265.39 73.7508 Q1255.63 73.7508 1250.08 67.4314 Q1244.57 61.0714 1244.57 49.9314 Q1244.57 38.7509 1250.08 32.4315 Q1255.63 26.1121 1265.39 26.1121 Z\" fill=\"#000000\" fill-rule=\"nonzero\" fill-opacity=\"1\" /><path clip-path=\"url(#clip940)\" d=\"M1336.28 45.1919 L1336.28 72.576 L1328.83 72.576 L1328.83 45.4349 Q1328.83 38.994 1326.32 35.7938 Q1323.81 32.5936 1318.78 32.5936 Q1312.75 32.5936 1309.27 36.4419 Q1305.78 40.2903 1305.78 46.9338 L1305.78 72.576 L1298.29 72.576 L1298.29 27.2059 L1305.78 27.2059 L1305.78 34.2544 Q1308.46 30.163 1312.06 28.1376 Q1315.71 26.1121 1320.45 26.1121 Q1328.26 26.1121 1332.27 30.9732 Q1336.28 35.7938 1336.28 45.1919 Z\" fill=\"#000000\" fill-rule=\"nonzero\" fill-opacity=\"1\" /><path clip-path=\"url(#clip940)\" d=\"M1407.38 34.0924 L1407.38 9.54393 L1414.83 9.54393 L1414.83 72.576 L1407.38 72.576 L1407.38 65.7705 Q1405.03 69.8214 1401.42 71.8063 Q1397.86 73.7508 1392.84 73.7508 Q1384.61 73.7508 1379.43 67.1883 Q1374.28 60.6258 1374.28 49.9314 Q1374.28 39.2371 1379.43 32.6746 Q1384.61 26.1121 1392.84 26.1121 Q1397.86 26.1121 1401.42 28.0971 Q1405.03 30.0415 1407.38 34.0924 M1381.98 49.9314 Q1381.98 58.1548 1385.34 62.8538 Q1388.74 67.5124 1394.66 67.5124 Q1400.57 67.5124 1403.98 62.8538 Q1407.38 58.1548 1407.38 49.9314 Q1407.38 41.7081 1403.98 37.0496 Q1400.57 32.3505 1394.66 32.3505 Q1388.74 32.3505 1385.34 37.0496 Q1381.98 41.7081 1381.98 49.9314 Z\" fill=\"#000000\" fill-rule=\"nonzero\" fill-opacity=\"1\" /><path clip-path=\"url(#clip940)\" d=\"M1429.42 54.671 L1429.42 27.2059 L1436.87 27.2059 L1436.87 54.3874 Q1436.87 60.8284 1439.38 64.0691 Q1441.89 67.2693 1446.91 67.2693 Q1452.95 67.2693 1456.43 63.421 Q1459.96 59.5726 1459.96 52.9291 L1459.96 27.2059 L1467.41 27.2059 L1467.41 72.576 L1459.96 72.576 L1459.96 65.6084 Q1457.24 69.7404 1453.64 71.7658 Q1450.07 73.7508 1445.34 73.7508 Q1437.52 73.7508 1433.47 68.8897 Q1429.42 64.0286 1429.42 54.671 M1448.17 26.1121 L1448.17 26.1121 Z\" fill=\"#000000\" fill-rule=\"nonzero\" fill-opacity=\"1\" /><path clip-path=\"url(#clip940)\" d=\"M1541.79 28.9478 L1541.79 35.9153 Q1538.63 34.1734 1535.43 33.3227 Q1532.27 32.4315 1529.03 32.4315 Q1521.78 32.4315 1517.77 37.0496 Q1513.75 41.6271 1513.75 49.9314 Q1513.75 58.2358 1517.77 62.8538 Q1521.78 67.4314 1529.03 67.4314 Q1532.27 67.4314 1535.43 66.5807 Q1538.63 65.6895 1541.79 63.9476 L1541.79 70.8341 Q1538.67 72.2924 1535.31 73.0216 Q1531.98 73.7508 1528.22 73.7508 Q1517.97 73.7508 1511.93 67.3098 Q1505.9 60.8689 1505.9 49.9314 Q1505.9 38.832 1511.97 32.472 Q1518.09 26.1121 1528.7 26.1121 Q1532.15 26.1121 1535.43 26.8413 Q1538.71 27.5299 1541.79 28.9478 Z\" fill=\"#000000\" fill-rule=\"nonzero\" fill-opacity=\"1\" /><path clip-path=\"url(#clip940)\" d=\"M1572.33 32.4315 Q1566.34 32.4315 1562.85 37.1306 Q1559.37 41.7891 1559.37 49.9314 Q1559.37 58.0738 1562.81 62.7728 Q1566.3 67.4314 1572.33 67.4314 Q1578.29 67.4314 1581.77 62.7323 Q1585.25 58.0333 1585.25 49.9314 Q1585.25 41.8701 1581.77 37.1711 Q1578.29 32.4315 1572.33 32.4315 M1572.33 26.1121 Q1582.05 26.1121 1587.6 32.4315 Q1593.15 38.7509 1593.15 49.9314 Q1593.15 61.0714 1587.6 67.4314 Q1582.05 73.7508 1572.33 73.7508 Q1562.57 73.7508 1557.02 67.4314 Q1551.51 61.0714 1551.51 49.9314 Q1551.51 38.7509 1557.02 32.4315 Q1562.57 26.1121 1572.33 26.1121 Z\" fill=\"#000000\" fill-rule=\"nonzero\" fill-opacity=\"1\" /><path clip-path=\"url(#clip940)\" d=\"M1604.74 54.671 L1604.74 27.2059 L1612.19 27.2059 L1612.19 54.3874 Q1612.19 60.8284 1614.7 64.0691 Q1617.21 67.2693 1622.24 67.2693 Q1628.27 67.2693 1631.76 63.421 Q1635.28 59.5726 1635.28 52.9291 L1635.28 27.2059 L1642.74 27.2059 L1642.74 72.576 L1635.28 72.576 L1635.28 65.6084 Q1632.57 69.7404 1628.96 71.7658 Q1625.4 73.7508 1620.66 73.7508 Q1612.84 73.7508 1608.79 68.8897 Q1604.74 64.0286 1604.74 54.671 M1623.49 26.1121 L1623.49 26.1121 M1620.42 6.22219 L1626.41 6.22219 L1636.34 21.4536 L1630.7 21.4536 L1623.41 11.5289 L1616.12 21.4536 L1610.49 21.4536 L1620.42 6.22219 Z\" fill=\"#000000\" fill-rule=\"nonzero\" fill-opacity=\"1\" /><path clip-path=\"url(#clip940)\" d=\"M1665.46 14.324 L1665.46 27.2059 L1680.81 27.2059 L1680.81 32.9987 L1665.46 32.9987 L1665.46 57.6282 Q1665.46 63.1779 1666.96 64.7578 Q1668.5 66.3376 1673.16 66.3376 L1680.81 66.3376 L1680.81 72.576 L1673.16 72.576 Q1664.53 72.576 1661.25 69.3758 Q1657.97 66.1351 1657.97 57.6282 L1657.97 32.9987 L1652.5 32.9987 L1652.5 27.2059 L1657.97 27.2059 L1657.97 14.324 L1665.46 14.324 Z\" fill=\"#000000\" fill-rule=\"nonzero\" fill-opacity=\"1\" /><polyline clip-path=\"url(#clip942)\" style=\"stroke:#009af9; stroke-linecap:round; stroke-linejoin:round; stroke-width:4; stroke-opacity:1; fill:none\" points=\"351.016,160.256 351.794,160.256 352.572,171.788 353.349,171.788 354.127,172.314 354.905,172.314 355.682,172.314 356.46,172.314 357.238,172.314 358.015,172.314 358.793,172.314 359.571,172.314 360.348,172.314 361.126,172.314 361.904,172.314 362.681,172.314 363.459,172.314 364.237,172.314 365.015,172.314 365.792,172.314 366.57,172.314 367.348,172.314 368.125,172.314 368.903,200.927 369.681,200.927 370.458,200.927 371.236,201.955 372.014,223.616 372.791,223.616 373.569,223.616 374.347,223.616 375.124,223.616 375.902,223.616 376.68,223.616 377.458,223.616 378.235,223.616 379.013,223.616 379.791,223.616 380.568,246.512 381.346,246.512 382.124,246.512 382.901,246.512 383.679,246.512 384.457,246.512 385.234,246.512 386.012,246.512 386.79,246.512 387.567,246.512 388.345,252.021 389.123,252.021 389.9,252.021 390.678,252.021 391.456,252.021 392.234,252.021 393.011,252.021 393.789,252.021 394.567,252.021 395.344,252.021 396.122,252.021 396.9,252.021 397.677,252.021 398.455,252.021 399.233,252.021 400.01,252.021 400.788,258.207 401.566,258.207 402.343,258.207 403.121,258.207 403.899,258.207 404.677,258.207 405.454,258.207 406.232,258.207 407.01,258.207 407.787,258.207 408.565,258.207 409.343,258.207 410.12,258.207 410.898,263.786 411.676,263.786 412.453,263.786 413.231,263.786 414.009,263.786 414.786,263.786 415.564,263.786 416.342,276.265 417.119,276.265 417.897,276.265 418.675,276.265 419.453,276.265 420.23,276.265 421.008,276.265 421.786,276.265 422.563,276.265 423.341,276.265 424.119,276.265 424.896,276.265 425.674,276.265 426.452,289.227 427.229,289.227 428.007,289.227 428.785,289.227 429.562,289.227 430.34,289.227 431.118,289.227 431.896,289.227 432.673,289.227 433.451,289.227 434.229,289.227 435.006,289.227 435.784,289.227 436.562,289.227 437.339,289.227 438.117,453.248 438.895,458.504 439.672,458.504 440.45,458.504 441.228,458.504 442.005,458.504 442.783,458.504 443.561,458.504 444.338,458.504 445.116,477.841 445.894,477.841 446.672,477.841 447.449,477.841 448.227,477.841 449.005,477.841 449.782,477.841 450.56,477.841 451.338,477.841 452.115,477.841 452.893,528.797 453.671,528.797 454.448,528.797 455.226,528.797 456.004,528.797 456.781,528.797 457.559,528.797 458.337,528.797 459.115,528.797 459.892,528.797 460.67,528.797 461.448,528.797 462.225,528.797 463.003,528.797 463.781,528.797 464.558,528.797 465.336,528.797 466.114,528.797 466.891,528.797 467.669,528.797 468.447,528.797 469.224,528.797 470.002,528.797 470.78,528.797 471.557,528.797 472.335,528.797 473.113,528.797 473.891,528.797 474.668,528.797 475.446,528.797 476.224,528.797 477.001,528.797 477.779,528.797 478.557,528.797 479.334,528.797 480.112,528.797 480.89,528.797 481.667,528.797 482.445,528.797 483.223,528.797 484,528.797 484.778,528.797 485.556,528.797 486.334,528.797 487.111,528.797 487.889,528.797 488.667,528.797 489.444,528.797 490.222,528.797 491,528.797 491.777,576.455 492.555,576.455 493.333,576.455 494.11,588.666 494.888,588.666 495.666,588.666 496.443,588.666 497.221,588.666 497.999,588.666 498.776,588.666 499.554,588.666 500.332,588.666 501.11,588.666 501.887,588.666 502.665,588.666 503.443,588.666 504.22,588.666 504.998,588.666 505.776,588.666 506.553,588.666 507.331,588.666 508.109,588.666 508.886,588.666 509.664,588.666 510.442,588.666 511.219,588.666 511.997,588.666 512.775,588.666 513.553,588.666 514.33,588.666 515.108,588.666 515.886,588.666 516.663,588.666 517.441,588.666 518.219,588.666 518.996,588.666 519.774,588.666 520.552,588.666 521.329,588.666 522.107,588.666 522.885,588.666 523.662,588.666 524.44,588.666 525.218,588.666 525.995,588.666 526.773,588.666 527.551,588.666 528.329,588.666 529.106,588.666 529.884,588.666 530.662,588.666 531.439,588.666 532.217,588.666 532.995,588.666 533.772,588.666 534.55,588.666 535.328,588.666 536.105,588.666 536.883,588.666 537.661,588.666 538.438,588.666 539.216,588.666 539.994,588.666 540.772,588.666 541.549,588.666 542.327,588.666 543.105,588.666 543.882,588.666 544.66,588.666 545.438,588.666 546.215,588.666 546.993,588.666 547.771,628.292 548.548,662.916 549.326,662.916 550.104,662.916 550.881,662.916 551.659,683.151 552.437,683.151 553.214,683.151 553.992,688.838 554.77,688.838 555.548,688.838 556.325,688.838 557.103,688.838 557.881,688.838 558.658,688.838 559.436,688.838 560.214,688.838 560.991,688.838 561.769,688.838 562.547,688.838 563.324,688.838 564.102,688.838 564.88,688.838 565.657,688.838 566.435,688.838 567.213,688.838 567.991,688.838 568.768,688.838 569.546,688.838 570.324,688.838 571.101,693.743 571.879,693.743 572.657,693.743 573.434,693.743 574.212,693.743 574.99,693.743 575.767,693.743 576.545,693.743 577.323,693.743 578.1,693.743 578.878,693.743 579.656,693.743 580.433,693.743 581.211,693.743 581.989,693.743 582.767,693.743 583.544,693.743 584.322,693.743 585.1,693.743 585.877,693.743 586.655,693.743 587.433,706.097 588.21,706.097 588.988,706.097 589.766,706.097 590.543,706.097 591.321,706.097 592.099,706.097 592.876,706.097 593.654,706.097 594.432,706.097 595.21,706.097 595.987,706.097 596.765,706.097 597.543,706.097 598.32,706.097 599.098,706.097 599.876,706.097 600.653,706.097 601.431,706.097 602.209,706.097 602.986,706.097 603.764,706.097 604.542,706.097 605.319,706.097 606.097,706.097 606.875,707.071 607.652,707.071 608.43,707.071 609.208,707.071 609.986,707.071 610.763,754.418 611.541,754.418 612.319,754.418 613.096,754.418 613.874,754.418 614.652,754.418 615.429,754.418 616.207,754.418 616.985,754.418 617.762,754.418 618.54,754.418 619.318,754.814 620.095,754.814 620.873,754.814 621.651,754.814 622.429,754.814 623.206,754.814 623.984,754.814 624.762,754.814 625.539,754.814 626.317,772.446 627.095,772.446 627.872,772.446 628.65,772.446 629.428,772.446 630.205,772.446 630.983,772.446 631.761,772.446 632.538,772.446 633.316,772.446 634.094,772.446 634.871,772.446 635.649,772.446 636.427,772.446 637.205,772.446 637.982,772.446 638.76,772.446 639.538,772.446 640.315,772.446 641.093,778.554 641.871,778.554 642.648,778.554 643.426,778.554 644.204,778.554 644.981,778.554 645.759,778.554 646.537,778.554 647.314,778.554 648.092,778.554 648.87,778.554 649.648,778.554 650.425,778.554 651.203,778.554 651.981,778.554 652.758,778.554 653.536,778.554 654.314,778.554 655.091,778.554 655.869,778.554 656.647,778.554 657.424,778.554 658.202,778.554 658.98,778.554 659.757,778.554 660.535,778.554 661.313,778.554 662.09,778.554 662.868,778.554 663.646,778.554 664.424,778.554 665.201,778.554 665.979,778.554 666.757,778.554 667.534,778.554 668.312,778.554 669.09,778.554 669.867,778.554 670.645,778.554 671.423,778.554 672.2,778.554 672.978,778.554 673.756,778.554 674.533,778.554 675.311,778.554 676.089,778.554 676.867,778.554 677.644,778.554 678.422,778.554 679.2,778.554 679.977,778.554 680.755,778.554 681.533,778.554 682.31,778.554 683.088,778.554 683.866,778.554 684.643,795.773 685.421,795.773 686.199,795.773 686.976,795.773 687.754,795.773 688.532,795.773 689.309,795.773 690.087,795.773 690.865,795.773 691.643,795.773 692.42,795.773 693.198,795.773 693.976,795.773 694.753,795.773 695.531,795.773 696.309,795.773 697.086,795.773 697.864,795.773 698.642,795.773 699.419,795.773 700.197,795.773 700.975,795.773 701.752,801.717 702.53,801.717 703.308,801.717 704.086,801.717 704.863,801.717 705.641,801.857 706.419,801.857 707.196,801.857 707.974,801.857 708.752,801.857 709.529,801.857 710.307,801.857 711.085,801.857 711.862,862.151 712.64,862.151 713.418,862.151 714.195,862.151 714.973,862.151 715.751,862.151 716.528,862.151 717.306,862.151 718.084,862.151 718.862,862.151 719.639,882.444 720.417,882.444 721.195,882.444 721.972,882.444 722.75,882.444 723.528,882.444 724.305,882.444 725.083,882.444 725.861,952.277 726.638,952.277 727.416,953.267 728.194,953.267 728.971,953.267 729.749,953.267 730.527,953.267 731.305,953.267 732.082,953.267 732.86,953.267 733.638,953.267 734.415,953.267 735.193,954.459 735.971,954.459 736.748,954.459 737.526,954.459 738.304,954.459 739.081,954.459 739.859,954.459 740.637,954.459 741.414,954.459 742.192,954.459 742.97,954.459 743.747,954.459 744.525,954.459 745.303,954.459 746.081,954.459 746.858,954.459 747.636,954.459 748.414,954.459 749.191,954.459 749.969,954.459 750.747,954.459 751.524,954.459 752.302,954.459 753.08,954.459 753.857,954.459 754.635,954.459 755.413,954.459 756.19,954.459 756.968,954.459 757.746,954.459 758.524,954.459 759.301,954.459 760.079,954.459 760.857,954.459 761.634,954.459 762.412,954.459 763.19,954.459 763.967,954.459 764.745,954.459 765.523,954.459 766.3,954.459 767.078,954.459 767.856,954.459 768.633,954.459 769.411,954.459 770.189,954.459 770.966,954.459 771.744,984.253 772.522,984.253 773.3,984.253 774.077,984.253 774.855,984.253 775.633,984.253 776.41,984.253 777.188,984.253 777.966,984.253 778.743,984.253 779.521,984.253 780.299,984.253 781.076,984.253 781.854,984.253 782.632,984.253 783.409,984.253 784.187,984.253 784.965,984.253 785.743,984.253 786.52,984.253 787.298,984.253 788.076,984.253 788.853,984.253 789.631,984.253 790.409,984.253 791.186,984.253 791.964,984.253 792.742,984.253 793.519,984.253 794.297,984.253 795.075,984.253 795.852,984.253 796.63,984.253 797.408,984.253 798.185,984.253 798.963,984.253 799.741,984.253 800.519,984.253 801.296,984.253 802.074,991.263 802.852,991.263 803.629,991.263 804.407,991.263 805.185,991.263 805.962,991.263 806.74,991.263 807.518,991.263 808.295,991.263 809.073,991.263 809.851,991.263 810.628,991.263 811.406,991.263 812.184,991.263 812.962,991.263 813.739,991.263 814.517,991.263 815.295,991.263 816.072,991.263 816.85,991.263 817.628,991.263 818.405,991.263 819.183,991.263 819.961,991.263 820.738,991.263 821.516,991.263 822.294,991.263 823.071,991.263 823.849,991.263 824.627,991.263 825.404,991.263 826.182,991.263 826.96,991.263 827.738,991.263 828.515,991.263 829.293,991.263 830.071,1009.15 830.848,1009.15 831.626,1009.15 832.404,1009.15 833.181,1009.15 833.959,1009.15 834.737,1009.15 835.514,1009.15 836.292,1009.15 837.07,1009.15 837.847,1009.15 838.625,1009.15 839.403,1009.15 840.181,1009.15 840.958,1009.15 841.736,1009.15 842.514,1009.15 843.291,1009.15 844.069,1009.15 844.847,1009.15 845.624,1009.15 846.402,1009.15 847.18,1009.15 847.957,1027.23 848.735,1027.23 849.513,1027.23 850.29,1027.23 851.068,1027.23 851.846,1027.23 852.623,1027.23 853.401,1027.23 854.179,1027.23 854.957,1027.23 855.734,1027.23 856.512,1027.23 857.29,1027.23 858.067,1027.23 858.845,1027.23 859.623,1027.23 860.4,1027.23 861.178,1074.94 861.956,1074.94 862.733,1131.34 863.511,1131.34 864.289,1131.34 865.066,1131.34 865.844,1131.34 866.622,1131.34 867.4,1131.34 868.177,1168.28 868.955,1168.28 869.733,1175.61 870.51,1175.61 871.288,1175.61 872.066,1176.3 872.843,1176.3 873.621,1176.3 874.399,1176.3 875.176,1176.3 875.954,1176.3 876.732,1176.3 877.509,1176.3 878.287,1176.3 879.065,1176.3 879.842,1186.55 880.62,1186.55 881.398,1186.55 882.176,1186.55 882.953,1186.55 883.731,1186.55 884.509,1186.55 885.286,1186.55 886.064,1186.55 886.842,1186.55 887.619,1186.55 888.397,1186.55 889.175,1186.55 889.952,1186.55 890.73,1186.55 891.508,1186.55 892.285,1186.55 893.063,1186.55 893.841,1186.55 894.619,1186.55 895.396,1186.55 896.174,1186.55 896.952,1186.55 897.729,1186.55 898.507,1186.55 899.285,1186.55 900.062,1186.55 900.84,1186.55 901.618,1186.55 902.395,1186.55 903.173,1186.55 903.951,1186.55 904.728,1186.55 905.506,1186.55 906.284,1186.55 907.061,1186.55 907.839,1186.55 908.617,1186.55 909.395,1186.55 910.172,1186.55 910.95,1186.55 911.728,1186.55 912.505,1186.55 913.283,1186.55 914.061,1186.55 914.838,1186.55 915.616,1186.55 916.394,1186.55 917.171,1186.55 917.949,1186.55 918.727,1186.55 919.504,1186.55 920.282,1186.55 921.06,1186.55 921.838,1186.55 922.615,1186.55 923.393,1186.55 924.171,1186.55 924.948,1186.55 925.726,1186.55 926.504,1186.55 927.281,1186.55 928.059,1186.55 928.837,1186.55 929.614,1195.06 930.392,1195.06 931.17,1195.06 931.947,1195.06 932.725,1195.06 933.503,1195.06 934.28,1195.06 935.058,1195.06 935.836,1195.06 936.614,1195.06 937.391,1195.06 938.169,1195.06 938.947,1195.06 939.724,1195.06 940.502,1195.06 941.28,1195.06 942.057,1195.06 942.835,1195.06 943.613,1195.06 944.39,1195.06 945.168,1195.06 945.946,1195.06 946.723,1195.06 947.501,1195.06 948.279,1195.06 949.057,1195.06 949.834,1195.06 950.612,1195.06 951.39,1195.06 952.167,1195.06 952.945,1195.06 953.723,1195.06 954.5,1195.06 955.278,1195.06 956.056,1195.06 956.833,1195.06 957.611,1195.06 958.389,1195.06 959.166,1195.06 959.944,1195.06 960.722,1195.06 961.499,1195.06 962.277,1195.06 963.055,1195.06 963.833,1195.06 964.61,1195.06 965.388,1195.06 966.166,1195.06 966.943,1195.06 967.721,1195.06 968.499,1195.06 969.276,1195.06 970.054,1197.83 970.832,1197.83 971.609,1197.83 972.387,1197.83 973.165,1197.83 973.942,1197.83 974.72,1197.83 975.498,1197.83 976.276,1197.83 977.053,1197.83 977.831,1197.83 978.609,1197.83 979.386,1197.83 980.164,1197.83 980.942,1197.83 981.719,1197.83 982.497,1197.83 983.275,1197.83 984.052,1197.83 984.83,1197.83 985.608,1197.83 986.385,1197.83 987.163,1197.83 987.941,1197.83 988.718,1197.83 989.496,1197.83 990.274,1197.83 991.052,1197.83 991.829,1197.83 992.607,1197.83 993.385,1197.83 994.162,1197.83 994.94,1197.83 995.718,1197.83 996.495,1197.83 997.273,1197.83 998.051,1197.83 998.828,1197.83 999.606,1197.83 1000.38,1197.83 1001.16,1197.83 1001.94,1198.89 1002.72,1198.89 1003.49,1198.89 1004.27,1198.89 1005.05,1198.89 1005.83,1198.89 1006.61,1198.89 1007.38,1198.89 1008.16,1198.89 1008.94,1198.89 1009.72,1198.89 1010.49,1198.89 1011.27,1198.89 1012.05,1198.89 1012.83,1198.89 1013.6,1198.89 1014.38,1198.89 1015.16,1198.89 1015.94,1198.89 1016.72,1198.89 1017.49,1198.89 1018.27,1198.89 1019.05,1198.89 1019.83,1198.89 1020.6,1198.89 1021.38,1198.89 1022.16,1198.89 1022.94,1198.89 1023.71,1198.89 1024.49,1198.89 1025.27,1198.89 1026.05,1198.89 1026.83,1198.89 1027.6,1198.89 1028.38,1198.89 1029.16,1198.89 1029.94,1198.89 1030.71,1198.89 1031.49,1198.89 1032.27,1198.89 1033.05,1198.89 1033.82,1198.89 1034.6,1198.89 1035.38,1198.89 1036.16,1198.89 1036.94,1198.89 1037.71,1198.89 1038.49,1198.89 1039.27,1198.89 1040.05,1198.89 1040.82,1198.89 1041.6,1198.89 1042.38,1198.89 1043.16,1198.89 1043.93,1198.89 1044.71,1198.89 1045.49,1198.89 1046.27,1198.89 1047.04,1198.89 1047.82,1198.89 1048.6,1198.89 1049.38,1198.89 1050.16,1198.89 1050.93,1198.89 1051.71,1198.89 1052.49,1198.89 1053.27,1198.89 1054.04,1199.28 1054.82,1199.28 1055.6,1199.28 1056.38,1199.28 1057.15,1199.28 1057.93,1199.28 1058.71,1199.28 1059.49,1199.28 1060.27,1199.28 1061.04,1199.28 1061.82,1199.28 1062.6,1199.28 1063.38,1199.28 1064.15,1199.28 1064.93,1199.28 1065.71,1199.28 1066.49,1199.28 1067.26,1199.28 1068.04,1199.28 1068.82,1199.28 1069.6,1199.28 1070.38,1199.28 1071.15,1199.28 1071.93,1199.28 1072.71,1199.28 1073.49,1199.28 1074.26,1199.28 1075.04,1199.28 1075.82,1199.28 1076.6,1199.28 1077.37,1199.28 1078.15,1199.28 1078.93,1199.28 1079.71,1199.28 1080.49,1199.28 1081.26,1199.28 1082.04,1199.28 1082.82,1199.28 1083.6,1207.08 1084.37,1207.08 1085.15,1207.08 1085.93,1207.08 1086.71,1207.08 1087.48,1207.08 1088.26,1207.08 1089.04,1207.08 1089.82,1207.08 1090.6,1207.08 1091.37,1207.08 1092.15,1207.08 1092.93,1207.08 1093.71,1207.08 1094.48,1207.08 1095.26,1207.08 1096.04,1207.08 1096.82,1207.08 1097.59,1207.08 1098.37,1207.08 1099.15,1207.08 1099.93,1207.08 1100.71,1207.08 1101.48,1207.08 1102.26,1207.08 1103.04,1207.08 1103.82,1207.08 1104.59,1207.08 1105.37,1207.08 1106.15,1207.08 1106.93,1207.08 1107.7,1207.08 1108.48,1207.08 1109.26,1207.08 1110.04,1207.08 1110.82,1207.08 1111.59,1207.08 1112.37,1207.08 1113.15,1207.08 1113.93,1207.08 1114.7,1207.08 1115.48,1207.08 1116.26,1207.08 1117.04,1207.08 1117.81,1207.08 1118.59,1207.08 1119.37,1207.08 1120.15,1207.08 1120.93,1207.08 1121.7,1207.08 1122.48,1207.08 1123.26,1207.08 1124.04,1207.08 1124.81,1207.08 1125.59,1207.08 1126.37,1207.08 1127.15,1207.08 1127.92,1207.08 1128.7,1207.08 1129.48,1207.08 1130.26,1207.08 1131.03,1207.08 1131.81,1207.08 1132.59,1207.08 1133.37,1207.08 1134.15,1207.08 1134.92,1207.08 1135.7,1207.08 1136.48,1207.08 1137.26,1207.08 1138.03,1207.08 1138.81,1207.08 1139.59,1207.08 1140.37,1207.08 1141.14,1207.08 1141.92,1207.08 1142.7,1207.08 1143.48,1207.08 1144.26,1207.08 1145.03,1207.08 1145.81,1207.08 1146.59,1207.08 1147.37,1207.08 1148.14,1207.08 1148.92,1207.08 1149.7,1207.08 1150.48,1207.08 1151.25,1207.08 1152.03,1207.08 1152.81,1207.08 1153.59,1207.08 1154.37,1207.08 1155.14,1207.08 1155.92,1207.08 1156.7,1207.08 1157.48,1207.08 1158.25,1207.08 1159.03,1207.08 1159.81,1207.08 1160.59,1207.08 1161.36,1207.08 1162.14,1207.08 1162.92,1207.08 1163.7,1207.08 1164.48,1207.08 1165.25,1207.08 1166.03,1207.08 1166.81,1207.08 1167.59,1207.08 1168.36,1207.08 1169.14,1207.08 1169.92,1207.08 1170.7,1207.08 1171.47,1207.08 1172.25,1207.08 1173.03,1207.08 1173.81,1207.08 1174.59,1207.08 1175.36,1207.08 1176.14,1207.08 1176.92,1207.08 1177.7,1207.08 1178.47,1207.08 1179.25,1207.08 1180.03,1207.08 1180.81,1207.08 1181.58,1207.08 1182.36,1207.08 1183.14,1207.08 1183.92,1207.08 1184.7,1207.08 1185.47,1207.08 1186.25,1207.08 1187.03,1207.08 1187.81,1207.08 1188.58,1207.08 1189.36,1207.08 1190.14,1207.08 1190.92,1207.08 1191.69,1207.08 1192.47,1207.08 1193.25,1207.08 1194.03,1207.08 1194.81,1207.08 1195.58,1207.08 1196.36,1207.08 1197.14,1207.08 1197.92,1207.08 1198.69,1207.08 1199.47,1207.08 1200.25,1207.08 1201.03,1207.08 1201.8,1207.08 1202.58,1207.08 1203.36,1207.08 1204.14,1207.08 1204.92,1207.08 1205.69,1207.08 1206.47,1207.08 1207.25,1207.08 1208.03,1207.08 1208.8,1207.08 1209.58,1207.08 1210.36,1207.08 1211.14,1207.08 1211.91,1207.08 1212.69,1207.08 1213.47,1207.08 1214.25,1207.08 1215.03,1223.69 1215.8,1223.69 1216.58,1223.69 1217.36,1223.69 1218.14,1223.69 1218.91,1223.69 1219.69,1223.69 1220.47,1223.69 1221.25,1223.69 1222.02,1223.69 1222.8,1223.69 1223.58,1223.69 1224.36,1223.69 1225.13,1223.69 1225.91,1223.69 1226.69,1223.69 1227.47,1223.69 1228.25,1223.69 1229.02,1223.69 1229.8,1223.69 1230.58,1223.69 1231.36,1223.69 1232.13,1223.69 1232.91,1223.69 1233.69,1223.69 1234.47,1223.69 1235.24,1223.96 1236.02,1223.96 1236.8,1223.96 1237.58,1223.96 1238.36,1223.96 1239.13,1223.96 1239.91,1223.96 1240.69,1223.96 1241.47,1223.96 1242.24,1223.96 1243.02,1223.96 1243.8,1223.96 1244.58,1223.96 1245.35,1223.96 1246.13,1223.96 1246.91,1223.96 1247.69,1223.96 1248.47,1223.96 1249.24,1223.96 1250.02,1223.96 1250.8,1223.96 1251.58,1223.96 1252.35,1223.96 1253.13,1223.96 1253.91,1223.96 1254.69,1223.96 1255.46,1223.96 1256.24,1223.96 1257.02,1223.96 1257.8,1223.96 1258.58,1223.96 1259.35,1223.96 1260.13,1223.96 1260.91,1223.96 1261.69,1223.96 1262.46,1225.06 1263.24,1225.06 1264.02,1225.06 1264.8,1225.06 1265.57,1225.06 1266.35,1225.06 1267.13,1225.06 1267.91,1225.06 1268.69,1225.06 1269.46,1225.06 1270.24,1225.06 1271.02,1225.06 1271.8,1225.06 1272.57,1225.06 1273.35,1225.06 1274.13,1225.06 1274.91,1225.06 1275.68,1225.06 1276.46,1225.06 1277.24,1225.06 1278.02,1225.06 1278.8,1225.06 1279.57,1225.06 1280.35,1225.06 1281.13,1225.06 1281.91,1225.06 1282.68,1225.06 1283.46,1225.06 1284.24,1225.06 1285.02,1225.06 1285.79,1225.06 1286.57,1225.06 1287.35,1225.06 1288.13,1225.06 1288.91,1225.06 1289.68,1225.06 1290.46,1225.06 1291.24,1243.81 1292.02,1243.81 1292.79,1243.81 1293.57,1243.81 1294.35,1243.81 1295.13,1243.81 1295.9,1243.81 1296.68,1243.81 1297.46,1243.81 1298.24,1243.81 1299.02,1243.81 1299.79,1243.81 1300.57,1243.81 1301.35,1243.81 1302.13,1243.81 1302.9,1243.81 1303.68,1243.81 1304.46,1243.81 1305.24,1243.81 1306.01,1243.81 1306.79,1243.81 1307.57,1243.81 1308.35,1243.81 1309.13,1243.81 1309.9,1243.81 1310.68,1243.81 1311.46,1243.81 1312.24,1243.81 1313.01,1243.81 1313.79,1243.81 1314.57,1243.81 1315.35,1243.81 1316.12,1243.81 1316.9,1243.81 1317.68,1243.81 1318.46,1243.81 1319.23,1243.81 1320.01,1243.81 1320.79,1243.81 1321.57,1243.81 1322.35,1243.81 1323.12,1243.81 1323.9,1243.81 1324.68,1243.81 1325.46,1243.81 1326.23,1243.81 1327.01,1243.81 1327.79,1243.81 1328.57,1243.81 1329.34,1243.81 1330.12,1244.45 1330.9,1244.45 1331.68,1244.45 1332.46,1244.45 1333.23,1244.45 1334.01,1244.45 1334.79,1244.45 1335.57,1244.45 1336.34,1244.45 1337.12,1244.45 1337.9,1244.45 1338.68,1244.45 1339.45,1244.45 1340.23,1244.45 1341.01,1244.45 1341.79,1244.45 1342.57,1244.45 1343.34,1244.45 1344.12,1244.45 1344.9,1244.45 1345.68,1244.45 1346.45,1244.45 1347.23,1244.45 1348.01,1244.45 1348.79,1244.45 1349.56,1244.45 1350.34,1244.45 1351.12,1244.45 1351.9,1244.45 1352.68,1244.45 1353.45,1244.45 1354.23,1244.45 1355.01,1244.45 1355.79,1244.45 1356.56,1244.45 1357.34,1244.45 1358.12,1244.45 1358.9,1244.45 1359.67,1244.45 1360.45,1244.45 1361.23,1244.45 1362.01,1244.45 1362.79,1244.45 1363.56,1244.45 1364.34,1244.45 1365.12,1244.45 1365.9,1244.45 1366.67,1244.45 1367.45,1244.45 1368.23,1244.45 1369.01,1244.45 1369.78,1244.45 1370.56,1244.45 1371.34,1244.45 1372.12,1244.45 1372.9,1244.45 1373.67,1244.45 1374.45,1244.45 1375.23,1244.45 1376.01,1244.45 1376.78,1244.45 1377.56,1244.45 1378.34,1244.45 1379.12,1244.45 1379.89,1244.45 1380.67,1244.45 1381.45,1244.45 1382.23,1244.45 1383.01,1244.45 1383.78,1244.45 1384.56,1244.45 1385.34,1244.45 1386.12,1244.45 1386.89,1244.45 1387.67,1244.45 1388.45,1244.45 1389.23,1244.45 1390,1244.45 1390.78,1244.45 1391.56,1244.45 1392.34,1244.45 1393.12,1244.45 1393.89,1244.45 1394.67,1244.45 1395.45,1244.45 1396.23,1244.45 1397,1244.45 1397.78,1244.45 1398.56,1244.45 1399.34,1244.45 1400.11,1244.45 1400.89,1244.45 1401.67,1244.45 1402.45,1244.45 1403.22,1244.45 1404,1244.45 1404.78,1244.45 1405.56,1244.45 1406.34,1244.45 1407.11,1244.45 1407.89,1244.45 1408.67,1244.45 1409.45,1244.45 1410.22,1244.45 1411,1244.45 1411.78,1244.45 1412.56,1244.45 1413.33,1244.45 1414.11,1244.45 1414.89,1244.45 1415.67,1244.45 1416.45,1244.45 1417.22,1244.45 1418,1244.45 1418.78,1244.45 1419.56,1244.45 1420.33,1244.45 1421.11,1244.45 1421.89,1245.12 1422.67,1245.12 1423.44,1245.12 1424.22,1245.12 1425,1245.12 1425.78,1245.12 1426.56,1245.12 1427.33,1245.12 1428.11,1245.12 1428.89,1245.12 1429.67,1245.12 1430.44,1245.12 1431.22,1245.12 1432,1245.12 1432.78,1245.12 1433.55,1264.44 1434.33,1264.44 1435.11,1264.44 1435.89,1264.44 1436.67,1264.44 1437.44,1264.44 1438.22,1264.44 1439,1264.44 1439.78,1264.44 1440.55,1264.44 1441.33,1264.44 1442.11,1264.44 1442.89,1264.44 1443.66,1264.44 1444.44,1264.44 1445.22,1264.44 1446,1264.44 1446.78,1264.44 1447.55,1264.44 1448.33,1264.44 1449.11,1264.44 1449.89,1264.44 1450.66,1264.44 1451.44,1264.44 1452.22,1264.44 1453,1264.44 1453.77,1264.44 1454.55,1264.44 1455.33,1264.44 1456.11,1264.44 1456.89,1264.44 1457.66,1264.44 1458.44,1264.44 1459.22,1264.44 1460,1264.44 1460.77,1264.44 1461.55,1264.44 1462.33,1264.44 1463.11,1264.44 1463.88,1264.44 1464.66,1264.44 1465.44,1264.44 1466.22,1264.44 1467,1264.44 1467.77,1264.44 1468.55,1264.44 1469.33,1264.44 1470.11,1264.44 1470.88,1264.44 1471.66,1264.44 1472.44,1264.44 1473.22,1264.44 1473.99,1264.44 1474.77,1264.44 1475.55,1264.44 1476.33,1264.44 1477.11,1264.44 1477.88,1264.44 1478.66,1264.44 1479.44,1264.44 1480.22,1264.44 1480.99,1264.44 1481.77,1264.44 1482.55,1264.44 1483.33,1264.44 1484.1,1264.44 1484.88,1264.44 1485.66,1264.44 1486.44,1264.44 1487.22,1264.44 1487.99,1264.44 1488.77,1264.44 1489.55,1264.44 1490.33,1264.44 1491.1,1264.44 1491.88,1264.44 1492.66,1264.44 1493.44,1264.44 1494.21,1264.44 1494.99,1264.44 1495.77,1264.44 1496.55,1264.44 1497.32,1264.44 1498.1,1264.44 1498.88,1264.44 1499.66,1264.44 1500.44,1264.44 1501.21,1264.44 1501.99,1264.44 1502.77,1264.44 1503.55,1264.44 1504.32,1264.44 1505.1,1264.44 1505.88,1264.44 1506.66,1264.44 1507.43,1264.44 1508.21,1264.44 1508.99,1264.44 1509.77,1264.44 1510.55,1264.44 1511.32,1264.44 1512.1,1264.44 1512.88,1264.44 1513.66,1264.44 1514.43,1264.44 1515.21,1264.44 1515.99,1264.44 1516.77,1264.44 1517.54,1264.44 1518.32,1264.44 1519.1,1264.44 1519.88,1264.44 1520.66,1264.44 1521.43,1264.44 1522.21,1264.44 1522.99,1264.44 1523.77,1264.44 1524.54,1264.44 1525.32,1264.44 1526.1,1264.44 1526.88,1264.44 1527.65,1264.44 1528.43,1264.44 1529.21,1264.44 1529.99,1264.44 1530.77,1264.44 1531.54,1264.44 1532.32,1264.44 1533.1,1264.44 1533.88,1264.44 1534.65,1264.44 1535.43,1264.44 1536.21,1264.44 1536.99,1264.44 1537.76,1264.44 1538.54,1264.44 1539.32,1264.44 1540.1,1264.44 1540.88,1264.44 1541.65,1264.44 1542.43,1264.44 1543.21,1264.44 1543.99,1264.44 1544.76,1264.44 1545.54,1264.44 1546.32,1264.44 1547.1,1264.44 1547.87,1264.44 1548.65,1264.44 1549.43,1264.44 1550.21,1264.44 1550.99,1264.44 1551.76,1264.44 1552.54,1264.44 1553.32,1264.44 1554.1,1264.44 1554.87,1264.44 1555.65,1264.44 1556.43,1264.44 1557.21,1264.44 1557.98,1264.44 1558.76,1264.44 1559.54,1264.44 1560.32,1264.44 1561.1,1264.44 1561.87,1264.44 1562.65,1264.44 1563.43,1264.44 1564.21,1264.44 1564.98,1264.44 1565.76,1264.44 1566.54,1264.44 1567.32,1264.44 1568.09,1264.44 1568.87,1264.44 1569.65,1264.44 1570.43,1264.44 1571.21,1264.44 1571.98,1264.44 1572.76,1264.44 1573.54,1264.44 1574.32,1264.44 1575.09,1264.44 1575.87,1264.44 1576.65,1264.44 1577.43,1264.44 1578.2,1264.44 1578.98,1264.44 1579.76,1264.44 1580.54,1300.24 1581.32,1300.24 1582.09,1300.24 1582.87,1300.24 1583.65,1300.24 1584.43,1300.24 1585.2,1300.24 1585.98,1300.24 1586.76,1300.24 1587.54,1300.24 1588.31,1300.24 1589.09,1300.24 1589.87,1300.24 1590.65,1300.24 1591.42,1300.24 1592.2,1300.24 1592.98,1300.24 1593.76,1300.24 1594.54,1300.24 1595.31,1300.24 1596.09,1300.24 1596.87,1300.24 1597.65,1300.24 1598.42,1300.24 1599.2,1300.24 1599.98,1300.24 1600.76,1300.24 1601.53,1300.24 1602.31,1300.24 1603.09,1300.24 1603.87,1300.24 1604.65,1300.24 1605.42,1300.24 1606.2,1300.24 1606.98,1300.24 1607.76,1300.24 1608.53,1300.24 1609.31,1300.24 1610.09,1300.24 1610.87,1300.24 1611.64,1300.24 1612.42,1300.24 1613.2,1300.24 1613.98,1300.24 1614.76,1300.24 1615.53,1300.24 1616.31,1300.24 1617.09,1300.24 1617.87,1300.24 1618.64,1300.24 1619.42,1300.24 1620.2,1324.29 1620.98,1324.29 1621.75,1324.29 1622.53,1324.29 1623.31,1324.29 1624.09,1324.29 1624.87,1324.29 1625.64,1324.29 1626.42,1324.29 1627.2,1324.29 1627.98,1324.29 1628.75,1324.29 1629.53,1324.29 1630.31,1336.84 1631.09,1336.84 1631.86,1336.84 1632.64,1336.84 1633.42,1336.84 1634.2,1336.84 1634.98,1336.84 1635.75,1336.84 1636.53,1336.84 1637.31,1336.84 1638.09,1336.84 1638.86,1336.84 1639.64,1336.84 1640.42,1336.84 1641.2,1336.84 1641.97,1336.84 1642.75,1336.84 1643.53,1336.84 1644.31,1336.84 1645.09,1336.84 1645.86,1336.84 1646.64,1336.84 1647.42,1336.84 1648.2,1336.84 1648.97,1336.84 1649.75,1336.84 1650.53,1336.84 1651.31,1336.84 1652.08,1336.84 1652.86,1336.84 1653.64,1336.84 1654.42,1336.84 1655.2,1336.84 1655.97,1336.84 1656.75,1336.84 1657.53,1336.84 1658.31,1336.84 1659.08,1336.84 1659.86,1336.84 1660.64,1336.84 1661.42,1336.84 1662.19,1336.84 1662.97,1336.84 1663.75,1336.84 1664.53,1336.84 1665.31,1336.84 1666.08,1336.84 1666.86,1336.84 1667.64,1336.84 1668.42,1336.84 1669.19,1336.84 1669.97,1336.84 1670.75,1336.84 1671.53,1336.84 1672.3,1336.84 1673.08,1336.84 1673.86,1336.84 1674.64,1336.84 1675.41,1336.84 1676.19,1336.84 1676.97,1336.84 1677.75,1336.84 1678.53,1336.84 1679.3,1336.84 1680.08,1336.84 1680.86,1336.84 1681.64,1336.84 1682.41,1336.84 1683.19,1336.84 1683.97,1336.84 1684.75,1336.84 1685.52,1336.84 1686.3,1350.14 1687.08,1350.14 1687.86,1350.14 1688.64,1350.14 1689.41,1350.14 1690.19,1350.14 1690.97,1350.14 1691.75,1350.14 1692.52,1350.14 1693.3,1350.14 1694.08,1350.14 1694.86,1350.14 1695.63,1350.14 1696.41,1350.14 1697.19,1350.14 1697.97,1350.14 1698.75,1350.14 1699.52,1350.14 1700.3,1350.14 1701.08,1350.14 1701.86,1350.14 1702.63,1350.14 1703.41,1350.14 1704.19,1350.14 1704.97,1350.14 1705.74,1350.14 1706.52,1350.14 1707.3,1350.14 1708.08,1350.14 1708.86,1350.14 1709.63,1350.14 1710.41,1350.14 1711.19,1350.14 1711.97,1350.14 1712.74,1350.14 1713.52,1350.14 1714.3,1350.14 1715.08,1350.14 1715.85,1350.14 1716.63,1350.14 1717.41,1350.14 1718.19,1350.14 1718.97,1350.14 1719.74,1350.14 1720.52,1350.14 1721.3,1350.14 1722.08,1350.14 1722.85,1350.14 1723.63,1350.14 1724.41,1350.14 1725.19,1350.14 1725.96,1350.14 1726.74,1350.14 1727.52,1350.14 1728.3,1350.14 1729.08,1350.14 1729.85,1350.14 1730.63,1350.14 1731.41,1350.14 1732.19,1350.14 1732.96,1350.14 1733.74,1350.14 1734.52,1350.14 1735.3,1350.14 1736.07,1350.14 1736.85,1350.14 1737.63,1350.14 1738.41,1350.14 1739.19,1350.14 1739.96,1350.14 1740.74,1350.14 1741.52,1350.14 1742.3,1350.14 1743.07,1350.14 1743.85,1350.14 1744.63,1350.14 1745.41,1350.14 1746.18,1350.14 1746.96,1350.14 1747.74,1350.14 1748.52,1350.14 1749.3,1350.14 1750.07,1350.14 1750.85,1350.14 1751.63,1350.14 1752.41,1350.14 1753.18,1350.14 1753.96,1350.14 1754.74,1350.14 1755.52,1350.14 1756.29,1350.14 1757.07,1350.75 1757.85,1350.75 1758.63,1350.75 1759.41,1350.75 1760.18,1350.75 1760.96,1350.75 1761.74,1350.75 1762.52,1350.75 1763.29,1350.75 1764.07,1350.75 1764.85,1350.75 1765.63,1350.75 1766.4,1350.75 1767.18,1350.75 1767.96,1350.75 1768.74,1350.75 1769.51,1351.41 1770.29,1351.41 1771.07,1351.41 1771.85,1351.41 1772.63,1351.41 1773.4,1351.41 1774.18,1351.41 1774.96,1351.41 1775.74,1351.41 1776.51,1351.41 1777.29,1351.41 1778.07,1351.41 1778.85,1351.41 1779.62,1351.41 1780.4,1351.41 1781.18,1351.41 1781.96,1351.41 1782.74,1351.41 1783.51,1351.41 1784.29,1351.41 1785.07,1351.41 1785.85,1351.41 1786.62,1351.81 1787.4,1351.81 1788.18,1351.81 1788.96,1351.81 1789.73,1351.81 1790.51,1351.81 1791.29,1351.81 1792.07,1351.81 1792.85,1351.81 1793.62,1351.81 1794.4,1351.81 1795.18,1352.45 1795.96,1352.45 1796.73,1352.45 1797.51,1352.45 1798.29,1352.45 1799.07,1352.45 1799.84,1352.45 1800.62,1352.45 1801.4,1352.45 1802.18,1352.45 1802.96,1352.45 1803.73,1352.45 1804.51,1352.45 1805.29,1352.45 1806.07,1352.45 1806.84,1352.45 1807.62,1352.45 1808.4,1352.45 1809.18,1352.45 1809.95,1352.45 1810.73,1352.45 1811.51,1352.45 1812.29,1352.45 1813.07,1352.45 1813.84,1352.45 1814.62,1352.45 1815.4,1352.45 1816.18,1352.45 1816.95,1352.45 1817.73,1352.45 1818.51,1352.45 1819.29,1352.45 1820.06,1352.45 1820.84,1352.45 1821.62,1352.45 1822.4,1352.45 1823.18,1352.45 1823.95,1352.45 1824.73,1352.45 1825.51,1352.45 1826.29,1352.45 1827.06,1352.45 1827.84,1352.45 1828.62,1352.45 1829.4,1352.45 1830.17,1352.45 1830.95,1352.45 1831.73,1352.45 1832.51,1352.45 1833.29,1352.45 1834.06,1352.45 1834.84,1352.45 1835.62,1352.45 1836.4,1352.45 1837.17,1352.45 1837.95,1352.45 1838.73,1352.45 1839.51,1352.45 1840.28,1352.45 1841.06,1352.45 1841.84,1352.45 1842.62,1352.45 1843.4,1352.45 1844.17,1352.45 1844.95,1352.45 1845.73,1352.45 1846.51,1352.45 1847.28,1352.45 1848.06,1352.45 1848.84,1352.45 1849.62,1352.45 1850.39,1352.45 1851.17,1352.45 1851.95,1352.45 1852.73,1352.45 1853.51,1352.45 1854.28,1352.45 1855.06,1352.45 1855.84,1352.45 1856.62,1352.45 1857.39,1352.45 1858.17,1352.45 1858.95,1352.45 1859.73,1352.45 1860.5,1352.45 1861.28,1352.45 1862.06,1352.45 1862.84,1352.45 1863.61,1352.45 1864.39,1352.45 1865.17,1352.45 1865.95,1352.45 1866.73,1352.45 1867.5,1352.45 1868.28,1352.45 1869.06,1352.45 1869.84,1369.01 1870.61,1369.01 1871.39,1369.01 1872.17,1369.01 1872.95,1369.01 1873.72,1369.01 1874.5,1369.01 1875.28,1369.01 1876.06,1369.01 1876.84,1369.01 1877.61,1369.01 1878.39,1369.01 1879.17,1369.01 1879.95,1369.01 1880.72,1369.01 1881.5,1369.01 1882.28,1369.01 1883.06,1369.01 1883.83,1369.01 1884.61,1369.01 1885.39,1369.01 1886.17,1369.01 1886.95,1369.01 1887.72,1369.01 1888.5,1369.01 1889.28,1369.01 1890.06,1369.01 1890.83,1369.01 1891.61,1369.01 1892.39,1369.01 1893.17,1369.01 1893.94,1369.01 1894.72,1369.01 1895.5,1369.01 1896.28,1369.01 1897.06,1369.01 1897.83,1369.01 1898.61,1369.01 1899.39,1369.01 1900.17,1369.01 1900.94,1369.01 1901.72,1369.01 1902.5,1369.01 1903.28,1369.01 1904.05,1369.01 1904.83,1369.01 1905.61,1369.01 1906.39,1369.01 1907.17,1369.01 1907.94,1369.01 1908.72,1369.01 1909.5,1369.01 1910.28,1369.01 1911.05,1369.01 1911.83,1369.01 1912.61,1369.01 1913.39,1369.01 1914.16,1369.01 1914.94,1369.01 1915.72,1369.01 1916.5,1369.01 1917.28,1369.01 1918.05,1369.01 1918.83,1369.01 1919.61,1369.01 1920.39,1369.01 1921.16,1369.01 1921.94,1369.01 1922.72,1369.01 1923.5,1369.01 1924.27,1369.01 1925.05,1369.01 1925.83,1369.01 1926.61,1369.01 1927.39,1369.01 1928.16,1369.01 1928.94,1369.01 1929.72,1369.01 1930.5,1369.01 1931.27,1369.01 1932.05,1369.01 1932.83,1369.01 1933.61,1369.01 1934.38,1369.01 1935.16,1369.01 1935.94,1369.01 1936.72,1369.01 1937.5,1369.01 1938.27,1369.01 1939.05,1369.01 1939.83,1369.01 1940.61,1369.01 1941.38,1369.01 1942.16,1369.01 1942.94,1369.01 1943.72,1369.01 1944.49,1369.01 1945.27,1369.01 1946.05,1369.01 1946.83,1369.01 1947.6,1369.01 1948.38,1369.01 1949.16,1369.01 1949.94,1369.01 1950.72,1369.01 1951.49,1369.01 1952.27,1369.01 1953.05,1369.01 1953.83,1369.01 1954.6,1369.01 1955.38,1369.01 1956.16,1369.01 1956.94,1369.01 1957.71,1369.01 1958.49,1369.01 1959.27,1369.01 1960.05,1369.01 1960.83,1369.01 1961.6,1369.01 1962.38,1369.01 1963.16,1369.01 1963.94,1369.01 1964.71,1369.01 1965.49,1369.01 1966.27,1369.01 1967.05,1369.01 1967.82,1369.01 1968.6,1369.01 1969.38,1369.01 1970.16,1369.01 1970.94,1369.01 1971.71,1369.01 1972.49,1369.01 1973.27,1369.01 1974.05,1369.01 1974.82,1369.01 1975.6,1369.01 1976.38,1369.01 1977.16,1369.01 1977.93,1369.01 1978.71,1369.01 1979.49,1369.01 1980.27,1369.01 1981.05,1369.01 1981.82,1369.01 1982.6,1369.01 1983.38,1369.01 1984.16,1369.01 1984.93,1369.01 1985.71,1369.01 1986.49,1369.01 1987.27,1369.01 1988.04,1369.01 1988.82,1369.01 1989.6,1369.01 1990.38,1369.01 1991.16,1369.01 1991.93,1369.01 1992.71,1369.01 1993.49,1369.01 1994.27,1369.01 1995.04,1369.01 1995.82,1369.01 1996.6,1369.01 1997.38,1369.01 1998.15,1369.01 1998.93,1369.01 1999.71,1369.01 2000.49,1369.01 2001.27,1369.01 2002.04,1369.01 2002.82,1369.01 2003.6,1369.01 2004.38,1369.01 2005.15,1369.01 2005.93,1369.01 2006.71,1369.01 2007.49,1369.01 2008.26,1369.01 2009.04,1369.01 2009.82,1369.01 2010.6,1369.01 2011.38,1369.01 2012.15,1369.01 2012.93,1369.01 2013.71,1369.01 2014.49,1369.01 2015.26,1369.01 2016.04,1369.01 2016.82,1369.01 2017.6,1369.01 2018.37,1369.01 2019.15,1369.01 2019.93,1369.01 2020.71,1369.01 2021.49,1369.01 2022.26,1369.01 2023.04,1369.01 2023.82,1369.01 2024.6,1369.01 2025.37,1369.01 2026.15,1369.01 2026.93,1369.01 2027.71,1369.01 2028.48,1369.01 2029.26,1369.01 2030.04,1369.01 2030.82,1369.01 2031.6,1369.01 2032.37,1369.01 2033.15,1369.01 2033.93,1369.01 2034.71,1369.01 2035.48,1369.01 2036.26,1369.01 2037.04,1369.01 2037.82,1369.01 2038.59,1369.01 2039.37,1369.01 2040.15,1369.01 2040.93,1369.01 2041.7,1369.01 2042.48,1369.01 2043.26,1369.01 2044.04,1369.01 2044.82,1369.01 2045.59,1369.01 2046.37,1369.01 2047.15,1369.01 2047.93,1369.01 2048.7,1369.01 2049.48,1369.01 2050.26,1369.01 2051.04,1369.01 2051.81,1369.01 2052.59,1369.01 2053.37,1369.01 2054.15,1369.01 2054.93,1369.01 2055.7,1369.01 2056.48,1369.01 2057.26,1369.01 2058.04,1369.01 2058.81,1369.01 2059.59,1369.01 2060.37,1369.01 2061.15,1369.01 2061.92,1369.01 2062.7,1369.01 2063.48,1369.01 2064.26,1369.01 2065.04,1369.01 2065.81,1369.01 2066.59,1369.01 2067.37,1369.01 2068.15,1369.01 2068.92,1369.01 2069.7,1369.01 2070.48,1369.01 2071.26,1369.01 2072.03,1369.01 2072.81,1369.01 2073.59,1369.01 2074.37,1369.01 2075.15,1369.01 2075.92,1369.01 2076.7,1369.01 2077.48,1369.01 2078.26,1369.01 2079.03,1369.01 2079.81,1369.01 2080.59,1369.01 2081.37,1369.01 2082.14,1369.01 2082.92,1369.01 2083.7,1369.01 2084.48,1369.01 2085.26,1369.01 2086.03,1369.01 2086.81,1369.01 2087.59,1369.01 2088.37,1369.01 2089.14,1369.01 2089.92,1369.01 2090.7,1369.01 2091.48,1369.01 2092.25,1369.01 2093.03,1369.01 2093.81,1369.01 2094.59,1369.01 2095.37,1369.01 2096.14,1369.01 2096.92,1369.01 2097.7,1369.01 2098.48,1369.01 2099.25,1369.01 2100.03,1369.01 2100.81,1369.01 2101.59,1369.01 2102.36,1369.01 2103.14,1369.01 2103.92,1369.01 2104.7,1369.01 2105.48,1369.01 2106.25,1369.01 2107.03,1369.01 2107.81,1369.01 2108.59,1369.01 2109.36,1369.01 2110.14,1369.01 2110.92,1369.01 2111.7,1369.01 2112.47,1369.01 2113.25,1369.01 2114.03,1369.01 2114.81,1369.01 2115.59,1369.01 2116.36,1369.01 2117.14,1369.01 2117.92,1369.01 2118.7,1369.01 2119.47,1369.01 2120.25,1369.01 2121.03,1369.01 2121.81,1369.01 2122.58,1369.01 2123.36,1369.01 2124.14,1369.01 2124.92,1369.01 2125.7,1369.01 2126.47,1369.01 2127.25,1369.01 2128.03,1369.01 2128.81,1369.01 2129.58,1369.01 2130.36,1369.01 2131.14,1369.01 2131.92,1369.01 2132.69,1369.01 2133.47,1369.01 2134.25,1369.01 2135.03,1369.01 2135.8,1369.01 2136.58,1369.01 2137.36,1369.01 2138.14,1369.01 2138.92,1369.01 2139.69,1369.01 2140.47,1369.01 2141.25,1369.01 2142.03,1369.01 2142.8,1369.01 2143.58,1369.01 2144.36,1369.01 2145.14,1369.01 2145.91,1369.01 2146.69,1369.01 2147.47,1369.01 2148.25,1386.4 2149.03,1386.4 2149.8,1386.4 2150.58,1386.4 2151.36,1386.4 2152.14,1386.4 2152.91,1386.4 2153.69,1386.4 2154.47,1386.4 2155.25,1386.4 2156.02,1386.4 2156.8,1386.4 2157.58,1386.4 2158.36,1386.4 2159.14,1386.4 2159.91,1386.4 2160.69,1386.4 2161.47,1386.4 2162.25,1386.4 2163.02,1386.4 2163.8,1386.4 2164.58,1386.4 2165.36,1386.4 2166.13,1386.4 2166.91,1386.4 2167.69,1386.4 2168.47,1386.4 2169.25,1386.4 2170.02,1386.4 2170.8,1386.4 2171.58,1386.4 2172.36,1386.4 2173.13,1386.4 2173.91,1386.4 2174.69,1386.4 2175.47,1386.4 2176.24,1386.4 2177.02,1386.4 2177.8,1386.4 2178.58,1386.4 2179.36,1386.4 2180.13,1386.4 2180.91,1386.4 2181.69,1386.4 2182.47,1386.4 2183.24,1386.4 2184.02,1386.4 2184.8,1386.4 2185.58,1386.4 2186.35,1386.4 2187.13,1386.4 2187.91,1386.4 2188.69,1386.4 2189.47,1386.4 2190.24,1386.4 2191.02,1386.4 2191.8,1386.4 2192.58,1386.4 2193.35,1386.4 2194.13,1386.4 2194.91,1386.4 2195.69,1386.4 2196.46,1386.4 2197.24,1386.4 2198.02,1386.4 2198.8,1386.4 2199.58,1386.4 2200.35,1386.4 2201.13,1386.4 2201.91,1386.4 2202.69,1386.4 2203.46,1386.4 2204.24,1386.4 2205.02,1386.4 2205.8,1386.4 2206.57,1386.4 2207.35,1386.4 2208.13,1386.4 2208.91,1386.4 2209.69,1386.4 2210.46,1386.4 2211.24,1386.4 2212.02,1386.4 2212.8,1386.4 2213.57,1386.4 2214.35,1386.4 2215.13,1386.4 2215.91,1386.4 2216.68,1386.4 2217.46,1386.4 2218.24,1386.4 2219.02,1386.4 2219.79,1386.4 2220.57,1386.4 2221.35,1386.4 2222.13,1386.4 2222.91,1386.4 2223.68,1386.4 2224.46,1386.4 2225.24,1386.4 2226.02,1386.4 2226.79,1386.4 2227.57,1386.4 2228.35,1386.4 2229.13,1386.4 2229.9,1386.4 2230.68,1386.4 2231.46,1386.4 2232.24,1386.4 2233.02,1386.4 2233.79,1386.4 2234.57,1386.4 2235.35,1386.4 2236.13,1386.4 2236.9,1386.4 2237.68,1386.4 2238.46,1386.4 2239.24,1386.4 2240.01,1386.4 2240.79,1386.4 2241.57,1386.4 2242.35,1386.4 2243.13,1386.4 2243.9,1386.4 2244.68,1386.4 2245.46,1386.4 2246.24,1386.4 2247.01,1386.4 2247.79,1386.4 2248.57,1386.4 2249.35,1386.4 2250.12,1386.4 2250.9,1386.4 2251.68,1386.4 2252.46,1386.4 2253.24,1386.4 2254.01,1386.4 2254.79,1386.4 2255.57,1386.4 2256.35,1386.4 2257.12,1386.4 2257.9,1386.4 2258.68,1386.4 2259.46,1386.4 2260.23,1386.4 2261.01,1386.4 2261.79,1386.4 2262.57,1386.4 2263.35,1386.4 2264.12,1386.4 2264.9,1386.4 2265.68,1386.4 2266.46,1386.4 2267.23,1386.4 2268.01,1386.4 2268.79,1386.4 2269.57,1386.4 2270.34,1386.4 2271.12,1386.4 2271.9,1386.4 2272.68,1386.4 2273.46,1386.4 2274.23,1386.4 2275.01,1386.4 2275.79,1386.4 2276.57,1386.4 2277.34,1386.4 2278.12,1386.4 2278.9,1386.4 2279.68,1386.4 2280.45,1386.4 2281.23,1386.4 2282.01,1386.4 2282.79,1386.4 2283.57,1386.4 2284.34,1386.4 2285.12,1386.4 2285.9,1386.4 2286.68,1386.4 2287.45,1386.4 2288.23,1386.4 2289.01,1386.4 2289.79,1386.4 2290.56,1386.4 2291.34,1386.4 2292.12,1386.4 2292.9,1386.4 2293.68,1386.4 2294.45,1386.4 \"/>\n",
       "<path clip-path=\"url(#clip940)\" d=\"M2025.65 270.476 L2284.09 270.476 L2284.09 166.796 L2025.65 166.796  Z\" fill=\"#ffffff\" fill-rule=\"evenodd\" fill-opacity=\"1\"/>\n",
       "<polyline clip-path=\"url(#clip940)\" style=\"stroke:#000000; stroke-linecap:round; stroke-linejoin:round; stroke-width:4; stroke-opacity:1; fill:none\" points=\"2025.65,270.476 2284.09,270.476 2284.09,166.796 2025.65,166.796 2025.65,270.476 \"/>\n",
       "<polyline clip-path=\"url(#clip940)\" style=\"stroke:#009af9; stroke-linecap:round; stroke-linejoin:round; stroke-width:4; stroke-opacity:1; fill:none\" points=\"2048.54,218.636 2185.88,218.636 \"/>\n",
       "<path clip-path=\"url(#clip940)\" d=\"M2222.61 238.323 Q2220.81 242.953 2219.09 244.365 Q2217.38 245.777 2214.51 245.777 L2211.11 245.777 L2211.11 242.212 L2213.61 242.212 Q2215.37 242.212 2216.34 241.379 Q2217.31 240.545 2218.49 237.443 L2219.25 235.499 L2208.77 209.99 L2213.28 209.99 L2221.38 230.268 L2229.49 209.99 L2234 209.99 L2222.61 238.323 Z\" fill=\"#000000\" fill-rule=\"nonzero\" fill-opacity=\"1\" /><path clip-path=\"url(#clip940)\" d=\"M2241.29 231.981 L2248.93 231.981 L2248.93 205.615 L2240.62 207.282 L2240.62 203.022 L2248.88 201.356 L2253.56 201.356 L2253.56 231.981 L2261.2 231.981 L2261.2 235.916 L2241.29 235.916 L2241.29 231.981 Z\" fill=\"#000000\" fill-rule=\"nonzero\" fill-opacity=\"1\" /></svg>\n"
      ],
      "text/html": [
       "<?xml version=\"1.0\" encoding=\"utf-8\"?>\n",
       "<svg xmlns=\"http://www.w3.org/2000/svg\" xmlns:xlink=\"http://www.w3.org/1999/xlink\" width=\"600\" height=\"400\" viewBox=\"0 0 2400 1600\">\n",
       "<defs>\n",
       "  <clipPath id=\"clip990\">\n",
       "    <rect x=\"0\" y=\"0\" width=\"2400\" height=\"1600\"/>\n",
       "  </clipPath>\n",
       "</defs>\n",
       "<path clip-path=\"url(#clip990)\" d=\"M0 1600 L2400 1600 L2400 0 L0 0  Z\" fill=\"#ffffff\" fill-rule=\"evenodd\" fill-opacity=\"1\"/>\n",
       "<defs>\n",
       "  <clipPath id=\"clip991\">\n",
       "    <rect x=\"480\" y=\"0\" width=\"1681\" height=\"1600\"/>\n",
       "  </clipPath>\n",
       "</defs>\n",
       "<path clip-path=\"url(#clip990)\" d=\"M292.713 1423.18 L2352.76 1423.18 L2352.76 123.472 L292.713 123.472  Z\" fill=\"#ffffff\" fill-rule=\"evenodd\" fill-opacity=\"1\"/>\n",
       "<defs>\n",
       "  <clipPath id=\"clip992\">\n",
       "    <rect x=\"292\" y=\"123\" width=\"2061\" height=\"1301\"/>\n",
       "  </clipPath>\n",
       "</defs>\n",
       "<polyline clip-path=\"url(#clip992)\" style=\"stroke:#000000; stroke-linecap:round; stroke-linejoin:round; stroke-width:2; stroke-opacity:0.1; fill:none\" points=\"350.239,1423.18 350.239,123.472 \"/>\n",
       "<polyline clip-path=\"url(#clip992)\" style=\"stroke:#000000; stroke-linecap:round; stroke-linejoin:round; stroke-width:2; stroke-opacity:0.1; fill:none\" points=\"739.081,1423.18 739.081,123.472 \"/>\n",
       "<polyline clip-path=\"url(#clip992)\" style=\"stroke:#000000; stroke-linecap:round; stroke-linejoin:round; stroke-width:2; stroke-opacity:0.1; fill:none\" points=\"1127.92,1423.18 1127.92,123.472 \"/>\n",
       "<polyline clip-path=\"url(#clip992)\" style=\"stroke:#000000; stroke-linecap:round; stroke-linejoin:round; stroke-width:2; stroke-opacity:0.1; fill:none\" points=\"1516.77,1423.18 1516.77,123.472 \"/>\n",
       "<polyline clip-path=\"url(#clip992)\" style=\"stroke:#000000; stroke-linecap:round; stroke-linejoin:round; stroke-width:2; stroke-opacity:0.1; fill:none\" points=\"1905.61,1423.18 1905.61,123.472 \"/>\n",
       "<polyline clip-path=\"url(#clip992)\" style=\"stroke:#000000; stroke-linecap:round; stroke-linejoin:round; stroke-width:2; stroke-opacity:0.1; fill:none\" points=\"2294.45,1423.18 2294.45,123.472 \"/>\n",
       "<polyline clip-path=\"url(#clip990)\" style=\"stroke:#000000; stroke-linecap:round; stroke-linejoin:round; stroke-width:4; stroke-opacity:1; fill:none\" points=\"292.713,1423.18 2352.76,1423.18 \"/>\n",
       "<polyline clip-path=\"url(#clip990)\" style=\"stroke:#000000; stroke-linecap:round; stroke-linejoin:round; stroke-width:4; stroke-opacity:1; fill:none\" points=\"350.239,1423.18 350.239,1404.28 \"/>\n",
       "<polyline clip-path=\"url(#clip990)\" style=\"stroke:#000000; stroke-linecap:round; stroke-linejoin:round; stroke-width:4; stroke-opacity:1; fill:none\" points=\"739.081,1423.18 739.081,1404.28 \"/>\n",
       "<polyline clip-path=\"url(#clip990)\" style=\"stroke:#000000; stroke-linecap:round; stroke-linejoin:round; stroke-width:4; stroke-opacity:1; fill:none\" points=\"1127.92,1423.18 1127.92,1404.28 \"/>\n",
       "<polyline clip-path=\"url(#clip990)\" style=\"stroke:#000000; stroke-linecap:round; stroke-linejoin:round; stroke-width:4; stroke-opacity:1; fill:none\" points=\"1516.77,1423.18 1516.77,1404.28 \"/>\n",
       "<polyline clip-path=\"url(#clip990)\" style=\"stroke:#000000; stroke-linecap:round; stroke-linejoin:round; stroke-width:4; stroke-opacity:1; fill:none\" points=\"1905.61,1423.18 1905.61,1404.28 \"/>\n",
       "<polyline clip-path=\"url(#clip990)\" style=\"stroke:#000000; stroke-linecap:round; stroke-linejoin:round; stroke-width:4; stroke-opacity:1; fill:none\" points=\"2294.45,1423.18 2294.45,1404.28 \"/>\n",
       "<path clip-path=\"url(#clip990)\" d=\"M350.239 1454.1 Q346.627 1454.1 344.799 1457.66 Q342.993 1461.2 342.993 1468.33 Q342.993 1475.44 344.799 1479.01 Q346.627 1482.55 350.239 1482.55 Q353.873 1482.55 355.678 1479.01 Q357.507 1475.44 357.507 1468.33 Q357.507 1461.2 355.678 1457.66 Q353.873 1454.1 350.239 1454.1 M350.239 1450.39 Q356.049 1450.39 359.104 1455 Q362.183 1459.58 362.183 1468.33 Q362.183 1477.06 359.104 1481.67 Q356.049 1486.25 350.239 1486.25 Q344.428 1486.25 341.35 1481.67 Q338.294 1477.06 338.294 1468.33 Q338.294 1459.58 341.35 1455 Q344.428 1450.39 350.239 1450.39 Z\" fill=\"#000000\" fill-rule=\"nonzero\" fill-opacity=\"1\" /><path clip-path=\"url(#clip990)\" d=\"M698.7 1451.02 L717.056 1451.02 L717.056 1454.96 L702.982 1454.96 L702.982 1463.43 Q704.001 1463.08 705.019 1462.92 Q706.038 1462.73 707.056 1462.73 Q712.843 1462.73 716.223 1465.9 Q719.602 1469.08 719.602 1474.49 Q719.602 1480.07 716.13 1483.17 Q712.658 1486.25 706.338 1486.25 Q704.163 1486.25 701.894 1485.88 Q699.649 1485.51 697.241 1484.77 L697.241 1480.07 Q699.325 1481.2 701.547 1481.76 Q703.769 1482.32 706.246 1482.32 Q710.251 1482.32 712.588 1480.21 Q714.926 1478.1 714.926 1474.49 Q714.926 1470.88 712.588 1468.77 Q710.251 1466.67 706.246 1466.67 Q704.371 1466.67 702.496 1467.08 Q700.644 1467.5 698.7 1468.38 L698.7 1451.02 Z\" fill=\"#000000\" fill-rule=\"nonzero\" fill-opacity=\"1\" /><path clip-path=\"url(#clip990)\" d=\"M738.815 1454.1 Q735.204 1454.1 733.375 1457.66 Q731.57 1461.2 731.57 1468.33 Q731.57 1475.44 733.375 1479.01 Q735.204 1482.55 738.815 1482.55 Q742.449 1482.55 744.255 1479.01 Q746.084 1475.44 746.084 1468.33 Q746.084 1461.2 744.255 1457.66 Q742.449 1454.1 738.815 1454.1 M738.815 1450.39 Q744.625 1450.39 747.681 1455 Q750.76 1459.58 750.76 1468.33 Q750.76 1477.06 747.681 1481.67 Q744.625 1486.25 738.815 1486.25 Q733.005 1486.25 729.926 1481.67 Q726.871 1477.06 726.871 1468.33 Q726.871 1459.58 729.926 1455 Q733.005 1450.39 738.815 1450.39 Z\" fill=\"#000000\" fill-rule=\"nonzero\" fill-opacity=\"1\" /><path clip-path=\"url(#clip990)\" d=\"M768.977 1454.1 Q765.366 1454.1 763.537 1457.66 Q761.732 1461.2 761.732 1468.33 Q761.732 1475.44 763.537 1479.01 Q765.366 1482.55 768.977 1482.55 Q772.611 1482.55 774.417 1479.01 Q776.246 1475.44 776.246 1468.33 Q776.246 1461.2 774.417 1457.66 Q772.611 1454.1 768.977 1454.1 M768.977 1450.39 Q774.787 1450.39 777.843 1455 Q780.921 1459.58 780.921 1468.33 Q780.921 1477.06 777.843 1481.67 Q774.787 1486.25 768.977 1486.25 Q763.167 1486.25 760.088 1481.67 Q757.033 1477.06 757.033 1468.33 Q757.033 1459.58 760.088 1455 Q763.167 1450.39 768.977 1450.39 Z\" fill=\"#000000\" fill-rule=\"nonzero\" fill-opacity=\"1\" /><path clip-path=\"url(#clip990)\" d=\"M1072.45 1481.64 L1080.09 1481.64 L1080.09 1455.28 L1071.78 1456.95 L1071.78 1452.69 L1080.04 1451.02 L1084.72 1451.02 L1084.72 1481.64 L1092.36 1481.64 L1092.36 1485.58 L1072.45 1485.58 L1072.45 1481.64 Z\" fill=\"#000000\" fill-rule=\"nonzero\" fill-opacity=\"1\" /><path clip-path=\"url(#clip990)\" d=\"M1111.8 1454.1 Q1108.19 1454.1 1106.36 1457.66 Q1104.56 1461.2 1104.56 1468.33 Q1104.56 1475.44 1106.36 1479.01 Q1108.19 1482.55 1111.8 1482.55 Q1115.44 1482.55 1117.24 1479.01 Q1119.07 1475.44 1119.07 1468.33 Q1119.07 1461.2 1117.24 1457.66 Q1115.44 1454.1 1111.8 1454.1 M1111.8 1450.39 Q1117.61 1450.39 1120.67 1455 Q1123.75 1459.58 1123.75 1468.33 Q1123.75 1477.06 1120.67 1481.67 Q1117.61 1486.25 1111.8 1486.25 Q1105.99 1486.25 1102.91 1481.67 Q1099.86 1477.06 1099.86 1468.33 Q1099.86 1459.58 1102.91 1455 Q1105.99 1450.39 1111.8 1450.39 Z\" fill=\"#000000\" fill-rule=\"nonzero\" fill-opacity=\"1\" /><path clip-path=\"url(#clip990)\" d=\"M1141.96 1454.1 Q1138.35 1454.1 1136.52 1457.66 Q1134.72 1461.2 1134.72 1468.33 Q1134.72 1475.44 1136.52 1479.01 Q1138.35 1482.55 1141.96 1482.55 Q1145.6 1482.55 1147.4 1479.01 Q1149.23 1475.44 1149.23 1468.33 Q1149.23 1461.2 1147.4 1457.66 Q1145.6 1454.1 1141.96 1454.1 M1141.96 1450.39 Q1147.77 1450.39 1150.83 1455 Q1153.91 1459.58 1153.91 1468.33 Q1153.91 1477.06 1150.83 1481.67 Q1147.77 1486.25 1141.96 1486.25 Q1136.15 1486.25 1133.07 1481.67 Q1130.02 1477.06 1130.02 1468.33 Q1130.02 1459.58 1133.07 1455 Q1136.15 1450.39 1141.96 1450.39 Z\" fill=\"#000000\" fill-rule=\"nonzero\" fill-opacity=\"1\" /><path clip-path=\"url(#clip990)\" d=\"M1172.13 1454.1 Q1168.51 1454.1 1166.69 1457.66 Q1164.88 1461.2 1164.88 1468.33 Q1164.88 1475.44 1166.69 1479.01 Q1168.51 1482.55 1172.13 1482.55 Q1175.76 1482.55 1177.57 1479.01 Q1179.39 1475.44 1179.39 1468.33 Q1179.39 1461.2 1177.57 1457.66 Q1175.76 1454.1 1172.13 1454.1 M1172.13 1450.39 Q1177.94 1450.39 1180.99 1455 Q1184.07 1459.58 1184.07 1468.33 Q1184.07 1477.06 1180.99 1481.67 Q1177.94 1486.25 1172.13 1486.25 Q1166.32 1486.25 1163.24 1481.67 Q1160.18 1477.06 1160.18 1468.33 Q1160.18 1459.58 1163.24 1455 Q1166.32 1450.39 1172.13 1450.39 Z\" fill=\"#000000\" fill-rule=\"nonzero\" fill-opacity=\"1\" /><path clip-path=\"url(#clip990)\" d=\"M1461.29 1481.64 L1468.93 1481.64 L1468.93 1455.28 L1460.62 1456.95 L1460.62 1452.69 L1468.89 1451.02 L1473.56 1451.02 L1473.56 1481.64 L1481.2 1481.64 L1481.2 1485.58 L1461.29 1485.58 L1461.29 1481.64 Z\" fill=\"#000000\" fill-rule=\"nonzero\" fill-opacity=\"1\" /><path clip-path=\"url(#clip990)\" d=\"M1490.69 1451.02 L1509.05 1451.02 L1509.05 1454.96 L1494.97 1454.96 L1494.97 1463.43 Q1495.99 1463.08 1497.01 1462.92 Q1498.03 1462.73 1499.05 1462.73 Q1504.83 1462.73 1508.21 1465.9 Q1511.59 1469.08 1511.59 1474.49 Q1511.59 1480.07 1508.12 1483.17 Q1504.65 1486.25 1498.33 1486.25 Q1496.15 1486.25 1493.89 1485.88 Q1491.64 1485.51 1489.23 1484.77 L1489.23 1480.07 Q1491.32 1481.2 1493.54 1481.76 Q1495.76 1482.32 1498.24 1482.32 Q1502.24 1482.32 1504.58 1480.21 Q1506.92 1478.1 1506.92 1474.49 Q1506.92 1470.88 1504.58 1468.77 Q1502.24 1466.67 1498.24 1466.67 Q1496.36 1466.67 1494.49 1467.08 Q1492.64 1467.5 1490.69 1468.38 L1490.69 1451.02 Z\" fill=\"#000000\" fill-rule=\"nonzero\" fill-opacity=\"1\" /><path clip-path=\"url(#clip990)\" d=\"M1530.81 1454.1 Q1527.2 1454.1 1525.37 1457.66 Q1523.56 1461.2 1523.56 1468.33 Q1523.56 1475.44 1525.37 1479.01 Q1527.2 1482.55 1530.81 1482.55 Q1534.44 1482.55 1536.25 1479.01 Q1538.07 1475.44 1538.07 1468.33 Q1538.07 1461.2 1536.25 1457.66 Q1534.44 1454.1 1530.81 1454.1 M1530.81 1450.39 Q1536.62 1450.39 1539.67 1455 Q1542.75 1459.58 1542.75 1468.33 Q1542.75 1477.06 1539.67 1481.67 Q1536.62 1486.25 1530.81 1486.25 Q1525 1486.25 1521.92 1481.67 Q1518.86 1477.06 1518.86 1468.33 Q1518.86 1459.58 1521.92 1455 Q1525 1450.39 1530.81 1450.39 Z\" fill=\"#000000\" fill-rule=\"nonzero\" fill-opacity=\"1\" /><path clip-path=\"url(#clip990)\" d=\"M1560.97 1454.1 Q1557.36 1454.1 1555.53 1457.66 Q1553.72 1461.2 1553.72 1468.33 Q1553.72 1475.44 1555.53 1479.01 Q1557.36 1482.55 1560.97 1482.55 Q1564.6 1482.55 1566.41 1479.01 Q1568.24 1475.44 1568.24 1468.33 Q1568.24 1461.2 1566.41 1457.66 Q1564.6 1454.1 1560.97 1454.1 M1560.97 1450.39 Q1566.78 1450.39 1569.83 1455 Q1572.91 1459.58 1572.91 1468.33 Q1572.91 1477.06 1569.83 1481.67 Q1566.78 1486.25 1560.97 1486.25 Q1555.16 1486.25 1552.08 1481.67 Q1549.02 1477.06 1549.02 1468.33 Q1549.02 1459.58 1552.08 1455 Q1555.16 1450.39 1560.97 1450.39 Z\" fill=\"#000000\" fill-rule=\"nonzero\" fill-opacity=\"1\" /><path clip-path=\"url(#clip990)\" d=\"M1854.22 1481.64 L1870.54 1481.64 L1870.54 1485.58 L1848.6 1485.58 L1848.6 1481.64 Q1851.26 1478.89 1855.84 1474.26 Q1860.45 1469.61 1861.63 1468.27 Q1863.87 1465.74 1864.75 1464.01 Q1865.66 1462.25 1865.66 1460.56 Q1865.66 1457.8 1863.71 1456.07 Q1861.79 1454.33 1858.69 1454.33 Q1856.49 1454.33 1854.04 1455.09 Q1851.61 1455.86 1848.83 1457.41 L1848.83 1452.69 Q1851.65 1451.55 1854.11 1450.97 Q1856.56 1450.39 1858.6 1450.39 Q1863.97 1450.39 1867.16 1453.08 Q1870.36 1455.77 1870.36 1460.26 Q1870.36 1462.39 1869.55 1464.31 Q1868.76 1466.2 1866.65 1468.8 Q1866.07 1469.47 1862.97 1472.69 Q1859.87 1475.88 1854.22 1481.64 Z\" fill=\"#000000\" fill-rule=\"nonzero\" fill-opacity=\"1\" /><path clip-path=\"url(#clip990)\" d=\"M1890.36 1454.1 Q1886.74 1454.1 1884.92 1457.66 Q1883.11 1461.2 1883.11 1468.33 Q1883.11 1475.44 1884.92 1479.01 Q1886.74 1482.55 1890.36 1482.55 Q1893.99 1482.55 1895.8 1479.01 Q1897.62 1475.44 1897.62 1468.33 Q1897.62 1461.2 1895.8 1457.66 Q1893.99 1454.1 1890.36 1454.1 M1890.36 1450.39 Q1896.17 1450.39 1899.22 1455 Q1902.3 1459.58 1902.3 1468.33 Q1902.3 1477.06 1899.22 1481.67 Q1896.17 1486.25 1890.36 1486.25 Q1884.55 1486.25 1881.47 1481.67 Q1878.41 1477.06 1878.41 1468.33 Q1878.41 1459.58 1881.47 1455 Q1884.55 1450.39 1890.36 1450.39 Z\" fill=\"#000000\" fill-rule=\"nonzero\" fill-opacity=\"1\" /><path clip-path=\"url(#clip990)\" d=\"M1920.52 1454.1 Q1916.91 1454.1 1915.08 1457.66 Q1913.27 1461.2 1913.27 1468.33 Q1913.27 1475.44 1915.08 1479.01 Q1916.91 1482.55 1920.52 1482.55 Q1924.15 1482.55 1925.96 1479.01 Q1927.79 1475.44 1927.79 1468.33 Q1927.79 1461.2 1925.96 1457.66 Q1924.15 1454.1 1920.52 1454.1 M1920.52 1450.39 Q1926.33 1450.39 1929.38 1455 Q1932.46 1459.58 1932.46 1468.33 Q1932.46 1477.06 1929.38 1481.67 Q1926.33 1486.25 1920.52 1486.25 Q1914.71 1486.25 1911.63 1481.67 Q1908.57 1477.06 1908.57 1468.33 Q1908.57 1459.58 1911.63 1455 Q1914.71 1450.39 1920.52 1450.39 Z\" fill=\"#000000\" fill-rule=\"nonzero\" fill-opacity=\"1\" /><path clip-path=\"url(#clip990)\" d=\"M1950.68 1454.1 Q1947.07 1454.1 1945.24 1457.66 Q1943.43 1461.2 1943.43 1468.33 Q1943.43 1475.44 1945.24 1479.01 Q1947.07 1482.55 1950.68 1482.55 Q1954.31 1482.55 1956.12 1479.01 Q1957.95 1475.44 1957.95 1468.33 Q1957.95 1461.2 1956.12 1457.66 Q1954.31 1454.1 1950.68 1454.1 M1950.68 1450.39 Q1956.49 1450.39 1959.54 1455 Q1962.62 1459.58 1962.62 1468.33 Q1962.62 1477.06 1959.54 1481.67 Q1956.49 1486.25 1950.68 1486.25 Q1944.87 1486.25 1941.79 1481.67 Q1938.73 1477.06 1938.73 1468.33 Q1938.73 1459.58 1941.79 1455 Q1944.87 1450.39 1950.68 1450.39 Z\" fill=\"#000000\" fill-rule=\"nonzero\" fill-opacity=\"1\" /><path clip-path=\"url(#clip990)\" d=\"M2243.06 1481.64 L2259.38 1481.64 L2259.38 1485.58 L2237.44 1485.58 L2237.44 1481.64 Q2240.1 1478.89 2244.68 1474.26 Q2249.29 1469.61 2250.47 1468.27 Q2252.72 1465.74 2253.6 1464.01 Q2254.5 1462.25 2254.5 1460.56 Q2254.5 1457.8 2252.55 1456.07 Q2250.63 1454.33 2247.53 1454.33 Q2245.33 1454.33 2242.88 1455.09 Q2240.45 1455.86 2237.67 1457.41 L2237.67 1452.69 Q2240.49 1451.55 2242.95 1450.97 Q2245.4 1450.39 2247.44 1450.39 Q2252.81 1450.39 2256 1453.08 Q2259.2 1455.77 2259.2 1460.26 Q2259.2 1462.39 2258.39 1464.31 Q2257.6 1466.2 2255.49 1468.8 Q2254.92 1469.47 2251.81 1472.69 Q2248.71 1475.88 2243.06 1481.64 Z\" fill=\"#000000\" fill-rule=\"nonzero\" fill-opacity=\"1\" /><path clip-path=\"url(#clip990)\" d=\"M2269.24 1451.02 L2287.6 1451.02 L2287.6 1454.96 L2273.53 1454.96 L2273.53 1463.43 Q2274.55 1463.08 2275.56 1462.92 Q2276.58 1462.73 2277.6 1462.73 Q2283.39 1462.73 2286.77 1465.9 Q2290.15 1469.08 2290.15 1474.49 Q2290.15 1480.07 2286.68 1483.17 Q2283.2 1486.25 2276.88 1486.25 Q2274.71 1486.25 2272.44 1485.88 Q2270.19 1485.51 2267.79 1484.77 L2267.79 1480.07 Q2269.87 1481.2 2272.09 1481.76 Q2274.31 1482.32 2276.79 1482.32 Q2280.8 1482.32 2283.13 1480.21 Q2285.47 1478.1 2285.47 1474.49 Q2285.47 1470.88 2283.13 1468.77 Q2280.8 1466.67 2276.79 1466.67 Q2274.92 1466.67 2273.04 1467.08 Q2271.19 1467.5 2269.24 1468.38 L2269.24 1451.02 Z\" fill=\"#000000\" fill-rule=\"nonzero\" fill-opacity=\"1\" /><path clip-path=\"url(#clip990)\" d=\"M2309.36 1454.1 Q2305.75 1454.1 2303.92 1457.66 Q2302.11 1461.2 2302.11 1468.33 Q2302.11 1475.44 2303.92 1479.01 Q2305.75 1482.55 2309.36 1482.55 Q2312.99 1482.55 2314.8 1479.01 Q2316.63 1475.44 2316.63 1468.33 Q2316.63 1461.2 2314.8 1457.66 Q2312.99 1454.1 2309.36 1454.1 M2309.36 1450.39 Q2315.17 1450.39 2318.23 1455 Q2321.3 1459.58 2321.3 1468.33 Q2321.3 1477.06 2318.23 1481.67 Q2315.17 1486.25 2309.36 1486.25 Q2303.55 1486.25 2300.47 1481.67 Q2297.42 1477.06 2297.42 1468.33 Q2297.42 1459.58 2300.47 1455 Q2303.55 1450.39 2309.36 1450.39 Z\" fill=\"#000000\" fill-rule=\"nonzero\" fill-opacity=\"1\" /><path clip-path=\"url(#clip990)\" d=\"M2339.52 1454.1 Q2335.91 1454.1 2334.08 1457.66 Q2332.28 1461.2 2332.28 1468.33 Q2332.28 1475.44 2334.08 1479.01 Q2335.91 1482.55 2339.52 1482.55 Q2343.16 1482.55 2344.96 1479.01 Q2346.79 1475.44 2346.79 1468.33 Q2346.79 1461.2 2344.96 1457.66 Q2343.16 1454.1 2339.52 1454.1 M2339.52 1450.39 Q2345.33 1450.39 2348.39 1455 Q2351.47 1459.58 2351.47 1468.33 Q2351.47 1477.06 2348.39 1481.67 Q2345.33 1486.25 2339.52 1486.25 Q2333.71 1486.25 2330.63 1481.67 Q2327.58 1477.06 2327.58 1468.33 Q2327.58 1459.58 2330.63 1455 Q2333.71 1450.39 2339.52 1450.39 Z\" fill=\"#000000\" fill-rule=\"nonzero\" fill-opacity=\"1\" /><path clip-path=\"url(#clip990)\" d=\"M1172.3 1520.52 L1178.73 1520.52 L1178.73 1568.04 L1172.3 1568.04 L1172.3 1520.52 Z\" fill=\"#000000\" fill-rule=\"nonzero\" fill-opacity=\"1\" /><path clip-path=\"url(#clip990)\" d=\"M1197.06 1522.27 L1197.06 1532.4 L1209.12 1532.4 L1209.12 1536.95 L1197.06 1536.95 L1197.06 1556.3 Q1197.06 1560.66 1198.24 1561.9 Q1199.45 1563.14 1203.11 1563.14 L1209.12 1563.14 L1209.12 1568.04 L1203.11 1568.04 Q1196.33 1568.04 1193.75 1565.53 Q1191.17 1562.98 1191.17 1556.3 L1191.17 1536.95 L1186.87 1536.95 L1186.87 1532.4 L1191.17 1532.4 L1191.17 1522.27 L1197.06 1522.27 Z\" fill=\"#000000\" fill-rule=\"nonzero\" fill-opacity=\"1\" /><path clip-path=\"url(#clip990)\" d=\"M1247.32 1548.76 L1247.32 1551.62 L1220.39 1551.62 Q1220.77 1557.67 1224.02 1560.85 Q1227.3 1564 1233.12 1564 Q1236.5 1564 1239.65 1563.17 Q1242.83 1562.35 1245.95 1560.69 L1245.95 1566.23 Q1242.8 1567.57 1239.49 1568.27 Q1236.18 1568.97 1232.77 1568.97 Q1224.24 1568.97 1219.24 1564 Q1214.28 1559.04 1214.28 1550.57 Q1214.28 1541.82 1218.99 1536.69 Q1223.73 1531.54 1231.75 1531.54 Q1238.95 1531.54 1243.12 1536.18 Q1247.32 1540.8 1247.32 1548.76 M1241.46 1547.04 Q1241.4 1542.23 1238.75 1539.37 Q1236.14 1536.5 1231.82 1536.5 Q1226.91 1536.5 1223.95 1539.27 Q1221.03 1542.04 1220.58 1547.07 L1241.46 1547.04 M1235.83 1515.91 L1242.16 1515.91 L1231.78 1527.88 L1226.91 1527.88 L1235.83 1515.91 Z\" fill=\"#000000\" fill-rule=\"nonzero\" fill-opacity=\"1\" /><path clip-path=\"url(#clip990)\" d=\"M1277.59 1537.87 Q1276.6 1537.3 1275.42 1537.04 Q1274.28 1536.76 1272.88 1536.76 Q1267.91 1536.76 1265.24 1540 Q1262.59 1543.22 1262.59 1549.27 L1262.59 1568.04 L1256.71 1568.04 L1256.71 1532.4 L1262.59 1532.4 L1262.59 1537.93 Q1264.44 1534.69 1267.4 1533.13 Q1270.36 1531.54 1274.59 1531.54 Q1275.2 1531.54 1275.93 1531.63 Q1276.66 1531.7 1277.55 1531.85 L1277.59 1537.87 Z\" fill=\"#000000\" fill-rule=\"nonzero\" fill-opacity=\"1\" /><path clip-path=\"url(#clip990)\" d=\"M1299.93 1550.12 Q1292.83 1550.12 1290.09 1551.75 Q1287.36 1553.37 1287.36 1557.29 Q1287.36 1560.4 1289.39 1562.25 Q1291.46 1564.07 1295 1564.07 Q1299.87 1564.07 1302.79 1560.63 Q1305.75 1557.16 1305.75 1551.43 L1305.75 1550.12 L1299.93 1550.12 M1311.61 1547.71 L1311.61 1568.04 L1305.75 1568.04 L1305.75 1562.63 Q1303.75 1565.88 1300.76 1567.44 Q1297.77 1568.97 1293.44 1568.97 Q1287.96 1568.97 1284.72 1565.91 Q1281.5 1562.82 1281.5 1557.67 Q1281.5 1551.65 1285.51 1548.6 Q1289.55 1545.54 1297.54 1545.54 L1305.75 1545.54 L1305.75 1544.97 Q1305.75 1540.93 1303.08 1538.73 Q1300.44 1536.5 1295.63 1536.5 Q1292.58 1536.5 1289.68 1537.23 Q1286.78 1537.97 1284.11 1539.43 L1284.11 1534.02 Q1287.33 1532.78 1290.35 1532.17 Q1293.37 1531.54 1296.24 1531.54 Q1303.97 1531.54 1307.79 1535.55 Q1311.61 1539.56 1311.61 1547.71 Z\" fill=\"#000000\" fill-rule=\"nonzero\" fill-opacity=\"1\" /><path clip-path=\"url(#clip990)\" d=\"M1329.47 1522.27 L1329.47 1532.4 L1341.53 1532.4 L1341.53 1536.95 L1329.47 1536.95 L1329.47 1556.3 Q1329.47 1560.66 1330.64 1561.9 Q1331.85 1563.14 1335.51 1563.14 L1341.53 1563.14 L1341.53 1568.04 L1335.51 1568.04 Q1328.73 1568.04 1326.16 1565.53 Q1323.58 1562.98 1323.58 1556.3 L1323.58 1536.95 L1319.28 1536.95 L1319.28 1532.4 L1323.58 1532.4 L1323.58 1522.27 L1329.47 1522.27 Z\" fill=\"#000000\" fill-rule=\"nonzero\" fill-opacity=\"1\" /><path clip-path=\"url(#clip990)\" d=\"M1349.23 1532.4 L1355.09 1532.4 L1355.09 1568.04 L1349.23 1568.04 L1349.23 1532.4 M1349.23 1518.52 L1355.09 1518.52 L1355.09 1525.93 L1349.23 1525.93 L1349.23 1518.52 Z\" fill=\"#000000\" fill-rule=\"nonzero\" fill-opacity=\"1\" /><path clip-path=\"url(#clip990)\" d=\"M1381.16 1536.5 Q1376.45 1536.5 1373.71 1540.19 Q1370.97 1543.85 1370.97 1550.25 Q1370.97 1556.65 1373.68 1560.34 Q1376.41 1564 1381.16 1564 Q1385.83 1564 1388.57 1560.31 Q1391.31 1556.62 1391.31 1550.25 Q1391.31 1543.92 1388.57 1540.23 Q1385.83 1536.5 1381.16 1536.5 M1381.16 1531.54 Q1388.79 1531.54 1393.16 1536.5 Q1397.52 1541.47 1397.52 1550.25 Q1397.52 1559 1393.16 1564 Q1388.79 1568.97 1381.16 1568.97 Q1373.49 1568.97 1369.12 1564 Q1364.8 1559 1364.8 1550.25 Q1364.8 1541.47 1369.12 1536.5 Q1373.49 1531.54 1381.16 1531.54 Z\" fill=\"#000000\" fill-rule=\"nonzero\" fill-opacity=\"1\" /><path clip-path=\"url(#clip990)\" d=\"M1436.86 1546.53 L1436.86 1568.04 L1431 1568.04 L1431 1546.72 Q1431 1541.66 1429.03 1539.14 Q1427.05 1536.63 1423.11 1536.63 Q1418.36 1536.63 1415.63 1539.65 Q1412.89 1542.68 1412.89 1547.9 L1412.89 1568.04 L1407 1568.04 L1407 1532.4 L1412.89 1532.4 L1412.89 1537.93 Q1414.99 1534.72 1417.82 1533.13 Q1420.69 1531.54 1424.41 1531.54 Q1430.55 1531.54 1433.7 1535.36 Q1436.86 1539.14 1436.86 1546.53 Z\" fill=\"#000000\" fill-rule=\"nonzero\" fill-opacity=\"1\" /><path clip-path=\"url(#clip990)\" d=\"M1471.26 1533.45 L1471.26 1538.98 Q1468.78 1537.71 1466.11 1537.07 Q1463.43 1536.44 1460.57 1536.44 Q1456.21 1536.44 1454.01 1537.77 Q1451.85 1539.11 1451.85 1541.79 Q1451.85 1543.82 1453.41 1545 Q1454.97 1546.15 1459.68 1547.2 L1461.68 1547.64 Q1467.92 1548.98 1470.53 1551.43 Q1473.17 1553.85 1473.17 1558.21 Q1473.17 1563.17 1469.23 1566.07 Q1465.31 1568.97 1458.44 1568.97 Q1455.57 1568.97 1452.45 1568.39 Q1449.36 1567.85 1445.93 1566.74 L1445.93 1560.69 Q1449.17 1562.38 1452.32 1563.24 Q1455.48 1564.07 1458.56 1564.07 Q1462.7 1564.07 1464.93 1562.66 Q1467.16 1561.23 1467.16 1558.65 Q1467.16 1556.27 1465.53 1554.99 Q1463.94 1553.72 1458.5 1552.54 L1456.46 1552.07 Q1451.02 1550.92 1448.6 1548.56 Q1446.18 1546.18 1446.18 1542.04 Q1446.18 1537.01 1449.75 1534.27 Q1453.31 1531.54 1459.87 1531.54 Q1463.11 1531.54 1465.98 1532.01 Q1468.84 1532.49 1471.26 1533.45 Z\" fill=\"#000000\" fill-rule=\"nonzero\" fill-opacity=\"1\" /><polyline clip-path=\"url(#clip992)\" style=\"stroke:#000000; stroke-linecap:round; stroke-linejoin:round; stroke-width:2; stroke-opacity:0.1; fill:none\" points=\"292.713,1402.52 2352.76,1402.52 \"/>\n",
       "<polyline clip-path=\"url(#clip992)\" style=\"stroke:#000000; stroke-linecap:round; stroke-linejoin:round; stroke-width:2; stroke-opacity:0.1; fill:none\" points=\"292.713,1038.07 2352.76,1038.07 \"/>\n",
       "<polyline clip-path=\"url(#clip992)\" style=\"stroke:#000000; stroke-linecap:round; stroke-linejoin:round; stroke-width:2; stroke-opacity:0.1; fill:none\" points=\"292.713,673.609 2352.76,673.609 \"/>\n",
       "<polyline clip-path=\"url(#clip992)\" style=\"stroke:#000000; stroke-linecap:round; stroke-linejoin:round; stroke-width:2; stroke-opacity:0.1; fill:none\" points=\"292.713,309.153 2352.76,309.153 \"/>\n",
       "<polyline clip-path=\"url(#clip990)\" style=\"stroke:#000000; stroke-linecap:round; stroke-linejoin:round; stroke-width:4; stroke-opacity:1; fill:none\" points=\"292.713,1423.18 292.713,123.472 \"/>\n",
       "<polyline clip-path=\"url(#clip990)\" style=\"stroke:#000000; stroke-linecap:round; stroke-linejoin:round; stroke-width:4; stroke-opacity:1; fill:none\" points=\"292.713,1402.52 311.611,1402.52 \"/>\n",
       "<polyline clip-path=\"url(#clip990)\" style=\"stroke:#000000; stroke-linecap:round; stroke-linejoin:round; stroke-width:4; stroke-opacity:1; fill:none\" points=\"292.713,1038.07 311.611,1038.07 \"/>\n",
       "<polyline clip-path=\"url(#clip990)\" style=\"stroke:#000000; stroke-linecap:round; stroke-linejoin:round; stroke-width:4; stroke-opacity:1; fill:none\" points=\"292.713,673.609 311.611,673.609 \"/>\n",
       "<polyline clip-path=\"url(#clip990)\" style=\"stroke:#000000; stroke-linecap:round; stroke-linejoin:round; stroke-width:4; stroke-opacity:1; fill:none\" points=\"292.713,309.153 311.611,309.153 \"/>\n",
       "<path clip-path=\"url(#clip990)\" d=\"M143.103 1385.24 L165.325 1385.24 L165.325 1387.23 L152.778 1419.8 L147.894 1419.8 L159.7 1389.18 L143.103 1389.18 L143.103 1385.24 Z\" fill=\"#000000\" fill-rule=\"nonzero\" fill-opacity=\"1\" /><path clip-path=\"url(#clip990)\" d=\"M174.491 1385.24 L192.848 1385.24 L192.848 1389.18 L178.774 1389.18 L178.774 1397.65 Q179.792 1397.3 180.811 1397.14 Q181.829 1396.95 182.848 1396.95 Q188.635 1396.95 192.014 1400.13 Q195.394 1403.3 195.394 1408.71 Q195.394 1414.29 191.922 1417.39 Q188.45 1420.47 182.13 1420.47 Q179.954 1420.47 177.686 1420.1 Q175.44 1419.73 173.033 1418.99 L173.033 1414.29 Q175.116 1415.43 177.339 1415.98 Q179.561 1416.54 182.038 1416.54 Q186.042 1416.54 188.38 1414.43 Q190.718 1412.32 190.718 1408.71 Q190.718 1405.1 188.38 1403 Q186.042 1400.89 182.038 1400.89 Q180.163 1400.89 178.288 1401.31 Q176.436 1401.72 174.491 1402.6 L174.491 1385.24 Z\" fill=\"#000000\" fill-rule=\"nonzero\" fill-opacity=\"1\" /><path clip-path=\"url(#clip990)\" d=\"M214.607 1388.32 Q210.996 1388.32 209.167 1391.89 Q207.362 1395.43 207.362 1402.56 Q207.362 1409.66 209.167 1413.23 Q210.996 1416.77 214.607 1416.77 Q218.241 1416.77 220.047 1413.23 Q221.875 1409.66 221.875 1402.56 Q221.875 1395.43 220.047 1391.89 Q218.241 1388.32 214.607 1388.32 M214.607 1384.62 Q220.417 1384.62 223.473 1389.22 Q226.551 1393.81 226.551 1402.56 Q226.551 1411.28 223.473 1415.89 Q220.417 1420.47 214.607 1420.47 Q208.797 1420.47 205.718 1415.89 Q202.662 1411.28 202.662 1402.56 Q202.662 1393.81 205.718 1389.22 Q208.797 1384.62 214.607 1384.62 Z\" fill=\"#000000\" fill-rule=\"nonzero\" fill-opacity=\"1\" /><path clip-path=\"url(#clip990)\" d=\"M244.769 1388.32 Q241.158 1388.32 239.329 1391.89 Q237.523 1395.43 237.523 1402.56 Q237.523 1409.66 239.329 1413.23 Q241.158 1416.77 244.769 1416.77 Q248.403 1416.77 250.209 1413.23 Q252.037 1409.66 252.037 1402.56 Q252.037 1395.43 250.209 1391.89 Q248.403 1388.32 244.769 1388.32 M244.769 1384.62 Q250.579 1384.62 253.634 1389.22 Q256.713 1393.81 256.713 1402.56 Q256.713 1411.28 253.634 1415.89 Q250.579 1420.47 244.769 1420.47 Q238.959 1420.47 235.88 1415.89 Q232.824 1411.28 232.824 1402.56 Q232.824 1393.81 235.88 1389.22 Q238.959 1384.62 244.769 1384.62 Z\" fill=\"#000000\" fill-rule=\"nonzero\" fill-opacity=\"1\" /><path clip-path=\"url(#clip990)\" d=\"M114.931 1051.41 L122.57 1051.41 L122.57 1025.04 L114.26 1026.71 L114.26 1022.45 L122.524 1020.79 L127.2 1020.79 L127.2 1051.41 L134.839 1051.41 L134.839 1055.35 L114.931 1055.35 L114.931 1051.41 Z\" fill=\"#000000\" fill-rule=\"nonzero\" fill-opacity=\"1\" /><path clip-path=\"url(#clip990)\" d=\"M154.283 1023.86 Q150.672 1023.86 148.843 1027.43 Q147.038 1030.97 147.038 1038.1 Q147.038 1045.21 148.843 1048.77 Q150.672 1052.31 154.283 1052.31 Q157.917 1052.31 159.723 1048.77 Q161.552 1045.21 161.552 1038.1 Q161.552 1030.97 159.723 1027.43 Q157.917 1023.86 154.283 1023.86 M154.283 1020.16 Q160.093 1020.16 163.149 1024.77 Q166.227 1029.35 166.227 1038.1 Q166.227 1046.83 163.149 1051.43 Q160.093 1056.02 154.283 1056.02 Q148.473 1056.02 145.394 1051.43 Q142.339 1046.83 142.339 1038.1 Q142.339 1029.35 145.394 1024.77 Q148.473 1020.16 154.283 1020.16 Z\" fill=\"#000000\" fill-rule=\"nonzero\" fill-opacity=\"1\" /><path clip-path=\"url(#clip990)\" d=\"M184.445 1023.86 Q180.834 1023.86 179.005 1027.43 Q177.2 1030.97 177.2 1038.1 Q177.2 1045.21 179.005 1048.77 Q180.834 1052.31 184.445 1052.31 Q188.079 1052.31 189.885 1048.77 Q191.713 1045.21 191.713 1038.1 Q191.713 1030.97 189.885 1027.43 Q188.079 1023.86 184.445 1023.86 M184.445 1020.16 Q190.255 1020.16 193.311 1024.77 Q196.389 1029.35 196.389 1038.1 Q196.389 1046.83 193.311 1051.43 Q190.255 1056.02 184.445 1056.02 Q178.635 1056.02 175.556 1051.43 Q172.501 1046.83 172.501 1038.1 Q172.501 1029.35 175.556 1024.77 Q178.635 1020.16 184.445 1020.16 Z\" fill=\"#000000\" fill-rule=\"nonzero\" fill-opacity=\"1\" /><path clip-path=\"url(#clip990)\" d=\"M214.607 1023.86 Q210.996 1023.86 209.167 1027.43 Q207.362 1030.97 207.362 1038.1 Q207.362 1045.21 209.167 1048.77 Q210.996 1052.31 214.607 1052.31 Q218.241 1052.31 220.047 1048.77 Q221.875 1045.21 221.875 1038.1 Q221.875 1030.97 220.047 1027.43 Q218.241 1023.86 214.607 1023.86 M214.607 1020.16 Q220.417 1020.16 223.473 1024.77 Q226.551 1029.35 226.551 1038.1 Q226.551 1046.83 223.473 1051.43 Q220.417 1056.02 214.607 1056.02 Q208.797 1056.02 205.718 1051.43 Q202.662 1046.83 202.662 1038.1 Q202.662 1029.35 205.718 1024.77 Q208.797 1020.16 214.607 1020.16 Z\" fill=\"#000000\" fill-rule=\"nonzero\" fill-opacity=\"1\" /><path clip-path=\"url(#clip990)\" d=\"M244.769 1023.86 Q241.158 1023.86 239.329 1027.43 Q237.523 1030.97 237.523 1038.1 Q237.523 1045.21 239.329 1048.77 Q241.158 1052.31 244.769 1052.31 Q248.403 1052.31 250.209 1048.77 Q252.037 1045.21 252.037 1038.1 Q252.037 1030.97 250.209 1027.43 Q248.403 1023.86 244.769 1023.86 M244.769 1020.16 Q250.579 1020.16 253.634 1024.77 Q256.713 1029.35 256.713 1038.1 Q256.713 1046.83 253.634 1051.43 Q250.579 1056.02 244.769 1056.02 Q238.959 1056.02 235.88 1051.43 Q232.824 1046.83 232.824 1038.1 Q232.824 1029.35 235.88 1024.77 Q238.959 1020.16 244.769 1020.16 Z\" fill=\"#000000\" fill-rule=\"nonzero\" fill-opacity=\"1\" /><path clip-path=\"url(#clip990)\" d=\"M114.931 686.954 L122.57 686.954 L122.57 660.588 L114.26 662.255 L114.26 657.996 L122.524 656.329 L127.2 656.329 L127.2 686.954 L134.839 686.954 L134.839 690.889 L114.931 690.889 L114.931 686.954 Z\" fill=\"#000000\" fill-rule=\"nonzero\" fill-opacity=\"1\" /><path clip-path=\"url(#clip990)\" d=\"M148.311 686.954 L164.63 686.954 L164.63 690.889 L142.686 690.889 L142.686 686.954 Q145.348 684.199 149.931 679.57 Q154.538 674.917 155.718 673.575 Q157.964 671.051 158.843 669.315 Q159.746 667.556 159.746 665.866 Q159.746 663.112 157.802 661.376 Q155.88 659.639 152.778 659.639 Q150.579 659.639 148.126 660.403 Q145.695 661.167 142.917 662.718 L142.917 657.996 Q145.741 656.862 148.195 656.283 Q150.649 655.704 152.686 655.704 Q158.056 655.704 161.251 658.389 Q164.445 661.075 164.445 665.565 Q164.445 667.695 163.635 669.616 Q162.848 671.514 160.741 674.107 Q160.163 674.778 157.061 677.996 Q153.959 681.19 148.311 686.954 Z\" fill=\"#000000\" fill-rule=\"nonzero\" fill-opacity=\"1\" /><path clip-path=\"url(#clip990)\" d=\"M174.491 656.329 L192.848 656.329 L192.848 660.264 L178.774 660.264 L178.774 668.737 Q179.792 668.389 180.811 668.227 Q181.829 668.042 182.848 668.042 Q188.635 668.042 192.014 671.213 Q195.394 674.385 195.394 679.801 Q195.394 685.38 191.922 688.482 Q188.45 691.561 182.13 691.561 Q179.954 691.561 177.686 691.19 Q175.44 690.82 173.033 690.079 L173.033 685.38 Q175.116 686.514 177.339 687.07 Q179.561 687.625 182.038 687.625 Q186.042 687.625 188.38 685.519 Q190.718 683.412 190.718 679.801 Q190.718 676.19 188.38 674.084 Q186.042 671.977 182.038 671.977 Q180.163 671.977 178.288 672.394 Q176.436 672.811 174.491 673.69 L174.491 656.329 Z\" fill=\"#000000\" fill-rule=\"nonzero\" fill-opacity=\"1\" /><path clip-path=\"url(#clip990)\" d=\"M214.607 659.408 Q210.996 659.408 209.167 662.973 Q207.362 666.514 207.362 673.644 Q207.362 680.75 209.167 684.315 Q210.996 687.857 214.607 687.857 Q218.241 687.857 220.047 684.315 Q221.875 680.75 221.875 673.644 Q221.875 666.514 220.047 662.973 Q218.241 659.408 214.607 659.408 M214.607 655.704 Q220.417 655.704 223.473 660.311 Q226.551 664.894 226.551 673.644 Q226.551 682.371 223.473 686.977 Q220.417 691.561 214.607 691.561 Q208.797 691.561 205.718 686.977 Q202.662 682.371 202.662 673.644 Q202.662 664.894 205.718 660.311 Q208.797 655.704 214.607 655.704 Z\" fill=\"#000000\" fill-rule=\"nonzero\" fill-opacity=\"1\" /><path clip-path=\"url(#clip990)\" d=\"M244.769 659.408 Q241.158 659.408 239.329 662.973 Q237.523 666.514 237.523 673.644 Q237.523 680.75 239.329 684.315 Q241.158 687.857 244.769 687.857 Q248.403 687.857 250.209 684.315 Q252.037 680.75 252.037 673.644 Q252.037 666.514 250.209 662.973 Q248.403 659.408 244.769 659.408 M244.769 655.704 Q250.579 655.704 253.634 660.311 Q256.713 664.894 256.713 673.644 Q256.713 682.371 253.634 686.977 Q250.579 691.561 244.769 691.561 Q238.959 691.561 235.88 686.977 Q232.824 682.371 232.824 673.644 Q232.824 664.894 235.88 660.311 Q238.959 655.704 244.769 655.704 Z\" fill=\"#000000\" fill-rule=\"nonzero\" fill-opacity=\"1\" /><path clip-path=\"url(#clip990)\" d=\"M114.931 322.498 L122.57 322.498 L122.57 296.132 L114.26 297.799 L114.26 293.54 L122.524 291.873 L127.2 291.873 L127.2 322.498 L134.839 322.498 L134.839 326.433 L114.931 326.433 L114.931 322.498 Z\" fill=\"#000000\" fill-rule=\"nonzero\" fill-opacity=\"1\" /><path clip-path=\"url(#clip990)\" d=\"M144.329 291.873 L162.686 291.873 L162.686 295.808 L148.612 295.808 L148.612 304.28 Q149.63 303.933 150.649 303.771 Q151.667 303.586 152.686 303.586 Q158.473 303.586 161.852 306.757 Q165.232 309.929 165.232 315.345 Q165.232 320.924 161.76 324.026 Q158.288 327.104 151.968 327.104 Q149.792 327.104 147.524 326.734 Q145.279 326.364 142.871 325.623 L142.871 320.924 Q144.954 322.058 147.177 322.614 Q149.399 323.169 151.876 323.169 Q155.88 323.169 158.218 321.063 Q160.556 318.956 160.556 315.345 Q160.556 311.734 158.218 309.628 Q155.88 307.521 151.876 307.521 Q150.001 307.521 148.126 307.938 Q146.274 308.354 144.329 309.234 L144.329 291.873 Z\" fill=\"#000000\" fill-rule=\"nonzero\" fill-opacity=\"1\" /><path clip-path=\"url(#clip990)\" d=\"M184.445 294.952 Q180.834 294.952 179.005 298.517 Q177.2 302.058 177.2 309.188 Q177.2 316.294 179.005 319.859 Q180.834 323.401 184.445 323.401 Q188.079 323.401 189.885 319.859 Q191.713 316.294 191.713 309.188 Q191.713 302.058 189.885 298.517 Q188.079 294.952 184.445 294.952 M184.445 291.248 Q190.255 291.248 193.311 295.855 Q196.389 300.438 196.389 309.188 Q196.389 317.915 193.311 322.521 Q190.255 327.104 184.445 327.104 Q178.635 327.104 175.556 322.521 Q172.501 317.915 172.501 309.188 Q172.501 300.438 175.556 295.855 Q178.635 291.248 184.445 291.248 Z\" fill=\"#000000\" fill-rule=\"nonzero\" fill-opacity=\"1\" /><path clip-path=\"url(#clip990)\" d=\"M214.607 294.952 Q210.996 294.952 209.167 298.517 Q207.362 302.058 207.362 309.188 Q207.362 316.294 209.167 319.859 Q210.996 323.401 214.607 323.401 Q218.241 323.401 220.047 319.859 Q221.875 316.294 221.875 309.188 Q221.875 302.058 220.047 298.517 Q218.241 294.952 214.607 294.952 M214.607 291.248 Q220.417 291.248 223.473 295.855 Q226.551 300.438 226.551 309.188 Q226.551 317.915 223.473 322.521 Q220.417 327.104 214.607 327.104 Q208.797 327.104 205.718 322.521 Q202.662 317.915 202.662 309.188 Q202.662 300.438 205.718 295.855 Q208.797 291.248 214.607 291.248 Z\" fill=\"#000000\" fill-rule=\"nonzero\" fill-opacity=\"1\" /><path clip-path=\"url(#clip990)\" d=\"M244.769 294.952 Q241.158 294.952 239.329 298.517 Q237.523 302.058 237.523 309.188 Q237.523 316.294 239.329 319.859 Q241.158 323.401 244.769 323.401 Q248.403 323.401 250.209 319.859 Q252.037 316.294 252.037 309.188 Q252.037 302.058 250.209 298.517 Q248.403 294.952 244.769 294.952 M244.769 291.248 Q250.579 291.248 253.634 295.855 Q256.713 300.438 256.713 309.188 Q256.713 317.915 253.634 322.521 Q250.579 327.104 244.769 327.104 Q238.959 327.104 235.88 322.521 Q232.824 317.915 232.824 309.188 Q232.824 300.438 235.88 295.855 Q238.959 291.248 244.769 291.248 Z\" fill=\"#000000\" fill-rule=\"nonzero\" fill-opacity=\"1\" /><path clip-path=\"url(#clip990)\" d=\"M20.1444 808.528 L26.9239 808.528 Q23.9002 811.775 22.4043 815.467 Q20.9083 819.127 20.9083 823.265 Q20.9083 831.413 25.9054 835.742 Q30.8707 840.07 40.2919 840.07 Q49.6813 840.07 54.6784 835.742 Q59.6436 831.413 59.6436 823.265 Q59.6436 819.127 58.1477 815.467 Q56.6518 811.775 53.6281 808.528 L60.3439 808.528 Q62.6355 811.902 63.7814 815.69 Q64.9272 819.446 64.9272 823.647 Q64.9272 834.437 58.3387 840.643 Q51.7183 846.85 40.2919 846.85 Q28.8336 846.85 22.2451 840.643 Q15.6248 834.437 15.6248 823.647 Q15.6248 819.382 16.7706 815.626 Q17.8846 811.839 20.1444 808.528 Z\" fill=\"#000000\" fill-rule=\"nonzero\" fill-opacity=\"1\" /><path clip-path=\"url(#clip990)\" d=\"M32.4621 785.039 Q32.4621 789.75 36.1542 792.487 Q39.8145 795.224 46.212 795.224 Q52.6095 795.224 56.3017 792.519 Q59.9619 789.781 59.9619 785.039 Q59.9619 780.36 56.2698 777.623 Q52.5777 774.886 46.212 774.886 Q39.8781 774.886 36.186 777.623 Q32.4621 780.36 32.4621 785.039 M27.4968 785.039 Q27.4968 777.4 32.4621 773.04 Q37.4273 768.679 46.212 768.679 Q54.9649 768.679 59.9619 773.04 Q64.9272 777.4 64.9272 785.039 Q64.9272 792.71 59.9619 797.07 Q54.9649 801.399 46.212 801.399 Q37.4273 801.399 32.4621 797.07 Q27.4968 792.71 27.4968 785.039 Z\" fill=\"#000000\" fill-rule=\"nonzero\" fill-opacity=\"1\" /><path clip-path=\"url(#clip990)\" d=\"M49.9359 759.576 L28.3562 759.576 L28.3562 753.72 L49.7131 753.72 Q54.7739 753.72 57.3202 751.746 Q59.8346 749.773 59.8346 745.826 Q59.8346 741.084 56.8109 738.346 Q53.7872 735.577 48.5673 735.577 L28.3562 735.577 L28.3562 729.721 L64.0042 729.721 L64.0042 735.577 L58.5296 735.577 Q61.7762 737.71 63.3676 740.543 Q64.9272 743.344 64.9272 747.067 Q64.9272 753.21 61.1078 756.393 Q57.2883 759.576 49.9359 759.576 M27.4968 744.839 L27.4968 744.839 M11.869 747.258 L11.869 742.548 L23.8365 734.75 L23.8365 739.174 L16.0386 744.903 L23.8365 750.632 L23.8365 755.056 L11.869 747.258 Z\" fill=\"#000000\" fill-rule=\"nonzero\" fill-opacity=\"1\" /><path clip-path=\"url(#clip990)\" d=\"M18.2347 711.865 L28.3562 711.865 L28.3562 699.802 L32.9077 699.802 L32.9077 711.865 L52.2594 711.865 Q56.6199 711.865 57.8613 710.687 Q59.1026 709.478 59.1026 705.818 L59.1026 699.802 L64.0042 699.802 L64.0042 705.818 Q64.0042 712.597 61.4897 715.175 Q58.9434 717.753 52.2594 717.753 L32.9077 717.753 L32.9077 722.05 L28.3562 722.05 L28.3562 717.753 L18.2347 717.753 L18.2347 711.865 Z\" fill=\"#000000\" fill-rule=\"nonzero\" fill-opacity=\"1\" /><path clip-path=\"url(#clip990)\" d=\"M964.655 12.096 L1002.9 12.096 L1002.9 18.9825 L972.838 18.9825 L972.838 36.8875 L1001.64 36.8875 L1001.64 43.7741 L972.838 43.7741 L972.838 65.6895 L1003.62 65.6895 L1003.62 72.576 L964.655 72.576 L964.655 12.096 M985.882 -4.35067 L993.376 -4.35067 L984.14 6.34372 L977.942 6.34372 L985.882 -4.35067 Z\" fill=\"#000000\" fill-rule=\"nonzero\" fill-opacity=\"1\" /><path clip-path=\"url(#clip990)\" d=\"M1011.4 27.2059 L1019.3 27.2059 L1033.48 65.2844 L1047.66 27.2059 L1055.56 27.2059 L1038.54 72.576 L1028.42 72.576 L1011.4 27.2059 Z\" fill=\"#000000\" fill-rule=\"nonzero\" fill-opacity=\"1\" /><path clip-path=\"url(#clip990)\" d=\"M1083.43 32.4315 Q1077.43 32.4315 1073.95 37.1306 Q1070.46 41.7891 1070.46 49.9314 Q1070.46 58.0738 1073.91 62.7728 Q1077.39 67.4314 1083.43 67.4314 Q1089.38 67.4314 1092.87 62.7323 Q1096.35 58.0333 1096.35 49.9314 Q1096.35 41.8701 1092.87 37.1711 Q1089.38 32.4315 1083.43 32.4315 M1083.43 26.1121 Q1093.15 26.1121 1098.7 32.4315 Q1104.25 38.7509 1104.25 49.9314 Q1104.25 61.0714 1098.7 67.4314 Q1093.15 73.7508 1083.43 73.7508 Q1073.66 73.7508 1068.11 67.4314 Q1062.61 61.0714 1062.61 49.9314 Q1062.61 38.7509 1068.11 32.4315 Q1073.66 26.1121 1083.43 26.1121 Z\" fill=\"#000000\" fill-rule=\"nonzero\" fill-opacity=\"1\" /><path clip-path=\"url(#clip990)\" d=\"M1116.6 9.54393 L1124.06 9.54393 L1124.06 72.576 L1116.6 72.576 L1116.6 9.54393 Z\" fill=\"#000000\" fill-rule=\"nonzero\" fill-opacity=\"1\" /><path clip-path=\"url(#clip990)\" d=\"M1138.88 54.671 L1138.88 27.2059 L1146.34 27.2059 L1146.34 54.3874 Q1146.34 60.8284 1148.85 64.0691 Q1151.36 67.2693 1156.38 67.2693 Q1162.42 67.2693 1165.9 63.421 Q1169.43 59.5726 1169.43 52.9291 L1169.43 27.2059 L1176.88 27.2059 L1176.88 72.576 L1169.43 72.576 L1169.43 65.6084 Q1166.71 69.7404 1163.11 71.7658 Q1159.54 73.7508 1154.8 73.7508 Q1146.99 73.7508 1142.94 68.8897 Q1138.88 64.0286 1138.88 54.671 M1157.64 26.1121 L1157.64 26.1121 Z\" fill=\"#000000\" fill-rule=\"nonzero\" fill-opacity=\"1\" /><path clip-path=\"url(#clip990)\" d=\"M1199.61 14.324 L1199.61 27.2059 L1214.96 27.2059 L1214.96 32.9987 L1199.61 32.9987 L1199.61 57.6282 Q1199.61 63.1779 1201.11 64.7578 Q1202.65 66.3376 1207.3 66.3376 L1214.96 66.3376 L1214.96 72.576 L1207.3 72.576 Q1198.68 72.576 1195.39 69.3758 Q1192.11 66.1351 1192.11 57.6282 L1192.11 32.9987 L1186.64 32.9987 L1186.64 27.2059 L1192.11 27.2059 L1192.11 14.324 L1199.61 14.324 Z\" fill=\"#000000\" fill-rule=\"nonzero\" fill-opacity=\"1\" /><path clip-path=\"url(#clip990)\" d=\"M1224.76 27.2059 L1232.22 27.2059 L1232.22 72.576 L1224.76 72.576 L1224.76 27.2059 M1224.76 9.54393 L1232.22 9.54393 L1232.22 18.9825 L1224.76 18.9825 L1224.76 9.54393 Z\" fill=\"#000000\" fill-rule=\"nonzero\" fill-opacity=\"1\" /><path clip-path=\"url(#clip990)\" d=\"M1265.39 32.4315 Q1259.4 32.4315 1255.91 37.1306 Q1252.43 41.7891 1252.43 49.9314 Q1252.43 58.0738 1255.87 62.7728 Q1259.36 67.4314 1265.39 67.4314 Q1271.35 67.4314 1274.83 62.7323 Q1278.32 58.0333 1278.32 49.9314 Q1278.32 41.8701 1274.83 37.1711 Q1271.35 32.4315 1265.39 32.4315 M1265.39 26.1121 Q1275.12 26.1121 1280.67 32.4315 Q1286.22 38.7509 1286.22 49.9314 Q1286.22 61.0714 1280.67 67.4314 Q1275.12 73.7508 1265.39 73.7508 Q1255.63 73.7508 1250.08 67.4314 Q1244.57 61.0714 1244.57 49.9314 Q1244.57 38.7509 1250.08 32.4315 Q1255.63 26.1121 1265.39 26.1121 Z\" fill=\"#000000\" fill-rule=\"nonzero\" fill-opacity=\"1\" /><path clip-path=\"url(#clip990)\" d=\"M1336.28 45.1919 L1336.28 72.576 L1328.83 72.576 L1328.83 45.4349 Q1328.83 38.994 1326.32 35.7938 Q1323.81 32.5936 1318.78 32.5936 Q1312.75 32.5936 1309.27 36.4419 Q1305.78 40.2903 1305.78 46.9338 L1305.78 72.576 L1298.29 72.576 L1298.29 27.2059 L1305.78 27.2059 L1305.78 34.2544 Q1308.46 30.163 1312.06 28.1376 Q1315.71 26.1121 1320.45 26.1121 Q1328.26 26.1121 1332.27 30.9732 Q1336.28 35.7938 1336.28 45.1919 Z\" fill=\"#000000\" fill-rule=\"nonzero\" fill-opacity=\"1\" /><path clip-path=\"url(#clip990)\" d=\"M1407.38 34.0924 L1407.38 9.54393 L1414.83 9.54393 L1414.83 72.576 L1407.38 72.576 L1407.38 65.7705 Q1405.03 69.8214 1401.42 71.8063 Q1397.86 73.7508 1392.84 73.7508 Q1384.61 73.7508 1379.43 67.1883 Q1374.28 60.6258 1374.28 49.9314 Q1374.28 39.2371 1379.43 32.6746 Q1384.61 26.1121 1392.84 26.1121 Q1397.86 26.1121 1401.42 28.0971 Q1405.03 30.0415 1407.38 34.0924 M1381.98 49.9314 Q1381.98 58.1548 1385.34 62.8538 Q1388.74 67.5124 1394.66 67.5124 Q1400.57 67.5124 1403.98 62.8538 Q1407.38 58.1548 1407.38 49.9314 Q1407.38 41.7081 1403.98 37.0496 Q1400.57 32.3505 1394.66 32.3505 Q1388.74 32.3505 1385.34 37.0496 Q1381.98 41.7081 1381.98 49.9314 Z\" fill=\"#000000\" fill-rule=\"nonzero\" fill-opacity=\"1\" /><path clip-path=\"url(#clip990)\" d=\"M1429.42 54.671 L1429.42 27.2059 L1436.87 27.2059 L1436.87 54.3874 Q1436.87 60.8284 1439.38 64.0691 Q1441.89 67.2693 1446.91 67.2693 Q1452.95 67.2693 1456.43 63.421 Q1459.96 59.5726 1459.96 52.9291 L1459.96 27.2059 L1467.41 27.2059 L1467.41 72.576 L1459.96 72.576 L1459.96 65.6084 Q1457.24 69.7404 1453.64 71.7658 Q1450.07 73.7508 1445.34 73.7508 Q1437.52 73.7508 1433.47 68.8897 Q1429.42 64.0286 1429.42 54.671 M1448.17 26.1121 L1448.17 26.1121 Z\" fill=\"#000000\" fill-rule=\"nonzero\" fill-opacity=\"1\" /><path clip-path=\"url(#clip990)\" d=\"M1541.79 28.9478 L1541.79 35.9153 Q1538.63 34.1734 1535.43 33.3227 Q1532.27 32.4315 1529.03 32.4315 Q1521.78 32.4315 1517.77 37.0496 Q1513.75 41.6271 1513.75 49.9314 Q1513.75 58.2358 1517.77 62.8538 Q1521.78 67.4314 1529.03 67.4314 Q1532.27 67.4314 1535.43 66.5807 Q1538.63 65.6895 1541.79 63.9476 L1541.79 70.8341 Q1538.67 72.2924 1535.31 73.0216 Q1531.98 73.7508 1528.22 73.7508 Q1517.97 73.7508 1511.93 67.3098 Q1505.9 60.8689 1505.9 49.9314 Q1505.9 38.832 1511.97 32.472 Q1518.09 26.1121 1528.7 26.1121 Q1532.15 26.1121 1535.43 26.8413 Q1538.71 27.5299 1541.79 28.9478 Z\" fill=\"#000000\" fill-rule=\"nonzero\" fill-opacity=\"1\" /><path clip-path=\"url(#clip990)\" d=\"M1572.33 32.4315 Q1566.34 32.4315 1562.85 37.1306 Q1559.37 41.7891 1559.37 49.9314 Q1559.37 58.0738 1562.81 62.7728 Q1566.3 67.4314 1572.33 67.4314 Q1578.29 67.4314 1581.77 62.7323 Q1585.25 58.0333 1585.25 49.9314 Q1585.25 41.8701 1581.77 37.1711 Q1578.29 32.4315 1572.33 32.4315 M1572.33 26.1121 Q1582.05 26.1121 1587.6 32.4315 Q1593.15 38.7509 1593.15 49.9314 Q1593.15 61.0714 1587.6 67.4314 Q1582.05 73.7508 1572.33 73.7508 Q1562.57 73.7508 1557.02 67.4314 Q1551.51 61.0714 1551.51 49.9314 Q1551.51 38.7509 1557.02 32.4315 Q1562.57 26.1121 1572.33 26.1121 Z\" fill=\"#000000\" fill-rule=\"nonzero\" fill-opacity=\"1\" /><path clip-path=\"url(#clip990)\" d=\"M1604.74 54.671 L1604.74 27.2059 L1612.19 27.2059 L1612.19 54.3874 Q1612.19 60.8284 1614.7 64.0691 Q1617.21 67.2693 1622.24 67.2693 Q1628.27 67.2693 1631.76 63.421 Q1635.28 59.5726 1635.28 52.9291 L1635.28 27.2059 L1642.74 27.2059 L1642.74 72.576 L1635.28 72.576 L1635.28 65.6084 Q1632.57 69.7404 1628.96 71.7658 Q1625.4 73.7508 1620.66 73.7508 Q1612.84 73.7508 1608.79 68.8897 Q1604.74 64.0286 1604.74 54.671 M1623.49 26.1121 L1623.49 26.1121 M1620.42 6.22219 L1626.41 6.22219 L1636.34 21.4536 L1630.7 21.4536 L1623.41 11.5289 L1616.12 21.4536 L1610.49 21.4536 L1620.42 6.22219 Z\" fill=\"#000000\" fill-rule=\"nonzero\" fill-opacity=\"1\" /><path clip-path=\"url(#clip990)\" d=\"M1665.46 14.324 L1665.46 27.2059 L1680.81 27.2059 L1680.81 32.9987 L1665.46 32.9987 L1665.46 57.6282 Q1665.46 63.1779 1666.96 64.7578 Q1668.5 66.3376 1673.16 66.3376 L1680.81 66.3376 L1680.81 72.576 L1673.16 72.576 Q1664.53 72.576 1661.25 69.3758 Q1657.97 66.1351 1657.97 57.6282 L1657.97 32.9987 L1652.5 32.9987 L1652.5 27.2059 L1657.97 27.2059 L1657.97 14.324 L1665.46 14.324 Z\" fill=\"#000000\" fill-rule=\"nonzero\" fill-opacity=\"1\" /><polyline clip-path=\"url(#clip992)\" style=\"stroke:#009af9; stroke-linecap:round; stroke-linejoin:round; stroke-width:4; stroke-opacity:1; fill:none\" points=\"351.016,160.256 351.794,160.256 352.572,171.788 353.349,171.788 354.127,172.314 354.905,172.314 355.682,172.314 356.46,172.314 357.238,172.314 358.015,172.314 358.793,172.314 359.571,172.314 360.348,172.314 361.126,172.314 361.904,172.314 362.681,172.314 363.459,172.314 364.237,172.314 365.015,172.314 365.792,172.314 366.57,172.314 367.348,172.314 368.125,172.314 368.903,200.927 369.681,200.927 370.458,200.927 371.236,201.955 372.014,223.616 372.791,223.616 373.569,223.616 374.347,223.616 375.124,223.616 375.902,223.616 376.68,223.616 377.458,223.616 378.235,223.616 379.013,223.616 379.791,223.616 380.568,246.512 381.346,246.512 382.124,246.512 382.901,246.512 383.679,246.512 384.457,246.512 385.234,246.512 386.012,246.512 386.79,246.512 387.567,246.512 388.345,252.021 389.123,252.021 389.9,252.021 390.678,252.021 391.456,252.021 392.234,252.021 393.011,252.021 393.789,252.021 394.567,252.021 395.344,252.021 396.122,252.021 396.9,252.021 397.677,252.021 398.455,252.021 399.233,252.021 400.01,252.021 400.788,258.207 401.566,258.207 402.343,258.207 403.121,258.207 403.899,258.207 404.677,258.207 405.454,258.207 406.232,258.207 407.01,258.207 407.787,258.207 408.565,258.207 409.343,258.207 410.12,258.207 410.898,263.786 411.676,263.786 412.453,263.786 413.231,263.786 414.009,263.786 414.786,263.786 415.564,263.786 416.342,276.265 417.119,276.265 417.897,276.265 418.675,276.265 419.453,276.265 420.23,276.265 421.008,276.265 421.786,276.265 422.563,276.265 423.341,276.265 424.119,276.265 424.896,276.265 425.674,276.265 426.452,289.227 427.229,289.227 428.007,289.227 428.785,289.227 429.562,289.227 430.34,289.227 431.118,289.227 431.896,289.227 432.673,289.227 433.451,289.227 434.229,289.227 435.006,289.227 435.784,289.227 436.562,289.227 437.339,289.227 438.117,453.248 438.895,458.504 439.672,458.504 440.45,458.504 441.228,458.504 442.005,458.504 442.783,458.504 443.561,458.504 444.338,458.504 445.116,477.841 445.894,477.841 446.672,477.841 447.449,477.841 448.227,477.841 449.005,477.841 449.782,477.841 450.56,477.841 451.338,477.841 452.115,477.841 452.893,528.797 453.671,528.797 454.448,528.797 455.226,528.797 456.004,528.797 456.781,528.797 457.559,528.797 458.337,528.797 459.115,528.797 459.892,528.797 460.67,528.797 461.448,528.797 462.225,528.797 463.003,528.797 463.781,528.797 464.558,528.797 465.336,528.797 466.114,528.797 466.891,528.797 467.669,528.797 468.447,528.797 469.224,528.797 470.002,528.797 470.78,528.797 471.557,528.797 472.335,528.797 473.113,528.797 473.891,528.797 474.668,528.797 475.446,528.797 476.224,528.797 477.001,528.797 477.779,528.797 478.557,528.797 479.334,528.797 480.112,528.797 480.89,528.797 481.667,528.797 482.445,528.797 483.223,528.797 484,528.797 484.778,528.797 485.556,528.797 486.334,528.797 487.111,528.797 487.889,528.797 488.667,528.797 489.444,528.797 490.222,528.797 491,528.797 491.777,576.455 492.555,576.455 493.333,576.455 494.11,588.666 494.888,588.666 495.666,588.666 496.443,588.666 497.221,588.666 497.999,588.666 498.776,588.666 499.554,588.666 500.332,588.666 501.11,588.666 501.887,588.666 502.665,588.666 503.443,588.666 504.22,588.666 504.998,588.666 505.776,588.666 506.553,588.666 507.331,588.666 508.109,588.666 508.886,588.666 509.664,588.666 510.442,588.666 511.219,588.666 511.997,588.666 512.775,588.666 513.553,588.666 514.33,588.666 515.108,588.666 515.886,588.666 516.663,588.666 517.441,588.666 518.219,588.666 518.996,588.666 519.774,588.666 520.552,588.666 521.329,588.666 522.107,588.666 522.885,588.666 523.662,588.666 524.44,588.666 525.218,588.666 525.995,588.666 526.773,588.666 527.551,588.666 528.329,588.666 529.106,588.666 529.884,588.666 530.662,588.666 531.439,588.666 532.217,588.666 532.995,588.666 533.772,588.666 534.55,588.666 535.328,588.666 536.105,588.666 536.883,588.666 537.661,588.666 538.438,588.666 539.216,588.666 539.994,588.666 540.772,588.666 541.549,588.666 542.327,588.666 543.105,588.666 543.882,588.666 544.66,588.666 545.438,588.666 546.215,588.666 546.993,588.666 547.771,628.292 548.548,662.916 549.326,662.916 550.104,662.916 550.881,662.916 551.659,683.151 552.437,683.151 553.214,683.151 553.992,688.838 554.77,688.838 555.548,688.838 556.325,688.838 557.103,688.838 557.881,688.838 558.658,688.838 559.436,688.838 560.214,688.838 560.991,688.838 561.769,688.838 562.547,688.838 563.324,688.838 564.102,688.838 564.88,688.838 565.657,688.838 566.435,688.838 567.213,688.838 567.991,688.838 568.768,688.838 569.546,688.838 570.324,688.838 571.101,693.743 571.879,693.743 572.657,693.743 573.434,693.743 574.212,693.743 574.99,693.743 575.767,693.743 576.545,693.743 577.323,693.743 578.1,693.743 578.878,693.743 579.656,693.743 580.433,693.743 581.211,693.743 581.989,693.743 582.767,693.743 583.544,693.743 584.322,693.743 585.1,693.743 585.877,693.743 586.655,693.743 587.433,706.097 588.21,706.097 588.988,706.097 589.766,706.097 590.543,706.097 591.321,706.097 592.099,706.097 592.876,706.097 593.654,706.097 594.432,706.097 595.21,706.097 595.987,706.097 596.765,706.097 597.543,706.097 598.32,706.097 599.098,706.097 599.876,706.097 600.653,706.097 601.431,706.097 602.209,706.097 602.986,706.097 603.764,706.097 604.542,706.097 605.319,706.097 606.097,706.097 606.875,707.071 607.652,707.071 608.43,707.071 609.208,707.071 609.986,707.071 610.763,754.418 611.541,754.418 612.319,754.418 613.096,754.418 613.874,754.418 614.652,754.418 615.429,754.418 616.207,754.418 616.985,754.418 617.762,754.418 618.54,754.418 619.318,754.814 620.095,754.814 620.873,754.814 621.651,754.814 622.429,754.814 623.206,754.814 623.984,754.814 624.762,754.814 625.539,754.814 626.317,772.446 627.095,772.446 627.872,772.446 628.65,772.446 629.428,772.446 630.205,772.446 630.983,772.446 631.761,772.446 632.538,772.446 633.316,772.446 634.094,772.446 634.871,772.446 635.649,772.446 636.427,772.446 637.205,772.446 637.982,772.446 638.76,772.446 639.538,772.446 640.315,772.446 641.093,778.554 641.871,778.554 642.648,778.554 643.426,778.554 644.204,778.554 644.981,778.554 645.759,778.554 646.537,778.554 647.314,778.554 648.092,778.554 648.87,778.554 649.648,778.554 650.425,778.554 651.203,778.554 651.981,778.554 652.758,778.554 653.536,778.554 654.314,778.554 655.091,778.554 655.869,778.554 656.647,778.554 657.424,778.554 658.202,778.554 658.98,778.554 659.757,778.554 660.535,778.554 661.313,778.554 662.09,778.554 662.868,778.554 663.646,778.554 664.424,778.554 665.201,778.554 665.979,778.554 666.757,778.554 667.534,778.554 668.312,778.554 669.09,778.554 669.867,778.554 670.645,778.554 671.423,778.554 672.2,778.554 672.978,778.554 673.756,778.554 674.533,778.554 675.311,778.554 676.089,778.554 676.867,778.554 677.644,778.554 678.422,778.554 679.2,778.554 679.977,778.554 680.755,778.554 681.533,778.554 682.31,778.554 683.088,778.554 683.866,778.554 684.643,795.773 685.421,795.773 686.199,795.773 686.976,795.773 687.754,795.773 688.532,795.773 689.309,795.773 690.087,795.773 690.865,795.773 691.643,795.773 692.42,795.773 693.198,795.773 693.976,795.773 694.753,795.773 695.531,795.773 696.309,795.773 697.086,795.773 697.864,795.773 698.642,795.773 699.419,795.773 700.197,795.773 700.975,795.773 701.752,801.717 702.53,801.717 703.308,801.717 704.086,801.717 704.863,801.717 705.641,801.857 706.419,801.857 707.196,801.857 707.974,801.857 708.752,801.857 709.529,801.857 710.307,801.857 711.085,801.857 711.862,862.151 712.64,862.151 713.418,862.151 714.195,862.151 714.973,862.151 715.751,862.151 716.528,862.151 717.306,862.151 718.084,862.151 718.862,862.151 719.639,882.444 720.417,882.444 721.195,882.444 721.972,882.444 722.75,882.444 723.528,882.444 724.305,882.444 725.083,882.444 725.861,952.277 726.638,952.277 727.416,953.267 728.194,953.267 728.971,953.267 729.749,953.267 730.527,953.267 731.305,953.267 732.082,953.267 732.86,953.267 733.638,953.267 734.415,953.267 735.193,954.459 735.971,954.459 736.748,954.459 737.526,954.459 738.304,954.459 739.081,954.459 739.859,954.459 740.637,954.459 741.414,954.459 742.192,954.459 742.97,954.459 743.747,954.459 744.525,954.459 745.303,954.459 746.081,954.459 746.858,954.459 747.636,954.459 748.414,954.459 749.191,954.459 749.969,954.459 750.747,954.459 751.524,954.459 752.302,954.459 753.08,954.459 753.857,954.459 754.635,954.459 755.413,954.459 756.19,954.459 756.968,954.459 757.746,954.459 758.524,954.459 759.301,954.459 760.079,954.459 760.857,954.459 761.634,954.459 762.412,954.459 763.19,954.459 763.967,954.459 764.745,954.459 765.523,954.459 766.3,954.459 767.078,954.459 767.856,954.459 768.633,954.459 769.411,954.459 770.189,954.459 770.966,954.459 771.744,984.253 772.522,984.253 773.3,984.253 774.077,984.253 774.855,984.253 775.633,984.253 776.41,984.253 777.188,984.253 777.966,984.253 778.743,984.253 779.521,984.253 780.299,984.253 781.076,984.253 781.854,984.253 782.632,984.253 783.409,984.253 784.187,984.253 784.965,984.253 785.743,984.253 786.52,984.253 787.298,984.253 788.076,984.253 788.853,984.253 789.631,984.253 790.409,984.253 791.186,984.253 791.964,984.253 792.742,984.253 793.519,984.253 794.297,984.253 795.075,984.253 795.852,984.253 796.63,984.253 797.408,984.253 798.185,984.253 798.963,984.253 799.741,984.253 800.519,984.253 801.296,984.253 802.074,991.263 802.852,991.263 803.629,991.263 804.407,991.263 805.185,991.263 805.962,991.263 806.74,991.263 807.518,991.263 808.295,991.263 809.073,991.263 809.851,991.263 810.628,991.263 811.406,991.263 812.184,991.263 812.962,991.263 813.739,991.263 814.517,991.263 815.295,991.263 816.072,991.263 816.85,991.263 817.628,991.263 818.405,991.263 819.183,991.263 819.961,991.263 820.738,991.263 821.516,991.263 822.294,991.263 823.071,991.263 823.849,991.263 824.627,991.263 825.404,991.263 826.182,991.263 826.96,991.263 827.738,991.263 828.515,991.263 829.293,991.263 830.071,1009.15 830.848,1009.15 831.626,1009.15 832.404,1009.15 833.181,1009.15 833.959,1009.15 834.737,1009.15 835.514,1009.15 836.292,1009.15 837.07,1009.15 837.847,1009.15 838.625,1009.15 839.403,1009.15 840.181,1009.15 840.958,1009.15 841.736,1009.15 842.514,1009.15 843.291,1009.15 844.069,1009.15 844.847,1009.15 845.624,1009.15 846.402,1009.15 847.18,1009.15 847.957,1027.23 848.735,1027.23 849.513,1027.23 850.29,1027.23 851.068,1027.23 851.846,1027.23 852.623,1027.23 853.401,1027.23 854.179,1027.23 854.957,1027.23 855.734,1027.23 856.512,1027.23 857.29,1027.23 858.067,1027.23 858.845,1027.23 859.623,1027.23 860.4,1027.23 861.178,1074.94 861.956,1074.94 862.733,1131.34 863.511,1131.34 864.289,1131.34 865.066,1131.34 865.844,1131.34 866.622,1131.34 867.4,1131.34 868.177,1168.28 868.955,1168.28 869.733,1175.61 870.51,1175.61 871.288,1175.61 872.066,1176.3 872.843,1176.3 873.621,1176.3 874.399,1176.3 875.176,1176.3 875.954,1176.3 876.732,1176.3 877.509,1176.3 878.287,1176.3 879.065,1176.3 879.842,1186.55 880.62,1186.55 881.398,1186.55 882.176,1186.55 882.953,1186.55 883.731,1186.55 884.509,1186.55 885.286,1186.55 886.064,1186.55 886.842,1186.55 887.619,1186.55 888.397,1186.55 889.175,1186.55 889.952,1186.55 890.73,1186.55 891.508,1186.55 892.285,1186.55 893.063,1186.55 893.841,1186.55 894.619,1186.55 895.396,1186.55 896.174,1186.55 896.952,1186.55 897.729,1186.55 898.507,1186.55 899.285,1186.55 900.062,1186.55 900.84,1186.55 901.618,1186.55 902.395,1186.55 903.173,1186.55 903.951,1186.55 904.728,1186.55 905.506,1186.55 906.284,1186.55 907.061,1186.55 907.839,1186.55 908.617,1186.55 909.395,1186.55 910.172,1186.55 910.95,1186.55 911.728,1186.55 912.505,1186.55 913.283,1186.55 914.061,1186.55 914.838,1186.55 915.616,1186.55 916.394,1186.55 917.171,1186.55 917.949,1186.55 918.727,1186.55 919.504,1186.55 920.282,1186.55 921.06,1186.55 921.838,1186.55 922.615,1186.55 923.393,1186.55 924.171,1186.55 924.948,1186.55 925.726,1186.55 926.504,1186.55 927.281,1186.55 928.059,1186.55 928.837,1186.55 929.614,1195.06 930.392,1195.06 931.17,1195.06 931.947,1195.06 932.725,1195.06 933.503,1195.06 934.28,1195.06 935.058,1195.06 935.836,1195.06 936.614,1195.06 937.391,1195.06 938.169,1195.06 938.947,1195.06 939.724,1195.06 940.502,1195.06 941.28,1195.06 942.057,1195.06 942.835,1195.06 943.613,1195.06 944.39,1195.06 945.168,1195.06 945.946,1195.06 946.723,1195.06 947.501,1195.06 948.279,1195.06 949.057,1195.06 949.834,1195.06 950.612,1195.06 951.39,1195.06 952.167,1195.06 952.945,1195.06 953.723,1195.06 954.5,1195.06 955.278,1195.06 956.056,1195.06 956.833,1195.06 957.611,1195.06 958.389,1195.06 959.166,1195.06 959.944,1195.06 960.722,1195.06 961.499,1195.06 962.277,1195.06 963.055,1195.06 963.833,1195.06 964.61,1195.06 965.388,1195.06 966.166,1195.06 966.943,1195.06 967.721,1195.06 968.499,1195.06 969.276,1195.06 970.054,1197.83 970.832,1197.83 971.609,1197.83 972.387,1197.83 973.165,1197.83 973.942,1197.83 974.72,1197.83 975.498,1197.83 976.276,1197.83 977.053,1197.83 977.831,1197.83 978.609,1197.83 979.386,1197.83 980.164,1197.83 980.942,1197.83 981.719,1197.83 982.497,1197.83 983.275,1197.83 984.052,1197.83 984.83,1197.83 985.608,1197.83 986.385,1197.83 987.163,1197.83 987.941,1197.83 988.718,1197.83 989.496,1197.83 990.274,1197.83 991.052,1197.83 991.829,1197.83 992.607,1197.83 993.385,1197.83 994.162,1197.83 994.94,1197.83 995.718,1197.83 996.495,1197.83 997.273,1197.83 998.051,1197.83 998.828,1197.83 999.606,1197.83 1000.38,1197.83 1001.16,1197.83 1001.94,1198.89 1002.72,1198.89 1003.49,1198.89 1004.27,1198.89 1005.05,1198.89 1005.83,1198.89 1006.61,1198.89 1007.38,1198.89 1008.16,1198.89 1008.94,1198.89 1009.72,1198.89 1010.49,1198.89 1011.27,1198.89 1012.05,1198.89 1012.83,1198.89 1013.6,1198.89 1014.38,1198.89 1015.16,1198.89 1015.94,1198.89 1016.72,1198.89 1017.49,1198.89 1018.27,1198.89 1019.05,1198.89 1019.83,1198.89 1020.6,1198.89 1021.38,1198.89 1022.16,1198.89 1022.94,1198.89 1023.71,1198.89 1024.49,1198.89 1025.27,1198.89 1026.05,1198.89 1026.83,1198.89 1027.6,1198.89 1028.38,1198.89 1029.16,1198.89 1029.94,1198.89 1030.71,1198.89 1031.49,1198.89 1032.27,1198.89 1033.05,1198.89 1033.82,1198.89 1034.6,1198.89 1035.38,1198.89 1036.16,1198.89 1036.94,1198.89 1037.71,1198.89 1038.49,1198.89 1039.27,1198.89 1040.05,1198.89 1040.82,1198.89 1041.6,1198.89 1042.38,1198.89 1043.16,1198.89 1043.93,1198.89 1044.71,1198.89 1045.49,1198.89 1046.27,1198.89 1047.04,1198.89 1047.82,1198.89 1048.6,1198.89 1049.38,1198.89 1050.16,1198.89 1050.93,1198.89 1051.71,1198.89 1052.49,1198.89 1053.27,1198.89 1054.04,1199.28 1054.82,1199.28 1055.6,1199.28 1056.38,1199.28 1057.15,1199.28 1057.93,1199.28 1058.71,1199.28 1059.49,1199.28 1060.27,1199.28 1061.04,1199.28 1061.82,1199.28 1062.6,1199.28 1063.38,1199.28 1064.15,1199.28 1064.93,1199.28 1065.71,1199.28 1066.49,1199.28 1067.26,1199.28 1068.04,1199.28 1068.82,1199.28 1069.6,1199.28 1070.38,1199.28 1071.15,1199.28 1071.93,1199.28 1072.71,1199.28 1073.49,1199.28 1074.26,1199.28 1075.04,1199.28 1075.82,1199.28 1076.6,1199.28 1077.37,1199.28 1078.15,1199.28 1078.93,1199.28 1079.71,1199.28 1080.49,1199.28 1081.26,1199.28 1082.04,1199.28 1082.82,1199.28 1083.6,1207.08 1084.37,1207.08 1085.15,1207.08 1085.93,1207.08 1086.71,1207.08 1087.48,1207.08 1088.26,1207.08 1089.04,1207.08 1089.82,1207.08 1090.6,1207.08 1091.37,1207.08 1092.15,1207.08 1092.93,1207.08 1093.71,1207.08 1094.48,1207.08 1095.26,1207.08 1096.04,1207.08 1096.82,1207.08 1097.59,1207.08 1098.37,1207.08 1099.15,1207.08 1099.93,1207.08 1100.71,1207.08 1101.48,1207.08 1102.26,1207.08 1103.04,1207.08 1103.82,1207.08 1104.59,1207.08 1105.37,1207.08 1106.15,1207.08 1106.93,1207.08 1107.7,1207.08 1108.48,1207.08 1109.26,1207.08 1110.04,1207.08 1110.82,1207.08 1111.59,1207.08 1112.37,1207.08 1113.15,1207.08 1113.93,1207.08 1114.7,1207.08 1115.48,1207.08 1116.26,1207.08 1117.04,1207.08 1117.81,1207.08 1118.59,1207.08 1119.37,1207.08 1120.15,1207.08 1120.93,1207.08 1121.7,1207.08 1122.48,1207.08 1123.26,1207.08 1124.04,1207.08 1124.81,1207.08 1125.59,1207.08 1126.37,1207.08 1127.15,1207.08 1127.92,1207.08 1128.7,1207.08 1129.48,1207.08 1130.26,1207.08 1131.03,1207.08 1131.81,1207.08 1132.59,1207.08 1133.37,1207.08 1134.15,1207.08 1134.92,1207.08 1135.7,1207.08 1136.48,1207.08 1137.26,1207.08 1138.03,1207.08 1138.81,1207.08 1139.59,1207.08 1140.37,1207.08 1141.14,1207.08 1141.92,1207.08 1142.7,1207.08 1143.48,1207.08 1144.26,1207.08 1145.03,1207.08 1145.81,1207.08 1146.59,1207.08 1147.37,1207.08 1148.14,1207.08 1148.92,1207.08 1149.7,1207.08 1150.48,1207.08 1151.25,1207.08 1152.03,1207.08 1152.81,1207.08 1153.59,1207.08 1154.37,1207.08 1155.14,1207.08 1155.92,1207.08 1156.7,1207.08 1157.48,1207.08 1158.25,1207.08 1159.03,1207.08 1159.81,1207.08 1160.59,1207.08 1161.36,1207.08 1162.14,1207.08 1162.92,1207.08 1163.7,1207.08 1164.48,1207.08 1165.25,1207.08 1166.03,1207.08 1166.81,1207.08 1167.59,1207.08 1168.36,1207.08 1169.14,1207.08 1169.92,1207.08 1170.7,1207.08 1171.47,1207.08 1172.25,1207.08 1173.03,1207.08 1173.81,1207.08 1174.59,1207.08 1175.36,1207.08 1176.14,1207.08 1176.92,1207.08 1177.7,1207.08 1178.47,1207.08 1179.25,1207.08 1180.03,1207.08 1180.81,1207.08 1181.58,1207.08 1182.36,1207.08 1183.14,1207.08 1183.92,1207.08 1184.7,1207.08 1185.47,1207.08 1186.25,1207.08 1187.03,1207.08 1187.81,1207.08 1188.58,1207.08 1189.36,1207.08 1190.14,1207.08 1190.92,1207.08 1191.69,1207.08 1192.47,1207.08 1193.25,1207.08 1194.03,1207.08 1194.81,1207.08 1195.58,1207.08 1196.36,1207.08 1197.14,1207.08 1197.92,1207.08 1198.69,1207.08 1199.47,1207.08 1200.25,1207.08 1201.03,1207.08 1201.8,1207.08 1202.58,1207.08 1203.36,1207.08 1204.14,1207.08 1204.92,1207.08 1205.69,1207.08 1206.47,1207.08 1207.25,1207.08 1208.03,1207.08 1208.8,1207.08 1209.58,1207.08 1210.36,1207.08 1211.14,1207.08 1211.91,1207.08 1212.69,1207.08 1213.47,1207.08 1214.25,1207.08 1215.03,1223.69 1215.8,1223.69 1216.58,1223.69 1217.36,1223.69 1218.14,1223.69 1218.91,1223.69 1219.69,1223.69 1220.47,1223.69 1221.25,1223.69 1222.02,1223.69 1222.8,1223.69 1223.58,1223.69 1224.36,1223.69 1225.13,1223.69 1225.91,1223.69 1226.69,1223.69 1227.47,1223.69 1228.25,1223.69 1229.02,1223.69 1229.8,1223.69 1230.58,1223.69 1231.36,1223.69 1232.13,1223.69 1232.91,1223.69 1233.69,1223.69 1234.47,1223.69 1235.24,1223.96 1236.02,1223.96 1236.8,1223.96 1237.58,1223.96 1238.36,1223.96 1239.13,1223.96 1239.91,1223.96 1240.69,1223.96 1241.47,1223.96 1242.24,1223.96 1243.02,1223.96 1243.8,1223.96 1244.58,1223.96 1245.35,1223.96 1246.13,1223.96 1246.91,1223.96 1247.69,1223.96 1248.47,1223.96 1249.24,1223.96 1250.02,1223.96 1250.8,1223.96 1251.58,1223.96 1252.35,1223.96 1253.13,1223.96 1253.91,1223.96 1254.69,1223.96 1255.46,1223.96 1256.24,1223.96 1257.02,1223.96 1257.8,1223.96 1258.58,1223.96 1259.35,1223.96 1260.13,1223.96 1260.91,1223.96 1261.69,1223.96 1262.46,1225.06 1263.24,1225.06 1264.02,1225.06 1264.8,1225.06 1265.57,1225.06 1266.35,1225.06 1267.13,1225.06 1267.91,1225.06 1268.69,1225.06 1269.46,1225.06 1270.24,1225.06 1271.02,1225.06 1271.8,1225.06 1272.57,1225.06 1273.35,1225.06 1274.13,1225.06 1274.91,1225.06 1275.68,1225.06 1276.46,1225.06 1277.24,1225.06 1278.02,1225.06 1278.8,1225.06 1279.57,1225.06 1280.35,1225.06 1281.13,1225.06 1281.91,1225.06 1282.68,1225.06 1283.46,1225.06 1284.24,1225.06 1285.02,1225.06 1285.79,1225.06 1286.57,1225.06 1287.35,1225.06 1288.13,1225.06 1288.91,1225.06 1289.68,1225.06 1290.46,1225.06 1291.24,1243.81 1292.02,1243.81 1292.79,1243.81 1293.57,1243.81 1294.35,1243.81 1295.13,1243.81 1295.9,1243.81 1296.68,1243.81 1297.46,1243.81 1298.24,1243.81 1299.02,1243.81 1299.79,1243.81 1300.57,1243.81 1301.35,1243.81 1302.13,1243.81 1302.9,1243.81 1303.68,1243.81 1304.46,1243.81 1305.24,1243.81 1306.01,1243.81 1306.79,1243.81 1307.57,1243.81 1308.35,1243.81 1309.13,1243.81 1309.9,1243.81 1310.68,1243.81 1311.46,1243.81 1312.24,1243.81 1313.01,1243.81 1313.79,1243.81 1314.57,1243.81 1315.35,1243.81 1316.12,1243.81 1316.9,1243.81 1317.68,1243.81 1318.46,1243.81 1319.23,1243.81 1320.01,1243.81 1320.79,1243.81 1321.57,1243.81 1322.35,1243.81 1323.12,1243.81 1323.9,1243.81 1324.68,1243.81 1325.46,1243.81 1326.23,1243.81 1327.01,1243.81 1327.79,1243.81 1328.57,1243.81 1329.34,1243.81 1330.12,1244.45 1330.9,1244.45 1331.68,1244.45 1332.46,1244.45 1333.23,1244.45 1334.01,1244.45 1334.79,1244.45 1335.57,1244.45 1336.34,1244.45 1337.12,1244.45 1337.9,1244.45 1338.68,1244.45 1339.45,1244.45 1340.23,1244.45 1341.01,1244.45 1341.79,1244.45 1342.57,1244.45 1343.34,1244.45 1344.12,1244.45 1344.9,1244.45 1345.68,1244.45 1346.45,1244.45 1347.23,1244.45 1348.01,1244.45 1348.79,1244.45 1349.56,1244.45 1350.34,1244.45 1351.12,1244.45 1351.9,1244.45 1352.68,1244.45 1353.45,1244.45 1354.23,1244.45 1355.01,1244.45 1355.79,1244.45 1356.56,1244.45 1357.34,1244.45 1358.12,1244.45 1358.9,1244.45 1359.67,1244.45 1360.45,1244.45 1361.23,1244.45 1362.01,1244.45 1362.79,1244.45 1363.56,1244.45 1364.34,1244.45 1365.12,1244.45 1365.9,1244.45 1366.67,1244.45 1367.45,1244.45 1368.23,1244.45 1369.01,1244.45 1369.78,1244.45 1370.56,1244.45 1371.34,1244.45 1372.12,1244.45 1372.9,1244.45 1373.67,1244.45 1374.45,1244.45 1375.23,1244.45 1376.01,1244.45 1376.78,1244.45 1377.56,1244.45 1378.34,1244.45 1379.12,1244.45 1379.89,1244.45 1380.67,1244.45 1381.45,1244.45 1382.23,1244.45 1383.01,1244.45 1383.78,1244.45 1384.56,1244.45 1385.34,1244.45 1386.12,1244.45 1386.89,1244.45 1387.67,1244.45 1388.45,1244.45 1389.23,1244.45 1390,1244.45 1390.78,1244.45 1391.56,1244.45 1392.34,1244.45 1393.12,1244.45 1393.89,1244.45 1394.67,1244.45 1395.45,1244.45 1396.23,1244.45 1397,1244.45 1397.78,1244.45 1398.56,1244.45 1399.34,1244.45 1400.11,1244.45 1400.89,1244.45 1401.67,1244.45 1402.45,1244.45 1403.22,1244.45 1404,1244.45 1404.78,1244.45 1405.56,1244.45 1406.34,1244.45 1407.11,1244.45 1407.89,1244.45 1408.67,1244.45 1409.45,1244.45 1410.22,1244.45 1411,1244.45 1411.78,1244.45 1412.56,1244.45 1413.33,1244.45 1414.11,1244.45 1414.89,1244.45 1415.67,1244.45 1416.45,1244.45 1417.22,1244.45 1418,1244.45 1418.78,1244.45 1419.56,1244.45 1420.33,1244.45 1421.11,1244.45 1421.89,1245.12 1422.67,1245.12 1423.44,1245.12 1424.22,1245.12 1425,1245.12 1425.78,1245.12 1426.56,1245.12 1427.33,1245.12 1428.11,1245.12 1428.89,1245.12 1429.67,1245.12 1430.44,1245.12 1431.22,1245.12 1432,1245.12 1432.78,1245.12 1433.55,1264.44 1434.33,1264.44 1435.11,1264.44 1435.89,1264.44 1436.67,1264.44 1437.44,1264.44 1438.22,1264.44 1439,1264.44 1439.78,1264.44 1440.55,1264.44 1441.33,1264.44 1442.11,1264.44 1442.89,1264.44 1443.66,1264.44 1444.44,1264.44 1445.22,1264.44 1446,1264.44 1446.78,1264.44 1447.55,1264.44 1448.33,1264.44 1449.11,1264.44 1449.89,1264.44 1450.66,1264.44 1451.44,1264.44 1452.22,1264.44 1453,1264.44 1453.77,1264.44 1454.55,1264.44 1455.33,1264.44 1456.11,1264.44 1456.89,1264.44 1457.66,1264.44 1458.44,1264.44 1459.22,1264.44 1460,1264.44 1460.77,1264.44 1461.55,1264.44 1462.33,1264.44 1463.11,1264.44 1463.88,1264.44 1464.66,1264.44 1465.44,1264.44 1466.22,1264.44 1467,1264.44 1467.77,1264.44 1468.55,1264.44 1469.33,1264.44 1470.11,1264.44 1470.88,1264.44 1471.66,1264.44 1472.44,1264.44 1473.22,1264.44 1473.99,1264.44 1474.77,1264.44 1475.55,1264.44 1476.33,1264.44 1477.11,1264.44 1477.88,1264.44 1478.66,1264.44 1479.44,1264.44 1480.22,1264.44 1480.99,1264.44 1481.77,1264.44 1482.55,1264.44 1483.33,1264.44 1484.1,1264.44 1484.88,1264.44 1485.66,1264.44 1486.44,1264.44 1487.22,1264.44 1487.99,1264.44 1488.77,1264.44 1489.55,1264.44 1490.33,1264.44 1491.1,1264.44 1491.88,1264.44 1492.66,1264.44 1493.44,1264.44 1494.21,1264.44 1494.99,1264.44 1495.77,1264.44 1496.55,1264.44 1497.32,1264.44 1498.1,1264.44 1498.88,1264.44 1499.66,1264.44 1500.44,1264.44 1501.21,1264.44 1501.99,1264.44 1502.77,1264.44 1503.55,1264.44 1504.32,1264.44 1505.1,1264.44 1505.88,1264.44 1506.66,1264.44 1507.43,1264.44 1508.21,1264.44 1508.99,1264.44 1509.77,1264.44 1510.55,1264.44 1511.32,1264.44 1512.1,1264.44 1512.88,1264.44 1513.66,1264.44 1514.43,1264.44 1515.21,1264.44 1515.99,1264.44 1516.77,1264.44 1517.54,1264.44 1518.32,1264.44 1519.1,1264.44 1519.88,1264.44 1520.66,1264.44 1521.43,1264.44 1522.21,1264.44 1522.99,1264.44 1523.77,1264.44 1524.54,1264.44 1525.32,1264.44 1526.1,1264.44 1526.88,1264.44 1527.65,1264.44 1528.43,1264.44 1529.21,1264.44 1529.99,1264.44 1530.77,1264.44 1531.54,1264.44 1532.32,1264.44 1533.1,1264.44 1533.88,1264.44 1534.65,1264.44 1535.43,1264.44 1536.21,1264.44 1536.99,1264.44 1537.76,1264.44 1538.54,1264.44 1539.32,1264.44 1540.1,1264.44 1540.88,1264.44 1541.65,1264.44 1542.43,1264.44 1543.21,1264.44 1543.99,1264.44 1544.76,1264.44 1545.54,1264.44 1546.32,1264.44 1547.1,1264.44 1547.87,1264.44 1548.65,1264.44 1549.43,1264.44 1550.21,1264.44 1550.99,1264.44 1551.76,1264.44 1552.54,1264.44 1553.32,1264.44 1554.1,1264.44 1554.87,1264.44 1555.65,1264.44 1556.43,1264.44 1557.21,1264.44 1557.98,1264.44 1558.76,1264.44 1559.54,1264.44 1560.32,1264.44 1561.1,1264.44 1561.87,1264.44 1562.65,1264.44 1563.43,1264.44 1564.21,1264.44 1564.98,1264.44 1565.76,1264.44 1566.54,1264.44 1567.32,1264.44 1568.09,1264.44 1568.87,1264.44 1569.65,1264.44 1570.43,1264.44 1571.21,1264.44 1571.98,1264.44 1572.76,1264.44 1573.54,1264.44 1574.32,1264.44 1575.09,1264.44 1575.87,1264.44 1576.65,1264.44 1577.43,1264.44 1578.2,1264.44 1578.98,1264.44 1579.76,1264.44 1580.54,1300.24 1581.32,1300.24 1582.09,1300.24 1582.87,1300.24 1583.65,1300.24 1584.43,1300.24 1585.2,1300.24 1585.98,1300.24 1586.76,1300.24 1587.54,1300.24 1588.31,1300.24 1589.09,1300.24 1589.87,1300.24 1590.65,1300.24 1591.42,1300.24 1592.2,1300.24 1592.98,1300.24 1593.76,1300.24 1594.54,1300.24 1595.31,1300.24 1596.09,1300.24 1596.87,1300.24 1597.65,1300.24 1598.42,1300.24 1599.2,1300.24 1599.98,1300.24 1600.76,1300.24 1601.53,1300.24 1602.31,1300.24 1603.09,1300.24 1603.87,1300.24 1604.65,1300.24 1605.42,1300.24 1606.2,1300.24 1606.98,1300.24 1607.76,1300.24 1608.53,1300.24 1609.31,1300.24 1610.09,1300.24 1610.87,1300.24 1611.64,1300.24 1612.42,1300.24 1613.2,1300.24 1613.98,1300.24 1614.76,1300.24 1615.53,1300.24 1616.31,1300.24 1617.09,1300.24 1617.87,1300.24 1618.64,1300.24 1619.42,1300.24 1620.2,1324.29 1620.98,1324.29 1621.75,1324.29 1622.53,1324.29 1623.31,1324.29 1624.09,1324.29 1624.87,1324.29 1625.64,1324.29 1626.42,1324.29 1627.2,1324.29 1627.98,1324.29 1628.75,1324.29 1629.53,1324.29 1630.31,1336.84 1631.09,1336.84 1631.86,1336.84 1632.64,1336.84 1633.42,1336.84 1634.2,1336.84 1634.98,1336.84 1635.75,1336.84 1636.53,1336.84 1637.31,1336.84 1638.09,1336.84 1638.86,1336.84 1639.64,1336.84 1640.42,1336.84 1641.2,1336.84 1641.97,1336.84 1642.75,1336.84 1643.53,1336.84 1644.31,1336.84 1645.09,1336.84 1645.86,1336.84 1646.64,1336.84 1647.42,1336.84 1648.2,1336.84 1648.97,1336.84 1649.75,1336.84 1650.53,1336.84 1651.31,1336.84 1652.08,1336.84 1652.86,1336.84 1653.64,1336.84 1654.42,1336.84 1655.2,1336.84 1655.97,1336.84 1656.75,1336.84 1657.53,1336.84 1658.31,1336.84 1659.08,1336.84 1659.86,1336.84 1660.64,1336.84 1661.42,1336.84 1662.19,1336.84 1662.97,1336.84 1663.75,1336.84 1664.53,1336.84 1665.31,1336.84 1666.08,1336.84 1666.86,1336.84 1667.64,1336.84 1668.42,1336.84 1669.19,1336.84 1669.97,1336.84 1670.75,1336.84 1671.53,1336.84 1672.3,1336.84 1673.08,1336.84 1673.86,1336.84 1674.64,1336.84 1675.41,1336.84 1676.19,1336.84 1676.97,1336.84 1677.75,1336.84 1678.53,1336.84 1679.3,1336.84 1680.08,1336.84 1680.86,1336.84 1681.64,1336.84 1682.41,1336.84 1683.19,1336.84 1683.97,1336.84 1684.75,1336.84 1685.52,1336.84 1686.3,1350.14 1687.08,1350.14 1687.86,1350.14 1688.64,1350.14 1689.41,1350.14 1690.19,1350.14 1690.97,1350.14 1691.75,1350.14 1692.52,1350.14 1693.3,1350.14 1694.08,1350.14 1694.86,1350.14 1695.63,1350.14 1696.41,1350.14 1697.19,1350.14 1697.97,1350.14 1698.75,1350.14 1699.52,1350.14 1700.3,1350.14 1701.08,1350.14 1701.86,1350.14 1702.63,1350.14 1703.41,1350.14 1704.19,1350.14 1704.97,1350.14 1705.74,1350.14 1706.52,1350.14 1707.3,1350.14 1708.08,1350.14 1708.86,1350.14 1709.63,1350.14 1710.41,1350.14 1711.19,1350.14 1711.97,1350.14 1712.74,1350.14 1713.52,1350.14 1714.3,1350.14 1715.08,1350.14 1715.85,1350.14 1716.63,1350.14 1717.41,1350.14 1718.19,1350.14 1718.97,1350.14 1719.74,1350.14 1720.52,1350.14 1721.3,1350.14 1722.08,1350.14 1722.85,1350.14 1723.63,1350.14 1724.41,1350.14 1725.19,1350.14 1725.96,1350.14 1726.74,1350.14 1727.52,1350.14 1728.3,1350.14 1729.08,1350.14 1729.85,1350.14 1730.63,1350.14 1731.41,1350.14 1732.19,1350.14 1732.96,1350.14 1733.74,1350.14 1734.52,1350.14 1735.3,1350.14 1736.07,1350.14 1736.85,1350.14 1737.63,1350.14 1738.41,1350.14 1739.19,1350.14 1739.96,1350.14 1740.74,1350.14 1741.52,1350.14 1742.3,1350.14 1743.07,1350.14 1743.85,1350.14 1744.63,1350.14 1745.41,1350.14 1746.18,1350.14 1746.96,1350.14 1747.74,1350.14 1748.52,1350.14 1749.3,1350.14 1750.07,1350.14 1750.85,1350.14 1751.63,1350.14 1752.41,1350.14 1753.18,1350.14 1753.96,1350.14 1754.74,1350.14 1755.52,1350.14 1756.29,1350.14 1757.07,1350.75 1757.85,1350.75 1758.63,1350.75 1759.41,1350.75 1760.18,1350.75 1760.96,1350.75 1761.74,1350.75 1762.52,1350.75 1763.29,1350.75 1764.07,1350.75 1764.85,1350.75 1765.63,1350.75 1766.4,1350.75 1767.18,1350.75 1767.96,1350.75 1768.74,1350.75 1769.51,1351.41 1770.29,1351.41 1771.07,1351.41 1771.85,1351.41 1772.63,1351.41 1773.4,1351.41 1774.18,1351.41 1774.96,1351.41 1775.74,1351.41 1776.51,1351.41 1777.29,1351.41 1778.07,1351.41 1778.85,1351.41 1779.62,1351.41 1780.4,1351.41 1781.18,1351.41 1781.96,1351.41 1782.74,1351.41 1783.51,1351.41 1784.29,1351.41 1785.07,1351.41 1785.85,1351.41 1786.62,1351.81 1787.4,1351.81 1788.18,1351.81 1788.96,1351.81 1789.73,1351.81 1790.51,1351.81 1791.29,1351.81 1792.07,1351.81 1792.85,1351.81 1793.62,1351.81 1794.4,1351.81 1795.18,1352.45 1795.96,1352.45 1796.73,1352.45 1797.51,1352.45 1798.29,1352.45 1799.07,1352.45 1799.84,1352.45 1800.62,1352.45 1801.4,1352.45 1802.18,1352.45 1802.96,1352.45 1803.73,1352.45 1804.51,1352.45 1805.29,1352.45 1806.07,1352.45 1806.84,1352.45 1807.62,1352.45 1808.4,1352.45 1809.18,1352.45 1809.95,1352.45 1810.73,1352.45 1811.51,1352.45 1812.29,1352.45 1813.07,1352.45 1813.84,1352.45 1814.62,1352.45 1815.4,1352.45 1816.18,1352.45 1816.95,1352.45 1817.73,1352.45 1818.51,1352.45 1819.29,1352.45 1820.06,1352.45 1820.84,1352.45 1821.62,1352.45 1822.4,1352.45 1823.18,1352.45 1823.95,1352.45 1824.73,1352.45 1825.51,1352.45 1826.29,1352.45 1827.06,1352.45 1827.84,1352.45 1828.62,1352.45 1829.4,1352.45 1830.17,1352.45 1830.95,1352.45 1831.73,1352.45 1832.51,1352.45 1833.29,1352.45 1834.06,1352.45 1834.84,1352.45 1835.62,1352.45 1836.4,1352.45 1837.17,1352.45 1837.95,1352.45 1838.73,1352.45 1839.51,1352.45 1840.28,1352.45 1841.06,1352.45 1841.84,1352.45 1842.62,1352.45 1843.4,1352.45 1844.17,1352.45 1844.95,1352.45 1845.73,1352.45 1846.51,1352.45 1847.28,1352.45 1848.06,1352.45 1848.84,1352.45 1849.62,1352.45 1850.39,1352.45 1851.17,1352.45 1851.95,1352.45 1852.73,1352.45 1853.51,1352.45 1854.28,1352.45 1855.06,1352.45 1855.84,1352.45 1856.62,1352.45 1857.39,1352.45 1858.17,1352.45 1858.95,1352.45 1859.73,1352.45 1860.5,1352.45 1861.28,1352.45 1862.06,1352.45 1862.84,1352.45 1863.61,1352.45 1864.39,1352.45 1865.17,1352.45 1865.95,1352.45 1866.73,1352.45 1867.5,1352.45 1868.28,1352.45 1869.06,1352.45 1869.84,1369.01 1870.61,1369.01 1871.39,1369.01 1872.17,1369.01 1872.95,1369.01 1873.72,1369.01 1874.5,1369.01 1875.28,1369.01 1876.06,1369.01 1876.84,1369.01 1877.61,1369.01 1878.39,1369.01 1879.17,1369.01 1879.95,1369.01 1880.72,1369.01 1881.5,1369.01 1882.28,1369.01 1883.06,1369.01 1883.83,1369.01 1884.61,1369.01 1885.39,1369.01 1886.17,1369.01 1886.95,1369.01 1887.72,1369.01 1888.5,1369.01 1889.28,1369.01 1890.06,1369.01 1890.83,1369.01 1891.61,1369.01 1892.39,1369.01 1893.17,1369.01 1893.94,1369.01 1894.72,1369.01 1895.5,1369.01 1896.28,1369.01 1897.06,1369.01 1897.83,1369.01 1898.61,1369.01 1899.39,1369.01 1900.17,1369.01 1900.94,1369.01 1901.72,1369.01 1902.5,1369.01 1903.28,1369.01 1904.05,1369.01 1904.83,1369.01 1905.61,1369.01 1906.39,1369.01 1907.17,1369.01 1907.94,1369.01 1908.72,1369.01 1909.5,1369.01 1910.28,1369.01 1911.05,1369.01 1911.83,1369.01 1912.61,1369.01 1913.39,1369.01 1914.16,1369.01 1914.94,1369.01 1915.72,1369.01 1916.5,1369.01 1917.28,1369.01 1918.05,1369.01 1918.83,1369.01 1919.61,1369.01 1920.39,1369.01 1921.16,1369.01 1921.94,1369.01 1922.72,1369.01 1923.5,1369.01 1924.27,1369.01 1925.05,1369.01 1925.83,1369.01 1926.61,1369.01 1927.39,1369.01 1928.16,1369.01 1928.94,1369.01 1929.72,1369.01 1930.5,1369.01 1931.27,1369.01 1932.05,1369.01 1932.83,1369.01 1933.61,1369.01 1934.38,1369.01 1935.16,1369.01 1935.94,1369.01 1936.72,1369.01 1937.5,1369.01 1938.27,1369.01 1939.05,1369.01 1939.83,1369.01 1940.61,1369.01 1941.38,1369.01 1942.16,1369.01 1942.94,1369.01 1943.72,1369.01 1944.49,1369.01 1945.27,1369.01 1946.05,1369.01 1946.83,1369.01 1947.6,1369.01 1948.38,1369.01 1949.16,1369.01 1949.94,1369.01 1950.72,1369.01 1951.49,1369.01 1952.27,1369.01 1953.05,1369.01 1953.83,1369.01 1954.6,1369.01 1955.38,1369.01 1956.16,1369.01 1956.94,1369.01 1957.71,1369.01 1958.49,1369.01 1959.27,1369.01 1960.05,1369.01 1960.83,1369.01 1961.6,1369.01 1962.38,1369.01 1963.16,1369.01 1963.94,1369.01 1964.71,1369.01 1965.49,1369.01 1966.27,1369.01 1967.05,1369.01 1967.82,1369.01 1968.6,1369.01 1969.38,1369.01 1970.16,1369.01 1970.94,1369.01 1971.71,1369.01 1972.49,1369.01 1973.27,1369.01 1974.05,1369.01 1974.82,1369.01 1975.6,1369.01 1976.38,1369.01 1977.16,1369.01 1977.93,1369.01 1978.71,1369.01 1979.49,1369.01 1980.27,1369.01 1981.05,1369.01 1981.82,1369.01 1982.6,1369.01 1983.38,1369.01 1984.16,1369.01 1984.93,1369.01 1985.71,1369.01 1986.49,1369.01 1987.27,1369.01 1988.04,1369.01 1988.82,1369.01 1989.6,1369.01 1990.38,1369.01 1991.16,1369.01 1991.93,1369.01 1992.71,1369.01 1993.49,1369.01 1994.27,1369.01 1995.04,1369.01 1995.82,1369.01 1996.6,1369.01 1997.38,1369.01 1998.15,1369.01 1998.93,1369.01 1999.71,1369.01 2000.49,1369.01 2001.27,1369.01 2002.04,1369.01 2002.82,1369.01 2003.6,1369.01 2004.38,1369.01 2005.15,1369.01 2005.93,1369.01 2006.71,1369.01 2007.49,1369.01 2008.26,1369.01 2009.04,1369.01 2009.82,1369.01 2010.6,1369.01 2011.38,1369.01 2012.15,1369.01 2012.93,1369.01 2013.71,1369.01 2014.49,1369.01 2015.26,1369.01 2016.04,1369.01 2016.82,1369.01 2017.6,1369.01 2018.37,1369.01 2019.15,1369.01 2019.93,1369.01 2020.71,1369.01 2021.49,1369.01 2022.26,1369.01 2023.04,1369.01 2023.82,1369.01 2024.6,1369.01 2025.37,1369.01 2026.15,1369.01 2026.93,1369.01 2027.71,1369.01 2028.48,1369.01 2029.26,1369.01 2030.04,1369.01 2030.82,1369.01 2031.6,1369.01 2032.37,1369.01 2033.15,1369.01 2033.93,1369.01 2034.71,1369.01 2035.48,1369.01 2036.26,1369.01 2037.04,1369.01 2037.82,1369.01 2038.59,1369.01 2039.37,1369.01 2040.15,1369.01 2040.93,1369.01 2041.7,1369.01 2042.48,1369.01 2043.26,1369.01 2044.04,1369.01 2044.82,1369.01 2045.59,1369.01 2046.37,1369.01 2047.15,1369.01 2047.93,1369.01 2048.7,1369.01 2049.48,1369.01 2050.26,1369.01 2051.04,1369.01 2051.81,1369.01 2052.59,1369.01 2053.37,1369.01 2054.15,1369.01 2054.93,1369.01 2055.7,1369.01 2056.48,1369.01 2057.26,1369.01 2058.04,1369.01 2058.81,1369.01 2059.59,1369.01 2060.37,1369.01 2061.15,1369.01 2061.92,1369.01 2062.7,1369.01 2063.48,1369.01 2064.26,1369.01 2065.04,1369.01 2065.81,1369.01 2066.59,1369.01 2067.37,1369.01 2068.15,1369.01 2068.92,1369.01 2069.7,1369.01 2070.48,1369.01 2071.26,1369.01 2072.03,1369.01 2072.81,1369.01 2073.59,1369.01 2074.37,1369.01 2075.15,1369.01 2075.92,1369.01 2076.7,1369.01 2077.48,1369.01 2078.26,1369.01 2079.03,1369.01 2079.81,1369.01 2080.59,1369.01 2081.37,1369.01 2082.14,1369.01 2082.92,1369.01 2083.7,1369.01 2084.48,1369.01 2085.26,1369.01 2086.03,1369.01 2086.81,1369.01 2087.59,1369.01 2088.37,1369.01 2089.14,1369.01 2089.92,1369.01 2090.7,1369.01 2091.48,1369.01 2092.25,1369.01 2093.03,1369.01 2093.81,1369.01 2094.59,1369.01 2095.37,1369.01 2096.14,1369.01 2096.92,1369.01 2097.7,1369.01 2098.48,1369.01 2099.25,1369.01 2100.03,1369.01 2100.81,1369.01 2101.59,1369.01 2102.36,1369.01 2103.14,1369.01 2103.92,1369.01 2104.7,1369.01 2105.48,1369.01 2106.25,1369.01 2107.03,1369.01 2107.81,1369.01 2108.59,1369.01 2109.36,1369.01 2110.14,1369.01 2110.92,1369.01 2111.7,1369.01 2112.47,1369.01 2113.25,1369.01 2114.03,1369.01 2114.81,1369.01 2115.59,1369.01 2116.36,1369.01 2117.14,1369.01 2117.92,1369.01 2118.7,1369.01 2119.47,1369.01 2120.25,1369.01 2121.03,1369.01 2121.81,1369.01 2122.58,1369.01 2123.36,1369.01 2124.14,1369.01 2124.92,1369.01 2125.7,1369.01 2126.47,1369.01 2127.25,1369.01 2128.03,1369.01 2128.81,1369.01 2129.58,1369.01 2130.36,1369.01 2131.14,1369.01 2131.92,1369.01 2132.69,1369.01 2133.47,1369.01 2134.25,1369.01 2135.03,1369.01 2135.8,1369.01 2136.58,1369.01 2137.36,1369.01 2138.14,1369.01 2138.92,1369.01 2139.69,1369.01 2140.47,1369.01 2141.25,1369.01 2142.03,1369.01 2142.8,1369.01 2143.58,1369.01 2144.36,1369.01 2145.14,1369.01 2145.91,1369.01 2146.69,1369.01 2147.47,1369.01 2148.25,1386.4 2149.03,1386.4 2149.8,1386.4 2150.58,1386.4 2151.36,1386.4 2152.14,1386.4 2152.91,1386.4 2153.69,1386.4 2154.47,1386.4 2155.25,1386.4 2156.02,1386.4 2156.8,1386.4 2157.58,1386.4 2158.36,1386.4 2159.14,1386.4 2159.91,1386.4 2160.69,1386.4 2161.47,1386.4 2162.25,1386.4 2163.02,1386.4 2163.8,1386.4 2164.58,1386.4 2165.36,1386.4 2166.13,1386.4 2166.91,1386.4 2167.69,1386.4 2168.47,1386.4 2169.25,1386.4 2170.02,1386.4 2170.8,1386.4 2171.58,1386.4 2172.36,1386.4 2173.13,1386.4 2173.91,1386.4 2174.69,1386.4 2175.47,1386.4 2176.24,1386.4 2177.02,1386.4 2177.8,1386.4 2178.58,1386.4 2179.36,1386.4 2180.13,1386.4 2180.91,1386.4 2181.69,1386.4 2182.47,1386.4 2183.24,1386.4 2184.02,1386.4 2184.8,1386.4 2185.58,1386.4 2186.35,1386.4 2187.13,1386.4 2187.91,1386.4 2188.69,1386.4 2189.47,1386.4 2190.24,1386.4 2191.02,1386.4 2191.8,1386.4 2192.58,1386.4 2193.35,1386.4 2194.13,1386.4 2194.91,1386.4 2195.69,1386.4 2196.46,1386.4 2197.24,1386.4 2198.02,1386.4 2198.8,1386.4 2199.58,1386.4 2200.35,1386.4 2201.13,1386.4 2201.91,1386.4 2202.69,1386.4 2203.46,1386.4 2204.24,1386.4 2205.02,1386.4 2205.8,1386.4 2206.57,1386.4 2207.35,1386.4 2208.13,1386.4 2208.91,1386.4 2209.69,1386.4 2210.46,1386.4 2211.24,1386.4 2212.02,1386.4 2212.8,1386.4 2213.57,1386.4 2214.35,1386.4 2215.13,1386.4 2215.91,1386.4 2216.68,1386.4 2217.46,1386.4 2218.24,1386.4 2219.02,1386.4 2219.79,1386.4 2220.57,1386.4 2221.35,1386.4 2222.13,1386.4 2222.91,1386.4 2223.68,1386.4 2224.46,1386.4 2225.24,1386.4 2226.02,1386.4 2226.79,1386.4 2227.57,1386.4 2228.35,1386.4 2229.13,1386.4 2229.9,1386.4 2230.68,1386.4 2231.46,1386.4 2232.24,1386.4 2233.02,1386.4 2233.79,1386.4 2234.57,1386.4 2235.35,1386.4 2236.13,1386.4 2236.9,1386.4 2237.68,1386.4 2238.46,1386.4 2239.24,1386.4 2240.01,1386.4 2240.79,1386.4 2241.57,1386.4 2242.35,1386.4 2243.13,1386.4 2243.9,1386.4 2244.68,1386.4 2245.46,1386.4 2246.24,1386.4 2247.01,1386.4 2247.79,1386.4 2248.57,1386.4 2249.35,1386.4 2250.12,1386.4 2250.9,1386.4 2251.68,1386.4 2252.46,1386.4 2253.24,1386.4 2254.01,1386.4 2254.79,1386.4 2255.57,1386.4 2256.35,1386.4 2257.12,1386.4 2257.9,1386.4 2258.68,1386.4 2259.46,1386.4 2260.23,1386.4 2261.01,1386.4 2261.79,1386.4 2262.57,1386.4 2263.35,1386.4 2264.12,1386.4 2264.9,1386.4 2265.68,1386.4 2266.46,1386.4 2267.23,1386.4 2268.01,1386.4 2268.79,1386.4 2269.57,1386.4 2270.34,1386.4 2271.12,1386.4 2271.9,1386.4 2272.68,1386.4 2273.46,1386.4 2274.23,1386.4 2275.01,1386.4 2275.79,1386.4 2276.57,1386.4 2277.34,1386.4 2278.12,1386.4 2278.9,1386.4 2279.68,1386.4 2280.45,1386.4 2281.23,1386.4 2282.01,1386.4 2282.79,1386.4 2283.57,1386.4 2284.34,1386.4 2285.12,1386.4 2285.9,1386.4 2286.68,1386.4 2287.45,1386.4 2288.23,1386.4 2289.01,1386.4 2289.79,1386.4 2290.56,1386.4 2291.34,1386.4 2292.12,1386.4 2292.9,1386.4 2293.68,1386.4 2294.45,1386.4 \"/>\n",
       "<path clip-path=\"url(#clip990)\" d=\"M2025.65 270.476 L2284.09 270.476 L2284.09 166.796 L2025.65 166.796  Z\" fill=\"#ffffff\" fill-rule=\"evenodd\" fill-opacity=\"1\"/>\n",
       "<polyline clip-path=\"url(#clip990)\" style=\"stroke:#000000; stroke-linecap:round; stroke-linejoin:round; stroke-width:4; stroke-opacity:1; fill:none\" points=\"2025.65,270.476 2284.09,270.476 2284.09,166.796 2025.65,166.796 2025.65,270.476 \"/>\n",
       "<polyline clip-path=\"url(#clip990)\" style=\"stroke:#009af9; stroke-linecap:round; stroke-linejoin:round; stroke-width:4; stroke-opacity:1; fill:none\" points=\"2048.54,218.636 2185.88,218.636 \"/>\n",
       "<path clip-path=\"url(#clip990)\" d=\"M2222.61 238.323 Q2220.81 242.953 2219.09 244.365 Q2217.38 245.777 2214.51 245.777 L2211.11 245.777 L2211.11 242.212 L2213.61 242.212 Q2215.37 242.212 2216.34 241.379 Q2217.31 240.545 2218.49 237.443 L2219.25 235.499 L2208.77 209.99 L2213.28 209.99 L2221.38 230.268 L2229.49 209.99 L2234 209.99 L2222.61 238.323 Z\" fill=\"#000000\" fill-rule=\"nonzero\" fill-opacity=\"1\" /><path clip-path=\"url(#clip990)\" d=\"M2241.29 231.981 L2248.93 231.981 L2248.93 205.615 L2240.62 207.282 L2240.62 203.022 L2248.88 201.356 L2253.56 201.356 L2253.56 231.981 L2261.2 231.981 L2261.2 235.916 L2241.29 235.916 L2241.29 231.981 Z\" fill=\"#000000\" fill-rule=\"nonzero\" fill-opacity=\"1\" /></svg>\n"
      ]
     },
     "metadata": {},
     "output_type": "display_data"
    },
    {
     "name": "stdout",
     "output_type": "stream",
     "text": [
      "2500"
     ]
    },
    {
     "name": "stdout",
     "output_type": "stream",
     "text": [
      "\n"
     ]
    }
   ],
   "source": [
    "# Execution du programme\n",
    "\n",
    "L, S, costs, cost_f = metaheuristique(wind_scenarios, general_parameters, sub_sub_cable_types, land_substation_cable_types, substation_types)\n",
    "\n",
    "display(plot(1:2500, costs, xlabel=\"Itérations\", ylabel=\"Coût\", title=\"Évolution du coût\"))\n",
    "\n"
   ]
  },
  {
   "cell_type": "code",
   "execution_count": 32,
   "metadata": {},
   "outputs": [],
   "source": [
    "# Mise en forme des solutions a format JSON\n",
    "\n",
    "# on crée un dictionnaire pour les sous-stations qui contient les informations suivantes :\n",
    "# - id : identifiant de la sous-station\n",
    "# - land_cable_type : type de câble entre la sous-station et la station terrestre\n",
    "# - substation_type : type de sous-station\n",
    "\n",
    "substations = []\n",
    "for i in 1:size(S, 1)\n",
    "    if S[i, 3] != 0\n",
    "        push!(substations, Dict(\"id\" => i, \"land_cable_type\" => S[i, 3], \"substation_type\" => S[i, 5]))\n",
    "    end\n",
    "end\n",
    "\n",
    "\n",
    "# on crée un dictionnaire pour les câbles entre les sous-stations qui contient les informations suivantes :\n",
    "# - substation_id : identifiant de la première sous-station\n",
    "# - other_substation_id : identifiant de la deuxième sous-station\n",
    "# - cable_type : type de câble entre les deux sous-stations\n",
    "\n",
    "substation_substation_cables = []\n",
    "\n",
    "for i in 1:size(S, 1)\n",
    "    if S[i, 2] != 0 && S[i, 4] != 0\n",
    "        push!(substation_substation_cables, Dict(\"substation_id\" => i, \"other_substation_id\" => S[i, 2], \"cable_type\" => S[i, 4]))\n",
    "        S[S[i, 2], 4] = 0\n",
    "        S[S[i, 2], 2] = 0\n",
    "    end\n",
    "end\n",
    "\n",
    "\n",
    "# on crée un dictionnaire pour les turbines qui contient les informations suivantes :\n",
    "# - id : identifiant de la turbine\n",
    "# - substation_id : identifiant de la sous-station à laquelle est reliée la turbine\n",
    "\n",
    "turbines = []\n",
    "for i in 1:length(L)\n",
    "    push!(turbines, Dict(\"id\" => i, \"substation_id\" => L[i]))\n",
    "end\n",
    "\n",
    "solutions = Dict(\"substations\" => substations, \"substation_substation_cables\" => substation_substation_cables, \"turbines\" => turbines)\n",
    "\n",
    "# on écrit le dictionnaire dans un fichier JSON\n",
    "\n",
    "open(\"solution.json\", \"w\") do f\n",
    "    JSON.print(f, solutions)\n",
    "end"
   ]
  },
  {
   "cell_type": "code",
   "execution_count": 33,
   "metadata": {},
   "outputs": [
    {
     "name": "stdout",
     "output_type": "stream",
     "text": [
      "7610.6161941913915"
     ]
    }
   ],
   "source": [
    "print(costs[end])"
   ]
  }
 ],
 "metadata": {
  "kernelspec": {
   "display_name": "Julia 1.9.4",
   "language": "julia",
   "name": "julia-1.9"
  },
  "language_info": {
   "file_extension": ".jl",
   "mimetype": "application/julia",
   "name": "julia",
   "version": "1.9.4"
  }
 },
 "nbformat": 4,
 "nbformat_minor": 2
}
