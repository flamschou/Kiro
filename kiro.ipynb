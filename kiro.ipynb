{
 "cells": [
  {
   "cell_type": "code",
   "execution_count": 1,
   "metadata": {},
   "outputs": [
    {
     "name": "stderr",
     "output_type": "stream",
     "text": [
      "\u001b[32m\u001b[1m   Resolving\u001b[22m\u001b[39m package versions...\n"
     ]
    },
    {
     "name": "stderr",
     "output_type": "stream",
     "text": [
      "\u001b[32m\u001b[1m  No Changes\u001b[22m\u001b[39m to `C:\\Data\\2023-24\\REOP\\Kiro\\Project.toml`\n"
     ]
    },
    {
     "name": "stderr",
     "output_type": "stream",
     "text": [
      "\u001b[32m\u001b[1m    Updating\u001b[22m\u001b[39m `C:\\Data\\2023-24\\REOP\\Kiro\\Manifest.toml`"
     ]
    },
    {
     "name": "stderr",
     "output_type": "stream",
     "text": [
      "\n",
      "  \u001b[90m[e2554f3b] \u001b[39m\u001b[91m- Clp v1.0.3\u001b[39m\n",
      "  \u001b[90m[82193955] \u001b[39m\u001b[91m- SCIP v0.11.14\u001b[39m\n",
      "  \u001b[90m[ae81ac8f] \u001b[39m\u001b[91m- ASL_jll v0.1.3+0\u001b[39m\n",
      "  \u001b[90m[06985876] \u001b[39m\u001b[91m- Clp_jll v100.1700.700+1\u001b[39m\n",
      "  \u001b[90m[be027038] \u001b[39m\u001b[91m- CoinUtils_jll v200.1100.600+0\u001b[39m\n",
      "  \u001b[90m[e33a78d0] \u001b[39m\u001b[91m- Hwloc_jll v2.10.0+0\u001b[39m\n",
      "  \u001b[90m[9cc047cb] \u001b[39m\u001b[91m- Ipopt_jll v300.1400.1302+0\u001b[39m\n",
      "  \u001b[90m[d00139f3] \u001b[39m\u001b[91m- METIS_jll v5.1.2+0\u001b[39m\n",
      "  \u001b[90m[d7ed1dd3] \u001b[39m\u001b[91m- MUMPS_seq_jll v500.600.100+0\u001b[39m\n",
      "  \u001b[90m[68e3532b] \u001b[39m\u001b[91m- Ncurses_jll v6.4.1+0\u001b[39m\n",
      "  \u001b[90m[656ef2d0] \u001b[39m\u001b[91m- OpenBLAS32_jll v0.3.21+0\u001b[39m\n",
      "  \u001b[90m[7da25872] \u001b[39m\u001b[91m- Osi_jll v0.10800.700+0\u001b[39m\n",
      "  \u001b[90m[05236dd9] \u001b[39m\u001b[91m- Readline_jll v8.2.1+0\u001b[39m\n",
      "  \u001b[90m[fc9abe76] \u001b[39m\u001b[91m- SCIP_PaPILO_jll v800.100.0+0\u001b[39m\n",
      "  \u001b[90m[e5ac4fe4] \u001b[39m\u001b[91m- SCIP_jll v800.100.0+1\u001b[39m\n",
      "  \u001b[90m[319450e9] \u001b[39m\u001b[91m- SPRAL_jll v2023.8.2+0\u001b[39m\n",
      "  \u001b[90m[508c9074] \u001b[39m\u001b[91m- bliss_jll v0.77.0+1\u001b[39m\n",
      "  \u001b[90m[28df3c45] \u001b[39m\u001b[91m- boost_jll v1.79.0+0\u001b[39m\n",
      "  \u001b[90m[1317d2d5] \u001b[39m\u001b[91m- oneTBB_jll v2021.9.0+0\u001b[39m\n",
      "  \u001b[90m[781609d7] \u001b[39m\u001b[91m- GMP_jll v6.2.1+2\u001b[39m"
     ]
    },
    {
     "name": "stderr",
     "output_type": "stream",
     "text": [
      "\n"
     ]
    }
   ],
   "source": [
    "import Pkg; Pkg.add(\"JSON\")\n",
    "\n",
    "using JSON"
   ]
  },
  {
   "cell_type": "code",
   "execution_count": 27,
   "metadata": {},
   "outputs": [
    {
     "data": {
      "text/plain": [
       "Dict{String, Any} with 7 entries:\n",
       "  \"land_substation_cable_types\"       => Any[Dict{String, Any}(\"rating\"=>500, \"…\n",
       "  \"wind_turbines\"                     => Any[Dict{String, Any}(\"id\"=>1, \"x\"=>-5…\n",
       "  \"wind_scenarios\"                    => Any[Dict{String, Any}(\"power_generatio…\n",
       "  \"substation_locations\"              => Any[Dict{String, Any}(\"id\"=>1, \"x\"=>-1…\n",
       "  \"substation_types\"                  => Any[Dict{String, Any}(\"cost\"=>100000, …\n",
       "  \"general_parameters\"                => Dict{String, Any}(\"maximum_power\"=>100…\n",
       "  \"substation_substation_cable_types\" => Any[Dict{String, Any}(\"rating\"=>500, \"…"
      ]
     },
     "metadata": {},
     "output_type": "display_data"
    }
   ],
   "source": [
    "json_toy = JSON.parsefile(\"KIRO-tiny.json\")\n"
   ]
  },
  {
   "cell_type": "code",
   "execution_count": 28,
   "metadata": {},
   "outputs": [
    {
     "data": {
      "text/plain": [
       "Dict{String, Any} with 7 entries:\n",
       "  \"land_substation_cable_types\"       => Any[Dict{String, Any}(\"rating\"=>200, \"…\n",
       "  \"wind_turbines\"                     => Any[Dict{String, Any}(\"id\"=>1, \"x\"=>79…\n",
       "  \"wind_scenarios\"                    => Any[Dict{String, Any}(\"power_generatio…\n",
       "  \"substation_locations\"              => Any[Dict{String, Any}(\"id\"=>1, \"x\"=>35…\n",
       "  \"substation_types\"                  => Any[Dict{String, Any}(\"cost\"=>300.0, \"…\n",
       "  \"general_parameters\"                => Dict{String, Any}(\"maximum_curtailing\"…\n",
       "  \"substation_substation_cable_types\" => Any[Dict{String, Any}(\"rating\"=>100, \"…"
      ]
     },
     "metadata": {},
     "output_type": "display_data"
    }
   ],
   "source": [
    "json_small = JSON.parsefile(\"KIRO-small.json\")"
   ]
  },
  {
   "cell_type": "code",
   "execution_count": 29,
   "metadata": {},
   "outputs": [
    {
     "data": {
      "text/plain": [
       "Dict{String, Any} with 7 entries:\n",
       "  \"land_substation_cable_types\"       => Any[Dict{String, Any}(\"rating\"=>200, \"…\n",
       "  \"wind_turbines\"                     => Any[Dict{String, Any}(\"id\"=>1, \"x\"=>78…\n",
       "  \"wind_scenarios\"                    => Any[Dict{String, Any}(\"power_generatio…\n",
       "  \"substation_locations\"              => Any[Dict{String, Any}(\"id\"=>1, \"x\"=>40…\n",
       "  \"substation_types\"                  => Any[Dict{String, Any}(\"cost\"=>300.0, \"…\n",
       "  \"general_parameters\"                => Dict{String, Any}(\"maximum_curtailing\"…\n",
       "  \"substation_substation_cable_types\" => Any[Dict{String, Any}(\"rating\"=>100, \"…"
      ]
     },
     "metadata": {},
     "output_type": "display_data"
    }
   ],
   "source": [
    "json_medium = JSON.parsefile(\"KIRO-medium.json\")"
   ]
  },
  {
   "cell_type": "code",
   "execution_count": 30,
   "metadata": {},
   "outputs": [
    {
     "data": {
      "text/plain": [
       "Dict{String, Any} with 7 entries:\n",
       "  \"land_substation_cable_types\"       => Any[Dict{String, Any}(\"rating\"=>200, \"…\n",
       "  \"wind_turbines\"                     => Any[Dict{String, Any}(\"id\"=>1, \"x\"=>78…\n",
       "  \"wind_scenarios\"                    => Any[Dict{String, Any}(\"power_generatio…\n",
       "  \"substation_locations\"              => Any[Dict{String, Any}(\"id\"=>1, \"x\"=>65…\n",
       "  \"substation_types\"                  => Any[Dict{String, Any}(\"cost\"=>240.0, \"…\n",
       "  \"general_parameters\"                => Dict{String, Any}(\"maximum_curtailing\"…\n",
       "  \"substation_substation_cable_types\" => Any[Dict{String, Any}(\"rating\"=>100, \"…"
      ]
     },
     "metadata": {},
     "output_type": "display_data"
    }
   ],
   "source": [
    "json_large = JSON.parsefile(\"KIRO-large.json\")"
   ]
  },
  {
   "cell_type": "code",
   "execution_count": 31,
   "metadata": {},
   "outputs": [
    {
     "data": {
      "text/plain": [
       "Dict{String, Any} with 7 entries:\n",
       "  \"land_substation_cable_types\"       => Any[Dict{String, Any}(\"rating\"=>200, \"…\n",
       "  \"wind_turbines\"                     => Any[Dict{String, Any}(\"id\"=>1, \"x\"=>79…\n",
       "  \"wind_scenarios\"                    => Any[Dict{String, Any}(\"power_generatio…\n",
       "  \"substation_locations\"              => Any[Dict{String, Any}(\"id\"=>1, \"x\"=>22…\n",
       "  \"substation_types\"                  => Any[Dict{String, Any}(\"cost\"=>240.0, \"…\n",
       "  \"general_parameters\"                => Dict{String, Any}(\"maximum_curtailing\"…\n",
       "  \"substation_substation_cable_types\" => Any[Dict{String, Any}(\"rating\"=>100, \"…"
      ]
     },
     "metadata": {},
     "output_type": "display_data"
    }
   ],
   "source": [
    "json_huge = JSON.parsefile(\"KIRO-huge.json\")"
   ]
  },
  {
   "cell_type": "code",
   "execution_count": 32,
   "metadata": {},
   "outputs": [
    {
     "data": {
      "text/plain": [
       "get_substation_substation_cable_types (generic function with 1 method)"
      ]
     },
     "metadata": {},
     "output_type": "display_data"
    }
   ],
   "source": [
    "# Get Functions\n",
    "\n",
    "function get_parameters(name_json)\n",
    "    general_parameters = name_json[\"general_parameters\"]\n",
    "    return general_parameters\n",
    "end\n",
    "\n",
    "function get_wind_turbines(name_json)\n",
    "    get_wind_turbines = name_json[\"wind_turbines\"]\n",
    "\n",
    "    return get_wind_turbines\n",
    "end\n",
    "\n",
    "function get_wind_scenarios(name_json)\n",
    "    get_wind_scenarios = name_json[\"wind_scenarios\"]\n",
    "    return get_wind_scenarios\n",
    "end\n",
    "\n",
    "function get_substation_locations(name_json)\n",
    "    get_substation_locations = name_json[\"substation_locations\"]\n",
    "    \n",
    "    return get_substation_locations\n",
    "end\n",
    "\n",
    "function get_substation_types(name_json)\n",
    "    get_substation_types = name_json[\"substation_types\"]\n",
    "\n",
    "    return get_substation_types\n",
    "end\n",
    "\n",
    "function get_land_substation_cable_types(name_json)\n",
    "    get_land_substation_cable_types = name_json[\"land_substation_cable_types\"]\n",
    "\n",
    "    return get_land_substation_cable_types\n",
    "end\n",
    "\n",
    "function get_substation_substation_cable_types(name_json)\n",
    "    get_substation_substation_cable_types = name_json[\"substation_substation_cable_types\"]\n",
    "\n",
    "    return get_substation_substation_cable_types\n",
    "end"
   ]
  },
  {
   "cell_type": "code",
   "execution_count": 33,
   "metadata": {},
   "outputs": [
    {
     "data": {
      "text/plain": [
       "cost (generic function with 1 method)"
      ]
     },
     "metadata": {},
     "output_type": "display_data"
    }
   ],
   "source": [
    "# Fonctions coûts \n",
    "\n",
    "function cost_turbines_substation(L, D1, general_parameters)\n",
    "    # L : vecteur liant turbines et sous-stations\n",
    "    # D1 : matrice des distances entre les turbines et les sous-stations\n",
    "    # general_parameters : paramètres généraux du problème\n",
    "\n",
    "    # On initialise le coût\n",
    "    cost = 0\n",
    "\n",
    "    # On calcule le coût de la liaison entre les turbines et les sous-stations\n",
    "    for i in 1:length(L)\n",
    "        cost += general_parameters[\"C_ft\"] +D1[i,L[i]]*general_parameters[\"C_lt\"]\n",
    "    end\n",
    "\n",
    "    return cost\n",
    "end\n",
    "\n",
    "function cost_substation_substation(S, D2, substation_substation_cable_types)\n",
    "    # S : vecteur liant les sous-stations\n",
    "    # D2 : matrice des distances entre les sous-stations\n",
    "    # substation_substation_cable_types : types de câbles entre les sous-stations\n",
    "\n",
    "    # On initialise le coût\n",
    "    cost = 0\n",
    "\n",
    "    # On calcule le coût de la liaison entre les sous-stations\n",
    "    for i in 1:length(S)\n",
    "        cost += substation_substation_cable_types[S[i][3]][\"fixed_cost\"]+D2[i,S[i][2]]*substation_substation_cable_types[S[i][3]][\"variable_cost\"]\n",
    "    end\n",
    "\n",
    "    cost = cost/2\n",
    "\n",
    "    return cost\n",
    "end\n",
    "\n",
    "function cost_substation_land_substation(S, D3, land_substation_cable_types)\n",
    "    # S : vecteur liant les sous-stations\n",
    "    # D3 : vecteur des distances entre les sous-stations et la station terrestre\n",
    "    # land_substation_cable_types : types de câbles entre les sous-stations et la station terrestre\n",
    "\n",
    "    # On initialise le coût\n",
    "    cost = 0\n",
    "\n",
    "    # On calcule le coût de la liaison entre les sous-stations et la station terrestre\n",
    "    for i in 1:length(S)\n",
    "        cost += land_substation_cable_types[S[i][4]][\"fixed_cost\"]+D3[i]*land_substation_cable_types[S[i][4]][\"variable_cost\"]\n",
    "    end\n",
    "end\n",
    "\n",
    "function cost_substation(S, substation_types)\n",
    "    # S : vecteur liant les sous-stations\n",
    "    # substation_types : types de sous-stations\n",
    "\n",
    "    # On initialise le coût\n",
    "    cost = 0\n",
    "\n",
    "    # On calcule le coût de construction des sous-stations\n",
    "    for i in 1:length(S)\n",
    "        cost += substation_types[S[i][1]][\"cost\"]\n",
    "    end\n",
    "\n",
    "    return cost\n",
    "end\n",
    "\n",
    "\n",
    "function c_c(C, general_parameters)\n",
    "\n",
    "    return general_parameters[\"curtailing_cost\"]*C + general_parameters[\"curtailing_penalty\"]*max(0,C-general_parameters[\"maximum_curtailing\"])\n",
    "end\n",
    "\n",
    "\n",
    "function C_f_aux(v, v1, w, wind_scenarios, S, substation_substation_cable_types, land_substation_cable_types, substation_types)\n",
    "    C_f_aux = 0\n",
    "\n",
    "    C_f_aux += wind_scenarios[w][\" power_generation \"]*S[v1][1]\n",
    "\n",
    "    if S[v1][2]==v\n",
    "        C_f_aux += min(substation_substation_cable_types[S[v1][3]][\"rating\"], wind_scenarios[w][\" power_generation \"]*S[v][1])\n",
    "    else\n",
    "        C_f_aux += min(0, wind_scenarios[w][\" power_generation \"]*S[v][1])\n",
    "    end\n",
    "\n",
    "    if S[v1][4]!=0\n",
    "        C_f_aux -= min(substation_types[S[v1][5]],land_substation_cable_types[S[v1][4]][\"rating\"])\n",
    "    end\n",
    "end\n",
    "\n",
    "\n",
    "function C_f(v, w, wind_scenarios, S, substation_substation_cable_types, land_substation_cable_types, substation_types)\n",
    "    C_f = 0\n",
    "\n",
    "    if S[v][2]!=0\n",
    "        Cf += max(0, wind_scenarios[w][\" power_generation \"]*S[v][1]-substation_substation_cable_types[S[v][3]][\"rating\"])\n",
    "    else\n",
    "        Cf += max(0, wind_scenarios[w][\" power_generation \"]*S[v][1])\n",
    "    end\n",
    "\n",
    "    for i in 1:length(S)\n",
    "        if S[i][4]!=0\n",
    "            Cf += max(0, C_f_aux(v, i, w, wind_scenarios, S, substation_substation_cable_types, land_substation_cable_types, substation_types))\n",
    "        end\n",
    "    end\n",
    "\n",
    "    return C_f\n",
    "\n",
    "end\n",
    "\n",
    "\n",
    "function C_n(w, wind_scenarios, S, substation_substation_cable_types, land_substation_cable_types, substation_types)\n",
    "    \n",
    "    C_n = 0\n",
    "\n",
    "    for i in 1:length(S)\n",
    "        if S[i][4]!=0\n",
    "            C_n += max(0, wind_scenarios[w][\" power_generation \"]*S[i][1]-min(min(substation_types[S[v1][5]],land_substation_cable_types[S[v1][4]][\"rating\"])))\n",
    "        end\n",
    "    end\n",
    "\n",
    "    return C_n\n",
    "end\n",
    "    \n",
    "\n",
    "function p_f(v, S, land_substation_cable_types, substation_types)\n",
    "    p_f = 0\n",
    "\n",
    "    p_f += land_substation_cable_types[S[v][4]][\"probability_of_failure \"]\n",
    "\n",
    "    p_f += substation_types[S[v][5]][\"probability_of_failure \"]\n",
    "\n",
    "    return p_f\n",
    "end\n",
    "\n",
    "\n",
    "function operational_cost_aux(S, w, wind_scenarios, general_parameters, substation_substation_cable_types, land_substation_cable_types, substation_types)\n",
    "    cost = 0\n",
    "\n",
    "    for i in 1:length(S)\n",
    "        cost += p_f(i, S, land_substation_cable_types, substation_types)*c_c(C_f(i, w, wind_scenarios, S, substation_substation_cable_types, land_substation_cable_types, substation_types,general_parameters))\n",
    "        cost += (1-p_f(i, S, land_substation_cable_types, substation_types))*c_c(C_n(w, wind_scenarios, S, substation_substation_cable_types, land_substation_cable_types, substation_types,general_parameters))\n",
    "    end\n",
    "end\n",
    "\n",
    "function operational_cost(L, S, wind_scenarios, general_parameters, substation_substation_cable_types, land_substation_cable_types, substation_types)\n",
    "    # L : vecteur liant turbines et sous-stations\n",
    "    # S : vecteur liant les sous-stations\n",
    "    # wind_scenarios : scénarios de vent\n",
    "    # general_parameters : paramètres généraux du problème\n",
    "\n",
    "    # On initialise le coût\n",
    "    cost = 0\n",
    "\n",
    "    for w in 1:length(wind_scenarios)\n",
    "        cost += wind_scenarios[w][\"probability\"]*operational_cost_aux(S, w, wind_scenarios, general_parameters, substation_substation_cable_types, land_substation_cable_types, substation_types)\n",
    "        \n",
    "    end\n",
    "\n",
    "    return cost\n",
    "end\n",
    "\n",
    "function cost(L, S, D1, D2, D3, wind_scenarios, general_parameters, substation_substation_cable_types, land_substation_cable_types, substation_types)\n",
    "    # L : vecteur liant turbines et sous-stations\n",
    "    # S : vecteur liant les sous-stations\n",
    "    # D1 : matrice des distances entre les turbines et les sous-stations\n",
    "    # D2 : matrice des distances entre les sous-stations\n",
    "    # D3 : vecteur des distances entre les sous-stations et la station terrestre\n",
    "    # wind_scenarios : scénarios de vent\n",
    "    # general_parameters : paramètres généraux du problème\n",
    "    # substation_substation_cable_types : types de câbles entre les sous-stations\n",
    "    # land_substation_cable_types : types de câbles entre les sous-stations et la station terrestre\n",
    "    # substation_types : types de sous-stations\n",
    "\n",
    "    # On initialise le coût\n",
    "    cost = 0\n",
    "\n",
    "    # On calcule le coût de la liaison entre les turbines et les sous-stations\n",
    "    cost += cost_turbines_substation(L, D1, general_parameters)\n",
    "\n",
    "    # On calcule le coût de la liaison entre les sous-stations\n",
    "    cost += cost_substation_substation(S, D2, substation_substation_cable_types)\n",
    "\n",
    "    # On calcule le coût de la liaison entre les sous-stations et la station terrestre\n",
    "    cost += cost_substation_land_substation(S, D3, land_substation_cable_types)\n",
    "\n",
    "    # On calcule le coût de construction des sous-stations\n",
    "    cost += cost_substation(S, substation_types)\n",
    "\n",
    "    # On calcule le coût opérationnel\n",
    "    cost += operational_cost(L, S, wind_scenarios, general_parameters, substation_substation_cable_types, land_substation_cable_types, substation_types)\n",
    "\n",
    "    return cost\n",
    "end"
   ]
  },
  {
   "cell_type": "code",
   "execution_count": 34,
   "metadata": {},
   "outputs": [
    {
     "data": {
      "text/plain": [
       "heuristique_1 (generic function with 1 method)"
      ]
     },
     "metadata": {},
     "output_type": "display_data"
    }
   ],
   "source": [
    "# Heuristic Functions\n",
    "\n",
    "function heuristique_1(D1, D2)\n",
    "    # D1 : matrice des distances entre les turbines et les sous-stations\n",
    "    # D2 : matrice des distances entre les sous-stations\n",
    "\n",
    "    # On initialise le vecteur liant turbines et sous-stations\n",
    "    L = zeros(length(D1),1)\n",
    "\n",
    "    # On initialise le vecteur des sous-stations\n",
    "    S = zeros(length(D2),1)\n",
    "\n",
    "    # On emplit ce vecteur en associant à chaque turbine la sous-station la plus proche\n",
    "    for i in 1:length(D1)\n",
    "        L[i] = argmin(D1[i,:])\n",
    "        S[L[i]][1] += 1\n",
    "    end\n",
    "\n",
    "    # On emplit ce vecteur en associant à chaque sous-station présente dans L la sous-station la plus proche\n",
    "    for i in 1:length(L)\n",
    "        if S[L[i]][2] == 0\n",
    "            S[L[i]][2] = argmin(D2[L[i],:])\n",
    "            S[S[L[i]][2]][2] = L[i]\n",
    "        end\n",
    "    end\n",
    "\n",
    "    return L,S\n",
    "end"
   ]
  },
  {
   "cell_type": "code",
   "execution_count": 35,
   "metadata": {},
   "outputs": [
    {
     "data": {
      "text/plain": [
       "distance (generic function with 1 method)"
      ]
     },
     "metadata": {},
     "output_type": "display_data"
    }
   ],
   "source": [
    "#  Création des matrices de distances des turbines aux sous-stations, des sous-stations à la station terrestre et des sous-stations entre elles\n",
    "\n",
    "function distance(V_t,V_s,v_0)\n",
    "    # V_t : vecteur des turbines\n",
    "    # V_s : vecteur des sous-stations\n",
    "    # v_0 : vecteur de la station terrestre\n",
    "    \n",
    "    # On initialise le vecteur des distances\n",
    "    D1 = zeros(length(V_t),length(V_s))\n",
    "    D2 = zeros(length(V_s),length(V_s))\n",
    "    D3 = zeros(length(V_s),1)\n",
    "\n",
    "    # On calcule les distances entre les turbines et les sous-stations, et entre les sous-stations et la station terrestre et entre les sous-stations\n",
    "    for i in 1:length(V_t)\n",
    "        for j in 1:length(V_s)\n",
    "            D1[i,j] = sqrt((V_t[i][1]-V_s[j][1])^2 + (V_t[i][2]-V_s[j][2])^2)\n",
    "        end\n",
    "    end\n",
    "\n",
    "    for i in 1:length(V_s)\n",
    "        for j in 1:length(V_s)\n",
    "            D2[i,j] = sqrt((V_s[i][1]-V_s[j][1])^2 + (V_s[i][2]-V_s[j][2])^2)\n",
    "        end\n",
    "        D2[i,i] = +Inf\n",
    "    end\n",
    "\n",
    "    for i in 1:length(V_s)\n",
    "        D3[i] = sqrt((V_s[i][1]-v_0[1])^2 + (V_s[i][2]-v_0[2])^2)\n",
    "    end\n",
    "\n",
    "    return D1,D2,D3\n",
    "end"
   ]
  },
  {
   "cell_type": "code",
   "execution_count": 28,
   "metadata": {},
   "outputs": [
    {
     "data": {
      "text/plain": [
       "heuristique_1 (generic function with 2 methods)"
      ]
     },
     "metadata": {},
     "output_type": "display_data"
    }
   ],
   "source": [
    "# Heuristique ; on lie les turbines aux sous-stations les plus proches\n",
    "\n",
    "function heuristique_1(D1, D2, substation_substation_cable_types, land_substation_cable_types, substation_types)\n",
    "    # D1 : matrice des distances entre les turbines et les sous-stations\n",
    "    # D2 : matrice des distances entre les sous-stations\n",
    "    # D3 : vecteur des distances entre les sous-stations et la station terrestre\n",
    "\n",
    "    # On choisit aléatoirement une turbine, notée n, on la lie avec la sous-station la plus proche de celle à laquelle est elle actuellement associée\n",
    "    L1 = L\n",
    "    S1 = S\n",
    "\n",
    "    new = rand(1:length(L))\n",
    "\n",
    "    # On emplit ce vecteur en associant à chaque turbine la sous-station la plus proche\n",
    "    for i in 1:length(D1)\n",
    "        L[i] = argmin(D1[i,:])\n",
    "        S[L[i]][5] = substation_types[-1]\n",
    "        S[L[i]][3] = land_substation_cable_types[-1]\n",
    "        S[L[i]][1] += 1\n",
    "    end\n",
    "\n",
    "    # On emplit ce vecteur en associant à chaque sous-station présente dans L la sous-station présente dans L la plus proche\n",
    "    for i in 1:length(L)\n",
    "        if S[L[i]][2] == 0 && S[argmin(D2[L[i],L])][2] == 0\n",
    "            S[L[i]][2] = argmin(D2[L[i],L])\n",
    "            S[S[L[i]][2]][2] = L[i]\n",
    "            S[L[i]][4] = substation_substation_cable_types[-1]\n",
    "            S[S[L[i]][2]][4] = substation_substation_cable_types[-1]\n",
    "        end\n",
    "    end\n",
    "\n",
    "    if cost(L1, S1, D1, D2, D3) < cost(L, S, D1, D2, D3)\n",
    "        return L1, S1\n",
    "    else\n",
    "        return L, S\n",
    "    end\n",
    "end\n",
    "\n",
    "function voisinage_substation_aux_1(L, S, D1, D2, D3)\n",
    "    # L : vecteur liant turbines et sous-stations\n",
    "    # S : vecteur liant les sous-stations\n",
    "    # D1 : matrice des distances entre les turbines et les sous-stations\n",
    "    # D2 : matrice des distances entre les sous-stations\n",
    "    # D3 : vecteur des distances entre les sous-stations et la station terrestre\n",
    "\n",
    "    # On choisit aléatoirement une sous-station reliée à une turbine, notée n, on la lie avec la sous-station la plus proche de celle à laquelle est elle actuellement associée\n",
    "    L1 = L\n",
    "    S1 = S\n",
    "\n",
    "    new = rand(1:length(L))\n",
    "\n",
    "    new = L1[new]\n",
    "\n",
    "    old = S1[new][2]\n",
    "    S1[old][2] = 0\n",
    "\n",
    "    if S1[argmin(D2[old,:])][2]==0 && S1[argmin(D2[old,:])][1]!=0\n",
    "        S1[argmin(D2[old,:])][2] = new\n",
    "        S1[new][2] = argmin(D2[old,:])\n",
    "    else\n",
    "        S1[new][2]=0\n",
    "    end\n",
    "    \n",
    "end"
   ]
  },
  {
   "cell_type": "code",
   "execution_count": 36,
   "metadata": {},
   "outputs": [
    {
     "data": {
      "text/plain": [
       "voisinage_substation_substation (generic function with 1 method)"
      ]
     },
     "metadata": {},
     "output_type": "display_data"
    }
   ],
   "source": [
    "# Fonctions voisinages\n",
    "# Ces fonctions sont la base de la méta-heuristique ; elles effectuent les changements de lien entre turbines et sous-stations et entre sous-stations entre elles\n",
    "\n",
    "function voisinage_turbine_substation(L, S, D1, D2, D3, wind_scenarios, general_parameters, substation_substation_cable_types, land_substation_cable_types, substation_types)\n",
    "    # L : vecteur liant turbines et sous-stations\n",
    "    # S : vecteur liant les sous-stations\n",
    "    # D1 : matrice des distances entre les turbines et les sous-stations\n",
    "    # D2 : matrice des distances entre les sous-stations\n",
    "    # D3 : vecteur des distances entre les sous-stations et la station terrestre\n",
    "\n",
    "    # On choisit aléatoirement une turbine, notée n, on la lie avec la sous-station la plus proche de celle à laquelle est elle actuellement associée\n",
    "    c = cost(L, S, D1, D2, D3, wind_scenarios, general_parameters, substation_substation_cable_types, land_substation_cable_types, substation_types)\n",
    "\n",
    "    new = rand(1:length(L))\n",
    "\n",
    "    old = L[new]\n",
    "    linked_old = S[old][2]\n",
    "\n",
    "    # On change la liaison entre la turbine et la sous-station en choisissant la sous-station la plus proche de l'ancienne sous-station\n",
    "    L[new] = argmin(D2[old,filter(x -> x != new, L)])\n",
    "    S[old][1] -= 1\n",
    "\n",
    "    # Si la sous-station n'est plus reliée à aucune turbine, on la supprime\n",
    "    if S[old][1] == 0\n",
    "        S[linked_old][2] = 0\n",
    "        S[linked_old][4] = 0\n",
    "        S[old][2] = 0\n",
    "        S[old][3] = 0\n",
    "        S[old][4] = 0\n",
    "        S[old][5] = 0\n",
    "    end\n",
    "\n",
    "    S[L[new]][1] += 1\n",
    "    if linked_old != 0 && S[L[new]][2] == 0\n",
    "        S[L[new]][2] = linked_old\n",
    "        S[linked_old][2] = L[new]\n",
    "        \n",
    "    end\n",
    "\n",
    "    if cost(L, S, D1, D2, D3, wind_scenarios, general_parameters, substation_substation_cable_types, land_substation_cable_types, substation_types) < c\n",
    "        return L, S\n",
    "    else\n",
    "        return None\n",
    "    end\n",
    "end\n",
    "\n",
    "function voisinage_substation_substation(L, S, D1, D2, D3, wind_scenarios, general_parameters, substation_substation_cable_types, land_substation_cable_types, substation_types)\n",
    "    # L : vecteur liant turbines et sous-stations\n",
    "    # S : vecteur liant les sous-stations\n",
    "    # D1 : matrice des distances entre les turbines et les sous-stations\n",
    "    # D2 : matrice des distances entre les sous-stations\n",
    "    # D3 : vecteur des distances entre les sous-stations et la station terrestre\n",
    "\n",
    "    # On choisit aléatoirement une sous-station, notée n, on la lie avec la sous-station la plus proche de celle à laquelle est elle actuellement associée\n",
    "    c = cost(L, S, D1, D2, D3, wind_scenarios, general_parameters, substation_substation_cable_types, land_substation_cable_types, substation_types)\n",
    "    L1 = L\n",
    "    S1 = S\n",
    "    substation = rand(1:length(L))\n",
    "\n",
    "    old = S[substation][2]\n",
    "\n",
    "    # On change la liaison entre la sous-station et la sous-station en choisissant la sous-station liée à une turbine la plus proche de l'ancienne sous-station\n",
    "    new = L[1][argmin(D2[old,filter(x -> x != substation, L)])]\n",
    "    S[old][2] = S[new][2]\n",
    "    S[old[2]][2] = old\n",
    "    S[new][2] = substation\n",
    "    S[substation][2] = new\n",
    "\n",
    "    S[old][4] = substation_substation_cable_types[-1]\n",
    "    S[new][4] = substation_substation_cable_types[-1]\n",
    "    S[substation][4] = substation_substation_cable_types[-1]\n",
    "    S[old[2]][4] = substation_substation_cable_types[-1]\n",
    "\n",
    "    if cost(L, S, D1, D2, D3, wind_scenarios, general_parameters, substation_substation_cable_types, land_substation_cable_types, substation_types) < c\n",
    "        return L, S\n",
    "    else\n",
    "        return L1, S1\n",
    "    end\n",
    "end\n"
   ]
  },
  {
   "cell_type": "code",
   "execution_count": 30,
   "metadata": {},
   "outputs": [
    {
     "data": {
      "text/plain": [
       "metaheuristique (generic function with 1 method)"
      ]
     },
     "metadata": {},
     "output_type": "display_data"
    }
   ],
   "source": [
    "# Métaheuristique\n",
    "\n",
    "function metaheuristique(wind_scenarios, general_parameters, substation_substation_cable_types, land_substation_cable_types, substation_types)\n",
    "    D1, D2, D3 = distance(V_t,V_s,coords_mls)\n",
    "    L, S = heuristique_1(D1, D2, substation_substation_cable_types, land_substation_cable_types, substation_types)\n",
    "    costs = Float64[]\n",
    "    for i in 1000\n",
    "        if rand() < 0.5\n",
    "            L, S = voisinage_turbine_substation(L, S, D1, D2, D3, wind_scenarios, general_parameters, substation_substation_cable_types, land_substation_cable_types, substation_types)\n",
    "        else\n",
    "            L, S = voisinage_substation_substation(L, S, D1, D2, D3, wind_scenarios, general_parameters, substation_substation_cable_types, land_substation_cable_types, substation_types)\n",
    "        end \n",
    "        if i/10 == 0\n",
    "            new_cost = cost(L, S, D1, D2, D3, wind_scenarios, general_parameters, substation_substation_cable_types, land_substation_cable_types, substation_types)\n",
    "            push!(costs, new_cost)\n",
    "        end\n",
    "    end\n",
    "    final_cost = cost(L, S, D1, D2, D3, wind_scenarios, general_parameters, substation_substation_cable_types, land_substation_cable_types, substation_types)\n",
    "    plot(1:1000, costs, xlabel = \"Itérations\", ylabel = \"Coût\", title = \"Évolution du coût\")\n",
    "    return L, S, final_cost\n",
    "end"
   ]
  },
  {
   "cell_type": "code",
   "execution_count": 34,
   "metadata": {},
   "outputs": [
    {
     "data": {
      "text/plain": [
       "18-element Vector{Any}:\n",
       " Dict{String, Any}(\"rating\" => 100, \"variable_cost\" => 1.0, \"id\" => 1, \"fixed_cost\" => 40.0)\n",
       " Dict{String, Any}(\"rating\" => 200, \"variable_cost\" => 2.0, \"id\" => 2, \"fixed_cost\" => 40.0)\n",
       " Dict{String, Any}(\"rating\" => 300, \"variable_cost\" => 3.0, \"id\" => 3, \"fixed_cost\" => 40.0)\n",
       " Dict{String, Any}(\"rating\" => 500, \"variable_cost\" => 5.0, \"id\" => 4, \"fixed_cost\" => 50.0)\n",
       " Dict{String, Any}(\"rating\" => 900, \"variable_cost\" => 9.0, \"id\" => 5, \"fixed_cost\" => 50.0)\n",
       " Dict{String, Any}(\"rating\" => 1450, \"variable_cost\" => 14.0, \"id\" => 6, \"fixed_cost\" => 60.0)\n",
       " Dict{String, Any}(\"rating\" => 100, \"variable_cost\" => 0.9, \"id\" => 7, \"fixed_cost\" => 36.0)\n",
       " Dict{String, Any}(\"rating\" => 200, \"variable_cost\" => 1.8, \"id\" => 8, \"fixed_cost\" => 36.0)\n",
       " Dict{String, Any}(\"rating\" => 300, \"variable_cost\" => 2.7, \"id\" => 9, \"fixed_cost\" => 36.0)\n",
       " Dict{String, Any}(\"rating\" => 500, \"variable_cost\" => 4.5, \"id\" => 10, \"fixed_cost\" => 45.0)\n",
       " Dict{String, Any}(\"rating\" => 900, \"variable_cost\" => 8.1, \"id\" => 11, \"fixed_cost\" => 45.0)\n",
       " Dict{String, Any}(\"rating\" => 1450, \"variable_cost\" => 12.6, \"id\" => 12, \"fixed_cost\" => 54.0)\n",
       " Dict{String, Any}(\"rating\" => 100, \"variable_cost\" => 0.85, \"id\" => 13, \"fixed_cost\" => 34.0)\n",
       " Dict{String, Any}(\"rating\" => 200, \"variable_cost\" => 1.7, \"id\" => 14, \"fixed_cost\" => 34.0)\n",
       " Dict{String, Any}(\"rating\" => 300, \"variable_cost\" => 2.55, \"id\" => 15, \"fixed_cost\" => 34.0)\n",
       " Dict{String, Any}(\"rating\" => 500, \"variable_cost\" => 4.25, \"id\" => 16, \"fixed_cost\" => 42.5)\n",
       " Dict{String, Any}(\"rating\" => 900, \"variable_cost\" => 7.6499999999999995, \"id\" => 17, \"fixed_cost\" => 42.5)\n",
       " Dict{String, Any}(\"rating\" => 1450, \"variable_cost\" => 11.9, \"id\" => 18, \"fixed_cost\" => 51.0)"
      ]
     },
     "metadata": {},
     "output_type": "display_data"
    }
   ],
   "source": [
    "#collectes des données utiles\n",
    "\n",
    "file = json_small\n",
    "\n",
    "P_max = get_parameters(file)[\"maximum_power\"]\n",
    "coords_mls = get_parameters(file)[\"main_land_station\"]\n",
    "C_ft = get_parameters(file)[\"fixed_cost_cable\"]\n",
    "C_lt = get_parameters(file)[\"variable_cost_cable\"]\n",
    "C_0 = get_parameters(file)[\"curtailing_cost\"]\n",
    "C_p = get_parameters(file)[\"curtailing_penalty\"]\n",
    "C_max = get_parameters(file)[\"maximum_curtailing\"]\n",
    "general_parameters = Dict(\"maximum_power\" => P_max, \"main_land_station\" => coords_mls, \"fixed_cost_cable\" => C_ft, \"variable_cost_cable\" => C_lt, \"curtailing_cost\" => C_0, \"curtailing_penalty\" => C_p, \"maximum_curtailing\" => C_max)\n",
    "\n",
    "wind_turbines = get_wind_turbines(file)\n",
    "x_turbines = [turbine[\"x\"] for turbine in wind_turbines]\n",
    "y_turbines = [turbine[\"y\"] for turbine in wind_turbines]\n",
    "V_t = [x_turbines y_turbines]\n",
    "\n",
    "wind_scenarios = get_wind_scenarios(file)\n",
    "\n",
    "substation_locations = get_substation_locations(file)\n",
    "x_substations = [substation[\"x\"] for substation in substation_locations]\n",
    "y_substations = [substation[\"y\"] for substation in substation_locations]\n",
    "V_s = [x_substations y_substations]\n",
    "\n",
    "substation_types = get_substation_types(file)\n",
    "\n",
    "land_substation_cable_types = get_land_substation_cable_types(file)\n",
    "\n",
    "sub_sub_cable_types = get_substation_substation_cable_types(file)\n"
   ]
  },
  {
   "cell_type": "code",
   "execution_count": 36,
   "metadata": {},
   "outputs": [
    {
     "ename": "BoundsError",
     "evalue": "BoundsError",
     "output_type": "error",
     "traceback": [
      "BoundsError\n",
      "\n",
      "Stacktrace:\n",
      " [1] getindex\n",
      "   @ .\\number.jl:98 [inlined]\n",
      " [2] distance(V_t::Matrix{Float64}, V_s::Matrix{Float64}, v_0::Dict{String, Any})\n",
      "   @ Main c:\\ENPC\\Projects\\Kiro\\kiro.ipynb:16\n",
      " [3] metaheuristique(wind_scenarios::Vector{Any}, general_parameters::Dict{String, Any}, substation_substation_cable_types::Vector{Any}, land_substation_cable_types::Vector{Any}, substation_types::Vector{Any})\n",
      "   @ Main c:\\ENPC\\Projects\\Kiro\\kiro.ipynb:4\n",
      " [4] top-level scope\n",
      "   @ c:\\ENPC\\Projects\\Kiro\\kiro.ipynb:3"
     ]
    }
   ],
   "source": [
    "# Execution du programme\n",
    "\n",
    "L, S, cost = metaheuristique(wind_scenarios, general_parameters, sub_sub_cable_types, land_substation_cable_types, substation_types)"
   ]
  },
  {
   "cell_type": "code",
   "execution_count": null,
   "metadata": {},
   "outputs": [],
   "source": [
    "# Formatage en Json"
   ]
  }
 ],
 "metadata": {
  "kernelspec": {
   "display_name": "Julia 1.9.4",
   "language": "julia",
   "name": "julia-1.9"
  },
  "language_info": {
   "file_extension": ".jl",
   "mimetype": "application/julia",
   "name": "julia",
   "version": "1.9.4"
  }
 },
 "nbformat": 4,
 "nbformat_minor": 2
}
