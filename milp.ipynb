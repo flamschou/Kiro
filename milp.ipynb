{
 "cells": [
  {
   "cell_type": "code",
   "execution_count": 2,
   "metadata": {},
   "outputs": [
    {
     "name": "stderr",
     "output_type": "stream",
     "text": [
      "\u001b[32m\u001b[1m   Resolving\u001b[22m\u001b[39m package versions..."
     ]
    },
    {
     "name": "stderr",
     "output_type": "stream",
     "text": [
      "\n",
      "┌ Warning: The active manifest file at `C:\\Data\\2023-24\\REOP\\Kiro\\Manifest.toml` has an old format that is being maintained.\n",
      "│ To update to the new format, which is supported by Julia versions ≥ 1.6.2, run `import Pkg; Pkg.upgrade_manifest()` which will upgrade the format without re-resolving.\n",
      "│ To then record the julia version re-resolve with `Pkg.resolve()` and if there are resolve conflicts consider `Pkg.update()`.\n",
      "└ @ Pkg.Types C:\\Users\\caris\\AppData\\Local\\Programs\\Julia-1.9.4\\share\\julia\\stdlib\\v1.9\\Pkg\\src\\manifest.jl:316\n"
     ]
    },
    {
     "name": "stderr",
     "output_type": "stream",
     "text": [
      "\u001b[32m\u001b[1m  No Changes\u001b[22m\u001b[39m to `C:\\Data\\2023-24\\REOP\\Kiro\\Project.toml`\n",
      "\u001b[32m\u001b[1m  No Changes\u001b[22m\u001b[39m to `C:\\Data\\2023-24\\REOP\\Kiro\\Manifest.toml`"
     ]
    },
    {
     "name": "stderr",
     "output_type": "stream",
     "text": [
      "\n",
      "┌ Warning: The active manifest file is an older format with no julia version entry. Dependencies may have been resolved with a different julia version.\n",
      "└ @ nothing C:\\Data\\2023-24\\REOP\\Kiro\\Manifest.toml:0\n"
     ]
    },
    {
     "name": "stderr",
     "output_type": "stream",
     "text": [
      "\u001b[32m\u001b[1m   Resolving\u001b[22m\u001b[39m package versions..."
     ]
    },
    {
     "name": "stderr",
     "output_type": "stream",
     "text": [
      "\n",
      "\u001b[32m\u001b[1m  No Changes\u001b[22m\u001b[39m to `C:\\Data\\2023-24\\REOP\\Kiro\\Project.toml`\n",
      "\u001b[32m\u001b[1m  No Changes\u001b[22m\u001b[39m to `C:\\Data\\2023-24\\REOP\\Kiro\\Manifest.toml`"
     ]
    },
    {
     "name": "stderr",
     "output_type": "stream",
     "text": [
      "\n"
     ]
    },
    {
     "name": "stderr",
     "output_type": "stream",
     "text": [
      "\u001b[32m\u001b[1m   Resolving\u001b[22m\u001b[39m package versions..."
     ]
    },
    {
     "name": "stderr",
     "output_type": "stream",
     "text": [
      "\n",
      "\u001b[32m\u001b[1m  No Changes\u001b[22m\u001b[39m to `C:\\Data\\2023-24\\REOP\\Kiro\\Project.toml`\n",
      "\u001b[32m\u001b[1m  No Changes\u001b[22m\u001b[39m to `C:\\Data\\2023-24\\REOP\\Kiro\\Manifest.toml`"
     ]
    },
    {
     "name": "stderr",
     "output_type": "stream",
     "text": [
      "\n"
     ]
    }
   ],
   "source": [
    "import Pkg\n",
    "Pkg.add(\"JuMP\")\n",
    "import Pkg; Pkg.add(\"JSON\")\n",
    "using JSON\n",
    "import Pkg\n",
    "Pkg.add(\"HiGHS\")"
   ]
  },
  {
   "cell_type": "code",
   "execution_count": 3,
   "metadata": {},
   "outputs": [
    {
     "data": {
      "text/plain": [
       "get_substation_substation_cable_types (generic function with 1 method)"
      ]
     },
     "metadata": {},
     "output_type": "display_data"
    }
   ],
   "source": [
    "# get functions\n",
    "\n",
    "function get_parameters(name_json)\n",
    "    general_parameters = name_json[\"general_parameters\"]\n",
    "    return general_parameters\n",
    "end\n",
    "\n",
    "function get_wind_turbines(name_json)\n",
    "    get_wind_turbines = name_json[\"wind_turbines\"]\n",
    "\n",
    "    return get_wind_turbines\n",
    "end\n",
    "\n",
    "function get_wind_scenarios(name_json)\n",
    "    get_wind_scenarios = name_json[\"wind_scenarios\"]\n",
    "    return get_wind_scenarios\n",
    "end\n",
    "\n",
    "function get_substation_locations(name_json)\n",
    "    get_substation_locations = name_json[\"substation_locations\"]\n",
    "    \n",
    "    return get_substation_locations\n",
    "end\n",
    "\n",
    "function get_substation_types(name_json)\n",
    "    get_substation_types = name_json[\"substation_types\"]\n",
    "\n",
    "    return get_substation_types\n",
    "end\n",
    "\n",
    "function get_land_substation_cable_types(name_json)\n",
    "    get_land_substation_cable_types = name_json[\"land_substation_cable_types\"]\n",
    "\n",
    "    return get_land_substation_cable_types\n",
    "end\n",
    "\n",
    "function get_substation_substation_cable_types(name_json)\n",
    "    get_substation_substation_cable_types = name_json[\"substation_substation_cable_types\"]\n",
    "\n",
    "    return get_substation_substation_cable_types\n",
    "end"
   ]
  },
  {
   "cell_type": "code",
   "execution_count": 7,
   "metadata": {},
   "outputs": [
    {
     "name": "stdout",
     "output_type": "stream",
     "text": [
      "done"
     ]
    }
   ],
   "source": [
    "# data extraction\n",
    "\n",
    "json_small = JSON.parsefile(\"KIRO-small.json\")\n",
    "file = json_small\n",
    "\n",
    "P_max = get_parameters(file)[\"maximum_power\"]\n",
    "coords_mls = get_parameters(file)[\"main_land_station\"]\n",
    "C_ft = get_parameters(file)[\"fixed_cost_cable\"]\n",
    "C_lt = get_parameters(file)[\"variable_cost_cable\"]\n",
    "C_0 = get_parameters(file)[\"curtailing_cost\"]\n",
    "C_p = get_parameters(file)[\"curtailing_penalty\"]\n",
    "C_max = get_parameters(file)[\"maximum_curtailing\"]\n",
    "general_parameters = Dict(\"maximum_power\" => P_max, \"main_land_station\" => coords_mls, \"fixed_cost_cable\" => C_ft, \"variable_cost_cable\" => C_lt, \"curtailing_cost\" => C_0, \"curtailing_penalty\" => C_p, \"maximum_curtailing\" => C_max)\n",
    "\n",
    "wind_turbines = get_wind_turbines(file)\n",
    "x_turbines = [turbine[\"x\"] for turbine in wind_turbines]\n",
    "y_turbines = [turbine[\"y\"] for turbine in wind_turbines]\n",
    "V_t = [x_turbines y_turbines]\n",
    "\n",
    "wind_scenarios = get_wind_scenarios(file)\n",
    "\n",
    "substation_locations = get_substation_locations(file)\n",
    "x_substations = [substation[\"x\"] for substation in substation_locations]\n",
    "y_substations = [substation[\"y\"] for substation in substation_locations]\n",
    "V_s = [x_substations y_substations]\n",
    "\n",
    "S = get_substation_types(file)\n",
    "\n",
    "Q0 = get_land_substation_cable_types(file)\n",
    "\n",
    "QS = get_substation_substation_cable_types(file)\n",
    "\n",
    "print(\"done\")"
   ]
  },
  {
   "cell_type": "code",
   "execution_count": 8,
   "metadata": {},
   "outputs": [],
   "source": [
    "# Cost function in a linearized way\n",
    "\n"
   ]
  },
  {
   "cell_type": "code",
   "execution_count": 9,
   "metadata": {},
   "outputs": [
    {
     "name": "stdout",
     "output_type": "stream",
     "text": [
      "Running HiGHS 1.6.0: Copyright (c) 2023 HiGHS under MIT licence terms\n",
      "Presolving model\n",
      "120 rows, 2453 cols, 28785 nonzeros\n",
      "0 rows, 2 cols, 0 nonzeros\n",
      "0 rows, 0 cols, 0 nonzeros\n",
      "Presolve: Optimal\n",
      "\n",
      "Solving report\n",
      "  Status            Optimal\n",
      "  Primal bound      0\n",
      "  Dual bound        0\n",
      "  Gap               0% (tolerance: 0.01%)\n",
      "  Solution status   feasible\n",
      "                    0 (objective)\n",
      "                    0 (bound viol.)\n",
      "                    0 (int. viol.)\n",
      "                    0 (row viol.)\n",
      "  Timing            0.03 (total)\n",
      "                    0.03 (presolve)\n",
      "                    0.00 (postsolve)\n",
      "  Nodes             0\n",
      "  LP iterations     0 (total)\n",
      "                    0 (strong br.)\n",
      "                    0 (separation)\n",
      "                    0 (heuristics)\n"
     ]
    }
   ],
   "source": [
    "using HiGHS\n",
    "using JuMP\n",
    "\n",
    "# Create a JuMP model with HiGHS solver\n",
    "model = Model(HiGHS.Optimizer)\n",
    "\n",
    "# Define binary variables \n",
    "@variable(model, x[1:15, 1:20], binary=true)\n",
    "@variable(model, y[1:113, 1:20], binary=true)\n",
    "@variable(model, z[1:1125], binary=true)\n",
    "\n",
    "# Set objective function \n",
    "@objective(model, Min, c(x,y,z))\n",
    "\n",
    "# Constraint (1)\n",
    "for v in 1:15\n",
    "    @constraint(model, sum(x[v, s] for s in 1:20) <= 1)\n",
    "end\n",
    "\n",
    "# Constraint (2)\n",
    "for v in 1:15\n",
    "    S2 = sum(y[v, q] for q in 1:20)\n",
    "    S1 = sum(x[v, s] for s in 1:20)\n",
    "    @constraint(model, S1 == S2)\n",
    "end\n",
    "\n",
    "# Constraint (3)\n",
    "for t in 1:75\n",
    "    @constraint(model, sum(z[t+v] for v in 1:15) == 1)\n",
    "end\n",
    "\n",
    "# Constraint (4)\n",
    "for v in 1:15\n",
    "    S1 = sum(x[v, s] for s in 1:20)\n",
    "    S2 = sum(sum(y[e, q] for q in 1:18) for e in 16:113)\n",
    "    @constraint(model, S1 == S2)\n",
    "end\n",
    "\n",
    "\n",
    "# Solve the MILP problem\n",
    "optimize!(model)\n"
   ]
  }
 ],
 "metadata": {
  "kernelspec": {
   "display_name": "Julia 1.9.4",
   "language": "julia",
   "name": "julia-1.9"
  },
  "language_info": {
   "file_extension": ".jl",
   "mimetype": "application/julia",
   "name": "julia",
   "version": "1.9.4"
  }
 },
 "nbformat": 4,
 "nbformat_minor": 2
}
