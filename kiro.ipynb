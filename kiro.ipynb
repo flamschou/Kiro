{
 "cells": [
  {
   "cell_type": "code",
   "execution_count": 3,
   "metadata": {},
   "outputs": [
    {
     "name": "stderr",
     "output_type": "stream",
     "text": [
      "\u001b[32m\u001b[1m   Resolving\u001b[22m\u001b[39m package versions...\n"
     ]
    },
    {
     "name": "stderr",
     "output_type": "stream",
     "text": [
      "\u001b[32m\u001b[1m  No Changes\u001b[22m\u001b[39m to `C:\\Users\\caris\\.julia\\environments\\v1.9\\Project.toml`\n",
      "\u001b[32m\u001b[1m  No Changes\u001b[22m\u001b[39m to `C:\\Users\\caris\\.julia\\environments\\v1.9\\Manifest.toml`"
     ]
    },
    {
     "name": "stderr",
     "output_type": "stream",
     "text": [
      "\n"
     ]
    },
    {
     "name": "stderr",
     "output_type": "stream",
     "text": [
      "\u001b[32m\u001b[1m   Resolving\u001b[22m\u001b[39m package versions..."
     ]
    },
    {
     "name": "stderr",
     "output_type": "stream",
     "text": [
      "\n",
      "\u001b[32m\u001b[1m  No Changes\u001b[22m\u001b[39m to `C:\\Users\\caris\\.julia\\environments\\v1.9\\Project.toml`\n",
      "\u001b[32m\u001b[1m  No Changes\u001b[22m\u001b[39m to `C:\\Users\\caris\\.julia\\environments\\v1.9\\Manifest.toml`"
     ]
    },
    {
     "name": "stderr",
     "output_type": "stream",
     "text": [
      "\n"
     ]
    }
   ],
   "source": [
    "import Pkg; Pkg.add(\"JSON\"); Pkg.add(\"Plots\")\n",
    "\n",
    "using JSON\n",
    "using Plots"
   ]
  },
  {
   "cell_type": "code",
   "execution_count": 4,
   "metadata": {},
   "outputs": [
    {
     "data": {
      "text/plain": [
       "Dict{String, Any} with 7 entries:\n",
       "  \"land_substation_cable_types\"       => Any[Dict{String, Any}(\"rating\"=>500, \"…\n",
       "  \"wind_turbines\"                     => Any[Dict{String, Any}(\"id\"=>1, \"x\"=>-5…\n",
       "  \"wind_scenarios\"                    => Any[Dict{String, Any}(\"power_generatio…\n",
       "  \"substation_locations\"              => Any[Dict{String, Any}(\"id\"=>1, \"x\"=>-1…\n",
       "  \"substation_types\"                  => Any[Dict{String, Any}(\"cost\"=>100000, …\n",
       "  \"general_parameters\"                => Dict{String, Any}(\"maximum_power\"=>100…\n",
       "  \"substation_substation_cable_types\" => Any[Dict{String, Any}(\"rating\"=>500, \"…"
      ]
     },
     "metadata": {},
     "output_type": "display_data"
    }
   ],
   "source": [
    "json_tiny = JSON.parsefile(\"KIRO-tiny.json\")\n"
   ]
  },
  {
   "cell_type": "code",
   "execution_count": 5,
   "metadata": {},
   "outputs": [
    {
     "data": {
      "text/plain": [
       "Dict{String, Any} with 7 entries:\n",
       "  \"land_substation_cable_types\"       => Any[Dict{String, Any}(\"rating\"=>200, \"…\n",
       "  \"wind_turbines\"                     => Any[Dict{String, Any}(\"id\"=>1, \"x\"=>79…\n",
       "  \"wind_scenarios\"                    => Any[Dict{String, Any}(\"power_generatio…\n",
       "  \"substation_locations\"              => Any[Dict{String, Any}(\"id\"=>1, \"x\"=>35…\n",
       "  \"substation_types\"                  => Any[Dict{String, Any}(\"cost\"=>300.0, \"…\n",
       "  \"general_parameters\"                => Dict{String, Any}(\"maximum_curtailing\"…\n",
       "  \"substation_substation_cable_types\" => Any[Dict{String, Any}(\"rating\"=>100, \"…"
      ]
     },
     "metadata": {},
     "output_type": "display_data"
    }
   ],
   "source": [
    "json_small = JSON.parsefile(\"KIRO-small.json\")"
   ]
  },
  {
   "cell_type": "code",
   "execution_count": 6,
   "metadata": {},
   "outputs": [
    {
     "data": {
      "text/plain": [
       "Dict{String, Any} with 7 entries:\n",
       "  \"land_substation_cable_types\"       => Any[Dict{String, Any}(\"rating\"=>200, \"…\n",
       "  \"wind_turbines\"                     => Any[Dict{String, Any}(\"id\"=>1, \"x\"=>78…\n",
       "  \"wind_scenarios\"                    => Any[Dict{String, Any}(\"power_generatio…\n",
       "  \"substation_locations\"              => Any[Dict{String, Any}(\"id\"=>1, \"x\"=>40…\n",
       "  \"substation_types\"                  => Any[Dict{String, Any}(\"cost\"=>300.0, \"…\n",
       "  \"general_parameters\"                => Dict{String, Any}(\"maximum_curtailing\"…\n",
       "  \"substation_substation_cable_types\" => Any[Dict{String, Any}(\"rating\"=>100, \"…"
      ]
     },
     "metadata": {},
     "output_type": "display_data"
    }
   ],
   "source": [
    "json_medium = JSON.parsefile(\"KIRO-medium.json\")"
   ]
  },
  {
   "cell_type": "code",
   "execution_count": 7,
   "metadata": {},
   "outputs": [
    {
     "data": {
      "text/plain": [
       "Dict{String, Any} with 7 entries:\n",
       "  \"land_substation_cable_types\"       => Any[Dict{String, Any}(\"rating\"=>200, \"…\n",
       "  \"wind_turbines\"                     => Any[Dict{String, Any}(\"id\"=>1, \"x\"=>78…\n",
       "  \"wind_scenarios\"                    => Any[Dict{String, Any}(\"power_generatio…\n",
       "  \"substation_locations\"              => Any[Dict{String, Any}(\"id\"=>1, \"x\"=>65…\n",
       "  \"substation_types\"                  => Any[Dict{String, Any}(\"cost\"=>240.0, \"…\n",
       "  \"general_parameters\"                => Dict{String, Any}(\"maximum_curtailing\"…\n",
       "  \"substation_substation_cable_types\" => Any[Dict{String, Any}(\"rating\"=>100, \"…"
      ]
     },
     "metadata": {},
     "output_type": "display_data"
    }
   ],
   "source": [
    "json_large = JSON.parsefile(\"KIRO-large.json\")"
   ]
  },
  {
   "cell_type": "code",
   "execution_count": 8,
   "metadata": {},
   "outputs": [
    {
     "data": {
      "text/plain": [
       "Dict{String, Any} with 7 entries:\n",
       "  \"land_substation_cable_types\"       => Any[Dict{String, Any}(\"rating\"=>200, \"…\n",
       "  \"wind_turbines\"                     => Any[Dict{String, Any}(\"id\"=>1, \"x\"=>79…\n",
       "  \"wind_scenarios\"                    => Any[Dict{String, Any}(\"power_generatio…\n",
       "  \"substation_locations\"              => Any[Dict{String, Any}(\"id\"=>1, \"x\"=>22…\n",
       "  \"substation_types\"                  => Any[Dict{String, Any}(\"cost\"=>240.0, \"…\n",
       "  \"general_parameters\"                => Dict{String, Any}(\"maximum_curtailing\"…\n",
       "  \"substation_substation_cable_types\" => Any[Dict{String, Any}(\"rating\"=>100, \"…"
      ]
     },
     "metadata": {},
     "output_type": "display_data"
    }
   ],
   "source": [
    "json_huge = JSON.parsefile(\"KIRO-huge.json\")"
   ]
  },
  {
   "cell_type": "code",
   "execution_count": 9,
   "metadata": {},
   "outputs": [
    {
     "data": {
      "text/plain": [
       "get_substation_substation_cable_types (generic function with 1 method)"
      ]
     },
     "metadata": {},
     "output_type": "display_data"
    }
   ],
   "source": [
    "# Get Functions\n",
    "\n",
    "function get_parameters(name_json)\n",
    "    general_parameters = name_json[\"general_parameters\"]\n",
    "    return general_parameters\n",
    "end\n",
    "\n",
    "function get_wind_turbines(name_json)\n",
    "    get_wind_turbines = name_json[\"wind_turbines\"]\n",
    "\n",
    "    return get_wind_turbines\n",
    "end\n",
    "\n",
    "function get_wind_scenarios(name_json)\n",
    "    get_wind_scenarios = name_json[\"wind_scenarios\"]\n",
    "    return get_wind_scenarios\n",
    "end\n",
    "\n",
    "function get_substation_locations(name_json)\n",
    "    get_substation_locations = name_json[\"substation_locations\"]\n",
    "    \n",
    "    return get_substation_locations\n",
    "end\n",
    "\n",
    "function get_substation_types(name_json)\n",
    "    get_substation_types = name_json[\"substation_types\"]\n",
    "\n",
    "    return get_substation_types\n",
    "end\n",
    "\n",
    "function get_land_substation_cable_types(name_json)\n",
    "    get_land_substation_cable_types = name_json[\"land_substation_cable_types\"]\n",
    "\n",
    "    return get_land_substation_cable_types\n",
    "end\n",
    "\n",
    "function get_substation_substation_cable_types(name_json)\n",
    "    get_substation_substation_cable_types = name_json[\"substation_substation_cable_types\"]\n",
    "\n",
    "    return get_substation_substation_cable_types\n",
    "end"
   ]
  },
  {
   "cell_type": "code",
   "execution_count": 10,
   "metadata": {},
   "outputs": [
    {
     "name": "stdout",
     "output_type": "stream",
     "text": [
      "[0, 0]"
     ]
    },
    {
     "name": "stdout",
     "output_type": "stream",
     "text": [
      "Any["
     ]
    },
    {
     "name": "stdout",
     "output_type": "stream",
     "text": [
      "[79.0, -6.0], [79.5, -6.0], [80.0, -6.0], [80.5, -6.0], [81.0, -6.0], [79.0, -5.5], [79.5, -5.5], [80.0, -5.5], [80.5, -5.5], [81.0, -5.5], [79.0, -5.0], [79.5, -5.0], [80.0, -5.0], [80.5, -5.0], [81.0, -5.0], [79.0, -4.5], [79.5, -4.5], [80.0, -4.5], [80.5, -4.5], [81.0, -4.5], [79.0, -4.0], [79.5, -4.0], [80.0, -4.0], [80.5, -4.0], [81.0, -4.0], [79.0, -3.5], [79.5, -3.5], [80.0, -3.5], [80.5, -3.5], [81.0, -3.5], [79.0, -3.0], [79.5, -3.0], [80.0, -3.0], [80.5, -3.0], [81.0, -3.0], [79.0, -2.5], [79.5, -2.5], [80.0, -2.5], [80.5, -2.5], [81.0, -2.5], [79.0, -2.0], [79.5, -2.0], [80.0, -2.0], [80.5, -2.0], [81.0, -2.0], [79.0, -1.5], [79.5, -1.5], [80.0, -1.5], [80.5, -1.5], [81.0, -1.5], [79.0, -1.0], [79.5, -1.0], [80.0, -1.0], [80.5, -1.0], [81.0, -1.0], [79.0, -0.5], [79.5, -0.5], [80.0, -0.5], [80.5, -0.5], [81.0, -0.5], [79.0, 0.0], [79.5, 0.0], [80.0, 0.0], [80.5, 0.0], [81.0, 0.0], [79.0, 0.5], [79.5, 0.5], [80.0, 0.5], [80.5, 0.5], [81.0, 0.5], [79.0, 1.0], [79.5, 1.0], [80.0, 1.0], [80.5, 1.0], [81.0, 1.0], [79.0, 1.5], [79.5, 1.5], [80.0, 1.5], [80.5, 1.5], [81.0, 1.5], [79.0, 2.0], [79.5, 2.0], [80.0, 2.0], [80.5, 2.0], [81.0, 2.0], [79.0, 2.5], [79.5, 2.5], [80.0, 2.5], [80.5, 2.5], [81.0, 2.5], [79.0, 3.0], [79.5, 3.0], [80.0, 3.0], [80.5, 3.0], [81.0, 3.0], [79.0, 3.5], [79.5, 3.5], [80.0, 3.5], [80.5, 3.5], [81.0, 3.5], [79.0, 4.0], [79.5, 4.0], [80.0, 4.0], [80.5, 4.0], [81.0, 4.0], [79.0, 4.5], [79.5, 4.5], [80.0, 4.5], [80.5, 4.5], [81.0, 4.5], [79.0, 5.0], [79.5, 5.0], [80.0, 5.0], [80.5, 5.0], [81.0, 5.0], [79.0, 5.5], [79.5, 5.5], [80.0, 5.5], [80.5, 5.5], [81.0, 5.5], [79.0, 6.0], [79.5, 6.0], [80.0, 6.0], [80.5, 6.0], [81.0, 6.0]"
     ]
    },
    {
     "name": "stdout",
     "output_type": "stream",
     "text": [
      "]81"
     ]
    },
    {
     "data": {
      "text/plain": [
       "24-element Vector{Any}:\n",
       " Dict{String, Any}(\"rating\" => 100, \"variable_cost\" => 5.0, \"id\" => 1, \"fixed_cost\" => 100.0)\n",
       " Dict{String, Any}(\"rating\" => 200, \"variable_cost\" => 5.0, \"id\" => 2, \"fixed_cost\" => 100.0)\n",
       " Dict{String, Any}(\"rating\" => 300, \"variable_cost\" => 5.0, \"id\" => 3, \"fixed_cost\" => 100.0)\n",
       " Dict{String, Any}(\"rating\" => 500, \"variable_cost\" => 7.5, \"id\" => 4, \"fixed_cost\" => 125.0)\n",
       " Dict{String, Any}(\"rating\" => 750, \"variable_cost\" => 7.5, \"id\" => 5, \"fixed_cost\" => 125.0)\n",
       " Dict{String, Any}(\"rating\" => 900, \"variable_cost\" => 10.0, \"id\" => 6, \"fixed_cost\" => 125.0)\n",
       " Dict{String, Any}(\"rating\" => 1450, \"variable_cost\" => 12.5, \"id\" => 7, \"fixed_cost\" => 150.0)\n",
       " Dict{String, Any}(\"rating\" => 2400, \"variable_cost\" => 17.5, \"id\" => 8, \"fixed_cost\" => 150.0)\n",
       " Dict{String, Any}(\"rating\" => 100, \"variable_cost\" => 4.5, \"id\" => 9, \"fixed_cost\" => 90.0)\n",
       " Dict{String, Any}(\"rating\" => 200, \"variable_cost\" => 4.5, \"id\" => 10, \"fixed_cost\" => 90.0)\n",
       " ⋮\n",
       " Dict{String, Any}(\"rating\" => 2400, \"variable_cost\" => 15.75, \"id\" => 16, \"fixed_cost\" => 135.0)\n",
       " Dict{String, Any}(\"rating\" => 100, \"variable_cost\" => 4.25, \"id\" => 17, \"fixed_cost\" => 85.0)\n",
       " Dict{String, Any}(\"rating\" => 200, \"variable_cost\" => 4.25, \"id\" => 18, \"fixed_cost\" => 85.0)\n",
       " Dict{String, Any}(\"rating\" => 300, \"variable_cost\" => 4.25, \"id\" => 19, \"fixed_cost\" => 85.0)\n",
       " Dict{String, Any}(\"rating\" => 500, \"variable_cost\" => 6.375, \"id\" => 20, \"fixed_cost\" => 106.25)\n",
       " Dict{String, Any}(\"rating\" => 750, \"variable_cost\" => 6.375, \"id\" => 21, \"fixed_cost\" => 106.25)\n",
       " Dict{String, Any}(\"rating\" => 900, \"variable_cost\" => 8.5, \"id\" => 22, \"fixed_cost\" => 106.25)\n",
       " Dict{String, Any}(\"rating\" => 1450, \"variable_cost\" => 10.625, \"id\" => 23, \"fixed_cost\" => 127.5)\n",
       " Dict{String, Any}(\"rating\" => 2400, \"variable_cost\" => 14.875, \"id\" => 24, \"fixed_cost\" => 127.5)"
      ]
     },
     "metadata": {},
     "output_type": "display_data"
    }
   ],
   "source": [
    "#collectes des données utiles\n",
    "\n",
    "file = json_huge\n",
    "\n",
    "P_max = get_parameters(file)[\"maximum_power\"]\n",
    "coords_mls = get_parameters(file)[\"main_land_station\"]\n",
    "C_ft = get_parameters(file)[\"fixed_cost_cable\"]\n",
    "C_lt = get_parameters(file)[\"variable_cost_cable\"]\n",
    "C_0 = get_parameters(file)[\"curtailing_cost\"]\n",
    "C_p = get_parameters(file)[\"curtailing_penalty\"]\n",
    "C_max = get_parameters(file)[\"maximum_curtailing\"]\n",
    "general_parameters = Dict(\"maximum_power\" => P_max, \"main_land_station\" => coords_mls, \"fixed_cost_cable\" => C_ft, \"variable_cost_cable\" => C_lt, \"curtailing_cost\" => C_0, \"curtailing_penalty\" => C_p, \"maximum_curtailing\" => C_max)\n",
    "\n",
    "v_0 = [coords_mls[\"x\"], coords_mls[\"y\"]]\n",
    "\n",
    "print(v_0)\n",
    "\n",
    "wind_turbines = get_wind_turbines(file)\n",
    "x_turbines = [turbine[\"x\"] for turbine in wind_turbines]\n",
    "y_turbines = [turbine[\"y\"] for turbine in wind_turbines]\n",
    "\n",
    "V_t = []\n",
    "for i in 1:length(x_turbines)\n",
    "    push!(V_t,[x_turbines[i], y_turbines[i]])\n",
    "end\n",
    "\n",
    "print(V_t)\n",
    "\n",
    "wind_scenarios = get_wind_scenarios(file)\n",
    "\n",
    "substation_locations = get_substation_locations(file)\n",
    "x_substations = [substation[\"x\"] for substation in substation_locations]\n",
    "y_substations = [substation[\"y\"] for substation in substation_locations]\n",
    "\n",
    "V_s = []\n",
    "for i in 1:length(x_substations)\n",
    "    push!(V_s, [x_substations[i], y_substations[i]])\n",
    "end\n",
    "\n",
    "print(length(V_s))\n",
    "\n",
    "substation_types = get_substation_types(file)\n",
    "\n",
    "land_substation_cable_types = get_land_substation_cable_types(file)\n",
    "\n",
    "sub_sub_cable_types = get_substation_substation_cable_types(file)\n"
   ]
  },
  {
   "cell_type": "code",
   "execution_count": 11,
   "metadata": {},
   "outputs": [
    {
     "data": {
      "text/plain": [
       "cost (generic function with 1 method)"
      ]
     },
     "metadata": {},
     "output_type": "display_data"
    }
   ],
   "source": [
    "# Fonctions coûts \n",
    "\n",
    "function cost_turbines_substation(L, D1, general_parameters)\n",
    "    # L : vecteur liant turbines et sous-stations\n",
    "    # D1 : matrice des distances entre les turbines et les sous-stations\n",
    "    # general_parameters : paramètres généraux du problème\n",
    "\n",
    "    # On initialise le coût\n",
    "    cost = 0\n",
    "\n",
    "    # On calcule le coût de la liaison entre les turbines et les sous-stations\n",
    "    for i in 1:length(L)\n",
    "        cost += general_parameters[\"fixed_cost_cable\"] +D1[i,L[i]]*general_parameters[\"variable_cost_cable\"]\n",
    "    end\n",
    "\n",
    "    return cost\n",
    "end\n",
    "\n",
    "function cost_substation_substation(S, D2, substation_substation_cable_types)\n",
    "    # S : vecteur liant les sous-stations\n",
    "    # D2 : matrice des distances entre les sous-stations\n",
    "    # substation_substation_cable_types : types de câbles entre les sous-stations\n",
    "\n",
    "    # On initialise le coût\n",
    "    cost = 0\n",
    "\n",
    "    # On calcule le coût de la liaison entre les sous-stations\n",
    "    for i in 1:size(S, 1)\n",
    "        if S[i, 2] != 0 && S[i, 4] != 0\n",
    "            cost += substation_substation_cable_types[S[i, 4]][\"fixed_cost\"]+D2[i, S[i, 2]]*substation_substation_cable_types[S[i, 4]][\"variable_cost\"]\n",
    "        end\n",
    "    end\n",
    "    cost = cost/2\n",
    "\n",
    "    return cost\n",
    "end\n",
    "\n",
    "function cost_substation_land_substation(S, D3, land_substation_cable_types)\n",
    "    # S : vecteur liant les sous-stations\n",
    "    # D3 : vecteur des distances entre les sous-stations et la station terrestre\n",
    "    # land_substation_cable_types : types de câbles entre les sous-stations et la station terrestre\n",
    "\n",
    "    # On initialise le coût\n",
    "    cost = 0\n",
    "\n",
    "    # On calcule le coût de la liaison entre les sous-stations et la station terrestre\n",
    "    for i in 1:size(S, 1)\n",
    "        if S[i, 3] != 0\n",
    "            cost += land_substation_cable_types[S[i, 3]][\"fixed_cost\"]+D3[i]*land_substation_cable_types[S[i, 3]][\"variable_cost\"]\n",
    "        end\n",
    "    end\n",
    "\n",
    "    return cost\n",
    "end\n",
    "\n",
    "function cost_substation(S, substation_types)\n",
    "    # S : vecteur liant les sous-stations\n",
    "    # substation_types : types de sous-stations\n",
    "\n",
    "    # On initialise le coût\n",
    "    cost = 0\n",
    "\n",
    "    # On calcule le coût de construction des sous-stations\n",
    "    for i in 1:size(S, 1)\n",
    "        if S[i, 5] != 0\n",
    "            cost += substation_types[S[i, 5]][\"cost\"]\n",
    "        end\n",
    "    end\n",
    "\n",
    "    return cost\n",
    "end\n",
    "\n",
    "\n",
    "function c_c(C, general_parameters)\n",
    "\n",
    "    return general_parameters[\"curtailing_cost\"]*C + general_parameters[\"curtailing_penalty\"]*max(0,C-general_parameters[\"maximum_curtailing\"])\n",
    "end\n",
    "\n",
    "\n",
    "function C_f_aux(v, v1, w, wind_scenarios, S, substation_substation_cable_types, land_substation_cable_types, substation_types)\n",
    "    C_f_aux = 0\n",
    "\n",
    "    C_f_aux += wind_scenarios[w][\"power_generation\"]*S[v1, 1]\n",
    "\n",
    "    if S[v1, 2] == v && S[v1, 4] != 0\n",
    "        C_f_aux += min(substation_substation_cable_types[S[v1, 4]][\"rating\"], wind_scenarios[w][\"power_generation\"]*S[v, 1])\n",
    "    else\n",
    "        C_f_aux += min(0, wind_scenarios[w][\"power_generation\"]*S[v, 1])\n",
    "    end\n",
    "\n",
    "    if S[v1, 3] != 0\n",
    "        C_f_aux -= min(substation_types[S[v1, 5]][\"rating\"],land_substation_cable_types[S[v1, 3]][\"rating\"])\n",
    "    end\n",
    "\n",
    "    return C_f_aux\n",
    "end\n",
    "\n",
    "\n",
    "function C_f(v, w, wind_scenarios, S, substation_substation_cable_types, land_substation_cable_types, substation_types)\n",
    "    C_f = 0\n",
    "\n",
    "    if S[v, 2] != 0 && S[v, 4] != 0\n",
    "        C_f += max(0, wind_scenarios[w][\"power_generation\"]*S[v, 1]-substation_substation_cable_types[S[v, 4]][\"rating\"])\n",
    "    else\n",
    "        C_f += max(0, wind_scenarios[w][\"power_generation\"]*S[v, 1])\n",
    "    end\n",
    "\n",
    "    for i in 1:size(S, 1)\n",
    "        if S[i, 3] != 0\n",
    "            C_f += max(0, C_f_aux(v, i, w, wind_scenarios, S, substation_substation_cable_types, land_substation_cable_types, substation_types))\n",
    "        end\n",
    "    end\n",
    "\n",
    "    return C_f\n",
    "\n",
    "end\n",
    "\n",
    "\n",
    "function C_n(w, wind_scenarios, S, substation_substation_cable_types, land_substation_cable_types, substation_types)\n",
    "    \n",
    "    C_n = 0\n",
    "\n",
    "    for i in 1:size(S, 1)\n",
    "        if S[i, 3] != 0\n",
    "            C_n += max(0, wind_scenarios[w][\"power_generation\"]*S[i, 1]-min(substation_types[S[i, 5]][\"rating\"],land_substation_cable_types[S[i, 3]][\"rating\"]))\n",
    "        end\n",
    "    end\n",
    "\n",
    "    return C_n\n",
    "end\n",
    "    \n",
    "\n",
    "function p_f(v, S, land_substation_cable_types, substation_types)\n",
    "    p_f = 0\n",
    "\n",
    "    if S[v, 3] != 0\n",
    "        p_f += land_substation_cable_types[S[v, 3]][\"probability_of_failure\"]\n",
    "\n",
    "        p_f += substation_types[S[v, 5]][\"probability_of_failure\"]\n",
    "    end\n",
    "\n",
    "    return p_f\n",
    "end\n",
    "\n",
    "\n",
    "function operational_cost_aux(S, w, wind_scenarios, general_parameters, substation_substation_cable_types, land_substation_cable_types, substation_types)\n",
    "    cost1 = 0\n",
    "    cost2 = 0\n",
    "\n",
    "    for i in 1:size(S, 1)\n",
    "        cost1 += p_f(i, S, land_substation_cable_types, substation_types)*c_c(C_f(i, w, wind_scenarios, S, substation_substation_cable_types, land_substation_cable_types, substation_types), general_parameters)\n",
    "    end\n",
    "\n",
    "    for i in 1:size(S, 1)\n",
    "        cost2 += p_f(i, S, land_substation_cable_types, substation_types)\n",
    "    end\n",
    "    cost2 = (1 - cost2)*c_c(C_n(w, wind_scenarios, S, substation_substation_cable_types, land_substation_cable_types, substation_types),general_parameters)\n",
    "\n",
    "    return cost1 + cost2\n",
    "end\n",
    "\n",
    "function operational_cost(L, S, wind_scenarios, general_parameters, substation_substation_cable_types, land_substation_cable_types, substation_types)\n",
    "    # L : vecteur liant turbines et sous-stations\n",
    "    # S : vecteur liant les sous-stations\n",
    "    # wind_scenarios : scénarios de vent\n",
    "    # general_parameters : paramètres généraux du problème\n",
    "\n",
    "    # On initialise le coût\n",
    "    cost = 0\n",
    "\n",
    "    for w in 1:length(wind_scenarios)\n",
    "        cost += wind_scenarios[w][\"probability\"]*operational_cost_aux(S, w, wind_scenarios, general_parameters, substation_substation_cable_types, land_substation_cable_types, substation_types)\n",
    "        \n",
    "    end\n",
    "\n",
    "    return cost\n",
    "end\n",
    "\n",
    "function cost(L, S, D1, D2, D3, wind_scenarios, general_parameters, substation_substation_cable_types, land_substation_cable_types, substation_types)\n",
    "    # L : vecteur liant turbines et sous-stations\n",
    "    # S : vecteur liant les sous-stations\n",
    "    # D1 : matrice des distances entre les turbines et les sous-stations\n",
    "    # D2 : matrice des distances entre les sous-stations\n",
    "    # D3 : vecteur des distances entre les sous-stations et la station terrestre\n",
    "    # wind_scenarios : scénarios de vent\n",
    "    # general_parameters : paramètres généraux du problème\n",
    "    # substation_substation_cable_types : types de câbles entre les sous-stations\n",
    "    # land_substation_cable_types : types de câbles entre les sous-stations et la station terrestre\n",
    "    # substation_types : types de sous-stations\n",
    "\n",
    "    # On initialise le coût\n",
    "    cost = 0\n",
    "\n",
    "    # On calcule le coût de la liaison entre les turbines et les sous-stations\n",
    "    cost += cost_turbines_substation(L, D1, general_parameters)\n",
    "\n",
    "    # On calcule le coût de la liaison entre les sous-stations\n",
    "    cost += cost_substation_substation(S, D2, substation_substation_cable_types)\n",
    "\n",
    "    # On calcule le coût de la liaison entre les sous-stations et la station terrestre\n",
    "    cost += cost_substation_land_substation(S, D3, land_substation_cable_types)\n",
    "\n",
    "    # On calcule le coût de construction des sous-stations\n",
    "    cost += cost_substation(S, substation_types)\n",
    "\n",
    "    # On calcule le coût opérationnel\n",
    "    cost += operational_cost(L, S, wind_scenarios, general_parameters, substation_substation_cable_types, land_substation_cable_types, substation_types)\n",
    "\n",
    "    return cost\n",
    "end"
   ]
  },
  {
   "cell_type": "code",
   "execution_count": 12,
   "metadata": {},
   "outputs": [
    {
     "data": {
      "text/plain": [
       "distance (generic function with 1 method)"
      ]
     },
     "metadata": {},
     "output_type": "display_data"
    }
   ],
   "source": [
    "#  Création des matrices de distances des turbines aux sous-stations, des sous-stations à la station terrestre et des sous-stations entre elles\n",
    "\n",
    "function distance(V_t,V_s,v_0)\n",
    "    # V_t : vecteur des turbines\n",
    "    # V_s : vecteur des sous-stations\n",
    "    # v_0 : vecteur de la station terrestre\n",
    "    \n",
    "    # On initialise le vecteur des distances\n",
    "    D1 = zeros(length(V_t),length(V_s))\n",
    "    D2 = zeros(length(V_s),length(V_s))\n",
    "    D3 = zeros(length(V_s),1)\n",
    "\n",
    "    # On calcule les distances entre les turbines et les sous-stations, et entre les sous-stations et la station terrestre et entre les sous-stations\n",
    "    for i in 1:length(V_t)\n",
    "        for j in 1:length(V_s)\n",
    "            D1[i,j] = sqrt((V_t[i][1]-V_s[j][1])^2 + (V_t[i][2]-V_s[j][2])^2)\n",
    "        end\n",
    "    end\n",
    "\n",
    "    for i in 1:length(V_s)\n",
    "        for j in 1:length(V_s)\n",
    "            D2[i,j] = sqrt((V_s[i][1]-V_s[j][1])^2 + (V_s[i][2]-V_s[j][2])^2)\n",
    "        end\n",
    "        D2[i,i] = +Inf\n",
    "    end\n",
    "\n",
    "    for i in 1:length(V_s)\n",
    "        D3[i] = sqrt((V_s[i][1]-v_0[1])^2 + (V_s[i][2]-v_0[2])^2)\n",
    "    end\n",
    "\n",
    "    return D1,D2,D3\n",
    "end"
   ]
  },
  {
   "cell_type": "code",
   "execution_count": 13,
   "metadata": {},
   "outputs": [
    {
     "data": {
      "text/plain": [
       "heuristique_1 (generic function with 1 method)"
      ]
     },
     "metadata": {},
     "output_type": "display_data"
    }
   ],
   "source": [
    "function heuristique_1(D1, D2)\n",
    "    # D1 : matrice des distances entre les turbines et les sous-stations\n",
    "    # D2 : matrice des distances entre les sous-stations\n",
    "\n",
    "    # On initialise le vecteur liant turbines et sous-stations\n",
    "    L = zeros(Int, size(D1, 1), 1)\n",
    "\n",
    "    # On initialise le vecteur des sous-stations\n",
    "    S = zeros(Int, size(D2, 1), 5)\n",
    "\n",
    "    # On emplit ce vecteur en associant à chaque turbine la sous-station la plus proche\n",
    "    for i in 1:size(D1, 1)\n",
    "        L[i] = argmin(D1[i,:])\n",
    "        S[L[i], 1] += 1\n",
    "        S[L[i], 5] = 1\n",
    "        S[L[i], 3] = 1\n",
    "    end\n",
    "\n",
    "    # On emplit ce vecteur en associant à chaque sous-station présente dans L la sous-station la plus proche\n",
    "    for i in 1:length(L)\n",
    "        if S[L[i], 2] == 0 && S[argmin(D2[L[i],:]), 2] == 0\n",
    "            S[L[i], 2] = argmin(D2[L[i],:])\n",
    "            S[S[L[i], 2], 2] = L[i]\n",
    "            S[L[i], 4] = 1  \n",
    "            S[S[L[i], 2], 4] = 1\n",
    "        end\n",
    "    end\n",
    "\n",
    "    return L,S\n",
    "end"
   ]
  },
  {
   "cell_type": "code",
   "execution_count": 14,
   "metadata": {},
   "outputs": [
    {
     "data": {
      "text/plain": [
       "15915.795232371893"
      ]
     },
     "metadata": {},
     "output_type": "display_data"
    }
   ],
   "source": [
    "# on teste l'heuristique 1\n",
    "\n",
    "D1, D2, D3 = distance(V_t, V_s, v_0)\n",
    "L,S = heuristique_1(D1, D2)\n",
    "\n",
    "cost(L, S, D1, D2, D3, wind_scenarios, general_parameters, sub_sub_cable_types, land_substation_cable_types, substation_types)"
   ]
  },
  {
   "cell_type": "code",
   "execution_count": 15,
   "metadata": {},
   "outputs": [
    {
     "data": {
      "text/plain": [
       "voisinage_substation_substation (generic function with 1 method)"
      ]
     },
     "metadata": {},
     "output_type": "display_data"
    }
   ],
   "source": [
    "# Fonctions voisinages\n",
    "# Ces fonctions sont la base de la méta-heuristique ; elles effectuent les changements de lien entre turbines et sous-stations et entre sous-stations entre elles\n",
    "\n",
    "function voisinage_turbine_substation(L, S, D1, D2, D3, wind_scenarios, general_parameters, substation_substation_cable_types, land_substation_cable_types, substation_types)\n",
    "    # L : vecteur liant turbines et sous-stations\n",
    "    # S : vecteur liant les sous-stations\n",
    "    # D1 : matrice des distances entre les turbines et les sous-stations\n",
    "    # D2 : matrice des distances entre les sous-stations\n",
    "    # D3 : vecteur des distances entre les sous-stations et la station terrestre\n",
    "\n",
    "    # On choisit aléatoirement une turbine, notée n, on la lie avec la sous-station la plus proche de celle à laquelle est elle actuellement associée\n",
    "    new = rand(1:length(L))\n",
    "\n",
    "    S1 = copy(S)\n",
    "    L1 = copy(L)\n",
    "    \n",
    "    old = L[new]\n",
    "    linked_old = S[old, 2]\n",
    "\n",
    "    # On change la liaison entre la turbine et la sous-station en choisissant la sous-station la plus proche de l'ancienne sous-station\n",
    "    #L[new] = argmin(D2[old,:])\n",
    "    L[new] = rand(1:size(S, 1))\n",
    "    S[old, 1] -= 1\n",
    "\n",
    "    # Si la sous-station n'est plus reliée à aucune turbine, on la supprime\n",
    "    if S[old, 1] == 0\n",
    "        if linked_old != 0\n",
    "            if S[L[new], 2] == 0\n",
    "                S[L[new], 2] = linked_old\n",
    "                S[linked_old, 2] = L[new]\n",
    "                S[L[new], 4] = S[linked_old, 4]\n",
    "            else\n",
    "                S[linked_old, 2] = 0\n",
    "                S[linked_old, 4] = 0\n",
    "            end\n",
    "        end\n",
    "        S[old, 2] = 0\n",
    "        S[old, 3] = 0\n",
    "        S[old, 4] = 0\n",
    "        S[old, 5] = 0\n",
    "    end\n",
    "\n",
    "    if S[L[new], 1] == 0\n",
    "        S[L[new], 5] = substation_types[end][\"id\"]\n",
    "        S[L[new], 3] = land_substation_cable_types[end][\"id\"]\n",
    "    end\n",
    "\n",
    "    S[L[new], 1] += 1\n",
    "\n",
    "    if cost(L, S, D1, D2, D3, wind_scenarios, general_parameters, substation_substation_cable_types, land_substation_cable_types, substation_types) < cost(L1, S1, D1, D2, D3, wind_scenarios, general_parameters, substation_substation_cable_types, land_substation_cable_types, substation_types)\n",
    "        return L, S\n",
    "    else\n",
    "        return L1, S1\n",
    "    end\n",
    "end\n",
    "\n",
    "function voisinage_type_cables(L, S, D1, D2, D3, wind_scenarios, general_parameters, substation_substation_cable_types, land_substation_cable_types, substation_types)\n",
    "    # L : vecteur liant turbines et sous-stations\n",
    "    # S : vecteur liant les sous-stations\n",
    "    # D1 : matrice des distances entre les turbines et les sous-stations\n",
    "    # D2 : matrice des distances entre les sous-stations\n",
    "    # D3 : vecteur des distances entre les sous-stations et la station terrestre\n",
    "\n",
    "    # On choisit aléatoirement une sous-station créée, on modifie le type de câble entre cette sous-station et la station terrestre\n",
    "    S1 = copy(S)\n",
    "    L1 = copy(L)\n",
    "    turbine = rand(1:length(L))\n",
    "\n",
    "    substation = L[turbine]\n",
    "\n",
    "    new = rand(1:length(land_substation_cable_types))\n",
    "    S[substation, 5] = substation_types[new][\"id\"]\n",
    "\n",
    "    if cost(L, S, D1, D2, D3, wind_scenarios, general_parameters, substation_substation_cable_types, land_substation_cable_types, substation_types) < cost(L1, S1, D1, D2, D3, wind_scenarios, general_parameters, substation_substation_cable_types, land_substation_cable_types, substation_types)\n",
    "        return L, S\n",
    "    else\n",
    "        return L1, S1\n",
    "    end\n",
    "end\n",
    "\n",
    "function voisinage_type_substation(L, S, D1, D2, D3, wind_scenarios, general_parameters, substation_substation_cable_types, land_substation_cable_types, substation_types)\n",
    "    # L : vecteur liant turbines et sous-stations\n",
    "    # S : vecteur liant les sous-stations\n",
    "    # D1 : matrice des distances entre les turbines et les sous-stations\n",
    "    # D2 : matrice des distances entre les sous-stations\n",
    "    # D3 : vecteur des distances entre les sous-stations et la station terrestre\n",
    "\n",
    "    # On choisit aléatoirement une sous-station créée, on modifie le type de sous-station\n",
    "    S1 = copy(S)\n",
    "    L1 = copy(L)\n",
    "    turbine = rand(1:length(L))\n",
    "\n",
    "    substation = L[turbine]\n",
    "\n",
    "    new = rand(1:length(substation_types))\n",
    "    S[substation, 3] = substation_types[new][\"id\"]\n",
    "\n",
    "    if cost(L, S, D1, D2, D3, wind_scenarios, general_parameters, substation_substation_cable_types, land_substation_cable_types, substation_types) < cost(L1, S1, D1, D2, D3, wind_scenarios, general_parameters, substation_substation_cable_types, land_substation_cable_types, substation_types)\n",
    "        return L, S\n",
    "    else\n",
    "        return L1, S1\n",
    "    end\n",
    "end\n",
    "\n",
    "    \n",
    "\n",
    "function voisinage_substation_substation(L, S, D1, D2, D3, wind_scenarios, general_parameters, substation_substation_cable_types, land_substation_cable_types, substation_types)\n",
    "    # L : vecteur liant turbines et sous-stations\n",
    "    # S : vecteur liant les sous-stations\n",
    "    # D1 : matrice des distances entre les turbines et les sous-stations\n",
    "    # D2 : matrice des distances entre les sous-stations\n",
    "    # D3 : vecteur des distances entre les sous-stations et la station terrestre\n",
    "\n",
    "    # On choisit aléatoirement une sous-station, notée n, on la lie avec la sous-station la plus proche de celle à laquelle est elle actuellement associée\n",
    "    \n",
    "    L1 = copy(L)  # Use copy to create an independent copy of L\n",
    "    S1 = copy(S)  # Use copy to create an independent copy of S\n",
    "    substation = rand(1:size(S, 1))\n",
    "\n",
    "    old = S[substation, 2]\n",
    "\n",
    "    # Check if the substation is currently linked to a turbine\n",
    "    if old != 0\n",
    "        # Find the new substation linked to the nearest turbine (excluding the current substation)\n",
    "        new = L[argmin(D2[old, filter(x -> x != substation, L)])]\n",
    "\n",
    "        # Update connections based on the new assignment\n",
    "        if S[new, 2] != 0\n",
    "            S[S[new, 2], 2] = old\n",
    "            S[S[new, 2], 4] = S[old, 4]\n",
    "            S[old, 2] = S[new, 2]\n",
    "        else\n",
    "            S[old, 4] = 0\n",
    "            S[old, 2] = 0\n",
    "        end\n",
    "\n",
    "        S[new, 2] = substation\n",
    "        S[substation, 2] = new\n",
    "\n",
    "        S[new, 4] = substation_substation_cable_types[end][\"id\"]\n",
    "        S[substation, 4] = substation_substation_cable_types[end][\"id\"]\n",
    "    else\n",
    "        # Find the new substation linked to the nearest turbine\n",
    "        new = L[argmin(D2[substation, L])]\n",
    "\n",
    "        # Update connections based on the new assignment\n",
    "        if S[new, 2] != 0\n",
    "            S[S[new, 2], 4] = 0\n",
    "            S[S[new, 2], 2] = 0\n",
    "        end\n",
    "\n",
    "        S[substation, 2] = new\n",
    "        S[new, 2] = substation\n",
    "        S[substation, 4] = substation_substation_cable_types[end][\"id\"]\n",
    "        S[new, 4] = substation_substation_cable_types[end][\"id\"]\n",
    "    end\n",
    "\n",
    "    if cost(L, S, D1, D2, D3, wind_scenarios, general_parameters, substation_substation_cable_types, land_substation_cable_types, substation_types) > cost(L1, S1, D1, D2, D3, wind_scenarios, general_parameters, substation_substation_cable_types, land_substation_cable_types, substation_types)\n",
    "        return L, S\n",
    "    else\n",
    "        return L1, S1\n",
    "    end\n",
    "end\n"
   ]
  },
  {
   "cell_type": "code",
   "execution_count": 16,
   "metadata": {},
   "outputs": [
    {
     "name": "stdout",
     "output_type": "stream",
     "text": [
      "[0 0 0 0 0; 0 0 0 0 0; 0 0 0 0 0; 10 13 1 1 1; 0 0 0 0 0; 0 0 0 0 0; 0 0 0 0 0; 0 0 0 0 0; 0 0 0 0 0; 0 0 0 0 0; 0 0 0 0 0; 0 0 0 0 0; 15 4 1 1 1; 0 0 0 0 0; 0 0 0 0 0; 0 0 0 0 0; 0 0 0 0 0; 0 0 0 0 0; 0 0 0 0 0; 0 0 0 0 0; 0 0 0 0 0; 20 0 1 0 1; 0 0 0 0 0; 0 0 0 0 0; 0 0 0 0 0; 0 0 0 0 0; 0 0 0 0 0; 0 0 0 0 0; 0 0 0 0 0; 0 0 0 0 0; 15 0 1 0 1; 0 0 0 0 0; 0 0 0 0 0; 0 0 0 0 0; 0 0 0 0 0; 0 0 0 0 0; 0 0 0 0 0; 0 0 0 0 0; 0 0 0 0 0; 10 44 1 24 1; 0 0 0 0 0; 0 0 0 0 0; 0 0 0 0 0; 0 40 0 24 0; 0 0 0 0 0; 0 0 0 0 0; 0 0 0 0 0; 0 0 0 0 0; 15 58 1 1 1; 0 0 0 0 0; 0 0 0 0 0; 0 0 0 0 0; 0 0 0 0 0; 0 0 0 0 0; 0 0 0 0 0; 0 0 0 0 0; 0 0 0 0 0; 15 49 1 1 1; 0 0 0 0 0; 0 0 0 0 0; 0 0 0 0 0; 0 0 0 0 0; 0 0 0 0 0; 0 0 0 0 0; 0 0 0 0 0; 0 0 0 0 0; 15 76 1 1 1; 0 0 0 0 0; 0 0 0 0 0; 0 0 0 0 0; 0 0 0 0 0; 0 0 0 0 0; 0 0 0 0 0; 0 0 0 0 0; 0 0 0 0 0; 10 67 1 1 1; 0 0 0 0 0; 0 0 0 0 0; 0 0 0 0 0; 0 0 0 0 0; 0 0 0 0 0]"
     ]
    }
   ],
   "source": [
    "# test des fonctions voisinages\n",
    "\n",
    "L,S = voisinage_turbine_substation(L, S, D1, D2, D3, wind_scenarios, general_parameters, sub_sub_cable_types, land_substation_cable_types, substation_types)\n",
    "L, S = voisinage_substation_substation(L, S, D1, D2, D3, wind_scenarios, general_parameters, sub_sub_cable_types, land_substation_cable_types, substation_types)\n",
    "print(S)"
   ]
  },
  {
   "cell_type": "code",
   "execution_count": 22,
   "metadata": {},
   "outputs": [
    {
     "data": {
      "text/plain": [
       "metaheuristique (generic function with 1 method)"
      ]
     },
     "metadata": {},
     "output_type": "display_data"
    }
   ],
   "source": [
    "# Métaheuristique\n",
    "\n",
    "function metaheuristique(wind_scenarios, general_parameters, substation_substation_cable_types, land_substation_cable_types, substation_types)\n",
    "    D1, D2, D3 = distance(V_t,V_s,v_0)\n",
    "    L, S = heuristique_1(D1, D2)\n",
    "    costs = []\n",
    "    for i in 1:1000\n",
    "        if i % 50 == 0\n",
    "            println(\"Iteration $i\")\n",
    "        end \n",
    "        if rand() < 0.5\n",
    "            L, S = voisinage_turbine_substation(L, S, D1, D2, D3, wind_scenarios, general_parameters, substation_substation_cable_types, land_substation_cable_types, substation_types)\n",
    "        else\n",
    "            if rand() < 0.5\n",
    "                L, S = voisinage_type_cables(L, S, D1, D2, D3, wind_scenarios, general_parameters, substation_substation_cable_types, land_substation_cable_types, substation_types)\n",
    "            else\n",
    "                L, S = voisinage_type_substation(L, S, D1, D2, D3, wind_scenarios, general_parameters, substation_substation_cable_types, land_substation_cable_types, substation_types)\n",
    "            end\n",
    "        end\n",
    "        new_cost = cost(L, S, D1, D2, D3, wind_scenarios, general_parameters, substation_substation_cable_types, land_substation_cable_types, substation_types)\n",
    "        push!(costs, new_cost)\n",
    "    end\n",
    "    final_cost = cost(L, S, D1, D2, D3, wind_scenarios, general_parameters, substation_substation_cable_types, land_substation_cable_types, substation_types)\n",
    "    return L, S, costs, final_cost\n",
    "end"
   ]
  },
  {
   "cell_type": "code",
   "execution_count": 23,
   "metadata": {},
   "outputs": [
    {
     "data": {
      "image/png": "[encoded data removed]",
      "image/svg+xml": [
       "<?xml version=\"1.0\" encoding=\"utf-8\"?>\n",
       "<svg xmlns=\"http://www.w3.org/2000/svg\" xmlns:xlink=\"http://www.w3.org/1999/xlink\" width=\"600\" height=\"400\" viewBox=\"0 0 2400 1600\">\n",
       "<defs>\n",
       "  <clipPath id=\"clip330\">\n",
       "    <rect x=\"0\" y=\"0\" width=\"2400\" height=\"1600\"/>\n",
       "  </clipPath>\n",
       "</defs>\n",
       "<path clip-path=\"url(#clip330)\" d=\"M0 1600 L2400 1600 L2400 0 L0 0  Z\" fill=\"#ffffff\" fill-rule=\"evenodd\" fill-opacity=\"1\"/>\n",
       "<defs>\n",
       "  <clipPath id=\"clip331\">\n",
       "    <rect x=\"480\" y=\"0\" width=\"1681\" height=\"1600\"/>\n",
       "  </clipPath>\n",
       "</defs>\n",
       "<path clip-path=\"url(#clip330)\" d=\"M292.713 1423.18 L2352.76 1423.18 L2352.76 123.472 L292.713 123.472  Z\" fill=\"#ffffff\" fill-rule=\"evenodd\" fill-opacity=\"1\"/>\n",
       "<defs>\n",
       "  <clipPath id=\"clip332\">\n",
       "    <rect x=\"292\" y=\"123\" width=\"2061\" height=\"1301\"/>\n",
       "  </clipPath>\n",
       "</defs>\n",
       "<polyline clip-path=\"url(#clip332)\" style=\"stroke:#000000; stroke-linecap:round; stroke-linejoin:round; stroke-width:2; stroke-opacity:0.1; fill:none\" points=\"349.071,1423.18 349.071,123.472 \"/>\n",
       "<polyline clip-path=\"url(#clip332)\" style=\"stroke:#000000; stroke-linecap:round; stroke-linejoin:round; stroke-width:2; stroke-opacity:0.1; fill:none\" points=\"835.416,1423.18 835.416,123.472 \"/>\n",
       "<polyline clip-path=\"url(#clip332)\" style=\"stroke:#000000; stroke-linecap:round; stroke-linejoin:round; stroke-width:2; stroke-opacity:0.1; fill:none\" points=\"1321.76,1423.18 1321.76,123.472 \"/>\n",
       "<polyline clip-path=\"url(#clip332)\" style=\"stroke:#000000; stroke-linecap:round; stroke-linejoin:round; stroke-width:2; stroke-opacity:0.1; fill:none\" points=\"1808.11,1423.18 1808.11,123.472 \"/>\n",
       "<polyline clip-path=\"url(#clip332)\" style=\"stroke:#000000; stroke-linecap:round; stroke-linejoin:round; stroke-width:2; stroke-opacity:0.1; fill:none\" points=\"2294.45,1423.18 2294.45,123.472 \"/>\n",
       "<polyline clip-path=\"url(#clip330)\" style=\"stroke:#000000; stroke-linecap:round; stroke-linejoin:round; stroke-width:4; stroke-opacity:1; fill:none\" points=\"292.713,1423.18 2352.76,1423.18 \"/>\n",
       "<polyline clip-path=\"url(#clip330)\" style=\"stroke:#000000; stroke-linecap:round; stroke-linejoin:round; stroke-width:4; stroke-opacity:1; fill:none\" points=\"349.071,1423.18 349.071,1404.28 \"/>\n",
       "<polyline clip-path=\"url(#clip330)\" style=\"stroke:#000000; stroke-linecap:round; stroke-linejoin:round; stroke-width:4; stroke-opacity:1; fill:none\" points=\"835.416,1423.18 835.416,1404.28 \"/>\n",
       "<polyline clip-path=\"url(#clip330)\" style=\"stroke:#000000; stroke-linecap:round; stroke-linejoin:round; stroke-width:4; stroke-opacity:1; fill:none\" points=\"1321.76,1423.18 1321.76,1404.28 \"/>\n",
       "<polyline clip-path=\"url(#clip330)\" style=\"stroke:#000000; stroke-linecap:round; stroke-linejoin:round; stroke-width:4; stroke-opacity:1; fill:none\" points=\"1808.11,1423.18 1808.11,1404.28 \"/>\n",
       "<polyline clip-path=\"url(#clip330)\" style=\"stroke:#000000; stroke-linecap:round; stroke-linejoin:round; stroke-width:4; stroke-opacity:1; fill:none\" points=\"2294.45,1423.18 2294.45,1404.28 \"/>\n",
       "<path clip-path=\"url(#clip330)\" d=\"M349.071 1454.1 Q345.46 1454.1 343.631 1457.66 Q341.825 1461.2 341.825 1468.33 Q341.825 1475.44 343.631 1479.01 Q345.46 1482.55 349.071 1482.55 Q352.705 1482.55 354.511 1479.01 Q356.339 1475.44 356.339 1468.33 Q356.339 1461.2 354.511 1457.66 Q352.705 1454.1 349.071 1454.1 M349.071 1450.39 Q354.881 1450.39 357.937 1455 Q361.015 1459.58 361.015 1468.33 Q361.015 1477.06 357.937 1481.67 Q354.881 1486.25 349.071 1486.25 Q343.261 1486.25 340.182 1481.67 Q337.126 1477.06 337.126 1468.33 Q337.126 1459.58 340.182 1455 Q343.261 1450.39 349.071 1450.39 Z\" fill=\"#000000\" fill-rule=\"nonzero\" fill-opacity=\"1\" /><path clip-path=\"url(#clip330)\" d=\"M799.109 1481.64 L815.428 1481.64 L815.428 1485.58 L793.484 1485.58 L793.484 1481.64 Q796.146 1478.89 800.729 1474.26 Q805.335 1469.61 806.516 1468.27 Q808.761 1465.74 809.641 1464.01 Q810.544 1462.25 810.544 1460.56 Q810.544 1457.8 808.599 1456.07 Q806.678 1454.33 803.576 1454.33 Q801.377 1454.33 798.923 1455.09 Q796.493 1455.86 793.715 1457.41 L793.715 1452.69 Q796.539 1451.55 798.993 1450.97 Q801.447 1450.39 803.484 1450.39 Q808.854 1450.39 812.048 1453.08 Q815.243 1455.77 815.243 1460.26 Q815.243 1462.39 814.433 1464.31 Q813.646 1466.2 811.539 1468.8 Q810.96 1469.47 807.859 1472.69 Q804.757 1475.88 799.109 1481.64 Z\" fill=\"#000000\" fill-rule=\"nonzero\" fill-opacity=\"1\" /><path clip-path=\"url(#clip330)\" d=\"M825.289 1451.02 L843.645 1451.02 L843.645 1454.96 L829.571 1454.96 L829.571 1463.43 Q830.59 1463.08 831.608 1462.92 Q832.627 1462.73 833.645 1462.73 Q839.432 1462.73 842.812 1465.9 Q846.192 1469.08 846.192 1474.49 Q846.192 1480.07 842.72 1483.17 Q839.247 1486.25 832.928 1486.25 Q830.752 1486.25 828.483 1485.88 Q826.238 1485.51 823.831 1484.77 L823.831 1480.07 Q825.914 1481.2 828.136 1481.76 Q830.358 1482.32 832.835 1482.32 Q836.84 1482.32 839.178 1480.21 Q841.516 1478.1 841.516 1474.49 Q841.516 1470.88 839.178 1468.77 Q836.84 1466.67 832.835 1466.67 Q830.96 1466.67 829.085 1467.08 Q827.233 1467.5 825.289 1468.38 L825.289 1451.02 Z\" fill=\"#000000\" fill-rule=\"nonzero\" fill-opacity=\"1\" /><path clip-path=\"url(#clip330)\" d=\"M865.405 1454.1 Q861.793 1454.1 859.965 1457.66 Q858.159 1461.2 858.159 1468.33 Q858.159 1475.44 859.965 1479.01 Q861.793 1482.55 865.405 1482.55 Q869.039 1482.55 870.844 1479.01 Q872.673 1475.44 872.673 1468.33 Q872.673 1461.2 870.844 1457.66 Q869.039 1454.1 865.405 1454.1 M865.405 1450.39 Q871.215 1450.39 874.27 1455 Q877.349 1459.58 877.349 1468.33 Q877.349 1477.06 874.27 1481.67 Q871.215 1486.25 865.405 1486.25 Q859.594 1486.25 856.516 1481.67 Q853.46 1477.06 853.46 1468.33 Q853.46 1459.58 856.516 1455 Q859.594 1450.39 865.405 1450.39 Z\" fill=\"#000000\" fill-rule=\"nonzero\" fill-opacity=\"1\" /><path clip-path=\"url(#clip330)\" d=\"M1281.38 1451.02 L1299.74 1451.02 L1299.74 1454.96 L1285.66 1454.96 L1285.66 1463.43 Q1286.68 1463.08 1287.7 1462.92 Q1288.72 1462.73 1289.74 1462.73 Q1295.52 1462.73 1298.9 1465.9 Q1302.28 1469.08 1302.28 1474.49 Q1302.28 1480.07 1298.81 1483.17 Q1295.34 1486.25 1289.02 1486.25 Q1286.84 1486.25 1284.57 1485.88 Q1282.33 1485.51 1279.92 1484.77 L1279.92 1480.07 Q1282.01 1481.2 1284.23 1481.76 Q1286.45 1482.32 1288.93 1482.32 Q1292.93 1482.32 1295.27 1480.21 Q1297.61 1478.1 1297.61 1474.49 Q1297.61 1470.88 1295.27 1468.77 Q1292.93 1466.67 1288.93 1466.67 Q1287.05 1466.67 1285.18 1467.08 Q1283.32 1467.5 1281.38 1468.38 L1281.38 1451.02 Z\" fill=\"#000000\" fill-rule=\"nonzero\" fill-opacity=\"1\" /><path clip-path=\"url(#clip330)\" d=\"M1321.5 1454.1 Q1317.88 1454.1 1316.06 1457.66 Q1314.25 1461.2 1314.25 1468.33 Q1314.25 1475.44 1316.06 1479.01 Q1317.88 1482.55 1321.5 1482.55 Q1325.13 1482.55 1326.94 1479.01 Q1328.76 1475.44 1328.76 1468.33 Q1328.76 1461.2 1326.94 1457.66 Q1325.13 1454.1 1321.5 1454.1 M1321.5 1450.39 Q1327.31 1450.39 1330.36 1455 Q1333.44 1459.58 1333.44 1468.33 Q1333.44 1477.06 1330.36 1481.67 Q1327.31 1486.25 1321.5 1486.25 Q1315.69 1486.25 1312.61 1481.67 Q1309.55 1477.06 1309.55 1468.33 Q1309.55 1459.58 1312.61 1455 Q1315.69 1450.39 1321.5 1450.39 Z\" fill=\"#000000\" fill-rule=\"nonzero\" fill-opacity=\"1\" /><path clip-path=\"url(#clip330)\" d=\"M1351.66 1454.1 Q1348.05 1454.1 1346.22 1457.66 Q1344.41 1461.2 1344.41 1468.33 Q1344.41 1475.44 1346.22 1479.01 Q1348.05 1482.55 1351.66 1482.55 Q1355.29 1482.55 1357.1 1479.01 Q1358.93 1475.44 1358.93 1468.33 Q1358.93 1461.2 1357.1 1457.66 Q1355.29 1454.1 1351.66 1454.1 M1351.66 1450.39 Q1357.47 1450.39 1360.52 1455 Q1363.6 1459.58 1363.6 1468.33 Q1363.6 1477.06 1360.52 1481.67 Q1357.47 1486.25 1351.66 1486.25 Q1345.85 1486.25 1342.77 1481.67 Q1339.71 1477.06 1339.71 1468.33 Q1339.71 1459.58 1342.77 1455 Q1345.85 1450.39 1351.66 1450.39 Z\" fill=\"#000000\" fill-rule=\"nonzero\" fill-opacity=\"1\" /><path clip-path=\"url(#clip330)\" d=\"M1766.38 1451.02 L1788.61 1451.02 L1788.61 1453.01 L1776.06 1485.58 L1771.17 1485.58 L1782.98 1454.96 L1766.38 1454.96 L1766.38 1451.02 Z\" fill=\"#000000\" fill-rule=\"nonzero\" fill-opacity=\"1\" /><path clip-path=\"url(#clip330)\" d=\"M1797.77 1451.02 L1816.13 1451.02 L1816.13 1454.96 L1802.05 1454.96 L1802.05 1463.43 Q1803.07 1463.08 1804.09 1462.92 Q1805.11 1462.73 1806.13 1462.73 Q1811.92 1462.73 1815.29 1465.9 Q1818.67 1469.08 1818.67 1474.49 Q1818.67 1480.07 1815.2 1483.17 Q1811.73 1486.25 1805.41 1486.25 Q1803.23 1486.25 1800.97 1485.88 Q1798.72 1485.51 1796.31 1484.77 L1796.31 1480.07 Q1798.4 1481.2 1800.62 1481.76 Q1802.84 1482.32 1805.32 1482.32 Q1809.32 1482.32 1811.66 1480.21 Q1814 1478.1 1814 1474.49 Q1814 1470.88 1811.66 1468.77 Q1809.32 1466.67 1805.32 1466.67 Q1803.44 1466.67 1801.57 1467.08 Q1799.72 1467.5 1797.77 1468.38 L1797.77 1451.02 Z\" fill=\"#000000\" fill-rule=\"nonzero\" fill-opacity=\"1\" /><path clip-path=\"url(#clip330)\" d=\"M1837.89 1454.1 Q1834.28 1454.1 1832.45 1457.66 Q1830.64 1461.2 1830.64 1468.33 Q1830.64 1475.44 1832.45 1479.01 Q1834.28 1482.55 1837.89 1482.55 Q1841.52 1482.55 1843.33 1479.01 Q1845.16 1475.44 1845.16 1468.33 Q1845.16 1461.2 1843.33 1457.66 Q1841.52 1454.1 1837.89 1454.1 M1837.89 1450.39 Q1843.7 1450.39 1846.75 1455 Q1849.83 1459.58 1849.83 1468.33 Q1849.83 1477.06 1846.75 1481.67 Q1843.7 1486.25 1837.89 1486.25 Q1832.08 1486.25 1829 1481.67 Q1825.94 1477.06 1825.94 1468.33 Q1825.94 1459.58 1829 1455 Q1832.08 1450.39 1837.89 1450.39 Z\" fill=\"#000000\" fill-rule=\"nonzero\" fill-opacity=\"1\" /><path clip-path=\"url(#clip330)\" d=\"M2238.98 1481.64 L2246.62 1481.64 L2246.62 1455.28 L2238.31 1456.95 L2238.31 1452.69 L2246.57 1451.02 L2251.25 1451.02 L2251.25 1481.64 L2258.89 1481.64 L2258.89 1485.58 L2238.98 1485.58 L2238.98 1481.64 Z\" fill=\"#000000\" fill-rule=\"nonzero\" fill-opacity=\"1\" /><path clip-path=\"url(#clip330)\" d=\"M2278.33 1454.1 Q2274.72 1454.1 2272.89 1457.66 Q2271.08 1461.2 2271.08 1468.33 Q2271.08 1475.44 2272.89 1479.01 Q2274.72 1482.55 2278.33 1482.55 Q2281.96 1482.55 2283.77 1479.01 Q2285.6 1475.44 2285.6 1468.33 Q2285.6 1461.2 2283.77 1457.66 Q2281.96 1454.1 2278.33 1454.1 M2278.33 1450.39 Q2284.14 1450.39 2287.2 1455 Q2290.27 1459.58 2290.27 1468.33 Q2290.27 1477.06 2287.2 1481.67 Q2284.14 1486.25 2278.33 1486.25 Q2272.52 1486.25 2269.44 1481.67 Q2266.39 1477.06 2266.39 1468.33 Q2266.39 1459.58 2269.44 1455 Q2272.52 1450.39 2278.33 1450.39 Z\" fill=\"#000000\" fill-rule=\"nonzero\" fill-opacity=\"1\" /><path clip-path=\"url(#clip330)\" d=\"M2308.49 1454.1 Q2304.88 1454.1 2303.05 1457.66 Q2301.25 1461.2 2301.25 1468.33 Q2301.25 1475.44 2303.05 1479.01 Q2304.88 1482.55 2308.49 1482.55 Q2312.13 1482.55 2313.93 1479.01 Q2315.76 1475.44 2315.76 1468.33 Q2315.76 1461.2 2313.93 1457.66 Q2312.13 1454.1 2308.49 1454.1 M2308.49 1450.39 Q2314.3 1450.39 2317.36 1455 Q2320.44 1459.58 2320.44 1468.33 Q2320.44 1477.06 2317.36 1481.67 Q2314.3 1486.25 2308.49 1486.25 Q2302.68 1486.25 2299.6 1481.67 Q2296.55 1477.06 2296.55 1468.33 Q2296.55 1459.58 2299.6 1455 Q2302.68 1450.39 2308.49 1450.39 Z\" fill=\"#000000\" fill-rule=\"nonzero\" fill-opacity=\"1\" /><path clip-path=\"url(#clip330)\" d=\"M2338.65 1454.1 Q2335.04 1454.1 2333.21 1457.66 Q2331.41 1461.2 2331.41 1468.33 Q2331.41 1475.44 2333.21 1479.01 Q2335.04 1482.55 2338.65 1482.55 Q2342.29 1482.55 2344.09 1479.01 Q2345.92 1475.44 2345.92 1468.33 Q2345.92 1461.2 2344.09 1457.66 Q2342.29 1454.1 2338.65 1454.1 M2338.65 1450.39 Q2344.46 1450.39 2347.52 1455 Q2350.6 1459.58 2350.6 1468.33 Q2350.6 1477.06 2347.52 1481.67 Q2344.46 1486.25 2338.65 1486.25 Q2332.84 1486.25 2329.77 1481.67 Q2326.71 1477.06 2326.71 1468.33 Q2326.71 1459.58 2329.77 1455 Q2332.84 1450.39 2338.65 1450.39 Z\" fill=\"#000000\" fill-rule=\"nonzero\" fill-opacity=\"1\" /><path clip-path=\"url(#clip330)\" d=\"M1172.3 1520.52 L1178.73 1520.52 L1178.73 1568.04 L1172.3 1568.04 L1172.3 1520.52 Z\" fill=\"#000000\" fill-rule=\"nonzero\" fill-opacity=\"1\" /><path clip-path=\"url(#clip330)\" d=\"M1197.06 1522.27 L1197.06 1532.4 L1209.12 1532.4 L1209.12 1536.95 L1197.06 1536.95 L1197.06 1556.3 Q1197.06 1560.66 1198.24 1561.9 Q1199.45 1563.14 1203.11 1563.14 L1209.12 1563.14 L1209.12 1568.04 L1203.11 1568.04 Q1196.33 1568.04 1193.75 1565.53 Q1191.17 1562.98 1191.17 1556.3 L1191.17 1536.95 L1186.87 1536.95 L1186.87 1532.4 L1191.17 1532.4 L1191.17 1522.27 L1197.06 1522.27 Z\" fill=\"#000000\" fill-rule=\"nonzero\" fill-opacity=\"1\" /><path clip-path=\"url(#clip330)\" d=\"M1247.32 1548.76 L1247.32 1551.62 L1220.39 1551.62 Q1220.77 1557.67 1224.02 1560.85 Q1227.3 1564 1233.12 1564 Q1236.5 1564 1239.65 1563.17 Q1242.83 1562.35 1245.95 1560.69 L1245.95 1566.23 Q1242.8 1567.57 1239.49 1568.27 Q1236.18 1568.97 1232.77 1568.97 Q1224.24 1568.97 1219.24 1564 Q1214.28 1559.04 1214.28 1550.57 Q1214.28 1541.82 1218.99 1536.69 Q1223.73 1531.54 1231.75 1531.54 Q1238.95 1531.54 1243.12 1536.18 Q1247.32 1540.8 1247.32 1548.76 M1241.46 1547.04 Q1241.4 1542.23 1238.75 1539.37 Q1236.14 1536.5 1231.82 1536.5 Q1226.91 1536.5 1223.95 1539.27 Q1221.03 1542.04 1220.58 1547.07 L1241.46 1547.04 M1235.83 1515.91 L1242.16 1515.91 L1231.78 1527.88 L1226.91 1527.88 L1235.83 1515.91 Z\" fill=\"#000000\" fill-rule=\"nonzero\" fill-opacity=\"1\" /><path clip-path=\"url(#clip330)\" d=\"M1277.59 1537.87 Q1276.6 1537.3 1275.42 1537.04 Q1274.28 1536.76 1272.88 1536.76 Q1267.91 1536.76 1265.24 1540 Q1262.59 1543.22 1262.59 1549.27 L1262.59 1568.04 L1256.71 1568.04 L1256.71 1532.4 L1262.59 1532.4 L1262.59 1537.93 Q1264.44 1534.69 1267.4 1533.13 Q1270.36 1531.54 1274.59 1531.54 Q1275.2 1531.54 1275.93 1531.63 Q1276.66 1531.7 1277.55 1531.85 L1277.59 1537.87 Z\" fill=\"#000000\" fill-rule=\"nonzero\" fill-opacity=\"1\" /><path clip-path=\"url(#clip330)\" d=\"M1299.93 1550.12 Q1292.83 1550.12 1290.09 1551.75 Q1287.36 1553.37 1287.36 1557.29 Q1287.36 1560.4 1289.39 1562.25 Q1291.46 1564.07 1295 1564.07 Q1299.87 1564.07 1302.79 1560.63 Q1305.75 1557.16 1305.75 1551.43 L1305.75 1550.12 L1299.93 1550.12 M1311.61 1547.71 L1311.61 1568.04 L1305.75 1568.04 L1305.75 1562.63 Q1303.75 1565.88 1300.76 1567.44 Q1297.77 1568.97 1293.44 1568.97 Q1287.96 1568.97 1284.72 1565.91 Q1281.5 1562.82 1281.5 1557.67 Q1281.5 1551.65 1285.51 1548.6 Q1289.55 1545.54 1297.54 1545.54 L1305.75 1545.54 L1305.75 1544.97 Q1305.75 1540.93 1303.08 1538.73 Q1300.44 1536.5 1295.63 1536.5 Q1292.58 1536.5 1289.68 1537.23 Q1286.78 1537.97 1284.11 1539.43 L1284.11 1534.02 Q1287.33 1532.78 1290.35 1532.17 Q1293.37 1531.54 1296.24 1531.54 Q1303.97 1531.54 1307.79 1535.55 Q1311.61 1539.56 1311.61 1547.71 Z\" fill=\"#000000\" fill-rule=\"nonzero\" fill-opacity=\"1\" /><path clip-path=\"url(#clip330)\" d=\"M1329.47 1522.27 L1329.47 1532.4 L1341.53 1532.4 L1341.53 1536.95 L1329.47 1536.95 L1329.47 1556.3 Q1329.47 1560.66 1330.64 1561.9 Q1331.85 1563.14 1335.51 1563.14 L1341.53 1563.14 L1341.53 1568.04 L1335.51 1568.04 Q1328.73 1568.04 1326.16 1565.53 Q1323.58 1562.98 1323.58 1556.3 L1323.58 1536.95 L1319.28 1536.95 L1319.28 1532.4 L1323.58 1532.4 L1323.58 1522.27 L1329.47 1522.27 Z\" fill=\"#000000\" fill-rule=\"nonzero\" fill-opacity=\"1\" /><path clip-path=\"url(#clip330)\" d=\"M1349.23 1532.4 L1355.09 1532.4 L1355.09 1568.04 L1349.23 1568.04 L1349.23 1532.4 M1349.23 1518.52 L1355.09 1518.52 L1355.09 1525.93 L1349.23 1525.93 L1349.23 1518.52 Z\" fill=\"#000000\" fill-rule=\"nonzero\" fill-opacity=\"1\" /><path clip-path=\"url(#clip330)\" d=\"M1381.16 1536.5 Q1376.45 1536.5 1373.71 1540.19 Q1370.97 1543.85 1370.97 1550.25 Q1370.97 1556.65 1373.68 1560.34 Q1376.41 1564 1381.16 1564 Q1385.83 1564 1388.57 1560.31 Q1391.31 1556.62 1391.31 1550.25 Q1391.31 1543.92 1388.57 1540.23 Q1385.83 1536.5 1381.16 1536.5 M1381.16 1531.54 Q1388.79 1531.54 1393.16 1536.5 Q1397.52 1541.47 1397.52 1550.25 Q1397.52 1559 1393.16 1564 Q1388.79 1568.97 1381.16 1568.97 Q1373.49 1568.97 1369.12 1564 Q1364.8 1559 1364.8 1550.25 Q1364.8 1541.47 1369.12 1536.5 Q1373.49 1531.54 1381.16 1531.54 Z\" fill=\"#000000\" fill-rule=\"nonzero\" fill-opacity=\"1\" /><path clip-path=\"url(#clip330)\" d=\"M1436.86 1546.53 L1436.86 1568.04 L1431 1568.04 L1431 1546.72 Q1431 1541.66 1429.03 1539.14 Q1427.05 1536.63 1423.11 1536.63 Q1418.36 1536.63 1415.63 1539.65 Q1412.89 1542.68 1412.89 1547.9 L1412.89 1568.04 L1407 1568.04 L1407 1532.4 L1412.89 1532.4 L1412.89 1537.93 Q1414.99 1534.72 1417.82 1533.13 Q1420.69 1531.54 1424.41 1531.54 Q1430.55 1531.54 1433.7 1535.36 Q1436.86 1539.14 1436.86 1546.53 Z\" fill=\"#000000\" fill-rule=\"nonzero\" fill-opacity=\"1\" /><path clip-path=\"url(#clip330)\" d=\"M1471.26 1533.45 L1471.26 1538.98 Q1468.78 1537.71 1466.11 1537.07 Q1463.43 1536.44 1460.57 1536.44 Q1456.21 1536.44 1454.01 1537.77 Q1451.85 1539.11 1451.85 1541.79 Q1451.85 1543.82 1453.41 1545 Q1454.97 1546.15 1459.68 1547.2 L1461.68 1547.64 Q1467.92 1548.98 1470.53 1551.43 Q1473.17 1553.85 1473.17 1558.21 Q1473.17 1563.17 1469.23 1566.07 Q1465.31 1568.97 1458.44 1568.97 Q1455.57 1568.97 1452.45 1568.39 Q1449.36 1567.85 1445.93 1566.74 L1445.93 1560.69 Q1449.17 1562.38 1452.32 1563.24 Q1455.48 1564.07 1458.56 1564.07 Q1462.7 1564.07 1464.93 1562.66 Q1467.16 1561.23 1467.16 1558.65 Q1467.16 1556.27 1465.53 1554.99 Q1463.94 1553.72 1458.5 1552.54 L1456.46 1552.07 Q1451.02 1550.92 1448.6 1548.56 Q1446.18 1546.18 1446.18 1542.04 Q1446.18 1537.01 1449.75 1534.27 Q1453.31 1531.54 1459.87 1531.54 Q1463.11 1531.54 1465.98 1532.01 Q1468.84 1532.49 1471.26 1533.45 Z\" fill=\"#000000\" fill-rule=\"nonzero\" fill-opacity=\"1\" /><polyline clip-path=\"url(#clip332)\" style=\"stroke:#000000; stroke-linecap:round; stroke-linejoin:round; stroke-width:2; stroke-opacity:0.1; fill:none\" points=\"292.713,1391.58 2352.76,1391.58 \"/>\n",
       "<polyline clip-path=\"url(#clip332)\" style=\"stroke:#000000; stroke-linecap:round; stroke-linejoin:round; stroke-width:2; stroke-opacity:0.1; fill:none\" points=\"292.713,1025.8 2352.76,1025.8 \"/>\n",
       "<polyline clip-path=\"url(#clip332)\" style=\"stroke:#000000; stroke-linecap:round; stroke-linejoin:round; stroke-width:2; stroke-opacity:0.1; fill:none\" points=\"292.713,660.026 2352.76,660.026 \"/>\n",
       "<polyline clip-path=\"url(#clip332)\" style=\"stroke:#000000; stroke-linecap:round; stroke-linejoin:round; stroke-width:2; stroke-opacity:0.1; fill:none\" points=\"292.713,294.248 2352.76,294.248 \"/>\n",
       "<polyline clip-path=\"url(#clip330)\" style=\"stroke:#000000; stroke-linecap:round; stroke-linejoin:round; stroke-width:4; stroke-opacity:1; fill:none\" points=\"292.713,1423.18 292.713,123.472 \"/>\n",
       "<polyline clip-path=\"url(#clip330)\" style=\"stroke:#000000; stroke-linecap:round; stroke-linejoin:round; stroke-width:4; stroke-opacity:1; fill:none\" points=\"292.713,1391.58 311.611,1391.58 \"/>\n",
       "<polyline clip-path=\"url(#clip330)\" style=\"stroke:#000000; stroke-linecap:round; stroke-linejoin:round; stroke-width:4; stroke-opacity:1; fill:none\" points=\"292.713,1025.8 311.611,1025.8 \"/>\n",
       "<polyline clip-path=\"url(#clip330)\" style=\"stroke:#000000; stroke-linecap:round; stroke-linejoin:round; stroke-width:4; stroke-opacity:1; fill:none\" points=\"292.713,660.026 311.611,660.026 \"/>\n",
       "<polyline clip-path=\"url(#clip330)\" style=\"stroke:#000000; stroke-linecap:round; stroke-linejoin:round; stroke-width:4; stroke-opacity:1; fill:none\" points=\"292.713,294.248 311.611,294.248 \"/>\n",
       "<path clip-path=\"url(#clip330)\" d=\"M143.103 1374.3 L165.325 1374.3 L165.325 1376.29 L152.778 1408.86 L147.894 1408.86 L159.7 1378.24 L143.103 1378.24 L143.103 1374.3 Z\" fill=\"#000000\" fill-rule=\"nonzero\" fill-opacity=\"1\" /><path clip-path=\"url(#clip330)\" d=\"M174.491 1374.3 L192.848 1374.3 L192.848 1378.24 L178.774 1378.24 L178.774 1386.71 Q179.792 1386.36 180.811 1386.2 Q181.829 1386.02 182.848 1386.02 Q188.635 1386.02 192.014 1389.19 Q195.394 1392.36 195.394 1397.78 Q195.394 1403.35 191.922 1406.46 Q188.45 1409.53 182.13 1409.53 Q179.954 1409.53 177.686 1409.16 Q175.44 1408.79 173.033 1408.05 L173.033 1403.35 Q175.116 1404.49 177.339 1405.04 Q179.561 1405.6 182.038 1405.6 Q186.042 1405.6 188.38 1403.49 Q190.718 1401.39 190.718 1397.78 Q190.718 1394.16 188.38 1392.06 Q186.042 1389.95 182.038 1389.95 Q180.163 1389.95 178.288 1390.37 Q176.436 1390.78 174.491 1391.66 L174.491 1374.3 Z\" fill=\"#000000\" fill-rule=\"nonzero\" fill-opacity=\"1\" /><path clip-path=\"url(#clip330)\" d=\"M214.607 1377.38 Q210.996 1377.38 209.167 1380.95 Q207.362 1384.49 207.362 1391.62 Q207.362 1398.72 209.167 1402.29 Q210.996 1405.83 214.607 1405.83 Q218.241 1405.83 220.047 1402.29 Q221.875 1398.72 221.875 1391.62 Q221.875 1384.49 220.047 1380.95 Q218.241 1377.38 214.607 1377.38 M214.607 1373.68 Q220.417 1373.68 223.473 1378.28 Q226.551 1382.87 226.551 1391.62 Q226.551 1400.34 223.473 1404.95 Q220.417 1409.53 214.607 1409.53 Q208.797 1409.53 205.718 1404.95 Q202.662 1400.34 202.662 1391.62 Q202.662 1382.87 205.718 1378.28 Q208.797 1373.68 214.607 1373.68 Z\" fill=\"#000000\" fill-rule=\"nonzero\" fill-opacity=\"1\" /><path clip-path=\"url(#clip330)\" d=\"M244.769 1377.38 Q241.158 1377.38 239.329 1380.95 Q237.523 1384.49 237.523 1391.62 Q237.523 1398.72 239.329 1402.29 Q241.158 1405.83 244.769 1405.83 Q248.403 1405.83 250.209 1402.29 Q252.037 1398.72 252.037 1391.62 Q252.037 1384.49 250.209 1380.95 Q248.403 1377.38 244.769 1377.38 M244.769 1373.68 Q250.579 1373.68 253.634 1378.28 Q256.713 1382.87 256.713 1391.62 Q256.713 1400.34 253.634 1404.95 Q250.579 1409.53 244.769 1409.53 Q238.959 1409.53 235.88 1404.95 Q232.824 1400.34 232.824 1391.62 Q232.824 1382.87 235.88 1378.28 Q238.959 1373.68 244.769 1373.68 Z\" fill=\"#000000\" fill-rule=\"nonzero\" fill-opacity=\"1\" /><path clip-path=\"url(#clip330)\" d=\"M114.931 1039.15 L122.57 1039.15 L122.57 1012.78 L114.26 1014.45 L114.26 1010.19 L122.524 1008.52 L127.2 1008.52 L127.2 1039.15 L134.839 1039.15 L134.839 1043.08 L114.931 1043.08 L114.931 1039.15 Z\" fill=\"#000000\" fill-rule=\"nonzero\" fill-opacity=\"1\" /><path clip-path=\"url(#clip330)\" d=\"M154.283 1011.6 Q150.672 1011.6 148.843 1015.17 Q147.038 1018.71 147.038 1025.84 Q147.038 1032.95 148.843 1036.51 Q150.672 1040.05 154.283 1040.05 Q157.917 1040.05 159.723 1036.51 Q161.552 1032.95 161.552 1025.84 Q161.552 1018.71 159.723 1015.17 Q157.917 1011.6 154.283 1011.6 M154.283 1007.9 Q160.093 1007.9 163.149 1012.51 Q166.227 1017.09 166.227 1025.84 Q166.227 1034.57 163.149 1039.17 Q160.093 1043.76 154.283 1043.76 Q148.473 1043.76 145.394 1039.17 Q142.339 1034.57 142.339 1025.84 Q142.339 1017.09 145.394 1012.51 Q148.473 1007.9 154.283 1007.9 Z\" fill=\"#000000\" fill-rule=\"nonzero\" fill-opacity=\"1\" /><path clip-path=\"url(#clip330)\" d=\"M184.445 1011.6 Q180.834 1011.6 179.005 1015.17 Q177.2 1018.71 177.2 1025.84 Q177.2 1032.95 179.005 1036.51 Q180.834 1040.05 184.445 1040.05 Q188.079 1040.05 189.885 1036.51 Q191.713 1032.95 191.713 1025.84 Q191.713 1018.71 189.885 1015.17 Q188.079 1011.6 184.445 1011.6 M184.445 1007.9 Q190.255 1007.9 193.311 1012.51 Q196.389 1017.09 196.389 1025.84 Q196.389 1034.57 193.311 1039.17 Q190.255 1043.76 184.445 1043.76 Q178.635 1043.76 175.556 1039.17 Q172.501 1034.57 172.501 1025.84 Q172.501 1017.09 175.556 1012.51 Q178.635 1007.9 184.445 1007.9 Z\" fill=\"#000000\" fill-rule=\"nonzero\" fill-opacity=\"1\" /><path clip-path=\"url(#clip330)\" d=\"M214.607 1011.6 Q210.996 1011.6 209.167 1015.17 Q207.362 1018.71 207.362 1025.84 Q207.362 1032.95 209.167 1036.51 Q210.996 1040.05 214.607 1040.05 Q218.241 1040.05 220.047 1036.51 Q221.875 1032.95 221.875 1025.84 Q221.875 1018.71 220.047 1015.17 Q218.241 1011.6 214.607 1011.6 M214.607 1007.9 Q220.417 1007.9 223.473 1012.51 Q226.551 1017.09 226.551 1025.84 Q226.551 1034.57 223.473 1039.17 Q220.417 1043.76 214.607 1043.76 Q208.797 1043.76 205.718 1039.17 Q202.662 1034.57 202.662 1025.84 Q202.662 1017.09 205.718 1012.51 Q208.797 1007.9 214.607 1007.9 Z\" fill=\"#000000\" fill-rule=\"nonzero\" fill-opacity=\"1\" /><path clip-path=\"url(#clip330)\" d=\"M244.769 1011.6 Q241.158 1011.6 239.329 1015.17 Q237.523 1018.71 237.523 1025.84 Q237.523 1032.95 239.329 1036.51 Q241.158 1040.05 244.769 1040.05 Q248.403 1040.05 250.209 1036.51 Q252.037 1032.95 252.037 1025.84 Q252.037 1018.71 250.209 1015.17 Q248.403 1011.6 244.769 1011.6 M244.769 1007.9 Q250.579 1007.9 253.634 1012.51 Q256.713 1017.09 256.713 1025.84 Q256.713 1034.57 253.634 1039.17 Q250.579 1043.76 244.769 1043.76 Q238.959 1043.76 235.88 1039.17 Q232.824 1034.57 232.824 1025.84 Q232.824 1017.09 235.88 1012.51 Q238.959 1007.9 244.769 1007.9 Z\" fill=\"#000000\" fill-rule=\"nonzero\" fill-opacity=\"1\" /><path clip-path=\"url(#clip330)\" d=\"M114.931 673.371 L122.57 673.371 L122.57 647.005 L114.26 648.672 L114.26 644.413 L122.524 642.746 L127.2 642.746 L127.2 673.371 L134.839 673.371 L134.839 677.306 L114.931 677.306 L114.931 673.371 Z\" fill=\"#000000\" fill-rule=\"nonzero\" fill-opacity=\"1\" /><path clip-path=\"url(#clip330)\" d=\"M148.311 673.371 L164.63 673.371 L164.63 677.306 L142.686 677.306 L142.686 673.371 Q145.348 670.616 149.931 665.987 Q154.538 661.334 155.718 659.991 Q157.964 657.468 158.843 655.732 Q159.746 653.973 159.746 652.283 Q159.746 649.529 157.802 647.792 Q155.88 646.056 152.778 646.056 Q150.579 646.056 148.126 646.82 Q145.695 647.584 142.917 649.135 L142.917 644.413 Q145.741 643.279 148.195 642.7 Q150.649 642.121 152.686 642.121 Q158.056 642.121 161.251 644.806 Q164.445 647.492 164.445 651.982 Q164.445 654.112 163.635 656.033 Q162.848 657.931 160.741 660.524 Q160.163 661.195 157.061 664.413 Q153.959 667.607 148.311 673.371 Z\" fill=\"#000000\" fill-rule=\"nonzero\" fill-opacity=\"1\" /><path clip-path=\"url(#clip330)\" d=\"M174.491 642.746 L192.848 642.746 L192.848 646.681 L178.774 646.681 L178.774 655.154 Q179.792 654.806 180.811 654.644 Q181.829 654.459 182.848 654.459 Q188.635 654.459 192.014 657.63 Q195.394 660.802 195.394 666.218 Q195.394 671.797 191.922 674.899 Q188.45 677.977 182.13 677.977 Q179.954 677.977 177.686 677.607 Q175.44 677.237 173.033 676.496 L173.033 671.797 Q175.116 672.931 177.339 673.487 Q179.561 674.042 182.038 674.042 Q186.042 674.042 188.38 671.936 Q190.718 669.829 190.718 666.218 Q190.718 662.607 188.38 660.501 Q186.042 658.394 182.038 658.394 Q180.163 658.394 178.288 658.811 Q176.436 659.228 174.491 660.107 L174.491 642.746 Z\" fill=\"#000000\" fill-rule=\"nonzero\" fill-opacity=\"1\" /><path clip-path=\"url(#clip330)\" d=\"M214.607 645.825 Q210.996 645.825 209.167 649.39 Q207.362 652.931 207.362 660.061 Q207.362 667.167 209.167 670.732 Q210.996 674.274 214.607 674.274 Q218.241 674.274 220.047 670.732 Q221.875 667.167 221.875 660.061 Q221.875 652.931 220.047 649.39 Q218.241 645.825 214.607 645.825 M214.607 642.121 Q220.417 642.121 223.473 646.728 Q226.551 651.311 226.551 660.061 Q226.551 668.788 223.473 673.394 Q220.417 677.977 214.607 677.977 Q208.797 677.977 205.718 673.394 Q202.662 668.788 202.662 660.061 Q202.662 651.311 205.718 646.728 Q208.797 642.121 214.607 642.121 Z\" fill=\"#000000\" fill-rule=\"nonzero\" fill-opacity=\"1\" /><path clip-path=\"url(#clip330)\" d=\"M244.769 645.825 Q241.158 645.825 239.329 649.39 Q237.523 652.931 237.523 660.061 Q237.523 667.167 239.329 670.732 Q241.158 674.274 244.769 674.274 Q248.403 674.274 250.209 670.732 Q252.037 667.167 252.037 660.061 Q252.037 652.931 250.209 649.39 Q248.403 645.825 244.769 645.825 M244.769 642.121 Q250.579 642.121 253.634 646.728 Q256.713 651.311 256.713 660.061 Q256.713 668.788 253.634 673.394 Q250.579 677.977 244.769 677.977 Q238.959 677.977 235.88 673.394 Q232.824 668.788 232.824 660.061 Q232.824 651.311 235.88 646.728 Q238.959 642.121 244.769 642.121 Z\" fill=\"#000000\" fill-rule=\"nonzero\" fill-opacity=\"1\" /><path clip-path=\"url(#clip330)\" d=\"M114.931 307.592 L122.57 307.592 L122.57 281.227 L114.26 282.894 L114.26 278.634 L122.524 276.968 L127.2 276.968 L127.2 307.592 L134.839 307.592 L134.839 311.528 L114.931 311.528 L114.931 307.592 Z\" fill=\"#000000\" fill-rule=\"nonzero\" fill-opacity=\"1\" /><path clip-path=\"url(#clip330)\" d=\"M144.329 276.968 L162.686 276.968 L162.686 280.903 L148.612 280.903 L148.612 289.375 Q149.63 289.028 150.649 288.866 Q151.667 288.681 152.686 288.681 Q158.473 288.681 161.852 291.852 Q165.232 295.023 165.232 300.44 Q165.232 306.018 161.76 309.12 Q158.288 312.199 151.968 312.199 Q149.792 312.199 147.524 311.829 Q145.279 311.458 142.871 310.717 L142.871 306.018 Q144.954 307.153 147.177 307.708 Q149.399 308.264 151.876 308.264 Q155.88 308.264 158.218 306.157 Q160.556 304.051 160.556 300.44 Q160.556 296.829 158.218 294.722 Q155.88 292.616 151.876 292.616 Q150.001 292.616 148.126 293.032 Q146.274 293.449 144.329 294.329 L144.329 276.968 Z\" fill=\"#000000\" fill-rule=\"nonzero\" fill-opacity=\"1\" /><path clip-path=\"url(#clip330)\" d=\"M184.445 280.046 Q180.834 280.046 179.005 283.611 Q177.2 287.153 177.2 294.282 Q177.2 301.389 179.005 304.954 Q180.834 308.495 184.445 308.495 Q188.079 308.495 189.885 304.954 Q191.713 301.389 191.713 294.282 Q191.713 287.153 189.885 283.611 Q188.079 280.046 184.445 280.046 M184.445 276.343 Q190.255 276.343 193.311 280.949 Q196.389 285.532 196.389 294.282 Q196.389 303.009 193.311 307.616 Q190.255 312.199 184.445 312.199 Q178.635 312.199 175.556 307.616 Q172.501 303.009 172.501 294.282 Q172.501 285.532 175.556 280.949 Q178.635 276.343 184.445 276.343 Z\" fill=\"#000000\" fill-rule=\"nonzero\" fill-opacity=\"1\" /><path clip-path=\"url(#clip330)\" d=\"M214.607 280.046 Q210.996 280.046 209.167 283.611 Q207.362 287.153 207.362 294.282 Q207.362 301.389 209.167 304.954 Q210.996 308.495 214.607 308.495 Q218.241 308.495 220.047 304.954 Q221.875 301.389 221.875 294.282 Q221.875 287.153 220.047 283.611 Q218.241 280.046 214.607 280.046 M214.607 276.343 Q220.417 276.343 223.473 280.949 Q226.551 285.532 226.551 294.282 Q226.551 303.009 223.473 307.616 Q220.417 312.199 214.607 312.199 Q208.797 312.199 205.718 307.616 Q202.662 303.009 202.662 294.282 Q202.662 285.532 205.718 280.949 Q208.797 276.343 214.607 276.343 Z\" fill=\"#000000\" fill-rule=\"nonzero\" fill-opacity=\"1\" /><path clip-path=\"url(#clip330)\" d=\"M244.769 280.046 Q241.158 280.046 239.329 283.611 Q237.523 287.153 237.523 294.282 Q237.523 301.389 239.329 304.954 Q241.158 308.495 244.769 308.495 Q248.403 308.495 250.209 304.954 Q252.037 301.389 252.037 294.282 Q252.037 287.153 250.209 283.611 Q248.403 280.046 244.769 280.046 M244.769 276.343 Q250.579 276.343 253.634 280.949 Q256.713 285.532 256.713 294.282 Q256.713 303.009 253.634 307.616 Q250.579 312.199 244.769 312.199 Q238.959 312.199 235.88 307.616 Q232.824 303.009 232.824 294.282 Q232.824 285.532 235.88 280.949 Q238.959 276.343 244.769 276.343 Z\" fill=\"#000000\" fill-rule=\"nonzero\" fill-opacity=\"1\" /><path clip-path=\"url(#clip330)\" d=\"M20.1444 808.528 L26.9239 808.528 Q23.9002 811.775 22.4043 815.467 Q20.9083 819.127 20.9083 823.265 Q20.9083 831.413 25.9054 835.742 Q30.8707 840.07 40.2919 840.07 Q49.6813 840.07 54.6784 835.742 Q59.6436 831.413 59.6436 823.265 Q59.6436 819.127 58.1477 815.467 Q56.6518 811.775 53.6281 808.528 L60.3439 808.528 Q62.6355 811.902 63.7814 815.69 Q64.9272 819.446 64.9272 823.647 Q64.9272 834.437 58.3387 840.643 Q51.7183 846.85 40.2919 846.85 Q28.8336 846.85 22.2451 840.643 Q15.6248 834.437 15.6248 823.647 Q15.6248 819.382 16.7706 815.626 Q17.8846 811.839 20.1444 808.528 Z\" fill=\"#000000\" fill-rule=\"nonzero\" fill-opacity=\"1\" /><path clip-path=\"url(#clip330)\" d=\"M32.4621 785.039 Q32.4621 789.75 36.1542 792.487 Q39.8145 795.224 46.212 795.224 Q52.6095 795.224 56.3017 792.519 Q59.9619 789.781 59.9619 785.039 Q59.9619 780.36 56.2698 777.623 Q52.5777 774.886 46.212 774.886 Q39.8781 774.886 36.186 777.623 Q32.4621 780.36 32.4621 785.039 M27.4968 785.039 Q27.4968 777.4 32.4621 773.04 Q37.4273 768.679 46.212 768.679 Q54.9649 768.679 59.9619 773.04 Q64.9272 777.4 64.9272 785.039 Q64.9272 792.71 59.9619 797.07 Q54.9649 801.399 46.212 801.399 Q37.4273 801.399 32.4621 797.07 Q27.4968 792.71 27.4968 785.039 Z\" fill=\"#000000\" fill-rule=\"nonzero\" fill-opacity=\"1\" /><path clip-path=\"url(#clip330)\" d=\"M49.9359 759.576 L28.3562 759.576 L28.3562 753.72 L49.7131 753.72 Q54.7739 753.72 57.3202 751.746 Q59.8346 749.773 59.8346 745.826 Q59.8346 741.084 56.8109 738.346 Q53.7872 735.577 48.5673 735.577 L28.3562 735.577 L28.3562 729.721 L64.0042 729.721 L64.0042 735.577 L58.5296 735.577 Q61.7762 737.71 63.3676 740.543 Q64.9272 743.344 64.9272 747.067 Q64.9272 753.21 61.1078 756.393 Q57.2883 759.576 49.9359 759.576 M27.4968 744.839 L27.4968 744.839 M11.869 747.258 L11.869 742.548 L23.8365 734.75 L23.8365 739.174 L16.0386 744.903 L23.8365 750.632 L23.8365 755.056 L11.869 747.258 Z\" fill=\"#000000\" fill-rule=\"nonzero\" fill-opacity=\"1\" /><path clip-path=\"url(#clip330)\" d=\"M18.2347 711.865 L28.3562 711.865 L28.3562 699.802 L32.9077 699.802 L32.9077 711.865 L52.2594 711.865 Q56.6199 711.865 57.8613 710.687 Q59.1026 709.478 59.1026 705.818 L59.1026 699.802 L64.0042 699.802 L64.0042 705.818 Q64.0042 712.597 61.4897 715.175 Q58.9434 717.753 52.2594 717.753 L32.9077 717.753 L32.9077 722.05 L28.3562 722.05 L28.3562 717.753 L18.2347 717.753 L18.2347 711.865 Z\" fill=\"#000000\" fill-rule=\"nonzero\" fill-opacity=\"1\" /><path clip-path=\"url(#clip330)\" d=\"M964.655 12.096 L1002.9 12.096 L1002.9 18.9825 L972.838 18.9825 L972.838 36.8875 L1001.64 36.8875 L1001.64 43.7741 L972.838 43.7741 L972.838 65.6895 L1003.62 65.6895 L1003.62 72.576 L964.655 72.576 L964.655 12.096 M985.882 -4.35067 L993.376 -4.35067 L984.14 6.34372 L977.942 6.34372 L985.882 -4.35067 Z\" fill=\"#000000\" fill-rule=\"nonzero\" fill-opacity=\"1\" /><path clip-path=\"url(#clip330)\" d=\"M1011.4 27.2059 L1019.3 27.2059 L1033.48 65.2844 L1047.66 27.2059 L1055.56 27.2059 L1038.54 72.576 L1028.42 72.576 L1011.4 27.2059 Z\" fill=\"#000000\" fill-rule=\"nonzero\" fill-opacity=\"1\" /><path clip-path=\"url(#clip330)\" d=\"M1083.43 32.4315 Q1077.43 32.4315 1073.95 37.1306 Q1070.46 41.7891 1070.46 49.9314 Q1070.46 58.0738 1073.91 62.7728 Q1077.39 67.4314 1083.43 67.4314 Q1089.38 67.4314 1092.87 62.7323 Q1096.35 58.0333 1096.35 49.9314 Q1096.35 41.8701 1092.87 37.1711 Q1089.38 32.4315 1083.43 32.4315 M1083.43 26.1121 Q1093.15 26.1121 1098.7 32.4315 Q1104.25 38.7509 1104.25 49.9314 Q1104.25 61.0714 1098.7 67.4314 Q1093.15 73.7508 1083.43 73.7508 Q1073.66 73.7508 1068.11 67.4314 Q1062.61 61.0714 1062.61 49.9314 Q1062.61 38.7509 1068.11 32.4315 Q1073.66 26.1121 1083.43 26.1121 Z\" fill=\"#000000\" fill-rule=\"nonzero\" fill-opacity=\"1\" /><path clip-path=\"url(#clip330)\" d=\"M1116.6 9.54393 L1124.06 9.54393 L1124.06 72.576 L1116.6 72.576 L1116.6 9.54393 Z\" fill=\"#000000\" fill-rule=\"nonzero\" fill-opacity=\"1\" /><path clip-path=\"url(#clip330)\" d=\"M1138.88 54.671 L1138.88 27.2059 L1146.34 27.2059 L1146.34 54.3874 Q1146.34 60.8284 1148.85 64.0691 Q1151.36 67.2693 1156.38 67.2693 Q1162.42 67.2693 1165.9 63.421 Q1169.43 59.5726 1169.43 52.9291 L1169.43 27.2059 L1176.88 27.2059 L1176.88 72.576 L1169.43 72.576 L1169.43 65.6084 Q1166.71 69.7404 1163.11 71.7658 Q1159.54 73.7508 1154.8 73.7508 Q1146.99 73.7508 1142.94 68.8897 Q1138.88 64.0286 1138.88 54.671 M1157.64 26.1121 L1157.64 26.1121 Z\" fill=\"#000000\" fill-rule=\"nonzero\" fill-opacity=\"1\" /><path clip-path=\"url(#clip330)\" d=\"M1199.61 14.324 L1199.61 27.2059 L1214.96 27.2059 L1214.96 32.9987 L1199.61 32.9987 L1199.61 57.6282 Q1199.61 63.1779 1201.11 64.7578 Q1202.65 66.3376 1207.3 66.3376 L1214.96 66.3376 L1214.96 72.576 L1207.3 72.576 Q1198.68 72.576 1195.39 69.3758 Q1192.11 66.1351 1192.11 57.6282 L1192.11 32.9987 L1186.64 32.9987 L1186.64 27.2059 L1192.11 27.2059 L1192.11 14.324 L1199.61 14.324 Z\" fill=\"#000000\" fill-rule=\"nonzero\" fill-opacity=\"1\" /><path clip-path=\"url(#clip330)\" d=\"M1224.76 27.2059 L1232.22 27.2059 L1232.22 72.576 L1224.76 72.576 L1224.76 27.2059 M1224.76 9.54393 L1232.22 9.54393 L1232.22 18.9825 L1224.76 18.9825 L1224.76 9.54393 Z\" fill=\"#000000\" fill-rule=\"nonzero\" fill-opacity=\"1\" /><path clip-path=\"url(#clip330)\" d=\"M1265.39 32.4315 Q1259.4 32.4315 1255.91 37.1306 Q1252.43 41.7891 1252.43 49.9314 Q1252.43 58.0738 1255.87 62.7728 Q1259.36 67.4314 1265.39 67.4314 Q1271.35 67.4314 1274.83 62.7323 Q1278.32 58.0333 1278.32 49.9314 Q1278.32 41.8701 1274.83 37.1711 Q1271.35 32.4315 1265.39 32.4315 M1265.39 26.1121 Q1275.12 26.1121 1280.67 32.4315 Q1286.22 38.7509 1286.22 49.9314 Q1286.22 61.0714 1280.67 67.4314 Q1275.12 73.7508 1265.39 73.7508 Q1255.63 73.7508 1250.08 67.4314 Q1244.57 61.0714 1244.57 49.9314 Q1244.57 38.7509 1250.08 32.4315 Q1255.63 26.1121 1265.39 26.1121 Z\" fill=\"#000000\" fill-rule=\"nonzero\" fill-opacity=\"1\" /><path clip-path=\"url(#clip330)\" d=\"M1336.28 45.1919 L1336.28 72.576 L1328.83 72.576 L1328.83 45.4349 Q1328.83 38.994 1326.32 35.7938 Q1323.81 32.5936 1318.78 32.5936 Q1312.75 32.5936 1309.27 36.4419 Q1305.78 40.2903 1305.78 46.9338 L1305.78 72.576 L1298.29 72.576 L1298.29 27.2059 L1305.78 27.2059 L1305.78 34.2544 Q1308.46 30.163 1312.06 28.1376 Q1315.71 26.1121 1320.45 26.1121 Q1328.26 26.1121 1332.27 30.9732 Q1336.28 35.7938 1336.28 45.1919 Z\" fill=\"#000000\" fill-rule=\"nonzero\" fill-opacity=\"1\" /><path clip-path=\"url(#clip330)\" d=\"M1407.38 34.0924 L1407.38 9.54393 L1414.83 9.54393 L1414.83 72.576 L1407.38 72.576 L1407.38 65.7705 Q1405.03 69.8214 1401.42 71.8063 Q1397.86 73.7508 1392.84 73.7508 Q1384.61 73.7508 1379.43 67.1883 Q1374.28 60.6258 1374.28 49.9314 Q1374.28 39.2371 1379.43 32.6746 Q1384.61 26.1121 1392.84 26.1121 Q1397.86 26.1121 1401.42 28.0971 Q1405.03 30.0415 1407.38 34.0924 M1381.98 49.9314 Q1381.98 58.1548 1385.34 62.8538 Q1388.74 67.5124 1394.66 67.5124 Q1400.57 67.5124 1403.98 62.8538 Q1407.38 58.1548 1407.38 49.9314 Q1407.38 41.7081 1403.98 37.0496 Q1400.57 32.3505 1394.66 32.3505 Q1388.74 32.3505 1385.34 37.0496 Q1381.98 41.7081 1381.98 49.9314 Z\" fill=\"#000000\" fill-rule=\"nonzero\" fill-opacity=\"1\" /><path clip-path=\"url(#clip330)\" d=\"M1429.42 54.671 L1429.42 27.2059 L1436.87 27.2059 L1436.87 54.3874 Q1436.87 60.8284 1439.38 64.0691 Q1441.89 67.2693 1446.91 67.2693 Q1452.95 67.2693 1456.43 63.421 Q1459.96 59.5726 1459.96 52.9291 L1459.96 27.2059 L1467.41 27.2059 L1467.41 72.576 L1459.96 72.576 L1459.96 65.6084 Q1457.24 69.7404 1453.64 71.7658 Q1450.07 73.7508 1445.34 73.7508 Q1437.52 73.7508 1433.47 68.8897 Q1429.42 64.0286 1429.42 54.671 M1448.17 26.1121 L1448.17 26.1121 Z\" fill=\"#000000\" fill-rule=\"nonzero\" fill-opacity=\"1\" /><path clip-path=\"url(#clip330)\" d=\"M1541.79 28.9478 L1541.79 35.9153 Q1538.63 34.1734 1535.43 33.3227 Q1532.27 32.4315 1529.03 32.4315 Q1521.78 32.4315 1517.77 37.0496 Q1513.75 41.6271 1513.75 49.9314 Q1513.75 58.2358 1517.77 62.8538 Q1521.78 67.4314 1529.03 67.4314 Q1532.27 67.4314 1535.43 66.5807 Q1538.63 65.6895 1541.79 63.9476 L1541.79 70.8341 Q1538.67 72.2924 1535.31 73.0216 Q1531.98 73.7508 1528.22 73.7508 Q1517.97 73.7508 1511.93 67.3098 Q1505.9 60.8689 1505.9 49.9314 Q1505.9 38.832 1511.97 32.472 Q1518.09 26.1121 1528.7 26.1121 Q1532.15 26.1121 1535.43 26.8413 Q1538.71 27.5299 1541.79 28.9478 Z\" fill=\"#000000\" fill-rule=\"nonzero\" fill-opacity=\"1\" /><path clip-path=\"url(#clip330)\" d=\"M1572.33 32.4315 Q1566.34 32.4315 1562.85 37.1306 Q1559.37 41.7891 1559.37 49.9314 Q1559.37 58.0738 1562.81 62.7728 Q1566.3 67.4314 1572.33 67.4314 Q1578.29 67.4314 1581.77 62.7323 Q1585.25 58.0333 1585.25 49.9314 Q1585.25 41.8701 1581.77 37.1711 Q1578.29 32.4315 1572.33 32.4315 M1572.33 26.1121 Q1582.05 26.1121 1587.6 32.4315 Q1593.15 38.7509 1593.15 49.9314 Q1593.15 61.0714 1587.6 67.4314 Q1582.05 73.7508 1572.33 73.7508 Q1562.57 73.7508 1557.02 67.4314 Q1551.51 61.0714 1551.51 49.9314 Q1551.51 38.7509 1557.02 32.4315 Q1562.57 26.1121 1572.33 26.1121 Z\" fill=\"#000000\" fill-rule=\"nonzero\" fill-opacity=\"1\" /><path clip-path=\"url(#clip330)\" d=\"M1604.74 54.671 L1604.74 27.2059 L1612.19 27.2059 L1612.19 54.3874 Q1612.19 60.8284 1614.7 64.0691 Q1617.21 67.2693 1622.24 67.2693 Q1628.27 67.2693 1631.76 63.421 Q1635.28 59.5726 1635.28 52.9291 L1635.28 27.2059 L1642.74 27.2059 L1642.74 72.576 L1635.28 72.576 L1635.28 65.6084 Q1632.57 69.7404 1628.96 71.7658 Q1625.4 73.7508 1620.66 73.7508 Q1612.84 73.7508 1608.79 68.8897 Q1604.74 64.0286 1604.74 54.671 M1623.49 26.1121 L1623.49 26.1121 M1620.42 6.22219 L1626.41 6.22219 L1636.34 21.4536 L1630.7 21.4536 L1623.41 11.5289 L1616.12 21.4536 L1610.49 21.4536 L1620.42 6.22219 Z\" fill=\"#000000\" fill-rule=\"nonzero\" fill-opacity=\"1\" /><path clip-path=\"url(#clip330)\" d=\"M1665.46 14.324 L1665.46 27.2059 L1680.81 27.2059 L1680.81 32.9987 L1665.46 32.9987 L1665.46 57.6282 Q1665.46 63.1779 1666.96 64.7578 Q1668.5 66.3376 1673.16 66.3376 L1680.81 66.3376 L1680.81 72.576 L1673.16 72.576 Q1664.53 72.576 1661.25 69.3758 Q1657.97 66.1351 1657.97 57.6282 L1657.97 32.9987 L1652.5 32.9987 L1652.5 27.2059 L1657.97 27.2059 L1657.97 14.324 L1665.46 14.324 Z\" fill=\"#000000\" fill-rule=\"nonzero\" fill-opacity=\"1\" /><polyline clip-path=\"url(#clip332)\" style=\"stroke:#009af9; stroke-linecap:round; stroke-linejoin:round; stroke-width:4; stroke-opacity:1; fill:none\" points=\"351.016,160.256 352.962,160.256 354.907,160.256 356.852,160.256 358.798,160.256 360.743,160.256 362.688,160.256 364.634,160.256 366.579,160.256 368.525,179.817 370.47,179.817 372.415,179.817 374.361,179.817 376.306,179.817 378.252,179.817 380.197,179.817 382.142,179.817 384.088,179.817 386.033,179.817 387.978,179.817 389.924,179.817 391.869,179.817 393.815,179.817 395.76,179.817 397.705,179.817 399.651,179.817 401.596,179.817 403.542,179.817 405.487,229.158 407.432,229.158 409.378,229.158 411.323,229.158 413.268,229.158 415.214,229.158 417.159,229.158 419.105,229.158 421.05,229.158 422.995,229.158 424.941,229.158 426.886,229.158 428.831,229.158 430.777,229.158 432.722,229.158 434.668,229.158 436.613,229.158 438.558,229.158 440.504,229.158 442.449,229.158 444.395,229.158 446.34,229.158 448.285,229.158 450.231,229.158 452.176,229.158 454.121,229.158 456.067,229.158 458.012,242.512 459.958,264.101 461.903,264.101 463.848,264.101 465.794,264.101 467.739,264.101 469.684,264.101 471.63,264.101 473.575,264.101 475.521,264.101 477.466,264.101 479.411,264.101 481.357,264.101 483.302,275.475 485.248,275.475 487.193,275.475 489.138,275.475 491.084,275.475 493.029,275.475 494.974,275.475 496.92,275.475 498.865,275.475 500.811,275.475 502.756,275.475 504.701,614.892 506.647,614.892 508.592,614.892 510.538,614.892 512.483,614.892 514.428,627.667 516.374,648.925 518.319,648.925 520.264,648.925 522.21,648.925 524.155,648.925 526.101,648.925 528.046,648.925 529.991,648.925 531.937,648.925 533.882,648.925 535.827,648.925 537.773,648.925 539.718,648.925 541.664,648.925 543.609,648.925 545.554,648.925 547.5,648.925 549.445,648.925 551.391,648.925 553.336,648.925 555.281,711.473 557.227,711.473 559.172,711.473 561.117,711.473 563.063,711.473 565.008,711.473 566.954,711.476 568.899,711.476 570.844,777.211 572.79,797.128 574.735,797.128 576.681,797.128 578.626,797.128 580.571,797.128 582.517,797.128 584.462,797.128 586.407,797.128 588.353,797.128 590.298,797.128 592.244,797.128 594.189,797.128 596.134,797.128 598.08,797.128 600.025,845.744 601.97,845.744 603.916,845.744 605.861,845.744 607.807,845.744 609.752,845.744 611.697,845.744 613.643,845.744 615.588,845.744 617.534,845.744 619.479,845.744 621.424,845.744 623.37,845.744 625.315,845.744 627.26,845.744 629.206,845.744 631.151,845.744 633.097,845.744 635.042,845.744 636.987,845.744 638.933,845.744 640.878,845.744 642.823,845.744 644.769,851.486 646.714,895.22 648.66,895.22 650.605,895.22 652.55,895.22 654.496,895.22 656.441,895.22 658.387,895.22 660.332,925.217 662.277,925.217 664.223,925.217 666.168,925.217 668.113,925.217 670.059,925.217 672.004,925.217 673.95,925.217 675.895,925.217 677.84,925.217 679.786,925.217 681.731,925.217 683.677,925.217 685.622,925.217 687.567,925.217 689.513,925.217 691.458,925.217 693.403,925.217 695.349,925.217 697.294,925.217 699.24,925.217 701.185,925.217 703.13,925.217 705.076,955.361 707.021,955.361 708.966,955.361 710.912,977.047 712.857,977.047 714.803,984.214 716.748,984.214 718.693,984.214 720.639,984.214 722.584,984.214 724.53,984.214 726.475,984.214 728.42,984.214 730.366,984.214 732.311,984.214 734.256,985.269 736.202,985.269 738.147,985.269 740.093,985.269 742.038,985.269 743.983,985.269 745.929,985.269 747.874,985.269 749.82,985.269 751.765,985.269 753.71,1016.36 755.656,1016.36 757.601,1016.36 759.546,1016.36 761.492,1016.36 763.437,1016.36 765.383,1016.36 767.328,1023.22 769.273,1033.61 771.219,1033.61 773.164,1033.61 775.109,1033.61 777.055,1033.61 779,1033.61 780.946,1040.51 782.891,1040.51 784.836,1040.51 786.782,1040.51 788.727,1040.51 790.673,1040.51 792.618,1040.51 794.563,1040.51 796.509,1040.51 798.454,1040.51 800.399,1040.51 802.345,1040.51 804.29,1040.51 806.236,1040.51 808.181,1040.51 810.126,1054.89 812.072,1054.89 814.017,1054.89 815.962,1054.89 817.908,1054.89 819.853,1054.89 821.799,1054.89 823.744,1054.89 825.689,1054.89 827.635,1054.89 829.58,1054.89 831.526,1054.89 833.471,1054.89 835.416,1054.89 837.362,1054.89 839.307,1054.89 841.252,1054.89 843.198,1054.89 845.143,1054.89 847.089,1054.89 849.034,1054.89 850.979,1054.89 852.925,1054.89 854.87,1054.89 856.816,1054.89 858.761,1054.89 860.706,1054.89 862.652,1054.89 864.597,1054.89 866.542,1054.89 868.488,1054.89 870.433,1054.89 872.379,1054.89 874.324,1054.89 876.269,1054.89 878.215,1054.89 880.16,1054.89 882.105,1054.89 884.051,1054.89 885.996,1054.89 887.942,1054.89 889.887,1054.89 891.832,1054.89 893.778,1054.89 895.723,1054.89 897.669,1054.89 899.614,1054.89 901.559,1054.89 903.505,1054.89 905.45,1061.94 907.395,1061.94 909.341,1061.94 911.286,1061.94 913.232,1061.94 915.177,1061.94 917.122,1061.94 919.068,1061.94 921.013,1061.94 922.959,1061.94 924.904,1061.94 926.849,1061.94 928.795,1061.94 930.74,1061.94 932.685,1061.94 934.631,1061.94 936.576,1061.94 938.522,1061.94 940.467,1061.94 942.412,1061.94 944.358,1061.94 946.303,1061.94 948.248,1063.8 950.194,1063.8 952.139,1063.8 954.085,1063.8 956.03,1063.8 957.975,1063.8 959.921,1063.8 961.866,1063.8 963.812,1063.8 965.757,1063.8 967.702,1065.72 969.648,1065.72 971.593,1070.78 973.538,1070.78 975.484,1070.78 977.429,1070.78 979.375,1070.78 981.32,1070.78 983.265,1070.78 985.211,1070.78 987.156,1070.78 989.101,1070.78 991.047,1070.78 992.992,1070.78 994.938,1070.78 996.883,1070.78 998.828,1070.78 1000.77,1070.78 1002.72,1070.78 1004.66,1070.78 1006.61,1070.78 1008.56,1070.78 1010.5,1070.78 1012.45,1070.78 1014.39,1070.78 1016.34,1070.78 1018.28,1070.78 1020.23,1070.78 1022.17,1070.78 1024.12,1081.65 1026.06,1081.65 1028.01,1081.65 1029.95,1081.65 1031.9,1081.65 1033.85,1081.65 1035.79,1081.65 1037.74,1081.65 1039.68,1081.65 1041.63,1081.65 1043.57,1081.65 1045.52,1081.65 1047.46,1101.98 1049.41,1101.98 1051.35,1101.98 1053.3,1101.98 1055.24,1101.98 1057.19,1101.98 1059.14,1101.98 1061.08,1101.98 1063.03,1101.98 1064.97,1101.98 1066.92,1101.98 1068.86,1101.98 1070.81,1101.98 1072.75,1101.98 1074.7,1101.98 1076.64,1101.98 1078.59,1101.98 1080.53,1101.98 1082.48,1101.98 1084.43,1142.46 1086.37,1142.46 1088.32,1142.46 1090.26,1142.46 1092.21,1142.46 1094.15,1142.46 1096.1,1142.46 1098.04,1142.46 1099.99,1142.46 1101.93,1142.46 1103.88,1142.46 1105.82,1142.46 1107.77,1142.46 1109.72,1142.46 1111.66,1142.46 1113.61,1160.59 1115.55,1160.59 1117.5,1160.59 1119.44,1160.59 1121.39,1160.59 1123.33,1160.59 1125.28,1160.59 1127.22,1160.59 1129.17,1160.59 1131.11,1160.59 1133.06,1160.59 1135.01,1160.59 1136.95,1160.59 1138.9,1160.59 1140.84,1160.59 1142.79,1160.59 1144.73,1168.79 1146.68,1168.79 1148.62,1168.79 1150.57,1168.79 1152.51,1168.79 1154.46,1168.79 1156.4,1168.79 1158.35,1168.79 1160.3,1168.79 1162.24,1168.79 1164.19,1168.79 1166.13,1168.79 1168.08,1168.79 1170.02,1168.79 1171.97,1168.79 1173.91,1168.79 1175.86,1168.79 1177.8,1168.79 1179.75,1168.79 1181.69,1168.79 1183.64,1168.79 1185.59,1168.79 1187.53,1168.79 1189.48,1168.79 1191.42,1168.79 1193.37,1168.79 1195.31,1168.79 1197.26,1168.79 1199.2,1178.91 1201.15,1178.91 1203.09,1178.91 1205.04,1178.91 1206.98,1178.91 1208.93,1178.91 1210.88,1178.91 1212.82,1178.91 1214.77,1178.91 1216.71,1178.91 1218.66,1178.91 1220.6,1178.91 1222.55,1178.91 1224.49,1178.91 1226.44,1178.91 1228.38,1178.91 1230.33,1178.91 1232.27,1178.91 1234.22,1178.91 1236.17,1178.91 1238.11,1178.91 1240.06,1178.91 1242,1178.91 1243.95,1178.91 1245.89,1178.91 1247.84,1178.91 1249.78,1178.91 1251.73,1178.91 1253.67,1178.91 1255.62,1178.91 1257.56,1178.91 1259.51,1216.53 1261.45,1216.53 1263.4,1216.53 1265.35,1216.53 1267.29,1216.53 1269.24,1216.53 1271.18,1216.53 1273.13,1216.53 1275.07,1227.72 1277.02,1227.72 1278.96,1227.72 1280.91,1227.72 1282.85,1227.72 1284.8,1227.72 1286.74,1227.72 1288.69,1227.72 1290.64,1227.72 1292.58,1227.72 1294.53,1227.72 1296.47,1227.72 1298.42,1227.72 1300.36,1227.72 1302.31,1227.72 1304.25,1251.89 1306.2,1251.89 1308.14,1251.89 1310.09,1251.89 1312.03,1251.89 1313.98,1251.89 1315.93,1251.89 1317.87,1251.89 1319.82,1251.89 1321.76,1251.89 1323.71,1251.89 1325.65,1251.89 1327.6,1251.89 1329.54,1251.89 1331.49,1251.89 1333.43,1262.23 1335.38,1262.23 1337.32,1262.23 1339.27,1262.23 1341.22,1262.23 1343.16,1262.23 1345.11,1262.23 1347.05,1262.23 1349,1262.23 1350.94,1262.23 1352.89,1264.19 1354.83,1264.19 1356.78,1264.19 1358.72,1264.19 1360.67,1264.19 1362.61,1264.19 1364.56,1264.19 1366.51,1264.19 1368.45,1264.19 1370.4,1264.26 1372.34,1264.26 1374.29,1264.26 1376.23,1264.26 1378.18,1264.26 1380.12,1264.26 1382.07,1264.26 1384.01,1264.26 1385.96,1264.26 1387.9,1264.26 1389.85,1264.26 1391.8,1264.26 1393.74,1264.26 1395.69,1271.22 1397.63,1271.22 1399.58,1271.22 1401.52,1271.22 1403.47,1271.22 1405.41,1271.22 1407.36,1271.22 1409.3,1271.22 1411.25,1271.22 1413.19,1271.22 1415.14,1271.22 1417.09,1271.22 1419.03,1271.22 1420.98,1271.22 1422.92,1271.22 1424.87,1271.22 1426.81,1300.98 1428.76,1307.79 1430.7,1307.79 1432.65,1307.79 1434.59,1307.79 1436.54,1307.79 1438.48,1307.79 1440.43,1307.79 1442.38,1307.79 1444.32,1307.79 1446.27,1307.79 1448.21,1307.79 1450.16,1307.79 1452.1,1307.79 1454.05,1307.79 1455.99,1307.79 1457.94,1307.79 1459.88,1307.79 1461.83,1307.79 1463.77,1307.79 1465.72,1307.79 1467.67,1307.79 1469.61,1307.79 1471.56,1307.79 1473.5,1307.79 1475.45,1307.79 1477.39,1307.79 1479.34,1307.79 1481.28,1307.79 1483.23,1307.79 1485.17,1307.79 1487.12,1307.79 1489.06,1307.79 1491.01,1307.79 1492.96,1307.79 1494.9,1307.79 1496.85,1316.93 1498.79,1316.93 1500.74,1316.93 1502.68,1316.93 1504.63,1316.93 1506.57,1316.93 1508.52,1316.93 1510.46,1316.93 1512.41,1316.93 1514.35,1316.93 1516.3,1316.93 1518.25,1316.93 1520.19,1316.93 1522.14,1316.93 1524.08,1316.93 1526.03,1316.93 1527.97,1316.93 1529.92,1316.93 1531.86,1316.93 1533.81,1316.93 1535.75,1316.93 1537.7,1316.93 1539.64,1316.93 1541.59,1316.93 1543.54,1316.93 1545.48,1316.93 1547.43,1316.93 1549.37,1316.93 1551.32,1316.93 1553.26,1316.93 1555.21,1316.93 1557.15,1316.93 1559.1,1316.93 1561.04,1316.93 1562.99,1316.93 1564.93,1316.93 1566.88,1316.93 1568.83,1316.93 1570.77,1316.93 1572.72,1316.93 1574.66,1316.93 1576.61,1316.93 1578.55,1316.93 1580.5,1316.93 1582.44,1316.93 1584.39,1316.93 1586.33,1316.93 1588.28,1316.93 1590.22,1316.93 1592.17,1316.93 1594.12,1316.93 1596.06,1316.93 1598.01,1316.93 1599.95,1316.93 1601.9,1316.93 1603.84,1316.93 1605.79,1316.93 1607.73,1316.93 1609.68,1316.93 1611.62,1316.93 1613.57,1316.93 1615.51,1316.93 1617.46,1316.93 1619.41,1316.93 1621.35,1316.93 1623.3,1316.93 1625.24,1316.93 1627.19,1316.93 1629.13,1316.93 1631.08,1316.93 1633.02,1316.93 1634.97,1316.93 1636.91,1316.93 1638.86,1340.88 1640.8,1340.88 1642.75,1340.88 1644.7,1340.88 1646.64,1342.55 1648.59,1342.55 1650.53,1342.55 1652.48,1342.55 1654.42,1342.55 1656.37,1342.55 1658.31,1345.2 1660.26,1345.2 1662.2,1345.2 1664.15,1345.2 1666.09,1345.2 1668.04,1345.2 1669.99,1352.63 1671.93,1352.63 1673.88,1352.63 1675.82,1352.63 1677.77,1352.63 1679.71,1352.63 1681.66,1352.63 1683.6,1352.63 1685.55,1352.63 1687.49,1352.63 1689.44,1352.63 1691.38,1352.63 1693.33,1352.63 1695.28,1352.63 1697.22,1352.63 1699.17,1352.63 1701.11,1352.63 1703.06,1352.63 1705,1352.63 1706.95,1352.63 1708.89,1352.63 1710.84,1352.63 1712.78,1368.98 1714.73,1368.98 1716.67,1368.98 1718.62,1368.98 1720.57,1368.98 1722.51,1368.98 1724.46,1368.98 1726.4,1368.98 1728.35,1368.98 1730.29,1368.98 1732.24,1368.98 1734.18,1368.98 1736.13,1368.98 1738.07,1368.98 1740.02,1371.45 1741.96,1371.45 1743.91,1371.45 1745.86,1371.45 1747.8,1371.45 1749.75,1371.45 1751.69,1371.45 1753.64,1371.45 1755.58,1371.45 1757.53,1371.45 1759.47,1371.45 1761.42,1371.45 1763.36,1371.45 1765.31,1371.45 1767.25,1371.45 1769.2,1371.45 1771.15,1371.45 1773.09,1371.45 1775.04,1371.45 1776.98,1371.45 1778.93,1371.45 1780.87,1371.45 1782.82,1371.45 1784.76,1371.45 1786.71,1371.45 1788.65,1371.45 1790.6,1371.45 1792.54,1371.45 1794.49,1371.45 1796.44,1371.45 1798.38,1371.45 1800.33,1371.45 1802.27,1371.45 1804.22,1371.45 1806.16,1371.45 1808.11,1378.72 1810.05,1378.72 1812,1378.72 1813.94,1378.72 1815.89,1378.72 1817.83,1378.72 1819.78,1378.72 1821.72,1378.72 1823.67,1378.72 1825.62,1378.72 1827.56,1378.72 1829.51,1378.72 1831.45,1378.72 1833.4,1378.72 1835.34,1378.72 1837.29,1378.72 1839.23,1378.72 1841.18,1378.72 1843.12,1378.72 1845.07,1378.72 1847.01,1378.72 1848.96,1378.72 1850.91,1378.72 1852.85,1385.19 1854.8,1385.19 1856.74,1385.19 1858.69,1385.19 1860.63,1385.19 1862.58,1385.19 1864.52,1385.19 1866.47,1385.19 1868.41,1385.19 1870.36,1385.19 1872.3,1385.19 1874.25,1385.19 1876.2,1385.19 1878.14,1385.19 1880.09,1385.19 1882.03,1385.19 1883.98,1385.19 1885.92,1385.19 1887.87,1385.78 1889.81,1385.78 1891.76,1385.78 1893.7,1385.78 1895.65,1385.78 1897.59,1385.78 1899.54,1385.78 1901.49,1385.78 1903.43,1385.78 1905.38,1385.78 1907.32,1385.78 1909.27,1385.78 1911.21,1385.78 1913.16,1385.78 1915.1,1385.78 1917.05,1385.78 1918.99,1385.78 1920.94,1385.78 1922.88,1385.78 1924.83,1385.78 1926.78,1385.78 1928.72,1385.78 1930.67,1385.78 1932.61,1385.78 1934.56,1385.78 1936.5,1385.78 1938.45,1385.78 1940.39,1385.78 1942.34,1385.78 1944.28,1385.78 1946.23,1385.78 1948.17,1385.78 1950.12,1385.78 1952.07,1385.78 1954.01,1385.78 1955.96,1385.78 1957.9,1385.78 1959.85,1385.78 1961.79,1385.78 1963.74,1385.78 1965.68,1385.78 1967.63,1385.78 1969.57,1385.78 1971.52,1385.78 1973.46,1385.78 1975.41,1385.78 1977.36,1385.78 1979.3,1385.78 1981.25,1385.78 1983.19,1385.78 1985.14,1385.78 1987.08,1385.78 1989.03,1385.78 1990.97,1385.78 1992.92,1385.78 1994.86,1385.78 1996.81,1385.78 1998.75,1385.78 2000.7,1385.78 2002.65,1385.78 2004.59,1385.78 2006.54,1385.78 2008.48,1385.78 2010.43,1385.78 2012.37,1385.78 2014.32,1385.78 2016.26,1385.78 2018.21,1385.78 2020.15,1385.78 2022.1,1385.78 2024.04,1385.78 2025.99,1385.78 2027.94,1385.78 2029.88,1385.78 2031.83,1385.78 2033.77,1385.78 2035.72,1385.78 2037.66,1385.78 2039.61,1385.78 2041.55,1385.78 2043.5,1385.78 2045.44,1385.78 2047.39,1385.78 2049.33,1385.78 2051.28,1385.78 2053.23,1385.78 2055.17,1385.78 2057.12,1385.78 2059.06,1385.78 2061.01,1385.78 2062.95,1385.78 2064.9,1385.78 2066.84,1385.78 2068.79,1385.78 2070.73,1385.78 2072.68,1385.78 2074.62,1385.78 2076.57,1385.78 2078.52,1385.78 2080.46,1385.78 2082.41,1385.78 2084.35,1385.78 2086.3,1385.78 2088.24,1385.78 2090.19,1385.78 2092.13,1385.78 2094.08,1385.78 2096.02,1385.78 2097.97,1385.78 2099.91,1385.78 2101.86,1385.78 2103.81,1385.78 2105.75,1385.78 2107.7,1385.78 2109.64,1385.78 2111.59,1385.78 2113.53,1385.78 2115.48,1385.78 2117.42,1385.78 2119.37,1385.78 2121.31,1385.78 2123.26,1385.78 2125.2,1385.78 2127.15,1385.78 2129.1,1385.78 2131.04,1385.78 2132.99,1385.78 2134.93,1385.78 2136.88,1385.78 2138.82,1385.78 2140.77,1385.78 2142.71,1385.78 2144.66,1385.78 2146.6,1386.4 2148.55,1386.4 2150.49,1386.4 2152.44,1386.4 2154.39,1386.4 2156.33,1386.4 2158.28,1386.4 2160.22,1386.4 2162.17,1386.4 2164.11,1386.4 2166.06,1386.4 2168,1386.4 2169.95,1386.4 2171.89,1386.4 2173.84,1386.4 2175.78,1386.4 2177.73,1386.4 2179.68,1386.4 2181.62,1386.4 2183.57,1386.4 2185.51,1386.4 2187.46,1386.4 2189.4,1386.4 2191.35,1386.4 2193.29,1386.4 2195.24,1386.4 2197.18,1386.4 2199.13,1386.4 2201.07,1386.4 2203.02,1386.4 2204.97,1386.4 2206.91,1386.4 2208.86,1386.4 2210.8,1386.4 2212.75,1386.4 2214.69,1386.4 2216.64,1386.4 2218.58,1386.4 2220.53,1386.4 2222.47,1386.4 2224.42,1386.4 2226.36,1386.4 2228.31,1386.4 2230.26,1386.4 2232.2,1386.4 2234.15,1386.4 2236.09,1386.4 2238.04,1386.4 2239.98,1386.4 2241.93,1386.4 2243.87,1386.4 2245.82,1386.4 2247.76,1386.4 2249.71,1386.4 2251.65,1386.4 2253.6,1386.4 2255.55,1386.4 2257.49,1386.4 2259.44,1386.4 2261.38,1386.4 2263.33,1386.4 2265.27,1386.4 2267.22,1386.4 2269.16,1386.4 2271.11,1386.4 2273.05,1386.4 2275,1386.4 2276.94,1386.4 2278.89,1386.4 2280.84,1386.4 2282.78,1386.4 2284.73,1386.4 2286.67,1386.4 2288.62,1386.4 2290.56,1386.4 2292.51,1386.4 2294.45,1386.4 \"/>\n",
       "<path clip-path=\"url(#clip330)\" d=\"M2025.65 270.476 L2284.09 270.476 L2284.09 166.796 L2025.65 166.796  Z\" fill=\"#ffffff\" fill-rule=\"evenodd\" fill-opacity=\"1\"/>\n",
       "<polyline clip-path=\"url(#clip330)\" style=\"stroke:#000000; stroke-linecap:round; stroke-linejoin:round; stroke-width:4; stroke-opacity:1; fill:none\" points=\"2025.65,270.476 2284.09,270.476 2284.09,166.796 2025.65,166.796 2025.65,270.476 \"/>\n",
       "<polyline clip-path=\"url(#clip330)\" style=\"stroke:#009af9; stroke-linecap:round; stroke-linejoin:round; stroke-width:4; stroke-opacity:1; fill:none\" points=\"2048.54,218.636 2185.88,218.636 \"/>\n",
       "<path clip-path=\"url(#clip330)\" d=\"M2222.61 238.323 Q2220.81 242.953 2219.09 244.365 Q2217.38 245.777 2214.51 245.777 L2211.11 245.777 L2211.11 242.212 L2213.61 242.212 Q2215.37 242.212 2216.34 241.379 Q2217.31 240.545 2218.49 237.443 L2219.25 235.499 L2208.77 209.99 L2213.28 209.99 L2221.38 230.268 L2229.49 209.99 L2234 209.99 L2222.61 238.323 Z\" fill=\"#000000\" fill-rule=\"nonzero\" fill-opacity=\"1\" /><path clip-path=\"url(#clip330)\" d=\"M2241.29 231.981 L2248.93 231.981 L2248.93 205.615 L2240.62 207.282 L2240.62 203.022 L2248.88 201.356 L2253.56 201.356 L2253.56 231.981 L2261.2 231.981 L2261.2 235.916 L2241.29 235.916 L2241.29 231.981 Z\" fill=\"#000000\" fill-rule=\"nonzero\" fill-opacity=\"1\" /></svg>\n"
      ],
      "text/html": [
       "<?xml version=\"1.0\" encoding=\"utf-8\"?>\n",
       "<svg xmlns=\"http://www.w3.org/2000/svg\" xmlns:xlink=\"http://www.w3.org/1999/xlink\" width=\"600\" height=\"400\" viewBox=\"0 0 2400 1600\">\n",
       "<defs>\n",
       "  <clipPath id=\"clip380\">\n",
       "    <rect x=\"0\" y=\"0\" width=\"2400\" height=\"1600\"/>\n",
       "  </clipPath>\n",
       "</defs>\n",
       "<path clip-path=\"url(#clip380)\" d=\"M0 1600 L2400 1600 L2400 0 L0 0  Z\" fill=\"#ffffff\" fill-rule=\"evenodd\" fill-opacity=\"1\"/>\n",
       "<defs>\n",
       "  <clipPath id=\"clip381\">\n",
       "    <rect x=\"480\" y=\"0\" width=\"1681\" height=\"1600\"/>\n",
       "  </clipPath>\n",
       "</defs>\n",
       "<path clip-path=\"url(#clip380)\" d=\"M292.713 1423.18 L2352.76 1423.18 L2352.76 123.472 L292.713 123.472  Z\" fill=\"#ffffff\" fill-rule=\"evenodd\" fill-opacity=\"1\"/>\n",
       "<defs>\n",
       "  <clipPath id=\"clip382\">\n",
       "    <rect x=\"292\" y=\"123\" width=\"2061\" height=\"1301\"/>\n",
       "  </clipPath>\n",
       "</defs>\n",
       "<polyline clip-path=\"url(#clip382)\" style=\"stroke:#000000; stroke-linecap:round; stroke-linejoin:round; stroke-width:2; stroke-opacity:0.1; fill:none\" points=\"349.071,1423.18 349.071,123.472 \"/>\n",
       "<polyline clip-path=\"url(#clip382)\" style=\"stroke:#000000; stroke-linecap:round; stroke-linejoin:round; stroke-width:2; stroke-opacity:0.1; fill:none\" points=\"835.416,1423.18 835.416,123.472 \"/>\n",
       "<polyline clip-path=\"url(#clip382)\" style=\"stroke:#000000; stroke-linecap:round; stroke-linejoin:round; stroke-width:2; stroke-opacity:0.1; fill:none\" points=\"1321.76,1423.18 1321.76,123.472 \"/>\n",
       "<polyline clip-path=\"url(#clip382)\" style=\"stroke:#000000; stroke-linecap:round; stroke-linejoin:round; stroke-width:2; stroke-opacity:0.1; fill:none\" points=\"1808.11,1423.18 1808.11,123.472 \"/>\n",
       "<polyline clip-path=\"url(#clip382)\" style=\"stroke:#000000; stroke-linecap:round; stroke-linejoin:round; stroke-width:2; stroke-opacity:0.1; fill:none\" points=\"2294.45,1423.18 2294.45,123.472 \"/>\n",
       "<polyline clip-path=\"url(#clip380)\" style=\"stroke:#000000; stroke-linecap:round; stroke-linejoin:round; stroke-width:4; stroke-opacity:1; fill:none\" points=\"292.713,1423.18 2352.76,1423.18 \"/>\n",
       "<polyline clip-path=\"url(#clip380)\" style=\"stroke:#000000; stroke-linecap:round; stroke-linejoin:round; stroke-width:4; stroke-opacity:1; fill:none\" points=\"349.071,1423.18 349.071,1404.28 \"/>\n",
       "<polyline clip-path=\"url(#clip380)\" style=\"stroke:#000000; stroke-linecap:round; stroke-linejoin:round; stroke-width:4; stroke-opacity:1; fill:none\" points=\"835.416,1423.18 835.416,1404.28 \"/>\n",
       "<polyline clip-path=\"url(#clip380)\" style=\"stroke:#000000; stroke-linecap:round; stroke-linejoin:round; stroke-width:4; stroke-opacity:1; fill:none\" points=\"1321.76,1423.18 1321.76,1404.28 \"/>\n",
       "<polyline clip-path=\"url(#clip380)\" style=\"stroke:#000000; stroke-linecap:round; stroke-linejoin:round; stroke-width:4; stroke-opacity:1; fill:none\" points=\"1808.11,1423.18 1808.11,1404.28 \"/>\n",
       "<polyline clip-path=\"url(#clip380)\" style=\"stroke:#000000; stroke-linecap:round; stroke-linejoin:round; stroke-width:4; stroke-opacity:1; fill:none\" points=\"2294.45,1423.18 2294.45,1404.28 \"/>\n",
       "<path clip-path=\"url(#clip380)\" d=\"M349.071 1454.1 Q345.46 1454.1 343.631 1457.66 Q341.825 1461.2 341.825 1468.33 Q341.825 1475.44 343.631 1479.01 Q345.46 1482.55 349.071 1482.55 Q352.705 1482.55 354.511 1479.01 Q356.339 1475.44 356.339 1468.33 Q356.339 1461.2 354.511 1457.66 Q352.705 1454.1 349.071 1454.1 M349.071 1450.39 Q354.881 1450.39 357.937 1455 Q361.015 1459.58 361.015 1468.33 Q361.015 1477.06 357.937 1481.67 Q354.881 1486.25 349.071 1486.25 Q343.261 1486.25 340.182 1481.67 Q337.126 1477.06 337.126 1468.33 Q337.126 1459.58 340.182 1455 Q343.261 1450.39 349.071 1450.39 Z\" fill=\"#000000\" fill-rule=\"nonzero\" fill-opacity=\"1\" /><path clip-path=\"url(#clip380)\" d=\"M799.109 1481.64 L815.428 1481.64 L815.428 1485.58 L793.484 1485.58 L793.484 1481.64 Q796.146 1478.89 800.729 1474.26 Q805.335 1469.61 806.516 1468.27 Q808.761 1465.74 809.641 1464.01 Q810.544 1462.25 810.544 1460.56 Q810.544 1457.8 808.599 1456.07 Q806.678 1454.33 803.576 1454.33 Q801.377 1454.33 798.923 1455.09 Q796.493 1455.86 793.715 1457.41 L793.715 1452.69 Q796.539 1451.55 798.993 1450.97 Q801.447 1450.39 803.484 1450.39 Q808.854 1450.39 812.048 1453.08 Q815.243 1455.77 815.243 1460.26 Q815.243 1462.39 814.433 1464.31 Q813.646 1466.2 811.539 1468.8 Q810.96 1469.47 807.859 1472.69 Q804.757 1475.88 799.109 1481.64 Z\" fill=\"#000000\" fill-rule=\"nonzero\" fill-opacity=\"1\" /><path clip-path=\"url(#clip380)\" d=\"M825.289 1451.02 L843.645 1451.02 L843.645 1454.96 L829.571 1454.96 L829.571 1463.43 Q830.59 1463.08 831.608 1462.92 Q832.627 1462.73 833.645 1462.73 Q839.432 1462.73 842.812 1465.9 Q846.192 1469.08 846.192 1474.49 Q846.192 1480.07 842.72 1483.17 Q839.247 1486.25 832.928 1486.25 Q830.752 1486.25 828.483 1485.88 Q826.238 1485.51 823.831 1484.77 L823.831 1480.07 Q825.914 1481.2 828.136 1481.76 Q830.358 1482.32 832.835 1482.32 Q836.84 1482.32 839.178 1480.21 Q841.516 1478.1 841.516 1474.49 Q841.516 1470.88 839.178 1468.77 Q836.84 1466.67 832.835 1466.67 Q830.96 1466.67 829.085 1467.08 Q827.233 1467.5 825.289 1468.38 L825.289 1451.02 Z\" fill=\"#000000\" fill-rule=\"nonzero\" fill-opacity=\"1\" /><path clip-path=\"url(#clip380)\" d=\"M865.405 1454.1 Q861.793 1454.1 859.965 1457.66 Q858.159 1461.2 858.159 1468.33 Q858.159 1475.44 859.965 1479.01 Q861.793 1482.55 865.405 1482.55 Q869.039 1482.55 870.844 1479.01 Q872.673 1475.44 872.673 1468.33 Q872.673 1461.2 870.844 1457.66 Q869.039 1454.1 865.405 1454.1 M865.405 1450.39 Q871.215 1450.39 874.27 1455 Q877.349 1459.58 877.349 1468.33 Q877.349 1477.06 874.27 1481.67 Q871.215 1486.25 865.405 1486.25 Q859.594 1486.25 856.516 1481.67 Q853.46 1477.06 853.46 1468.33 Q853.46 1459.58 856.516 1455 Q859.594 1450.39 865.405 1450.39 Z\" fill=\"#000000\" fill-rule=\"nonzero\" fill-opacity=\"1\" /><path clip-path=\"url(#clip380)\" d=\"M1281.38 1451.02 L1299.74 1451.02 L1299.74 1454.96 L1285.66 1454.96 L1285.66 1463.43 Q1286.68 1463.08 1287.7 1462.92 Q1288.72 1462.73 1289.74 1462.73 Q1295.52 1462.73 1298.9 1465.9 Q1302.28 1469.08 1302.28 1474.49 Q1302.28 1480.07 1298.81 1483.17 Q1295.34 1486.25 1289.02 1486.25 Q1286.84 1486.25 1284.57 1485.88 Q1282.33 1485.51 1279.92 1484.77 L1279.92 1480.07 Q1282.01 1481.2 1284.23 1481.76 Q1286.45 1482.32 1288.93 1482.32 Q1292.93 1482.32 1295.27 1480.21 Q1297.61 1478.1 1297.61 1474.49 Q1297.61 1470.88 1295.27 1468.77 Q1292.93 1466.67 1288.93 1466.67 Q1287.05 1466.67 1285.18 1467.08 Q1283.32 1467.5 1281.38 1468.38 L1281.38 1451.02 Z\" fill=\"#000000\" fill-rule=\"nonzero\" fill-opacity=\"1\" /><path clip-path=\"url(#clip380)\" d=\"M1321.5 1454.1 Q1317.88 1454.1 1316.06 1457.66 Q1314.25 1461.2 1314.25 1468.33 Q1314.25 1475.44 1316.06 1479.01 Q1317.88 1482.55 1321.5 1482.55 Q1325.13 1482.55 1326.94 1479.01 Q1328.76 1475.44 1328.76 1468.33 Q1328.76 1461.2 1326.94 1457.66 Q1325.13 1454.1 1321.5 1454.1 M1321.5 1450.39 Q1327.31 1450.39 1330.36 1455 Q1333.44 1459.58 1333.44 1468.33 Q1333.44 1477.06 1330.36 1481.67 Q1327.31 1486.25 1321.5 1486.25 Q1315.69 1486.25 1312.61 1481.67 Q1309.55 1477.06 1309.55 1468.33 Q1309.55 1459.58 1312.61 1455 Q1315.69 1450.39 1321.5 1450.39 Z\" fill=\"#000000\" fill-rule=\"nonzero\" fill-opacity=\"1\" /><path clip-path=\"url(#clip380)\" d=\"M1351.66 1454.1 Q1348.05 1454.1 1346.22 1457.66 Q1344.41 1461.2 1344.41 1468.33 Q1344.41 1475.44 1346.22 1479.01 Q1348.05 1482.55 1351.66 1482.55 Q1355.29 1482.55 1357.1 1479.01 Q1358.93 1475.44 1358.93 1468.33 Q1358.93 1461.2 1357.1 1457.66 Q1355.29 1454.1 1351.66 1454.1 M1351.66 1450.39 Q1357.47 1450.39 1360.52 1455 Q1363.6 1459.58 1363.6 1468.33 Q1363.6 1477.06 1360.52 1481.67 Q1357.47 1486.25 1351.66 1486.25 Q1345.85 1486.25 1342.77 1481.67 Q1339.71 1477.06 1339.71 1468.33 Q1339.71 1459.58 1342.77 1455 Q1345.85 1450.39 1351.66 1450.39 Z\" fill=\"#000000\" fill-rule=\"nonzero\" fill-opacity=\"1\" /><path clip-path=\"url(#clip380)\" d=\"M1766.38 1451.02 L1788.61 1451.02 L1788.61 1453.01 L1776.06 1485.58 L1771.17 1485.58 L1782.98 1454.96 L1766.38 1454.96 L1766.38 1451.02 Z\" fill=\"#000000\" fill-rule=\"nonzero\" fill-opacity=\"1\" /><path clip-path=\"url(#clip380)\" d=\"M1797.77 1451.02 L1816.13 1451.02 L1816.13 1454.96 L1802.05 1454.96 L1802.05 1463.43 Q1803.07 1463.08 1804.09 1462.92 Q1805.11 1462.73 1806.13 1462.73 Q1811.92 1462.73 1815.29 1465.9 Q1818.67 1469.08 1818.67 1474.49 Q1818.67 1480.07 1815.2 1483.17 Q1811.73 1486.25 1805.41 1486.25 Q1803.23 1486.25 1800.97 1485.88 Q1798.72 1485.51 1796.31 1484.77 L1796.31 1480.07 Q1798.4 1481.2 1800.62 1481.76 Q1802.84 1482.32 1805.32 1482.32 Q1809.32 1482.32 1811.66 1480.21 Q1814 1478.1 1814 1474.49 Q1814 1470.88 1811.66 1468.77 Q1809.32 1466.67 1805.32 1466.67 Q1803.44 1466.67 1801.57 1467.08 Q1799.72 1467.5 1797.77 1468.38 L1797.77 1451.02 Z\" fill=\"#000000\" fill-rule=\"nonzero\" fill-opacity=\"1\" /><path clip-path=\"url(#clip380)\" d=\"M1837.89 1454.1 Q1834.28 1454.1 1832.45 1457.66 Q1830.64 1461.2 1830.64 1468.33 Q1830.64 1475.44 1832.45 1479.01 Q1834.28 1482.55 1837.89 1482.55 Q1841.52 1482.55 1843.33 1479.01 Q1845.16 1475.44 1845.16 1468.33 Q1845.16 1461.2 1843.33 1457.66 Q1841.52 1454.1 1837.89 1454.1 M1837.89 1450.39 Q1843.7 1450.39 1846.75 1455 Q1849.83 1459.58 1849.83 1468.33 Q1849.83 1477.06 1846.75 1481.67 Q1843.7 1486.25 1837.89 1486.25 Q1832.08 1486.25 1829 1481.67 Q1825.94 1477.06 1825.94 1468.33 Q1825.94 1459.58 1829 1455 Q1832.08 1450.39 1837.89 1450.39 Z\" fill=\"#000000\" fill-rule=\"nonzero\" fill-opacity=\"1\" /><path clip-path=\"url(#clip380)\" d=\"M2238.98 1481.64 L2246.62 1481.64 L2246.62 1455.28 L2238.31 1456.95 L2238.31 1452.69 L2246.57 1451.02 L2251.25 1451.02 L2251.25 1481.64 L2258.89 1481.64 L2258.89 1485.58 L2238.98 1485.58 L2238.98 1481.64 Z\" fill=\"#000000\" fill-rule=\"nonzero\" fill-opacity=\"1\" /><path clip-path=\"url(#clip380)\" d=\"M2278.33 1454.1 Q2274.72 1454.1 2272.89 1457.66 Q2271.08 1461.2 2271.08 1468.33 Q2271.08 1475.44 2272.89 1479.01 Q2274.72 1482.55 2278.33 1482.55 Q2281.96 1482.55 2283.77 1479.01 Q2285.6 1475.44 2285.6 1468.33 Q2285.6 1461.2 2283.77 1457.66 Q2281.96 1454.1 2278.33 1454.1 M2278.33 1450.39 Q2284.14 1450.39 2287.2 1455 Q2290.27 1459.58 2290.27 1468.33 Q2290.27 1477.06 2287.2 1481.67 Q2284.14 1486.25 2278.33 1486.25 Q2272.52 1486.25 2269.44 1481.67 Q2266.39 1477.06 2266.39 1468.33 Q2266.39 1459.58 2269.44 1455 Q2272.52 1450.39 2278.33 1450.39 Z\" fill=\"#000000\" fill-rule=\"nonzero\" fill-opacity=\"1\" /><path clip-path=\"url(#clip380)\" d=\"M2308.49 1454.1 Q2304.88 1454.1 2303.05 1457.66 Q2301.25 1461.2 2301.25 1468.33 Q2301.25 1475.44 2303.05 1479.01 Q2304.88 1482.55 2308.49 1482.55 Q2312.13 1482.55 2313.93 1479.01 Q2315.76 1475.44 2315.76 1468.33 Q2315.76 1461.2 2313.93 1457.66 Q2312.13 1454.1 2308.49 1454.1 M2308.49 1450.39 Q2314.3 1450.39 2317.36 1455 Q2320.44 1459.58 2320.44 1468.33 Q2320.44 1477.06 2317.36 1481.67 Q2314.3 1486.25 2308.49 1486.25 Q2302.68 1486.25 2299.6 1481.67 Q2296.55 1477.06 2296.55 1468.33 Q2296.55 1459.58 2299.6 1455 Q2302.68 1450.39 2308.49 1450.39 Z\" fill=\"#000000\" fill-rule=\"nonzero\" fill-opacity=\"1\" /><path clip-path=\"url(#clip380)\" d=\"M2338.65 1454.1 Q2335.04 1454.1 2333.21 1457.66 Q2331.41 1461.2 2331.41 1468.33 Q2331.41 1475.44 2333.21 1479.01 Q2335.04 1482.55 2338.65 1482.55 Q2342.29 1482.55 2344.09 1479.01 Q2345.92 1475.44 2345.92 1468.33 Q2345.92 1461.2 2344.09 1457.66 Q2342.29 1454.1 2338.65 1454.1 M2338.65 1450.39 Q2344.46 1450.39 2347.52 1455 Q2350.6 1459.58 2350.6 1468.33 Q2350.6 1477.06 2347.52 1481.67 Q2344.46 1486.25 2338.65 1486.25 Q2332.84 1486.25 2329.77 1481.67 Q2326.71 1477.06 2326.71 1468.33 Q2326.71 1459.58 2329.77 1455 Q2332.84 1450.39 2338.65 1450.39 Z\" fill=\"#000000\" fill-rule=\"nonzero\" fill-opacity=\"1\" /><path clip-path=\"url(#clip380)\" d=\"M1172.3 1520.52 L1178.73 1520.52 L1178.73 1568.04 L1172.3 1568.04 L1172.3 1520.52 Z\" fill=\"#000000\" fill-rule=\"nonzero\" fill-opacity=\"1\" /><path clip-path=\"url(#clip380)\" d=\"M1197.06 1522.27 L1197.06 1532.4 L1209.12 1532.4 L1209.12 1536.95 L1197.06 1536.95 L1197.06 1556.3 Q1197.06 1560.66 1198.24 1561.9 Q1199.45 1563.14 1203.11 1563.14 L1209.12 1563.14 L1209.12 1568.04 L1203.11 1568.04 Q1196.33 1568.04 1193.75 1565.53 Q1191.17 1562.98 1191.17 1556.3 L1191.17 1536.95 L1186.87 1536.95 L1186.87 1532.4 L1191.17 1532.4 L1191.17 1522.27 L1197.06 1522.27 Z\" fill=\"#000000\" fill-rule=\"nonzero\" fill-opacity=\"1\" /><path clip-path=\"url(#clip380)\" d=\"M1247.32 1548.76 L1247.32 1551.62 L1220.39 1551.62 Q1220.77 1557.67 1224.02 1560.85 Q1227.3 1564 1233.12 1564 Q1236.5 1564 1239.65 1563.17 Q1242.83 1562.35 1245.95 1560.69 L1245.95 1566.23 Q1242.8 1567.57 1239.49 1568.27 Q1236.18 1568.97 1232.77 1568.97 Q1224.24 1568.97 1219.24 1564 Q1214.28 1559.04 1214.28 1550.57 Q1214.28 1541.82 1218.99 1536.69 Q1223.73 1531.54 1231.75 1531.54 Q1238.95 1531.54 1243.12 1536.18 Q1247.32 1540.8 1247.32 1548.76 M1241.46 1547.04 Q1241.4 1542.23 1238.75 1539.37 Q1236.14 1536.5 1231.82 1536.5 Q1226.91 1536.5 1223.95 1539.27 Q1221.03 1542.04 1220.58 1547.07 L1241.46 1547.04 M1235.83 1515.91 L1242.16 1515.91 L1231.78 1527.88 L1226.91 1527.88 L1235.83 1515.91 Z\" fill=\"#000000\" fill-rule=\"nonzero\" fill-opacity=\"1\" /><path clip-path=\"url(#clip380)\" d=\"M1277.59 1537.87 Q1276.6 1537.3 1275.42 1537.04 Q1274.28 1536.76 1272.88 1536.76 Q1267.91 1536.76 1265.24 1540 Q1262.59 1543.22 1262.59 1549.27 L1262.59 1568.04 L1256.71 1568.04 L1256.71 1532.4 L1262.59 1532.4 L1262.59 1537.93 Q1264.44 1534.69 1267.4 1533.13 Q1270.36 1531.54 1274.59 1531.54 Q1275.2 1531.54 1275.93 1531.63 Q1276.66 1531.7 1277.55 1531.85 L1277.59 1537.87 Z\" fill=\"#000000\" fill-rule=\"nonzero\" fill-opacity=\"1\" /><path clip-path=\"url(#clip380)\" d=\"M1299.93 1550.12 Q1292.83 1550.12 1290.09 1551.75 Q1287.36 1553.37 1287.36 1557.29 Q1287.36 1560.4 1289.39 1562.25 Q1291.46 1564.07 1295 1564.07 Q1299.87 1564.07 1302.79 1560.63 Q1305.75 1557.16 1305.75 1551.43 L1305.75 1550.12 L1299.93 1550.12 M1311.61 1547.71 L1311.61 1568.04 L1305.75 1568.04 L1305.75 1562.63 Q1303.75 1565.88 1300.76 1567.44 Q1297.77 1568.97 1293.44 1568.97 Q1287.96 1568.97 1284.72 1565.91 Q1281.5 1562.82 1281.5 1557.67 Q1281.5 1551.65 1285.51 1548.6 Q1289.55 1545.54 1297.54 1545.54 L1305.75 1545.54 L1305.75 1544.97 Q1305.75 1540.93 1303.08 1538.73 Q1300.44 1536.5 1295.63 1536.5 Q1292.58 1536.5 1289.68 1537.23 Q1286.78 1537.97 1284.11 1539.43 L1284.11 1534.02 Q1287.33 1532.78 1290.35 1532.17 Q1293.37 1531.54 1296.24 1531.54 Q1303.97 1531.54 1307.79 1535.55 Q1311.61 1539.56 1311.61 1547.71 Z\" fill=\"#000000\" fill-rule=\"nonzero\" fill-opacity=\"1\" /><path clip-path=\"url(#clip380)\" d=\"M1329.47 1522.27 L1329.47 1532.4 L1341.53 1532.4 L1341.53 1536.95 L1329.47 1536.95 L1329.47 1556.3 Q1329.47 1560.66 1330.64 1561.9 Q1331.85 1563.14 1335.51 1563.14 L1341.53 1563.14 L1341.53 1568.04 L1335.51 1568.04 Q1328.73 1568.04 1326.16 1565.53 Q1323.58 1562.98 1323.58 1556.3 L1323.58 1536.95 L1319.28 1536.95 L1319.28 1532.4 L1323.58 1532.4 L1323.58 1522.27 L1329.47 1522.27 Z\" fill=\"#000000\" fill-rule=\"nonzero\" fill-opacity=\"1\" /><path clip-path=\"url(#clip380)\" d=\"M1349.23 1532.4 L1355.09 1532.4 L1355.09 1568.04 L1349.23 1568.04 L1349.23 1532.4 M1349.23 1518.52 L1355.09 1518.52 L1355.09 1525.93 L1349.23 1525.93 L1349.23 1518.52 Z\" fill=\"#000000\" fill-rule=\"nonzero\" fill-opacity=\"1\" /><path clip-path=\"url(#clip380)\" d=\"M1381.16 1536.5 Q1376.45 1536.5 1373.71 1540.19 Q1370.97 1543.85 1370.97 1550.25 Q1370.97 1556.65 1373.68 1560.34 Q1376.41 1564 1381.16 1564 Q1385.83 1564 1388.57 1560.31 Q1391.31 1556.62 1391.31 1550.25 Q1391.31 1543.92 1388.57 1540.23 Q1385.83 1536.5 1381.16 1536.5 M1381.16 1531.54 Q1388.79 1531.54 1393.16 1536.5 Q1397.52 1541.47 1397.52 1550.25 Q1397.52 1559 1393.16 1564 Q1388.79 1568.97 1381.16 1568.97 Q1373.49 1568.97 1369.12 1564 Q1364.8 1559 1364.8 1550.25 Q1364.8 1541.47 1369.12 1536.5 Q1373.49 1531.54 1381.16 1531.54 Z\" fill=\"#000000\" fill-rule=\"nonzero\" fill-opacity=\"1\" /><path clip-path=\"url(#clip380)\" d=\"M1436.86 1546.53 L1436.86 1568.04 L1431 1568.04 L1431 1546.72 Q1431 1541.66 1429.03 1539.14 Q1427.05 1536.63 1423.11 1536.63 Q1418.36 1536.63 1415.63 1539.65 Q1412.89 1542.68 1412.89 1547.9 L1412.89 1568.04 L1407 1568.04 L1407 1532.4 L1412.89 1532.4 L1412.89 1537.93 Q1414.99 1534.72 1417.82 1533.13 Q1420.69 1531.54 1424.41 1531.54 Q1430.55 1531.54 1433.7 1535.36 Q1436.86 1539.14 1436.86 1546.53 Z\" fill=\"#000000\" fill-rule=\"nonzero\" fill-opacity=\"1\" /><path clip-path=\"url(#clip380)\" d=\"M1471.26 1533.45 L1471.26 1538.98 Q1468.78 1537.71 1466.11 1537.07 Q1463.43 1536.44 1460.57 1536.44 Q1456.21 1536.44 1454.01 1537.77 Q1451.85 1539.11 1451.85 1541.79 Q1451.85 1543.82 1453.41 1545 Q1454.97 1546.15 1459.68 1547.2 L1461.68 1547.64 Q1467.92 1548.98 1470.53 1551.43 Q1473.17 1553.85 1473.17 1558.21 Q1473.17 1563.17 1469.23 1566.07 Q1465.31 1568.97 1458.44 1568.97 Q1455.57 1568.97 1452.45 1568.39 Q1449.36 1567.85 1445.93 1566.74 L1445.93 1560.69 Q1449.17 1562.38 1452.32 1563.24 Q1455.48 1564.07 1458.56 1564.07 Q1462.7 1564.07 1464.93 1562.66 Q1467.16 1561.23 1467.16 1558.65 Q1467.16 1556.27 1465.53 1554.99 Q1463.94 1553.72 1458.5 1552.54 L1456.46 1552.07 Q1451.02 1550.92 1448.6 1548.56 Q1446.18 1546.18 1446.18 1542.04 Q1446.18 1537.01 1449.75 1534.27 Q1453.31 1531.54 1459.87 1531.54 Q1463.11 1531.54 1465.98 1532.01 Q1468.84 1532.49 1471.26 1533.45 Z\" fill=\"#000000\" fill-rule=\"nonzero\" fill-opacity=\"1\" /><polyline clip-path=\"url(#clip382)\" style=\"stroke:#000000; stroke-linecap:round; stroke-linejoin:round; stroke-width:2; stroke-opacity:0.1; fill:none\" points=\"292.713,1391.58 2352.76,1391.58 \"/>\n",
       "<polyline clip-path=\"url(#clip382)\" style=\"stroke:#000000; stroke-linecap:round; stroke-linejoin:round; stroke-width:2; stroke-opacity:0.1; fill:none\" points=\"292.713,1025.8 2352.76,1025.8 \"/>\n",
       "<polyline clip-path=\"url(#clip382)\" style=\"stroke:#000000; stroke-linecap:round; stroke-linejoin:round; stroke-width:2; stroke-opacity:0.1; fill:none\" points=\"292.713,660.026 2352.76,660.026 \"/>\n",
       "<polyline clip-path=\"url(#clip382)\" style=\"stroke:#000000; stroke-linecap:round; stroke-linejoin:round; stroke-width:2; stroke-opacity:0.1; fill:none\" points=\"292.713,294.248 2352.76,294.248 \"/>\n",
       "<polyline clip-path=\"url(#clip380)\" style=\"stroke:#000000; stroke-linecap:round; stroke-linejoin:round; stroke-width:4; stroke-opacity:1; fill:none\" points=\"292.713,1423.18 292.713,123.472 \"/>\n",
       "<polyline clip-path=\"url(#clip380)\" style=\"stroke:#000000; stroke-linecap:round; stroke-linejoin:round; stroke-width:4; stroke-opacity:1; fill:none\" points=\"292.713,1391.58 311.611,1391.58 \"/>\n",
       "<polyline clip-path=\"url(#clip380)\" style=\"stroke:#000000; stroke-linecap:round; stroke-linejoin:round; stroke-width:4; stroke-opacity:1; fill:none\" points=\"292.713,1025.8 311.611,1025.8 \"/>\n",
       "<polyline clip-path=\"url(#clip380)\" style=\"stroke:#000000; stroke-linecap:round; stroke-linejoin:round; stroke-width:4; stroke-opacity:1; fill:none\" points=\"292.713,660.026 311.611,660.026 \"/>\n",
       "<polyline clip-path=\"url(#clip380)\" style=\"stroke:#000000; stroke-linecap:round; stroke-linejoin:round; stroke-width:4; stroke-opacity:1; fill:none\" points=\"292.713,294.248 311.611,294.248 \"/>\n",
       "<path clip-path=\"url(#clip380)\" d=\"M143.103 1374.3 L165.325 1374.3 L165.325 1376.29 L152.778 1408.86 L147.894 1408.86 L159.7 1378.24 L143.103 1378.24 L143.103 1374.3 Z\" fill=\"#000000\" fill-rule=\"nonzero\" fill-opacity=\"1\" /><path clip-path=\"url(#clip380)\" d=\"M174.491 1374.3 L192.848 1374.3 L192.848 1378.24 L178.774 1378.24 L178.774 1386.71 Q179.792 1386.36 180.811 1386.2 Q181.829 1386.02 182.848 1386.02 Q188.635 1386.02 192.014 1389.19 Q195.394 1392.36 195.394 1397.78 Q195.394 1403.35 191.922 1406.46 Q188.45 1409.53 182.13 1409.53 Q179.954 1409.53 177.686 1409.16 Q175.44 1408.79 173.033 1408.05 L173.033 1403.35 Q175.116 1404.49 177.339 1405.04 Q179.561 1405.6 182.038 1405.6 Q186.042 1405.6 188.38 1403.49 Q190.718 1401.39 190.718 1397.78 Q190.718 1394.16 188.38 1392.06 Q186.042 1389.95 182.038 1389.95 Q180.163 1389.95 178.288 1390.37 Q176.436 1390.78 174.491 1391.66 L174.491 1374.3 Z\" fill=\"#000000\" fill-rule=\"nonzero\" fill-opacity=\"1\" /><path clip-path=\"url(#clip380)\" d=\"M214.607 1377.38 Q210.996 1377.38 209.167 1380.95 Q207.362 1384.49 207.362 1391.62 Q207.362 1398.72 209.167 1402.29 Q210.996 1405.83 214.607 1405.83 Q218.241 1405.83 220.047 1402.29 Q221.875 1398.72 221.875 1391.62 Q221.875 1384.49 220.047 1380.95 Q218.241 1377.38 214.607 1377.38 M214.607 1373.68 Q220.417 1373.68 223.473 1378.28 Q226.551 1382.87 226.551 1391.62 Q226.551 1400.34 223.473 1404.95 Q220.417 1409.53 214.607 1409.53 Q208.797 1409.53 205.718 1404.95 Q202.662 1400.34 202.662 1391.62 Q202.662 1382.87 205.718 1378.28 Q208.797 1373.68 214.607 1373.68 Z\" fill=\"#000000\" fill-rule=\"nonzero\" fill-opacity=\"1\" /><path clip-path=\"url(#clip380)\" d=\"M244.769 1377.38 Q241.158 1377.38 239.329 1380.95 Q237.523 1384.49 237.523 1391.62 Q237.523 1398.72 239.329 1402.29 Q241.158 1405.83 244.769 1405.83 Q248.403 1405.83 250.209 1402.29 Q252.037 1398.72 252.037 1391.62 Q252.037 1384.49 250.209 1380.95 Q248.403 1377.38 244.769 1377.38 M244.769 1373.68 Q250.579 1373.68 253.634 1378.28 Q256.713 1382.87 256.713 1391.62 Q256.713 1400.34 253.634 1404.95 Q250.579 1409.53 244.769 1409.53 Q238.959 1409.53 235.88 1404.95 Q232.824 1400.34 232.824 1391.62 Q232.824 1382.87 235.88 1378.28 Q238.959 1373.68 244.769 1373.68 Z\" fill=\"#000000\" fill-rule=\"nonzero\" fill-opacity=\"1\" /><path clip-path=\"url(#clip380)\" d=\"M114.931 1039.15 L122.57 1039.15 L122.57 1012.78 L114.26 1014.45 L114.26 1010.19 L122.524 1008.52 L127.2 1008.52 L127.2 1039.15 L134.839 1039.15 L134.839 1043.08 L114.931 1043.08 L114.931 1039.15 Z\" fill=\"#000000\" fill-rule=\"nonzero\" fill-opacity=\"1\" /><path clip-path=\"url(#clip380)\" d=\"M154.283 1011.6 Q150.672 1011.6 148.843 1015.17 Q147.038 1018.71 147.038 1025.84 Q147.038 1032.95 148.843 1036.51 Q150.672 1040.05 154.283 1040.05 Q157.917 1040.05 159.723 1036.51 Q161.552 1032.95 161.552 1025.84 Q161.552 1018.71 159.723 1015.17 Q157.917 1011.6 154.283 1011.6 M154.283 1007.9 Q160.093 1007.9 163.149 1012.51 Q166.227 1017.09 166.227 1025.84 Q166.227 1034.57 163.149 1039.17 Q160.093 1043.76 154.283 1043.76 Q148.473 1043.76 145.394 1039.17 Q142.339 1034.57 142.339 1025.84 Q142.339 1017.09 145.394 1012.51 Q148.473 1007.9 154.283 1007.9 Z\" fill=\"#000000\" fill-rule=\"nonzero\" fill-opacity=\"1\" /><path clip-path=\"url(#clip380)\" d=\"M184.445 1011.6 Q180.834 1011.6 179.005 1015.17 Q177.2 1018.71 177.2 1025.84 Q177.2 1032.95 179.005 1036.51 Q180.834 1040.05 184.445 1040.05 Q188.079 1040.05 189.885 1036.51 Q191.713 1032.95 191.713 1025.84 Q191.713 1018.71 189.885 1015.17 Q188.079 1011.6 184.445 1011.6 M184.445 1007.9 Q190.255 1007.9 193.311 1012.51 Q196.389 1017.09 196.389 1025.84 Q196.389 1034.57 193.311 1039.17 Q190.255 1043.76 184.445 1043.76 Q178.635 1043.76 175.556 1039.17 Q172.501 1034.57 172.501 1025.84 Q172.501 1017.09 175.556 1012.51 Q178.635 1007.9 184.445 1007.9 Z\" fill=\"#000000\" fill-rule=\"nonzero\" fill-opacity=\"1\" /><path clip-path=\"url(#clip380)\" d=\"M214.607 1011.6 Q210.996 1011.6 209.167 1015.17 Q207.362 1018.71 207.362 1025.84 Q207.362 1032.95 209.167 1036.51 Q210.996 1040.05 214.607 1040.05 Q218.241 1040.05 220.047 1036.51 Q221.875 1032.95 221.875 1025.84 Q221.875 1018.71 220.047 1015.17 Q218.241 1011.6 214.607 1011.6 M214.607 1007.9 Q220.417 1007.9 223.473 1012.51 Q226.551 1017.09 226.551 1025.84 Q226.551 1034.57 223.473 1039.17 Q220.417 1043.76 214.607 1043.76 Q208.797 1043.76 205.718 1039.17 Q202.662 1034.57 202.662 1025.84 Q202.662 1017.09 205.718 1012.51 Q208.797 1007.9 214.607 1007.9 Z\" fill=\"#000000\" fill-rule=\"nonzero\" fill-opacity=\"1\" /><path clip-path=\"url(#clip380)\" d=\"M244.769 1011.6 Q241.158 1011.6 239.329 1015.17 Q237.523 1018.71 237.523 1025.84 Q237.523 1032.95 239.329 1036.51 Q241.158 1040.05 244.769 1040.05 Q248.403 1040.05 250.209 1036.51 Q252.037 1032.95 252.037 1025.84 Q252.037 1018.71 250.209 1015.17 Q248.403 1011.6 244.769 1011.6 M244.769 1007.9 Q250.579 1007.9 253.634 1012.51 Q256.713 1017.09 256.713 1025.84 Q256.713 1034.57 253.634 1039.17 Q250.579 1043.76 244.769 1043.76 Q238.959 1043.76 235.88 1039.17 Q232.824 1034.57 232.824 1025.84 Q232.824 1017.09 235.88 1012.51 Q238.959 1007.9 244.769 1007.9 Z\" fill=\"#000000\" fill-rule=\"nonzero\" fill-opacity=\"1\" /><path clip-path=\"url(#clip380)\" d=\"M114.931 673.371 L122.57 673.371 L122.57 647.005 L114.26 648.672 L114.26 644.413 L122.524 642.746 L127.2 642.746 L127.2 673.371 L134.839 673.371 L134.839 677.306 L114.931 677.306 L114.931 673.371 Z\" fill=\"#000000\" fill-rule=\"nonzero\" fill-opacity=\"1\" /><path clip-path=\"url(#clip380)\" d=\"M148.311 673.371 L164.63 673.371 L164.63 677.306 L142.686 677.306 L142.686 673.371 Q145.348 670.616 149.931 665.987 Q154.538 661.334 155.718 659.991 Q157.964 657.468 158.843 655.732 Q159.746 653.973 159.746 652.283 Q159.746 649.529 157.802 647.792 Q155.88 646.056 152.778 646.056 Q150.579 646.056 148.126 646.82 Q145.695 647.584 142.917 649.135 L142.917 644.413 Q145.741 643.279 148.195 642.7 Q150.649 642.121 152.686 642.121 Q158.056 642.121 161.251 644.806 Q164.445 647.492 164.445 651.982 Q164.445 654.112 163.635 656.033 Q162.848 657.931 160.741 660.524 Q160.163 661.195 157.061 664.413 Q153.959 667.607 148.311 673.371 Z\" fill=\"#000000\" fill-rule=\"nonzero\" fill-opacity=\"1\" /><path clip-path=\"url(#clip380)\" d=\"M174.491 642.746 L192.848 642.746 L192.848 646.681 L178.774 646.681 L178.774 655.154 Q179.792 654.806 180.811 654.644 Q181.829 654.459 182.848 654.459 Q188.635 654.459 192.014 657.63 Q195.394 660.802 195.394 666.218 Q195.394 671.797 191.922 674.899 Q188.45 677.977 182.13 677.977 Q179.954 677.977 177.686 677.607 Q175.44 677.237 173.033 676.496 L173.033 671.797 Q175.116 672.931 177.339 673.487 Q179.561 674.042 182.038 674.042 Q186.042 674.042 188.38 671.936 Q190.718 669.829 190.718 666.218 Q190.718 662.607 188.38 660.501 Q186.042 658.394 182.038 658.394 Q180.163 658.394 178.288 658.811 Q176.436 659.228 174.491 660.107 L174.491 642.746 Z\" fill=\"#000000\" fill-rule=\"nonzero\" fill-opacity=\"1\" /><path clip-path=\"url(#clip380)\" d=\"M214.607 645.825 Q210.996 645.825 209.167 649.39 Q207.362 652.931 207.362 660.061 Q207.362 667.167 209.167 670.732 Q210.996 674.274 214.607 674.274 Q218.241 674.274 220.047 670.732 Q221.875 667.167 221.875 660.061 Q221.875 652.931 220.047 649.39 Q218.241 645.825 214.607 645.825 M214.607 642.121 Q220.417 642.121 223.473 646.728 Q226.551 651.311 226.551 660.061 Q226.551 668.788 223.473 673.394 Q220.417 677.977 214.607 677.977 Q208.797 677.977 205.718 673.394 Q202.662 668.788 202.662 660.061 Q202.662 651.311 205.718 646.728 Q208.797 642.121 214.607 642.121 Z\" fill=\"#000000\" fill-rule=\"nonzero\" fill-opacity=\"1\" /><path clip-path=\"url(#clip380)\" d=\"M244.769 645.825 Q241.158 645.825 239.329 649.39 Q237.523 652.931 237.523 660.061 Q237.523 667.167 239.329 670.732 Q241.158 674.274 244.769 674.274 Q248.403 674.274 250.209 670.732 Q252.037 667.167 252.037 660.061 Q252.037 652.931 250.209 649.39 Q248.403 645.825 244.769 645.825 M244.769 642.121 Q250.579 642.121 253.634 646.728 Q256.713 651.311 256.713 660.061 Q256.713 668.788 253.634 673.394 Q250.579 677.977 244.769 677.977 Q238.959 677.977 235.88 673.394 Q232.824 668.788 232.824 660.061 Q232.824 651.311 235.88 646.728 Q238.959 642.121 244.769 642.121 Z\" fill=\"#000000\" fill-rule=\"nonzero\" fill-opacity=\"1\" /><path clip-path=\"url(#clip380)\" d=\"M114.931 307.592 L122.57 307.592 L122.57 281.227 L114.26 282.894 L114.26 278.634 L122.524 276.968 L127.2 276.968 L127.2 307.592 L134.839 307.592 L134.839 311.528 L114.931 311.528 L114.931 307.592 Z\" fill=\"#000000\" fill-rule=\"nonzero\" fill-opacity=\"1\" /><path clip-path=\"url(#clip380)\" d=\"M144.329 276.968 L162.686 276.968 L162.686 280.903 L148.612 280.903 L148.612 289.375 Q149.63 289.028 150.649 288.866 Q151.667 288.681 152.686 288.681 Q158.473 288.681 161.852 291.852 Q165.232 295.023 165.232 300.44 Q165.232 306.018 161.76 309.12 Q158.288 312.199 151.968 312.199 Q149.792 312.199 147.524 311.829 Q145.279 311.458 142.871 310.717 L142.871 306.018 Q144.954 307.153 147.177 307.708 Q149.399 308.264 151.876 308.264 Q155.88 308.264 158.218 306.157 Q160.556 304.051 160.556 300.44 Q160.556 296.829 158.218 294.722 Q155.88 292.616 151.876 292.616 Q150.001 292.616 148.126 293.032 Q146.274 293.449 144.329 294.329 L144.329 276.968 Z\" fill=\"#000000\" fill-rule=\"nonzero\" fill-opacity=\"1\" /><path clip-path=\"url(#clip380)\" d=\"M184.445 280.046 Q180.834 280.046 179.005 283.611 Q177.2 287.153 177.2 294.282 Q177.2 301.389 179.005 304.954 Q180.834 308.495 184.445 308.495 Q188.079 308.495 189.885 304.954 Q191.713 301.389 191.713 294.282 Q191.713 287.153 189.885 283.611 Q188.079 280.046 184.445 280.046 M184.445 276.343 Q190.255 276.343 193.311 280.949 Q196.389 285.532 196.389 294.282 Q196.389 303.009 193.311 307.616 Q190.255 312.199 184.445 312.199 Q178.635 312.199 175.556 307.616 Q172.501 303.009 172.501 294.282 Q172.501 285.532 175.556 280.949 Q178.635 276.343 184.445 276.343 Z\" fill=\"#000000\" fill-rule=\"nonzero\" fill-opacity=\"1\" /><path clip-path=\"url(#clip380)\" d=\"M214.607 280.046 Q210.996 280.046 209.167 283.611 Q207.362 287.153 207.362 294.282 Q207.362 301.389 209.167 304.954 Q210.996 308.495 214.607 308.495 Q218.241 308.495 220.047 304.954 Q221.875 301.389 221.875 294.282 Q221.875 287.153 220.047 283.611 Q218.241 280.046 214.607 280.046 M214.607 276.343 Q220.417 276.343 223.473 280.949 Q226.551 285.532 226.551 294.282 Q226.551 303.009 223.473 307.616 Q220.417 312.199 214.607 312.199 Q208.797 312.199 205.718 307.616 Q202.662 303.009 202.662 294.282 Q202.662 285.532 205.718 280.949 Q208.797 276.343 214.607 276.343 Z\" fill=\"#000000\" fill-rule=\"nonzero\" fill-opacity=\"1\" /><path clip-path=\"url(#clip380)\" d=\"M244.769 280.046 Q241.158 280.046 239.329 283.611 Q237.523 287.153 237.523 294.282 Q237.523 301.389 239.329 304.954 Q241.158 308.495 244.769 308.495 Q248.403 308.495 250.209 304.954 Q252.037 301.389 252.037 294.282 Q252.037 287.153 250.209 283.611 Q248.403 280.046 244.769 280.046 M244.769 276.343 Q250.579 276.343 253.634 280.949 Q256.713 285.532 256.713 294.282 Q256.713 303.009 253.634 307.616 Q250.579 312.199 244.769 312.199 Q238.959 312.199 235.88 307.616 Q232.824 303.009 232.824 294.282 Q232.824 285.532 235.88 280.949 Q238.959 276.343 244.769 276.343 Z\" fill=\"#000000\" fill-rule=\"nonzero\" fill-opacity=\"1\" /><path clip-path=\"url(#clip380)\" d=\"M20.1444 808.528 L26.9239 808.528 Q23.9002 811.775 22.4043 815.467 Q20.9083 819.127 20.9083 823.265 Q20.9083 831.413 25.9054 835.742 Q30.8707 840.07 40.2919 840.07 Q49.6813 840.07 54.6784 835.742 Q59.6436 831.413 59.6436 823.265 Q59.6436 819.127 58.1477 815.467 Q56.6518 811.775 53.6281 808.528 L60.3439 808.528 Q62.6355 811.902 63.7814 815.69 Q64.9272 819.446 64.9272 823.647 Q64.9272 834.437 58.3387 840.643 Q51.7183 846.85 40.2919 846.85 Q28.8336 846.85 22.2451 840.643 Q15.6248 834.437 15.6248 823.647 Q15.6248 819.382 16.7706 815.626 Q17.8846 811.839 20.1444 808.528 Z\" fill=\"#000000\" fill-rule=\"nonzero\" fill-opacity=\"1\" /><path clip-path=\"url(#clip380)\" d=\"M32.4621 785.039 Q32.4621 789.75 36.1542 792.487 Q39.8145 795.224 46.212 795.224 Q52.6095 795.224 56.3017 792.519 Q59.9619 789.781 59.9619 785.039 Q59.9619 780.36 56.2698 777.623 Q52.5777 774.886 46.212 774.886 Q39.8781 774.886 36.186 777.623 Q32.4621 780.36 32.4621 785.039 M27.4968 785.039 Q27.4968 777.4 32.4621 773.04 Q37.4273 768.679 46.212 768.679 Q54.9649 768.679 59.9619 773.04 Q64.9272 777.4 64.9272 785.039 Q64.9272 792.71 59.9619 797.07 Q54.9649 801.399 46.212 801.399 Q37.4273 801.399 32.4621 797.07 Q27.4968 792.71 27.4968 785.039 Z\" fill=\"#000000\" fill-rule=\"nonzero\" fill-opacity=\"1\" /><path clip-path=\"url(#clip380)\" d=\"M49.9359 759.576 L28.3562 759.576 L28.3562 753.72 L49.7131 753.72 Q54.7739 753.72 57.3202 751.746 Q59.8346 749.773 59.8346 745.826 Q59.8346 741.084 56.8109 738.346 Q53.7872 735.577 48.5673 735.577 L28.3562 735.577 L28.3562 729.721 L64.0042 729.721 L64.0042 735.577 L58.5296 735.577 Q61.7762 737.71 63.3676 740.543 Q64.9272 743.344 64.9272 747.067 Q64.9272 753.21 61.1078 756.393 Q57.2883 759.576 49.9359 759.576 M27.4968 744.839 L27.4968 744.839 M11.869 747.258 L11.869 742.548 L23.8365 734.75 L23.8365 739.174 L16.0386 744.903 L23.8365 750.632 L23.8365 755.056 L11.869 747.258 Z\" fill=\"#000000\" fill-rule=\"nonzero\" fill-opacity=\"1\" /><path clip-path=\"url(#clip380)\" d=\"M18.2347 711.865 L28.3562 711.865 L28.3562 699.802 L32.9077 699.802 L32.9077 711.865 L52.2594 711.865 Q56.6199 711.865 57.8613 710.687 Q59.1026 709.478 59.1026 705.818 L59.1026 699.802 L64.0042 699.802 L64.0042 705.818 Q64.0042 712.597 61.4897 715.175 Q58.9434 717.753 52.2594 717.753 L32.9077 717.753 L32.9077 722.05 L28.3562 722.05 L28.3562 717.753 L18.2347 717.753 L18.2347 711.865 Z\" fill=\"#000000\" fill-rule=\"nonzero\" fill-opacity=\"1\" /><path clip-path=\"url(#clip380)\" d=\"M964.655 12.096 L1002.9 12.096 L1002.9 18.9825 L972.838 18.9825 L972.838 36.8875 L1001.64 36.8875 L1001.64 43.7741 L972.838 43.7741 L972.838 65.6895 L1003.62 65.6895 L1003.62 72.576 L964.655 72.576 L964.655 12.096 M985.882 -4.35067 L993.376 -4.35067 L984.14 6.34372 L977.942 6.34372 L985.882 -4.35067 Z\" fill=\"#000000\" fill-rule=\"nonzero\" fill-opacity=\"1\" /><path clip-path=\"url(#clip380)\" d=\"M1011.4 27.2059 L1019.3 27.2059 L1033.48 65.2844 L1047.66 27.2059 L1055.56 27.2059 L1038.54 72.576 L1028.42 72.576 L1011.4 27.2059 Z\" fill=\"#000000\" fill-rule=\"nonzero\" fill-opacity=\"1\" /><path clip-path=\"url(#clip380)\" d=\"M1083.43 32.4315 Q1077.43 32.4315 1073.95 37.1306 Q1070.46 41.7891 1070.46 49.9314 Q1070.46 58.0738 1073.91 62.7728 Q1077.39 67.4314 1083.43 67.4314 Q1089.38 67.4314 1092.87 62.7323 Q1096.35 58.0333 1096.35 49.9314 Q1096.35 41.8701 1092.87 37.1711 Q1089.38 32.4315 1083.43 32.4315 M1083.43 26.1121 Q1093.15 26.1121 1098.7 32.4315 Q1104.25 38.7509 1104.25 49.9314 Q1104.25 61.0714 1098.7 67.4314 Q1093.15 73.7508 1083.43 73.7508 Q1073.66 73.7508 1068.11 67.4314 Q1062.61 61.0714 1062.61 49.9314 Q1062.61 38.7509 1068.11 32.4315 Q1073.66 26.1121 1083.43 26.1121 Z\" fill=\"#000000\" fill-rule=\"nonzero\" fill-opacity=\"1\" /><path clip-path=\"url(#clip380)\" d=\"M1116.6 9.54393 L1124.06 9.54393 L1124.06 72.576 L1116.6 72.576 L1116.6 9.54393 Z\" fill=\"#000000\" fill-rule=\"nonzero\" fill-opacity=\"1\" /><path clip-path=\"url(#clip380)\" d=\"M1138.88 54.671 L1138.88 27.2059 L1146.34 27.2059 L1146.34 54.3874 Q1146.34 60.8284 1148.85 64.0691 Q1151.36 67.2693 1156.38 67.2693 Q1162.42 67.2693 1165.9 63.421 Q1169.43 59.5726 1169.43 52.9291 L1169.43 27.2059 L1176.88 27.2059 L1176.88 72.576 L1169.43 72.576 L1169.43 65.6084 Q1166.71 69.7404 1163.11 71.7658 Q1159.54 73.7508 1154.8 73.7508 Q1146.99 73.7508 1142.94 68.8897 Q1138.88 64.0286 1138.88 54.671 M1157.64 26.1121 L1157.64 26.1121 Z\" fill=\"#000000\" fill-rule=\"nonzero\" fill-opacity=\"1\" /><path clip-path=\"url(#clip380)\" d=\"M1199.61 14.324 L1199.61 27.2059 L1214.96 27.2059 L1214.96 32.9987 L1199.61 32.9987 L1199.61 57.6282 Q1199.61 63.1779 1201.11 64.7578 Q1202.65 66.3376 1207.3 66.3376 L1214.96 66.3376 L1214.96 72.576 L1207.3 72.576 Q1198.68 72.576 1195.39 69.3758 Q1192.11 66.1351 1192.11 57.6282 L1192.11 32.9987 L1186.64 32.9987 L1186.64 27.2059 L1192.11 27.2059 L1192.11 14.324 L1199.61 14.324 Z\" fill=\"#000000\" fill-rule=\"nonzero\" fill-opacity=\"1\" /><path clip-path=\"url(#clip380)\" d=\"M1224.76 27.2059 L1232.22 27.2059 L1232.22 72.576 L1224.76 72.576 L1224.76 27.2059 M1224.76 9.54393 L1232.22 9.54393 L1232.22 18.9825 L1224.76 18.9825 L1224.76 9.54393 Z\" fill=\"#000000\" fill-rule=\"nonzero\" fill-opacity=\"1\" /><path clip-path=\"url(#clip380)\" d=\"M1265.39 32.4315 Q1259.4 32.4315 1255.91 37.1306 Q1252.43 41.7891 1252.43 49.9314 Q1252.43 58.0738 1255.87 62.7728 Q1259.36 67.4314 1265.39 67.4314 Q1271.35 67.4314 1274.83 62.7323 Q1278.32 58.0333 1278.32 49.9314 Q1278.32 41.8701 1274.83 37.1711 Q1271.35 32.4315 1265.39 32.4315 M1265.39 26.1121 Q1275.12 26.1121 1280.67 32.4315 Q1286.22 38.7509 1286.22 49.9314 Q1286.22 61.0714 1280.67 67.4314 Q1275.12 73.7508 1265.39 73.7508 Q1255.63 73.7508 1250.08 67.4314 Q1244.57 61.0714 1244.57 49.9314 Q1244.57 38.7509 1250.08 32.4315 Q1255.63 26.1121 1265.39 26.1121 Z\" fill=\"#000000\" fill-rule=\"nonzero\" fill-opacity=\"1\" /><path clip-path=\"url(#clip380)\" d=\"M1336.28 45.1919 L1336.28 72.576 L1328.83 72.576 L1328.83 45.4349 Q1328.83 38.994 1326.32 35.7938 Q1323.81 32.5936 1318.78 32.5936 Q1312.75 32.5936 1309.27 36.4419 Q1305.78 40.2903 1305.78 46.9338 L1305.78 72.576 L1298.29 72.576 L1298.29 27.2059 L1305.78 27.2059 L1305.78 34.2544 Q1308.46 30.163 1312.06 28.1376 Q1315.71 26.1121 1320.45 26.1121 Q1328.26 26.1121 1332.27 30.9732 Q1336.28 35.7938 1336.28 45.1919 Z\" fill=\"#000000\" fill-rule=\"nonzero\" fill-opacity=\"1\" /><path clip-path=\"url(#clip380)\" d=\"M1407.38 34.0924 L1407.38 9.54393 L1414.83 9.54393 L1414.83 72.576 L1407.38 72.576 L1407.38 65.7705 Q1405.03 69.8214 1401.42 71.8063 Q1397.86 73.7508 1392.84 73.7508 Q1384.61 73.7508 1379.43 67.1883 Q1374.28 60.6258 1374.28 49.9314 Q1374.28 39.2371 1379.43 32.6746 Q1384.61 26.1121 1392.84 26.1121 Q1397.86 26.1121 1401.42 28.0971 Q1405.03 30.0415 1407.38 34.0924 M1381.98 49.9314 Q1381.98 58.1548 1385.34 62.8538 Q1388.74 67.5124 1394.66 67.5124 Q1400.57 67.5124 1403.98 62.8538 Q1407.38 58.1548 1407.38 49.9314 Q1407.38 41.7081 1403.98 37.0496 Q1400.57 32.3505 1394.66 32.3505 Q1388.74 32.3505 1385.34 37.0496 Q1381.98 41.7081 1381.98 49.9314 Z\" fill=\"#000000\" fill-rule=\"nonzero\" fill-opacity=\"1\" /><path clip-path=\"url(#clip380)\" d=\"M1429.42 54.671 L1429.42 27.2059 L1436.87 27.2059 L1436.87 54.3874 Q1436.87 60.8284 1439.38 64.0691 Q1441.89 67.2693 1446.91 67.2693 Q1452.95 67.2693 1456.43 63.421 Q1459.96 59.5726 1459.96 52.9291 L1459.96 27.2059 L1467.41 27.2059 L1467.41 72.576 L1459.96 72.576 L1459.96 65.6084 Q1457.24 69.7404 1453.64 71.7658 Q1450.07 73.7508 1445.34 73.7508 Q1437.52 73.7508 1433.47 68.8897 Q1429.42 64.0286 1429.42 54.671 M1448.17 26.1121 L1448.17 26.1121 Z\" fill=\"#000000\" fill-rule=\"nonzero\" fill-opacity=\"1\" /><path clip-path=\"url(#clip380)\" d=\"M1541.79 28.9478 L1541.79 35.9153 Q1538.63 34.1734 1535.43 33.3227 Q1532.27 32.4315 1529.03 32.4315 Q1521.78 32.4315 1517.77 37.0496 Q1513.75 41.6271 1513.75 49.9314 Q1513.75 58.2358 1517.77 62.8538 Q1521.78 67.4314 1529.03 67.4314 Q1532.27 67.4314 1535.43 66.5807 Q1538.63 65.6895 1541.79 63.9476 L1541.79 70.8341 Q1538.67 72.2924 1535.31 73.0216 Q1531.98 73.7508 1528.22 73.7508 Q1517.97 73.7508 1511.93 67.3098 Q1505.9 60.8689 1505.9 49.9314 Q1505.9 38.832 1511.97 32.472 Q1518.09 26.1121 1528.7 26.1121 Q1532.15 26.1121 1535.43 26.8413 Q1538.71 27.5299 1541.79 28.9478 Z\" fill=\"#000000\" fill-rule=\"nonzero\" fill-opacity=\"1\" /><path clip-path=\"url(#clip380)\" d=\"M1572.33 32.4315 Q1566.34 32.4315 1562.85 37.1306 Q1559.37 41.7891 1559.37 49.9314 Q1559.37 58.0738 1562.81 62.7728 Q1566.3 67.4314 1572.33 67.4314 Q1578.29 67.4314 1581.77 62.7323 Q1585.25 58.0333 1585.25 49.9314 Q1585.25 41.8701 1581.77 37.1711 Q1578.29 32.4315 1572.33 32.4315 M1572.33 26.1121 Q1582.05 26.1121 1587.6 32.4315 Q1593.15 38.7509 1593.15 49.9314 Q1593.15 61.0714 1587.6 67.4314 Q1582.05 73.7508 1572.33 73.7508 Q1562.57 73.7508 1557.02 67.4314 Q1551.51 61.0714 1551.51 49.9314 Q1551.51 38.7509 1557.02 32.4315 Q1562.57 26.1121 1572.33 26.1121 Z\" fill=\"#000000\" fill-rule=\"nonzero\" fill-opacity=\"1\" /><path clip-path=\"url(#clip380)\" d=\"M1604.74 54.671 L1604.74 27.2059 L1612.19 27.2059 L1612.19 54.3874 Q1612.19 60.8284 1614.7 64.0691 Q1617.21 67.2693 1622.24 67.2693 Q1628.27 67.2693 1631.76 63.421 Q1635.28 59.5726 1635.28 52.9291 L1635.28 27.2059 L1642.74 27.2059 L1642.74 72.576 L1635.28 72.576 L1635.28 65.6084 Q1632.57 69.7404 1628.96 71.7658 Q1625.4 73.7508 1620.66 73.7508 Q1612.84 73.7508 1608.79 68.8897 Q1604.74 64.0286 1604.74 54.671 M1623.49 26.1121 L1623.49 26.1121 M1620.42 6.22219 L1626.41 6.22219 L1636.34 21.4536 L1630.7 21.4536 L1623.41 11.5289 L1616.12 21.4536 L1610.49 21.4536 L1620.42 6.22219 Z\" fill=\"#000000\" fill-rule=\"nonzero\" fill-opacity=\"1\" /><path clip-path=\"url(#clip380)\" d=\"M1665.46 14.324 L1665.46 27.2059 L1680.81 27.2059 L1680.81 32.9987 L1665.46 32.9987 L1665.46 57.6282 Q1665.46 63.1779 1666.96 64.7578 Q1668.5 66.3376 1673.16 66.3376 L1680.81 66.3376 L1680.81 72.576 L1673.16 72.576 Q1664.53 72.576 1661.25 69.3758 Q1657.97 66.1351 1657.97 57.6282 L1657.97 32.9987 L1652.5 32.9987 L1652.5 27.2059 L1657.97 27.2059 L1657.97 14.324 L1665.46 14.324 Z\" fill=\"#000000\" fill-rule=\"nonzero\" fill-opacity=\"1\" /><polyline clip-path=\"url(#clip382)\" style=\"stroke:#009af9; stroke-linecap:round; stroke-linejoin:round; stroke-width:4; stroke-opacity:1; fill:none\" points=\"351.016,160.256 352.962,160.256 354.907,160.256 356.852,160.256 358.798,160.256 360.743,160.256 362.688,160.256 364.634,160.256 366.579,160.256 368.525,179.817 370.47,179.817 372.415,179.817 374.361,179.817 376.306,179.817 378.252,179.817 380.197,179.817 382.142,179.817 384.088,179.817 386.033,179.817 387.978,179.817 389.924,179.817 391.869,179.817 393.815,179.817 395.76,179.817 397.705,179.817 399.651,179.817 401.596,179.817 403.542,179.817 405.487,229.158 407.432,229.158 409.378,229.158 411.323,229.158 413.268,229.158 415.214,229.158 417.159,229.158 419.105,229.158 421.05,229.158 422.995,229.158 424.941,229.158 426.886,229.158 428.831,229.158 430.777,229.158 432.722,229.158 434.668,229.158 436.613,229.158 438.558,229.158 440.504,229.158 442.449,229.158 444.395,229.158 446.34,229.158 448.285,229.158 450.231,229.158 452.176,229.158 454.121,229.158 456.067,229.158 458.012,242.512 459.958,264.101 461.903,264.101 463.848,264.101 465.794,264.101 467.739,264.101 469.684,264.101 471.63,264.101 473.575,264.101 475.521,264.101 477.466,264.101 479.411,264.101 481.357,264.101 483.302,275.475 485.248,275.475 487.193,275.475 489.138,275.475 491.084,275.475 493.029,275.475 494.974,275.475 496.92,275.475 498.865,275.475 500.811,275.475 502.756,275.475 504.701,614.892 506.647,614.892 508.592,614.892 510.538,614.892 512.483,614.892 514.428,627.667 516.374,648.925 518.319,648.925 520.264,648.925 522.21,648.925 524.155,648.925 526.101,648.925 528.046,648.925 529.991,648.925 531.937,648.925 533.882,648.925 535.827,648.925 537.773,648.925 539.718,648.925 541.664,648.925 543.609,648.925 545.554,648.925 547.5,648.925 549.445,648.925 551.391,648.925 553.336,648.925 555.281,711.473 557.227,711.473 559.172,711.473 561.117,711.473 563.063,711.473 565.008,711.473 566.954,711.476 568.899,711.476 570.844,777.211 572.79,797.128 574.735,797.128 576.681,797.128 578.626,797.128 580.571,797.128 582.517,797.128 584.462,797.128 586.407,797.128 588.353,797.128 590.298,797.128 592.244,797.128 594.189,797.128 596.134,797.128 598.08,797.128 600.025,845.744 601.97,845.744 603.916,845.744 605.861,845.744 607.807,845.744 609.752,845.744 611.697,845.744 613.643,845.744 615.588,845.744 617.534,845.744 619.479,845.744 621.424,845.744 623.37,845.744 625.315,845.744 627.26,845.744 629.206,845.744 631.151,845.744 633.097,845.744 635.042,845.744 636.987,845.744 638.933,845.744 640.878,845.744 642.823,845.744 644.769,851.486 646.714,895.22 648.66,895.22 650.605,895.22 652.55,895.22 654.496,895.22 656.441,895.22 658.387,895.22 660.332,925.217 662.277,925.217 664.223,925.217 666.168,925.217 668.113,925.217 670.059,925.217 672.004,925.217 673.95,925.217 675.895,925.217 677.84,925.217 679.786,925.217 681.731,925.217 683.677,925.217 685.622,925.217 687.567,925.217 689.513,925.217 691.458,925.217 693.403,925.217 695.349,925.217 697.294,925.217 699.24,925.217 701.185,925.217 703.13,925.217 705.076,955.361 707.021,955.361 708.966,955.361 710.912,977.047 712.857,977.047 714.803,984.214 716.748,984.214 718.693,984.214 720.639,984.214 722.584,984.214 724.53,984.214 726.475,984.214 728.42,984.214 730.366,984.214 732.311,984.214 734.256,985.269 736.202,985.269 738.147,985.269 740.093,985.269 742.038,985.269 743.983,985.269 745.929,985.269 747.874,985.269 749.82,985.269 751.765,985.269 753.71,1016.36 755.656,1016.36 757.601,1016.36 759.546,1016.36 761.492,1016.36 763.437,1016.36 765.383,1016.36 767.328,1023.22 769.273,1033.61 771.219,1033.61 773.164,1033.61 775.109,1033.61 777.055,1033.61 779,1033.61 780.946,1040.51 782.891,1040.51 784.836,1040.51 786.782,1040.51 788.727,1040.51 790.673,1040.51 792.618,1040.51 794.563,1040.51 796.509,1040.51 798.454,1040.51 800.399,1040.51 802.345,1040.51 804.29,1040.51 806.236,1040.51 808.181,1040.51 810.126,1054.89 812.072,1054.89 814.017,1054.89 815.962,1054.89 817.908,1054.89 819.853,1054.89 821.799,1054.89 823.744,1054.89 825.689,1054.89 827.635,1054.89 829.58,1054.89 831.526,1054.89 833.471,1054.89 835.416,1054.89 837.362,1054.89 839.307,1054.89 841.252,1054.89 843.198,1054.89 845.143,1054.89 847.089,1054.89 849.034,1054.89 850.979,1054.89 852.925,1054.89 854.87,1054.89 856.816,1054.89 858.761,1054.89 860.706,1054.89 862.652,1054.89 864.597,1054.89 866.542,1054.89 868.488,1054.89 870.433,1054.89 872.379,1054.89 874.324,1054.89 876.269,1054.89 878.215,1054.89 880.16,1054.89 882.105,1054.89 884.051,1054.89 885.996,1054.89 887.942,1054.89 889.887,1054.89 891.832,1054.89 893.778,1054.89 895.723,1054.89 897.669,1054.89 899.614,1054.89 901.559,1054.89 903.505,1054.89 905.45,1061.94 907.395,1061.94 909.341,1061.94 911.286,1061.94 913.232,1061.94 915.177,1061.94 917.122,1061.94 919.068,1061.94 921.013,1061.94 922.959,1061.94 924.904,1061.94 926.849,1061.94 928.795,1061.94 930.74,1061.94 932.685,1061.94 934.631,1061.94 936.576,1061.94 938.522,1061.94 940.467,1061.94 942.412,1061.94 944.358,1061.94 946.303,1061.94 948.248,1063.8 950.194,1063.8 952.139,1063.8 954.085,1063.8 956.03,1063.8 957.975,1063.8 959.921,1063.8 961.866,1063.8 963.812,1063.8 965.757,1063.8 967.702,1065.72 969.648,1065.72 971.593,1070.78 973.538,1070.78 975.484,1070.78 977.429,1070.78 979.375,1070.78 981.32,1070.78 983.265,1070.78 985.211,1070.78 987.156,1070.78 989.101,1070.78 991.047,1070.78 992.992,1070.78 994.938,1070.78 996.883,1070.78 998.828,1070.78 1000.77,1070.78 1002.72,1070.78 1004.66,1070.78 1006.61,1070.78 1008.56,1070.78 1010.5,1070.78 1012.45,1070.78 1014.39,1070.78 1016.34,1070.78 1018.28,1070.78 1020.23,1070.78 1022.17,1070.78 1024.12,1081.65 1026.06,1081.65 1028.01,1081.65 1029.95,1081.65 1031.9,1081.65 1033.85,1081.65 1035.79,1081.65 1037.74,1081.65 1039.68,1081.65 1041.63,1081.65 1043.57,1081.65 1045.52,1081.65 1047.46,1101.98 1049.41,1101.98 1051.35,1101.98 1053.3,1101.98 1055.24,1101.98 1057.19,1101.98 1059.14,1101.98 1061.08,1101.98 1063.03,1101.98 1064.97,1101.98 1066.92,1101.98 1068.86,1101.98 1070.81,1101.98 1072.75,1101.98 1074.7,1101.98 1076.64,1101.98 1078.59,1101.98 1080.53,1101.98 1082.48,1101.98 1084.43,1142.46 1086.37,1142.46 1088.32,1142.46 1090.26,1142.46 1092.21,1142.46 1094.15,1142.46 1096.1,1142.46 1098.04,1142.46 1099.99,1142.46 1101.93,1142.46 1103.88,1142.46 1105.82,1142.46 1107.77,1142.46 1109.72,1142.46 1111.66,1142.46 1113.61,1160.59 1115.55,1160.59 1117.5,1160.59 1119.44,1160.59 1121.39,1160.59 1123.33,1160.59 1125.28,1160.59 1127.22,1160.59 1129.17,1160.59 1131.11,1160.59 1133.06,1160.59 1135.01,1160.59 1136.95,1160.59 1138.9,1160.59 1140.84,1160.59 1142.79,1160.59 1144.73,1168.79 1146.68,1168.79 1148.62,1168.79 1150.57,1168.79 1152.51,1168.79 1154.46,1168.79 1156.4,1168.79 1158.35,1168.79 1160.3,1168.79 1162.24,1168.79 1164.19,1168.79 1166.13,1168.79 1168.08,1168.79 1170.02,1168.79 1171.97,1168.79 1173.91,1168.79 1175.86,1168.79 1177.8,1168.79 1179.75,1168.79 1181.69,1168.79 1183.64,1168.79 1185.59,1168.79 1187.53,1168.79 1189.48,1168.79 1191.42,1168.79 1193.37,1168.79 1195.31,1168.79 1197.26,1168.79 1199.2,1178.91 1201.15,1178.91 1203.09,1178.91 1205.04,1178.91 1206.98,1178.91 1208.93,1178.91 1210.88,1178.91 1212.82,1178.91 1214.77,1178.91 1216.71,1178.91 1218.66,1178.91 1220.6,1178.91 1222.55,1178.91 1224.49,1178.91 1226.44,1178.91 1228.38,1178.91 1230.33,1178.91 1232.27,1178.91 1234.22,1178.91 1236.17,1178.91 1238.11,1178.91 1240.06,1178.91 1242,1178.91 1243.95,1178.91 1245.89,1178.91 1247.84,1178.91 1249.78,1178.91 1251.73,1178.91 1253.67,1178.91 1255.62,1178.91 1257.56,1178.91 1259.51,1216.53 1261.45,1216.53 1263.4,1216.53 1265.35,1216.53 1267.29,1216.53 1269.24,1216.53 1271.18,1216.53 1273.13,1216.53 1275.07,1227.72 1277.02,1227.72 1278.96,1227.72 1280.91,1227.72 1282.85,1227.72 1284.8,1227.72 1286.74,1227.72 1288.69,1227.72 1290.64,1227.72 1292.58,1227.72 1294.53,1227.72 1296.47,1227.72 1298.42,1227.72 1300.36,1227.72 1302.31,1227.72 1304.25,1251.89 1306.2,1251.89 1308.14,1251.89 1310.09,1251.89 1312.03,1251.89 1313.98,1251.89 1315.93,1251.89 1317.87,1251.89 1319.82,1251.89 1321.76,1251.89 1323.71,1251.89 1325.65,1251.89 1327.6,1251.89 1329.54,1251.89 1331.49,1251.89 1333.43,1262.23 1335.38,1262.23 1337.32,1262.23 1339.27,1262.23 1341.22,1262.23 1343.16,1262.23 1345.11,1262.23 1347.05,1262.23 1349,1262.23 1350.94,1262.23 1352.89,1264.19 1354.83,1264.19 1356.78,1264.19 1358.72,1264.19 1360.67,1264.19 1362.61,1264.19 1364.56,1264.19 1366.51,1264.19 1368.45,1264.19 1370.4,1264.26 1372.34,1264.26 1374.29,1264.26 1376.23,1264.26 1378.18,1264.26 1380.12,1264.26 1382.07,1264.26 1384.01,1264.26 1385.96,1264.26 1387.9,1264.26 1389.85,1264.26 1391.8,1264.26 1393.74,1264.26 1395.69,1271.22 1397.63,1271.22 1399.58,1271.22 1401.52,1271.22 1403.47,1271.22 1405.41,1271.22 1407.36,1271.22 1409.3,1271.22 1411.25,1271.22 1413.19,1271.22 1415.14,1271.22 1417.09,1271.22 1419.03,1271.22 1420.98,1271.22 1422.92,1271.22 1424.87,1271.22 1426.81,1300.98 1428.76,1307.79 1430.7,1307.79 1432.65,1307.79 1434.59,1307.79 1436.54,1307.79 1438.48,1307.79 1440.43,1307.79 1442.38,1307.79 1444.32,1307.79 1446.27,1307.79 1448.21,1307.79 1450.16,1307.79 1452.1,1307.79 1454.05,1307.79 1455.99,1307.79 1457.94,1307.79 1459.88,1307.79 1461.83,1307.79 1463.77,1307.79 1465.72,1307.79 1467.67,1307.79 1469.61,1307.79 1471.56,1307.79 1473.5,1307.79 1475.45,1307.79 1477.39,1307.79 1479.34,1307.79 1481.28,1307.79 1483.23,1307.79 1485.17,1307.79 1487.12,1307.79 1489.06,1307.79 1491.01,1307.79 1492.96,1307.79 1494.9,1307.79 1496.85,1316.93 1498.79,1316.93 1500.74,1316.93 1502.68,1316.93 1504.63,1316.93 1506.57,1316.93 1508.52,1316.93 1510.46,1316.93 1512.41,1316.93 1514.35,1316.93 1516.3,1316.93 1518.25,1316.93 1520.19,1316.93 1522.14,1316.93 1524.08,1316.93 1526.03,1316.93 1527.97,1316.93 1529.92,1316.93 1531.86,1316.93 1533.81,1316.93 1535.75,1316.93 1537.7,1316.93 1539.64,1316.93 1541.59,1316.93 1543.54,1316.93 1545.48,1316.93 1547.43,1316.93 1549.37,1316.93 1551.32,1316.93 1553.26,1316.93 1555.21,1316.93 1557.15,1316.93 1559.1,1316.93 1561.04,1316.93 1562.99,1316.93 1564.93,1316.93 1566.88,1316.93 1568.83,1316.93 1570.77,1316.93 1572.72,1316.93 1574.66,1316.93 1576.61,1316.93 1578.55,1316.93 1580.5,1316.93 1582.44,1316.93 1584.39,1316.93 1586.33,1316.93 1588.28,1316.93 1590.22,1316.93 1592.17,1316.93 1594.12,1316.93 1596.06,1316.93 1598.01,1316.93 1599.95,1316.93 1601.9,1316.93 1603.84,1316.93 1605.79,1316.93 1607.73,1316.93 1609.68,1316.93 1611.62,1316.93 1613.57,1316.93 1615.51,1316.93 1617.46,1316.93 1619.41,1316.93 1621.35,1316.93 1623.3,1316.93 1625.24,1316.93 1627.19,1316.93 1629.13,1316.93 1631.08,1316.93 1633.02,1316.93 1634.97,1316.93 1636.91,1316.93 1638.86,1340.88 1640.8,1340.88 1642.75,1340.88 1644.7,1340.88 1646.64,1342.55 1648.59,1342.55 1650.53,1342.55 1652.48,1342.55 1654.42,1342.55 1656.37,1342.55 1658.31,1345.2 1660.26,1345.2 1662.2,1345.2 1664.15,1345.2 1666.09,1345.2 1668.04,1345.2 1669.99,1352.63 1671.93,1352.63 1673.88,1352.63 1675.82,1352.63 1677.77,1352.63 1679.71,1352.63 1681.66,1352.63 1683.6,1352.63 1685.55,1352.63 1687.49,1352.63 1689.44,1352.63 1691.38,1352.63 1693.33,1352.63 1695.28,1352.63 1697.22,1352.63 1699.17,1352.63 1701.11,1352.63 1703.06,1352.63 1705,1352.63 1706.95,1352.63 1708.89,1352.63 1710.84,1352.63 1712.78,1368.98 1714.73,1368.98 1716.67,1368.98 1718.62,1368.98 1720.57,1368.98 1722.51,1368.98 1724.46,1368.98 1726.4,1368.98 1728.35,1368.98 1730.29,1368.98 1732.24,1368.98 1734.18,1368.98 1736.13,1368.98 1738.07,1368.98 1740.02,1371.45 1741.96,1371.45 1743.91,1371.45 1745.86,1371.45 1747.8,1371.45 1749.75,1371.45 1751.69,1371.45 1753.64,1371.45 1755.58,1371.45 1757.53,1371.45 1759.47,1371.45 1761.42,1371.45 1763.36,1371.45 1765.31,1371.45 1767.25,1371.45 1769.2,1371.45 1771.15,1371.45 1773.09,1371.45 1775.04,1371.45 1776.98,1371.45 1778.93,1371.45 1780.87,1371.45 1782.82,1371.45 1784.76,1371.45 1786.71,1371.45 1788.65,1371.45 1790.6,1371.45 1792.54,1371.45 1794.49,1371.45 1796.44,1371.45 1798.38,1371.45 1800.33,1371.45 1802.27,1371.45 1804.22,1371.45 1806.16,1371.45 1808.11,1378.72 1810.05,1378.72 1812,1378.72 1813.94,1378.72 1815.89,1378.72 1817.83,1378.72 1819.78,1378.72 1821.72,1378.72 1823.67,1378.72 1825.62,1378.72 1827.56,1378.72 1829.51,1378.72 1831.45,1378.72 1833.4,1378.72 1835.34,1378.72 1837.29,1378.72 1839.23,1378.72 1841.18,1378.72 1843.12,1378.72 1845.07,1378.72 1847.01,1378.72 1848.96,1378.72 1850.91,1378.72 1852.85,1385.19 1854.8,1385.19 1856.74,1385.19 1858.69,1385.19 1860.63,1385.19 1862.58,1385.19 1864.52,1385.19 1866.47,1385.19 1868.41,1385.19 1870.36,1385.19 1872.3,1385.19 1874.25,1385.19 1876.2,1385.19 1878.14,1385.19 1880.09,1385.19 1882.03,1385.19 1883.98,1385.19 1885.92,1385.19 1887.87,1385.78 1889.81,1385.78 1891.76,1385.78 1893.7,1385.78 1895.65,1385.78 1897.59,1385.78 1899.54,1385.78 1901.49,1385.78 1903.43,1385.78 1905.38,1385.78 1907.32,1385.78 1909.27,1385.78 1911.21,1385.78 1913.16,1385.78 1915.1,1385.78 1917.05,1385.78 1918.99,1385.78 1920.94,1385.78 1922.88,1385.78 1924.83,1385.78 1926.78,1385.78 1928.72,1385.78 1930.67,1385.78 1932.61,1385.78 1934.56,1385.78 1936.5,1385.78 1938.45,1385.78 1940.39,1385.78 1942.34,1385.78 1944.28,1385.78 1946.23,1385.78 1948.17,1385.78 1950.12,1385.78 1952.07,1385.78 1954.01,1385.78 1955.96,1385.78 1957.9,1385.78 1959.85,1385.78 1961.79,1385.78 1963.74,1385.78 1965.68,1385.78 1967.63,1385.78 1969.57,1385.78 1971.52,1385.78 1973.46,1385.78 1975.41,1385.78 1977.36,1385.78 1979.3,1385.78 1981.25,1385.78 1983.19,1385.78 1985.14,1385.78 1987.08,1385.78 1989.03,1385.78 1990.97,1385.78 1992.92,1385.78 1994.86,1385.78 1996.81,1385.78 1998.75,1385.78 2000.7,1385.78 2002.65,1385.78 2004.59,1385.78 2006.54,1385.78 2008.48,1385.78 2010.43,1385.78 2012.37,1385.78 2014.32,1385.78 2016.26,1385.78 2018.21,1385.78 2020.15,1385.78 2022.1,1385.78 2024.04,1385.78 2025.99,1385.78 2027.94,1385.78 2029.88,1385.78 2031.83,1385.78 2033.77,1385.78 2035.72,1385.78 2037.66,1385.78 2039.61,1385.78 2041.55,1385.78 2043.5,1385.78 2045.44,1385.78 2047.39,1385.78 2049.33,1385.78 2051.28,1385.78 2053.23,1385.78 2055.17,1385.78 2057.12,1385.78 2059.06,1385.78 2061.01,1385.78 2062.95,1385.78 2064.9,1385.78 2066.84,1385.78 2068.79,1385.78 2070.73,1385.78 2072.68,1385.78 2074.62,1385.78 2076.57,1385.78 2078.52,1385.78 2080.46,1385.78 2082.41,1385.78 2084.35,1385.78 2086.3,1385.78 2088.24,1385.78 2090.19,1385.78 2092.13,1385.78 2094.08,1385.78 2096.02,1385.78 2097.97,1385.78 2099.91,1385.78 2101.86,1385.78 2103.81,1385.78 2105.75,1385.78 2107.7,1385.78 2109.64,1385.78 2111.59,1385.78 2113.53,1385.78 2115.48,1385.78 2117.42,1385.78 2119.37,1385.78 2121.31,1385.78 2123.26,1385.78 2125.2,1385.78 2127.15,1385.78 2129.1,1385.78 2131.04,1385.78 2132.99,1385.78 2134.93,1385.78 2136.88,1385.78 2138.82,1385.78 2140.77,1385.78 2142.71,1385.78 2144.66,1385.78 2146.6,1386.4 2148.55,1386.4 2150.49,1386.4 2152.44,1386.4 2154.39,1386.4 2156.33,1386.4 2158.28,1386.4 2160.22,1386.4 2162.17,1386.4 2164.11,1386.4 2166.06,1386.4 2168,1386.4 2169.95,1386.4 2171.89,1386.4 2173.84,1386.4 2175.78,1386.4 2177.73,1386.4 2179.68,1386.4 2181.62,1386.4 2183.57,1386.4 2185.51,1386.4 2187.46,1386.4 2189.4,1386.4 2191.35,1386.4 2193.29,1386.4 2195.24,1386.4 2197.18,1386.4 2199.13,1386.4 2201.07,1386.4 2203.02,1386.4 2204.97,1386.4 2206.91,1386.4 2208.86,1386.4 2210.8,1386.4 2212.75,1386.4 2214.69,1386.4 2216.64,1386.4 2218.58,1386.4 2220.53,1386.4 2222.47,1386.4 2224.42,1386.4 2226.36,1386.4 2228.31,1386.4 2230.26,1386.4 2232.2,1386.4 2234.15,1386.4 2236.09,1386.4 2238.04,1386.4 2239.98,1386.4 2241.93,1386.4 2243.87,1386.4 2245.82,1386.4 2247.76,1386.4 2249.71,1386.4 2251.65,1386.4 2253.6,1386.4 2255.55,1386.4 2257.49,1386.4 2259.44,1386.4 2261.38,1386.4 2263.33,1386.4 2265.27,1386.4 2267.22,1386.4 2269.16,1386.4 2271.11,1386.4 2273.05,1386.4 2275,1386.4 2276.94,1386.4 2278.89,1386.4 2280.84,1386.4 2282.78,1386.4 2284.73,1386.4 2286.67,1386.4 2288.62,1386.4 2290.56,1386.4 2292.51,1386.4 2294.45,1386.4 \"/>\n",
       "<path clip-path=\"url(#clip380)\" d=\"M2025.65 270.476 L2284.09 270.476 L2284.09 166.796 L2025.65 166.796  Z\" fill=\"#ffffff\" fill-rule=\"evenodd\" fill-opacity=\"1\"/>\n",
       "<polyline clip-path=\"url(#clip380)\" style=\"stroke:#000000; stroke-linecap:round; stroke-linejoin:round; stroke-width:4; stroke-opacity:1; fill:none\" points=\"2025.65,270.476 2284.09,270.476 2284.09,166.796 2025.65,166.796 2025.65,270.476 \"/>\n",
       "<polyline clip-path=\"url(#clip380)\" style=\"stroke:#009af9; stroke-linecap:round; stroke-linejoin:round; stroke-width:4; stroke-opacity:1; fill:none\" points=\"2048.54,218.636 2185.88,218.636 \"/>\n",
       "<path clip-path=\"url(#clip380)\" d=\"M2222.61 238.323 Q2220.81 242.953 2219.09 244.365 Q2217.38 245.777 2214.51 245.777 L2211.11 245.777 L2211.11 242.212 L2213.61 242.212 Q2215.37 242.212 2216.34 241.379 Q2217.31 240.545 2218.49 237.443 L2219.25 235.499 L2208.77 209.99 L2213.28 209.99 L2221.38 230.268 L2229.49 209.99 L2234 209.99 L2222.61 238.323 Z\" fill=\"#000000\" fill-rule=\"nonzero\" fill-opacity=\"1\" /><path clip-path=\"url(#clip380)\" d=\"M2241.29 231.981 L2248.93 231.981 L2248.93 205.615 L2240.62 207.282 L2240.62 203.022 L2248.88 201.356 L2253.56 201.356 L2253.56 231.981 L2261.2 231.981 L2261.2 235.916 L2241.29 235.916 L2241.29 231.981 Z\" fill=\"#000000\" fill-rule=\"nonzero\" fill-opacity=\"1\" /></svg>\n"
      ]
     },
     "metadata": {},
     "output_type": "display_data"
    }
   ],
   "source": [
    "# Execution du programme\n",
    "\n",
    "L, S, costs, cost_f = metaheuristique(wind_scenarios, general_parameters, sub_sub_cable_types, land_substation_cable_types, substation_types)\n",
    "\n",
    "display(plot(1:1000, costs, xlabel=\"Itérations\", ylabel=\"Coût\", title=\"Évolution du coût\"))\n",
    "\n"
   ]
  },
  {
   "cell_type": "code",
   "execution_count": 24,
   "metadata": {},
   "outputs": [
    {
     "name": "stdout",
     "output_type": "stream",
     "text": [
      "7535.45636578126"
     ]
    }
   ],
   "source": [
    "print(costs[1000])"
   ]
  }
 ],
 "metadata": {
  "kernelspec": {
   "display_name": "Julia 1.9.4",
   "language": "julia",
   "name": "julia-1.9"
  },
  "language_info": {
   "file_extension": ".jl",
   "mimetype": "application/julia",
   "name": "julia",
   "version": "1.9.4"
  }
 },
 "nbformat": 4,
 "nbformat_minor": 2
}
