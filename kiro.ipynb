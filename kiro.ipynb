{
 "cells": [
  {
   "cell_type": "code",
   "execution_count": 1,
   "metadata": {},
   "outputs": [
    {
     "name": "stderr",
     "output_type": "stream",
     "text": [
      "\u001b[32m\u001b[1m    Updating\u001b[22m\u001b[39m registry at `C:\\Users\\flama\\.julia\\registries\\General.toml`\n"
     ]
    },
    {
     "name": "stderr",
     "output_type": "stream",
     "text": [
      "\u001b[32m\u001b[1m   Resolving\u001b[22m\u001b[39m package versions...\n"
     ]
    },
    {
     "name": "stderr",
     "output_type": "stream",
     "text": [
      "\u001b[32m\u001b[1m  No Changes\u001b[22m\u001b[39m to `C:\\Users\\flama\\.julia\\environments\\v1.8\\Project.toml`\n",
      "\u001b[32m\u001b[1m  No Changes\u001b[22m\u001b[39m to `C:\\Users\\flama\\.julia\\environments\\v1.8\\Manifest.toml`"
     ]
    },
    {
     "name": "stderr",
     "output_type": "stream",
     "text": [
      "\n"
     ]
    },
    {
     "name": "stderr",
     "output_type": "stream",
     "text": [
      "\u001b[32m\u001b[1m   Resolving\u001b[22m\u001b[39m package versions...\n"
     ]
    },
    {
     "name": "stderr",
     "output_type": "stream",
     "text": [
      "\u001b[32m\u001b[1m  No Changes\u001b[22m\u001b[39m to `C:\\Users\\flama\\.julia\\environments\\v1.8\\Project.toml`\n",
      "\u001b[32m\u001b[1m  No Changes\u001b[22m\u001b[39m to `C:\\Users\\flama\\.julia\\environments\\v1.8\\Manifest.toml`\n"
     ]
    }
   ],
   "source": [
    "import Pkg; Pkg.add(\"JSON\"); Pkg.add(\"Plots\")\n",
    "\n",
    "using JSON\n",
    "using Plots"
   ]
  },
  {
   "cell_type": "code",
   "execution_count": 2,
   "metadata": {},
   "outputs": [
    {
     "data": {
      "text/plain": [
       "Dict{String, Any} with 7 entries:\n",
       "  \"land_substation_cable_types\"       => Any[Dict{String, Any}(\"rating\"=>500, \"…\n",
       "  \"wind_turbines\"                     => Any[Dict{String, Any}(\"id\"=>1, \"x\"=>-5…\n",
       "  \"wind_scenarios\"                    => Any[Dict{String, Any}(\"power_generatio…\n",
       "  \"substation_locations\"              => Any[Dict{String, Any}(\"id\"=>1, \"x\"=>-1…\n",
       "  \"substation_types\"                  => Any[Dict{String, Any}(\"cost\"=>100000, …\n",
       "  \"general_parameters\"                => Dict{String, Any}(\"maximum_power\"=>100…\n",
       "  \"substation_substation_cable_types\" => Any[Dict{String, Any}(\"rating\"=>500, \"…"
      ]
     },
     "metadata": {},
     "output_type": "display_data"
    }
   ],
   "source": [
    "json_tiny = JSON.parsefile(\"KIRO-tiny.json\")\n"
   ]
  },
  {
   "cell_type": "code",
   "execution_count": 3,
   "metadata": {},
   "outputs": [
    {
     "data": {
      "text/plain": [
       "Dict{String, Any} with 7 entries:\n",
       "  \"land_substation_cable_types\"       => Any[Dict{String, Any}(\"rating\"=>200, \"…\n",
       "  \"wind_turbines\"                     => Any[Dict{String, Any}(\"id\"=>1, \"x\"=>79…\n",
       "  \"wind_scenarios\"                    => Any[Dict{String, Any}(\"power_generatio…\n",
       "  \"substation_locations\"              => Any[Dict{String, Any}(\"id\"=>1, \"x\"=>35…\n",
       "  \"substation_types\"                  => Any[Dict{String, Any}(\"cost\"=>300.0, \"…\n",
       "  \"general_parameters\"                => Dict{String, Any}(\"maximum_curtailing\"…\n",
       "  \"substation_substation_cable_types\" => Any[Dict{String, Any}(\"rating\"=>100, \"…"
      ]
     },
     "metadata": {},
     "output_type": "display_data"
    }
   ],
   "source": [
    "json_small = JSON.parsefile(\"KIRO-small.json\")"
   ]
  },
  {
   "cell_type": "code",
   "execution_count": 4,
   "metadata": {},
   "outputs": [
    {
     "data": {
      "text/plain": [
       "Dict{String, Any} with 7 entries:\n",
       "  \"land_substation_cable_types\"       => Any[Dict{String, Any}(\"rating\"=>200, \"…\n",
       "  \"wind_turbines\"                     => Any[Dict{String, Any}(\"id\"=>1, \"x\"=>78…\n",
       "  \"wind_scenarios\"                    => Any[Dict{String, Any}(\"power_generatio…\n",
       "  \"substation_locations\"              => Any[Dict{String, Any}(\"id\"=>1, \"x\"=>40…\n",
       "  \"substation_types\"                  => Any[Dict{String, Any}(\"cost\"=>300.0, \"…\n",
       "  \"general_parameters\"                => Dict{String, Any}(\"maximum_curtailing\"…\n",
       "  \"substation_substation_cable_types\" => Any[Dict{String, Any}(\"rating\"=>100, \"…"
      ]
     },
     "metadata": {},
     "output_type": "display_data"
    }
   ],
   "source": [
    "json_medium = JSON.parsefile(\"KIRO-medium.json\")"
   ]
  },
  {
   "cell_type": "code",
   "execution_count": 5,
   "metadata": {},
   "outputs": [
    {
     "data": {
      "text/plain": [
       "Dict{String, Any} with 7 entries:\n",
       "  \"land_substation_cable_types\"       => Any[Dict{String, Any}(\"rating\"=>200, \"…\n",
       "  \"wind_turbines\"                     => Any[Dict{String, Any}(\"id\"=>1, \"x\"=>78…\n",
       "  \"wind_scenarios\"                    => Any[Dict{String, Any}(\"power_generatio…\n",
       "  \"substation_locations\"              => Any[Dict{String, Any}(\"id\"=>1, \"x\"=>65…\n",
       "  \"substation_types\"                  => Any[Dict{String, Any}(\"cost\"=>240.0, \"…\n",
       "  \"general_parameters\"                => Dict{String, Any}(\"maximum_curtailing\"…\n",
       "  \"substation_substation_cable_types\" => Any[Dict{String, Any}(\"rating\"=>100, \"…"
      ]
     },
     "metadata": {},
     "output_type": "display_data"
    }
   ],
   "source": [
    "json_large = JSON.parsefile(\"KIRO-large.json\")"
   ]
  },
  {
   "cell_type": "code",
   "execution_count": 6,
   "metadata": {},
   "outputs": [
    {
     "data": {
      "text/plain": [
       "Dict{String, Any} with 7 entries:\n",
       "  \"land_substation_cable_types\"       => Any[Dict{String, Any}(\"rating\"=>200, \"…\n",
       "  \"wind_turbines\"                     => Any[Dict{String, Any}(\"id\"=>1, \"x\"=>79…\n",
       "  \"wind_scenarios\"                    => Any[Dict{String, Any}(\"power_generatio…\n",
       "  \"substation_locations\"              => Any[Dict{String, Any}(\"id\"=>1, \"x\"=>22…\n",
       "  \"substation_types\"                  => Any[Dict{String, Any}(\"cost\"=>240.0, \"…\n",
       "  \"general_parameters\"                => Dict{String, Any}(\"maximum_curtailing\"…\n",
       "  \"substation_substation_cable_types\" => Any[Dict{String, Any}(\"rating\"=>100, \"…"
      ]
     },
     "metadata": {},
     "output_type": "display_data"
    }
   ],
   "source": [
    "json_huge = JSON.parsefile(\"KIRO-huge.json\")"
   ]
  },
  {
   "cell_type": "code",
   "execution_count": 7,
   "metadata": {},
   "outputs": [
    {
     "data": {
      "text/plain": [
       "get_substation_substation_cable_types (generic function with 1 method)"
      ]
     },
     "metadata": {},
     "output_type": "display_data"
    }
   ],
   "source": [
    "# Get Functions\n",
    "\n",
    "function get_parameters(name_json)\n",
    "    general_parameters = name_json[\"general_parameters\"]\n",
    "    return general_parameters\n",
    "end\n",
    "\n",
    "function get_wind_turbines(name_json)\n",
    "    get_wind_turbines = name_json[\"wind_turbines\"]\n",
    "\n",
    "    return get_wind_turbines\n",
    "end\n",
    "\n",
    "function get_wind_scenarios(name_json)\n",
    "    get_wind_scenarios = name_json[\"wind_scenarios\"]\n",
    "    return get_wind_scenarios\n",
    "end\n",
    "\n",
    "function get_substation_locations(name_json)\n",
    "    get_substation_locations = name_json[\"substation_locations\"]\n",
    "    \n",
    "    return get_substation_locations\n",
    "end\n",
    "\n",
    "function get_substation_types(name_json)\n",
    "    get_substation_types = name_json[\"substation_types\"]\n",
    "\n",
    "    return get_substation_types\n",
    "end\n",
    "\n",
    "function get_land_substation_cable_types(name_json)\n",
    "    get_land_substation_cable_types = name_json[\"land_substation_cable_types\"]\n",
    "\n",
    "    return get_land_substation_cable_types\n",
    "end\n",
    "\n",
    "function get_substation_substation_cable_types(name_json)\n",
    "    get_substation_substation_cable_types = name_json[\"substation_substation_cable_types\"]\n",
    "\n",
    "    return get_substation_substation_cable_types\n",
    "end"
   ]
  },
  {
   "cell_type": "code",
   "execution_count": 20,
   "metadata": {},
   "outputs": [
    {
     "name": "stdout",
     "output_type": "stream",
     "text": [
      "[0, 0"
     ]
    },
    {
     "name": "stdout",
     "output_type": "stream",
     "text": [
      "]Any[[79.0, -6.0], [79.5, -6.0], [80.0, -6.0], [80.5, -6.0], [81.0, -6.0], [79.0, -5.5], [79.5, -5.5], [80.0, -5.5], [80.5, -5.5], [81.0, -5.5], [79.0, -5.0], [79.5, -5.0], [80.0, -5.0], [80.5, -5.0], [81.0, -5.0], [79.0, -4.5], [79.5, -4.5], [80.0, -4.5], [80.5, -4.5], [81.0, -4.5], [79.0, -4.0], [79.5, -4.0], [80.0, -4.0], [80.5, -4.0], [81.0, -4.0], [79.0, -3.5], [79.5, -3.5], [80.0, -3.5], [80.5, -3.5], [81.0, -3.5], [79.0, -3.0], [79.5, -3.0], [80.0, -3.0], [80.5, -3.0], [81.0, -3.0], [79.0, -2.5], [79.5, -2.5], [80.0, -2.5], [80.5, -2.5], [81.0, -2.5], [79.0, -2.0], [79.5, -2.0], [80.0, -2.0], [80.5, -2.0], [81.0, -2.0], [79.0, -1.5], [79.5, -1.5], [80.0, -1.5], [80.5, -1.5], [81.0, -1.5], [79.0, -1.0], [79.5, -1.0], [80.0, -1.0], [80.5, -1.0], [81.0, -1.0], [79.0, -0.5], [79.5, -0.5], [80.0, -0.5], [80.5, -0.5], [81.0, -0.5], [79.0, 0.0], [79.5, 0.0], [80.0, 0.0], [80.5, 0.0], [81.0, 0.0], [79.0, 0.5], [79.5, 0.5], [80.0, 0.5], [80.5, 0.5], [81.0, 0.5], [79.0, 1.0], [79.5, 1.0], [80.0, 1.0], [80.5, 1.0], [81.0, 1.0], [79.0, 1.5], [79.5, 1.5], [80.0, 1.5], [80.5, 1.5], [81.0, 1.5], [79.0, 2.0], [79.5, 2.0], [80.0, 2.0], [80.5, 2.0], [81.0, 2.0], [79.0, 2.5], [79.5, 2.5], [80.0, 2.5], [80.5, 2.5], [81.0, 2.5], [79.0, 3.0], [79.5, 3.0], [80.0, 3.0], [80.5, 3.0], [81.0, 3.0], [79.0, 3.5], [79.5, 3.5], [80.0, 3.5], [80.5, 3.5], [81.0, 3.5], [79.0, 4.0], [79.5, 4.0], ["
     ]
    },
    {
     "name": "stdout",
     "output_type": "stream",
     "text": [
      "80.0, 4.0], [80.5, 4.0], [81.0, 4.0], [79.0, 4.5], [79.5, 4.5], [80.0, 4.5], [80.5, 4.5], [81.0, 4.5], [79.0, 5.0], [79.5, 5.0], [80.0, 5.0], [80.5, 5.0], [81.0, 5.0], [79.0, 5.5], [79.5, 5.5], [80.0, 5.5], [80.5, 5.5], [81.0, 5.5], [79.0, 6.0], [79.5, 6.0], [80.0, 6.0], [80.5, 6.0], [81.0, 6.0]]"
     ]
    },
    {
     "name": "stdout",
     "output_type": "stream",
     "text": [
      "81"
     ]
    },
    {
     "data": {
      "text/plain": [
       "24-element Vector{Any}:\n",
       " Dict{String, Any}(\"rating\" => 100, \"variable_cost\" => 5.0, \"id\" => 1, \"fixed_cost\" => 100.0)\n",
       " Dict{String, Any}(\"rating\" => 200, \"variable_cost\" => 5.0, \"id\" => 2, \"fixed_cost\" => 100.0)\n",
       " Dict{String, Any}(\"rating\" => 300, \"variable_cost\" => 5.0, \"id\" => 3, \"fixed_cost\" => 100.0)\n",
       " Dict{String, Any}(\"rating\" => 500, \"variable_cost\" => 7.5, \"id\" => 4, \"fixed_cost\" => 125.0)\n",
       " Dict{String, Any}(\"rating\" => 750, \"variable_cost\" => 7.5, \"id\" => 5, \"fixed_cost\" => 125.0)\n",
       " Dict{String, Any}(\"rating\" => 900, \"variable_cost\" => 10.0, \"id\" => 6, \"fixed_cost\" => 125.0)\n",
       " Dict{String, Any}(\"rating\" => 1450, \"variable_cost\" => 12.5, \"id\" => 7, \"fixed_cost\" => 150.0)\n",
       " Dict{String, Any}(\"rating\" => 2400, \"variable_cost\" => 17.5, \"id\" => 8, \"fixed_cost\" => 150.0)\n",
       " Dict{String, Any}(\"rating\" => 100, \"variable_cost\" => 4.5, \"id\" => 9, \"fixed_cost\" => 90.0)\n",
       " Dict{String, Any}(\"rating\" => 200, \"variable_cost\" => 4.5, \"id\" => 10, \"fixed_cost\" => 90.0)\n",
       " ⋮\n",
       " Dict{String, Any}(\"rating\" => 2400, \"variable_cost\" => 15.75, \"id\" => 16, \"fixed_cost\" => 135.0)\n",
       " Dict{String, Any}(\"rating\" => 100, \"variable_cost\" => 4.25, \"id\" => 17, \"fixed_cost\" => 85.0)\n",
       " Dict{String, Any}(\"rating\" => 200, \"variable_cost\" => 4.25, \"id\" => 18, \"fixed_cost\" => 85.0)\n",
       " Dict{String, Any}(\"rating\" => 300, \"variable_cost\" => 4.25, \"id\" => 19, \"fixed_cost\" => 85.0)\n",
       " Dict{String, Any}(\"rating\" => 500, \"variable_cost\" => 6.375, \"id\" => 20, \"fixed_cost\" => 106.25)\n",
       " Dict{String, Any}(\"rating\" => 750, \"variable_cost\" => 6.375, \"id\" => 21, \"fixed_cost\" => 106.25)\n",
       " Dict{String, Any}(\"rating\" => 900, \"variable_cost\" => 8.5, \"id\" => 22, \"fixed_cost\" => 106.25)\n",
       " Dict{String, Any}(\"rating\" => 1450, \"variable_cost\" => 10.625, \"id\" => 23, \"fixed_cost\" => 127.5)\n",
       " Dict{String, Any}(\"rating\" => 2400, \"variable_cost\" => 14.875, \"id\" => 24, \"fixed_cost\" => 127.5)"
      ]
     },
     "metadata": {},
     "output_type": "display_data"
    }
   ],
   "source": [
    "#collectes des données utiles\n",
    "\n",
    "file = json_huge\n",
    "\n",
    "P_max = get_parameters(file)[\"maximum_power\"]\n",
    "coords_mls = get_parameters(file)[\"main_land_station\"]\n",
    "C_ft = get_parameters(file)[\"fixed_cost_cable\"]\n",
    "C_lt = get_parameters(file)[\"variable_cost_cable\"]\n",
    "C_0 = get_parameters(file)[\"curtailing_cost\"]\n",
    "C_p = get_parameters(file)[\"curtailing_penalty\"]\n",
    "C_max = get_parameters(file)[\"maximum_curtailing\"]\n",
    "general_parameters = Dict(\"maximum_power\" => P_max, \"main_land_station\" => coords_mls, \"fixed_cost_cable\" => C_ft, \"variable_cost_cable\" => C_lt, \"curtailing_cost\" => C_0, \"curtailing_penalty\" => C_p, \"maximum_curtailing\" => C_max)\n",
    "\n",
    "v_0 = [coords_mls[\"x\"], coords_mls[\"y\"]]\n",
    "\n",
    "print(v_0)\n",
    "\n",
    "wind_turbines = get_wind_turbines(file)\n",
    "x_turbines = [turbine[\"x\"] for turbine in wind_turbines]\n",
    "y_turbines = [turbine[\"y\"] for turbine in wind_turbines]\n",
    "\n",
    "V_t = []\n",
    "for i in 1:length(x_turbines)\n",
    "    push!(V_t,[x_turbines[i], y_turbines[i]])\n",
    "end\n",
    "\n",
    "print(V_t)\n",
    "\n",
    "wind_scenarios = get_wind_scenarios(file)\n",
    "\n",
    "substation_locations = get_substation_locations(file)\n",
    "x_substations = [substation[\"x\"] for substation in substation_locations]\n",
    "y_substations = [substation[\"y\"] for substation in substation_locations]\n",
    "\n",
    "V_s = []\n",
    "for i in 1:length(x_substations)\n",
    "    push!(V_s, [x_substations[i], y_substations[i]])\n",
    "end\n",
    "\n",
    "print(length(V_s))\n",
    "\n",
    "substation_types = get_substation_types(file)\n",
    "\n",
    "land_substation_cable_types = get_land_substation_cable_types(file)\n",
    "\n",
    "sub_sub_cable_types = get_substation_substation_cable_types(file)\n"
   ]
  },
  {
   "cell_type": "code",
   "execution_count": 9,
   "metadata": {},
   "outputs": [
    {
     "data": {
      "text/plain": [
       "cost (generic function with 1 method)"
      ]
     },
     "metadata": {},
     "output_type": "display_data"
    }
   ],
   "source": [
    "# Fonctions coûts \n",
    "\n",
    "function cost_turbines_substation(L, D1, general_parameters)\n",
    "    # L : vecteur liant turbines et sous-stations\n",
    "    # D1 : matrice des distances entre les turbines et les sous-stations\n",
    "    # general_parameters : paramètres généraux du problème\n",
    "\n",
    "    # On initialise le coût\n",
    "    cost = 0\n",
    "\n",
    "    # On calcule le coût de la liaison entre les turbines et les sous-stations\n",
    "    for i in 1:length(L)\n",
    "        cost += general_parameters[\"fixed_cost_cable\"] +D1[i,L[i]]*general_parameters[\"variable_cost_cable\"]\n",
    "    end\n",
    "\n",
    "    return cost\n",
    "end\n",
    "\n",
    "function cost_substation_substation(S, D2, substation_substation_cable_types)\n",
    "    # S : vecteur liant les sous-stations\n",
    "    # D2 : matrice des distances entre les sous-stations\n",
    "    # substation_substation_cable_types : types de câbles entre les sous-stations\n",
    "\n",
    "    # On initialise le coût\n",
    "    cost = 0\n",
    "\n",
    "    # On calcule le coût de la liaison entre les sous-stations\n",
    "    for i in 1:size(S, 1)\n",
    "        if S[i, 2] != 0 && S[i, 4] != 0\n",
    "            cost += substation_substation_cable_types[S[i, 4]][\"fixed_cost\"]+D2[i, S[i, 2]]*substation_substation_cable_types[S[i, 4]][\"variable_cost\"]\n",
    "        end\n",
    "    end\n",
    "    cost = cost/2\n",
    "\n",
    "    return cost\n",
    "end\n",
    "\n",
    "function cost_substation_land_substation(S, D3, land_substation_cable_types)\n",
    "    # S : vecteur liant les sous-stations\n",
    "    # D3 : vecteur des distances entre les sous-stations et la station terrestre\n",
    "    # land_substation_cable_types : types de câbles entre les sous-stations et la station terrestre\n",
    "\n",
    "    # On initialise le coût\n",
    "    cost = 0\n",
    "\n",
    "    # On calcule le coût de la liaison entre les sous-stations et la station terrestre\n",
    "    for i in 1:size(S, 1)\n",
    "        if S[i, 3] != 0\n",
    "            cost += land_substation_cable_types[S[i, 3]][\"fixed_cost\"]+D3[i]*land_substation_cable_types[S[i, 3]][\"variable_cost\"]\n",
    "        end\n",
    "    end\n",
    "\n",
    "    return cost\n",
    "end\n",
    "\n",
    "function cost_substation(S, substation_types)\n",
    "    # S : vecteur liant les sous-stations\n",
    "    # substation_types : types de sous-stations\n",
    "\n",
    "    # On initialise le coût\n",
    "    cost = 0\n",
    "\n",
    "    # On calcule le coût de construction des sous-stations\n",
    "    for i in 1:size(S, 1)\n",
    "        if S[i, 5] != 0\n",
    "            cost += substation_types[S[i, 5]][\"cost\"]\n",
    "        end\n",
    "    end\n",
    "\n",
    "    return cost\n",
    "end\n",
    "\n",
    "\n",
    "function c_c(C, general_parameters)\n",
    "\n",
    "    return general_parameters[\"curtailing_cost\"]*C + general_parameters[\"curtailing_penalty\"]*max(0,C-general_parameters[\"maximum_curtailing\"])\n",
    "end\n",
    "\n",
    "\n",
    "function C_f_aux(v, v1, w, wind_scenarios, S, substation_substation_cable_types, land_substation_cable_types, substation_types)\n",
    "    C_f_aux = 0\n",
    "\n",
    "    C_f_aux += wind_scenarios[w][\"power_generation\"]*S[v1, 1]\n",
    "\n",
    "    if S[v1, 2] == v && S[v1, 4] != 0\n",
    "        C_f_aux += min(substation_substation_cable_types[S[v1, 4]][\"rating\"], wind_scenarios[w][\"power_generation\"]*S[v, 1])\n",
    "    else\n",
    "        C_f_aux += min(0, wind_scenarios[w][\"power_generation\"]*S[v, 1])\n",
    "    end\n",
    "\n",
    "    if S[v1, 3] != 0\n",
    "        C_f_aux -= min(substation_types[S[v1, 5]][\"rating\"],land_substation_cable_types[S[v1, 3]][\"rating\"])\n",
    "    end\n",
    "\n",
    "    return C_f_aux\n",
    "end\n",
    "\n",
    "\n",
    "function C_f(v, w, wind_scenarios, S, substation_substation_cable_types, land_substation_cable_types, substation_types)\n",
    "    C_f = 0\n",
    "\n",
    "    if S[v, 2] != 0 && S[v, 4] != 0\n",
    "        C_f += max(0, wind_scenarios[w][\"power_generation\"]*S[v, 1]-substation_substation_cable_types[S[v, 4]][\"rating\"])\n",
    "    else\n",
    "        C_f += max(0, wind_scenarios[w][\"power_generation\"]*S[v, 1])\n",
    "    end\n",
    "\n",
    "    for i in 1:size(S, 1)\n",
    "        if S[i, 3] != 0\n",
    "            C_f += max(0, C_f_aux(v, i, w, wind_scenarios, S, substation_substation_cable_types, land_substation_cable_types, substation_types))\n",
    "        end\n",
    "    end\n",
    "\n",
    "    return C_f\n",
    "\n",
    "end\n",
    "\n",
    "\n",
    "function C_n(w, wind_scenarios, S, substation_substation_cable_types, land_substation_cable_types, substation_types)\n",
    "    \n",
    "    C_n = 0\n",
    "\n",
    "    for i in 1:size(S, 1)\n",
    "        if S[i, 3] != 0\n",
    "            C_n += max(0, wind_scenarios[w][\"power_generation\"]*S[i, 1]-min(substation_types[S[i, 5]][\"rating\"],land_substation_cable_types[S[i, 3]][\"rating\"]))\n",
    "        end\n",
    "    end\n",
    "\n",
    "    return C_n\n",
    "end\n",
    "    \n",
    "\n",
    "function p_f(v, S, land_substation_cable_types, substation_types)\n",
    "    p_f = 0\n",
    "\n",
    "    if S[v, 3] != 0\n",
    "        p_f += land_substation_cable_types[S[v, 3]][\"probability_of_failure\"]\n",
    "\n",
    "        p_f += substation_types[S[v, 5]][\"probability_of_failure\"]\n",
    "    end\n",
    "\n",
    "    return p_f\n",
    "end\n",
    "\n",
    "\n",
    "function operational_cost_aux(S, w, wind_scenarios, general_parameters, substation_substation_cable_types, land_substation_cable_types, substation_types)\n",
    "    cost1 = 0\n",
    "    cost2 = 0\n",
    "\n",
    "    for i in 1:size(S, 1)\n",
    "        cost1 += p_f(i, S, land_substation_cable_types, substation_types)*c_c(C_f(i, w, wind_scenarios, S, substation_substation_cable_types, land_substation_cable_types, substation_types), general_parameters)\n",
    "    end\n",
    "\n",
    "    for i in 1:size(S, 1)\n",
    "        cost2 += p_f(i, S, land_substation_cable_types, substation_types)\n",
    "    end\n",
    "    cost2 = (1 - cost2)*c_c(C_n(w, wind_scenarios, S, substation_substation_cable_types, land_substation_cable_types, substation_types),general_parameters)\n",
    "\n",
    "    return cost1 + cost2\n",
    "end\n",
    "\n",
    "function operational_cost(L, S, wind_scenarios, general_parameters, substation_substation_cable_types, land_substation_cable_types, substation_types)\n",
    "    # L : vecteur liant turbines et sous-stations\n",
    "    # S : vecteur liant les sous-stations\n",
    "    # wind_scenarios : scénarios de vent\n",
    "    # general_parameters : paramètres généraux du problème\n",
    "\n",
    "    # On initialise le coût\n",
    "    cost = 0\n",
    "\n",
    "    for w in 1:length(wind_scenarios)\n",
    "        cost += wind_scenarios[w][\"probability\"]*operational_cost_aux(S, w, wind_scenarios, general_parameters, substation_substation_cable_types, land_substation_cable_types, substation_types)\n",
    "        \n",
    "    end\n",
    "\n",
    "    return cost\n",
    "end\n",
    "\n",
    "function cost(L, S, D1, D2, D3, wind_scenarios, general_parameters, substation_substation_cable_types, land_substation_cable_types, substation_types)\n",
    "    # L : vecteur liant turbines et sous-stations\n",
    "    # S : vecteur liant les sous-stations\n",
    "    # D1 : matrice des distances entre les turbines et les sous-stations\n",
    "    # D2 : matrice des distances entre les sous-stations\n",
    "    # D3 : vecteur des distances entre les sous-stations et la station terrestre\n",
    "    # wind_scenarios : scénarios de vent\n",
    "    # general_parameters : paramètres généraux du problème\n",
    "    # substation_substation_cable_types : types de câbles entre les sous-stations\n",
    "    # land_substation_cable_types : types de câbles entre les sous-stations et la station terrestre\n",
    "    # substation_types : types de sous-stations\n",
    "\n",
    "    # On initialise le coût\n",
    "    cost = 0\n",
    "\n",
    "    # On calcule le coût de la liaison entre les turbines et les sous-stations\n",
    "    cost += cost_turbines_substation(L, D1, general_parameters)\n",
    "\n",
    "    # On calcule le coût de la liaison entre les sous-stations\n",
    "    cost += cost_substation_substation(S, D2, substation_substation_cable_types)\n",
    "\n",
    "    # On calcule le coût de la liaison entre les sous-stations et la station terrestre\n",
    "    cost += cost_substation_land_substation(S, D3, land_substation_cable_types)\n",
    "\n",
    "    # On calcule le coût de construction des sous-stations\n",
    "    cost += cost_substation(S, substation_types)\n",
    "\n",
    "    # On calcule le coût opérationnel\n",
    "    cost += operational_cost(L, S, wind_scenarios, general_parameters, substation_substation_cable_types, land_substation_cable_types, substation_types)\n",
    "\n",
    "    return cost\n",
    "end"
   ]
  },
  {
   "cell_type": "code",
   "execution_count": 10,
   "metadata": {},
   "outputs": [
    {
     "data": {
      "text/plain": [
       "distance (generic function with 1 method)"
      ]
     },
     "metadata": {},
     "output_type": "display_data"
    }
   ],
   "source": [
    "#  Création des matrices de distances des turbines aux sous-stations, des sous-stations à la station terrestre et des sous-stations entre elles\n",
    "\n",
    "function distance(V_t,V_s,v_0)\n",
    "    # V_t : vecteur des turbines\n",
    "    # V_s : vecteur des sous-stations\n",
    "    # v_0 : vecteur de la station terrestre\n",
    "    \n",
    "    # On initialise le vecteur des distances\n",
    "    D1 = zeros(length(V_t),length(V_s))\n",
    "    D2 = zeros(length(V_s),length(V_s))\n",
    "    D3 = zeros(length(V_s),1)\n",
    "\n",
    "    # On calcule les distances entre les turbines et les sous-stations, et entre les sous-stations et la station terrestre et entre les sous-stations\n",
    "    for i in 1:length(V_t)\n",
    "        for j in 1:length(V_s)\n",
    "            D1[i,j] = sqrt((V_t[i][1]-V_s[j][1])^2 + (V_t[i][2]-V_s[j][2])^2)\n",
    "        end\n",
    "    end\n",
    "\n",
    "    for i in 1:length(V_s)\n",
    "        for j in 1:length(V_s)\n",
    "            D2[i,j] = sqrt((V_s[i][1]-V_s[j][1])^2 + (V_s[i][2]-V_s[j][2])^2)\n",
    "        end\n",
    "        D2[i,i] = +Inf\n",
    "    end\n",
    "\n",
    "    for i in 1:length(V_s)\n",
    "        D3[i] = sqrt((V_s[i][1]-v_0[1])^2 + (V_s[i][2]-v_0[2])^2)\n",
    "    end\n",
    "\n",
    "    return D1,D2,D3\n",
    "end"
   ]
  },
  {
   "cell_type": "code",
   "execution_count": 11,
   "metadata": {},
   "outputs": [
    {
     "data": {
      "text/plain": [
       "heuristique_1 (generic function with 1 method)"
      ]
     },
     "metadata": {},
     "output_type": "display_data"
    }
   ],
   "source": [
    "function heuristique_1(D1, D2)\n",
    "    # D1 : matrice des distances entre les turbines et les sous-stations\n",
    "    # D2 : matrice des distances entre les sous-stations\n",
    "\n",
    "    # On initialise le vecteur liant turbines et sous-stations\n",
    "    L = zeros(Int, size(D1, 1), 1)\n",
    "\n",
    "    # On initialise le vecteur des sous-stations\n",
    "    S = zeros(Int, size(D2, 1), 5)\n",
    "\n",
    "    # On emplit ce vecteur en associant à chaque turbine la sous-station la plus proche\n",
    "    for i in 1:size(D1, 1)\n",
    "        L[i] = argmin(D1[i,:])\n",
    "        S[L[i], 1] += 1\n",
    "        S[L[i], 5] = 1\n",
    "        S[L[i], 3] = 1\n",
    "    end\n",
    "\n",
    "    # On emplit ce vecteur en associant à chaque sous-station présente dans L la sous-station la plus proche\n",
    "    for i in 1:length(L)\n",
    "        if S[L[i], 2] == 0 && S[argmin(D2[L[i],:]), 2] == 0\n",
    "            S[L[i], 2] = argmin(D2[L[i],:])\n",
    "            S[S[L[i], 2], 2] = L[i]\n",
    "            S[L[i], 4] = 1  \n",
    "            S[S[L[i], 2], 4] = 1\n",
    "        end\n",
    "    end\n",
    "\n",
    "    return L,S\n",
    "end"
   ]
  },
  {
   "cell_type": "code",
   "execution_count": 12,
   "metadata": {},
   "outputs": [
    {
     "data": {
      "text/plain": [
       "779988.2275462084"
      ]
     },
     "metadata": {},
     "output_type": "display_data"
    }
   ],
   "source": [
    "# on teste l'heuristique 1\n",
    "\n",
    "D1, D2, D3 = distance(V_t, V_s, v_0)\n",
    "L,S = heuristique_1(D1, D2)\n",
    "\n",
    "cost(L, S, D1, D2, D3, wind_scenarios, general_parameters, sub_sub_cable_types, land_substation_cable_types, substation_types)"
   ]
  },
  {
   "cell_type": "code",
   "execution_count": 13,
   "metadata": {},
   "outputs": [
    {
     "data": {
      "text/plain": [
       "voisinage_substation_substation (generic function with 1 method)"
      ]
     },
     "metadata": {},
     "output_type": "display_data"
    }
   ],
   "source": [
    "# Fonctions voisinages\n",
    "# Ces fonctions sont la base de la méta-heuristique ; elles effectuent les changements de lien entre turbines et sous-stations et entre sous-stations entre elles\n",
    "\n",
    "function voisinage_turbine_substation(L, S, D1, D2, D3, wind_scenarios, general_parameters, substation_substation_cable_types, land_substation_cable_types, substation_types)\n",
    "    # L : vecteur liant turbines et sous-stations\n",
    "    # S : vecteur liant les sous-stations\n",
    "    # D1 : matrice des distances entre les turbines et les sous-stations\n",
    "    # D2 : matrice des distances entre les sous-stations\n",
    "    # D3 : vecteur des distances entre les sous-stations et la station terrestre\n",
    "\n",
    "    # On choisit aléatoirement une turbine, notée n, on la lie avec la sous-station la plus proche de celle à laquelle est elle actuellement associée\n",
    "    new = rand(1:length(L))\n",
    "\n",
    "    S1 = copy(S)\n",
    "    L1 = copy(L)\n",
    "    \n",
    "    old = L[new]\n",
    "    linked_old = S[old, 2]\n",
    "\n",
    "    # On change la liaison entre la turbine et la sous-station en choisissant la sous-station la plus proche de l'ancienne sous-station\n",
    "    #L[new] = argmin(D2[old,:])\n",
    "    L[new] = rand(1:size(S, 1))\n",
    "    S[old, 1] -= 1\n",
    "\n",
    "    # Si la sous-station n'est plus reliée à aucune turbine, on la supprime\n",
    "    if S[old, 1] == 0\n",
    "        if linked_old != 0\n",
    "            if S[L[new], 2] == 0\n",
    "                S[L[new], 2] = linked_old\n",
    "                S[linked_old, 2] = L[new]\n",
    "                S[L[new], 4] = S[linked_old, 4]\n",
    "            else\n",
    "                S[linked_old, 2] = 0\n",
    "                S[linked_old, 4] = 0\n",
    "            end\n",
    "        end\n",
    "        S[old, 2] = 0\n",
    "        S[old, 3] = 0\n",
    "        S[old, 4] = 0\n",
    "        S[old, 5] = 0\n",
    "    end\n",
    "\n",
    "    if S[L[new], 1] == 0\n",
    "        S[L[new], 5] = substation_types[end][\"id\"]\n",
    "        S[L[new], 3] = land_substation_cable_types[end][\"id\"]\n",
    "    end\n",
    "\n",
    "    S[L[new], 1] += 1\n",
    "\n",
    "    if cost(L, S, D1, D2, D3, wind_scenarios, general_parameters, substation_substation_cable_types, land_substation_cable_types, substation_types) < cost(L1, S1, D1, D2, D3, wind_scenarios, general_parameters, substation_substation_cable_types, land_substation_cable_types, substation_types)\n",
    "        return L, S\n",
    "    else\n",
    "        return L1, S1\n",
    "    end\n",
    "end\n",
    "\n",
    "function voisinage_type_cables(L, S, D1, D2, D3, wind_scenarios, general_parameters, substation_substation_cable_types, land_substation_cable_types, substation_types)\n",
    "    # L : vecteur liant turbines et sous-stations\n",
    "    # S : vecteur liant les sous-stations\n",
    "    # D1 : matrice des distances entre les turbines et les sous-stations\n",
    "    # D2 : matrice des distances entre les sous-stations\n",
    "    # D3 : vecteur des distances entre les sous-stations et la station terrestre\n",
    "\n",
    "    # On choisit aléatoirement une sous-station créée, on modifie le type de câble entre cette sous-station et la station terrestre\n",
    "    S1 = copy(S)\n",
    "    L1 = copy(L)\n",
    "    turbine = rand(1:length(L))\n",
    "\n",
    "    substation = L[turbine]\n",
    "\n",
    "    new = rand(1:length(land_substation_cable_types))\n",
    "    S[substation, 5] = substation_types[new][\"id\"]\n",
    "\n",
    "    if cost(L, S, D1, D2, D3, wind_scenarios, general_parameters, substation_substation_cable_types, land_substation_cable_types, substation_types) < cost(L1, S1, D1, D2, D3, wind_scenarios, general_parameters, substation_substation_cable_types, land_substation_cable_types, substation_types)\n",
    "        return L, S\n",
    "    else\n",
    "        return L1, S1\n",
    "    end\n",
    "end\n",
    "\n",
    "function voisinage_type_substation(L, S, D1, D2, D3, wind_scenarios, general_parameters, substation_substation_cable_types, land_substation_cable_types, substation_types)\n",
    "    # L : vecteur liant turbines et sous-stations\n",
    "    # S : vecteur liant les sous-stations\n",
    "    # D1 : matrice des distances entre les turbines et les sous-stations\n",
    "    # D2 : matrice des distances entre les sous-stations\n",
    "    # D3 : vecteur des distances entre les sous-stations et la station terrestre\n",
    "\n",
    "    # On choisit aléatoirement une sous-station créée, on modifie le type de sous-station\n",
    "    S1 = copy(S)\n",
    "    L1 = copy(L)\n",
    "    turbine = rand(1:length(L))\n",
    "\n",
    "    substation = L[turbine]\n",
    "\n",
    "    new = rand(1:length(substation_types))\n",
    "    S[substation, 3] = substation_types[new][\"id\"]\n",
    "\n",
    "    if cost(L, S, D1, D2, D3, wind_scenarios, general_parameters, substation_substation_cable_types, land_substation_cable_types, substation_types) < cost(L1, S1, D1, D2, D3, wind_scenarios, general_parameters, substation_substation_cable_types, land_substation_cable_types, substation_types)\n",
    "        return L, S\n",
    "    else\n",
    "        return L1, S1\n",
    "    end\n",
    "end\n",
    "\n",
    "    \n",
    "\n",
    "function voisinage_substation_substation(L, S, D1, D2, D3, wind_scenarios, general_parameters, substation_substation_cable_types, land_substation_cable_types, substation_types)\n",
    "    # L : vecteur liant turbines et sous-stations\n",
    "    # S : vecteur liant les sous-stations\n",
    "    # D1 : matrice des distances entre les turbines et les sous-stations\n",
    "    # D2 : matrice des distances entre les sous-stations\n",
    "    # D3 : vecteur des distances entre les sous-stations et la station terrestre\n",
    "\n",
    "    # On choisit aléatoirement une sous-station, notée n, on la lie avec la sous-station la plus proche de celle à laquelle est elle actuellement associée\n",
    "    \n",
    "    L1 = copy(L)  # Use copy to create an independent copy of L\n",
    "    S1 = copy(S)  # Use copy to create an independent copy of S\n",
    "    substation = rand(1:size(S, 1))\n",
    "\n",
    "    old = S[substation, 2]\n",
    "\n",
    "    # Check if the substation is currently linked to a turbine\n",
    "    if old != 0\n",
    "        # Find the new substation linked to the nearest turbine (excluding the current substation)\n",
    "        new = L[argmin(D2[old, filter(x -> x != substation, L)])]\n",
    "\n",
    "        # Update connections based on the new assignment\n",
    "        if S[new, 2] != 0\n",
    "            S[S[new, 2], 2] = old\n",
    "            S[S[new, 2], 4] = S[old, 4]\n",
    "            S[old, 2] = S[new, 2]\n",
    "        else\n",
    "            S[old, 4] = 0\n",
    "            S[old, 2] = 0\n",
    "        end\n",
    "\n",
    "        S[new, 2] = substation\n",
    "        S[substation, 2] = new\n",
    "\n",
    "        S[new, 4] = substation_substation_cable_types[end][\"id\"]\n",
    "        S[substation, 4] = substation_substation_cable_types[end][\"id\"]\n",
    "    else\n",
    "        # Find the new substation linked to the nearest turbine\n",
    "        new = L[argmin(D2[substation, L])]\n",
    "\n",
    "        # Update connections based on the new assignment\n",
    "        if S[new, 2] != 0\n",
    "            S[S[new, 2], 4] = 0\n",
    "            S[S[new, 2], 2] = 0\n",
    "        end\n",
    "\n",
    "        S[substation, 2] = new\n",
    "        S[new, 2] = substation\n",
    "        S[substation, 4] = substation_substation_cable_types[end][\"id\"]\n",
    "        S[new, 4] = substation_substation_cable_types[end][\"id\"]\n",
    "    end\n",
    "\n",
    "    if cost(L, S, D1, D2, D3, wind_scenarios, general_parameters, substation_substation_cable_types, land_substation_cable_types, substation_types) > cost(L1, S1, D1, D2, D3, wind_scenarios, general_parameters, substation_substation_cable_types, land_substation_cable_types, substation_types)\n",
    "        return L, S\n",
    "    else\n",
    "        return L1, S1\n",
    "    end\n",
    "end\n"
   ]
  },
  {
   "cell_type": "code",
   "execution_count": 14,
   "metadata": {},
   "outputs": [
    {
     "name": "stdout",
     "output_type": "stream",
     "text": [
      "[24 8 1 1 1; 0 0 0 0 0; 0 0 0 0 0; 0 0 0 0 0; 0 0 0 0 0; 0 0 0 0 0; 0 0 0 0 0; 24 1 1 1 1; 0 0 0 0 0; 0 0 0 0 0; 0 0 0 0 0; 0 0 0 0 0; 0 0 0 0 0; 0 0 0 0 0; 24 29 1 21 1; 0 0 0 0 0; 0 0 0 0 0; 1 0 24 0 24; 0 0 0 0 0; 0 0 0 0 0; 0 0 0 0 0; 32 0 1 0 1; 0 0 0 0 0; 0 0 0 0 0; 0 0 0 0 0; 0 0 0 0 0; 0 0 0 0 0; 0 0 0 0 0; 23 15 1 21 1; 0 0 0 0 0; 0 0 0 0 0; 0 0 0 0 0; 0 0 0 0 0; 0 0 0 0 0; 0 0 0 0 0]"
     ]
    }
   ],
   "source": [
    "# test des fonctions voisinages\n",
    "\n",
    "L,S = voisinage_turbine_substation(L, S, D1, D2, D3, wind_scenarios, general_parameters, sub_sub_cable_types, land_substation_cable_types, substation_types)\n",
    "L, S = voisinage_substation_substation(L, S, D1, D2, D3, wind_scenarios, general_parameters, sub_sub_cable_types, land_substation_cable_types, substation_types)\n",
    "print(S)"
   ]
  },
  {
   "cell_type": "code",
   "execution_count": 25,
   "metadata": {},
   "outputs": [
    {
     "data": {
      "text/plain": [
       "metaheuristique (generic function with 1 method)"
      ]
     },
     "metadata": {},
     "output_type": "display_data"
    }
   ],
   "source": [
    "# Métaheuristique\n",
    "\n",
    "function metaheuristique(wind_scenarios, general_parameters, substation_substation_cable_types, land_substation_cable_types, substation_types)\n",
    "    D1, D2, D3 = distance(V_t,V_s,v_0)\n",
    "    L, S = heuristique_1(D1, D2)\n",
    "    costs = []\n",
    "    for i in 1:1000\n",
    "        if rand() < 0.5\n",
    "            L, S = voisinage_turbine_substation(L, S, D1, D2, D3, wind_scenarios, general_parameters, substation_substation_cable_types, land_substation_cable_types, substation_types)\n",
    "        else\n",
    "            if rand() < 0.5\n",
    "                L, S = voisinage_type_cables(L, S, D1, D2, D3, wind_scenarios, general_parameters, substation_substation_cable_types, land_substation_cable_types, substation_types)\n",
    "            else\n",
    "                L, S = voisinage_type_substation(L, S, D1, D2, D3, wind_scenarios, general_parameters, substation_substation_cable_types, land_substation_cable_types, substation_types)\n",
    "            end\n",
    "        end\n",
    "        new_cost = cost(L, S, D1, D2, D3, wind_scenarios, general_parameters, substation_substation_cable_types, land_substation_cable_types, substation_types)\n",
    "        push!(costs, new_cost)\n",
    "    end\n",
    "    final_cost = cost(L, S, D1, D2, D3, wind_scenarios, general_parameters, substation_substation_cable_types, land_substation_cable_types, substation_types)\n",
    "    return L, S, costs, final_cost\n",
    "end"
   ]
  },
  {
   "cell_type": "code",
   "execution_count": 26,
   "metadata": {},
   "outputs": [
    {
     "data": {
      "image/png": "[encoded data removed]",
      "image/svg+xml": [
       "<?xml version=\"1.0\" encoding=\"utf-8\"?>\n",
       "<svg xmlns=\"http://www.w3.org/2000/svg\" xmlns:xlink=\"http://www.w3.org/1999/xlink\" width=\"600\" height=\"400\" viewBox=\"0 0 2400 1600\">\n",
       "<defs>\n",
       "  <clipPath id=\"clip140\">\n",
       "    <rect x=\"0\" y=\"0\" width=\"2400\" height=\"1600\"/>\n",
       "  </clipPath>\n",
       "</defs>\n",
       "<path clip-path=\"url(#clip140)\" d=\"M0 1600 L2400 1600 L2400 0 L0 0  Z\" fill=\"#ffffff\" fill-rule=\"evenodd\" fill-opacity=\"1\"/>\n",
       "<defs>\n",
       "  <clipPath id=\"clip141\">\n",
       "    <rect x=\"480\" y=\"0\" width=\"1681\" height=\"1600\"/>\n",
       "  </clipPath>\n",
       "</defs>\n",
       "<path clip-path=\"url(#clip140)\" d=\"M292.713 1423.18 L2352.76 1423.18 L2352.76 123.472 L292.713 123.472  Z\" fill=\"#ffffff\" fill-rule=\"evenodd\" fill-opacity=\"1\"/>\n",
       "<defs>\n",
       "  <clipPath id=\"clip142\">\n",
       "    <rect x=\"292\" y=\"123\" width=\"2061\" height=\"1301\"/>\n",
       "  </clipPath>\n",
       "</defs>\n",
       "<polyline clip-path=\"url(#clip142)\" style=\"stroke:#000000; stroke-linecap:round; stroke-linejoin:round; stroke-width:2; stroke-opacity:0.1; fill:none\" points=\"347.122,1423.18 347.122,123.472 \"/>\n",
       "<polyline clip-path=\"url(#clip142)\" style=\"stroke:#000000; stroke-linecap:round; stroke-linejoin:round; stroke-width:2; stroke-opacity:0.1; fill:none\" points=\"736.588,1423.18 736.588,123.472 \"/>\n",
       "<polyline clip-path=\"url(#clip142)\" style=\"stroke:#000000; stroke-linecap:round; stroke-linejoin:round; stroke-width:2; stroke-opacity:0.1; fill:none\" points=\"1126.05,1423.18 1126.05,123.472 \"/>\n",
       "<polyline clip-path=\"url(#clip142)\" style=\"stroke:#000000; stroke-linecap:round; stroke-linejoin:round; stroke-width:2; stroke-opacity:0.1; fill:none\" points=\"1515.52,1423.18 1515.52,123.472 \"/>\n",
       "<polyline clip-path=\"url(#clip142)\" style=\"stroke:#000000; stroke-linecap:round; stroke-linejoin:round; stroke-width:2; stroke-opacity:0.1; fill:none\" points=\"1904.99,1423.18 1904.99,123.472 \"/>\n",
       "<polyline clip-path=\"url(#clip142)\" style=\"stroke:#000000; stroke-linecap:round; stroke-linejoin:round; stroke-width:2; stroke-opacity:0.1; fill:none\" points=\"2294.45,1423.18 2294.45,123.472 \"/>\n",
       "<polyline clip-path=\"url(#clip140)\" style=\"stroke:#000000; stroke-linecap:round; stroke-linejoin:round; stroke-width:4; stroke-opacity:1; fill:none\" points=\"292.713,1423.18 2352.76,1423.18 \"/>\n",
       "<polyline clip-path=\"url(#clip140)\" style=\"stroke:#000000; stroke-linecap:round; stroke-linejoin:round; stroke-width:4; stroke-opacity:1; fill:none\" points=\"347.122,1423.18 347.122,1404.28 \"/>\n",
       "<polyline clip-path=\"url(#clip140)\" style=\"stroke:#000000; stroke-linecap:round; stroke-linejoin:round; stroke-width:4; stroke-opacity:1; fill:none\" points=\"736.588,1423.18 736.588,1404.28 \"/>\n",
       "<polyline clip-path=\"url(#clip140)\" style=\"stroke:#000000; stroke-linecap:round; stroke-linejoin:round; stroke-width:4; stroke-opacity:1; fill:none\" points=\"1126.05,1423.18 1126.05,1404.28 \"/>\n",
       "<polyline clip-path=\"url(#clip140)\" style=\"stroke:#000000; stroke-linecap:round; stroke-linejoin:round; stroke-width:4; stroke-opacity:1; fill:none\" points=\"1515.52,1423.18 1515.52,1404.28 \"/>\n",
       "<polyline clip-path=\"url(#clip140)\" style=\"stroke:#000000; stroke-linecap:round; stroke-linejoin:round; stroke-width:4; stroke-opacity:1; fill:none\" points=\"1904.99,1423.18 1904.99,1404.28 \"/>\n",
       "<polyline clip-path=\"url(#clip140)\" style=\"stroke:#000000; stroke-linecap:round; stroke-linejoin:round; stroke-width:4; stroke-opacity:1; fill:none\" points=\"2294.45,1423.18 2294.45,1404.28 \"/>\n",
       "<path clip-path=\"url(#clip140)\" d=\"M347.122 1454.1 Q343.51 1454.1 341.682 1457.66 Q339.876 1461.2 339.876 1468.33 Q339.876 1475.44 341.682 1479.01 Q343.51 1482.55 347.122 1482.55 Q350.756 1482.55 352.561 1479.01 Q354.39 1475.44 354.39 1468.33 Q354.39 1461.2 352.561 1457.66 Q350.756 1454.1 347.122 1454.1 M347.122 1450.39 Q352.932 1450.39 355.987 1455 Q359.066 1459.58 359.066 1468.33 Q359.066 1477.06 355.987 1481.67 Q352.932 1486.25 347.122 1486.25 Q341.311 1486.25 338.233 1481.67 Q335.177 1477.06 335.177 1468.33 Q335.177 1459.58 338.233 1455 Q341.311 1450.39 347.122 1450.39 Z\" fill=\"#000000\" fill-rule=\"nonzero\" fill-opacity=\"1\" /><path clip-path=\"url(#clip140)\" d=\"M696.194 1481.64 L703.833 1481.64 L703.833 1455.28 L695.523 1456.95 L695.523 1452.69 L703.787 1451.02 L708.463 1451.02 L708.463 1481.64 L716.102 1481.64 L716.102 1485.58 L696.194 1485.58 L696.194 1481.64 Z\" fill=\"#000000\" fill-rule=\"nonzero\" fill-opacity=\"1\" /><path clip-path=\"url(#clip140)\" d=\"M735.546 1454.1 Q731.935 1454.1 730.106 1457.66 Q728.301 1461.2 728.301 1468.33 Q728.301 1475.44 730.106 1479.01 Q731.935 1482.55 735.546 1482.55 Q739.18 1482.55 740.986 1479.01 Q742.815 1475.44 742.815 1468.33 Q742.815 1461.2 740.986 1457.66 Q739.18 1454.1 735.546 1454.1 M735.546 1450.39 Q741.356 1450.39 744.412 1455 Q747.491 1459.58 747.491 1468.33 Q747.491 1477.06 744.412 1481.67 Q741.356 1486.25 735.546 1486.25 Q729.736 1486.25 726.657 1481.67 Q723.602 1477.06 723.602 1468.33 Q723.602 1459.58 726.657 1455 Q729.736 1450.39 735.546 1450.39 Z\" fill=\"#000000\" fill-rule=\"nonzero\" fill-opacity=\"1\" /><path clip-path=\"url(#clip140)\" d=\"M765.708 1454.1 Q762.097 1454.1 760.268 1457.66 Q758.463 1461.2 758.463 1468.33 Q758.463 1475.44 760.268 1479.01 Q762.097 1482.55 765.708 1482.55 Q769.342 1482.55 771.148 1479.01 Q772.976 1475.44 772.976 1468.33 Q772.976 1461.2 771.148 1457.66 Q769.342 1454.1 765.708 1454.1 M765.708 1450.39 Q771.518 1450.39 774.574 1455 Q777.652 1459.58 777.652 1468.33 Q777.652 1477.06 774.574 1481.67 Q771.518 1486.25 765.708 1486.25 Q759.898 1486.25 756.819 1481.67 Q753.764 1477.06 753.764 1468.33 Q753.764 1459.58 756.819 1455 Q759.898 1450.39 765.708 1450.39 Z\" fill=\"#000000\" fill-rule=\"nonzero\" fill-opacity=\"1\" /><path clip-path=\"url(#clip140)\" d=\"M1089.75 1481.64 L1106.07 1481.64 L1106.07 1485.58 L1084.12 1485.58 L1084.12 1481.64 Q1086.78 1478.89 1091.37 1474.26 Q1095.97 1469.61 1097.15 1468.27 Q1099.4 1465.74 1100.28 1464.01 Q1101.18 1462.25 1101.18 1460.56 Q1101.18 1457.8 1099.24 1456.07 Q1097.32 1454.33 1094.21 1454.33 Q1092.01 1454.33 1089.56 1455.09 Q1087.13 1455.86 1084.35 1457.41 L1084.35 1452.69 Q1087.18 1451.55 1089.63 1450.97 Q1092.08 1450.39 1094.12 1450.39 Q1099.49 1450.39 1102.69 1453.08 Q1105.88 1455.77 1105.88 1460.26 Q1105.88 1462.39 1105.07 1464.31 Q1104.28 1466.2 1102.18 1468.8 Q1101.6 1469.47 1098.5 1472.69 Q1095.39 1475.88 1089.75 1481.64 Z\" fill=\"#000000\" fill-rule=\"nonzero\" fill-opacity=\"1\" /><path clip-path=\"url(#clip140)\" d=\"M1125.88 1454.1 Q1122.27 1454.1 1120.44 1457.66 Q1118.64 1461.2 1118.64 1468.33 Q1118.64 1475.44 1120.44 1479.01 Q1122.27 1482.55 1125.88 1482.55 Q1129.51 1482.55 1131.32 1479.01 Q1133.15 1475.44 1133.15 1468.33 Q1133.15 1461.2 1131.32 1457.66 Q1129.51 1454.1 1125.88 1454.1 M1125.88 1450.39 Q1131.69 1450.39 1134.75 1455 Q1137.82 1459.58 1137.82 1468.33 Q1137.82 1477.06 1134.75 1481.67 Q1131.69 1486.25 1125.88 1486.25 Q1120.07 1486.25 1116.99 1481.67 Q1113.94 1477.06 1113.94 1468.33 Q1113.94 1459.58 1116.99 1455 Q1120.07 1450.39 1125.88 1450.39 Z\" fill=\"#000000\" fill-rule=\"nonzero\" fill-opacity=\"1\" /><path clip-path=\"url(#clip140)\" d=\"M1156.04 1454.1 Q1152.43 1454.1 1150.6 1457.66 Q1148.8 1461.2 1148.8 1468.33 Q1148.8 1475.44 1150.6 1479.01 Q1152.43 1482.55 1156.04 1482.55 Q1159.68 1482.55 1161.48 1479.01 Q1163.31 1475.44 1163.31 1468.33 Q1163.31 1461.2 1161.48 1457.66 Q1159.68 1454.1 1156.04 1454.1 M1156.04 1450.39 Q1161.85 1450.39 1164.91 1455 Q1167.99 1459.58 1167.99 1468.33 Q1167.99 1477.06 1164.91 1481.67 Q1161.85 1486.25 1156.04 1486.25 Q1150.23 1486.25 1147.15 1481.67 Q1144.1 1477.06 1144.1 1468.33 Q1144.1 1459.58 1147.15 1455 Q1150.23 1450.39 1156.04 1450.39 Z\" fill=\"#000000\" fill-rule=\"nonzero\" fill-opacity=\"1\" /><path clip-path=\"url(#clip140)\" d=\"M1489.28 1466.95 Q1492.64 1467.66 1494.51 1469.93 Q1496.41 1472.2 1496.41 1475.53 Q1496.41 1480.65 1492.89 1483.45 Q1489.37 1486.25 1482.89 1486.25 Q1480.72 1486.25 1478.4 1485.81 Q1476.11 1485.39 1473.66 1484.54 L1473.66 1480.02 Q1475.6 1481.16 1477.92 1481.74 Q1480.23 1482.32 1482.75 1482.32 Q1487.15 1482.32 1489.44 1480.58 Q1491.76 1478.84 1491.76 1475.53 Q1491.76 1472.48 1489.61 1470.77 Q1487.48 1469.03 1483.66 1469.03 L1479.63 1469.03 L1479.63 1465.19 L1483.84 1465.19 Q1487.29 1465.19 1489.12 1463.82 Q1490.95 1462.43 1490.95 1459.84 Q1490.95 1457.18 1489.05 1455.77 Q1487.18 1454.33 1483.66 1454.33 Q1481.74 1454.33 1479.54 1454.75 Q1477.34 1455.16 1474.7 1456.04 L1474.7 1451.88 Q1477.36 1451.14 1479.68 1450.77 Q1482.01 1450.39 1484.07 1450.39 Q1489.4 1450.39 1492.5 1452.83 Q1495.6 1455.23 1495.6 1459.35 Q1495.6 1462.22 1493.96 1464.21 Q1492.31 1466.18 1489.28 1466.95 Z\" fill=\"#000000\" fill-rule=\"nonzero\" fill-opacity=\"1\" /><path clip-path=\"url(#clip140)\" d=\"M1515.28 1454.1 Q1511.67 1454.1 1509.84 1457.66 Q1508.03 1461.2 1508.03 1468.33 Q1508.03 1475.44 1509.84 1479.01 Q1511.67 1482.55 1515.28 1482.55 Q1518.91 1482.55 1520.72 1479.01 Q1522.55 1475.44 1522.55 1468.33 Q1522.55 1461.2 1520.72 1457.66 Q1518.91 1454.1 1515.28 1454.1 M1515.28 1450.39 Q1521.09 1450.39 1524.14 1455 Q1527.22 1459.58 1527.22 1468.33 Q1527.22 1477.06 1524.14 1481.67 Q1521.09 1486.25 1515.28 1486.25 Q1509.47 1486.25 1506.39 1481.67 Q1503.33 1477.06 1503.33 1468.33 Q1503.33 1459.58 1506.39 1455 Q1509.47 1450.39 1515.28 1450.39 Z\" fill=\"#000000\" fill-rule=\"nonzero\" fill-opacity=\"1\" /><path clip-path=\"url(#clip140)\" d=\"M1545.44 1454.1 Q1541.83 1454.1 1540 1457.66 Q1538.19 1461.2 1538.19 1468.33 Q1538.19 1475.44 1540 1479.01 Q1541.83 1482.55 1545.44 1482.55 Q1549.07 1482.55 1550.88 1479.01 Q1552.71 1475.44 1552.71 1468.33 Q1552.71 1461.2 1550.88 1457.66 Q1549.07 1454.1 1545.44 1454.1 M1545.44 1450.39 Q1551.25 1450.39 1554.3 1455 Q1557.38 1459.58 1557.38 1468.33 Q1557.38 1477.06 1554.3 1481.67 Q1551.25 1486.25 1545.44 1486.25 Q1539.63 1486.25 1536.55 1481.67 Q1533.49 1477.06 1533.49 1468.33 Q1533.49 1459.58 1536.55 1455 Q1539.63 1450.39 1545.44 1450.39 Z\" fill=\"#000000\" fill-rule=\"nonzero\" fill-opacity=\"1\" /><path clip-path=\"url(#clip140)\" d=\"M1878.08 1455.09 L1866.27 1473.54 L1878.08 1473.54 L1878.08 1455.09 M1876.85 1451.02 L1882.73 1451.02 L1882.73 1473.54 L1887.66 1473.54 L1887.66 1477.43 L1882.73 1477.43 L1882.73 1485.58 L1878.08 1485.58 L1878.08 1477.43 L1862.48 1477.43 L1862.48 1472.92 L1876.85 1451.02 Z\" fill=\"#000000\" fill-rule=\"nonzero\" fill-opacity=\"1\" /><path clip-path=\"url(#clip140)\" d=\"M1905.39 1454.1 Q1901.78 1454.1 1899.95 1457.66 Q1898.15 1461.2 1898.15 1468.33 Q1898.15 1475.44 1899.95 1479.01 Q1901.78 1482.55 1905.39 1482.55 Q1909.03 1482.55 1910.83 1479.01 Q1912.66 1475.44 1912.66 1468.33 Q1912.66 1461.2 1910.83 1457.66 Q1909.03 1454.1 1905.39 1454.1 M1905.39 1450.39 Q1911.2 1450.39 1914.26 1455 Q1917.34 1459.58 1917.34 1468.33 Q1917.34 1477.06 1914.26 1481.67 Q1911.2 1486.25 1905.39 1486.25 Q1899.58 1486.25 1896.5 1481.67 Q1893.45 1477.06 1893.45 1468.33 Q1893.45 1459.58 1896.5 1455 Q1899.58 1450.39 1905.39 1450.39 Z\" fill=\"#000000\" fill-rule=\"nonzero\" fill-opacity=\"1\" /><path clip-path=\"url(#clip140)\" d=\"M1935.55 1454.1 Q1931.94 1454.1 1930.11 1457.66 Q1928.31 1461.2 1928.31 1468.33 Q1928.31 1475.44 1930.11 1479.01 Q1931.94 1482.55 1935.55 1482.55 Q1939.19 1482.55 1940.99 1479.01 Q1942.82 1475.44 1942.82 1468.33 Q1942.82 1461.2 1940.99 1457.66 Q1939.19 1454.1 1935.55 1454.1 M1935.55 1450.39 Q1941.36 1450.39 1944.42 1455 Q1947.5 1459.58 1947.5 1468.33 Q1947.5 1477.06 1944.42 1481.67 Q1941.36 1486.25 1935.55 1486.25 Q1929.74 1486.25 1926.66 1481.67 Q1923.61 1477.06 1923.61 1468.33 Q1923.61 1459.58 1926.66 1455 Q1929.74 1450.39 1935.55 1450.39 Z\" fill=\"#000000\" fill-rule=\"nonzero\" fill-opacity=\"1\" /><path clip-path=\"url(#clip140)\" d=\"M2254.07 1451.02 L2272.43 1451.02 L2272.43 1454.96 L2258.35 1454.96 L2258.35 1463.43 Q2259.37 1463.08 2260.39 1462.92 Q2261.41 1462.73 2262.43 1462.73 Q2268.21 1462.73 2271.59 1465.9 Q2274.97 1469.08 2274.97 1474.49 Q2274.97 1480.07 2271.5 1483.17 Q2268.03 1486.25 2261.71 1486.25 Q2259.53 1486.25 2257.27 1485.88 Q2255.02 1485.51 2252.61 1484.77 L2252.61 1480.07 Q2254.7 1481.2 2256.92 1481.76 Q2259.14 1482.32 2261.62 1482.32 Q2265.62 1482.32 2267.96 1480.21 Q2270.3 1478.1 2270.3 1474.49 Q2270.3 1470.88 2267.96 1468.77 Q2265.62 1466.67 2261.62 1466.67 Q2259.74 1466.67 2257.87 1467.08 Q2256.02 1467.5 2254.07 1468.38 L2254.07 1451.02 Z\" fill=\"#000000\" fill-rule=\"nonzero\" fill-opacity=\"1\" /><path clip-path=\"url(#clip140)\" d=\"M2294.19 1454.1 Q2290.58 1454.1 2288.75 1457.66 Q2286.94 1461.2 2286.94 1468.33 Q2286.94 1475.44 2288.75 1479.01 Q2290.58 1482.55 2294.19 1482.55 Q2297.82 1482.55 2299.63 1479.01 Q2301.46 1475.44 2301.46 1468.33 Q2301.46 1461.2 2299.63 1457.66 Q2297.82 1454.1 2294.19 1454.1 M2294.19 1450.39 Q2300 1450.39 2303.05 1455 Q2306.13 1459.58 2306.13 1468.33 Q2306.13 1477.06 2303.05 1481.67 Q2300 1486.25 2294.19 1486.25 Q2288.38 1486.25 2285.3 1481.67 Q2282.24 1477.06 2282.24 1468.33 Q2282.24 1459.58 2285.3 1455 Q2288.38 1450.39 2294.19 1450.39 Z\" fill=\"#000000\" fill-rule=\"nonzero\" fill-opacity=\"1\" /><path clip-path=\"url(#clip140)\" d=\"M2324.35 1454.1 Q2320.74 1454.1 2318.91 1457.66 Q2317.1 1461.2 2317.1 1468.33 Q2317.1 1475.44 2318.91 1479.01 Q2320.74 1482.55 2324.35 1482.55 Q2327.98 1482.55 2329.79 1479.01 Q2331.62 1475.44 2331.62 1468.33 Q2331.62 1461.2 2329.79 1457.66 Q2327.98 1454.1 2324.35 1454.1 M2324.35 1450.39 Q2330.16 1450.39 2333.21 1455 Q2336.29 1459.58 2336.29 1468.33 Q2336.29 1477.06 2333.21 1481.67 Q2330.16 1486.25 2324.35 1486.25 Q2318.54 1486.25 2315.46 1481.67 Q2312.4 1477.06 2312.4 1468.33 Q2312.4 1459.58 2315.46 1455 Q2318.54 1450.39 2324.35 1450.39 Z\" fill=\"#000000\" fill-rule=\"nonzero\" fill-opacity=\"1\" /><path clip-path=\"url(#clip140)\" d=\"M1172.3 1520.52 L1178.73 1520.52 L1178.73 1568.04 L1172.3 1568.04 L1172.3 1520.52 Z\" fill=\"#000000\" fill-rule=\"nonzero\" fill-opacity=\"1\" /><path clip-path=\"url(#clip140)\" d=\"M1197.06 1522.27 L1197.06 1532.4 L1209.12 1532.4 L1209.12 1536.95 L1197.06 1536.95 L1197.06 1556.3 Q1197.06 1560.66 1198.24 1561.9 Q1199.45 1563.14 1203.11 1563.14 L1209.12 1563.14 L1209.12 1568.04 L1203.11 1568.04 Q1196.33 1568.04 1193.75 1565.53 Q1191.17 1562.98 1191.17 1556.3 L1191.17 1536.95 L1186.87 1536.95 L1186.87 1532.4 L1191.17 1532.4 L1191.17 1522.27 L1197.06 1522.27 Z\" fill=\"#000000\" fill-rule=\"nonzero\" fill-opacity=\"1\" /><path clip-path=\"url(#clip140)\" d=\"M1247.32 1548.76 L1247.32 1551.62 L1220.39 1551.62 Q1220.77 1557.67 1224.02 1560.85 Q1227.3 1564 1233.12 1564 Q1236.5 1564 1239.65 1563.17 Q1242.83 1562.35 1245.95 1560.69 L1245.95 1566.23 Q1242.8 1567.57 1239.49 1568.27 Q1236.18 1568.97 1232.77 1568.97 Q1224.24 1568.97 1219.24 1564 Q1214.28 1559.04 1214.28 1550.57 Q1214.28 1541.82 1218.99 1536.69 Q1223.73 1531.54 1231.75 1531.54 Q1238.95 1531.54 1243.12 1536.18 Q1247.32 1540.8 1247.32 1548.76 M1241.46 1547.04 Q1241.4 1542.23 1238.75 1539.37 Q1236.14 1536.5 1231.82 1536.5 Q1226.91 1536.5 1223.95 1539.27 Q1221.03 1542.04 1220.58 1547.07 L1241.46 1547.04 M1235.83 1515.91 L1242.16 1515.91 L1231.78 1527.88 L1226.91 1527.88 L1235.83 1515.91 Z\" fill=\"#000000\" fill-rule=\"nonzero\" fill-opacity=\"1\" /><path clip-path=\"url(#clip140)\" d=\"M1277.59 1537.87 Q1276.6 1537.3 1275.42 1537.04 Q1274.28 1536.76 1272.88 1536.76 Q1267.91 1536.76 1265.24 1540 Q1262.59 1543.22 1262.59 1549.27 L1262.59 1568.04 L1256.71 1568.04 L1256.71 1532.4 L1262.59 1532.4 L1262.59 1537.93 Q1264.44 1534.69 1267.4 1533.13 Q1270.36 1531.54 1274.59 1531.54 Q1275.2 1531.54 1275.93 1531.63 Q1276.66 1531.7 1277.55 1531.85 L1277.59 1537.87 Z\" fill=\"#000000\" fill-rule=\"nonzero\" fill-opacity=\"1\" /><path clip-path=\"url(#clip140)\" d=\"M1299.93 1550.12 Q1292.83 1550.12 1290.09 1551.75 Q1287.36 1553.37 1287.36 1557.29 Q1287.36 1560.4 1289.39 1562.25 Q1291.46 1564.07 1295 1564.07 Q1299.87 1564.07 1302.79 1560.63 Q1305.75 1557.16 1305.75 1551.43 L1305.75 1550.12 L1299.93 1550.12 M1311.61 1547.71 L1311.61 1568.04 L1305.75 1568.04 L1305.75 1562.63 Q1303.75 1565.88 1300.76 1567.44 Q1297.77 1568.97 1293.44 1568.97 Q1287.96 1568.97 1284.72 1565.91 Q1281.5 1562.82 1281.5 1557.67 Q1281.5 1551.65 1285.51 1548.6 Q1289.55 1545.54 1297.54 1545.54 L1305.75 1545.54 L1305.75 1544.97 Q1305.75 1540.93 1303.08 1538.73 Q1300.44 1536.5 1295.63 1536.5 Q1292.58 1536.5 1289.68 1537.23 Q1286.78 1537.97 1284.11 1539.43 L1284.11 1534.02 Q1287.33 1532.78 1290.35 1532.17 Q1293.37 1531.54 1296.24 1531.54 Q1303.97 1531.54 1307.79 1535.55 Q1311.61 1539.56 1311.61 1547.71 Z\" fill=\"#000000\" fill-rule=\"nonzero\" fill-opacity=\"1\" /><path clip-path=\"url(#clip140)\" d=\"M1329.47 1522.27 L1329.47 1532.4 L1341.53 1532.4 L1341.53 1536.95 L1329.47 1536.95 L1329.47 1556.3 Q1329.47 1560.66 1330.64 1561.9 Q1331.85 1563.14 1335.51 1563.14 L1341.53 1563.14 L1341.53 1568.04 L1335.51 1568.04 Q1328.73 1568.04 1326.16 1565.53 Q1323.58 1562.98 1323.58 1556.3 L1323.58 1536.95 L1319.28 1536.95 L1319.28 1532.4 L1323.58 1532.4 L1323.58 1522.27 L1329.47 1522.27 Z\" fill=\"#000000\" fill-rule=\"nonzero\" fill-opacity=\"1\" /><path clip-path=\"url(#clip140)\" d=\"M1349.23 1532.4 L1355.09 1532.4 L1355.09 1568.04 L1349.23 1568.04 L1349.23 1532.4 M1349.23 1518.52 L1355.09 1518.52 L1355.09 1525.93 L1349.23 1525.93 L1349.23 1518.52 Z\" fill=\"#000000\" fill-rule=\"nonzero\" fill-opacity=\"1\" /><path clip-path=\"url(#clip140)\" d=\"M1381.16 1536.5 Q1376.45 1536.5 1373.71 1540.19 Q1370.97 1543.85 1370.97 1550.25 Q1370.97 1556.65 1373.68 1560.34 Q1376.41 1564 1381.16 1564 Q1385.83 1564 1388.57 1560.31 Q1391.31 1556.62 1391.31 1550.25 Q1391.31 1543.92 1388.57 1540.23 Q1385.83 1536.5 1381.16 1536.5 M1381.16 1531.54 Q1388.79 1531.54 1393.16 1536.5 Q1397.52 1541.47 1397.52 1550.25 Q1397.52 1559 1393.16 1564 Q1388.79 1568.97 1381.16 1568.97 Q1373.49 1568.97 1369.12 1564 Q1364.8 1559 1364.8 1550.25 Q1364.8 1541.47 1369.12 1536.5 Q1373.49 1531.54 1381.16 1531.54 Z\" fill=\"#000000\" fill-rule=\"nonzero\" fill-opacity=\"1\" /><path clip-path=\"url(#clip140)\" d=\"M1436.86 1546.53 L1436.86 1568.04 L1431 1568.04 L1431 1546.72 Q1431 1541.66 1429.03 1539.14 Q1427.05 1536.63 1423.11 1536.63 Q1418.36 1536.63 1415.63 1539.65 Q1412.89 1542.68 1412.89 1547.9 L1412.89 1568.04 L1407 1568.04 L1407 1532.4 L1412.89 1532.4 L1412.89 1537.93 Q1414.99 1534.72 1417.82 1533.13 Q1420.69 1531.54 1424.41 1531.54 Q1430.55 1531.54 1433.7 1535.36 Q1436.86 1539.14 1436.86 1546.53 Z\" fill=\"#000000\" fill-rule=\"nonzero\" fill-opacity=\"1\" /><path clip-path=\"url(#clip140)\" d=\"M1471.26 1533.45 L1471.26 1538.98 Q1468.78 1537.71 1466.11 1537.07 Q1463.43 1536.44 1460.57 1536.44 Q1456.21 1536.44 1454.01 1537.77 Q1451.85 1539.11 1451.85 1541.79 Q1451.85 1543.82 1453.41 1545 Q1454.97 1546.15 1459.68 1547.2 L1461.68 1547.64 Q1467.92 1548.98 1470.53 1551.43 Q1473.17 1553.85 1473.17 1558.21 Q1473.17 1563.17 1469.23 1566.07 Q1465.31 1568.97 1458.44 1568.97 Q1455.57 1568.97 1452.45 1568.39 Q1449.36 1567.85 1445.93 1566.74 L1445.93 1560.69 Q1449.17 1562.38 1452.32 1563.24 Q1455.48 1564.07 1458.56 1564.07 Q1462.7 1564.07 1464.93 1562.66 Q1467.16 1561.23 1467.16 1558.65 Q1467.16 1556.27 1465.53 1554.99 Q1463.94 1553.72 1458.5 1552.54 L1456.46 1552.07 Q1451.02 1550.92 1448.6 1548.56 Q1446.18 1546.18 1446.18 1542.04 Q1446.18 1537.01 1449.75 1534.27 Q1453.31 1531.54 1459.87 1531.54 Q1463.11 1531.54 1465.98 1532.01 Q1468.84 1532.49 1471.26 1533.45 Z\" fill=\"#000000\" fill-rule=\"nonzero\" fill-opacity=\"1\" /><polyline clip-path=\"url(#clip142)\" style=\"stroke:#000000; stroke-linecap:round; stroke-linejoin:round; stroke-width:2; stroke-opacity:0.1; fill:none\" points=\"292.713,1107.5 2352.76,1107.5 \"/>\n",
       "<polyline clip-path=\"url(#clip142)\" style=\"stroke:#000000; stroke-linecap:round; stroke-linejoin:round; stroke-width:2; stroke-opacity:0.1; fill:none\" points=\"292.713,787.255 2352.76,787.255 \"/>\n",
       "<polyline clip-path=\"url(#clip142)\" style=\"stroke:#000000; stroke-linecap:round; stroke-linejoin:round; stroke-width:2; stroke-opacity:0.1; fill:none\" points=\"292.713,467.014 2352.76,467.014 \"/>\n",
       "<polyline clip-path=\"url(#clip142)\" style=\"stroke:#000000; stroke-linecap:round; stroke-linejoin:round; stroke-width:2; stroke-opacity:0.1; fill:none\" points=\"292.713,146.773 2352.76,146.773 \"/>\n",
       "<polyline clip-path=\"url(#clip140)\" style=\"stroke:#000000; stroke-linecap:round; stroke-linejoin:round; stroke-width:4; stroke-opacity:1; fill:none\" points=\"292.713,1423.18 292.713,123.472 \"/>\n",
       "<polyline clip-path=\"url(#clip140)\" style=\"stroke:#000000; stroke-linecap:round; stroke-linejoin:round; stroke-width:4; stroke-opacity:1; fill:none\" points=\"292.713,1107.5 311.611,1107.5 \"/>\n",
       "<polyline clip-path=\"url(#clip140)\" style=\"stroke:#000000; stroke-linecap:round; stroke-linejoin:round; stroke-width:4; stroke-opacity:1; fill:none\" points=\"292.713,787.255 311.611,787.255 \"/>\n",
       "<polyline clip-path=\"url(#clip140)\" style=\"stroke:#000000; stroke-linecap:round; stroke-linejoin:round; stroke-width:4; stroke-opacity:1; fill:none\" points=\"292.713,467.014 311.611,467.014 \"/>\n",
       "<polyline clip-path=\"url(#clip140)\" style=\"stroke:#000000; stroke-linecap:round; stroke-linejoin:round; stroke-width:4; stroke-opacity:1; fill:none\" points=\"292.713,146.773 311.611,146.773 \"/>\n",
       "<path clip-path=\"url(#clip140)\" d=\"M114.931 1120.84 L122.57 1120.84 L122.57 1094.47 L114.26 1096.14 L114.26 1091.88 L122.524 1090.22 L127.2 1090.22 L127.2 1120.84 L134.839 1120.84 L134.839 1124.78 L114.931 1124.78 L114.931 1120.84 Z\" fill=\"#000000\" fill-rule=\"nonzero\" fill-opacity=\"1\" /><path clip-path=\"url(#clip140)\" d=\"M154.283 1093.29 Q150.672 1093.29 148.843 1096.86 Q147.038 1100.4 147.038 1107.53 Q147.038 1114.64 148.843 1118.2 Q150.672 1121.74 154.283 1121.74 Q157.917 1121.74 159.723 1118.2 Q161.552 1114.64 161.552 1107.53 Q161.552 1100.4 159.723 1096.86 Q157.917 1093.29 154.283 1093.29 M154.283 1089.59 Q160.093 1089.59 163.149 1094.2 Q166.227 1098.78 166.227 1107.53 Q166.227 1116.26 163.149 1120.86 Q160.093 1125.45 154.283 1125.45 Q148.473 1125.45 145.394 1120.86 Q142.339 1116.26 142.339 1107.53 Q142.339 1098.78 145.394 1094.2 Q148.473 1089.59 154.283 1089.59 Z\" fill=\"#000000\" fill-rule=\"nonzero\" fill-opacity=\"1\" /><path clip-path=\"url(#clip140)\" d=\"M184.445 1093.29 Q180.834 1093.29 179.005 1096.86 Q177.2 1100.4 177.2 1107.53 Q177.2 1114.64 179.005 1118.2 Q180.834 1121.74 184.445 1121.74 Q188.079 1121.74 189.885 1118.2 Q191.713 1114.64 191.713 1107.53 Q191.713 1100.4 189.885 1096.86 Q188.079 1093.29 184.445 1093.29 M184.445 1089.59 Q190.255 1089.59 193.311 1094.2 Q196.389 1098.78 196.389 1107.53 Q196.389 1116.26 193.311 1120.86 Q190.255 1125.45 184.445 1125.45 Q178.635 1125.45 175.556 1120.86 Q172.501 1116.26 172.501 1107.53 Q172.501 1098.78 175.556 1094.2 Q178.635 1089.59 184.445 1089.59 Z\" fill=\"#000000\" fill-rule=\"nonzero\" fill-opacity=\"1\" /><path clip-path=\"url(#clip140)\" d=\"M214.607 1093.29 Q210.996 1093.29 209.167 1096.86 Q207.362 1100.4 207.362 1107.53 Q207.362 1114.64 209.167 1118.2 Q210.996 1121.74 214.607 1121.74 Q218.241 1121.74 220.047 1118.2 Q221.875 1114.64 221.875 1107.53 Q221.875 1100.4 220.047 1096.86 Q218.241 1093.29 214.607 1093.29 M214.607 1089.59 Q220.417 1089.59 223.473 1094.2 Q226.551 1098.78 226.551 1107.53 Q226.551 1116.26 223.473 1120.86 Q220.417 1125.45 214.607 1125.45 Q208.797 1125.45 205.718 1120.86 Q202.662 1116.26 202.662 1107.53 Q202.662 1098.78 205.718 1094.2 Q208.797 1089.59 214.607 1089.59 Z\" fill=\"#000000\" fill-rule=\"nonzero\" fill-opacity=\"1\" /><path clip-path=\"url(#clip140)\" d=\"M244.769 1093.29 Q241.158 1093.29 239.329 1096.86 Q237.523 1100.4 237.523 1107.53 Q237.523 1114.64 239.329 1118.2 Q241.158 1121.74 244.769 1121.74 Q248.403 1121.74 250.209 1118.2 Q252.037 1114.64 252.037 1107.53 Q252.037 1100.4 250.209 1096.86 Q248.403 1093.29 244.769 1093.29 M244.769 1089.59 Q250.579 1089.59 253.634 1094.2 Q256.713 1098.78 256.713 1107.53 Q256.713 1116.26 253.634 1120.86 Q250.579 1125.45 244.769 1125.45 Q238.959 1125.45 235.88 1120.86 Q232.824 1116.26 232.824 1107.53 Q232.824 1098.78 235.88 1094.2 Q238.959 1089.59 244.769 1089.59 Z\" fill=\"#000000\" fill-rule=\"nonzero\" fill-opacity=\"1\" /><path clip-path=\"url(#clip140)\" d=\"M114.931 800.6 L122.57 800.6 L122.57 774.234 L114.26 775.901 L114.26 771.642 L122.524 769.975 L127.2 769.975 L127.2 800.6 L134.839 800.6 L134.839 804.535 L114.931 804.535 L114.931 800.6 Z\" fill=\"#000000\" fill-rule=\"nonzero\" fill-opacity=\"1\" /><path clip-path=\"url(#clip140)\" d=\"M148.311 800.6 L164.63 800.6 L164.63 804.535 L142.686 804.535 L142.686 800.6 Q145.348 797.845 149.931 793.216 Q154.538 788.563 155.718 787.22 Q157.964 784.697 158.843 782.961 Q159.746 781.202 159.746 779.512 Q159.746 776.757 157.802 775.021 Q155.88 773.285 152.778 773.285 Q150.579 773.285 148.126 774.049 Q145.695 774.813 142.917 776.364 L142.917 771.642 Q145.741 770.507 148.195 769.929 Q150.649 769.35 152.686 769.35 Q158.056 769.35 161.251 772.035 Q164.445 774.72 164.445 779.211 Q164.445 781.341 163.635 783.262 Q162.848 785.16 160.741 787.753 Q160.163 788.424 157.061 791.642 Q153.959 794.836 148.311 800.6 Z\" fill=\"#000000\" fill-rule=\"nonzero\" fill-opacity=\"1\" /><path clip-path=\"url(#clip140)\" d=\"M184.445 773.054 Q180.834 773.054 179.005 776.618 Q177.2 780.16 177.2 787.29 Q177.2 794.396 179.005 797.961 Q180.834 801.503 184.445 801.503 Q188.079 801.503 189.885 797.961 Q191.713 794.396 191.713 787.29 Q191.713 780.16 189.885 776.618 Q188.079 773.054 184.445 773.054 M184.445 769.35 Q190.255 769.35 193.311 773.956 Q196.389 778.54 196.389 787.29 Q196.389 796.016 193.311 800.623 Q190.255 805.206 184.445 805.206 Q178.635 805.206 175.556 800.623 Q172.501 796.016 172.501 787.29 Q172.501 778.54 175.556 773.956 Q178.635 769.35 184.445 769.35 Z\" fill=\"#000000\" fill-rule=\"nonzero\" fill-opacity=\"1\" /><path clip-path=\"url(#clip140)\" d=\"M214.607 773.054 Q210.996 773.054 209.167 776.618 Q207.362 780.16 207.362 787.29 Q207.362 794.396 209.167 797.961 Q210.996 801.503 214.607 801.503 Q218.241 801.503 220.047 797.961 Q221.875 794.396 221.875 787.29 Q221.875 780.16 220.047 776.618 Q218.241 773.054 214.607 773.054 M214.607 769.35 Q220.417 769.35 223.473 773.956 Q226.551 778.54 226.551 787.29 Q226.551 796.016 223.473 800.623 Q220.417 805.206 214.607 805.206 Q208.797 805.206 205.718 800.623 Q202.662 796.016 202.662 787.29 Q202.662 778.54 205.718 773.956 Q208.797 769.35 214.607 769.35 Z\" fill=\"#000000\" fill-rule=\"nonzero\" fill-opacity=\"1\" /><path clip-path=\"url(#clip140)\" d=\"M244.769 773.054 Q241.158 773.054 239.329 776.618 Q237.523 780.16 237.523 787.29 Q237.523 794.396 239.329 797.961 Q241.158 801.503 244.769 801.503 Q248.403 801.503 250.209 797.961 Q252.037 794.396 252.037 787.29 Q252.037 780.16 250.209 776.618 Q248.403 773.054 244.769 773.054 M244.769 769.35 Q250.579 769.35 253.634 773.956 Q256.713 778.54 256.713 787.29 Q256.713 796.016 253.634 800.623 Q250.579 805.206 244.769 805.206 Q238.959 805.206 235.88 800.623 Q232.824 796.016 232.824 787.29 Q232.824 778.54 235.88 773.956 Q238.959 769.35 244.769 769.35 Z\" fill=\"#000000\" fill-rule=\"nonzero\" fill-opacity=\"1\" /><path clip-path=\"url(#clip140)\" d=\"M114.931 480.359 L122.57 480.359 L122.57 453.993 L114.26 455.66 L114.26 451.401 L122.524 449.734 L127.2 449.734 L127.2 480.359 L134.839 480.359 L134.839 484.294 L114.931 484.294 L114.931 480.359 Z\" fill=\"#000000\" fill-rule=\"nonzero\" fill-opacity=\"1\" /><path clip-path=\"url(#clip140)\" d=\"M157.13 453.808 L145.325 472.257 L157.13 472.257 L157.13 453.808 M155.903 449.734 L161.783 449.734 L161.783 472.257 L166.714 472.257 L166.714 476.146 L161.783 476.146 L161.783 484.294 L157.13 484.294 L157.13 476.146 L141.529 476.146 L141.529 471.632 L155.903 449.734 Z\" fill=\"#000000\" fill-rule=\"nonzero\" fill-opacity=\"1\" /><path clip-path=\"url(#clip140)\" d=\"M184.445 452.813 Q180.834 452.813 179.005 456.378 Q177.2 459.919 177.2 467.049 Q177.2 474.155 179.005 477.72 Q180.834 481.262 184.445 481.262 Q188.079 481.262 189.885 477.72 Q191.713 474.155 191.713 467.049 Q191.713 459.919 189.885 456.378 Q188.079 452.813 184.445 452.813 M184.445 449.109 Q190.255 449.109 193.311 453.716 Q196.389 458.299 196.389 467.049 Q196.389 475.776 193.311 480.382 Q190.255 484.965 184.445 484.965 Q178.635 484.965 175.556 480.382 Q172.501 475.776 172.501 467.049 Q172.501 458.299 175.556 453.716 Q178.635 449.109 184.445 449.109 Z\" fill=\"#000000\" fill-rule=\"nonzero\" fill-opacity=\"1\" /><path clip-path=\"url(#clip140)\" d=\"M214.607 452.813 Q210.996 452.813 209.167 456.378 Q207.362 459.919 207.362 467.049 Q207.362 474.155 209.167 477.72 Q210.996 481.262 214.607 481.262 Q218.241 481.262 220.047 477.72 Q221.875 474.155 221.875 467.049 Q221.875 459.919 220.047 456.378 Q218.241 452.813 214.607 452.813 M214.607 449.109 Q220.417 449.109 223.473 453.716 Q226.551 458.299 226.551 467.049 Q226.551 475.776 223.473 480.382 Q220.417 484.965 214.607 484.965 Q208.797 484.965 205.718 480.382 Q202.662 475.776 202.662 467.049 Q202.662 458.299 205.718 453.716 Q208.797 449.109 214.607 449.109 Z\" fill=\"#000000\" fill-rule=\"nonzero\" fill-opacity=\"1\" /><path clip-path=\"url(#clip140)\" d=\"M244.769 452.813 Q241.158 452.813 239.329 456.378 Q237.523 459.919 237.523 467.049 Q237.523 474.155 239.329 477.72 Q241.158 481.262 244.769 481.262 Q248.403 481.262 250.209 477.72 Q252.037 474.155 252.037 467.049 Q252.037 459.919 250.209 456.378 Q248.403 452.813 244.769 452.813 M244.769 449.109 Q250.579 449.109 253.634 453.716 Q256.713 458.299 256.713 467.049 Q256.713 475.776 253.634 480.382 Q250.579 484.965 244.769 484.965 Q238.959 484.965 235.88 480.382 Q232.824 475.776 232.824 467.049 Q232.824 458.299 235.88 453.716 Q238.959 449.109 244.769 449.109 Z\" fill=\"#000000\" fill-rule=\"nonzero\" fill-opacity=\"1\" /><path clip-path=\"url(#clip140)\" d=\"M114.931 160.118 L122.57 160.118 L122.57 133.753 L114.26 135.419 L114.26 131.16 L122.524 129.493 L127.2 129.493 L127.2 160.118 L134.839 160.118 L134.839 164.053 L114.931 164.053 L114.931 160.118 Z\" fill=\"#000000\" fill-rule=\"nonzero\" fill-opacity=\"1\" /><path clip-path=\"url(#clip140)\" d=\"M154.862 144.91 Q151.714 144.91 149.862 147.063 Q148.033 149.216 148.033 152.966 Q148.033 156.692 149.862 158.868 Q151.714 161.021 154.862 161.021 Q158.01 161.021 159.839 158.868 Q161.69 156.692 161.69 152.966 Q161.69 149.216 159.839 147.063 Q158.01 144.91 154.862 144.91 M164.144 130.257 L164.144 134.517 Q162.385 133.683 160.579 133.243 Q158.797 132.804 157.038 132.804 Q152.408 132.804 149.954 135.929 Q147.524 139.054 147.177 145.373 Q148.542 143.359 150.603 142.294 Q152.663 141.206 155.14 141.206 Q160.348 141.206 163.357 144.378 Q166.39 147.526 166.39 152.966 Q166.39 158.29 163.241 161.507 Q160.093 164.725 154.862 164.725 Q148.866 164.725 145.695 160.141 Q142.524 155.535 142.524 146.808 Q142.524 138.614 146.413 133.753 Q150.302 128.868 156.853 128.868 Q158.612 128.868 160.394 129.216 Q162.2 129.563 164.144 130.257 Z\" fill=\"#000000\" fill-rule=\"nonzero\" fill-opacity=\"1\" /><path clip-path=\"url(#clip140)\" d=\"M184.445 132.572 Q180.834 132.572 179.005 136.137 Q177.2 139.679 177.2 146.808 Q177.2 153.915 179.005 157.479 Q180.834 161.021 184.445 161.021 Q188.079 161.021 189.885 157.479 Q191.713 153.915 191.713 146.808 Q191.713 139.679 189.885 136.137 Q188.079 132.572 184.445 132.572 M184.445 128.868 Q190.255 128.868 193.311 133.475 Q196.389 138.058 196.389 146.808 Q196.389 155.535 193.311 160.141 Q190.255 164.725 184.445 164.725 Q178.635 164.725 175.556 160.141 Q172.501 155.535 172.501 146.808 Q172.501 138.058 175.556 133.475 Q178.635 128.868 184.445 128.868 Z\" fill=\"#000000\" fill-rule=\"nonzero\" fill-opacity=\"1\" /><path clip-path=\"url(#clip140)\" d=\"M214.607 132.572 Q210.996 132.572 209.167 136.137 Q207.362 139.679 207.362 146.808 Q207.362 153.915 209.167 157.479 Q210.996 161.021 214.607 161.021 Q218.241 161.021 220.047 157.479 Q221.875 153.915 221.875 146.808 Q221.875 139.679 220.047 136.137 Q218.241 132.572 214.607 132.572 M214.607 128.868 Q220.417 128.868 223.473 133.475 Q226.551 138.058 226.551 146.808 Q226.551 155.535 223.473 160.141 Q220.417 164.725 214.607 164.725 Q208.797 164.725 205.718 160.141 Q202.662 155.535 202.662 146.808 Q202.662 138.058 205.718 133.475 Q208.797 128.868 214.607 128.868 Z\" fill=\"#000000\" fill-rule=\"nonzero\" fill-opacity=\"1\" /><path clip-path=\"url(#clip140)\" d=\"M244.769 132.572 Q241.158 132.572 239.329 136.137 Q237.523 139.679 237.523 146.808 Q237.523 153.915 239.329 157.479 Q241.158 161.021 244.769 161.021 Q248.403 161.021 250.209 157.479 Q252.037 153.915 252.037 146.808 Q252.037 139.679 250.209 136.137 Q248.403 132.572 244.769 132.572 M244.769 128.868 Q250.579 128.868 253.634 133.475 Q256.713 138.058 256.713 146.808 Q256.713 155.535 253.634 160.141 Q250.579 164.725 244.769 164.725 Q238.959 164.725 235.88 160.141 Q232.824 155.535 232.824 146.808 Q232.824 138.058 235.88 133.475 Q238.959 128.868 244.769 128.868 Z\" fill=\"#000000\" fill-rule=\"nonzero\" fill-opacity=\"1\" /><path clip-path=\"url(#clip140)\" d=\"M20.1444 808.528 L26.9239 808.528 Q23.9002 811.775 22.4043 815.467 Q20.9083 819.127 20.9083 823.265 Q20.9083 831.413 25.9054 835.742 Q30.8707 840.07 40.2919 840.07 Q49.6813 840.07 54.6784 835.742 Q59.6436 831.413 59.6436 823.265 Q59.6436 819.127 58.1477 815.467 Q56.6518 811.775 53.6281 808.528 L60.3439 808.528 Q62.6355 811.902 63.7814 815.69 Q64.9272 819.446 64.9272 823.647 Q64.9272 834.437 58.3387 840.643 Q51.7183 846.85 40.2919 846.85 Q28.8336 846.85 22.2451 840.643 Q15.6248 834.437 15.6248 823.647 Q15.6248 819.382 16.7706 815.626 Q17.8846 811.839 20.1444 808.528 Z\" fill=\"#000000\" fill-rule=\"nonzero\" fill-opacity=\"1\" /><path clip-path=\"url(#clip140)\" d=\"M32.4621 785.039 Q32.4621 789.75 36.1542 792.487 Q39.8145 795.224 46.212 795.224 Q52.6095 795.224 56.3017 792.519 Q59.9619 789.781 59.9619 785.039 Q59.9619 780.36 56.2698 777.623 Q52.5777 774.886 46.212 774.886 Q39.8781 774.886 36.186 777.623 Q32.4621 780.36 32.4621 785.039 M27.4968 785.039 Q27.4968 777.4 32.4621 773.04 Q37.4273 768.679 46.212 768.679 Q54.9649 768.679 59.9619 773.04 Q64.9272 777.4 64.9272 785.039 Q64.9272 792.71 59.9619 797.07 Q54.9649 801.399 46.212 801.399 Q37.4273 801.399 32.4621 797.07 Q27.4968 792.71 27.4968 785.039 Z\" fill=\"#000000\" fill-rule=\"nonzero\" fill-opacity=\"1\" /><path clip-path=\"url(#clip140)\" d=\"M49.9359 759.576 L28.3562 759.576 L28.3562 753.72 L49.7131 753.72 Q54.7739 753.72 57.3202 751.746 Q59.8346 749.773 59.8346 745.826 Q59.8346 741.084 56.8109 738.346 Q53.7872 735.577 48.5673 735.577 L28.3562 735.577 L28.3562 729.721 L64.0042 729.721 L64.0042 735.577 L58.5296 735.577 Q61.7762 737.71 63.3676 740.543 Q64.9272 743.344 64.9272 747.067 Q64.9272 753.21 61.1078 756.393 Q57.2883 759.576 49.9359 759.576 M27.4968 744.839 L27.4968 744.839 M11.869 747.258 L11.869 742.548 L23.8365 734.75 L23.8365 739.174 L16.0386 744.903 L23.8365 750.632 L23.8365 755.056 L11.869 747.258 Z\" fill=\"#000000\" fill-rule=\"nonzero\" fill-opacity=\"1\" /><path clip-path=\"url(#clip140)\" d=\"M18.2347 711.865 L28.3562 711.865 L28.3562 699.802 L32.9077 699.802 L32.9077 711.865 L52.2594 711.865 Q56.6199 711.865 57.8613 710.687 Q59.1026 709.478 59.1026 705.818 L59.1026 699.802 L64.0042 699.802 L64.0042 705.818 Q64.0042 712.597 61.4897 715.175 Q58.9434 717.753 52.2594 717.753 L32.9077 717.753 L32.9077 722.05 L28.3562 722.05 L28.3562 717.753 L18.2347 717.753 L18.2347 711.865 Z\" fill=\"#000000\" fill-rule=\"nonzero\" fill-opacity=\"1\" /><path clip-path=\"url(#clip140)\" d=\"M964.655 12.096 L1002.9 12.096 L1002.9 18.9825 L972.838 18.9825 L972.838 36.8875 L1001.64 36.8875 L1001.64 43.7741 L972.838 43.7741 L972.838 65.6895 L1003.62 65.6895 L1003.62 72.576 L964.655 72.576 L964.655 12.096 M985.882 -4.35067 L993.376 -4.35067 L984.14 6.34372 L977.942 6.34372 L985.882 -4.35067 Z\" fill=\"#000000\" fill-rule=\"nonzero\" fill-opacity=\"1\" /><path clip-path=\"url(#clip140)\" d=\"M1011.4 27.2059 L1019.3 27.2059 L1033.48 65.2844 L1047.66 27.2059 L1055.56 27.2059 L1038.54 72.576 L1028.42 72.576 L1011.4 27.2059 Z\" fill=\"#000000\" fill-rule=\"nonzero\" fill-opacity=\"1\" /><path clip-path=\"url(#clip140)\" d=\"M1083.43 32.4315 Q1077.43 32.4315 1073.95 37.1306 Q1070.46 41.7891 1070.46 49.9314 Q1070.46 58.0738 1073.91 62.7728 Q1077.39 67.4314 1083.43 67.4314 Q1089.38 67.4314 1092.87 62.7323 Q1096.35 58.0333 1096.35 49.9314 Q1096.35 41.8701 1092.87 37.1711 Q1089.38 32.4315 1083.43 32.4315 M1083.43 26.1121 Q1093.15 26.1121 1098.7 32.4315 Q1104.25 38.7509 1104.25 49.9314 Q1104.25 61.0714 1098.7 67.4314 Q1093.15 73.7508 1083.43 73.7508 Q1073.66 73.7508 1068.11 67.4314 Q1062.61 61.0714 1062.61 49.9314 Q1062.61 38.7509 1068.11 32.4315 Q1073.66 26.1121 1083.43 26.1121 Z\" fill=\"#000000\" fill-rule=\"nonzero\" fill-opacity=\"1\" /><path clip-path=\"url(#clip140)\" d=\"M1116.6 9.54393 L1124.06 9.54393 L1124.06 72.576 L1116.6 72.576 L1116.6 9.54393 Z\" fill=\"#000000\" fill-rule=\"nonzero\" fill-opacity=\"1\" /><path clip-path=\"url(#clip140)\" d=\"M1138.88 54.671 L1138.88 27.2059 L1146.34 27.2059 L1146.34 54.3874 Q1146.34 60.8284 1148.85 64.0691 Q1151.36 67.2693 1156.38 67.2693 Q1162.42 67.2693 1165.9 63.421 Q1169.43 59.5726 1169.43 52.9291 L1169.43 27.2059 L1176.88 27.2059 L1176.88 72.576 L1169.43 72.576 L1169.43 65.6084 Q1166.71 69.7404 1163.11 71.7658 Q1159.54 73.7508 1154.8 73.7508 Q1146.99 73.7508 1142.94 68.8897 Q1138.88 64.0286 1138.88 54.671 M1157.64 26.1121 L1157.64 26.1121 Z\" fill=\"#000000\" fill-rule=\"nonzero\" fill-opacity=\"1\" /><path clip-path=\"url(#clip140)\" d=\"M1199.61 14.324 L1199.61 27.2059 L1214.96 27.2059 L1214.96 32.9987 L1199.61 32.9987 L1199.61 57.6282 Q1199.61 63.1779 1201.11 64.7578 Q1202.65 66.3376 1207.3 66.3376 L1214.96 66.3376 L1214.96 72.576 L1207.3 72.576 Q1198.68 72.576 1195.39 69.3758 Q1192.11 66.1351 1192.11 57.6282 L1192.11 32.9987 L1186.64 32.9987 L1186.64 27.2059 L1192.11 27.2059 L1192.11 14.324 L1199.61 14.324 Z\" fill=\"#000000\" fill-rule=\"nonzero\" fill-opacity=\"1\" /><path clip-path=\"url(#clip140)\" d=\"M1224.76 27.2059 L1232.22 27.2059 L1232.22 72.576 L1224.76 72.576 L1224.76 27.2059 M1224.76 9.54393 L1232.22 9.54393 L1232.22 18.9825 L1224.76 18.9825 L1224.76 9.54393 Z\" fill=\"#000000\" fill-rule=\"nonzero\" fill-opacity=\"1\" /><path clip-path=\"url(#clip140)\" d=\"M1265.39 32.4315 Q1259.4 32.4315 1255.91 37.1306 Q1252.43 41.7891 1252.43 49.9314 Q1252.43 58.0738 1255.87 62.7728 Q1259.36 67.4314 1265.39 67.4314 Q1271.35 67.4314 1274.83 62.7323 Q1278.32 58.0333 1278.32 49.9314 Q1278.32 41.8701 1274.83 37.1711 Q1271.35 32.4315 1265.39 32.4315 M1265.39 26.1121 Q1275.12 26.1121 1280.67 32.4315 Q1286.22 38.7509 1286.22 49.9314 Q1286.22 61.0714 1280.67 67.4314 Q1275.12 73.7508 1265.39 73.7508 Q1255.63 73.7508 1250.08 67.4314 Q1244.57 61.0714 1244.57 49.9314 Q1244.57 38.7509 1250.08 32.4315 Q1255.63 26.1121 1265.39 26.1121 Z\" fill=\"#000000\" fill-rule=\"nonzero\" fill-opacity=\"1\" /><path clip-path=\"url(#clip140)\" d=\"M1336.28 45.1919 L1336.28 72.576 L1328.83 72.576 L1328.83 45.4349 Q1328.83 38.994 1326.32 35.7938 Q1323.81 32.5936 1318.78 32.5936 Q1312.75 32.5936 1309.27 36.4419 Q1305.78 40.2903 1305.78 46.9338 L1305.78 72.576 L1298.29 72.576 L1298.29 27.2059 L1305.78 27.2059 L1305.78 34.2544 Q1308.46 30.163 1312.06 28.1376 Q1315.71 26.1121 1320.45 26.1121 Q1328.26 26.1121 1332.27 30.9732 Q1336.28 35.7938 1336.28 45.1919 Z\" fill=\"#000000\" fill-rule=\"nonzero\" fill-opacity=\"1\" /><path clip-path=\"url(#clip140)\" d=\"M1407.38 34.0924 L1407.38 9.54393 L1414.83 9.54393 L1414.83 72.576 L1407.38 72.576 L1407.38 65.7705 Q1405.03 69.8214 1401.42 71.8063 Q1397.86 73.7508 1392.84 73.7508 Q1384.61 73.7508 1379.43 67.1883 Q1374.28 60.6258 1374.28 49.9314 Q1374.28 39.2371 1379.43 32.6746 Q1384.61 26.1121 1392.84 26.1121 Q1397.86 26.1121 1401.42 28.0971 Q1405.03 30.0415 1407.38 34.0924 M1381.98 49.9314 Q1381.98 58.1548 1385.34 62.8538 Q1388.74 67.5124 1394.66 67.5124 Q1400.57 67.5124 1403.98 62.8538 Q1407.38 58.1548 1407.38 49.9314 Q1407.38 41.7081 1403.98 37.0496 Q1400.57 32.3505 1394.66 32.3505 Q1388.74 32.3505 1385.34 37.0496 Q1381.98 41.7081 1381.98 49.9314 Z\" fill=\"#000000\" fill-rule=\"nonzero\" fill-opacity=\"1\" /><path clip-path=\"url(#clip140)\" d=\"M1429.42 54.671 L1429.42 27.2059 L1436.87 27.2059 L1436.87 54.3874 Q1436.87 60.8284 1439.38 64.0691 Q1441.89 67.2693 1446.91 67.2693 Q1452.95 67.2693 1456.43 63.421 Q1459.96 59.5726 1459.96 52.9291 L1459.96 27.2059 L1467.41 27.2059 L1467.41 72.576 L1459.96 72.576 L1459.96 65.6084 Q1457.24 69.7404 1453.64 71.7658 Q1450.07 73.7508 1445.34 73.7508 Q1437.52 73.7508 1433.47 68.8897 Q1429.42 64.0286 1429.42 54.671 M1448.17 26.1121 L1448.17 26.1121 Z\" fill=\"#000000\" fill-rule=\"nonzero\" fill-opacity=\"1\" /><path clip-path=\"url(#clip140)\" d=\"M1541.79 28.9478 L1541.79 35.9153 Q1538.63 34.1734 1535.43 33.3227 Q1532.27 32.4315 1529.03 32.4315 Q1521.78 32.4315 1517.77 37.0496 Q1513.75 41.6271 1513.75 49.9314 Q1513.75 58.2358 1517.77 62.8538 Q1521.78 67.4314 1529.03 67.4314 Q1532.27 67.4314 1535.43 66.5807 Q1538.63 65.6895 1541.79 63.9476 L1541.79 70.8341 Q1538.67 72.2924 1535.31 73.0216 Q1531.98 73.7508 1528.22 73.7508 Q1517.97 73.7508 1511.93 67.3098 Q1505.9 60.8689 1505.9 49.9314 Q1505.9 38.832 1511.97 32.472 Q1518.09 26.1121 1528.7 26.1121 Q1532.15 26.1121 1535.43 26.8413 Q1538.71 27.5299 1541.79 28.9478 Z\" fill=\"#000000\" fill-rule=\"nonzero\" fill-opacity=\"1\" /><path clip-path=\"url(#clip140)\" d=\"M1572.33 32.4315 Q1566.34 32.4315 1562.85 37.1306 Q1559.37 41.7891 1559.37 49.9314 Q1559.37 58.0738 1562.81 62.7728 Q1566.3 67.4314 1572.33 67.4314 Q1578.29 67.4314 1581.77 62.7323 Q1585.25 58.0333 1585.25 49.9314 Q1585.25 41.8701 1581.77 37.1711 Q1578.29 32.4315 1572.33 32.4315 M1572.33 26.1121 Q1582.05 26.1121 1587.6 32.4315 Q1593.15 38.7509 1593.15 49.9314 Q1593.15 61.0714 1587.6 67.4314 Q1582.05 73.7508 1572.33 73.7508 Q1562.57 73.7508 1557.02 67.4314 Q1551.51 61.0714 1551.51 49.9314 Q1551.51 38.7509 1557.02 32.4315 Q1562.57 26.1121 1572.33 26.1121 Z\" fill=\"#000000\" fill-rule=\"nonzero\" fill-opacity=\"1\" /><path clip-path=\"url(#clip140)\" d=\"M1604.74 54.671 L1604.74 27.2059 L1612.19 27.2059 L1612.19 54.3874 Q1612.19 60.8284 1614.7 64.0691 Q1617.21 67.2693 1622.24 67.2693 Q1628.27 67.2693 1631.76 63.421 Q1635.28 59.5726 1635.28 52.9291 L1635.28 27.2059 L1642.74 27.2059 L1642.74 72.576 L1635.28 72.576 L1635.28 65.6084 Q1632.57 69.7404 1628.96 71.7658 Q1625.4 73.7508 1620.66 73.7508 Q1612.84 73.7508 1608.79 68.8897 Q1604.74 64.0286 1604.74 54.671 M1623.49 26.1121 L1623.49 26.1121 M1620.42 6.22219 L1626.41 6.22219 L1636.34 21.4536 L1630.7 21.4536 L1623.41 11.5289 L1616.12 21.4536 L1610.49 21.4536 L1620.42 6.22219 Z\" fill=\"#000000\" fill-rule=\"nonzero\" fill-opacity=\"1\" /><path clip-path=\"url(#clip140)\" d=\"M1665.46 14.324 L1665.46 27.2059 L1680.81 27.2059 L1680.81 32.9987 L1665.46 32.9987 L1665.46 57.6282 Q1665.46 63.1779 1666.96 64.7578 Q1668.5 66.3376 1673.16 66.3376 L1680.81 66.3376 L1680.81 72.576 L1673.16 72.576 Q1664.53 72.576 1661.25 69.3758 Q1657.97 66.1351 1657.97 57.6282 L1657.97 32.9987 L1652.5 32.9987 L1652.5 27.2059 L1657.97 27.2059 L1657.97 14.324 L1665.46 14.324 Z\" fill=\"#000000\" fill-rule=\"nonzero\" fill-opacity=\"1\" /><polyline clip-path=\"url(#clip142)\" style=\"stroke:#009af9; stroke-linecap:round; stroke-linejoin:round; stroke-width:4; stroke-opacity:1; fill:none\" points=\"351.016,160.256 354.911,160.256 358.806,160.256 362.7,160.256 366.595,160.256 370.49,167.796 374.384,167.796 378.279,167.796 382.173,182.164 386.068,182.164 389.963,182.164 393.857,182.164 397.752,182.164 401.647,182.164 405.541,182.164 409.436,182.164 413.331,182.164 417.225,182.164 421.12,182.164 425.015,182.164 428.909,182.164 432.804,182.164 436.699,182.164 440.593,182.164 444.488,182.164 448.383,182.164 452.277,202.725 456.172,202.725 460.067,202.725 463.961,202.725 467.856,202.725 471.751,202.725 475.645,202.725 479.54,202.725 483.435,202.725 487.329,202.725 491.224,202.725 495.119,202.725 499.013,202.725 502.908,202.725 506.803,224.527 510.697,224.527 514.592,224.527 518.487,224.527 522.381,224.527 526.276,224.527 530.171,224.527 534.065,224.527 537.96,224.527 541.855,224.527 545.749,224.527 549.644,231.82 553.539,231.82 557.433,231.82 561.328,231.82 565.223,231.82 569.117,231.82 573.012,252.041 576.907,304.939 580.801,304.939 584.696,304.939 588.591,304.939 592.485,304.939 596.38,304.939 600.275,304.939 604.169,304.939 608.064,304.939 611.959,304.939 615.853,304.939 619.748,304.939 623.643,304.939 627.537,304.939 631.432,304.939 635.327,304.939 639.221,304.939 643.116,305.104 647.011,357.946 650.905,357.946 654.8,357.946 658.695,357.946 662.589,357.946 666.484,406.906 670.379,406.906 674.273,406.906 678.168,406.906 682.063,406.906 685.957,406.906 689.852,406.906 693.747,406.906 697.641,406.906 701.536,406.906 705.43,406.906 709.325,406.906 713.22,406.906 717.114,406.906 721.009,416.799 724.904,416.799 728.798,416.799 732.693,416.799 736.588,416.799 740.482,423.092 744.377,423.092 748.272,423.092 752.166,423.092 756.061,423.092 759.956,423.092 763.85,475.934 767.745,475.934 771.64,475.934 775.534,475.934 779.429,475.934 783.324,475.934 787.218,475.934 791.113,475.934 795.008,475.934 798.902,475.934 802.797,475.934 806.692,475.934 810.586,475.934 814.481,475.934 818.376,475.934 822.27,475.934 826.165,475.934 830.06,475.934 833.954,475.934 837.849,475.934 841.744,475.934 845.638,475.934 849.533,477.164 853.428,477.164 857.322,477.164 861.217,477.164 865.112,477.164 869.006,477.164 872.901,477.164 876.796,477.164 880.69,477.164 884.585,477.164 888.48,477.164 892.374,477.164 896.269,539.786 900.164,539.786 904.058,539.786 907.953,539.786 911.848,539.786 915.742,539.786 919.637,539.786 923.532,558.496 927.426,558.496 931.321,558.496 935.216,558.496 939.11,567.325 943.005,567.325 946.9,567.325 950.794,567.325 954.689,567.325 958.584,567.325 962.478,567.325 966.373,567.325 970.268,567.325 974.162,567.325 978.057,581.576 981.952,581.576 985.846,581.576 989.741,581.576 993.636,581.576 997.53,581.576 1001.42,581.576 1005.32,581.576 1009.21,581.576 1013.11,581.576 1017,581.576 1020.9,581.576 1024.79,581.576 1028.69,581.576 1032.58,581.576 1036.48,627.044 1040.37,627.044 1044.27,627.044 1048.16,627.044 1052.06,650.375 1055.95,737.963 1059.84,737.963 1063.74,737.963 1067.63,737.963 1071.53,737.963 1075.42,737.963 1079.32,1019.49 1083.21,1019.49 1087.11,1019.49 1091,1019.49 1094.9,1019.49 1098.79,1028.86 1102.69,1028.86 1106.58,1028.86 1110.48,1028.86 1114.37,1028.86 1118.26,1028.86 1122.16,1028.86 1126.05,1028.86 1129.95,1028.86 1133.84,1028.86 1137.74,1028.86 1141.63,1028.86 1145.53,1028.86 1149.42,1028.86 1153.32,1028.86 1157.21,1028.86 1161.11,1028.86 1165,1028.86 1168.9,1028.86 1172.79,1028.86 1176.68,1028.86 1180.58,1028.86 1184.47,1028.86 1188.37,1028.86 1192.26,1028.86 1196.16,1028.86 1200.05,1028.86 1203.95,1028.86 1207.84,1028.86 1211.74,1028.86 1215.63,1028.86 1219.53,1028.86 1223.42,1028.86 1227.32,1028.86 1231.21,1028.86 1235.1,1028.86 1239,1028.86 1242.89,1028.86 1246.79,1028.86 1250.68,1028.86 1254.58,1028.86 1258.47,1028.86 1262.37,1028.86 1266.26,1028.86 1270.16,1028.86 1274.05,1028.86 1277.95,1028.86 1281.84,1028.86 1285.74,1028.86 1289.63,1028.86 1293.52,1028.86 1297.42,1028.86 1301.31,1028.86 1305.21,1028.86 1309.1,1028.86 1313,1028.86 1316.89,1028.86 1320.79,1028.86 1324.68,1028.86 1328.58,1028.86 1332.47,1028.86 1336.37,1028.86 1340.26,1028.86 1344.16,1028.86 1348.05,1028.86 1351.94,1028.86 1355.84,1028.86 1359.73,1028.86 1363.63,1028.86 1367.52,1028.86 1371.42,1028.86 1375.31,1028.86 1379.21,1028.86 1383.1,1028.86 1387,1028.86 1390.89,1028.86 1394.79,1028.86 1398.68,1028.86 1402.58,1028.86 1406.47,1028.86 1410.36,1028.86 1414.26,1028.86 1418.15,1028.86 1422.05,1028.86 1425.94,1028.86 1429.84,1028.86 1433.73,1028.86 1437.63,1028.86 1441.52,1028.86 1445.42,1050.22 1449.31,1071.75 1453.21,1071.75 1457.1,1071.75 1461,1071.75 1464.89,1071.75 1468.78,1071.75 1472.68,1071.75 1476.57,1071.75 1480.47,1071.75 1484.36,1071.75 1488.26,1071.75 1492.15,1071.75 1496.05,1071.75 1499.94,1088.65 1503.84,1088.65 1507.73,1103.3 1511.63,1124.81 1515.52,1124.81 1519.41,1124.81 1523.31,1124.81 1527.2,1124.81 1531.1,1124.81 1534.99,1124.81 1538.89,1124.81 1542.78,1124.81 1546.68,1124.81 1550.57,1124.81 1554.47,1124.81 1558.36,1124.81 1562.26,1124.81 1566.15,1124.81 1570.05,1124.81 1573.94,1124.81 1577.83,1124.81 1581.73,1124.81 1585.62,1124.81 1589.52,1124.81 1593.41,1124.81 1597.31,1163.73 1601.2,1163.73 1605.1,1163.73 1608.99,1163.73 1612.89,1163.73 1616.78,1189.19 1620.68,1189.19 1624.57,1189.19 1628.47,1189.19 1632.36,1189.19 1636.25,1189.19 1640.15,1189.19 1644.04,1189.19 1647.94,1189.19 1651.83,1189.19 1655.73,1189.19 1659.62,1189.19 1663.52,1189.19 1667.41,1189.19 1671.31,1189.19 1675.2,1189.19 1679.1,1189.19 1682.99,1189.19 1686.89,1189.19 1690.78,1189.19 1694.67,1189.19 1698.57,1189.19 1702.46,1201.11 1706.36,1201.11 1710.25,1201.11 1714.15,1201.11 1718.04,1201.11 1721.94,1201.11 1725.83,1201.11 1729.73,1201.11 1733.62,1201.11 1737.52,1201.11 1741.41,1201.11 1745.31,1201.11 1749.2,1201.11 1753.09,1201.11 1756.99,1201.11 1760.88,1201.11 1764.78,1201.11 1768.67,1201.11 1772.57,1201.11 1776.46,1201.11 1780.36,1201.11 1784.25,1201.11 1788.15,1241.88 1792.04,1241.88 1795.94,1241.88 1799.83,1241.88 1803.73,1241.88 1807.62,1241.88 1811.51,1241.88 1815.41,1241.88 1819.3,1241.88 1823.2,1241.88 1827.09,1241.88 1830.99,1241.88 1834.88,1241.88 1838.78,1241.88 1842.67,1241.88 1846.57,1241.88 1850.46,1303.99 1854.36,1303.99 1858.25,1303.99 1862.15,1303.99 1866.04,1303.99 1869.93,1303.99 1873.83,1303.99 1877.72,1303.99 1881.62,1303.99 1885.51,1303.99 1889.41,1303.99 1893.3,1303.99 1897.2,1375.8 1901.09,1375.8 1904.99,1375.8 1908.88,1375.8 1912.78,1375.8 1916.67,1375.8 1920.57,1375.8 1924.46,1375.8 1928.35,1375.8 1932.25,1375.8 1936.14,1375.8 1940.04,1375.8 1943.93,1375.8 1947.83,1375.8 1951.72,1375.8 1955.62,1375.8 1959.51,1375.8 1963.41,1375.8 1967.3,1375.8 1971.2,1375.8 1975.09,1375.8 1978.99,1375.8 1982.88,1375.8 1986.77,1375.8 1990.67,1375.8 1994.56,1375.8 1998.46,1375.8 2002.35,1375.8 2006.25,1375.8 2010.14,1375.8 2014.04,1375.8 2017.93,1378.14 2021.83,1378.14 2025.72,1378.14 2029.62,1378.14 2033.51,1378.14 2037.41,1378.14 2041.3,1378.14 2045.19,1378.14 2049.09,1378.14 2052.98,1378.62 2056.88,1378.62 2060.77,1378.62 2064.67,1378.62 2068.56,1378.62 2072.46,1378.62 2076.35,1378.62 2080.25,1378.62 2084.14,1378.62 2088.04,1378.62 2091.93,1378.62 2095.83,1378.62 2099.72,1378.62 2103.61,1378.62 2107.51,1378.62 2111.4,1378.62 2115.3,1378.62 2119.19,1378.62 2123.09,1378.62 2126.98,1378.62 2130.88,1378.62 2134.77,1378.62 2138.67,1378.62 2142.56,1378.62 2146.46,1378.62 2150.35,1378.62 2154.24,1378.62 2158.14,1378.62 2162.03,1378.62 2165.93,1378.62 2169.82,1378.62 2173.72,1378.62 2177.61,1378.62 2181.51,1378.62 2185.4,1378.62 2189.3,1378.62 2193.19,1378.62 2197.09,1378.62 2200.98,1378.62 2204.88,1378.62 2208.77,1378.62 2212.66,1378.62 2216.56,1378.62 2220.45,1378.62 2224.35,1378.62 2228.24,1378.62 2232.14,1378.62 2236.03,1378.62 2239.93,1386.4 2243.82,1386.4 2247.72,1386.4 2251.61,1386.4 2255.51,1386.4 2259.4,1386.4 2263.3,1386.4 2267.19,1386.4 2271.08,1386.4 2274.98,1386.4 2278.87,1386.4 2282.77,1386.4 2286.66,1386.4 2290.56,1386.4 2294.45,1386.4 \"/>\n",
       "<path clip-path=\"url(#clip140)\" d=\"M2025.65 270.476 L2284.09 270.476 L2284.09 166.796 L2025.65 166.796  Z\" fill=\"#ffffff\" fill-rule=\"evenodd\" fill-opacity=\"1\"/>\n",
       "<polyline clip-path=\"url(#clip140)\" style=\"stroke:#000000; stroke-linecap:round; stroke-linejoin:round; stroke-width:4; stroke-opacity:1; fill:none\" points=\"2025.65,270.476 2284.09,270.476 2284.09,166.796 2025.65,166.796 2025.65,270.476 \"/>\n",
       "<polyline clip-path=\"url(#clip140)\" style=\"stroke:#009af9; stroke-linecap:round; stroke-linejoin:round; stroke-width:4; stroke-opacity:1; fill:none\" points=\"2048.54,218.636 2185.88,218.636 \"/>\n",
       "<path clip-path=\"url(#clip140)\" d=\"M2222.61 238.323 Q2220.81 242.953 2219.09 244.365 Q2217.38 245.777 2214.51 245.777 L2211.11 245.777 L2211.11 242.212 L2213.61 242.212 Q2215.37 242.212 2216.34 241.379 Q2217.31 240.545 2218.49 237.443 L2219.25 235.499 L2208.77 209.99 L2213.28 209.99 L2221.38 230.268 L2229.49 209.99 L2234 209.99 L2222.61 238.323 Z\" fill=\"#000000\" fill-rule=\"nonzero\" fill-opacity=\"1\" /><path clip-path=\"url(#clip140)\" d=\"M2241.29 231.981 L2248.93 231.981 L2248.93 205.615 L2240.62 207.282 L2240.62 203.022 L2248.88 201.356 L2253.56 201.356 L2253.56 231.981 L2261.2 231.981 L2261.2 235.916 L2241.29 235.916 L2241.29 231.981 Z\" fill=\"#000000\" fill-rule=\"nonzero\" fill-opacity=\"1\" /></svg>\n"
      ],
      "text/html": [
       "<?xml version=\"1.0\" encoding=\"utf-8\"?>\n",
       "<svg xmlns=\"http://www.w3.org/2000/svg\" xmlns:xlink=\"http://www.w3.org/1999/xlink\" width=\"600\" height=\"400\" viewBox=\"0 0 2400 1600\">\n",
       "<defs>\n",
       "  <clipPath id=\"clip190\">\n",
       "    <rect x=\"0\" y=\"0\" width=\"2400\" height=\"1600\"/>\n",
       "  </clipPath>\n",
       "</defs>\n",
       "<path clip-path=\"url(#clip190)\" d=\"M0 1600 L2400 1600 L2400 0 L0 0  Z\" fill=\"#ffffff\" fill-rule=\"evenodd\" fill-opacity=\"1\"/>\n",
       "<defs>\n",
       "  <clipPath id=\"clip191\">\n",
       "    <rect x=\"480\" y=\"0\" width=\"1681\" height=\"1600\"/>\n",
       "  </clipPath>\n",
       "</defs>\n",
       "<path clip-path=\"url(#clip190)\" d=\"M292.713 1423.18 L2352.76 1423.18 L2352.76 123.472 L292.713 123.472  Z\" fill=\"#ffffff\" fill-rule=\"evenodd\" fill-opacity=\"1\"/>\n",
       "<defs>\n",
       "  <clipPath id=\"clip192\">\n",
       "    <rect x=\"292\" y=\"123\" width=\"2061\" height=\"1301\"/>\n",
       "  </clipPath>\n",
       "</defs>\n",
       "<polyline clip-path=\"url(#clip192)\" style=\"stroke:#000000; stroke-linecap:round; stroke-linejoin:round; stroke-width:2; stroke-opacity:0.1; fill:none\" points=\"347.122,1423.18 347.122,123.472 \"/>\n",
       "<polyline clip-path=\"url(#clip192)\" style=\"stroke:#000000; stroke-linecap:round; stroke-linejoin:round; stroke-width:2; stroke-opacity:0.1; fill:none\" points=\"736.588,1423.18 736.588,123.472 \"/>\n",
       "<polyline clip-path=\"url(#clip192)\" style=\"stroke:#000000; stroke-linecap:round; stroke-linejoin:round; stroke-width:2; stroke-opacity:0.1; fill:none\" points=\"1126.05,1423.18 1126.05,123.472 \"/>\n",
       "<polyline clip-path=\"url(#clip192)\" style=\"stroke:#000000; stroke-linecap:round; stroke-linejoin:round; stroke-width:2; stroke-opacity:0.1; fill:none\" points=\"1515.52,1423.18 1515.52,123.472 \"/>\n",
       "<polyline clip-path=\"url(#clip192)\" style=\"stroke:#000000; stroke-linecap:round; stroke-linejoin:round; stroke-width:2; stroke-opacity:0.1; fill:none\" points=\"1904.99,1423.18 1904.99,123.472 \"/>\n",
       "<polyline clip-path=\"url(#clip192)\" style=\"stroke:#000000; stroke-linecap:round; stroke-linejoin:round; stroke-width:2; stroke-opacity:0.1; fill:none\" points=\"2294.45,1423.18 2294.45,123.472 \"/>\n",
       "<polyline clip-path=\"url(#clip190)\" style=\"stroke:#000000; stroke-linecap:round; stroke-linejoin:round; stroke-width:4; stroke-opacity:1; fill:none\" points=\"292.713,1423.18 2352.76,1423.18 \"/>\n",
       "<polyline clip-path=\"url(#clip190)\" style=\"stroke:#000000; stroke-linecap:round; stroke-linejoin:round; stroke-width:4; stroke-opacity:1; fill:none\" points=\"347.122,1423.18 347.122,1404.28 \"/>\n",
       "<polyline clip-path=\"url(#clip190)\" style=\"stroke:#000000; stroke-linecap:round; stroke-linejoin:round; stroke-width:4; stroke-opacity:1; fill:none\" points=\"736.588,1423.18 736.588,1404.28 \"/>\n",
       "<polyline clip-path=\"url(#clip190)\" style=\"stroke:#000000; stroke-linecap:round; stroke-linejoin:round; stroke-width:4; stroke-opacity:1; fill:none\" points=\"1126.05,1423.18 1126.05,1404.28 \"/>\n",
       "<polyline clip-path=\"url(#clip190)\" style=\"stroke:#000000; stroke-linecap:round; stroke-linejoin:round; stroke-width:4; stroke-opacity:1; fill:none\" points=\"1515.52,1423.18 1515.52,1404.28 \"/>\n",
       "<polyline clip-path=\"url(#clip190)\" style=\"stroke:#000000; stroke-linecap:round; stroke-linejoin:round; stroke-width:4; stroke-opacity:1; fill:none\" points=\"1904.99,1423.18 1904.99,1404.28 \"/>\n",
       "<polyline clip-path=\"url(#clip190)\" style=\"stroke:#000000; stroke-linecap:round; stroke-linejoin:round; stroke-width:4; stroke-opacity:1; fill:none\" points=\"2294.45,1423.18 2294.45,1404.28 \"/>\n",
       "<path clip-path=\"url(#clip190)\" d=\"M347.122 1454.1 Q343.51 1454.1 341.682 1457.66 Q339.876 1461.2 339.876 1468.33 Q339.876 1475.44 341.682 1479.01 Q343.51 1482.55 347.122 1482.55 Q350.756 1482.55 352.561 1479.01 Q354.39 1475.44 354.39 1468.33 Q354.39 1461.2 352.561 1457.66 Q350.756 1454.1 347.122 1454.1 M347.122 1450.39 Q352.932 1450.39 355.987 1455 Q359.066 1459.58 359.066 1468.33 Q359.066 1477.06 355.987 1481.67 Q352.932 1486.25 347.122 1486.25 Q341.311 1486.25 338.233 1481.67 Q335.177 1477.06 335.177 1468.33 Q335.177 1459.58 338.233 1455 Q341.311 1450.39 347.122 1450.39 Z\" fill=\"#000000\" fill-rule=\"nonzero\" fill-opacity=\"1\" /><path clip-path=\"url(#clip190)\" d=\"M696.194 1481.64 L703.833 1481.64 L703.833 1455.28 L695.523 1456.95 L695.523 1452.69 L703.787 1451.02 L708.463 1451.02 L708.463 1481.64 L716.102 1481.64 L716.102 1485.58 L696.194 1485.58 L696.194 1481.64 Z\" fill=\"#000000\" fill-rule=\"nonzero\" fill-opacity=\"1\" /><path clip-path=\"url(#clip190)\" d=\"M735.546 1454.1 Q731.935 1454.1 730.106 1457.66 Q728.301 1461.2 728.301 1468.33 Q728.301 1475.44 730.106 1479.01 Q731.935 1482.55 735.546 1482.55 Q739.18 1482.55 740.986 1479.01 Q742.815 1475.44 742.815 1468.33 Q742.815 1461.2 740.986 1457.66 Q739.18 1454.1 735.546 1454.1 M735.546 1450.39 Q741.356 1450.39 744.412 1455 Q747.491 1459.58 747.491 1468.33 Q747.491 1477.06 744.412 1481.67 Q741.356 1486.25 735.546 1486.25 Q729.736 1486.25 726.657 1481.67 Q723.602 1477.06 723.602 1468.33 Q723.602 1459.58 726.657 1455 Q729.736 1450.39 735.546 1450.39 Z\" fill=\"#000000\" fill-rule=\"nonzero\" fill-opacity=\"1\" /><path clip-path=\"url(#clip190)\" d=\"M765.708 1454.1 Q762.097 1454.1 760.268 1457.66 Q758.463 1461.2 758.463 1468.33 Q758.463 1475.44 760.268 1479.01 Q762.097 1482.55 765.708 1482.55 Q769.342 1482.55 771.148 1479.01 Q772.976 1475.44 772.976 1468.33 Q772.976 1461.2 771.148 1457.66 Q769.342 1454.1 765.708 1454.1 M765.708 1450.39 Q771.518 1450.39 774.574 1455 Q777.652 1459.58 777.652 1468.33 Q777.652 1477.06 774.574 1481.67 Q771.518 1486.25 765.708 1486.25 Q759.898 1486.25 756.819 1481.67 Q753.764 1477.06 753.764 1468.33 Q753.764 1459.58 756.819 1455 Q759.898 1450.39 765.708 1450.39 Z\" fill=\"#000000\" fill-rule=\"nonzero\" fill-opacity=\"1\" /><path clip-path=\"url(#clip190)\" d=\"M1089.75 1481.64 L1106.07 1481.64 L1106.07 1485.58 L1084.12 1485.58 L1084.12 1481.64 Q1086.78 1478.89 1091.37 1474.26 Q1095.97 1469.61 1097.15 1468.27 Q1099.4 1465.74 1100.28 1464.01 Q1101.18 1462.25 1101.18 1460.56 Q1101.18 1457.8 1099.24 1456.07 Q1097.32 1454.33 1094.21 1454.33 Q1092.01 1454.33 1089.56 1455.09 Q1087.13 1455.86 1084.35 1457.41 L1084.35 1452.69 Q1087.18 1451.55 1089.63 1450.97 Q1092.08 1450.39 1094.12 1450.39 Q1099.49 1450.39 1102.69 1453.08 Q1105.88 1455.77 1105.88 1460.26 Q1105.88 1462.39 1105.07 1464.31 Q1104.28 1466.2 1102.18 1468.8 Q1101.6 1469.47 1098.5 1472.69 Q1095.39 1475.88 1089.75 1481.64 Z\" fill=\"#000000\" fill-rule=\"nonzero\" fill-opacity=\"1\" /><path clip-path=\"url(#clip190)\" d=\"M1125.88 1454.1 Q1122.27 1454.1 1120.44 1457.66 Q1118.64 1461.2 1118.64 1468.33 Q1118.64 1475.44 1120.44 1479.01 Q1122.27 1482.55 1125.88 1482.55 Q1129.51 1482.55 1131.32 1479.01 Q1133.15 1475.44 1133.15 1468.33 Q1133.15 1461.2 1131.32 1457.66 Q1129.51 1454.1 1125.88 1454.1 M1125.88 1450.39 Q1131.69 1450.39 1134.75 1455 Q1137.82 1459.58 1137.82 1468.33 Q1137.82 1477.06 1134.75 1481.67 Q1131.69 1486.25 1125.88 1486.25 Q1120.07 1486.25 1116.99 1481.67 Q1113.94 1477.06 1113.94 1468.33 Q1113.94 1459.58 1116.99 1455 Q1120.07 1450.39 1125.88 1450.39 Z\" fill=\"#000000\" fill-rule=\"nonzero\" fill-opacity=\"1\" /><path clip-path=\"url(#clip190)\" d=\"M1156.04 1454.1 Q1152.43 1454.1 1150.6 1457.66 Q1148.8 1461.2 1148.8 1468.33 Q1148.8 1475.44 1150.6 1479.01 Q1152.43 1482.55 1156.04 1482.55 Q1159.68 1482.55 1161.48 1479.01 Q1163.31 1475.44 1163.31 1468.33 Q1163.31 1461.2 1161.48 1457.66 Q1159.68 1454.1 1156.04 1454.1 M1156.04 1450.39 Q1161.85 1450.39 1164.91 1455 Q1167.99 1459.58 1167.99 1468.33 Q1167.99 1477.06 1164.91 1481.67 Q1161.85 1486.25 1156.04 1486.25 Q1150.23 1486.25 1147.15 1481.67 Q1144.1 1477.06 1144.1 1468.33 Q1144.1 1459.58 1147.15 1455 Q1150.23 1450.39 1156.04 1450.39 Z\" fill=\"#000000\" fill-rule=\"nonzero\" fill-opacity=\"1\" /><path clip-path=\"url(#clip190)\" d=\"M1489.28 1466.95 Q1492.64 1467.66 1494.51 1469.93 Q1496.41 1472.2 1496.41 1475.53 Q1496.41 1480.65 1492.89 1483.45 Q1489.37 1486.25 1482.89 1486.25 Q1480.72 1486.25 1478.4 1485.81 Q1476.11 1485.39 1473.66 1484.54 L1473.66 1480.02 Q1475.6 1481.16 1477.92 1481.74 Q1480.23 1482.32 1482.75 1482.32 Q1487.15 1482.32 1489.44 1480.58 Q1491.76 1478.84 1491.76 1475.53 Q1491.76 1472.48 1489.61 1470.77 Q1487.48 1469.03 1483.66 1469.03 L1479.63 1469.03 L1479.63 1465.19 L1483.84 1465.19 Q1487.29 1465.19 1489.12 1463.82 Q1490.95 1462.43 1490.95 1459.84 Q1490.95 1457.18 1489.05 1455.77 Q1487.18 1454.33 1483.66 1454.33 Q1481.74 1454.33 1479.54 1454.75 Q1477.34 1455.16 1474.7 1456.04 L1474.7 1451.88 Q1477.36 1451.14 1479.68 1450.77 Q1482.01 1450.39 1484.07 1450.39 Q1489.4 1450.39 1492.5 1452.83 Q1495.6 1455.23 1495.6 1459.35 Q1495.6 1462.22 1493.96 1464.21 Q1492.31 1466.18 1489.28 1466.95 Z\" fill=\"#000000\" fill-rule=\"nonzero\" fill-opacity=\"1\" /><path clip-path=\"url(#clip190)\" d=\"M1515.28 1454.1 Q1511.67 1454.1 1509.84 1457.66 Q1508.03 1461.2 1508.03 1468.33 Q1508.03 1475.44 1509.84 1479.01 Q1511.67 1482.55 1515.28 1482.55 Q1518.91 1482.55 1520.72 1479.01 Q1522.55 1475.44 1522.55 1468.33 Q1522.55 1461.2 1520.72 1457.66 Q1518.91 1454.1 1515.28 1454.1 M1515.28 1450.39 Q1521.09 1450.39 1524.14 1455 Q1527.22 1459.58 1527.22 1468.33 Q1527.22 1477.06 1524.14 1481.67 Q1521.09 1486.25 1515.28 1486.25 Q1509.47 1486.25 1506.39 1481.67 Q1503.33 1477.06 1503.33 1468.33 Q1503.33 1459.58 1506.39 1455 Q1509.47 1450.39 1515.28 1450.39 Z\" fill=\"#000000\" fill-rule=\"nonzero\" fill-opacity=\"1\" /><path clip-path=\"url(#clip190)\" d=\"M1545.44 1454.1 Q1541.83 1454.1 1540 1457.66 Q1538.19 1461.2 1538.19 1468.33 Q1538.19 1475.44 1540 1479.01 Q1541.83 1482.55 1545.44 1482.55 Q1549.07 1482.55 1550.88 1479.01 Q1552.71 1475.44 1552.71 1468.33 Q1552.71 1461.2 1550.88 1457.66 Q1549.07 1454.1 1545.44 1454.1 M1545.44 1450.39 Q1551.25 1450.39 1554.3 1455 Q1557.38 1459.58 1557.38 1468.33 Q1557.38 1477.06 1554.3 1481.67 Q1551.25 1486.25 1545.44 1486.25 Q1539.63 1486.25 1536.55 1481.67 Q1533.49 1477.06 1533.49 1468.33 Q1533.49 1459.58 1536.55 1455 Q1539.63 1450.39 1545.44 1450.39 Z\" fill=\"#000000\" fill-rule=\"nonzero\" fill-opacity=\"1\" /><path clip-path=\"url(#clip190)\" d=\"M1878.08 1455.09 L1866.27 1473.54 L1878.08 1473.54 L1878.08 1455.09 M1876.85 1451.02 L1882.73 1451.02 L1882.73 1473.54 L1887.66 1473.54 L1887.66 1477.43 L1882.73 1477.43 L1882.73 1485.58 L1878.08 1485.58 L1878.08 1477.43 L1862.48 1477.43 L1862.48 1472.92 L1876.85 1451.02 Z\" fill=\"#000000\" fill-rule=\"nonzero\" fill-opacity=\"1\" /><path clip-path=\"url(#clip190)\" d=\"M1905.39 1454.1 Q1901.78 1454.1 1899.95 1457.66 Q1898.15 1461.2 1898.15 1468.33 Q1898.15 1475.44 1899.95 1479.01 Q1901.78 1482.55 1905.39 1482.55 Q1909.03 1482.55 1910.83 1479.01 Q1912.66 1475.44 1912.66 1468.33 Q1912.66 1461.2 1910.83 1457.66 Q1909.03 1454.1 1905.39 1454.1 M1905.39 1450.39 Q1911.2 1450.39 1914.26 1455 Q1917.34 1459.58 1917.34 1468.33 Q1917.34 1477.06 1914.26 1481.67 Q1911.2 1486.25 1905.39 1486.25 Q1899.58 1486.25 1896.5 1481.67 Q1893.45 1477.06 1893.45 1468.33 Q1893.45 1459.58 1896.5 1455 Q1899.58 1450.39 1905.39 1450.39 Z\" fill=\"#000000\" fill-rule=\"nonzero\" fill-opacity=\"1\" /><path clip-path=\"url(#clip190)\" d=\"M1935.55 1454.1 Q1931.94 1454.1 1930.11 1457.66 Q1928.31 1461.2 1928.31 1468.33 Q1928.31 1475.44 1930.11 1479.01 Q1931.94 1482.55 1935.55 1482.55 Q1939.19 1482.55 1940.99 1479.01 Q1942.82 1475.44 1942.82 1468.33 Q1942.82 1461.2 1940.99 1457.66 Q1939.19 1454.1 1935.55 1454.1 M1935.55 1450.39 Q1941.36 1450.39 1944.42 1455 Q1947.5 1459.58 1947.5 1468.33 Q1947.5 1477.06 1944.42 1481.67 Q1941.36 1486.25 1935.55 1486.25 Q1929.74 1486.25 1926.66 1481.67 Q1923.61 1477.06 1923.61 1468.33 Q1923.61 1459.58 1926.66 1455 Q1929.74 1450.39 1935.55 1450.39 Z\" fill=\"#000000\" fill-rule=\"nonzero\" fill-opacity=\"1\" /><path clip-path=\"url(#clip190)\" d=\"M2254.07 1451.02 L2272.43 1451.02 L2272.43 1454.96 L2258.35 1454.96 L2258.35 1463.43 Q2259.37 1463.08 2260.39 1462.92 Q2261.41 1462.73 2262.43 1462.73 Q2268.21 1462.73 2271.59 1465.9 Q2274.97 1469.08 2274.97 1474.49 Q2274.97 1480.07 2271.5 1483.17 Q2268.03 1486.25 2261.71 1486.25 Q2259.53 1486.25 2257.27 1485.88 Q2255.02 1485.51 2252.61 1484.77 L2252.61 1480.07 Q2254.7 1481.2 2256.92 1481.76 Q2259.14 1482.32 2261.62 1482.32 Q2265.62 1482.32 2267.96 1480.21 Q2270.3 1478.1 2270.3 1474.49 Q2270.3 1470.88 2267.96 1468.77 Q2265.62 1466.67 2261.62 1466.67 Q2259.74 1466.67 2257.87 1467.08 Q2256.02 1467.5 2254.07 1468.38 L2254.07 1451.02 Z\" fill=\"#000000\" fill-rule=\"nonzero\" fill-opacity=\"1\" /><path clip-path=\"url(#clip190)\" d=\"M2294.19 1454.1 Q2290.58 1454.1 2288.75 1457.66 Q2286.94 1461.2 2286.94 1468.33 Q2286.94 1475.44 2288.75 1479.01 Q2290.58 1482.55 2294.19 1482.55 Q2297.82 1482.55 2299.63 1479.01 Q2301.46 1475.44 2301.46 1468.33 Q2301.46 1461.2 2299.63 1457.66 Q2297.82 1454.1 2294.19 1454.1 M2294.19 1450.39 Q2300 1450.39 2303.05 1455 Q2306.13 1459.58 2306.13 1468.33 Q2306.13 1477.06 2303.05 1481.67 Q2300 1486.25 2294.19 1486.25 Q2288.38 1486.25 2285.3 1481.67 Q2282.24 1477.06 2282.24 1468.33 Q2282.24 1459.58 2285.3 1455 Q2288.38 1450.39 2294.19 1450.39 Z\" fill=\"#000000\" fill-rule=\"nonzero\" fill-opacity=\"1\" /><path clip-path=\"url(#clip190)\" d=\"M2324.35 1454.1 Q2320.74 1454.1 2318.91 1457.66 Q2317.1 1461.2 2317.1 1468.33 Q2317.1 1475.44 2318.91 1479.01 Q2320.74 1482.55 2324.35 1482.55 Q2327.98 1482.55 2329.79 1479.01 Q2331.62 1475.44 2331.62 1468.33 Q2331.62 1461.2 2329.79 1457.66 Q2327.98 1454.1 2324.35 1454.1 M2324.35 1450.39 Q2330.16 1450.39 2333.21 1455 Q2336.29 1459.58 2336.29 1468.33 Q2336.29 1477.06 2333.21 1481.67 Q2330.16 1486.25 2324.35 1486.25 Q2318.54 1486.25 2315.46 1481.67 Q2312.4 1477.06 2312.4 1468.33 Q2312.4 1459.58 2315.46 1455 Q2318.54 1450.39 2324.35 1450.39 Z\" fill=\"#000000\" fill-rule=\"nonzero\" fill-opacity=\"1\" /><path clip-path=\"url(#clip190)\" d=\"M1172.3 1520.52 L1178.73 1520.52 L1178.73 1568.04 L1172.3 1568.04 L1172.3 1520.52 Z\" fill=\"#000000\" fill-rule=\"nonzero\" fill-opacity=\"1\" /><path clip-path=\"url(#clip190)\" d=\"M1197.06 1522.27 L1197.06 1532.4 L1209.12 1532.4 L1209.12 1536.95 L1197.06 1536.95 L1197.06 1556.3 Q1197.06 1560.66 1198.24 1561.9 Q1199.45 1563.14 1203.11 1563.14 L1209.12 1563.14 L1209.12 1568.04 L1203.11 1568.04 Q1196.33 1568.04 1193.75 1565.53 Q1191.17 1562.98 1191.17 1556.3 L1191.17 1536.95 L1186.87 1536.95 L1186.87 1532.4 L1191.17 1532.4 L1191.17 1522.27 L1197.06 1522.27 Z\" fill=\"#000000\" fill-rule=\"nonzero\" fill-opacity=\"1\" /><path clip-path=\"url(#clip190)\" d=\"M1247.32 1548.76 L1247.32 1551.62 L1220.39 1551.62 Q1220.77 1557.67 1224.02 1560.85 Q1227.3 1564 1233.12 1564 Q1236.5 1564 1239.65 1563.17 Q1242.83 1562.35 1245.95 1560.69 L1245.95 1566.23 Q1242.8 1567.57 1239.49 1568.27 Q1236.18 1568.97 1232.77 1568.97 Q1224.24 1568.97 1219.24 1564 Q1214.28 1559.04 1214.28 1550.57 Q1214.28 1541.82 1218.99 1536.69 Q1223.73 1531.54 1231.75 1531.54 Q1238.95 1531.54 1243.12 1536.18 Q1247.32 1540.8 1247.32 1548.76 M1241.46 1547.04 Q1241.4 1542.23 1238.75 1539.37 Q1236.14 1536.5 1231.82 1536.5 Q1226.91 1536.5 1223.95 1539.27 Q1221.03 1542.04 1220.58 1547.07 L1241.46 1547.04 M1235.83 1515.91 L1242.16 1515.91 L1231.78 1527.88 L1226.91 1527.88 L1235.83 1515.91 Z\" fill=\"#000000\" fill-rule=\"nonzero\" fill-opacity=\"1\" /><path clip-path=\"url(#clip190)\" d=\"M1277.59 1537.87 Q1276.6 1537.3 1275.42 1537.04 Q1274.28 1536.76 1272.88 1536.76 Q1267.91 1536.76 1265.24 1540 Q1262.59 1543.22 1262.59 1549.27 L1262.59 1568.04 L1256.71 1568.04 L1256.71 1532.4 L1262.59 1532.4 L1262.59 1537.93 Q1264.44 1534.69 1267.4 1533.13 Q1270.36 1531.54 1274.59 1531.54 Q1275.2 1531.54 1275.93 1531.63 Q1276.66 1531.7 1277.55 1531.85 L1277.59 1537.87 Z\" fill=\"#000000\" fill-rule=\"nonzero\" fill-opacity=\"1\" /><path clip-path=\"url(#clip190)\" d=\"M1299.93 1550.12 Q1292.83 1550.12 1290.09 1551.75 Q1287.36 1553.37 1287.36 1557.29 Q1287.36 1560.4 1289.39 1562.25 Q1291.46 1564.07 1295 1564.07 Q1299.87 1564.07 1302.79 1560.63 Q1305.75 1557.16 1305.75 1551.43 L1305.75 1550.12 L1299.93 1550.12 M1311.61 1547.71 L1311.61 1568.04 L1305.75 1568.04 L1305.75 1562.63 Q1303.75 1565.88 1300.76 1567.44 Q1297.77 1568.97 1293.44 1568.97 Q1287.96 1568.97 1284.72 1565.91 Q1281.5 1562.82 1281.5 1557.67 Q1281.5 1551.65 1285.51 1548.6 Q1289.55 1545.54 1297.54 1545.54 L1305.75 1545.54 L1305.75 1544.97 Q1305.75 1540.93 1303.08 1538.73 Q1300.44 1536.5 1295.63 1536.5 Q1292.58 1536.5 1289.68 1537.23 Q1286.78 1537.97 1284.11 1539.43 L1284.11 1534.02 Q1287.33 1532.78 1290.35 1532.17 Q1293.37 1531.54 1296.24 1531.54 Q1303.97 1531.54 1307.79 1535.55 Q1311.61 1539.56 1311.61 1547.71 Z\" fill=\"#000000\" fill-rule=\"nonzero\" fill-opacity=\"1\" /><path clip-path=\"url(#clip190)\" d=\"M1329.47 1522.27 L1329.47 1532.4 L1341.53 1532.4 L1341.53 1536.95 L1329.47 1536.95 L1329.47 1556.3 Q1329.47 1560.66 1330.64 1561.9 Q1331.85 1563.14 1335.51 1563.14 L1341.53 1563.14 L1341.53 1568.04 L1335.51 1568.04 Q1328.73 1568.04 1326.16 1565.53 Q1323.58 1562.98 1323.58 1556.3 L1323.58 1536.95 L1319.28 1536.95 L1319.28 1532.4 L1323.58 1532.4 L1323.58 1522.27 L1329.47 1522.27 Z\" fill=\"#000000\" fill-rule=\"nonzero\" fill-opacity=\"1\" /><path clip-path=\"url(#clip190)\" d=\"M1349.23 1532.4 L1355.09 1532.4 L1355.09 1568.04 L1349.23 1568.04 L1349.23 1532.4 M1349.23 1518.52 L1355.09 1518.52 L1355.09 1525.93 L1349.23 1525.93 L1349.23 1518.52 Z\" fill=\"#000000\" fill-rule=\"nonzero\" fill-opacity=\"1\" /><path clip-path=\"url(#clip190)\" d=\"M1381.16 1536.5 Q1376.45 1536.5 1373.71 1540.19 Q1370.97 1543.85 1370.97 1550.25 Q1370.97 1556.65 1373.68 1560.34 Q1376.41 1564 1381.16 1564 Q1385.83 1564 1388.57 1560.31 Q1391.31 1556.62 1391.31 1550.25 Q1391.31 1543.92 1388.57 1540.23 Q1385.83 1536.5 1381.16 1536.5 M1381.16 1531.54 Q1388.79 1531.54 1393.16 1536.5 Q1397.52 1541.47 1397.52 1550.25 Q1397.52 1559 1393.16 1564 Q1388.79 1568.97 1381.16 1568.97 Q1373.49 1568.97 1369.12 1564 Q1364.8 1559 1364.8 1550.25 Q1364.8 1541.47 1369.12 1536.5 Q1373.49 1531.54 1381.16 1531.54 Z\" fill=\"#000000\" fill-rule=\"nonzero\" fill-opacity=\"1\" /><path clip-path=\"url(#clip190)\" d=\"M1436.86 1546.53 L1436.86 1568.04 L1431 1568.04 L1431 1546.72 Q1431 1541.66 1429.03 1539.14 Q1427.05 1536.63 1423.11 1536.63 Q1418.36 1536.63 1415.63 1539.65 Q1412.89 1542.68 1412.89 1547.9 L1412.89 1568.04 L1407 1568.04 L1407 1532.4 L1412.89 1532.4 L1412.89 1537.93 Q1414.99 1534.72 1417.82 1533.13 Q1420.69 1531.54 1424.41 1531.54 Q1430.55 1531.54 1433.7 1535.36 Q1436.86 1539.14 1436.86 1546.53 Z\" fill=\"#000000\" fill-rule=\"nonzero\" fill-opacity=\"1\" /><path clip-path=\"url(#clip190)\" d=\"M1471.26 1533.45 L1471.26 1538.98 Q1468.78 1537.71 1466.11 1537.07 Q1463.43 1536.44 1460.57 1536.44 Q1456.21 1536.44 1454.01 1537.77 Q1451.85 1539.11 1451.85 1541.79 Q1451.85 1543.82 1453.41 1545 Q1454.97 1546.15 1459.68 1547.2 L1461.68 1547.64 Q1467.92 1548.98 1470.53 1551.43 Q1473.17 1553.85 1473.17 1558.21 Q1473.17 1563.17 1469.23 1566.07 Q1465.31 1568.97 1458.44 1568.97 Q1455.57 1568.97 1452.45 1568.39 Q1449.36 1567.85 1445.93 1566.74 L1445.93 1560.69 Q1449.17 1562.38 1452.32 1563.24 Q1455.48 1564.07 1458.56 1564.07 Q1462.7 1564.07 1464.93 1562.66 Q1467.16 1561.23 1467.16 1558.65 Q1467.16 1556.27 1465.53 1554.99 Q1463.94 1553.72 1458.5 1552.54 L1456.46 1552.07 Q1451.02 1550.92 1448.6 1548.56 Q1446.18 1546.18 1446.18 1542.04 Q1446.18 1537.01 1449.75 1534.27 Q1453.31 1531.54 1459.87 1531.54 Q1463.11 1531.54 1465.98 1532.01 Q1468.84 1532.49 1471.26 1533.45 Z\" fill=\"#000000\" fill-rule=\"nonzero\" fill-opacity=\"1\" /><polyline clip-path=\"url(#clip192)\" style=\"stroke:#000000; stroke-linecap:round; stroke-linejoin:round; stroke-width:2; stroke-opacity:0.1; fill:none\" points=\"292.713,1107.5 2352.76,1107.5 \"/>\n",
       "<polyline clip-path=\"url(#clip192)\" style=\"stroke:#000000; stroke-linecap:round; stroke-linejoin:round; stroke-width:2; stroke-opacity:0.1; fill:none\" points=\"292.713,787.255 2352.76,787.255 \"/>\n",
       "<polyline clip-path=\"url(#clip192)\" style=\"stroke:#000000; stroke-linecap:round; stroke-linejoin:round; stroke-width:2; stroke-opacity:0.1; fill:none\" points=\"292.713,467.014 2352.76,467.014 \"/>\n",
       "<polyline clip-path=\"url(#clip192)\" style=\"stroke:#000000; stroke-linecap:round; stroke-linejoin:round; stroke-width:2; stroke-opacity:0.1; fill:none\" points=\"292.713,146.773 2352.76,146.773 \"/>\n",
       "<polyline clip-path=\"url(#clip190)\" style=\"stroke:#000000; stroke-linecap:round; stroke-linejoin:round; stroke-width:4; stroke-opacity:1; fill:none\" points=\"292.713,1423.18 292.713,123.472 \"/>\n",
       "<polyline clip-path=\"url(#clip190)\" style=\"stroke:#000000; stroke-linecap:round; stroke-linejoin:round; stroke-width:4; stroke-opacity:1; fill:none\" points=\"292.713,1107.5 311.611,1107.5 \"/>\n",
       "<polyline clip-path=\"url(#clip190)\" style=\"stroke:#000000; stroke-linecap:round; stroke-linejoin:round; stroke-width:4; stroke-opacity:1; fill:none\" points=\"292.713,787.255 311.611,787.255 \"/>\n",
       "<polyline clip-path=\"url(#clip190)\" style=\"stroke:#000000; stroke-linecap:round; stroke-linejoin:round; stroke-width:4; stroke-opacity:1; fill:none\" points=\"292.713,467.014 311.611,467.014 \"/>\n",
       "<polyline clip-path=\"url(#clip190)\" style=\"stroke:#000000; stroke-linecap:round; stroke-linejoin:round; stroke-width:4; stroke-opacity:1; fill:none\" points=\"292.713,146.773 311.611,146.773 \"/>\n",
       "<path clip-path=\"url(#clip190)\" d=\"M114.931 1120.84 L122.57 1120.84 L122.57 1094.47 L114.26 1096.14 L114.26 1091.88 L122.524 1090.22 L127.2 1090.22 L127.2 1120.84 L134.839 1120.84 L134.839 1124.78 L114.931 1124.78 L114.931 1120.84 Z\" fill=\"#000000\" fill-rule=\"nonzero\" fill-opacity=\"1\" /><path clip-path=\"url(#clip190)\" d=\"M154.283 1093.29 Q150.672 1093.29 148.843 1096.86 Q147.038 1100.4 147.038 1107.53 Q147.038 1114.64 148.843 1118.2 Q150.672 1121.74 154.283 1121.74 Q157.917 1121.74 159.723 1118.2 Q161.552 1114.64 161.552 1107.53 Q161.552 1100.4 159.723 1096.86 Q157.917 1093.29 154.283 1093.29 M154.283 1089.59 Q160.093 1089.59 163.149 1094.2 Q166.227 1098.78 166.227 1107.53 Q166.227 1116.26 163.149 1120.86 Q160.093 1125.45 154.283 1125.45 Q148.473 1125.45 145.394 1120.86 Q142.339 1116.26 142.339 1107.53 Q142.339 1098.78 145.394 1094.2 Q148.473 1089.59 154.283 1089.59 Z\" fill=\"#000000\" fill-rule=\"nonzero\" fill-opacity=\"1\" /><path clip-path=\"url(#clip190)\" d=\"M184.445 1093.29 Q180.834 1093.29 179.005 1096.86 Q177.2 1100.4 177.2 1107.53 Q177.2 1114.64 179.005 1118.2 Q180.834 1121.74 184.445 1121.74 Q188.079 1121.74 189.885 1118.2 Q191.713 1114.64 191.713 1107.53 Q191.713 1100.4 189.885 1096.86 Q188.079 1093.29 184.445 1093.29 M184.445 1089.59 Q190.255 1089.59 193.311 1094.2 Q196.389 1098.78 196.389 1107.53 Q196.389 1116.26 193.311 1120.86 Q190.255 1125.45 184.445 1125.45 Q178.635 1125.45 175.556 1120.86 Q172.501 1116.26 172.501 1107.53 Q172.501 1098.78 175.556 1094.2 Q178.635 1089.59 184.445 1089.59 Z\" fill=\"#000000\" fill-rule=\"nonzero\" fill-opacity=\"1\" /><path clip-path=\"url(#clip190)\" d=\"M214.607 1093.29 Q210.996 1093.29 209.167 1096.86 Q207.362 1100.4 207.362 1107.53 Q207.362 1114.64 209.167 1118.2 Q210.996 1121.74 214.607 1121.74 Q218.241 1121.74 220.047 1118.2 Q221.875 1114.64 221.875 1107.53 Q221.875 1100.4 220.047 1096.86 Q218.241 1093.29 214.607 1093.29 M214.607 1089.59 Q220.417 1089.59 223.473 1094.2 Q226.551 1098.78 226.551 1107.53 Q226.551 1116.26 223.473 1120.86 Q220.417 1125.45 214.607 1125.45 Q208.797 1125.45 205.718 1120.86 Q202.662 1116.26 202.662 1107.53 Q202.662 1098.78 205.718 1094.2 Q208.797 1089.59 214.607 1089.59 Z\" fill=\"#000000\" fill-rule=\"nonzero\" fill-opacity=\"1\" /><path clip-path=\"url(#clip190)\" d=\"M244.769 1093.29 Q241.158 1093.29 239.329 1096.86 Q237.523 1100.4 237.523 1107.53 Q237.523 1114.64 239.329 1118.2 Q241.158 1121.74 244.769 1121.74 Q248.403 1121.74 250.209 1118.2 Q252.037 1114.64 252.037 1107.53 Q252.037 1100.4 250.209 1096.86 Q248.403 1093.29 244.769 1093.29 M244.769 1089.59 Q250.579 1089.59 253.634 1094.2 Q256.713 1098.78 256.713 1107.53 Q256.713 1116.26 253.634 1120.86 Q250.579 1125.45 244.769 1125.45 Q238.959 1125.45 235.88 1120.86 Q232.824 1116.26 232.824 1107.53 Q232.824 1098.78 235.88 1094.2 Q238.959 1089.59 244.769 1089.59 Z\" fill=\"#000000\" fill-rule=\"nonzero\" fill-opacity=\"1\" /><path clip-path=\"url(#clip190)\" d=\"M114.931 800.6 L122.57 800.6 L122.57 774.234 L114.26 775.901 L114.26 771.642 L122.524 769.975 L127.2 769.975 L127.2 800.6 L134.839 800.6 L134.839 804.535 L114.931 804.535 L114.931 800.6 Z\" fill=\"#000000\" fill-rule=\"nonzero\" fill-opacity=\"1\" /><path clip-path=\"url(#clip190)\" d=\"M148.311 800.6 L164.63 800.6 L164.63 804.535 L142.686 804.535 L142.686 800.6 Q145.348 797.845 149.931 793.216 Q154.538 788.563 155.718 787.22 Q157.964 784.697 158.843 782.961 Q159.746 781.202 159.746 779.512 Q159.746 776.757 157.802 775.021 Q155.88 773.285 152.778 773.285 Q150.579 773.285 148.126 774.049 Q145.695 774.813 142.917 776.364 L142.917 771.642 Q145.741 770.507 148.195 769.929 Q150.649 769.35 152.686 769.35 Q158.056 769.35 161.251 772.035 Q164.445 774.72 164.445 779.211 Q164.445 781.341 163.635 783.262 Q162.848 785.16 160.741 787.753 Q160.163 788.424 157.061 791.642 Q153.959 794.836 148.311 800.6 Z\" fill=\"#000000\" fill-rule=\"nonzero\" fill-opacity=\"1\" /><path clip-path=\"url(#clip190)\" d=\"M184.445 773.054 Q180.834 773.054 179.005 776.618 Q177.2 780.16 177.2 787.29 Q177.2 794.396 179.005 797.961 Q180.834 801.503 184.445 801.503 Q188.079 801.503 189.885 797.961 Q191.713 794.396 191.713 787.29 Q191.713 780.16 189.885 776.618 Q188.079 773.054 184.445 773.054 M184.445 769.35 Q190.255 769.35 193.311 773.956 Q196.389 778.54 196.389 787.29 Q196.389 796.016 193.311 800.623 Q190.255 805.206 184.445 805.206 Q178.635 805.206 175.556 800.623 Q172.501 796.016 172.501 787.29 Q172.501 778.54 175.556 773.956 Q178.635 769.35 184.445 769.35 Z\" fill=\"#000000\" fill-rule=\"nonzero\" fill-opacity=\"1\" /><path clip-path=\"url(#clip190)\" d=\"M214.607 773.054 Q210.996 773.054 209.167 776.618 Q207.362 780.16 207.362 787.29 Q207.362 794.396 209.167 797.961 Q210.996 801.503 214.607 801.503 Q218.241 801.503 220.047 797.961 Q221.875 794.396 221.875 787.29 Q221.875 780.16 220.047 776.618 Q218.241 773.054 214.607 773.054 M214.607 769.35 Q220.417 769.35 223.473 773.956 Q226.551 778.54 226.551 787.29 Q226.551 796.016 223.473 800.623 Q220.417 805.206 214.607 805.206 Q208.797 805.206 205.718 800.623 Q202.662 796.016 202.662 787.29 Q202.662 778.54 205.718 773.956 Q208.797 769.35 214.607 769.35 Z\" fill=\"#000000\" fill-rule=\"nonzero\" fill-opacity=\"1\" /><path clip-path=\"url(#clip190)\" d=\"M244.769 773.054 Q241.158 773.054 239.329 776.618 Q237.523 780.16 237.523 787.29 Q237.523 794.396 239.329 797.961 Q241.158 801.503 244.769 801.503 Q248.403 801.503 250.209 797.961 Q252.037 794.396 252.037 787.29 Q252.037 780.16 250.209 776.618 Q248.403 773.054 244.769 773.054 M244.769 769.35 Q250.579 769.35 253.634 773.956 Q256.713 778.54 256.713 787.29 Q256.713 796.016 253.634 800.623 Q250.579 805.206 244.769 805.206 Q238.959 805.206 235.88 800.623 Q232.824 796.016 232.824 787.29 Q232.824 778.54 235.88 773.956 Q238.959 769.35 244.769 769.35 Z\" fill=\"#000000\" fill-rule=\"nonzero\" fill-opacity=\"1\" /><path clip-path=\"url(#clip190)\" d=\"M114.931 480.359 L122.57 480.359 L122.57 453.993 L114.26 455.66 L114.26 451.401 L122.524 449.734 L127.2 449.734 L127.2 480.359 L134.839 480.359 L134.839 484.294 L114.931 484.294 L114.931 480.359 Z\" fill=\"#000000\" fill-rule=\"nonzero\" fill-opacity=\"1\" /><path clip-path=\"url(#clip190)\" d=\"M157.13 453.808 L145.325 472.257 L157.13 472.257 L157.13 453.808 M155.903 449.734 L161.783 449.734 L161.783 472.257 L166.714 472.257 L166.714 476.146 L161.783 476.146 L161.783 484.294 L157.13 484.294 L157.13 476.146 L141.529 476.146 L141.529 471.632 L155.903 449.734 Z\" fill=\"#000000\" fill-rule=\"nonzero\" fill-opacity=\"1\" /><path clip-path=\"url(#clip190)\" d=\"M184.445 452.813 Q180.834 452.813 179.005 456.378 Q177.2 459.919 177.2 467.049 Q177.2 474.155 179.005 477.72 Q180.834 481.262 184.445 481.262 Q188.079 481.262 189.885 477.72 Q191.713 474.155 191.713 467.049 Q191.713 459.919 189.885 456.378 Q188.079 452.813 184.445 452.813 M184.445 449.109 Q190.255 449.109 193.311 453.716 Q196.389 458.299 196.389 467.049 Q196.389 475.776 193.311 480.382 Q190.255 484.965 184.445 484.965 Q178.635 484.965 175.556 480.382 Q172.501 475.776 172.501 467.049 Q172.501 458.299 175.556 453.716 Q178.635 449.109 184.445 449.109 Z\" fill=\"#000000\" fill-rule=\"nonzero\" fill-opacity=\"1\" /><path clip-path=\"url(#clip190)\" d=\"M214.607 452.813 Q210.996 452.813 209.167 456.378 Q207.362 459.919 207.362 467.049 Q207.362 474.155 209.167 477.72 Q210.996 481.262 214.607 481.262 Q218.241 481.262 220.047 477.72 Q221.875 474.155 221.875 467.049 Q221.875 459.919 220.047 456.378 Q218.241 452.813 214.607 452.813 M214.607 449.109 Q220.417 449.109 223.473 453.716 Q226.551 458.299 226.551 467.049 Q226.551 475.776 223.473 480.382 Q220.417 484.965 214.607 484.965 Q208.797 484.965 205.718 480.382 Q202.662 475.776 202.662 467.049 Q202.662 458.299 205.718 453.716 Q208.797 449.109 214.607 449.109 Z\" fill=\"#000000\" fill-rule=\"nonzero\" fill-opacity=\"1\" /><path clip-path=\"url(#clip190)\" d=\"M244.769 452.813 Q241.158 452.813 239.329 456.378 Q237.523 459.919 237.523 467.049 Q237.523 474.155 239.329 477.72 Q241.158 481.262 244.769 481.262 Q248.403 481.262 250.209 477.72 Q252.037 474.155 252.037 467.049 Q252.037 459.919 250.209 456.378 Q248.403 452.813 244.769 452.813 M244.769 449.109 Q250.579 449.109 253.634 453.716 Q256.713 458.299 256.713 467.049 Q256.713 475.776 253.634 480.382 Q250.579 484.965 244.769 484.965 Q238.959 484.965 235.88 480.382 Q232.824 475.776 232.824 467.049 Q232.824 458.299 235.88 453.716 Q238.959 449.109 244.769 449.109 Z\" fill=\"#000000\" fill-rule=\"nonzero\" fill-opacity=\"1\" /><path clip-path=\"url(#clip190)\" d=\"M114.931 160.118 L122.57 160.118 L122.57 133.753 L114.26 135.419 L114.26 131.16 L122.524 129.493 L127.2 129.493 L127.2 160.118 L134.839 160.118 L134.839 164.053 L114.931 164.053 L114.931 160.118 Z\" fill=\"#000000\" fill-rule=\"nonzero\" fill-opacity=\"1\" /><path clip-path=\"url(#clip190)\" d=\"M154.862 144.91 Q151.714 144.91 149.862 147.063 Q148.033 149.216 148.033 152.966 Q148.033 156.692 149.862 158.868 Q151.714 161.021 154.862 161.021 Q158.01 161.021 159.839 158.868 Q161.69 156.692 161.69 152.966 Q161.69 149.216 159.839 147.063 Q158.01 144.91 154.862 144.91 M164.144 130.257 L164.144 134.517 Q162.385 133.683 160.579 133.243 Q158.797 132.804 157.038 132.804 Q152.408 132.804 149.954 135.929 Q147.524 139.054 147.177 145.373 Q148.542 143.359 150.603 142.294 Q152.663 141.206 155.14 141.206 Q160.348 141.206 163.357 144.378 Q166.39 147.526 166.39 152.966 Q166.39 158.29 163.241 161.507 Q160.093 164.725 154.862 164.725 Q148.866 164.725 145.695 160.141 Q142.524 155.535 142.524 146.808 Q142.524 138.614 146.413 133.753 Q150.302 128.868 156.853 128.868 Q158.612 128.868 160.394 129.216 Q162.2 129.563 164.144 130.257 Z\" fill=\"#000000\" fill-rule=\"nonzero\" fill-opacity=\"1\" /><path clip-path=\"url(#clip190)\" d=\"M184.445 132.572 Q180.834 132.572 179.005 136.137 Q177.2 139.679 177.2 146.808 Q177.2 153.915 179.005 157.479 Q180.834 161.021 184.445 161.021 Q188.079 161.021 189.885 157.479 Q191.713 153.915 191.713 146.808 Q191.713 139.679 189.885 136.137 Q188.079 132.572 184.445 132.572 M184.445 128.868 Q190.255 128.868 193.311 133.475 Q196.389 138.058 196.389 146.808 Q196.389 155.535 193.311 160.141 Q190.255 164.725 184.445 164.725 Q178.635 164.725 175.556 160.141 Q172.501 155.535 172.501 146.808 Q172.501 138.058 175.556 133.475 Q178.635 128.868 184.445 128.868 Z\" fill=\"#000000\" fill-rule=\"nonzero\" fill-opacity=\"1\" /><path clip-path=\"url(#clip190)\" d=\"M214.607 132.572 Q210.996 132.572 209.167 136.137 Q207.362 139.679 207.362 146.808 Q207.362 153.915 209.167 157.479 Q210.996 161.021 214.607 161.021 Q218.241 161.021 220.047 157.479 Q221.875 153.915 221.875 146.808 Q221.875 139.679 220.047 136.137 Q218.241 132.572 214.607 132.572 M214.607 128.868 Q220.417 128.868 223.473 133.475 Q226.551 138.058 226.551 146.808 Q226.551 155.535 223.473 160.141 Q220.417 164.725 214.607 164.725 Q208.797 164.725 205.718 160.141 Q202.662 155.535 202.662 146.808 Q202.662 138.058 205.718 133.475 Q208.797 128.868 214.607 128.868 Z\" fill=\"#000000\" fill-rule=\"nonzero\" fill-opacity=\"1\" /><path clip-path=\"url(#clip190)\" d=\"M244.769 132.572 Q241.158 132.572 239.329 136.137 Q237.523 139.679 237.523 146.808 Q237.523 153.915 239.329 157.479 Q241.158 161.021 244.769 161.021 Q248.403 161.021 250.209 157.479 Q252.037 153.915 252.037 146.808 Q252.037 139.679 250.209 136.137 Q248.403 132.572 244.769 132.572 M244.769 128.868 Q250.579 128.868 253.634 133.475 Q256.713 138.058 256.713 146.808 Q256.713 155.535 253.634 160.141 Q250.579 164.725 244.769 164.725 Q238.959 164.725 235.88 160.141 Q232.824 155.535 232.824 146.808 Q232.824 138.058 235.88 133.475 Q238.959 128.868 244.769 128.868 Z\" fill=\"#000000\" fill-rule=\"nonzero\" fill-opacity=\"1\" /><path clip-path=\"url(#clip190)\" d=\"M20.1444 808.528 L26.9239 808.528 Q23.9002 811.775 22.4043 815.467 Q20.9083 819.127 20.9083 823.265 Q20.9083 831.413 25.9054 835.742 Q30.8707 840.07 40.2919 840.07 Q49.6813 840.07 54.6784 835.742 Q59.6436 831.413 59.6436 823.265 Q59.6436 819.127 58.1477 815.467 Q56.6518 811.775 53.6281 808.528 L60.3439 808.528 Q62.6355 811.902 63.7814 815.69 Q64.9272 819.446 64.9272 823.647 Q64.9272 834.437 58.3387 840.643 Q51.7183 846.85 40.2919 846.85 Q28.8336 846.85 22.2451 840.643 Q15.6248 834.437 15.6248 823.647 Q15.6248 819.382 16.7706 815.626 Q17.8846 811.839 20.1444 808.528 Z\" fill=\"#000000\" fill-rule=\"nonzero\" fill-opacity=\"1\" /><path clip-path=\"url(#clip190)\" d=\"M32.4621 785.039 Q32.4621 789.75 36.1542 792.487 Q39.8145 795.224 46.212 795.224 Q52.6095 795.224 56.3017 792.519 Q59.9619 789.781 59.9619 785.039 Q59.9619 780.36 56.2698 777.623 Q52.5777 774.886 46.212 774.886 Q39.8781 774.886 36.186 777.623 Q32.4621 780.36 32.4621 785.039 M27.4968 785.039 Q27.4968 777.4 32.4621 773.04 Q37.4273 768.679 46.212 768.679 Q54.9649 768.679 59.9619 773.04 Q64.9272 777.4 64.9272 785.039 Q64.9272 792.71 59.9619 797.07 Q54.9649 801.399 46.212 801.399 Q37.4273 801.399 32.4621 797.07 Q27.4968 792.71 27.4968 785.039 Z\" fill=\"#000000\" fill-rule=\"nonzero\" fill-opacity=\"1\" /><path clip-path=\"url(#clip190)\" d=\"M49.9359 759.576 L28.3562 759.576 L28.3562 753.72 L49.7131 753.72 Q54.7739 753.72 57.3202 751.746 Q59.8346 749.773 59.8346 745.826 Q59.8346 741.084 56.8109 738.346 Q53.7872 735.577 48.5673 735.577 L28.3562 735.577 L28.3562 729.721 L64.0042 729.721 L64.0042 735.577 L58.5296 735.577 Q61.7762 737.71 63.3676 740.543 Q64.9272 743.344 64.9272 747.067 Q64.9272 753.21 61.1078 756.393 Q57.2883 759.576 49.9359 759.576 M27.4968 744.839 L27.4968 744.839 M11.869 747.258 L11.869 742.548 L23.8365 734.75 L23.8365 739.174 L16.0386 744.903 L23.8365 750.632 L23.8365 755.056 L11.869 747.258 Z\" fill=\"#000000\" fill-rule=\"nonzero\" fill-opacity=\"1\" /><path clip-path=\"url(#clip190)\" d=\"M18.2347 711.865 L28.3562 711.865 L28.3562 699.802 L32.9077 699.802 L32.9077 711.865 L52.2594 711.865 Q56.6199 711.865 57.8613 710.687 Q59.1026 709.478 59.1026 705.818 L59.1026 699.802 L64.0042 699.802 L64.0042 705.818 Q64.0042 712.597 61.4897 715.175 Q58.9434 717.753 52.2594 717.753 L32.9077 717.753 L32.9077 722.05 L28.3562 722.05 L28.3562 717.753 L18.2347 717.753 L18.2347 711.865 Z\" fill=\"#000000\" fill-rule=\"nonzero\" fill-opacity=\"1\" /><path clip-path=\"url(#clip190)\" d=\"M964.655 12.096 L1002.9 12.096 L1002.9 18.9825 L972.838 18.9825 L972.838 36.8875 L1001.64 36.8875 L1001.64 43.7741 L972.838 43.7741 L972.838 65.6895 L1003.62 65.6895 L1003.62 72.576 L964.655 72.576 L964.655 12.096 M985.882 -4.35067 L993.376 -4.35067 L984.14 6.34372 L977.942 6.34372 L985.882 -4.35067 Z\" fill=\"#000000\" fill-rule=\"nonzero\" fill-opacity=\"1\" /><path clip-path=\"url(#clip190)\" d=\"M1011.4 27.2059 L1019.3 27.2059 L1033.48 65.2844 L1047.66 27.2059 L1055.56 27.2059 L1038.54 72.576 L1028.42 72.576 L1011.4 27.2059 Z\" fill=\"#000000\" fill-rule=\"nonzero\" fill-opacity=\"1\" /><path clip-path=\"url(#clip190)\" d=\"M1083.43 32.4315 Q1077.43 32.4315 1073.95 37.1306 Q1070.46 41.7891 1070.46 49.9314 Q1070.46 58.0738 1073.91 62.7728 Q1077.39 67.4314 1083.43 67.4314 Q1089.38 67.4314 1092.87 62.7323 Q1096.35 58.0333 1096.35 49.9314 Q1096.35 41.8701 1092.87 37.1711 Q1089.38 32.4315 1083.43 32.4315 M1083.43 26.1121 Q1093.15 26.1121 1098.7 32.4315 Q1104.25 38.7509 1104.25 49.9314 Q1104.25 61.0714 1098.7 67.4314 Q1093.15 73.7508 1083.43 73.7508 Q1073.66 73.7508 1068.11 67.4314 Q1062.61 61.0714 1062.61 49.9314 Q1062.61 38.7509 1068.11 32.4315 Q1073.66 26.1121 1083.43 26.1121 Z\" fill=\"#000000\" fill-rule=\"nonzero\" fill-opacity=\"1\" /><path clip-path=\"url(#clip190)\" d=\"M1116.6 9.54393 L1124.06 9.54393 L1124.06 72.576 L1116.6 72.576 L1116.6 9.54393 Z\" fill=\"#000000\" fill-rule=\"nonzero\" fill-opacity=\"1\" /><path clip-path=\"url(#clip190)\" d=\"M1138.88 54.671 L1138.88 27.2059 L1146.34 27.2059 L1146.34 54.3874 Q1146.34 60.8284 1148.85 64.0691 Q1151.36 67.2693 1156.38 67.2693 Q1162.42 67.2693 1165.9 63.421 Q1169.43 59.5726 1169.43 52.9291 L1169.43 27.2059 L1176.88 27.2059 L1176.88 72.576 L1169.43 72.576 L1169.43 65.6084 Q1166.71 69.7404 1163.11 71.7658 Q1159.54 73.7508 1154.8 73.7508 Q1146.99 73.7508 1142.94 68.8897 Q1138.88 64.0286 1138.88 54.671 M1157.64 26.1121 L1157.64 26.1121 Z\" fill=\"#000000\" fill-rule=\"nonzero\" fill-opacity=\"1\" /><path clip-path=\"url(#clip190)\" d=\"M1199.61 14.324 L1199.61 27.2059 L1214.96 27.2059 L1214.96 32.9987 L1199.61 32.9987 L1199.61 57.6282 Q1199.61 63.1779 1201.11 64.7578 Q1202.65 66.3376 1207.3 66.3376 L1214.96 66.3376 L1214.96 72.576 L1207.3 72.576 Q1198.68 72.576 1195.39 69.3758 Q1192.11 66.1351 1192.11 57.6282 L1192.11 32.9987 L1186.64 32.9987 L1186.64 27.2059 L1192.11 27.2059 L1192.11 14.324 L1199.61 14.324 Z\" fill=\"#000000\" fill-rule=\"nonzero\" fill-opacity=\"1\" /><path clip-path=\"url(#clip190)\" d=\"M1224.76 27.2059 L1232.22 27.2059 L1232.22 72.576 L1224.76 72.576 L1224.76 27.2059 M1224.76 9.54393 L1232.22 9.54393 L1232.22 18.9825 L1224.76 18.9825 L1224.76 9.54393 Z\" fill=\"#000000\" fill-rule=\"nonzero\" fill-opacity=\"1\" /><path clip-path=\"url(#clip190)\" d=\"M1265.39 32.4315 Q1259.4 32.4315 1255.91 37.1306 Q1252.43 41.7891 1252.43 49.9314 Q1252.43 58.0738 1255.87 62.7728 Q1259.36 67.4314 1265.39 67.4314 Q1271.35 67.4314 1274.83 62.7323 Q1278.32 58.0333 1278.32 49.9314 Q1278.32 41.8701 1274.83 37.1711 Q1271.35 32.4315 1265.39 32.4315 M1265.39 26.1121 Q1275.12 26.1121 1280.67 32.4315 Q1286.22 38.7509 1286.22 49.9314 Q1286.22 61.0714 1280.67 67.4314 Q1275.12 73.7508 1265.39 73.7508 Q1255.63 73.7508 1250.08 67.4314 Q1244.57 61.0714 1244.57 49.9314 Q1244.57 38.7509 1250.08 32.4315 Q1255.63 26.1121 1265.39 26.1121 Z\" fill=\"#000000\" fill-rule=\"nonzero\" fill-opacity=\"1\" /><path clip-path=\"url(#clip190)\" d=\"M1336.28 45.1919 L1336.28 72.576 L1328.83 72.576 L1328.83 45.4349 Q1328.83 38.994 1326.32 35.7938 Q1323.81 32.5936 1318.78 32.5936 Q1312.75 32.5936 1309.27 36.4419 Q1305.78 40.2903 1305.78 46.9338 L1305.78 72.576 L1298.29 72.576 L1298.29 27.2059 L1305.78 27.2059 L1305.78 34.2544 Q1308.46 30.163 1312.06 28.1376 Q1315.71 26.1121 1320.45 26.1121 Q1328.26 26.1121 1332.27 30.9732 Q1336.28 35.7938 1336.28 45.1919 Z\" fill=\"#000000\" fill-rule=\"nonzero\" fill-opacity=\"1\" /><path clip-path=\"url(#clip190)\" d=\"M1407.38 34.0924 L1407.38 9.54393 L1414.83 9.54393 L1414.83 72.576 L1407.38 72.576 L1407.38 65.7705 Q1405.03 69.8214 1401.42 71.8063 Q1397.86 73.7508 1392.84 73.7508 Q1384.61 73.7508 1379.43 67.1883 Q1374.28 60.6258 1374.28 49.9314 Q1374.28 39.2371 1379.43 32.6746 Q1384.61 26.1121 1392.84 26.1121 Q1397.86 26.1121 1401.42 28.0971 Q1405.03 30.0415 1407.38 34.0924 M1381.98 49.9314 Q1381.98 58.1548 1385.34 62.8538 Q1388.74 67.5124 1394.66 67.5124 Q1400.57 67.5124 1403.98 62.8538 Q1407.38 58.1548 1407.38 49.9314 Q1407.38 41.7081 1403.98 37.0496 Q1400.57 32.3505 1394.66 32.3505 Q1388.74 32.3505 1385.34 37.0496 Q1381.98 41.7081 1381.98 49.9314 Z\" fill=\"#000000\" fill-rule=\"nonzero\" fill-opacity=\"1\" /><path clip-path=\"url(#clip190)\" d=\"M1429.42 54.671 L1429.42 27.2059 L1436.87 27.2059 L1436.87 54.3874 Q1436.87 60.8284 1439.38 64.0691 Q1441.89 67.2693 1446.91 67.2693 Q1452.95 67.2693 1456.43 63.421 Q1459.96 59.5726 1459.96 52.9291 L1459.96 27.2059 L1467.41 27.2059 L1467.41 72.576 L1459.96 72.576 L1459.96 65.6084 Q1457.24 69.7404 1453.64 71.7658 Q1450.07 73.7508 1445.34 73.7508 Q1437.52 73.7508 1433.47 68.8897 Q1429.42 64.0286 1429.42 54.671 M1448.17 26.1121 L1448.17 26.1121 Z\" fill=\"#000000\" fill-rule=\"nonzero\" fill-opacity=\"1\" /><path clip-path=\"url(#clip190)\" d=\"M1541.79 28.9478 L1541.79 35.9153 Q1538.63 34.1734 1535.43 33.3227 Q1532.27 32.4315 1529.03 32.4315 Q1521.78 32.4315 1517.77 37.0496 Q1513.75 41.6271 1513.75 49.9314 Q1513.75 58.2358 1517.77 62.8538 Q1521.78 67.4314 1529.03 67.4314 Q1532.27 67.4314 1535.43 66.5807 Q1538.63 65.6895 1541.79 63.9476 L1541.79 70.8341 Q1538.67 72.2924 1535.31 73.0216 Q1531.98 73.7508 1528.22 73.7508 Q1517.97 73.7508 1511.93 67.3098 Q1505.9 60.8689 1505.9 49.9314 Q1505.9 38.832 1511.97 32.472 Q1518.09 26.1121 1528.7 26.1121 Q1532.15 26.1121 1535.43 26.8413 Q1538.71 27.5299 1541.79 28.9478 Z\" fill=\"#000000\" fill-rule=\"nonzero\" fill-opacity=\"1\" /><path clip-path=\"url(#clip190)\" d=\"M1572.33 32.4315 Q1566.34 32.4315 1562.85 37.1306 Q1559.37 41.7891 1559.37 49.9314 Q1559.37 58.0738 1562.81 62.7728 Q1566.3 67.4314 1572.33 67.4314 Q1578.29 67.4314 1581.77 62.7323 Q1585.25 58.0333 1585.25 49.9314 Q1585.25 41.8701 1581.77 37.1711 Q1578.29 32.4315 1572.33 32.4315 M1572.33 26.1121 Q1582.05 26.1121 1587.6 32.4315 Q1593.15 38.7509 1593.15 49.9314 Q1593.15 61.0714 1587.6 67.4314 Q1582.05 73.7508 1572.33 73.7508 Q1562.57 73.7508 1557.02 67.4314 Q1551.51 61.0714 1551.51 49.9314 Q1551.51 38.7509 1557.02 32.4315 Q1562.57 26.1121 1572.33 26.1121 Z\" fill=\"#000000\" fill-rule=\"nonzero\" fill-opacity=\"1\" /><path clip-path=\"url(#clip190)\" d=\"M1604.74 54.671 L1604.74 27.2059 L1612.19 27.2059 L1612.19 54.3874 Q1612.19 60.8284 1614.7 64.0691 Q1617.21 67.2693 1622.24 67.2693 Q1628.27 67.2693 1631.76 63.421 Q1635.28 59.5726 1635.28 52.9291 L1635.28 27.2059 L1642.74 27.2059 L1642.74 72.576 L1635.28 72.576 L1635.28 65.6084 Q1632.57 69.7404 1628.96 71.7658 Q1625.4 73.7508 1620.66 73.7508 Q1612.84 73.7508 1608.79 68.8897 Q1604.74 64.0286 1604.74 54.671 M1623.49 26.1121 L1623.49 26.1121 M1620.42 6.22219 L1626.41 6.22219 L1636.34 21.4536 L1630.7 21.4536 L1623.41 11.5289 L1616.12 21.4536 L1610.49 21.4536 L1620.42 6.22219 Z\" fill=\"#000000\" fill-rule=\"nonzero\" fill-opacity=\"1\" /><path clip-path=\"url(#clip190)\" d=\"M1665.46 14.324 L1665.46 27.2059 L1680.81 27.2059 L1680.81 32.9987 L1665.46 32.9987 L1665.46 57.6282 Q1665.46 63.1779 1666.96 64.7578 Q1668.5 66.3376 1673.16 66.3376 L1680.81 66.3376 L1680.81 72.576 L1673.16 72.576 Q1664.53 72.576 1661.25 69.3758 Q1657.97 66.1351 1657.97 57.6282 L1657.97 32.9987 L1652.5 32.9987 L1652.5 27.2059 L1657.97 27.2059 L1657.97 14.324 L1665.46 14.324 Z\" fill=\"#000000\" fill-rule=\"nonzero\" fill-opacity=\"1\" /><polyline clip-path=\"url(#clip192)\" style=\"stroke:#009af9; stroke-linecap:round; stroke-linejoin:round; stroke-width:4; stroke-opacity:1; fill:none\" points=\"351.016,160.256 354.911,160.256 358.806,160.256 362.7,160.256 366.595,160.256 370.49,167.796 374.384,167.796 378.279,167.796 382.173,182.164 386.068,182.164 389.963,182.164 393.857,182.164 397.752,182.164 401.647,182.164 405.541,182.164 409.436,182.164 413.331,182.164 417.225,182.164 421.12,182.164 425.015,182.164 428.909,182.164 432.804,182.164 436.699,182.164 440.593,182.164 444.488,182.164 448.383,182.164 452.277,202.725 456.172,202.725 460.067,202.725 463.961,202.725 467.856,202.725 471.751,202.725 475.645,202.725 479.54,202.725 483.435,202.725 487.329,202.725 491.224,202.725 495.119,202.725 499.013,202.725 502.908,202.725 506.803,224.527 510.697,224.527 514.592,224.527 518.487,224.527 522.381,224.527 526.276,224.527 530.171,224.527 534.065,224.527 537.96,224.527 541.855,224.527 545.749,224.527 549.644,231.82 553.539,231.82 557.433,231.82 561.328,231.82 565.223,231.82 569.117,231.82 573.012,252.041 576.907,304.939 580.801,304.939 584.696,304.939 588.591,304.939 592.485,304.939 596.38,304.939 600.275,304.939 604.169,304.939 608.064,304.939 611.959,304.939 615.853,304.939 619.748,304.939 623.643,304.939 627.537,304.939 631.432,304.939 635.327,304.939 639.221,304.939 643.116,305.104 647.011,357.946 650.905,357.946 654.8,357.946 658.695,357.946 662.589,357.946 666.484,406.906 670.379,406.906 674.273,406.906 678.168,406.906 682.063,406.906 685.957,406.906 689.852,406.906 693.747,406.906 697.641,406.906 701.536,406.906 705.43,406.906 709.325,406.906 713.22,406.906 717.114,406.906 721.009,416.799 724.904,416.799 728.798,416.799 732.693,416.799 736.588,416.799 740.482,423.092 744.377,423.092 748.272,423.092 752.166,423.092 756.061,423.092 759.956,423.092 763.85,475.934 767.745,475.934 771.64,475.934 775.534,475.934 779.429,475.934 783.324,475.934 787.218,475.934 791.113,475.934 795.008,475.934 798.902,475.934 802.797,475.934 806.692,475.934 810.586,475.934 814.481,475.934 818.376,475.934 822.27,475.934 826.165,475.934 830.06,475.934 833.954,475.934 837.849,475.934 841.744,475.934 845.638,475.934 849.533,477.164 853.428,477.164 857.322,477.164 861.217,477.164 865.112,477.164 869.006,477.164 872.901,477.164 876.796,477.164 880.69,477.164 884.585,477.164 888.48,477.164 892.374,477.164 896.269,539.786 900.164,539.786 904.058,539.786 907.953,539.786 911.848,539.786 915.742,539.786 919.637,539.786 923.532,558.496 927.426,558.496 931.321,558.496 935.216,558.496 939.11,567.325 943.005,567.325 946.9,567.325 950.794,567.325 954.689,567.325 958.584,567.325 962.478,567.325 966.373,567.325 970.268,567.325 974.162,567.325 978.057,581.576 981.952,581.576 985.846,581.576 989.741,581.576 993.636,581.576 997.53,581.576 1001.42,581.576 1005.32,581.576 1009.21,581.576 1013.11,581.576 1017,581.576 1020.9,581.576 1024.79,581.576 1028.69,581.576 1032.58,581.576 1036.48,627.044 1040.37,627.044 1044.27,627.044 1048.16,627.044 1052.06,650.375 1055.95,737.963 1059.84,737.963 1063.74,737.963 1067.63,737.963 1071.53,737.963 1075.42,737.963 1079.32,1019.49 1083.21,1019.49 1087.11,1019.49 1091,1019.49 1094.9,1019.49 1098.79,1028.86 1102.69,1028.86 1106.58,1028.86 1110.48,1028.86 1114.37,1028.86 1118.26,1028.86 1122.16,1028.86 1126.05,1028.86 1129.95,1028.86 1133.84,1028.86 1137.74,1028.86 1141.63,1028.86 1145.53,1028.86 1149.42,1028.86 1153.32,1028.86 1157.21,1028.86 1161.11,1028.86 1165,1028.86 1168.9,1028.86 1172.79,1028.86 1176.68,1028.86 1180.58,1028.86 1184.47,1028.86 1188.37,1028.86 1192.26,1028.86 1196.16,1028.86 1200.05,1028.86 1203.95,1028.86 1207.84,1028.86 1211.74,1028.86 1215.63,1028.86 1219.53,1028.86 1223.42,1028.86 1227.32,1028.86 1231.21,1028.86 1235.1,1028.86 1239,1028.86 1242.89,1028.86 1246.79,1028.86 1250.68,1028.86 1254.58,1028.86 1258.47,1028.86 1262.37,1028.86 1266.26,1028.86 1270.16,1028.86 1274.05,1028.86 1277.95,1028.86 1281.84,1028.86 1285.74,1028.86 1289.63,1028.86 1293.52,1028.86 1297.42,1028.86 1301.31,1028.86 1305.21,1028.86 1309.1,1028.86 1313,1028.86 1316.89,1028.86 1320.79,1028.86 1324.68,1028.86 1328.58,1028.86 1332.47,1028.86 1336.37,1028.86 1340.26,1028.86 1344.16,1028.86 1348.05,1028.86 1351.94,1028.86 1355.84,1028.86 1359.73,1028.86 1363.63,1028.86 1367.52,1028.86 1371.42,1028.86 1375.31,1028.86 1379.21,1028.86 1383.1,1028.86 1387,1028.86 1390.89,1028.86 1394.79,1028.86 1398.68,1028.86 1402.58,1028.86 1406.47,1028.86 1410.36,1028.86 1414.26,1028.86 1418.15,1028.86 1422.05,1028.86 1425.94,1028.86 1429.84,1028.86 1433.73,1028.86 1437.63,1028.86 1441.52,1028.86 1445.42,1050.22 1449.31,1071.75 1453.21,1071.75 1457.1,1071.75 1461,1071.75 1464.89,1071.75 1468.78,1071.75 1472.68,1071.75 1476.57,1071.75 1480.47,1071.75 1484.36,1071.75 1488.26,1071.75 1492.15,1071.75 1496.05,1071.75 1499.94,1088.65 1503.84,1088.65 1507.73,1103.3 1511.63,1124.81 1515.52,1124.81 1519.41,1124.81 1523.31,1124.81 1527.2,1124.81 1531.1,1124.81 1534.99,1124.81 1538.89,1124.81 1542.78,1124.81 1546.68,1124.81 1550.57,1124.81 1554.47,1124.81 1558.36,1124.81 1562.26,1124.81 1566.15,1124.81 1570.05,1124.81 1573.94,1124.81 1577.83,1124.81 1581.73,1124.81 1585.62,1124.81 1589.52,1124.81 1593.41,1124.81 1597.31,1163.73 1601.2,1163.73 1605.1,1163.73 1608.99,1163.73 1612.89,1163.73 1616.78,1189.19 1620.68,1189.19 1624.57,1189.19 1628.47,1189.19 1632.36,1189.19 1636.25,1189.19 1640.15,1189.19 1644.04,1189.19 1647.94,1189.19 1651.83,1189.19 1655.73,1189.19 1659.62,1189.19 1663.52,1189.19 1667.41,1189.19 1671.31,1189.19 1675.2,1189.19 1679.1,1189.19 1682.99,1189.19 1686.89,1189.19 1690.78,1189.19 1694.67,1189.19 1698.57,1189.19 1702.46,1201.11 1706.36,1201.11 1710.25,1201.11 1714.15,1201.11 1718.04,1201.11 1721.94,1201.11 1725.83,1201.11 1729.73,1201.11 1733.62,1201.11 1737.52,1201.11 1741.41,1201.11 1745.31,1201.11 1749.2,1201.11 1753.09,1201.11 1756.99,1201.11 1760.88,1201.11 1764.78,1201.11 1768.67,1201.11 1772.57,1201.11 1776.46,1201.11 1780.36,1201.11 1784.25,1201.11 1788.15,1241.88 1792.04,1241.88 1795.94,1241.88 1799.83,1241.88 1803.73,1241.88 1807.62,1241.88 1811.51,1241.88 1815.41,1241.88 1819.3,1241.88 1823.2,1241.88 1827.09,1241.88 1830.99,1241.88 1834.88,1241.88 1838.78,1241.88 1842.67,1241.88 1846.57,1241.88 1850.46,1303.99 1854.36,1303.99 1858.25,1303.99 1862.15,1303.99 1866.04,1303.99 1869.93,1303.99 1873.83,1303.99 1877.72,1303.99 1881.62,1303.99 1885.51,1303.99 1889.41,1303.99 1893.3,1303.99 1897.2,1375.8 1901.09,1375.8 1904.99,1375.8 1908.88,1375.8 1912.78,1375.8 1916.67,1375.8 1920.57,1375.8 1924.46,1375.8 1928.35,1375.8 1932.25,1375.8 1936.14,1375.8 1940.04,1375.8 1943.93,1375.8 1947.83,1375.8 1951.72,1375.8 1955.62,1375.8 1959.51,1375.8 1963.41,1375.8 1967.3,1375.8 1971.2,1375.8 1975.09,1375.8 1978.99,1375.8 1982.88,1375.8 1986.77,1375.8 1990.67,1375.8 1994.56,1375.8 1998.46,1375.8 2002.35,1375.8 2006.25,1375.8 2010.14,1375.8 2014.04,1375.8 2017.93,1378.14 2021.83,1378.14 2025.72,1378.14 2029.62,1378.14 2033.51,1378.14 2037.41,1378.14 2041.3,1378.14 2045.19,1378.14 2049.09,1378.14 2052.98,1378.62 2056.88,1378.62 2060.77,1378.62 2064.67,1378.62 2068.56,1378.62 2072.46,1378.62 2076.35,1378.62 2080.25,1378.62 2084.14,1378.62 2088.04,1378.62 2091.93,1378.62 2095.83,1378.62 2099.72,1378.62 2103.61,1378.62 2107.51,1378.62 2111.4,1378.62 2115.3,1378.62 2119.19,1378.62 2123.09,1378.62 2126.98,1378.62 2130.88,1378.62 2134.77,1378.62 2138.67,1378.62 2142.56,1378.62 2146.46,1378.62 2150.35,1378.62 2154.24,1378.62 2158.14,1378.62 2162.03,1378.62 2165.93,1378.62 2169.82,1378.62 2173.72,1378.62 2177.61,1378.62 2181.51,1378.62 2185.4,1378.62 2189.3,1378.62 2193.19,1378.62 2197.09,1378.62 2200.98,1378.62 2204.88,1378.62 2208.77,1378.62 2212.66,1378.62 2216.56,1378.62 2220.45,1378.62 2224.35,1378.62 2228.24,1378.62 2232.14,1378.62 2236.03,1378.62 2239.93,1386.4 2243.82,1386.4 2247.72,1386.4 2251.61,1386.4 2255.51,1386.4 2259.4,1386.4 2263.3,1386.4 2267.19,1386.4 2271.08,1386.4 2274.98,1386.4 2278.87,1386.4 2282.77,1386.4 2286.66,1386.4 2290.56,1386.4 2294.45,1386.4 \"/>\n",
       "<path clip-path=\"url(#clip190)\" d=\"M2025.65 270.476 L2284.09 270.476 L2284.09 166.796 L2025.65 166.796  Z\" fill=\"#ffffff\" fill-rule=\"evenodd\" fill-opacity=\"1\"/>\n",
       "<polyline clip-path=\"url(#clip190)\" style=\"stroke:#000000; stroke-linecap:round; stroke-linejoin:round; stroke-width:4; stroke-opacity:1; fill:none\" points=\"2025.65,270.476 2284.09,270.476 2284.09,166.796 2025.65,166.796 2025.65,270.476 \"/>\n",
       "<polyline clip-path=\"url(#clip190)\" style=\"stroke:#009af9; stroke-linecap:round; stroke-linejoin:round; stroke-width:4; stroke-opacity:1; fill:none\" points=\"2048.54,218.636 2185.88,218.636 \"/>\n",
       "<path clip-path=\"url(#clip190)\" d=\"M2222.61 238.323 Q2220.81 242.953 2219.09 244.365 Q2217.38 245.777 2214.51 245.777 L2211.11 245.777 L2211.11 242.212 L2213.61 242.212 Q2215.37 242.212 2216.34 241.379 Q2217.31 240.545 2218.49 237.443 L2219.25 235.499 L2208.77 209.99 L2213.28 209.99 L2221.38 230.268 L2229.49 209.99 L2234 209.99 L2222.61 238.323 Z\" fill=\"#000000\" fill-rule=\"nonzero\" fill-opacity=\"1\" /><path clip-path=\"url(#clip190)\" d=\"M2241.29 231.981 L2248.93 231.981 L2248.93 205.615 L2240.62 207.282 L2240.62 203.022 L2248.88 201.356 L2253.56 201.356 L2253.56 231.981 L2261.2 231.981 L2261.2 235.916 L2241.29 235.916 L2241.29 231.981 Z\" fill=\"#000000\" fill-rule=\"nonzero\" fill-opacity=\"1\" /></svg>\n"
      ]
     },
     "metadata": {},
     "output_type": "display_data"
    }
   ],
   "source": [
    "# Execution du programme\n",
    "\n",
    "L, S, costs, cost_f = metaheuristique(wind_scenarios, general_parameters, sub_sub_cable_types, land_substation_cable_types, substation_types)\n",
    "\n",
    "display(plot(1:1000, costs, xlabel=\"Itérations\", ylabel=\"Coût\", title=\"Évolution du coût\"))\n",
    "\n"
   ]
  },
  {
   "cell_type": "code",
   "execution_count": 17,
   "metadata": {},
   "outputs": [
    {
     "name": "stdout",
     "output_type": "stream",
     "text": [
      "566398.9819866786"
     ]
    }
   ],
   "source": [
    "print(costs[20])"
   ]
  }
 ],
 "metadata": {
  "kernelspec": {
   "display_name": "Julia 1.9.4",
   "language": "julia",
   "name": "julia-1.9"
  },
  "language_info": {
   "file_extension": ".jl",
   "mimetype": "application/julia",
   "name": "julia",
   "version": "1.9.4"
  }
 },
 "nbformat": 4,
 "nbformat_minor": 2
}
