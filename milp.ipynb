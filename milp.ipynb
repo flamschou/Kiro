{
 "cells": [
  {
   "cell_type": "code",
   "execution_count": 10,
   "metadata": {},
   "outputs": [
    {
     "name": "stderr",
     "output_type": "stream",
     "text": [
      "\u001b[32m\u001b[1m   Resolving\u001b[22m\u001b[39m package versions..."
     ]
    },
    {
     "name": "stderr",
     "output_type": "stream",
     "text": [
      "\n",
      "\u001b[32m\u001b[1m  No Changes\u001b[22m\u001b[39m to `C:\\Data\\2023-24\\REOP\\Kiro\\Project.toml`\n",
      "\u001b[32m\u001b[1m  No Changes\u001b[22m\u001b[39m to `C:\\Data\\2023-24\\REOP\\Kiro\\Manifest.toml`\n"
     ]
    },
    {
     "name": "stderr",
     "output_type": "stream",
     "text": [
      "\u001b[32m\u001b[1m   Resolving\u001b[22m\u001b[39m package versions..."
     ]
    },
    {
     "name": "stderr",
     "output_type": "stream",
     "text": [
      "\n",
      "\u001b[32m\u001b[1m  No Changes\u001b[22m\u001b[39m to `C:\\Data\\2023-24\\REOP\\Kiro\\Project.toml`\n",
      "\u001b[32m\u001b[1m  No Changes\u001b[22m\u001b[39m to `C:\\Data\\2023-24\\REOP\\Kiro\\Manifest.toml`\n"
     ]
    },
    {
     "name": "stderr",
     "output_type": "stream",
     "text": [
      "\u001b[32m\u001b[1m   Resolving\u001b[22m\u001b[39m package versions..."
     ]
    },
    {
     "name": "stderr",
     "output_type": "stream",
     "text": [
      "\n"
     ]
    },
    {
     "name": "stderr",
     "output_type": "stream",
     "text": [
      "\u001b[32m\u001b[1m   Installed\u001b[22m\u001b[39m HiGHS ───── v1.7.5\n"
     ]
    },
    {
     "name": "stderr",
     "output_type": "stream",
     "text": [
      "\u001b[32m\u001b[1m   Installed\u001b[22m\u001b[39m HiGHS_jll ─ v1.6.0+0\n"
     ]
    },
    {
     "name": "stderr",
     "output_type": "stream",
     "text": [
      "\u001b[32m\u001b[1m    Updating\u001b[22m\u001b[39m `C:\\Data\\2023-24\\REOP\\Kiro\\Project.toml`\n",
      "  \u001b[90m[87dc4568] \u001b[39m\u001b[92m+ HiGHS v1.7.5\u001b[39m\n",
      "\u001b[32m\u001b[1m    Updating\u001b[22m\u001b[39m `C:\\Data\\2023-24\\REOP\\Kiro\\Manifest.toml`"
     ]
    },
    {
     "name": "stderr",
     "output_type": "stream",
     "text": [
      "\n",
      "  \u001b[90m[87dc4568] \u001b[39m\u001b[92m+ HiGHS v1.7.5\u001b[39m\n",
      "  \u001b[90m[8fd58aa0] \u001b[39m\u001b[92m+ HiGHS_jll v1.6.0+0\u001b[39m"
     ]
    },
    {
     "name": "stderr",
     "output_type": "stream",
     "text": [
      "\n",
      "\u001b[32m\u001b[1mPrecompiling\u001b[22m\u001b[39m project...\n"
     ]
    },
    {
     "name": "stderr",
     "output_type": "stream",
     "text": [
      "\u001b[32m  ✓ \u001b[39m\u001b[90mHiGHS_jll\u001b[39m\n"
     ]
    },
    {
     "name": "stderr",
     "output_type": "stream",
     "text": [
      "\u001b[32m  ✓ \u001b[39mHiGHS\n",
      "  2 dependencies successfully precompiled in 47 seconds. 57 already precompiled.\n"
     ]
    }
   ],
   "source": [
    "import Pkg\n",
    "Pkg.add(\"JuMP\")\n",
    "import Pkg; Pkg.add(\"JSON\")\n",
    "using JSON\n",
    "import Pkg\n",
    "Pkg.add(\"HiGHS\")"
   ]
  },
  {
   "cell_type": "code",
   "execution_count": 11,
   "metadata": {},
   "outputs": [
    {
     "name": "stdout",
     "output_type": "stream",
     "text": [
      "Running HiGHS 1.6.0: Copyright (c) 2023 HiGHS under MIT licence terms\n",
      "Presolving model\n",
      "2 rows, 2 cols, 4 nonzeros\n",
      "2 rows, 2 cols, 4 nonzeros\n",
      "Objective function is integral with scale 1\n",
      "\n",
      "Solving MIP model with:\n",
      "   2 rows\n",
      "   2 cols (0 binary, 2 integer, 0 implied int., 0 continuous)\n",
      "   4 nonzeros\n",
      "\n",
      "        Nodes      |    B&B Tree     |            Objective Bounds              |  Dynamic Constraints |       Work      \n",
      "     Proc. InQueue |  Leaves   Expl. | BestBound       BestSol              Gap |   Cuts   InLp Confl. | LpIters     Time\n",
      "\n",
      "         0       0         0   0.00%   23              -inf                 inf        0      0      0         0     0.0s\n",
      " S       0       0         0   0.00%   23              13                76.92%        0      0      0         0     0.0s\n",
      " R       0       0         0   0.00%   16.4            16                 2.50%        0      0      0         2     0.0s\n",
      "\n",
      "Solving report\n",
      "  Status            Optimal\n",
      "  Primal bound      16\n",
      "  Dual bound        16\n",
      "  Gap               0% (tolerance: 0.01%)\n",
      "  Solution status   feasible\n",
      "                    16 (objective)\n",
      "                    0 (bound viol.)\n",
      "                    0 (int. viol.)\n",
      "                    0 (row viol.)\n",
      "  Timing            0.00 (total)\n",
      "                    0.00 (presolve)\n",
      "                    0.00 (postsolve)\n",
      "  Nodes             1\n",
      "  LP iterations     2 (total)\n",
      "                    0 (strong br.)\n",
      "                    0 (separation)\n",
      "                    0 (heuristics)\n",
      "Objective Value: 16.0\n",
      "Optimal x Value: 4.0\n",
      "Optimal y Value: 2.0\n"
     ]
    }
   ],
   "source": [
    "using HiGHS\n",
    "using JuMP\n",
    "\n",
    "# Create a JuMP model with HiGHS solver\n",
    "model = Model(HiGHS.Optimizer)\n",
    "\n",
    "# Define decision variables\n",
    "@variable(model, x >= 0, Int)  # Integer variable\n",
    "@variable(model, y >= 0, Int)  # Integer variable\n",
    "\n",
    "# Set objective function to maximize\n",
    "@objective(model, Max, 3x + 2y)\n",
    "\n",
    "# Add constraints\n",
    "@constraint(model, constraint1, 2x + y <= 10)\n",
    "@constraint(model, constraint2, x + 3y <= 12)\n",
    "\n",
    "# Solve the MILP problem\n",
    "optimize!(model)\n",
    "\n",
    "# Check if the optimization was successful\n",
    "if termination_status(model) == MOI.OPTIMAL\n",
    "    # Access solution information\n",
    "    obj_value = objective_value(model)\n",
    "    x_value = value(x)\n",
    "    y_value = value(y)\n",
    "\n",
    "    println(\"Objective Value: $obj_value\")\n",
    "    println(\"Optimal x Value: $x_value\")\n",
    "    println(\"Optimal y Value: $y_value\")\n",
    "else\n",
    "    println(\"No optimal solution found.\")\n",
    "end\n"
   ]
  }
 ],
 "metadata": {
  "kernelspec": {
   "display_name": "Julia 1.9.4",
   "language": "julia",
   "name": "julia-1.9"
  },
  "language_info": {
   "file_extension": ".jl",
   "mimetype": "application/julia",
   "name": "julia",
   "version": "1.9.4"
  }
 },
 "nbformat": 4,
 "nbformat_minor": 2
}
