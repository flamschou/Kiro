{
 "cells": [
  {
   "cell_type": "code",
   "execution_count": 1,
   "metadata": {},
   "outputs": [
    {
     "name": "stderr",
     "output_type": "stream",
     "text": [
      "\u001b[32m\u001b[1m    Updating\u001b[22m\u001b[39m registry at `C:\\Users\\caris\\.julia\\registries\\General.toml`\n"
     ]
    },
    {
     "name": "stderr",
     "output_type": "stream",
     "text": [
      "\u001b[32m\u001b[1m   Resolving\u001b[22m\u001b[39m package versions..."
     ]
    },
    {
     "name": "stderr",
     "output_type": "stream",
     "text": [
      "\n",
      "\u001b[32m\u001b[1m  No Changes\u001b[22m\u001b[39m to `C:\\Users\\caris\\.julia\\environments\\v1.9\\Project.toml`\n",
      "\u001b[32m\u001b[1m  No Changes\u001b[22m\u001b[39m to `C:\\Users\\caris\\.julia\\environments\\v1.9\\Manifest.toml`"
     ]
    },
    {
     "name": "stderr",
     "output_type": "stream",
     "text": [
      "\n"
     ]
    },
    {
     "name": "stderr",
     "output_type": "stream",
     "text": [
      "\u001b[32m\u001b[1m   Resolving\u001b[22m\u001b[39m package versions...\n"
     ]
    },
    {
     "name": "stderr",
     "output_type": "stream",
     "text": [
      "\u001b[32m\u001b[1m  No Changes\u001b[22m\u001b[39m to `C:\\Users\\caris\\.julia\\environments\\v1.9\\Project.toml`\n",
      "\u001b[32m\u001b[1m  No Changes\u001b[22m\u001b[39m to `C:\\Users\\caris\\.julia\\environments\\v1.9\\Manifest.toml`\n"
     ]
    }
   ],
   "source": [
    "import Pkg; Pkg.add(\"JSON\"); Pkg.add(\"Plots\")\n",
    "\n",
    "using JSON\n",
    "using Plots"
   ]
  },
  {
   "cell_type": "code",
   "execution_count": 2,
   "metadata": {},
   "outputs": [
    {
     "data": {
      "text/plain": [
       "Dict{String, Any} with 7 entries:\n",
       "  \"land_substation_cable_types\"       => Any[Dict{String, Any}(\"rating\"=>500, \"…\n",
       "  \"wind_turbines\"                     => Any[Dict{String, Any}(\"id\"=>1, \"x\"=>-5…\n",
       "  \"wind_scenarios\"                    => Any[Dict{String, Any}(\"power_generatio…\n",
       "  \"substation_locations\"              => Any[Dict{String, Any}(\"id\"=>1, \"x\"=>-1…\n",
       "  \"substation_types\"                  => Any[Dict{String, Any}(\"cost\"=>100000, …\n",
       "  \"general_parameters\"                => Dict{String, Any}(\"maximum_power\"=>100…\n",
       "  \"substation_substation_cable_types\" => Any[Dict{String, Any}(\"rating\"=>500, \"…"
      ]
     },
     "metadata": {},
     "output_type": "display_data"
    }
   ],
   "source": [
    "json_tiny = JSON.parsefile(\"KIRO-tiny.json\")\n"
   ]
  },
  {
   "cell_type": "code",
   "execution_count": 3,
   "metadata": {},
   "outputs": [
    {
     "data": {
      "text/plain": [
       "Dict{String, Any} with 7 entries:\n",
       "  \"land_substation_cable_types\"       => Any[Dict{String, Any}(\"rating\"=>200, \"…\n",
       "  \"wind_turbines\"                     => Any[Dict{String, Any}(\"id\"=>1, \"x\"=>79…\n",
       "  \"wind_scenarios\"                    => Any[Dict{String, Any}(\"power_generatio…\n",
       "  \"substation_locations\"              => Any[Dict{String, Any}(\"id\"=>1, \"x\"=>35…\n",
       "  \"substation_types\"                  => Any[Dict{String, Any}(\"cost\"=>300.0, \"…\n",
       "  \"general_parameters\"                => Dict{String, Any}(\"maximum_curtailing\"…\n",
       "  \"substation_substation_cable_types\" => Any[Dict{String, Any}(\"rating\"=>100, \"…"
      ]
     },
     "metadata": {},
     "output_type": "display_data"
    }
   ],
   "source": [
    "json_small = JSON.parsefile(\"KIRO-small.json\")"
   ]
  },
  {
   "cell_type": "code",
   "execution_count": 4,
   "metadata": {},
   "outputs": [
    {
     "data": {
      "text/plain": [
       "Dict{String, Any} with 7 entries:\n",
       "  \"land_substation_cable_types\"       => Any[Dict{String, Any}(\"rating\"=>200, \"…\n",
       "  \"wind_turbines\"                     => Any[Dict{String, Any}(\"id\"=>1, \"x\"=>78…\n",
       "  \"wind_scenarios\"                    => Any[Dict{String, Any}(\"power_generatio…\n",
       "  \"substation_locations\"              => Any[Dict{String, Any}(\"id\"=>1, \"x\"=>40…\n",
       "  \"substation_types\"                  => Any[Dict{String, Any}(\"cost\"=>300.0, \"…\n",
       "  \"general_parameters\"                => Dict{String, Any}(\"maximum_curtailing\"…\n",
       "  \"substation_substation_cable_types\" => Any[Dict{String, Any}(\"rating\"=>100, \"…"
      ]
     },
     "metadata": {},
     "output_type": "display_data"
    }
   ],
   "source": [
    "json_medium = JSON.parsefile(\"KIRO-medium.json\")"
   ]
  },
  {
   "cell_type": "code",
   "execution_count": 5,
   "metadata": {},
   "outputs": [
    {
     "data": {
      "text/plain": [
       "Dict{String, Any} with 7 entries:\n",
       "  \"land_substation_cable_types\"       => Any[Dict{String, Any}(\"rating\"=>200, \"…\n",
       "  \"wind_turbines\"                     => Any[Dict{String, Any}(\"id\"=>1, \"x\"=>78…\n",
       "  \"wind_scenarios\"                    => Any[Dict{String, Any}(\"power_generatio…\n",
       "  \"substation_locations\"              => Any[Dict{String, Any}(\"id\"=>1, \"x\"=>65…\n",
       "  \"substation_types\"                  => Any[Dict{String, Any}(\"cost\"=>240.0, \"…\n",
       "  \"general_parameters\"                => Dict{String, Any}(\"maximum_curtailing\"…\n",
       "  \"substation_substation_cable_types\" => Any[Dict{String, Any}(\"rating\"=>100, \"…"
      ]
     },
     "metadata": {},
     "output_type": "display_data"
    }
   ],
   "source": [
    "json_large = JSON.parsefile(\"KIRO-large.json\")"
   ]
  },
  {
   "cell_type": "code",
   "execution_count": 6,
   "metadata": {},
   "outputs": [
    {
     "data": {
      "text/plain": [
       "Dict{String, Any} with 7 entries:\n",
       "  \"land_substation_cable_types\"       => Any[Dict{String, Any}(\"rating\"=>200, \"…\n",
       "  \"wind_turbines\"                     => Any[Dict{String, Any}(\"id\"=>1, \"x\"=>79…\n",
       "  \"wind_scenarios\"                    => Any[Dict{String, Any}(\"power_generatio…\n",
       "  \"substation_locations\"              => Any[Dict{String, Any}(\"id\"=>1, \"x\"=>22…\n",
       "  \"substation_types\"                  => Any[Dict{String, Any}(\"cost\"=>240.0, \"…\n",
       "  \"general_parameters\"                => Dict{String, Any}(\"maximum_curtailing\"…\n",
       "  \"substation_substation_cable_types\" => Any[Dict{String, Any}(\"rating\"=>100, \"…"
      ]
     },
     "metadata": {},
     "output_type": "display_data"
    }
   ],
   "source": [
    "json_huge = JSON.parsefile(\"KIRO-huge.json\")"
   ]
  },
  {
   "cell_type": "code",
   "execution_count": 7,
   "metadata": {},
   "outputs": [
    {
     "data": {
      "text/plain": [
       "get_substation_substation_cable_types (generic function with 1 method)"
      ]
     },
     "metadata": {},
     "output_type": "display_data"
    }
   ],
   "source": [
    "# Get Functions\n",
    "\n",
    "function get_parameters(name_json)\n",
    "    general_parameters = name_json[\"general_parameters\"]\n",
    "    return general_parameters\n",
    "end\n",
    "\n",
    "function get_wind_turbines(name_json)\n",
    "    get_wind_turbines = name_json[\"wind_turbines\"]\n",
    "\n",
    "    return get_wind_turbines\n",
    "end\n",
    "\n",
    "function get_wind_scenarios(name_json)\n",
    "    get_wind_scenarios = name_json[\"wind_scenarios\"]\n",
    "    return get_wind_scenarios\n",
    "end\n",
    "\n",
    "function get_substation_locations(name_json)\n",
    "    get_substation_locations = name_json[\"substation_locations\"]\n",
    "    \n",
    "    return get_substation_locations\n",
    "end\n",
    "\n",
    "function get_substation_types(name_json)\n",
    "    get_substation_types = name_json[\"substation_types\"]\n",
    "\n",
    "    return get_substation_types\n",
    "end\n",
    "\n",
    "function get_land_substation_cable_types(name_json)\n",
    "    get_land_substation_cable_types = name_json[\"land_substation_cable_types\"]\n",
    "\n",
    "    return get_land_substation_cable_types\n",
    "end\n",
    "\n",
    "function get_substation_substation_cable_types(name_json)\n",
    "    get_substation_substation_cable_types = name_json[\"substation_substation_cable_types\"]\n",
    "\n",
    "    return get_substation_substation_cable_types\n",
    "end"
   ]
  },
  {
   "cell_type": "code",
   "execution_count": 8,
   "metadata": {},
   "outputs": [
    {
     "name": "stdout",
     "output_type": "stream",
     "text": [
      "[0, 0"
     ]
    },
    {
     "name": "stdout",
     "output_type": "stream",
     "text": [
      "]Any["
     ]
    },
    {
     "name": "stdout",
     "output_type": "stream",
     "text": [
      "[79.0, -6.0], [79.5, -6.0], [80.0, -6.0], [80.5, -6.0], [81.0, -6.0], [79.0, -5.5], [79.5, -5.5], [80.0, -5.5], [80.5, -5.5], [81.0, -5.5], [79.0, -5.0], [79.5, -5.0], [80.0, -5.0], [80.5, -5.0], [81.0, -5.0], [79.0, -4.5], [79.5, -4.5], [80.0, -4.5], [80.5, -4.5], [81.0, -4.5], [79.0, -4.0], [79.5, -4.0], [80.0, -4.0], [80.5, -4.0], [81.0, -4.0], [79.0, -3.5], [79.5, -3.5], [80.0, -3.5], [80.5, -3.5], [81.0, -3.5], [79.0, -3.0], [79.5, -3.0], [80.0, -3.0], [80.5, -3.0], [81.0, -3.0], [79.0, -2.5], [79.5, -2.5], [80.0, -2.5], [80.5, -2.5], [81.0, -2.5], [79.0, -2.0], [79.5, -2.0], [80.0, -2.0], [80.5, -2.0], [81.0, -2.0], [79.0, -1.5], [79.5, -1.5], [80.0, -1.5], [80.5, -1.5], [81.0, -1.5], [79.0, -1.0], [79.5, -1.0], [80.0, -1.0], [80.5, -1.0], [81.0, -1.0], [79.0, -0.5], [79.5, -0.5], [80.0, -0.5], [80.5, -0.5], [81.0, -0.5], [79.0, 0.0], [79.5, 0.0], [80.0, 0.0], [80.5, 0.0], [81.0, 0.0], [79.0, 0.5], [79.5, 0.5], [80.0, 0.5], [80.5, 0.5], [81.0, 0.5], [79.0, 1.0], [79.5, 1.0], [80.0, 1.0], [80.5, 1.0], [81.0, 1.0], [79.0, 1.5], [79.5, 1.5], [80.0, 1.5], [80.5, 1.5], [81.0, 1.5], [79.0, 2.0], [79.5, 2.0], [80.0, 2.0], [80.5, 2.0], [81.0, 2.0], [79.0, 2.5], [79.5, 2.5], [80.0, 2.5], [80.5, 2.5], [81.0, 2.5], [79.0, 3.0], [79.5, 3.0], [80.0, 3.0], [80.5, 3.0], [81.0, 3.0], [79.0, 3.5], [79.5, 3.5], [80.0, 3.5], [80.5, 3.5], [81.0, 3.5], [79.0, 4.0], [79.5, 4.0], [80.0, 4.0], [80.5, 4.0], [81.0, 4.0], [79.0, 4.5], [79.5, 4.5], [80.0, 4.5], [80.5, 4.5], [81.0, 4.5], [79.0, 5.0], [79.5, 5.0], [80.0, 5.0], [80.5, 5.0], [81.0, 5.0], [79.0, 5.5], [79.5, 5.5], [80.0, 5.5], [80.5, 5.5], [81.0, 5.5], [79.0, 6.0], [79.5, 6.0], [80.0, 6.0], [80.5, 6.0], [81.0, 6.0]]"
     ]
    },
    {
     "name": "stdout",
     "output_type": "stream",
     "text": [
      "81"
     ]
    },
    {
     "data": {
      "text/plain": [
       "24-element Vector{Any}:\n",
       " Dict{String, Any}(\"rating\" => 100, \"variable_cost\" => 5.0, \"id\" => 1, \"fixed_cost\" => 100.0)\n",
       " Dict{String, Any}(\"rating\" => 200, \"variable_cost\" => 5.0, \"id\" => 2, \"fixed_cost\" => 100.0)\n",
       " Dict{String, Any}(\"rating\" => 300, \"variable_cost\" => 5.0, \"id\" => 3, \"fixed_cost\" => 100.0)\n",
       " Dict{String, Any}(\"rating\" => 500, \"variable_cost\" => 7.5, \"id\" => 4, \"fixed_cost\" => 125.0)\n",
       " Dict{String, Any}(\"rating\" => 750, \"variable_cost\" => 7.5, \"id\" => 5, \"fixed_cost\" => 125.0)\n",
       " Dict{String, Any}(\"rating\" => 900, \"variable_cost\" => 10.0, \"id\" => 6, \"fixed_cost\" => 125.0)\n",
       " Dict{String, Any}(\"rating\" => 1450, \"variable_cost\" => 12.5, \"id\" => 7, \"fixed_cost\" => 150.0)\n",
       " Dict{String, Any}(\"rating\" => 2400, \"variable_cost\" => 17.5, \"id\" => 8, \"fixed_cost\" => 150.0)\n",
       " Dict{String, Any}(\"rating\" => 100, \"variable_cost\" => 4.5, \"id\" => 9, \"fixed_cost\" => 90.0)\n",
       " Dict{String, Any}(\"rating\" => 200, \"variable_cost\" => 4.5, \"id\" => 10, \"fixed_cost\" => 90.0)\n",
       " ⋮\n",
       " Dict{String, Any}(\"rating\" => 2400, \"variable_cost\" => 15.75, \"id\" => 16, \"fixed_cost\" => 135.0)\n",
       " Dict{String, Any}(\"rating\" => 100, \"variable_cost\" => 4.25, \"id\" => 17, \"fixed_cost\" => 85.0)\n",
       " Dict{String, Any}(\"rating\" => 200, \"variable_cost\" => 4.25, \"id\" => 18, \"fixed_cost\" => 85.0)\n",
       " Dict{String, Any}(\"rating\" => 300, \"variable_cost\" => 4.25, \"id\" => 19, \"fixed_cost\" => 85.0)\n",
       " Dict{String, Any}(\"rating\" => 500, \"variable_cost\" => 6.375, \"id\" => 20, \"fixed_cost\" => 106.25)\n",
       " Dict{String, Any}(\"rating\" => 750, \"variable_cost\" => 6.375, \"id\" => 21, \"fixed_cost\" => 106.25)\n",
       " Dict{String, Any}(\"rating\" => 900, \"variable_cost\" => 8.5, \"id\" => 22, \"fixed_cost\" => 106.25)\n",
       " Dict{String, Any}(\"rating\" => 1450, \"variable_cost\" => 10.625, \"id\" => 23, \"fixed_cost\" => 127.5)\n",
       " Dict{String, Any}(\"rating\" => 2400, \"variable_cost\" => 14.875, \"id\" => 24, \"fixed_cost\" => 127.5)"
      ]
     },
     "metadata": {},
     "output_type": "display_data"
    }
   ],
   "source": [
    "#collectes des données utiles\n",
    "\n",
    "file = json_huge\n",
    "\n",
    "P_max = get_parameters(file)[\"maximum_power\"]\n",
    "coords_mls = get_parameters(file)[\"main_land_station\"]\n",
    "C_ft = get_parameters(file)[\"fixed_cost_cable\"]\n",
    "C_lt = get_parameters(file)[\"variable_cost_cable\"]\n",
    "C_0 = get_parameters(file)[\"curtailing_cost\"]\n",
    "C_p = get_parameters(file)[\"curtailing_penalty\"]\n",
    "C_max = get_parameters(file)[\"maximum_curtailing\"]\n",
    "general_parameters = Dict(\"maximum_power\" => P_max, \"main_land_station\" => coords_mls, \"fixed_cost_cable\" => C_ft, \"variable_cost_cable\" => C_lt, \"curtailing_cost\" => C_0, \"curtailing_penalty\" => C_p, \"maximum_curtailing\" => C_max)\n",
    "\n",
    "v_0 = [coords_mls[\"x\"], coords_mls[\"y\"]]\n",
    "\n",
    "print(v_0)\n",
    "\n",
    "wind_turbines = get_wind_turbines(file)\n",
    "x_turbines = [turbine[\"x\"] for turbine in wind_turbines]\n",
    "y_turbines = [turbine[\"y\"] for turbine in wind_turbines]\n",
    "\n",
    "V_t = []\n",
    "for i in 1:length(x_turbines)\n",
    "    push!(V_t,[x_turbines[i], y_turbines[i]])\n",
    "end\n",
    "\n",
    "print(V_t)\n",
    "\n",
    "wind_scenarios = get_wind_scenarios(file)\n",
    "\n",
    "substation_locations = get_substation_locations(file)\n",
    "x_substations = [substation[\"x\"] for substation in substation_locations]\n",
    "y_substations = [substation[\"y\"] for substation in substation_locations]\n",
    "\n",
    "V_s = []\n",
    "for i in 1:length(x_substations)\n",
    "    push!(V_s, [x_substations[i], y_substations[i]])\n",
    "end\n",
    "\n",
    "print(length(V_s))\n",
    "\n",
    "substation_types = get_substation_types(file)\n",
    "\n",
    "land_substation_cable_types = get_land_substation_cable_types(file)\n",
    "\n",
    "sub_sub_cable_types = get_substation_substation_cable_types(file)\n"
   ]
  },
  {
   "cell_type": "code",
   "execution_count": 9,
   "metadata": {},
   "outputs": [
    {
     "data": {
      "text/plain": [
       "cost (generic function with 1 method)"
      ]
     },
     "metadata": {},
     "output_type": "display_data"
    }
   ],
   "source": [
    "# Fonctions coûts \n",
    "\n",
    "function cost_turbines_substation(L, D1, general_parameters)\n",
    "    # L : vecteur liant turbines et sous-stations\n",
    "    # D1 : matrice des distances entre les turbines et les sous-stations\n",
    "    # general_parameters : paramètres généraux du problème\n",
    "\n",
    "    # On initialise le coût\n",
    "    cost = 0\n",
    "\n",
    "    # On calcule le coût de la liaison entre les turbines et les sous-stations\n",
    "    for i in 1:length(L)\n",
    "        cost += general_parameters[\"fixed_cost_cable\"] +D1[i,L[i]]*general_parameters[\"variable_cost_cable\"]\n",
    "    end\n",
    "\n",
    "    return cost\n",
    "end\n",
    "\n",
    "function cost_substation_substation(S, D2, substation_substation_cable_types)\n",
    "    # S : vecteur liant les sous-stations\n",
    "    # D2 : matrice des distances entre les sous-stations\n",
    "    # substation_substation_cable_types : types de câbles entre les sous-stations\n",
    "\n",
    "    # On initialise le coût\n",
    "    cost = 0\n",
    "\n",
    "    # On calcule le coût de la liaison entre les sous-stations\n",
    "    for i in 1:size(S, 1)\n",
    "        if S[i, 2] != 0 && S[i, 4] != 0\n",
    "            cost += substation_substation_cable_types[S[i, 4]][\"fixed_cost\"]+D2[i, S[i, 2]]*substation_substation_cable_types[S[i, 4]][\"variable_cost\"]\n",
    "        end\n",
    "    end\n",
    "    cost = cost/2\n",
    "\n",
    "    return cost\n",
    "end\n",
    "\n",
    "function cost_substation_land_substation(S, D3, land_substation_cable_types)\n",
    "    # S : vecteur liant les sous-stations\n",
    "    # D3 : vecteur des distances entre les sous-stations et la station terrestre\n",
    "    # land_substation_cable_types : types de câbles entre les sous-stations et la station terrestre\n",
    "\n",
    "    # On initialise le coût\n",
    "    cost = 0\n",
    "\n",
    "    # On calcule le coût de la liaison entre les sous-stations et la station terrestre\n",
    "    for i in 1:size(S, 1)\n",
    "        if S[i, 3] != 0\n",
    "            cost += land_substation_cable_types[S[i, 3]][\"fixed_cost\"]+D3[i]*land_substation_cable_types[S[i, 3]][\"variable_cost\"]\n",
    "        end\n",
    "    end\n",
    "\n",
    "    return cost\n",
    "end\n",
    "\n",
    "function cost_substation(S, substation_types)\n",
    "    # S : vecteur liant les sous-stations\n",
    "    # substation_types : types de sous-stations\n",
    "\n",
    "    # On initialise le coût\n",
    "    cost = 0\n",
    "\n",
    "    # On calcule le coût de construction des sous-stations\n",
    "    for i in 1:size(S, 1)\n",
    "        if S[i, 5] != 0\n",
    "            cost += substation_types[S[i, 5]][\"cost\"]\n",
    "        end\n",
    "    end\n",
    "\n",
    "    return cost\n",
    "end\n",
    "\n",
    "\n",
    "function c_c(C, general_parameters)\n",
    "\n",
    "    return general_parameters[\"curtailing_cost\"]*C + general_parameters[\"curtailing_penalty\"]*max(0,C-general_parameters[\"maximum_curtailing\"])\n",
    "end\n",
    "\n",
    "\n",
    "function C_f_aux(v, v1, w, wind_scenarios, S, substation_substation_cable_types, land_substation_cable_types, substation_types)\n",
    "    C_f_aux = 0\n",
    "\n",
    "    C_f_aux += wind_scenarios[w][\"power_generation\"]*S[v1, 1]\n",
    "\n",
    "    if S[v1, 2] == v && S[v1, 4] != 0\n",
    "        C_f_aux += min(substation_substation_cable_types[S[v1, 4]][\"rating\"], wind_scenarios[w][\"power_generation\"]*S[v, 1])\n",
    "    else\n",
    "        C_f_aux += min(0, wind_scenarios[w][\"power_generation\"]*S[v, 1])\n",
    "    end\n",
    "\n",
    "    if S[v1, 3] != 0\n",
    "        C_f_aux -= min(substation_types[S[v1, 5]][\"rating\"],land_substation_cable_types[S[v1, 3]][\"rating\"])\n",
    "    end\n",
    "\n",
    "    return C_f_aux\n",
    "end\n",
    "\n",
    "\n",
    "function C_f(v, w, wind_scenarios, S, substation_substation_cable_types, land_substation_cable_types, substation_types)\n",
    "    C_f = 0\n",
    "\n",
    "    if S[v, 2] != 0 && S[v, 4] != 0\n",
    "        C_f += max(0, wind_scenarios[w][\"power_generation\"]*S[v, 1]-substation_substation_cable_types[S[v, 4]][\"rating\"])\n",
    "    else\n",
    "        C_f += max(0, wind_scenarios[w][\"power_generation\"]*S[v, 1])\n",
    "    end\n",
    "\n",
    "    for i in 1:size(S, 1)\n",
    "        if S[i, 3] != 0\n",
    "            C_f += max(0, C_f_aux(v, i, w, wind_scenarios, S, substation_substation_cable_types, land_substation_cable_types, substation_types))\n",
    "        end\n",
    "    end\n",
    "\n",
    "    return C_f\n",
    "\n",
    "end\n",
    "\n",
    "\n",
    "function C_n(w, wind_scenarios, S, substation_substation_cable_types, land_substation_cable_types, substation_types)\n",
    "    \n",
    "    C_n = 0\n",
    "\n",
    "    for i in 1:size(S, 1)\n",
    "        if S[i, 3] != 0\n",
    "            C_n += max(0, wind_scenarios[w][\"power_generation\"]*S[i, 1]-min(substation_types[S[i, 5]][\"rating\"],land_substation_cable_types[S[i, 3]][\"rating\"]))\n",
    "        end\n",
    "    end\n",
    "\n",
    "    return C_n\n",
    "end\n",
    "    \n",
    "\n",
    "function p_f(v, S, land_substation_cable_types, substation_types)\n",
    "    p_f = 0\n",
    "\n",
    "    if S[v, 3] != 0\n",
    "        p_f += land_substation_cable_types[S[v, 3]][\"probability_of_failure\"]\n",
    "\n",
    "        p_f += substation_types[S[v, 5]][\"probability_of_failure\"]\n",
    "    end\n",
    "\n",
    "    return p_f\n",
    "end\n",
    "\n",
    "\n",
    "function operational_cost_aux(S, w, wind_scenarios, general_parameters, substation_substation_cable_types, land_substation_cable_types, substation_types)\n",
    "    cost1 = 0\n",
    "    cost2 = 0\n",
    "\n",
    "    for i in 1:size(S, 1)\n",
    "        cost1 += p_f(i, S, land_substation_cable_types, substation_types)*c_c(C_f(i, w, wind_scenarios, S, substation_substation_cable_types, land_substation_cable_types, substation_types), general_parameters)\n",
    "    end\n",
    "\n",
    "    for i in 1:size(S, 1)\n",
    "        cost2 += p_f(i, S, land_substation_cable_types, substation_types)\n",
    "    end\n",
    "    cost2 = (1 - cost2)*c_c(C_n(w, wind_scenarios, S, substation_substation_cable_types, land_substation_cable_types, substation_types),general_parameters)\n",
    "\n",
    "    return cost1 + cost2\n",
    "end\n",
    "\n",
    "function operational_cost(L, S, wind_scenarios, general_parameters, substation_substation_cable_types, land_substation_cable_types, substation_types)\n",
    "    # L : vecteur liant turbines et sous-stations\n",
    "    # S : vecteur liant les sous-stations\n",
    "    # wind_scenarios : scénarios de vent\n",
    "    # general_parameters : paramètres généraux du problème\n",
    "\n",
    "    # On initialise le coût\n",
    "    cost = 0\n",
    "\n",
    "    for w in 1:length(wind_scenarios)\n",
    "        cost += wind_scenarios[w][\"probability\"]*operational_cost_aux(S, w, wind_scenarios, general_parameters, substation_substation_cable_types, land_substation_cable_types, substation_types)\n",
    "        \n",
    "    end\n",
    "\n",
    "    return cost\n",
    "end\n",
    "\n",
    "function cost(L, S, D1, D2, D3, wind_scenarios, general_parameters, substation_substation_cable_types, land_substation_cable_types, substation_types)\n",
    "    # L : vecteur liant turbines et sous-stations\n",
    "    # S : vecteur liant les sous-stations\n",
    "    # D1 : matrice des distances entre les turbines et les sous-stations\n",
    "    # D2 : matrice des distances entre les sous-stations\n",
    "    # D3 : vecteur des distances entre les sous-stations et la station terrestre\n",
    "    # wind_scenarios : scénarios de vent\n",
    "    # general_parameters : paramètres généraux du problème\n",
    "    # substation_substation_cable_types : types de câbles entre les sous-stations\n",
    "    # land_substation_cable_types : types de câbles entre les sous-stations et la station terrestre\n",
    "    # substation_types : types de sous-stations\n",
    "\n",
    "    # On initialise le coût\n",
    "    cost = 0\n",
    "\n",
    "    # On calcule le coût de la liaison entre les turbines et les sous-stations\n",
    "    cost += cost_turbines_substation(L, D1, general_parameters)\n",
    "\n",
    "    # On calcule le coût de la liaison entre les sous-stations\n",
    "    cost += cost_substation_substation(S, D2, substation_substation_cable_types)\n",
    "\n",
    "    # On calcule le coût de la liaison entre les sous-stations et la station terrestre\n",
    "    cost += cost_substation_land_substation(S, D3, land_substation_cable_types)\n",
    "\n",
    "    # On calcule le coût de construction des sous-stations\n",
    "    cost += cost_substation(S, substation_types)\n",
    "\n",
    "    # On calcule le coût opérationnel\n",
    "    cost += operational_cost(L, S, wind_scenarios, general_parameters, substation_substation_cable_types, land_substation_cable_types, substation_types)\n",
    "\n",
    "    return cost\n",
    "end"
   ]
  },
  {
   "cell_type": "code",
   "execution_count": 10,
   "metadata": {},
   "outputs": [
    {
     "data": {
      "text/plain": [
       "distance (generic function with 1 method)"
      ]
     },
     "metadata": {},
     "output_type": "display_data"
    }
   ],
   "source": [
    "#  Création des matrices de distances des turbines aux sous-stations, des sous-stations à la station terrestre et des sous-stations entre elles\n",
    "\n",
    "function distance(V_t,V_s,v_0)\n",
    "    # V_t : vecteur des turbines\n",
    "    # V_s : vecteur des sous-stations\n",
    "    # v_0 : vecteur de la station terrestre\n",
    "    \n",
    "    # On initialise le vecteur des distances\n",
    "    D1 = zeros(length(V_t),length(V_s))\n",
    "    D2 = zeros(length(V_s),length(V_s))\n",
    "    D3 = zeros(length(V_s),1)\n",
    "\n",
    "    # On calcule les distances entre les turbines et les sous-stations, et entre les sous-stations et la station terrestre et entre les sous-stations\n",
    "    for i in 1:length(V_t)\n",
    "        for j in 1:length(V_s)\n",
    "            D1[i,j] = sqrt((V_t[i][1]-V_s[j][1])^2 + (V_t[i][2]-V_s[j][2])^2)\n",
    "        end\n",
    "    end\n",
    "\n",
    "    for i in 1:length(V_s)\n",
    "        for j in 1:length(V_s)\n",
    "            D2[i,j] = sqrt((V_s[i][1]-V_s[j][1])^2 + (V_s[i][2]-V_s[j][2])^2)\n",
    "        end\n",
    "        D2[i,i] = +Inf\n",
    "    end\n",
    "\n",
    "    for i in 1:length(V_s)\n",
    "        D3[i] = sqrt((V_s[i][1]-v_0[1])^2 + (V_s[i][2]-v_0[2])^2)\n",
    "    end\n",
    "\n",
    "    return D1,D2,D3\n",
    "end"
   ]
  },
  {
   "cell_type": "code",
   "execution_count": 11,
   "metadata": {},
   "outputs": [
    {
     "data": {
      "text/plain": [
       "heuristique_1 (generic function with 1 method)"
      ]
     },
     "metadata": {},
     "output_type": "display_data"
    }
   ],
   "source": [
    "function heuristique_1(D1, D2)\n",
    "    # D1 : matrice des distances entre les turbines et les sous-stations\n",
    "    # D2 : matrice des distances entre les sous-stations\n",
    "\n",
    "    # On initialise le vecteur liant turbines et sous-stations\n",
    "    L = zeros(Int, size(D1, 1), 1)\n",
    "\n",
    "    # On initialise le vecteur des sous-stations\n",
    "    S = zeros(Int, size(D2, 1), 5)\n",
    "\n",
    "    # On emplit ce vecteur en associant à chaque turbine la sous-station la plus proche\n",
    "    for i in 1:size(D1, 1)\n",
    "        L[i] = argmin(D1[i,:])\n",
    "        S[L[i], 1] += 1\n",
    "        S[L[i], 5] = 1\n",
    "        S[L[i], 3] = 1\n",
    "    end\n",
    "\n",
    "    # On emplit ce vecteur en associant à chaque sous-station présente dans L la sous-station la plus proche\n",
    "    for i in 1:length(L)\n",
    "        if S[L[i], 2] == 0 && S[argmin(D2[L[i],:]), 2] == 0\n",
    "            S[L[i], 2] = argmin(D2[L[i],:])\n",
    "            S[S[L[i], 2], 2] = L[i]\n",
    "            S[L[i], 4] = rand(1:length(sub_sub_cable_types))\n",
    "            S[S[L[i], 2], 4] = S[L[i], 4]\n",
    "        end\n",
    "    end\n",
    "\n",
    "    return L,S\n",
    "end"
   ]
  },
  {
   "cell_type": "code",
   "execution_count": 12,
   "metadata": {},
   "outputs": [
    {
     "data": {
      "text/plain": [
       "16031.950398729019"
      ]
     },
     "metadata": {},
     "output_type": "display_data"
    }
   ],
   "source": [
    "# on teste l'heuristique 1\n",
    "\n",
    "D1, D2, D3 = distance(V_t, V_s, v_0)\n",
    "L,S = heuristique_1(D1, D2)\n",
    "\n",
    "cost(L, S, D1, D2, D3, wind_scenarios, general_parameters, sub_sub_cable_types, land_substation_cable_types, substation_types)"
   ]
  },
  {
   "cell_type": "code",
   "execution_count": 13,
   "metadata": {},
   "outputs": [
    {
     "data": {
      "text/plain": [
       "voisinage_substation_substation (generic function with 1 method)"
      ]
     },
     "metadata": {},
     "output_type": "display_data"
    }
   ],
   "source": [
    "# Fonctions voisinages\n",
    "# Ces fonctions sont la base de la méta-heuristique ; elles effectuent les changements de lien entre turbines et sous-stations et entre sous-stations entre elles\n",
    "\n",
    "function metropolis_acceptance(current_cost, new_cost, temperature)\n",
    "    if new_cost < current_cost\n",
    "        return true\n",
    "    else\n",
    "        probability_acceptance = exp((current_cost - new_cost) / temperature)\n",
    "        return rand() < probability_acceptance\n",
    "    end\n",
    "end\n",
    "\n",
    "\n",
    "function voisinage_turbine_substation(L, S, D1, D2, D3, temperature, wind_scenarios, general_parameters, substation_substation_cable_types, land_substation_cable_types, substation_types)\n",
    "    # L : vecteur liant turbines et sous-stations\n",
    "    # S : vecteur liant les sous-stations\n",
    "    # D1 : matrice des distances entre les turbines et les sous-stations\n",
    "    # D2 : matrice des distances entre les sous-stations\n",
    "    # D3 : vecteur des distances entre les sous-stations et la station terrestre\n",
    "\n",
    "    # On choisit aléatoirement une turbine, notée n, on la lie avec la sous-station la plus proche de celle à laquelle est elle actuellement associée\n",
    "    new = rand(1:length(L))\n",
    "\n",
    "    S1 = copy(S)\n",
    "    L1 = copy(L)\n",
    "    \n",
    "    old = L[new]\n",
    "    linked_old = S[old, 2]\n",
    "\n",
    "    # On change la liaison entre la turbine et la sous-station en choisissant la sous-station la plus proche de l'ancienne sous-station\n",
    "    #L[new] = argmin(D2[old,:])\n",
    "    L[new] = rand(1:size(S, 1))\n",
    "    S[old, 1] -= 1\n",
    "\n",
    "    # Si la sous-station n'est plus reliée à aucune turbine, on la supprime\n",
    "    if S[old, 1] == 0\n",
    "        if linked_old != 0\n",
    "            if S[L[new], 2] == 0\n",
    "                S[L[new], 2] = linked_old\n",
    "                S[linked_old, 2] = L[new]\n",
    "                S[L[new], 4] = S[linked_old, 4]\n",
    "            else\n",
    "                S[linked_old, 2] = 0\n",
    "                S[linked_old, 4] = 0\n",
    "            end\n",
    "        end\n",
    "        S[old, 2] = 0\n",
    "        S[old, 3] = 0\n",
    "        S[old, 4] = 0\n",
    "        S[old, 5] = 0\n",
    "    end\n",
    "\n",
    "    if S[L[new], 1] == 0\n",
    "        S[L[new], 5] = rand(1:length(substation_types))\n",
    "        S[L[new], 3] = rand(1:length(land_substation_cable_types))\n",
    "    end\n",
    "\n",
    "    S[L[new], 1] += 1\n",
    "\n",
    "    new_cost = cost(L, S, D1, D2, D3, wind_scenarios, general_parameters, substation_substation_cable_types, land_substation_cable_types, substation_types)\n",
    "    old_cost = cost(L1, S1, D1, D2, D3, wind_scenarios, general_parameters, substation_substation_cable_types, land_substation_cable_types, substation_types)\n",
    "    \n",
    "    if metropolis_acceptance(old_cost, new_cost, temperature)\n",
    "        return L, S\n",
    "    else\n",
    "        return L1, S1\n",
    "    end\n",
    "end\n",
    "\n",
    "function voisinage_type_cables(L, S, D1, D2, D3, temperature, wind_scenarios, general_parameters, substation_substation_cable_types, land_substation_cable_types, substation_types)\n",
    "    # L : vecteur liant turbines et sous-stations\n",
    "    # S : vecteur liant les sous-stations\n",
    "    # D1 : matrice des distances entre les turbines et les sous-stations\n",
    "    # D2 : matrice des distances entre les sous-stations\n",
    "    # D3 : vecteur des distances entre les sous-stations et la station terrestre\n",
    "\n",
    "    # On choisit aléatoirement une sous-station créée, on modifie le type de câble entre cette sous-station et la station terrestre\n",
    "    S1 = copy(S)\n",
    "    L1 = copy(L)\n",
    "    turbine = rand(1:length(L))\n",
    "\n",
    "    substation = L[turbine]\n",
    "\n",
    "    new = rand(1:length(land_substation_cable_types))\n",
    "    S[substation, 3] = land_substation_cable_types[new][\"id\"]\n",
    "\n",
    "    new_cost = cost(L, S, D1, D2, D3, wind_scenarios, general_parameters, substation_substation_cable_types, land_substation_cable_types, substation_types)\n",
    "    old_cost = cost(L1, S1, D1, D2, D3, wind_scenarios, general_parameters, substation_substation_cable_types, land_substation_cable_types, substation_types)\n",
    "    \n",
    "    if metropolis_acceptance(old_cost, new_cost, temperature)\n",
    "        return L, S\n",
    "    else\n",
    "        return L1, S1\n",
    "    end\n",
    "end\n",
    "\n",
    "function voisinage_type_substation(L, S, D1, D2, D3, temperature, wind_scenarios, general_parameters, substation_substation_cable_types, land_substation_cable_types, substation_types)\n",
    "    # L : vecteur liant turbines et sous-stations\n",
    "    # S : vecteur liant les sous-stations\n",
    "    # D1 : matrice des distances entre les turbines et les sous-stations\n",
    "    # D2 : matrice des distances entre les sous-stations\n",
    "    # D3 : vecteur des distances entre les sous-stations et la station terrestre\n",
    "\n",
    "    # On choisit aléatoirement une sous-station créée, on modifie le type de sous-station\n",
    "    S1 = copy(S)\n",
    "    L1 = copy(L)\n",
    "    turbine = rand(1:length(L))\n",
    "\n",
    "    substation = L[turbine]\n",
    "\n",
    "    new = rand(1:length(substation_types))\n",
    "    S[substation, 5] = substation_types[new][\"id\"]\n",
    "\n",
    "    new_cost = cost(L, S, D1, D2, D3, wind_scenarios, general_parameters, substation_substation_cable_types, land_substation_cable_types, substation_types)\n",
    "    old_cost = cost(L1, S1, D1, D2, D3, wind_scenarios, general_parameters, substation_substation_cable_types, land_substation_cable_types, substation_types)\n",
    "    \n",
    "    if metropolis_acceptance(old_cost, new_cost, temperature)\n",
    "        return L, S\n",
    "    else\n",
    "        return L1, S1\n",
    "    end\n",
    "end\n",
    "\n",
    "    \n",
    "\n",
    "function voisinage_substation_substation(L, S, D1, D2, D3, temperature, wind_scenarios, general_parameters, substation_substation_cable_types, land_substation_cable_types, substation_types)\n",
    "    # L : vecteur liant turbines et sous-stations\n",
    "    # S : vecteur liant les sous-stations\n",
    "    # D1 : matrice des distances entre les turbines et les sous-stations\n",
    "    # D2 : matrice des distances entre les sous-stations\n",
    "    # D3 : vecteur des distances entre les sous-stations et la station terrestre\n",
    "\n",
    "    # On choisit aléatoirement une sous-station, notée n, on la lie avec la sous-station la plus proche de celle à laquelle est elle actuellement associée\n",
    "    \n",
    "    L1 = copy(L)  # Use copy to create an independent copy of L\n",
    "    S1 = copy(S)  # Use copy to create an independent copy of S\n",
    "    turbine = rand(1:length(L))\n",
    "\n",
    "    substation = L[turbine]\n",
    "\n",
    "    old = S[substation, 2]\n",
    "\n",
    "    if old != 0\n",
    "        S[old, 4] = 0\n",
    "        S[old, 2] = 0\n",
    "    end\n",
    "\n",
    "    # On lie la sous-station à une sous-station aléatoirement\n",
    "\n",
    "    turbine_2 = rand(1:length(L))\n",
    "    substation_2 = L[turbine_2]\n",
    "\n",
    "    old_2 = S[substation_2, 2]\n",
    "\n",
    "    if old_2 != 0\n",
    "        S[old_2, 4] = 0\n",
    "        S[old_2, 2] = 0\n",
    "    end\n",
    "\n",
    "    S[substation, 2] = substation_2\n",
    "    S[substation_2, 2] = substation\n",
    "\n",
    "    S[substation, 4] = rand(1:length(sub_sub_cable_types))\n",
    "    S[substation_2, 4] = S[substation, 4]\n",
    "\n",
    "    new_cost = cost(L, S, D1, D2, D3, wind_scenarios, general_parameters, substation_substation_cable_types, land_substation_cable_types, substation_types)\n",
    "    old_cost = cost(L1, S1, D1, D2, D3, wind_scenarios, general_parameters, substation_substation_cable_types, land_substation_cable_types, substation_types)\n",
    "    \n",
    "    if metropolis_acceptance(old_cost, new_cost, temperature)\n",
    "        return L, S\n",
    "    else\n",
    "        return L1, S1\n",
    "    end\n",
    "end\n"
   ]
  },
  {
   "cell_type": "code",
   "execution_count": 14,
   "metadata": {},
   "outputs": [
    {
     "data": {
      "text/plain": [
       "metaheuristique (generic function with 1 method)"
      ]
     },
     "metadata": {},
     "output_type": "display_data"
    }
   ],
   "source": [
    "# Métaheuristique\n",
    "\n",
    "function metaheuristique(wind_scenarios, general_parameters, substation_substation_cable_types, land_substation_cable_types, substation_types)\n",
    "    D1, D2, D3 = distance(V_t,V_s,v_0)\n",
    "    L, S = heuristique_1(D1, D2)\n",
    "    costs = []\n",
    "    temperature = 3.4\n",
    "    for i in 1:800\n",
    "        temperature = temperature/1.1\n",
    "        if i%100 == 0\n",
    "            println(i)\n",
    "        end\n",
    "        if rand() < 0.3\n",
    "            L, S = voisinage_turbine_substation(L, S, D1, D2, D3, temperature, wind_scenarios, general_parameters, substation_substation_cable_types, land_substation_cable_types, substation_types)\n",
    "        elseif rand() < 0.3\n",
    "            L, S = voisinage_substation_substation(L, S, D1, D2, D3, temperature, wind_scenarios, general_parameters, substation_substation_cable_types, land_substation_cable_types, substation_types)\n",
    "        else\n",
    "            if rand() < 0.5\n",
    "                L, S = voisinage_type_cables(L, S, D1, D2, D3, temperature, wind_scenarios, general_parameters, substation_substation_cable_types, land_substation_cable_types, substation_types)\n",
    "            else\n",
    "                L, S = voisinage_type_substation(L, S, D1, D2, D3, temperature, wind_scenarios, general_parameters, substation_substation_cable_types, land_substation_cable_types, substation_types)\n",
    "            end\n",
    "        end\n",
    "        new_cost = cost(L, S, D1, D2, D3, wind_scenarios, general_parameters, substation_substation_cable_types, land_substation_cable_types, substation_types)\n",
    "        push!(costs, new_cost)\n",
    "    end\n",
    "    final_cost = cost(L, S, D1, D2, D3, wind_scenarios, general_parameters, substation_substation_cable_types, land_substation_cable_types, substation_types)\n",
    "    return L, S, costs, final_cost\n",
    "end"
   ]
  },
  {
   "cell_type": "code",
   "execution_count": 15,
   "metadata": {},
   "outputs": [
    {
     "name": "stdout",
     "output_type": "stream",
     "text": [
      "100"
     ]
    },
    {
     "name": "stdout",
     "output_type": "stream",
     "text": [
      "\n",
      "200\n"
     ]
    },
    {
     "name": "stdout",
     "output_type": "stream",
     "text": [
      "300"
     ]
    },
    {
     "name": "stdout",
     "output_type": "stream",
     "text": [
      "\n",
      "400\n"
     ]
    },
    {
     "name": "stdout",
     "output_type": "stream",
     "text": [
      "500"
     ]
    },
    {
     "name": "stdout",
     "output_type": "stream",
     "text": [
      "\n",
      "600"
     ]
    },
    {
     "name": "stdout",
     "output_type": "stream",
     "text": [
      "\n",
      "700\n"
     ]
    },
    {
     "data": {
      "image/png": "[encoded data removed]",
      "image/svg+xml": [
       "<?xml version=\"1.0\" encoding=\"utf-8\"?>\n",
       "<svg xmlns=\"http://www.w3.org/2000/svg\" xmlns:xlink=\"http://www.w3.org/1999/xlink\" width=\"600\" height=\"400\" viewBox=\"0 0 2400 1600\">\n",
       "<defs>\n",
       "  <clipPath id=\"clip580\">\n",
       "    <rect x=\"0\" y=\"0\" width=\"2400\" height=\"1600\"/>\n",
       "  </clipPath>\n",
       "</defs>\n",
       "<path clip-path=\"url(#clip580)\" d=\"M0 1600 L2400 1600 L2400 0 L0 0  Z\" fill=\"#ffffff\" fill-rule=\"evenodd\" fill-opacity=\"1\"/>\n",
       "<defs>\n",
       "  <clipPath id=\"clip581\">\n",
       "    <rect x=\"480\" y=\"0\" width=\"1681\" height=\"1600\"/>\n",
       "  </clipPath>\n",
       "</defs>\n",
       "<path clip-path=\"url(#clip580)\" d=\"M292.713 1423.18 L2352.76 1423.18 L2352.76 123.472 L292.713 123.472  Z\" fill=\"#ffffff\" fill-rule=\"evenodd\" fill-opacity=\"1\"/>\n",
       "<defs>\n",
       "  <clipPath id=\"clip582\">\n",
       "    <rect x=\"292\" y=\"123\" width=\"2061\" height=\"1301\"/>\n",
       "  </clipPath>\n",
       "</defs>\n",
       "<polyline clip-path=\"url(#clip582)\" style=\"stroke:#000000; stroke-linecap:round; stroke-linejoin:round; stroke-width:2; stroke-opacity:0.1; fill:none\" points=\"348.584,1423.18 348.584,123.472 \"/>\n",
       "<polyline clip-path=\"url(#clip582)\" style=\"stroke:#000000; stroke-linecap:round; stroke-linejoin:round; stroke-width:2; stroke-opacity:0.1; fill:none\" points=\"835.051,1423.18 835.051,123.472 \"/>\n",
       "<polyline clip-path=\"url(#clip582)\" style=\"stroke:#000000; stroke-linecap:round; stroke-linejoin:round; stroke-width:2; stroke-opacity:0.1; fill:none\" points=\"1321.52,1423.18 1321.52,123.472 \"/>\n",
       "<polyline clip-path=\"url(#clip582)\" style=\"stroke:#000000; stroke-linecap:round; stroke-linejoin:round; stroke-width:2; stroke-opacity:0.1; fill:none\" points=\"1807.99,1423.18 1807.99,123.472 \"/>\n",
       "<polyline clip-path=\"url(#clip582)\" style=\"stroke:#000000; stroke-linecap:round; stroke-linejoin:round; stroke-width:2; stroke-opacity:0.1; fill:none\" points=\"2294.45,1423.18 2294.45,123.472 \"/>\n",
       "<polyline clip-path=\"url(#clip580)\" style=\"stroke:#000000; stroke-linecap:round; stroke-linejoin:round; stroke-width:4; stroke-opacity:1; fill:none\" points=\"292.713,1423.18 2352.76,1423.18 \"/>\n",
       "<polyline clip-path=\"url(#clip580)\" style=\"stroke:#000000; stroke-linecap:round; stroke-linejoin:round; stroke-width:4; stroke-opacity:1; fill:none\" points=\"348.584,1423.18 348.584,1404.28 \"/>\n",
       "<polyline clip-path=\"url(#clip580)\" style=\"stroke:#000000; stroke-linecap:round; stroke-linejoin:round; stroke-width:4; stroke-opacity:1; fill:none\" points=\"835.051,1423.18 835.051,1404.28 \"/>\n",
       "<polyline clip-path=\"url(#clip580)\" style=\"stroke:#000000; stroke-linecap:round; stroke-linejoin:round; stroke-width:4; stroke-opacity:1; fill:none\" points=\"1321.52,1423.18 1321.52,1404.28 \"/>\n",
       "<polyline clip-path=\"url(#clip580)\" style=\"stroke:#000000; stroke-linecap:round; stroke-linejoin:round; stroke-width:4; stroke-opacity:1; fill:none\" points=\"1807.99,1423.18 1807.99,1404.28 \"/>\n",
       "<polyline clip-path=\"url(#clip580)\" style=\"stroke:#000000; stroke-linecap:round; stroke-linejoin:round; stroke-width:4; stroke-opacity:1; fill:none\" points=\"2294.45,1423.18 2294.45,1404.28 \"/>\n",
       "<path clip-path=\"url(#clip580)\" d=\"M348.584 1454.1 Q344.973 1454.1 343.144 1457.66 Q341.339 1461.2 341.339 1468.33 Q341.339 1475.44 343.144 1479.01 Q344.973 1482.55 348.584 1482.55 Q352.218 1482.55 354.024 1479.01 Q355.852 1475.44 355.852 1468.33 Q355.852 1461.2 354.024 1457.66 Q352.218 1454.1 348.584 1454.1 M348.584 1450.39 Q354.394 1450.39 357.45 1455 Q360.528 1459.58 360.528 1468.33 Q360.528 1477.06 357.45 1481.67 Q354.394 1486.25 348.584 1486.25 Q342.774 1486.25 339.695 1481.67 Q336.639 1477.06 336.639 1468.33 Q336.639 1459.58 339.695 1455 Q342.774 1450.39 348.584 1450.39 Z\" fill=\"#000000\" fill-rule=\"nonzero\" fill-opacity=\"1\" /><path clip-path=\"url(#clip580)\" d=\"M798.743 1481.64 L815.063 1481.64 L815.063 1485.58 L793.118 1485.58 L793.118 1481.64 Q795.78 1478.89 800.364 1474.26 Q804.97 1469.61 806.151 1468.27 Q808.396 1465.74 809.276 1464.01 Q810.179 1462.25 810.179 1460.56 Q810.179 1457.8 808.234 1456.07 Q806.313 1454.33 803.211 1454.33 Q801.012 1454.33 798.558 1455.09 Q796.128 1455.86 793.35 1457.41 L793.35 1452.69 Q796.174 1451.55 798.628 1450.97 Q801.081 1450.39 803.118 1450.39 Q808.489 1450.39 811.683 1453.08 Q814.878 1455.77 814.878 1460.26 Q814.878 1462.39 814.067 1464.31 Q813.28 1466.2 811.174 1468.8 Q810.595 1469.47 807.493 1472.69 Q804.392 1475.88 798.743 1481.64 Z\" fill=\"#000000\" fill-rule=\"nonzero\" fill-opacity=\"1\" /><path clip-path=\"url(#clip580)\" d=\"M834.877 1454.1 Q831.266 1454.1 829.438 1457.66 Q827.632 1461.2 827.632 1468.33 Q827.632 1475.44 829.438 1479.01 Q831.266 1482.55 834.877 1482.55 Q838.512 1482.55 840.317 1479.01 Q842.146 1475.44 842.146 1468.33 Q842.146 1461.2 840.317 1457.66 Q838.512 1454.1 834.877 1454.1 M834.877 1450.39 Q840.688 1450.39 843.743 1455 Q846.822 1459.58 846.822 1468.33 Q846.822 1477.06 843.743 1481.67 Q840.688 1486.25 834.877 1486.25 Q829.067 1486.25 825.989 1481.67 Q822.933 1477.06 822.933 1468.33 Q822.933 1459.58 825.989 1455 Q829.067 1450.39 834.877 1450.39 Z\" fill=\"#000000\" fill-rule=\"nonzero\" fill-opacity=\"1\" /><path clip-path=\"url(#clip580)\" d=\"M865.039 1454.1 Q861.428 1454.1 859.6 1457.66 Q857.794 1461.2 857.794 1468.33 Q857.794 1475.44 859.6 1479.01 Q861.428 1482.55 865.039 1482.55 Q868.674 1482.55 870.479 1479.01 Q872.308 1475.44 872.308 1468.33 Q872.308 1461.2 870.479 1457.66 Q868.674 1454.1 865.039 1454.1 M865.039 1450.39 Q870.85 1450.39 873.905 1455 Q876.984 1459.58 876.984 1468.33 Q876.984 1477.06 873.905 1481.67 Q870.85 1486.25 865.039 1486.25 Q859.229 1486.25 856.151 1481.67 Q853.095 1477.06 853.095 1468.33 Q853.095 1459.58 856.151 1455 Q859.229 1450.39 865.039 1450.39 Z\" fill=\"#000000\" fill-rule=\"nonzero\" fill-opacity=\"1\" /><path clip-path=\"url(#clip580)\" d=\"M1294.61 1455.09 L1282.8 1473.54 L1294.61 1473.54 L1294.61 1455.09 M1293.38 1451.02 L1299.26 1451.02 L1299.26 1473.54 L1304.19 1473.54 L1304.19 1477.43 L1299.26 1477.43 L1299.26 1485.58 L1294.61 1485.58 L1294.61 1477.43 L1279.01 1477.43 L1279.01 1472.92 L1293.38 1451.02 Z\" fill=\"#000000\" fill-rule=\"nonzero\" fill-opacity=\"1\" /><path clip-path=\"url(#clip580)\" d=\"M1321.92 1454.1 Q1318.31 1454.1 1316.48 1457.66 Q1314.68 1461.2 1314.68 1468.33 Q1314.68 1475.44 1316.48 1479.01 Q1318.31 1482.55 1321.92 1482.55 Q1325.56 1482.55 1327.36 1479.01 Q1329.19 1475.44 1329.19 1468.33 Q1329.19 1461.2 1327.36 1457.66 Q1325.56 1454.1 1321.92 1454.1 M1321.92 1450.39 Q1327.73 1450.39 1330.79 1455 Q1333.87 1459.58 1333.87 1468.33 Q1333.87 1477.06 1330.79 1481.67 Q1327.73 1486.25 1321.92 1486.25 Q1316.11 1486.25 1313.03 1481.67 Q1309.98 1477.06 1309.98 1468.33 Q1309.98 1459.58 1313.03 1455 Q1316.11 1450.39 1321.92 1450.39 Z\" fill=\"#000000\" fill-rule=\"nonzero\" fill-opacity=\"1\" /><path clip-path=\"url(#clip580)\" d=\"M1352.09 1454.1 Q1348.47 1454.1 1346.65 1457.66 Q1344.84 1461.2 1344.84 1468.33 Q1344.84 1475.44 1346.65 1479.01 Q1348.47 1482.55 1352.09 1482.55 Q1355.72 1482.55 1357.53 1479.01 Q1359.35 1475.44 1359.35 1468.33 Q1359.35 1461.2 1357.53 1457.66 Q1355.72 1454.1 1352.09 1454.1 M1352.09 1450.39 Q1357.9 1450.39 1360.95 1455 Q1364.03 1459.58 1364.03 1468.33 Q1364.03 1477.06 1360.95 1481.67 Q1357.9 1486.25 1352.09 1486.25 Q1346.28 1486.25 1343.2 1481.67 Q1340.14 1477.06 1340.14 1468.33 Q1340.14 1459.58 1343.2 1455 Q1346.28 1450.39 1352.09 1450.39 Z\" fill=\"#000000\" fill-rule=\"nonzero\" fill-opacity=\"1\" /><path clip-path=\"url(#clip580)\" d=\"M1778.31 1466.44 Q1775.16 1466.44 1773.31 1468.59 Q1771.48 1470.74 1771.48 1474.49 Q1771.48 1478.22 1773.31 1480.39 Q1775.16 1482.55 1778.31 1482.55 Q1781.46 1482.55 1783.29 1480.39 Q1785.14 1478.22 1785.14 1474.49 Q1785.14 1470.74 1783.29 1468.59 Q1781.46 1466.44 1778.31 1466.44 M1787.59 1451.78 L1787.59 1456.04 Q1785.83 1455.21 1784.03 1454.77 Q1782.24 1454.33 1780.49 1454.33 Q1775.86 1454.33 1773.4 1457.45 Q1770.97 1460.58 1770.62 1466.9 Q1771.99 1464.89 1774.05 1463.82 Q1776.11 1462.73 1778.59 1462.73 Q1783.8 1462.73 1786.81 1465.9 Q1789.84 1469.05 1789.84 1474.49 Q1789.84 1479.82 1786.69 1483.03 Q1783.54 1486.25 1778.31 1486.25 Q1772.31 1486.25 1769.14 1481.67 Q1765.97 1477.06 1765.97 1468.33 Q1765.97 1460.14 1769.86 1455.28 Q1773.75 1450.39 1780.3 1450.39 Q1782.06 1450.39 1783.84 1450.74 Q1785.65 1451.09 1787.59 1451.78 Z\" fill=\"#000000\" fill-rule=\"nonzero\" fill-opacity=\"1\" /><path clip-path=\"url(#clip580)\" d=\"M1807.89 1454.1 Q1804.28 1454.1 1802.45 1457.66 Q1800.65 1461.2 1800.65 1468.33 Q1800.65 1475.44 1802.45 1479.01 Q1804.28 1482.55 1807.89 1482.55 Q1811.53 1482.55 1813.33 1479.01 Q1815.16 1475.44 1815.16 1468.33 Q1815.16 1461.2 1813.33 1457.66 Q1811.53 1454.1 1807.89 1454.1 M1807.89 1450.39 Q1813.7 1450.39 1816.76 1455 Q1819.84 1459.58 1819.84 1468.33 Q1819.84 1477.06 1816.76 1481.67 Q1813.7 1486.25 1807.89 1486.25 Q1802.08 1486.25 1799 1481.67 Q1795.95 1477.06 1795.95 1468.33 Q1795.95 1459.58 1799 1455 Q1802.08 1450.39 1807.89 1450.39 Z\" fill=\"#000000\" fill-rule=\"nonzero\" fill-opacity=\"1\" /><path clip-path=\"url(#clip580)\" d=\"M1838.05 1454.1 Q1834.44 1454.1 1832.62 1457.66 Q1830.81 1461.2 1830.81 1468.33 Q1830.81 1475.44 1832.62 1479.01 Q1834.44 1482.55 1838.05 1482.55 Q1841.69 1482.55 1843.49 1479.01 Q1845.32 1475.44 1845.32 1468.33 Q1845.32 1461.2 1843.49 1457.66 Q1841.69 1454.1 1838.05 1454.1 M1838.05 1450.39 Q1843.87 1450.39 1846.92 1455 Q1850 1459.58 1850 1468.33 Q1850 1477.06 1846.92 1481.67 Q1843.87 1486.25 1838.05 1486.25 Q1832.24 1486.25 1829.17 1481.67 Q1826.11 1477.06 1826.11 1468.33 Q1826.11 1459.58 1829.17 1455 Q1832.24 1450.39 1838.05 1450.39 Z\" fill=\"#000000\" fill-rule=\"nonzero\" fill-opacity=\"1\" /><path clip-path=\"url(#clip580)\" d=\"M2264.24 1469.17 Q2260.91 1469.17 2258.99 1470.95 Q2257.09 1472.73 2257.09 1475.86 Q2257.09 1478.98 2258.99 1480.77 Q2260.91 1482.55 2264.24 1482.55 Q2267.58 1482.55 2269.5 1480.77 Q2271.42 1478.96 2271.42 1475.86 Q2271.42 1472.73 2269.5 1470.95 Q2267.6 1469.17 2264.24 1469.17 M2259.57 1467.18 Q2256.56 1466.44 2254.87 1464.38 Q2253.2 1462.32 2253.2 1459.35 Q2253.2 1455.21 2256.14 1452.8 Q2259.11 1450.39 2264.24 1450.39 Q2269.41 1450.39 2272.35 1452.8 Q2275.29 1455.21 2275.29 1459.35 Q2275.29 1462.32 2273.6 1464.38 Q2271.93 1466.44 2268.94 1467.18 Q2272.32 1467.96 2274.2 1470.26 Q2276.1 1472.55 2276.1 1475.86 Q2276.1 1480.88 2273.02 1483.57 Q2269.96 1486.25 2264.24 1486.25 Q2258.53 1486.25 2255.45 1483.57 Q2252.39 1480.88 2252.39 1475.86 Q2252.39 1472.55 2254.29 1470.26 Q2256.19 1467.96 2259.57 1467.18 M2257.86 1459.79 Q2257.86 1462.48 2259.52 1463.98 Q2261.21 1465.49 2264.24 1465.49 Q2267.25 1465.49 2268.94 1463.98 Q2270.66 1462.48 2270.66 1459.79 Q2270.66 1457.11 2268.94 1455.6 Q2267.25 1454.1 2264.24 1454.1 Q2261.21 1454.1 2259.52 1455.6 Q2257.86 1457.11 2257.86 1459.79 Z\" fill=\"#000000\" fill-rule=\"nonzero\" fill-opacity=\"1\" /><path clip-path=\"url(#clip580)\" d=\"M2294.41 1454.1 Q2290.8 1454.1 2288.97 1457.66 Q2287.16 1461.2 2287.16 1468.33 Q2287.16 1475.44 2288.97 1479.01 Q2290.8 1482.55 2294.41 1482.55 Q2298.04 1482.55 2299.85 1479.01 Q2301.67 1475.44 2301.67 1468.33 Q2301.67 1461.2 2299.85 1457.66 Q2298.04 1454.1 2294.41 1454.1 M2294.41 1450.39 Q2300.22 1450.39 2303.27 1455 Q2306.35 1459.58 2306.35 1468.33 Q2306.35 1477.06 2303.27 1481.67 Q2300.22 1486.25 2294.41 1486.25 Q2288.6 1486.25 2285.52 1481.67 Q2282.46 1477.06 2282.46 1468.33 Q2282.46 1459.58 2285.52 1455 Q2288.6 1450.39 2294.41 1450.39 Z\" fill=\"#000000\" fill-rule=\"nonzero\" fill-opacity=\"1\" /><path clip-path=\"url(#clip580)\" d=\"M2324.57 1454.1 Q2320.96 1454.1 2319.13 1457.66 Q2317.32 1461.2 2317.32 1468.33 Q2317.32 1475.44 2319.13 1479.01 Q2320.96 1482.55 2324.57 1482.55 Q2328.2 1482.55 2330.01 1479.01 Q2331.84 1475.44 2331.84 1468.33 Q2331.84 1461.2 2330.01 1457.66 Q2328.2 1454.1 2324.57 1454.1 M2324.57 1450.39 Q2330.38 1450.39 2333.43 1455 Q2336.51 1459.58 2336.51 1468.33 Q2336.51 1477.06 2333.43 1481.67 Q2330.38 1486.25 2324.57 1486.25 Q2318.76 1486.25 2315.68 1481.67 Q2312.62 1477.06 2312.62 1468.33 Q2312.62 1459.58 2315.68 1455 Q2318.76 1450.39 2324.57 1450.39 Z\" fill=\"#000000\" fill-rule=\"nonzero\" fill-opacity=\"1\" /><path clip-path=\"url(#clip580)\" d=\"M1172.3 1520.52 L1178.73 1520.52 L1178.73 1568.04 L1172.3 1568.04 L1172.3 1520.52 Z\" fill=\"#000000\" fill-rule=\"nonzero\" fill-opacity=\"1\" /><path clip-path=\"url(#clip580)\" d=\"M1197.06 1522.27 L1197.06 1532.4 L1209.12 1532.4 L1209.12 1536.95 L1197.06 1536.95 L1197.06 1556.3 Q1197.06 1560.66 1198.24 1561.9 Q1199.45 1563.14 1203.11 1563.14 L1209.12 1563.14 L1209.12 1568.04 L1203.11 1568.04 Q1196.33 1568.04 1193.75 1565.53 Q1191.17 1562.98 1191.17 1556.3 L1191.17 1536.95 L1186.87 1536.95 L1186.87 1532.4 L1191.17 1532.4 L1191.17 1522.27 L1197.06 1522.27 Z\" fill=\"#000000\" fill-rule=\"nonzero\" fill-opacity=\"1\" /><path clip-path=\"url(#clip580)\" d=\"M1247.32 1548.76 L1247.32 1551.62 L1220.39 1551.62 Q1220.77 1557.67 1224.02 1560.85 Q1227.3 1564 1233.12 1564 Q1236.5 1564 1239.65 1563.17 Q1242.83 1562.35 1245.95 1560.69 L1245.95 1566.23 Q1242.8 1567.57 1239.49 1568.27 Q1236.18 1568.97 1232.77 1568.97 Q1224.24 1568.97 1219.24 1564 Q1214.28 1559.04 1214.28 1550.57 Q1214.28 1541.82 1218.99 1536.69 Q1223.73 1531.54 1231.75 1531.54 Q1238.95 1531.54 1243.12 1536.18 Q1247.32 1540.8 1247.32 1548.76 M1241.46 1547.04 Q1241.4 1542.23 1238.75 1539.37 Q1236.14 1536.5 1231.82 1536.5 Q1226.91 1536.5 1223.95 1539.27 Q1221.03 1542.04 1220.58 1547.07 L1241.46 1547.04 M1235.83 1515.91 L1242.16 1515.91 L1231.78 1527.88 L1226.91 1527.88 L1235.83 1515.91 Z\" fill=\"#000000\" fill-rule=\"nonzero\" fill-opacity=\"1\" /><path clip-path=\"url(#clip580)\" d=\"M1277.59 1537.87 Q1276.6 1537.3 1275.42 1537.04 Q1274.28 1536.76 1272.88 1536.76 Q1267.91 1536.76 1265.24 1540 Q1262.59 1543.22 1262.59 1549.27 L1262.59 1568.04 L1256.71 1568.04 L1256.71 1532.4 L1262.59 1532.4 L1262.59 1537.93 Q1264.44 1534.69 1267.4 1533.13 Q1270.36 1531.54 1274.59 1531.54 Q1275.2 1531.54 1275.93 1531.63 Q1276.66 1531.7 1277.55 1531.85 L1277.59 1537.87 Z\" fill=\"#000000\" fill-rule=\"nonzero\" fill-opacity=\"1\" /><path clip-path=\"url(#clip580)\" d=\"M1299.93 1550.12 Q1292.83 1550.12 1290.09 1551.75 Q1287.36 1553.37 1287.36 1557.29 Q1287.36 1560.4 1289.39 1562.25 Q1291.46 1564.07 1295 1564.07 Q1299.87 1564.07 1302.79 1560.63 Q1305.75 1557.16 1305.75 1551.43 L1305.75 1550.12 L1299.93 1550.12 M1311.61 1547.71 L1311.61 1568.04 L1305.75 1568.04 L1305.75 1562.63 Q1303.75 1565.88 1300.76 1567.44 Q1297.77 1568.97 1293.44 1568.97 Q1287.96 1568.97 1284.72 1565.91 Q1281.5 1562.82 1281.5 1557.67 Q1281.5 1551.65 1285.51 1548.6 Q1289.55 1545.54 1297.54 1545.54 L1305.75 1545.54 L1305.75 1544.97 Q1305.75 1540.93 1303.08 1538.73 Q1300.44 1536.5 1295.63 1536.5 Q1292.58 1536.5 1289.68 1537.23 Q1286.78 1537.97 1284.11 1539.43 L1284.11 1534.02 Q1287.33 1532.78 1290.35 1532.17 Q1293.37 1531.54 1296.24 1531.54 Q1303.97 1531.54 1307.79 1535.55 Q1311.61 1539.56 1311.61 1547.71 Z\" fill=\"#000000\" fill-rule=\"nonzero\" fill-opacity=\"1\" /><path clip-path=\"url(#clip580)\" d=\"M1329.47 1522.27 L1329.47 1532.4 L1341.53 1532.4 L1341.53 1536.95 L1329.47 1536.95 L1329.47 1556.3 Q1329.47 1560.66 1330.64 1561.9 Q1331.85 1563.14 1335.51 1563.14 L1341.53 1563.14 L1341.53 1568.04 L1335.51 1568.04 Q1328.73 1568.04 1326.16 1565.53 Q1323.58 1562.98 1323.58 1556.3 L1323.58 1536.95 L1319.28 1536.95 L1319.28 1532.4 L1323.58 1532.4 L1323.58 1522.27 L1329.47 1522.27 Z\" fill=\"#000000\" fill-rule=\"nonzero\" fill-opacity=\"1\" /><path clip-path=\"url(#clip580)\" d=\"M1349.23 1532.4 L1355.09 1532.4 L1355.09 1568.04 L1349.23 1568.04 L1349.23 1532.4 M1349.23 1518.52 L1355.09 1518.52 L1355.09 1525.93 L1349.23 1525.93 L1349.23 1518.52 Z\" fill=\"#000000\" fill-rule=\"nonzero\" fill-opacity=\"1\" /><path clip-path=\"url(#clip580)\" d=\"M1381.16 1536.5 Q1376.45 1536.5 1373.71 1540.19 Q1370.97 1543.85 1370.97 1550.25 Q1370.97 1556.65 1373.68 1560.34 Q1376.41 1564 1381.16 1564 Q1385.83 1564 1388.57 1560.31 Q1391.31 1556.62 1391.31 1550.25 Q1391.31 1543.92 1388.57 1540.23 Q1385.83 1536.5 1381.16 1536.5 M1381.16 1531.54 Q1388.79 1531.54 1393.16 1536.5 Q1397.52 1541.47 1397.52 1550.25 Q1397.52 1559 1393.16 1564 Q1388.79 1568.97 1381.16 1568.97 Q1373.49 1568.97 1369.12 1564 Q1364.8 1559 1364.8 1550.25 Q1364.8 1541.47 1369.12 1536.5 Q1373.49 1531.54 1381.16 1531.54 Z\" fill=\"#000000\" fill-rule=\"nonzero\" fill-opacity=\"1\" /><path clip-path=\"url(#clip580)\" d=\"M1436.86 1546.53 L1436.86 1568.04 L1431 1568.04 L1431 1546.72 Q1431 1541.66 1429.03 1539.14 Q1427.05 1536.63 1423.11 1536.63 Q1418.36 1536.63 1415.63 1539.65 Q1412.89 1542.68 1412.89 1547.9 L1412.89 1568.04 L1407 1568.04 L1407 1532.4 L1412.89 1532.4 L1412.89 1537.93 Q1414.99 1534.72 1417.82 1533.13 Q1420.69 1531.54 1424.41 1531.54 Q1430.55 1531.54 1433.7 1535.36 Q1436.86 1539.14 1436.86 1546.53 Z\" fill=\"#000000\" fill-rule=\"nonzero\" fill-opacity=\"1\" /><path clip-path=\"url(#clip580)\" d=\"M1471.26 1533.45 L1471.26 1538.98 Q1468.78 1537.71 1466.11 1537.07 Q1463.43 1536.44 1460.57 1536.44 Q1456.21 1536.44 1454.01 1537.77 Q1451.85 1539.11 1451.85 1541.79 Q1451.85 1543.82 1453.41 1545 Q1454.97 1546.15 1459.68 1547.2 L1461.68 1547.64 Q1467.92 1548.98 1470.53 1551.43 Q1473.17 1553.85 1473.17 1558.21 Q1473.17 1563.17 1469.23 1566.07 Q1465.31 1568.97 1458.44 1568.97 Q1455.57 1568.97 1452.45 1568.39 Q1449.36 1567.85 1445.93 1566.74 L1445.93 1560.69 Q1449.17 1562.38 1452.32 1563.24 Q1455.48 1564.07 1458.56 1564.07 Q1462.7 1564.07 1464.93 1562.66 Q1467.16 1561.23 1467.16 1558.65 Q1467.16 1556.27 1465.53 1554.99 Q1463.94 1553.72 1458.5 1552.54 L1456.46 1552.07 Q1451.02 1550.92 1448.6 1548.56 Q1446.18 1546.18 1446.18 1542.04 Q1446.18 1537.01 1449.75 1534.27 Q1453.31 1531.54 1459.87 1531.54 Q1463.11 1531.54 1465.98 1532.01 Q1468.84 1532.49 1471.26 1533.45 Z\" fill=\"#000000\" fill-rule=\"nonzero\" fill-opacity=\"1\" /><polyline clip-path=\"url(#clip582)\" style=\"stroke:#000000; stroke-linecap:round; stroke-linejoin:round; stroke-width:2; stroke-opacity:0.1; fill:none\" points=\"292.713,1410.73 2352.76,1410.73 \"/>\n",
       "<polyline clip-path=\"url(#clip582)\" style=\"stroke:#000000; stroke-linecap:round; stroke-linejoin:round; stroke-width:2; stroke-opacity:0.1; fill:none\" points=\"292.713,1045.97 2352.76,1045.97 \"/>\n",
       "<polyline clip-path=\"url(#clip582)\" style=\"stroke:#000000; stroke-linecap:round; stroke-linejoin:round; stroke-width:2; stroke-opacity:0.1; fill:none\" points=\"292.713,681.209 2352.76,681.209 \"/>\n",
       "<polyline clip-path=\"url(#clip582)\" style=\"stroke:#000000; stroke-linecap:round; stroke-linejoin:round; stroke-width:2; stroke-opacity:0.1; fill:none\" points=\"292.713,316.449 2352.76,316.449 \"/>\n",
       "<polyline clip-path=\"url(#clip580)\" style=\"stroke:#000000; stroke-linecap:round; stroke-linejoin:round; stroke-width:4; stroke-opacity:1; fill:none\" points=\"292.713,1423.18 292.713,123.472 \"/>\n",
       "<polyline clip-path=\"url(#clip580)\" style=\"stroke:#000000; stroke-linecap:round; stroke-linejoin:round; stroke-width:4; stroke-opacity:1; fill:none\" points=\"292.713,1410.73 311.611,1410.73 \"/>\n",
       "<polyline clip-path=\"url(#clip580)\" style=\"stroke:#000000; stroke-linecap:round; stroke-linejoin:round; stroke-width:4; stroke-opacity:1; fill:none\" points=\"292.713,1045.97 311.611,1045.97 \"/>\n",
       "<polyline clip-path=\"url(#clip580)\" style=\"stroke:#000000; stroke-linecap:round; stroke-linejoin:round; stroke-width:4; stroke-opacity:1; fill:none\" points=\"292.713,681.209 311.611,681.209 \"/>\n",
       "<polyline clip-path=\"url(#clip580)\" style=\"stroke:#000000; stroke-linecap:round; stroke-linejoin:round; stroke-width:4; stroke-opacity:1; fill:none\" points=\"292.713,316.449 311.611,316.449 \"/>\n",
       "<path clip-path=\"url(#clip580)\" d=\"M143.103 1393.45 L165.325 1393.45 L165.325 1395.44 L152.778 1428.01 L147.894 1428.01 L159.7 1397.39 L143.103 1397.39 L143.103 1393.45 Z\" fill=\"#000000\" fill-rule=\"nonzero\" fill-opacity=\"1\" /><path clip-path=\"url(#clip580)\" d=\"M174.491 1393.45 L192.848 1393.45 L192.848 1397.39 L178.774 1397.39 L178.774 1405.86 Q179.792 1405.51 180.811 1405.35 Q181.829 1405.16 182.848 1405.16 Q188.635 1405.16 192.014 1408.33 Q195.394 1411.51 195.394 1416.92 Q195.394 1422.5 191.922 1425.6 Q188.45 1428.68 182.13 1428.68 Q179.954 1428.68 177.686 1428.31 Q175.44 1427.94 173.033 1427.2 L173.033 1422.5 Q175.116 1423.63 177.339 1424.19 Q179.561 1424.75 182.038 1424.75 Q186.042 1424.75 188.38 1422.64 Q190.718 1420.53 190.718 1416.92 Q190.718 1413.31 188.38 1411.2 Q186.042 1409.1 182.038 1409.1 Q180.163 1409.1 178.288 1409.51 Q176.436 1409.93 174.491 1410.81 L174.491 1393.45 Z\" fill=\"#000000\" fill-rule=\"nonzero\" fill-opacity=\"1\" /><path clip-path=\"url(#clip580)\" d=\"M214.607 1396.53 Q210.996 1396.53 209.167 1400.09 Q207.362 1403.64 207.362 1410.76 Q207.362 1417.87 209.167 1421.44 Q210.996 1424.98 214.607 1424.98 Q218.241 1424.98 220.047 1421.44 Q221.875 1417.87 221.875 1410.76 Q221.875 1403.64 220.047 1400.09 Q218.241 1396.53 214.607 1396.53 M214.607 1392.82 Q220.417 1392.82 223.473 1397.43 Q226.551 1402.01 226.551 1410.76 Q226.551 1419.49 223.473 1424.1 Q220.417 1428.68 214.607 1428.68 Q208.797 1428.68 205.718 1424.1 Q202.662 1419.49 202.662 1410.76 Q202.662 1402.01 205.718 1397.43 Q208.797 1392.82 214.607 1392.82 Z\" fill=\"#000000\" fill-rule=\"nonzero\" fill-opacity=\"1\" /><path clip-path=\"url(#clip580)\" d=\"M244.769 1396.53 Q241.158 1396.53 239.329 1400.09 Q237.523 1403.64 237.523 1410.76 Q237.523 1417.87 239.329 1421.44 Q241.158 1424.98 244.769 1424.98 Q248.403 1424.98 250.209 1421.44 Q252.037 1417.87 252.037 1410.76 Q252.037 1403.64 250.209 1400.09 Q248.403 1396.53 244.769 1396.53 M244.769 1392.82 Q250.579 1392.82 253.634 1397.43 Q256.713 1402.01 256.713 1410.76 Q256.713 1419.49 253.634 1424.1 Q250.579 1428.68 244.769 1428.68 Q238.959 1428.68 235.88 1424.1 Q232.824 1419.49 232.824 1410.76 Q232.824 1402.01 235.88 1397.43 Q238.959 1392.82 244.769 1392.82 Z\" fill=\"#000000\" fill-rule=\"nonzero\" fill-opacity=\"1\" /><path clip-path=\"url(#clip580)\" d=\"M114.931 1059.31 L122.57 1059.31 L122.57 1032.95 L114.26 1034.62 L114.26 1030.36 L122.524 1028.69 L127.2 1028.69 L127.2 1059.31 L134.839 1059.31 L134.839 1063.25 L114.931 1063.25 L114.931 1059.31 Z\" fill=\"#000000\" fill-rule=\"nonzero\" fill-opacity=\"1\" /><path clip-path=\"url(#clip580)\" d=\"M154.283 1031.77 Q150.672 1031.77 148.843 1035.33 Q147.038 1038.87 147.038 1046 Q147.038 1053.11 148.843 1056.68 Q150.672 1060.22 154.283 1060.22 Q157.917 1060.22 159.723 1056.68 Q161.552 1053.11 161.552 1046 Q161.552 1038.87 159.723 1035.33 Q157.917 1031.77 154.283 1031.77 M154.283 1028.06 Q160.093 1028.06 163.149 1032.67 Q166.227 1037.25 166.227 1046 Q166.227 1054.73 163.149 1059.34 Q160.093 1063.92 154.283 1063.92 Q148.473 1063.92 145.394 1059.34 Q142.339 1054.73 142.339 1046 Q142.339 1037.25 145.394 1032.67 Q148.473 1028.06 154.283 1028.06 Z\" fill=\"#000000\" fill-rule=\"nonzero\" fill-opacity=\"1\" /><path clip-path=\"url(#clip580)\" d=\"M184.445 1031.77 Q180.834 1031.77 179.005 1035.33 Q177.2 1038.87 177.2 1046 Q177.2 1053.11 179.005 1056.68 Q180.834 1060.22 184.445 1060.22 Q188.079 1060.22 189.885 1056.68 Q191.713 1053.11 191.713 1046 Q191.713 1038.87 189.885 1035.33 Q188.079 1031.77 184.445 1031.77 M184.445 1028.06 Q190.255 1028.06 193.311 1032.67 Q196.389 1037.25 196.389 1046 Q196.389 1054.73 193.311 1059.34 Q190.255 1063.92 184.445 1063.92 Q178.635 1063.92 175.556 1059.34 Q172.501 1054.73 172.501 1046 Q172.501 1037.25 175.556 1032.67 Q178.635 1028.06 184.445 1028.06 Z\" fill=\"#000000\" fill-rule=\"nonzero\" fill-opacity=\"1\" /><path clip-path=\"url(#clip580)\" d=\"M214.607 1031.77 Q210.996 1031.77 209.167 1035.33 Q207.362 1038.87 207.362 1046 Q207.362 1053.11 209.167 1056.68 Q210.996 1060.22 214.607 1060.22 Q218.241 1060.22 220.047 1056.68 Q221.875 1053.11 221.875 1046 Q221.875 1038.87 220.047 1035.33 Q218.241 1031.77 214.607 1031.77 M214.607 1028.06 Q220.417 1028.06 223.473 1032.67 Q226.551 1037.25 226.551 1046 Q226.551 1054.73 223.473 1059.34 Q220.417 1063.92 214.607 1063.92 Q208.797 1063.92 205.718 1059.34 Q202.662 1054.73 202.662 1046 Q202.662 1037.25 205.718 1032.67 Q208.797 1028.06 214.607 1028.06 Z\" fill=\"#000000\" fill-rule=\"nonzero\" fill-opacity=\"1\" /><path clip-path=\"url(#clip580)\" d=\"M244.769 1031.77 Q241.158 1031.77 239.329 1035.33 Q237.523 1038.87 237.523 1046 Q237.523 1053.11 239.329 1056.68 Q241.158 1060.22 244.769 1060.22 Q248.403 1060.22 250.209 1056.68 Q252.037 1053.11 252.037 1046 Q252.037 1038.87 250.209 1035.33 Q248.403 1031.77 244.769 1031.77 M244.769 1028.06 Q250.579 1028.06 253.634 1032.67 Q256.713 1037.25 256.713 1046 Q256.713 1054.73 253.634 1059.34 Q250.579 1063.92 244.769 1063.92 Q238.959 1063.92 235.88 1059.34 Q232.824 1054.73 232.824 1046 Q232.824 1037.25 235.88 1032.67 Q238.959 1028.06 244.769 1028.06 Z\" fill=\"#000000\" fill-rule=\"nonzero\" fill-opacity=\"1\" /><path clip-path=\"url(#clip580)\" d=\"M114.931 694.554 L122.57 694.554 L122.57 668.188 L114.26 669.855 L114.26 665.596 L122.524 663.929 L127.2 663.929 L127.2 694.554 L134.839 694.554 L134.839 698.489 L114.931 698.489 L114.931 694.554 Z\" fill=\"#000000\" fill-rule=\"nonzero\" fill-opacity=\"1\" /><path clip-path=\"url(#clip580)\" d=\"M148.311 694.554 L164.63 694.554 L164.63 698.489 L142.686 698.489 L142.686 694.554 Q145.348 691.799 149.931 687.17 Q154.538 682.517 155.718 681.174 Q157.964 678.651 158.843 676.915 Q159.746 675.156 159.746 673.466 Q159.746 670.711 157.802 668.975 Q155.88 667.239 152.778 667.239 Q150.579 667.239 148.126 668.003 Q145.695 668.767 142.917 670.318 L142.917 665.596 Q145.741 664.461 148.195 663.883 Q150.649 663.304 152.686 663.304 Q158.056 663.304 161.251 665.989 Q164.445 668.674 164.445 673.165 Q164.445 675.295 163.635 677.216 Q162.848 679.114 160.741 681.707 Q160.163 682.378 157.061 685.596 Q153.959 688.79 148.311 694.554 Z\" fill=\"#000000\" fill-rule=\"nonzero\" fill-opacity=\"1\" /><path clip-path=\"url(#clip580)\" d=\"M174.491 663.929 L192.848 663.929 L192.848 667.864 L178.774 667.864 L178.774 676.336 Q179.792 675.989 180.811 675.827 Q181.829 675.642 182.848 675.642 Q188.635 675.642 192.014 678.813 Q195.394 681.985 195.394 687.401 Q195.394 692.98 191.922 696.082 Q188.45 699.16 182.13 699.16 Q179.954 699.16 177.686 698.79 Q175.44 698.42 173.033 697.679 L173.033 692.98 Q175.116 694.114 177.339 694.67 Q179.561 695.225 182.038 695.225 Q186.042 695.225 188.38 693.119 Q190.718 691.012 190.718 687.401 Q190.718 683.79 188.38 681.684 Q186.042 679.577 182.038 679.577 Q180.163 679.577 178.288 679.994 Q176.436 680.41 174.491 681.29 L174.491 663.929 Z\" fill=\"#000000\" fill-rule=\"nonzero\" fill-opacity=\"1\" /><path clip-path=\"url(#clip580)\" d=\"M214.607 667.008 Q210.996 667.008 209.167 670.573 Q207.362 674.114 207.362 681.244 Q207.362 688.35 209.167 691.915 Q210.996 695.457 214.607 695.457 Q218.241 695.457 220.047 691.915 Q221.875 688.35 221.875 681.244 Q221.875 674.114 220.047 670.573 Q218.241 667.008 214.607 667.008 M214.607 663.304 Q220.417 663.304 223.473 667.911 Q226.551 672.494 226.551 681.244 Q226.551 689.971 223.473 694.577 Q220.417 699.16 214.607 699.16 Q208.797 699.16 205.718 694.577 Q202.662 689.971 202.662 681.244 Q202.662 672.494 205.718 667.911 Q208.797 663.304 214.607 663.304 Z\" fill=\"#000000\" fill-rule=\"nonzero\" fill-opacity=\"1\" /><path clip-path=\"url(#clip580)\" d=\"M244.769 667.008 Q241.158 667.008 239.329 670.573 Q237.523 674.114 237.523 681.244 Q237.523 688.35 239.329 691.915 Q241.158 695.457 244.769 695.457 Q248.403 695.457 250.209 691.915 Q252.037 688.35 252.037 681.244 Q252.037 674.114 250.209 670.573 Q248.403 667.008 244.769 667.008 M244.769 663.304 Q250.579 663.304 253.634 667.911 Q256.713 672.494 256.713 681.244 Q256.713 689.971 253.634 694.577 Q250.579 699.16 244.769 699.16 Q238.959 699.16 235.88 694.577 Q232.824 689.971 232.824 681.244 Q232.824 672.494 235.88 667.911 Q238.959 663.304 244.769 663.304 Z\" fill=\"#000000\" fill-rule=\"nonzero\" fill-opacity=\"1\" /><path clip-path=\"url(#clip580)\" d=\"M114.931 329.793 L122.57 329.793 L122.57 303.428 L114.26 305.095 L114.26 300.835 L122.524 299.169 L127.2 299.169 L127.2 329.793 L134.839 329.793 L134.839 333.729 L114.931 333.729 L114.931 329.793 Z\" fill=\"#000000\" fill-rule=\"nonzero\" fill-opacity=\"1\" /><path clip-path=\"url(#clip580)\" d=\"M144.329 299.169 L162.686 299.169 L162.686 303.104 L148.612 303.104 L148.612 311.576 Q149.63 311.229 150.649 311.067 Q151.667 310.882 152.686 310.882 Q158.473 310.882 161.852 314.053 Q165.232 317.224 165.232 322.641 Q165.232 328.219 161.76 331.321 Q158.288 334.4 151.968 334.4 Q149.792 334.4 147.524 334.03 Q145.279 333.659 142.871 332.918 L142.871 328.219 Q144.954 329.354 147.177 329.909 Q149.399 330.465 151.876 330.465 Q155.88 330.465 158.218 328.358 Q160.556 326.252 160.556 322.641 Q160.556 319.03 158.218 316.923 Q155.88 314.817 151.876 314.817 Q150.001 314.817 148.126 315.233 Q146.274 315.65 144.329 316.53 L144.329 299.169 Z\" fill=\"#000000\" fill-rule=\"nonzero\" fill-opacity=\"1\" /><path clip-path=\"url(#clip580)\" d=\"M184.445 302.247 Q180.834 302.247 179.005 305.812 Q177.2 309.354 177.2 316.483 Q177.2 323.59 179.005 327.155 Q180.834 330.696 184.445 330.696 Q188.079 330.696 189.885 327.155 Q191.713 323.59 191.713 316.483 Q191.713 309.354 189.885 305.812 Q188.079 302.247 184.445 302.247 M184.445 298.544 Q190.255 298.544 193.311 303.15 Q196.389 307.733 196.389 316.483 Q196.389 325.21 193.311 329.817 Q190.255 334.4 184.445 334.4 Q178.635 334.4 175.556 329.817 Q172.501 325.21 172.501 316.483 Q172.501 307.733 175.556 303.15 Q178.635 298.544 184.445 298.544 Z\" fill=\"#000000\" fill-rule=\"nonzero\" fill-opacity=\"1\" /><path clip-path=\"url(#clip580)\" d=\"M214.607 302.247 Q210.996 302.247 209.167 305.812 Q207.362 309.354 207.362 316.483 Q207.362 323.59 209.167 327.155 Q210.996 330.696 214.607 330.696 Q218.241 330.696 220.047 327.155 Q221.875 323.59 221.875 316.483 Q221.875 309.354 220.047 305.812 Q218.241 302.247 214.607 302.247 M214.607 298.544 Q220.417 298.544 223.473 303.15 Q226.551 307.733 226.551 316.483 Q226.551 325.21 223.473 329.817 Q220.417 334.4 214.607 334.4 Q208.797 334.4 205.718 329.817 Q202.662 325.21 202.662 316.483 Q202.662 307.733 205.718 303.15 Q208.797 298.544 214.607 298.544 Z\" fill=\"#000000\" fill-rule=\"nonzero\" fill-opacity=\"1\" /><path clip-path=\"url(#clip580)\" d=\"M244.769 302.247 Q241.158 302.247 239.329 305.812 Q237.523 309.354 237.523 316.483 Q237.523 323.59 239.329 327.155 Q241.158 330.696 244.769 330.696 Q248.403 330.696 250.209 327.155 Q252.037 323.59 252.037 316.483 Q252.037 309.354 250.209 305.812 Q248.403 302.247 244.769 302.247 M244.769 298.544 Q250.579 298.544 253.634 303.15 Q256.713 307.733 256.713 316.483 Q256.713 325.21 253.634 329.817 Q250.579 334.4 244.769 334.4 Q238.959 334.4 235.88 329.817 Q232.824 325.21 232.824 316.483 Q232.824 307.733 235.88 303.15 Q238.959 298.544 244.769 298.544 Z\" fill=\"#000000\" fill-rule=\"nonzero\" fill-opacity=\"1\" /><path clip-path=\"url(#clip580)\" d=\"M20.1444 808.528 L26.9239 808.528 Q23.9002 811.775 22.4043 815.467 Q20.9083 819.127 20.9083 823.265 Q20.9083 831.413 25.9054 835.742 Q30.8707 840.07 40.2919 840.07 Q49.6813 840.07 54.6784 835.742 Q59.6436 831.413 59.6436 823.265 Q59.6436 819.127 58.1477 815.467 Q56.6518 811.775 53.6281 808.528 L60.3439 808.528 Q62.6355 811.902 63.7814 815.69 Q64.9272 819.446 64.9272 823.647 Q64.9272 834.437 58.3387 840.643 Q51.7183 846.85 40.2919 846.85 Q28.8336 846.85 22.2451 840.643 Q15.6248 834.437 15.6248 823.647 Q15.6248 819.382 16.7706 815.626 Q17.8846 811.839 20.1444 808.528 Z\" fill=\"#000000\" fill-rule=\"nonzero\" fill-opacity=\"1\" /><path clip-path=\"url(#clip580)\" d=\"M32.4621 785.039 Q32.4621 789.75 36.1542 792.487 Q39.8145 795.224 46.212 795.224 Q52.6095 795.224 56.3017 792.519 Q59.9619 789.781 59.9619 785.039 Q59.9619 780.36 56.2698 777.623 Q52.5777 774.886 46.212 774.886 Q39.8781 774.886 36.186 777.623 Q32.4621 780.36 32.4621 785.039 M27.4968 785.039 Q27.4968 777.4 32.4621 773.04 Q37.4273 768.679 46.212 768.679 Q54.9649 768.679 59.9619 773.04 Q64.9272 777.4 64.9272 785.039 Q64.9272 792.71 59.9619 797.07 Q54.9649 801.399 46.212 801.399 Q37.4273 801.399 32.4621 797.07 Q27.4968 792.71 27.4968 785.039 Z\" fill=\"#000000\" fill-rule=\"nonzero\" fill-opacity=\"1\" /><path clip-path=\"url(#clip580)\" d=\"M49.9359 759.576 L28.3562 759.576 L28.3562 753.72 L49.7131 753.72 Q54.7739 753.72 57.3202 751.746 Q59.8346 749.773 59.8346 745.826 Q59.8346 741.084 56.8109 738.346 Q53.7872 735.577 48.5673 735.577 L28.3562 735.577 L28.3562 729.721 L64.0042 729.721 L64.0042 735.577 L58.5296 735.577 Q61.7762 737.71 63.3676 740.543 Q64.9272 743.344 64.9272 747.067 Q64.9272 753.21 61.1078 756.393 Q57.2883 759.576 49.9359 759.576 M27.4968 744.839 L27.4968 744.839 M11.869 747.258 L11.869 742.548 L23.8365 734.75 L23.8365 739.174 L16.0386 744.903 L23.8365 750.632 L23.8365 755.056 L11.869 747.258 Z\" fill=\"#000000\" fill-rule=\"nonzero\" fill-opacity=\"1\" /><path clip-path=\"url(#clip580)\" d=\"M18.2347 711.865 L28.3562 711.865 L28.3562 699.802 L32.9077 699.802 L32.9077 711.865 L52.2594 711.865 Q56.6199 711.865 57.8613 710.687 Q59.1026 709.478 59.1026 705.818 L59.1026 699.802 L64.0042 699.802 L64.0042 705.818 Q64.0042 712.597 61.4897 715.175 Q58.9434 717.753 52.2594 717.753 L32.9077 717.753 L32.9077 722.05 L28.3562 722.05 L28.3562 717.753 L18.2347 717.753 L18.2347 711.865 Z\" fill=\"#000000\" fill-rule=\"nonzero\" fill-opacity=\"1\" /><path clip-path=\"url(#clip580)\" d=\"M964.655 12.096 L1002.9 12.096 L1002.9 18.9825 L972.838 18.9825 L972.838 36.8875 L1001.64 36.8875 L1001.64 43.7741 L972.838 43.7741 L972.838 65.6895 L1003.62 65.6895 L1003.62 72.576 L964.655 72.576 L964.655 12.096 M985.882 -4.35067 L993.376 -4.35067 L984.14 6.34372 L977.942 6.34372 L985.882 -4.35067 Z\" fill=\"#000000\" fill-rule=\"nonzero\" fill-opacity=\"1\" /><path clip-path=\"url(#clip580)\" d=\"M1011.4 27.2059 L1019.3 27.2059 L1033.48 65.2844 L1047.66 27.2059 L1055.56 27.2059 L1038.54 72.576 L1028.42 72.576 L1011.4 27.2059 Z\" fill=\"#000000\" fill-rule=\"nonzero\" fill-opacity=\"1\" /><path clip-path=\"url(#clip580)\" d=\"M1083.43 32.4315 Q1077.43 32.4315 1073.95 37.1306 Q1070.46 41.7891 1070.46 49.9314 Q1070.46 58.0738 1073.91 62.7728 Q1077.39 67.4314 1083.43 67.4314 Q1089.38 67.4314 1092.87 62.7323 Q1096.35 58.0333 1096.35 49.9314 Q1096.35 41.8701 1092.87 37.1711 Q1089.38 32.4315 1083.43 32.4315 M1083.43 26.1121 Q1093.15 26.1121 1098.7 32.4315 Q1104.25 38.7509 1104.25 49.9314 Q1104.25 61.0714 1098.7 67.4314 Q1093.15 73.7508 1083.43 73.7508 Q1073.66 73.7508 1068.11 67.4314 Q1062.61 61.0714 1062.61 49.9314 Q1062.61 38.7509 1068.11 32.4315 Q1073.66 26.1121 1083.43 26.1121 Z\" fill=\"#000000\" fill-rule=\"nonzero\" fill-opacity=\"1\" /><path clip-path=\"url(#clip580)\" d=\"M1116.6 9.54393 L1124.06 9.54393 L1124.06 72.576 L1116.6 72.576 L1116.6 9.54393 Z\" fill=\"#000000\" fill-rule=\"nonzero\" fill-opacity=\"1\" /><path clip-path=\"url(#clip580)\" d=\"M1138.88 54.671 L1138.88 27.2059 L1146.34 27.2059 L1146.34 54.3874 Q1146.34 60.8284 1148.85 64.0691 Q1151.36 67.2693 1156.38 67.2693 Q1162.42 67.2693 1165.9 63.421 Q1169.43 59.5726 1169.43 52.9291 L1169.43 27.2059 L1176.88 27.2059 L1176.88 72.576 L1169.43 72.576 L1169.43 65.6084 Q1166.71 69.7404 1163.11 71.7658 Q1159.54 73.7508 1154.8 73.7508 Q1146.99 73.7508 1142.94 68.8897 Q1138.88 64.0286 1138.88 54.671 M1157.64 26.1121 L1157.64 26.1121 Z\" fill=\"#000000\" fill-rule=\"nonzero\" fill-opacity=\"1\" /><path clip-path=\"url(#clip580)\" d=\"M1199.61 14.324 L1199.61 27.2059 L1214.96 27.2059 L1214.96 32.9987 L1199.61 32.9987 L1199.61 57.6282 Q1199.61 63.1779 1201.11 64.7578 Q1202.65 66.3376 1207.3 66.3376 L1214.96 66.3376 L1214.96 72.576 L1207.3 72.576 Q1198.68 72.576 1195.39 69.3758 Q1192.11 66.1351 1192.11 57.6282 L1192.11 32.9987 L1186.64 32.9987 L1186.64 27.2059 L1192.11 27.2059 L1192.11 14.324 L1199.61 14.324 Z\" fill=\"#000000\" fill-rule=\"nonzero\" fill-opacity=\"1\" /><path clip-path=\"url(#clip580)\" d=\"M1224.76 27.2059 L1232.22 27.2059 L1232.22 72.576 L1224.76 72.576 L1224.76 27.2059 M1224.76 9.54393 L1232.22 9.54393 L1232.22 18.9825 L1224.76 18.9825 L1224.76 9.54393 Z\" fill=\"#000000\" fill-rule=\"nonzero\" fill-opacity=\"1\" /><path clip-path=\"url(#clip580)\" d=\"M1265.39 32.4315 Q1259.4 32.4315 1255.91 37.1306 Q1252.43 41.7891 1252.43 49.9314 Q1252.43 58.0738 1255.87 62.7728 Q1259.36 67.4314 1265.39 67.4314 Q1271.35 67.4314 1274.83 62.7323 Q1278.32 58.0333 1278.32 49.9314 Q1278.32 41.8701 1274.83 37.1711 Q1271.35 32.4315 1265.39 32.4315 M1265.39 26.1121 Q1275.12 26.1121 1280.67 32.4315 Q1286.22 38.7509 1286.22 49.9314 Q1286.22 61.0714 1280.67 67.4314 Q1275.12 73.7508 1265.39 73.7508 Q1255.63 73.7508 1250.08 67.4314 Q1244.57 61.0714 1244.57 49.9314 Q1244.57 38.7509 1250.08 32.4315 Q1255.63 26.1121 1265.39 26.1121 Z\" fill=\"#000000\" fill-rule=\"nonzero\" fill-opacity=\"1\" /><path clip-path=\"url(#clip580)\" d=\"M1336.28 45.1919 L1336.28 72.576 L1328.83 72.576 L1328.83 45.4349 Q1328.83 38.994 1326.32 35.7938 Q1323.81 32.5936 1318.78 32.5936 Q1312.75 32.5936 1309.27 36.4419 Q1305.78 40.2903 1305.78 46.9338 L1305.78 72.576 L1298.29 72.576 L1298.29 27.2059 L1305.78 27.2059 L1305.78 34.2544 Q1308.46 30.163 1312.06 28.1376 Q1315.71 26.1121 1320.45 26.1121 Q1328.26 26.1121 1332.27 30.9732 Q1336.28 35.7938 1336.28 45.1919 Z\" fill=\"#000000\" fill-rule=\"nonzero\" fill-opacity=\"1\" /><path clip-path=\"url(#clip580)\" d=\"M1407.38 34.0924 L1407.38 9.54393 L1414.83 9.54393 L1414.83 72.576 L1407.38 72.576 L1407.38 65.7705 Q1405.03 69.8214 1401.42 71.8063 Q1397.86 73.7508 1392.84 73.7508 Q1384.61 73.7508 1379.43 67.1883 Q1374.28 60.6258 1374.28 49.9314 Q1374.28 39.2371 1379.43 32.6746 Q1384.61 26.1121 1392.84 26.1121 Q1397.86 26.1121 1401.42 28.0971 Q1405.03 30.0415 1407.38 34.0924 M1381.98 49.9314 Q1381.98 58.1548 1385.34 62.8538 Q1388.74 67.5124 1394.66 67.5124 Q1400.57 67.5124 1403.98 62.8538 Q1407.38 58.1548 1407.38 49.9314 Q1407.38 41.7081 1403.98 37.0496 Q1400.57 32.3505 1394.66 32.3505 Q1388.74 32.3505 1385.34 37.0496 Q1381.98 41.7081 1381.98 49.9314 Z\" fill=\"#000000\" fill-rule=\"nonzero\" fill-opacity=\"1\" /><path clip-path=\"url(#clip580)\" d=\"M1429.42 54.671 L1429.42 27.2059 L1436.87 27.2059 L1436.87 54.3874 Q1436.87 60.8284 1439.38 64.0691 Q1441.89 67.2693 1446.91 67.2693 Q1452.95 67.2693 1456.43 63.421 Q1459.96 59.5726 1459.96 52.9291 L1459.96 27.2059 L1467.41 27.2059 L1467.41 72.576 L1459.96 72.576 L1459.96 65.6084 Q1457.24 69.7404 1453.64 71.7658 Q1450.07 73.7508 1445.34 73.7508 Q1437.52 73.7508 1433.47 68.8897 Q1429.42 64.0286 1429.42 54.671 M1448.17 26.1121 L1448.17 26.1121 Z\" fill=\"#000000\" fill-rule=\"nonzero\" fill-opacity=\"1\" /><path clip-path=\"url(#clip580)\" d=\"M1541.79 28.9478 L1541.79 35.9153 Q1538.63 34.1734 1535.43 33.3227 Q1532.27 32.4315 1529.03 32.4315 Q1521.78 32.4315 1517.77 37.0496 Q1513.75 41.6271 1513.75 49.9314 Q1513.75 58.2358 1517.77 62.8538 Q1521.78 67.4314 1529.03 67.4314 Q1532.27 67.4314 1535.43 66.5807 Q1538.63 65.6895 1541.79 63.9476 L1541.79 70.8341 Q1538.67 72.2924 1535.31 73.0216 Q1531.98 73.7508 1528.22 73.7508 Q1517.97 73.7508 1511.93 67.3098 Q1505.9 60.8689 1505.9 49.9314 Q1505.9 38.832 1511.97 32.472 Q1518.09 26.1121 1528.7 26.1121 Q1532.15 26.1121 1535.43 26.8413 Q1538.71 27.5299 1541.79 28.9478 Z\" fill=\"#000000\" fill-rule=\"nonzero\" fill-opacity=\"1\" /><path clip-path=\"url(#clip580)\" d=\"M1572.33 32.4315 Q1566.34 32.4315 1562.85 37.1306 Q1559.37 41.7891 1559.37 49.9314 Q1559.37 58.0738 1562.81 62.7728 Q1566.3 67.4314 1572.33 67.4314 Q1578.29 67.4314 1581.77 62.7323 Q1585.25 58.0333 1585.25 49.9314 Q1585.25 41.8701 1581.77 37.1711 Q1578.29 32.4315 1572.33 32.4315 M1572.33 26.1121 Q1582.05 26.1121 1587.6 32.4315 Q1593.15 38.7509 1593.15 49.9314 Q1593.15 61.0714 1587.6 67.4314 Q1582.05 73.7508 1572.33 73.7508 Q1562.57 73.7508 1557.02 67.4314 Q1551.51 61.0714 1551.51 49.9314 Q1551.51 38.7509 1557.02 32.4315 Q1562.57 26.1121 1572.33 26.1121 Z\" fill=\"#000000\" fill-rule=\"nonzero\" fill-opacity=\"1\" /><path clip-path=\"url(#clip580)\" d=\"M1604.74 54.671 L1604.74 27.2059 L1612.19 27.2059 L1612.19 54.3874 Q1612.19 60.8284 1614.7 64.0691 Q1617.21 67.2693 1622.24 67.2693 Q1628.27 67.2693 1631.76 63.421 Q1635.28 59.5726 1635.28 52.9291 L1635.28 27.2059 L1642.74 27.2059 L1642.74 72.576 L1635.28 72.576 L1635.28 65.6084 Q1632.57 69.7404 1628.96 71.7658 Q1625.4 73.7508 1620.66 73.7508 Q1612.84 73.7508 1608.79 68.8897 Q1604.74 64.0286 1604.74 54.671 M1623.49 26.1121 L1623.49 26.1121 M1620.42 6.22219 L1626.41 6.22219 L1636.34 21.4536 L1630.7 21.4536 L1623.41 11.5289 L1616.12 21.4536 L1610.49 21.4536 L1620.42 6.22219 Z\" fill=\"#000000\" fill-rule=\"nonzero\" fill-opacity=\"1\" /><path clip-path=\"url(#clip580)\" d=\"M1665.46 14.324 L1665.46 27.2059 L1680.81 27.2059 L1680.81 32.9987 L1665.46 32.9987 L1665.46 57.6282 Q1665.46 63.1779 1666.96 64.7578 Q1668.5 66.3376 1673.16 66.3376 L1680.81 66.3376 L1680.81 72.576 L1673.16 72.576 Q1664.53 72.576 1661.25 69.3758 Q1657.97 66.1351 1657.97 57.6282 L1657.97 32.9987 L1652.5 32.9987 L1652.5 27.2059 L1657.97 27.2059 L1657.97 14.324 L1665.46 14.324 Z\" fill=\"#000000\" fill-rule=\"nonzero\" fill-opacity=\"1\" /><polyline clip-path=\"url(#clip582)\" style=\"stroke:#009af9; stroke-linecap:round; stroke-linejoin:round; stroke-width:4; stroke-opacity:1; fill:none\" points=\"351.016,160.256 353.449,160.256 355.881,160.256 358.313,164.844 360.746,164.844 363.178,191.475 365.61,191.475 368.043,191.475 370.475,191.475 372.907,191.475 375.34,191.475 377.772,191.475 380.204,191.475 382.637,191.475 385.069,203.707 387.501,203.707 389.934,203.707 392.366,203.707 394.798,203.707 397.231,203.707 399.663,203.707 402.095,203.707 404.528,203.707 406.96,203.707 409.392,203.707 411.825,203.707 414.257,203.707 416.689,209.427 419.122,209.427 421.554,209.427 423.986,216.297 426.419,216.297 428.851,216.297 431.283,216.297 433.716,216.297 436.148,216.297 438.58,216.297 441.013,216.297 443.445,216.297 445.877,216.297 448.31,216.297 450.742,216.297 453.174,216.297 455.607,216.297 458.039,216.297 460.471,216.297 462.904,216.297 465.336,216.297 467.768,216.297 470.201,216.297 472.633,216.297 475.065,216.297 477.498,216.297 479.93,216.297 482.362,216.297 484.795,216.297 487.227,216.297 489.659,216.297 492.092,216.297 494.524,216.297 496.956,216.297 499.389,216.297 501.821,216.297 504.253,216.297 506.686,216.297 509.118,216.297 511.55,216.297 513.983,216.297 516.415,216.297 518.847,216.297 521.28,216.297 523.712,221.88 526.144,221.88 528.577,221.88 531.009,221.88 533.441,221.88 535.874,221.88 538.306,247.046 540.738,253.803 543.171,254.614 545.603,254.614 548.035,254.614 550.468,254.614 552.9,254.614 555.332,254.614 557.765,254.614 560.197,254.614 562.629,588.435 565.062,588.435 567.494,588.435 569.926,588.435 572.359,588.435 574.791,588.435 577.223,588.435 579.656,627.542 582.088,627.542 584.52,627.542 586.953,627.542 589.385,627.542 591.817,633.161 594.25,633.161 596.682,651.185 599.114,651.185 601.547,651.185 603.979,651.185 606.411,651.185 608.844,651.185 611.276,651.185 613.709,651.185 616.141,651.185 618.573,669.197 621.006,669.197 623.438,669.93 625.87,689.118 628.303,689.118 630.735,689.118 633.167,689.118 635.6,689.118 638.032,689.118 640.464,689.118 642.897,689.118 645.329,689.118 647.761,689.118 650.194,689.118 652.626,689.118 655.058,689.118 657.491,689.118 659.923,689.118 662.355,689.118 664.788,689.118 667.22,689.118 669.652,689.118 672.085,689.118 674.517,689.118 676.949,689.118 679.382,689.118 681.814,689.118 684.246,708.958 686.679,708.958 689.111,708.958 691.543,708.958 693.976,708.958 696.408,708.958 698.84,708.958 701.273,708.958 703.705,708.958 706.137,708.958 708.57,708.958 711.002,708.958 713.434,708.958 715.867,708.958 718.299,710.14 720.731,710.14 723.164,710.14 725.596,710.14 728.028,710.227 730.461,710.227 732.893,710.227 735.325,710.227 737.758,710.227 740.19,710.227 742.622,710.227 745.055,710.227 747.487,710.227 749.919,710.227 752.352,710.227 754.784,710.227 757.216,710.227 759.649,710.227 762.081,710.227 764.513,710.227 766.946,710.227 769.378,710.227 771.81,710.227 774.243,710.227 776.675,710.227 779.107,710.227 781.54,710.227 783.972,710.227 786.404,710.227 788.837,710.227 791.269,710.227 793.701,710.227 796.134,710.227 798.566,820.889 800.998,820.889 803.431,820.889 805.863,820.889 808.295,820.889 810.728,820.889 813.16,868.718 815.592,868.718 818.025,868.718 820.457,868.718 822.889,868.718 825.322,868.718 827.754,868.718 830.186,868.718 832.619,868.718 835.051,868.718 837.483,868.718 839.916,868.718 842.348,868.718 844.78,868.718 847.213,886.805 849.645,886.805 852.077,886.805 854.51,907.382 856.942,907.382 859.374,907.382 861.807,907.382 864.239,907.382 866.671,960.565 869.104,964.104 871.536,964.104 873.968,964.104 876.401,964.104 878.833,964.104 881.265,982.403 883.698,982.403 886.13,982.403 888.562,982.403 890.995,982.403 893.427,982.403 895.86,982.403 898.292,982.403 900.724,982.403 903.157,982.403 905.589,982.403 908.021,982.403 910.454,982.403 912.886,982.861 915.318,982.861 917.751,982.861 920.183,982.861 922.615,982.861 925.048,982.861 927.48,982.861 929.912,982.861 932.345,982.861 934.777,982.861 937.209,982.861 939.642,982.861 942.074,982.861 944.506,982.861 946.939,982.861 949.371,982.861 951.803,982.861 954.236,982.861 956.668,982.861 959.1,982.861 961.533,982.861 963.965,982.861 966.397,982.861 968.83,982.861 971.262,982.861 973.694,982.861 976.127,982.861 978.559,982.861 980.991,982.861 983.424,982.861 985.856,982.861 988.288,982.861 990.721,982.861 993.153,982.861 995.585,1011.36 998.018,1037.57 1000.45,1037.57 1002.88,1037.57 1005.31,1037.57 1007.75,1037.57 1010.18,1061.11 1012.61,1061.11 1015.04,1061.11 1017.48,1061.11 1019.91,1061.11 1022.34,1061.11 1024.77,1061.11 1027.21,1061.11 1029.64,1061.11 1032.07,1061.11 1034.5,1061.11 1036.94,1061.11 1039.37,1061.11 1041.8,1061.11 1044.23,1061.11 1046.66,1061.11 1049.1,1061.11 1051.53,1061.11 1053.96,1061.11 1056.39,1061.11 1058.83,1061.11 1061.26,1061.11 1063.69,1061.11 1066.12,1061.11 1068.56,1061.11 1070.99,1119.16 1073.42,1119.16 1075.85,1119.16 1078.28,1119.16 1080.72,1119.16 1083.15,1119.16 1085.58,1119.16 1088.01,1119.16 1090.45,1119.16 1092.88,1119.16 1095.31,1119.16 1097.74,1119.16 1100.18,1119.16 1102.61,1119.16 1105.04,1119.16 1107.47,1119.16 1109.91,1119.16 1112.34,1119.16 1114.77,1119.16 1117.2,1119.16 1119.63,1119.16 1122.07,1119.16 1124.5,1119.16 1126.93,1119.16 1129.36,1119.16 1131.8,1119.16 1134.23,1119.16 1136.66,1119.16 1139.09,1119.16 1141.53,1119.16 1143.96,1119.16 1146.39,1119.16 1148.82,1119.16 1151.25,1119.16 1153.69,1119.16 1156.12,1119.16 1158.55,1119.16 1160.98,1119.16 1163.42,1119.16 1165.85,1125.1 1168.28,1125.1 1170.71,1144.28 1173.15,1144.28 1175.58,1144.28 1178.01,1144.28 1180.44,1144.28 1182.88,1150.22 1185.31,1150.22 1187.74,1150.22 1190.17,1150.22 1192.6,1150.22 1195.04,1150.22 1197.47,1150.22 1199.9,1150.22 1202.33,1150.22 1204.77,1150.22 1207.2,1150.22 1209.63,1150.22 1212.06,1150.22 1214.5,1150.22 1216.93,1150.22 1219.36,1150.22 1221.79,1150.22 1224.22,1150.22 1226.66,1150.22 1229.09,1150.22 1231.52,1150.22 1233.95,1150.22 1236.39,1150.22 1238.82,1150.22 1241.25,1150.22 1243.68,1150.22 1246.12,1150.22 1248.55,1150.22 1250.98,1150.22 1253.41,1150.22 1255.85,1150.22 1258.28,1150.22 1260.71,1150.22 1263.14,1150.22 1265.57,1150.22 1268.01,1150.22 1270.44,1150.22 1272.87,1150.22 1275.3,1150.22 1277.74,1150.22 1280.17,1150.22 1282.6,1150.22 1285.03,1150.22 1287.47,1150.22 1289.9,1150.22 1292.33,1150.22 1294.76,1150.22 1297.19,1150.22 1299.63,1150.22 1302.06,1150.22 1304.49,1150.22 1306.92,1150.22 1309.36,1150.22 1311.79,1150.22 1314.22,1150.22 1316.65,1150.22 1319.09,1150.22 1321.52,1150.22 1323.95,1150.22 1326.38,1150.22 1328.82,1150.22 1331.25,1150.22 1333.68,1150.22 1336.11,1150.22 1338.54,1150.22 1340.98,1150.22 1343.41,1150.22 1345.84,1150.22 1348.27,1150.22 1350.71,1150.22 1353.14,1150.22 1355.57,1150.22 1358,1150.22 1360.44,1150.22 1362.87,1150.22 1365.3,1150.22 1367.73,1150.22 1370.17,1150.22 1372.6,1150.22 1375.03,1150.22 1377.46,1150.22 1379.89,1150.22 1382.33,1150.22 1384.76,1150.22 1387.19,1150.22 1389.62,1150.22 1392.06,1150.22 1394.49,1150.22 1396.92,1150.22 1399.35,1150.22 1401.79,1150.22 1404.22,1150.22 1406.65,1150.22 1409.08,1150.22 1411.51,1150.22 1413.95,1150.22 1416.38,1150.22 1418.81,1150.22 1421.24,1150.22 1423.68,1150.22 1426.11,1150.22 1428.54,1150.22 1430.97,1150.22 1433.41,1150.22 1435.84,1150.22 1438.27,1150.22 1440.7,1150.22 1443.14,1150.22 1445.57,1150.22 1448,1150.22 1450.43,1150.22 1452.86,1150.22 1455.3,1150.22 1457.73,1150.22 1460.16,1150.22 1462.59,1150.22 1465.03,1169.14 1467.46,1169.14 1469.89,1169.14 1472.32,1169.14 1474.76,1169.14 1477.19,1169.14 1479.62,1169.14 1482.05,1169.14 1484.48,1169.14 1486.92,1169.14 1489.35,1169.14 1491.78,1169.14 1494.21,1169.14 1496.65,1169.14 1499.08,1169.14 1501.51,1169.14 1503.94,1169.14 1506.38,1169.14 1508.81,1169.14 1511.24,1169.14 1513.67,1169.14 1516.11,1169.14 1518.54,1169.14 1520.97,1169.14 1523.4,1169.14 1525.83,1169.14 1528.27,1169.14 1530.7,1169.21 1533.13,1169.21 1535.56,1169.21 1538,1169.21 1540.43,1169.21 1542.86,1169.21 1545.29,1169.21 1547.73,1169.21 1550.16,1169.21 1552.59,1169.21 1555.02,1169.21 1557.45,1169.21 1559.89,1169.21 1562.32,1169.21 1564.75,1169.21 1567.18,1169.21 1569.62,1169.21 1572.05,1169.21 1574.48,1169.21 1576.91,1169.21 1579.35,1169.21 1581.78,1169.21 1584.21,1169.21 1586.64,1169.21 1589.08,1169.21 1591.51,1169.21 1593.94,1169.21 1596.37,1169.21 1598.8,1169.21 1601.24,1169.21 1603.67,1169.21 1606.1,1169.21 1608.53,1169.21 1610.97,1169.21 1613.4,1169.21 1615.83,1169.21 1618.26,1169.21 1620.7,1171.22 1623.13,1171.22 1625.56,1171.22 1627.99,1172.35 1630.43,1172.35 1632.86,1172.35 1635.29,1172.35 1637.72,1172.35 1640.15,1172.35 1642.59,1172.35 1645.02,1172.35 1647.45,1172.35 1649.88,1172.35 1652.32,1172.35 1654.75,1172.35 1657.18,1172.35 1659.61,1172.35 1662.05,1172.35 1664.48,1172.35 1666.91,1172.35 1669.34,1172.35 1671.77,1172.35 1674.21,1172.35 1676.64,1172.35 1679.07,1172.35 1681.5,1172.35 1683.94,1172.35 1686.37,1172.35 1688.8,1172.35 1691.23,1172.35 1693.67,1172.35 1696.1,1172.35 1698.53,1172.35 1700.96,1172.35 1703.4,1172.35 1705.83,1172.35 1708.26,1172.35 1710.69,1172.35 1713.12,1274.96 1715.56,1274.96 1717.99,1274.96 1720.42,1274.96 1722.85,1274.96 1725.29,1274.96 1727.72,1274.96 1730.15,1274.96 1732.58,1274.96 1735.02,1274.96 1737.45,1274.96 1739.88,1274.96 1742.31,1274.96 1744.74,1274.96 1747.18,1274.96 1749.61,1274.96 1752.04,1274.96 1754.47,1274.96 1756.91,1274.96 1759.34,1274.96 1761.77,1274.96 1764.2,1274.96 1766.64,1274.96 1769.07,1274.96 1771.5,1274.96 1773.93,1290.03 1776.37,1290.03 1778.8,1290.03 1781.23,1290.03 1783.66,1348.4 1786.09,1348.4 1788.53,1348.4 1790.96,1348.4 1793.39,1348.4 1795.82,1348.4 1798.26,1348.4 1800.69,1348.4 1803.12,1348.4 1805.55,1348.4 1807.99,1348.4 1810.42,1348.4 1812.85,1348.4 1815.28,1348.4 1817.71,1348.69 1820.15,1348.69 1822.58,1348.69 1825.01,1348.69 1827.44,1348.69 1829.88,1348.69 1832.31,1348.69 1834.74,1348.69 1837.17,1348.69 1839.61,1348.69 1842.04,1348.69 1844.47,1348.69 1846.9,1348.69 1849.34,1348.69 1851.77,1348.69 1854.2,1348.69 1856.63,1348.69 1859.06,1348.69 1861.5,1348.69 1863.93,1348.69 1866.36,1348.69 1868.79,1348.69 1871.23,1348.69 1873.66,1348.69 1876.09,1348.69 1878.52,1348.69 1880.96,1348.69 1883.39,1348.69 1885.82,1348.69 1888.25,1348.69 1890.69,1348.69 1893.12,1348.69 1895.55,1348.69 1897.98,1348.69 1900.41,1348.69 1902.85,1348.69 1905.28,1348.69 1907.71,1348.69 1910.14,1348.69 1912.58,1348.69 1915.01,1348.69 1917.44,1348.69 1919.87,1348.69 1922.31,1348.69 1924.74,1348.69 1927.17,1348.69 1929.6,1348.69 1932.03,1348.69 1934.47,1348.69 1936.9,1348.69 1939.33,1348.69 1941.76,1348.69 1944.2,1348.69 1946.63,1348.69 1949.06,1348.69 1951.49,1348.69 1953.93,1348.69 1956.36,1348.81 1958.79,1348.81 1961.22,1348.81 1963.66,1348.81 1966.09,1348.81 1968.52,1348.81 1970.95,1348.81 1973.38,1348.81 1975.82,1348.81 1978.25,1348.81 1980.68,1348.81 1983.11,1348.81 1985.55,1348.81 1987.98,1350.27 1990.41,1350.27 1992.84,1350.27 1995.28,1350.27 1997.71,1350.27 2000.14,1350.27 2002.57,1350.27 2005,1350.27 2007.44,1350.27 2009.87,1350.27 2012.3,1350.27 2014.73,1350.27 2017.17,1350.27 2019.6,1350.27 2022.03,1350.27 2024.46,1379.96 2026.9,1379.96 2029.33,1379.96 2031.76,1379.96 2034.19,1379.96 2036.63,1379.96 2039.06,1379.96 2041.49,1379.96 2043.92,1379.96 2046.35,1379.96 2048.79,1379.96 2051.22,1379.96 2053.65,1379.96 2056.08,1379.96 2058.52,1379.96 2060.95,1379.96 2063.38,1379.96 2065.81,1379.96 2068.25,1379.96 2070.68,1379.96 2073.11,1379.96 2075.54,1379.96 2077.97,1379.96 2080.41,1379.96 2082.84,1379.96 2085.27,1379.96 2087.7,1379.96 2090.14,1379.96 2092.57,1379.96 2095,1379.96 2097.43,1379.96 2099.87,1379.96 2102.3,1379.96 2104.73,1379.96 2107.16,1379.96 2109.6,1379.96 2112.03,1379.96 2114.46,1379.96 2116.89,1379.96 2119.32,1379.96 2121.76,1379.96 2124.19,1379.96 2126.62,1379.96 2129.05,1379.96 2131.49,1379.96 2133.92,1379.96 2136.35,1379.96 2138.78,1379.96 2141.22,1379.96 2143.65,1379.96 2146.08,1379.96 2148.51,1379.96 2150.94,1379.96 2153.38,1379.96 2155.81,1379.96 2158.24,1379.96 2160.67,1379.96 2163.11,1379.96 2165.54,1379.96 2167.97,1379.96 2170.4,1379.96 2172.84,1379.96 2175.27,1379.96 2177.7,1379.96 2180.13,1379.96 2182.57,1379.96 2185,1379.96 2187.43,1379.96 2189.86,1379.96 2192.29,1379.96 2194.73,1379.96 2197.16,1379.96 2199.59,1380.15 2202.02,1380.15 2204.46,1382.31 2206.89,1382.31 2209.32,1382.31 2211.75,1383.72 2214.19,1383.72 2216.62,1383.72 2219.05,1386.4 2221.48,1386.4 2223.92,1386.4 2226.35,1386.4 2228.78,1386.4 2231.21,1386.4 2233.64,1386.4 2236.08,1386.4 2238.51,1386.4 2240.94,1386.4 2243.37,1386.4 2245.81,1386.4 2248.24,1386.4 2250.67,1386.4 2253.1,1386.4 2255.54,1386.4 2257.97,1386.4 2260.4,1386.4 2262.83,1386.4 2265.26,1386.4 2267.7,1386.4 2270.13,1386.4 2272.56,1386.4 2274.99,1386.4 2277.43,1386.4 2279.86,1386.4 2282.29,1386.4 2284.72,1386.4 2287.16,1386.4 2289.59,1386.4 2292.02,1386.4 2294.45,1386.4 \"/>\n",
       "<path clip-path=\"url(#clip580)\" d=\"M2025.65 270.476 L2284.09 270.476 L2284.09 166.796 L2025.65 166.796  Z\" fill=\"#ffffff\" fill-rule=\"evenodd\" fill-opacity=\"1\"/>\n",
       "<polyline clip-path=\"url(#clip580)\" style=\"stroke:#000000; stroke-linecap:round; stroke-linejoin:round; stroke-width:4; stroke-opacity:1; fill:none\" points=\"2025.65,270.476 2284.09,270.476 2284.09,166.796 2025.65,166.796 2025.65,270.476 \"/>\n",
       "<polyline clip-path=\"url(#clip580)\" style=\"stroke:#009af9; stroke-linecap:round; stroke-linejoin:round; stroke-width:4; stroke-opacity:1; fill:none\" points=\"2048.54,218.636 2185.88,218.636 \"/>\n",
       "<path clip-path=\"url(#clip580)\" d=\"M2222.61 238.323 Q2220.81 242.953 2219.09 244.365 Q2217.38 245.777 2214.51 245.777 L2211.11 245.777 L2211.11 242.212 L2213.61 242.212 Q2215.37 242.212 2216.34 241.379 Q2217.31 240.545 2218.49 237.443 L2219.25 235.499 L2208.77 209.99 L2213.28 209.99 L2221.38 230.268 L2229.49 209.99 L2234 209.99 L2222.61 238.323 Z\" fill=\"#000000\" fill-rule=\"nonzero\" fill-opacity=\"1\" /><path clip-path=\"url(#clip580)\" d=\"M2241.29 231.981 L2248.93 231.981 L2248.93 205.615 L2240.62 207.282 L2240.62 203.022 L2248.88 201.356 L2253.56 201.356 L2253.56 231.981 L2261.2 231.981 L2261.2 235.916 L2241.29 235.916 L2241.29 231.981 Z\" fill=\"#000000\" fill-rule=\"nonzero\" fill-opacity=\"1\" /></svg>\n"
      ],
      "text/html": [
       "<?xml version=\"1.0\" encoding=\"utf-8\"?>\n",
       "<svg xmlns=\"http://www.w3.org/2000/svg\" xmlns:xlink=\"http://www.w3.org/1999/xlink\" width=\"600\" height=\"400\" viewBox=\"0 0 2400 1600\">\n",
       "<defs>\n",
       "  <clipPath id=\"clip630\">\n",
       "    <rect x=\"0\" y=\"0\" width=\"2400\" height=\"1600\"/>\n",
       "  </clipPath>\n",
       "</defs>\n",
       "<path clip-path=\"url(#clip630)\" d=\"M0 1600 L2400 1600 L2400 0 L0 0  Z\" fill=\"#ffffff\" fill-rule=\"evenodd\" fill-opacity=\"1\"/>\n",
       "<defs>\n",
       "  <clipPath id=\"clip631\">\n",
       "    <rect x=\"480\" y=\"0\" width=\"1681\" height=\"1600\"/>\n",
       "  </clipPath>\n",
       "</defs>\n",
       "<path clip-path=\"url(#clip630)\" d=\"M292.713 1423.18 L2352.76 1423.18 L2352.76 123.472 L292.713 123.472  Z\" fill=\"#ffffff\" fill-rule=\"evenodd\" fill-opacity=\"1\"/>\n",
       "<defs>\n",
       "  <clipPath id=\"clip632\">\n",
       "    <rect x=\"292\" y=\"123\" width=\"2061\" height=\"1301\"/>\n",
       "  </clipPath>\n",
       "</defs>\n",
       "<polyline clip-path=\"url(#clip632)\" style=\"stroke:#000000; stroke-linecap:round; stroke-linejoin:round; stroke-width:2; stroke-opacity:0.1; fill:none\" points=\"348.584,1423.18 348.584,123.472 \"/>\n",
       "<polyline clip-path=\"url(#clip632)\" style=\"stroke:#000000; stroke-linecap:round; stroke-linejoin:round; stroke-width:2; stroke-opacity:0.1; fill:none\" points=\"835.051,1423.18 835.051,123.472 \"/>\n",
       "<polyline clip-path=\"url(#clip632)\" style=\"stroke:#000000; stroke-linecap:round; stroke-linejoin:round; stroke-width:2; stroke-opacity:0.1; fill:none\" points=\"1321.52,1423.18 1321.52,123.472 \"/>\n",
       "<polyline clip-path=\"url(#clip632)\" style=\"stroke:#000000; stroke-linecap:round; stroke-linejoin:round; stroke-width:2; stroke-opacity:0.1; fill:none\" points=\"1807.99,1423.18 1807.99,123.472 \"/>\n",
       "<polyline clip-path=\"url(#clip632)\" style=\"stroke:#000000; stroke-linecap:round; stroke-linejoin:round; stroke-width:2; stroke-opacity:0.1; fill:none\" points=\"2294.45,1423.18 2294.45,123.472 \"/>\n",
       "<polyline clip-path=\"url(#clip630)\" style=\"stroke:#000000; stroke-linecap:round; stroke-linejoin:round; stroke-width:4; stroke-opacity:1; fill:none\" points=\"292.713,1423.18 2352.76,1423.18 \"/>\n",
       "<polyline clip-path=\"url(#clip630)\" style=\"stroke:#000000; stroke-linecap:round; stroke-linejoin:round; stroke-width:4; stroke-opacity:1; fill:none\" points=\"348.584,1423.18 348.584,1404.28 \"/>\n",
       "<polyline clip-path=\"url(#clip630)\" style=\"stroke:#000000; stroke-linecap:round; stroke-linejoin:round; stroke-width:4; stroke-opacity:1; fill:none\" points=\"835.051,1423.18 835.051,1404.28 \"/>\n",
       "<polyline clip-path=\"url(#clip630)\" style=\"stroke:#000000; stroke-linecap:round; stroke-linejoin:round; stroke-width:4; stroke-opacity:1; fill:none\" points=\"1321.52,1423.18 1321.52,1404.28 \"/>\n",
       "<polyline clip-path=\"url(#clip630)\" style=\"stroke:#000000; stroke-linecap:round; stroke-linejoin:round; stroke-width:4; stroke-opacity:1; fill:none\" points=\"1807.99,1423.18 1807.99,1404.28 \"/>\n",
       "<polyline clip-path=\"url(#clip630)\" style=\"stroke:#000000; stroke-linecap:round; stroke-linejoin:round; stroke-width:4; stroke-opacity:1; fill:none\" points=\"2294.45,1423.18 2294.45,1404.28 \"/>\n",
       "<path clip-path=\"url(#clip630)\" d=\"M348.584 1454.1 Q344.973 1454.1 343.144 1457.66 Q341.339 1461.2 341.339 1468.33 Q341.339 1475.44 343.144 1479.01 Q344.973 1482.55 348.584 1482.55 Q352.218 1482.55 354.024 1479.01 Q355.852 1475.44 355.852 1468.33 Q355.852 1461.2 354.024 1457.66 Q352.218 1454.1 348.584 1454.1 M348.584 1450.39 Q354.394 1450.39 357.45 1455 Q360.528 1459.58 360.528 1468.33 Q360.528 1477.06 357.45 1481.67 Q354.394 1486.25 348.584 1486.25 Q342.774 1486.25 339.695 1481.67 Q336.639 1477.06 336.639 1468.33 Q336.639 1459.58 339.695 1455 Q342.774 1450.39 348.584 1450.39 Z\" fill=\"#000000\" fill-rule=\"nonzero\" fill-opacity=\"1\" /><path clip-path=\"url(#clip630)\" d=\"M798.743 1481.64 L815.063 1481.64 L815.063 1485.58 L793.118 1485.58 L793.118 1481.64 Q795.78 1478.89 800.364 1474.26 Q804.97 1469.61 806.151 1468.27 Q808.396 1465.74 809.276 1464.01 Q810.179 1462.25 810.179 1460.56 Q810.179 1457.8 808.234 1456.07 Q806.313 1454.33 803.211 1454.33 Q801.012 1454.33 798.558 1455.09 Q796.128 1455.86 793.35 1457.41 L793.35 1452.69 Q796.174 1451.55 798.628 1450.97 Q801.081 1450.39 803.118 1450.39 Q808.489 1450.39 811.683 1453.08 Q814.878 1455.77 814.878 1460.26 Q814.878 1462.39 814.067 1464.31 Q813.28 1466.2 811.174 1468.8 Q810.595 1469.47 807.493 1472.69 Q804.392 1475.88 798.743 1481.64 Z\" fill=\"#000000\" fill-rule=\"nonzero\" fill-opacity=\"1\" /><path clip-path=\"url(#clip630)\" d=\"M834.877 1454.1 Q831.266 1454.1 829.438 1457.66 Q827.632 1461.2 827.632 1468.33 Q827.632 1475.44 829.438 1479.01 Q831.266 1482.55 834.877 1482.55 Q838.512 1482.55 840.317 1479.01 Q842.146 1475.44 842.146 1468.33 Q842.146 1461.2 840.317 1457.66 Q838.512 1454.1 834.877 1454.1 M834.877 1450.39 Q840.688 1450.39 843.743 1455 Q846.822 1459.58 846.822 1468.33 Q846.822 1477.06 843.743 1481.67 Q840.688 1486.25 834.877 1486.25 Q829.067 1486.25 825.989 1481.67 Q822.933 1477.06 822.933 1468.33 Q822.933 1459.58 825.989 1455 Q829.067 1450.39 834.877 1450.39 Z\" fill=\"#000000\" fill-rule=\"nonzero\" fill-opacity=\"1\" /><path clip-path=\"url(#clip630)\" d=\"M865.039 1454.1 Q861.428 1454.1 859.6 1457.66 Q857.794 1461.2 857.794 1468.33 Q857.794 1475.44 859.6 1479.01 Q861.428 1482.55 865.039 1482.55 Q868.674 1482.55 870.479 1479.01 Q872.308 1475.44 872.308 1468.33 Q872.308 1461.2 870.479 1457.66 Q868.674 1454.1 865.039 1454.1 M865.039 1450.39 Q870.85 1450.39 873.905 1455 Q876.984 1459.58 876.984 1468.33 Q876.984 1477.06 873.905 1481.67 Q870.85 1486.25 865.039 1486.25 Q859.229 1486.25 856.151 1481.67 Q853.095 1477.06 853.095 1468.33 Q853.095 1459.58 856.151 1455 Q859.229 1450.39 865.039 1450.39 Z\" fill=\"#000000\" fill-rule=\"nonzero\" fill-opacity=\"1\" /><path clip-path=\"url(#clip630)\" d=\"M1294.61 1455.09 L1282.8 1473.54 L1294.61 1473.54 L1294.61 1455.09 M1293.38 1451.02 L1299.26 1451.02 L1299.26 1473.54 L1304.19 1473.54 L1304.19 1477.43 L1299.26 1477.43 L1299.26 1485.58 L1294.61 1485.58 L1294.61 1477.43 L1279.01 1477.43 L1279.01 1472.92 L1293.38 1451.02 Z\" fill=\"#000000\" fill-rule=\"nonzero\" fill-opacity=\"1\" /><path clip-path=\"url(#clip630)\" d=\"M1321.92 1454.1 Q1318.31 1454.1 1316.48 1457.66 Q1314.68 1461.2 1314.68 1468.33 Q1314.68 1475.44 1316.48 1479.01 Q1318.31 1482.55 1321.92 1482.55 Q1325.56 1482.55 1327.36 1479.01 Q1329.19 1475.44 1329.19 1468.33 Q1329.19 1461.2 1327.36 1457.66 Q1325.56 1454.1 1321.92 1454.1 M1321.92 1450.39 Q1327.73 1450.39 1330.79 1455 Q1333.87 1459.58 1333.87 1468.33 Q1333.87 1477.06 1330.79 1481.67 Q1327.73 1486.25 1321.92 1486.25 Q1316.11 1486.25 1313.03 1481.67 Q1309.98 1477.06 1309.98 1468.33 Q1309.98 1459.58 1313.03 1455 Q1316.11 1450.39 1321.92 1450.39 Z\" fill=\"#000000\" fill-rule=\"nonzero\" fill-opacity=\"1\" /><path clip-path=\"url(#clip630)\" d=\"M1352.09 1454.1 Q1348.47 1454.1 1346.65 1457.66 Q1344.84 1461.2 1344.84 1468.33 Q1344.84 1475.44 1346.65 1479.01 Q1348.47 1482.55 1352.09 1482.55 Q1355.72 1482.55 1357.53 1479.01 Q1359.35 1475.44 1359.35 1468.33 Q1359.35 1461.2 1357.53 1457.66 Q1355.72 1454.1 1352.09 1454.1 M1352.09 1450.39 Q1357.9 1450.39 1360.95 1455 Q1364.03 1459.58 1364.03 1468.33 Q1364.03 1477.06 1360.95 1481.67 Q1357.9 1486.25 1352.09 1486.25 Q1346.28 1486.25 1343.2 1481.67 Q1340.14 1477.06 1340.14 1468.33 Q1340.14 1459.58 1343.2 1455 Q1346.28 1450.39 1352.09 1450.39 Z\" fill=\"#000000\" fill-rule=\"nonzero\" fill-opacity=\"1\" /><path clip-path=\"url(#clip630)\" d=\"M1778.31 1466.44 Q1775.16 1466.44 1773.31 1468.59 Q1771.48 1470.74 1771.48 1474.49 Q1771.48 1478.22 1773.31 1480.39 Q1775.16 1482.55 1778.31 1482.55 Q1781.46 1482.55 1783.29 1480.39 Q1785.14 1478.22 1785.14 1474.49 Q1785.14 1470.74 1783.29 1468.59 Q1781.46 1466.44 1778.31 1466.44 M1787.59 1451.78 L1787.59 1456.04 Q1785.83 1455.21 1784.03 1454.77 Q1782.24 1454.33 1780.49 1454.33 Q1775.86 1454.33 1773.4 1457.45 Q1770.97 1460.58 1770.62 1466.9 Q1771.99 1464.89 1774.05 1463.82 Q1776.11 1462.73 1778.59 1462.73 Q1783.8 1462.73 1786.81 1465.9 Q1789.84 1469.05 1789.84 1474.49 Q1789.84 1479.82 1786.69 1483.03 Q1783.54 1486.25 1778.31 1486.25 Q1772.31 1486.25 1769.14 1481.67 Q1765.97 1477.06 1765.97 1468.33 Q1765.97 1460.14 1769.86 1455.28 Q1773.75 1450.39 1780.3 1450.39 Q1782.06 1450.39 1783.84 1450.74 Q1785.65 1451.09 1787.59 1451.78 Z\" fill=\"#000000\" fill-rule=\"nonzero\" fill-opacity=\"1\" /><path clip-path=\"url(#clip630)\" d=\"M1807.89 1454.1 Q1804.28 1454.1 1802.45 1457.66 Q1800.65 1461.2 1800.65 1468.33 Q1800.65 1475.44 1802.45 1479.01 Q1804.28 1482.55 1807.89 1482.55 Q1811.53 1482.55 1813.33 1479.01 Q1815.16 1475.44 1815.16 1468.33 Q1815.16 1461.2 1813.33 1457.66 Q1811.53 1454.1 1807.89 1454.1 M1807.89 1450.39 Q1813.7 1450.39 1816.76 1455 Q1819.84 1459.58 1819.84 1468.33 Q1819.84 1477.06 1816.76 1481.67 Q1813.7 1486.25 1807.89 1486.25 Q1802.08 1486.25 1799 1481.67 Q1795.95 1477.06 1795.95 1468.33 Q1795.95 1459.58 1799 1455 Q1802.08 1450.39 1807.89 1450.39 Z\" fill=\"#000000\" fill-rule=\"nonzero\" fill-opacity=\"1\" /><path clip-path=\"url(#clip630)\" d=\"M1838.05 1454.1 Q1834.44 1454.1 1832.62 1457.66 Q1830.81 1461.2 1830.81 1468.33 Q1830.81 1475.44 1832.62 1479.01 Q1834.44 1482.55 1838.05 1482.55 Q1841.69 1482.55 1843.49 1479.01 Q1845.32 1475.44 1845.32 1468.33 Q1845.32 1461.2 1843.49 1457.66 Q1841.69 1454.1 1838.05 1454.1 M1838.05 1450.39 Q1843.87 1450.39 1846.92 1455 Q1850 1459.58 1850 1468.33 Q1850 1477.06 1846.92 1481.67 Q1843.87 1486.25 1838.05 1486.25 Q1832.24 1486.25 1829.17 1481.67 Q1826.11 1477.06 1826.11 1468.33 Q1826.11 1459.58 1829.17 1455 Q1832.24 1450.39 1838.05 1450.39 Z\" fill=\"#000000\" fill-rule=\"nonzero\" fill-opacity=\"1\" /><path clip-path=\"url(#clip630)\" d=\"M2264.24 1469.17 Q2260.91 1469.17 2258.99 1470.95 Q2257.09 1472.73 2257.09 1475.86 Q2257.09 1478.98 2258.99 1480.77 Q2260.91 1482.55 2264.24 1482.55 Q2267.58 1482.55 2269.5 1480.77 Q2271.42 1478.96 2271.42 1475.86 Q2271.42 1472.73 2269.5 1470.95 Q2267.6 1469.17 2264.24 1469.17 M2259.57 1467.18 Q2256.56 1466.44 2254.87 1464.38 Q2253.2 1462.32 2253.2 1459.35 Q2253.2 1455.21 2256.14 1452.8 Q2259.11 1450.39 2264.24 1450.39 Q2269.41 1450.39 2272.35 1452.8 Q2275.29 1455.21 2275.29 1459.35 Q2275.29 1462.32 2273.6 1464.38 Q2271.93 1466.44 2268.94 1467.18 Q2272.32 1467.96 2274.2 1470.26 Q2276.1 1472.55 2276.1 1475.86 Q2276.1 1480.88 2273.02 1483.57 Q2269.96 1486.25 2264.24 1486.25 Q2258.53 1486.25 2255.45 1483.57 Q2252.39 1480.88 2252.39 1475.86 Q2252.39 1472.55 2254.29 1470.26 Q2256.19 1467.96 2259.57 1467.18 M2257.86 1459.79 Q2257.86 1462.48 2259.52 1463.98 Q2261.21 1465.49 2264.24 1465.49 Q2267.25 1465.49 2268.94 1463.98 Q2270.66 1462.48 2270.66 1459.79 Q2270.66 1457.11 2268.94 1455.6 Q2267.25 1454.1 2264.24 1454.1 Q2261.21 1454.1 2259.52 1455.6 Q2257.86 1457.11 2257.86 1459.79 Z\" fill=\"#000000\" fill-rule=\"nonzero\" fill-opacity=\"1\" /><path clip-path=\"url(#clip630)\" d=\"M2294.41 1454.1 Q2290.8 1454.1 2288.97 1457.66 Q2287.16 1461.2 2287.16 1468.33 Q2287.16 1475.44 2288.97 1479.01 Q2290.8 1482.55 2294.41 1482.55 Q2298.04 1482.55 2299.85 1479.01 Q2301.67 1475.44 2301.67 1468.33 Q2301.67 1461.2 2299.85 1457.66 Q2298.04 1454.1 2294.41 1454.1 M2294.41 1450.39 Q2300.22 1450.39 2303.27 1455 Q2306.35 1459.58 2306.35 1468.33 Q2306.35 1477.06 2303.27 1481.67 Q2300.22 1486.25 2294.41 1486.25 Q2288.6 1486.25 2285.52 1481.67 Q2282.46 1477.06 2282.46 1468.33 Q2282.46 1459.58 2285.52 1455 Q2288.6 1450.39 2294.41 1450.39 Z\" fill=\"#000000\" fill-rule=\"nonzero\" fill-opacity=\"1\" /><path clip-path=\"url(#clip630)\" d=\"M2324.57 1454.1 Q2320.96 1454.1 2319.13 1457.66 Q2317.32 1461.2 2317.32 1468.33 Q2317.32 1475.44 2319.13 1479.01 Q2320.96 1482.55 2324.57 1482.55 Q2328.2 1482.55 2330.01 1479.01 Q2331.84 1475.44 2331.84 1468.33 Q2331.84 1461.2 2330.01 1457.66 Q2328.2 1454.1 2324.57 1454.1 M2324.57 1450.39 Q2330.38 1450.39 2333.43 1455 Q2336.51 1459.58 2336.51 1468.33 Q2336.51 1477.06 2333.43 1481.67 Q2330.38 1486.25 2324.57 1486.25 Q2318.76 1486.25 2315.68 1481.67 Q2312.62 1477.06 2312.62 1468.33 Q2312.62 1459.58 2315.68 1455 Q2318.76 1450.39 2324.57 1450.39 Z\" fill=\"#000000\" fill-rule=\"nonzero\" fill-opacity=\"1\" /><path clip-path=\"url(#clip630)\" d=\"M1172.3 1520.52 L1178.73 1520.52 L1178.73 1568.04 L1172.3 1568.04 L1172.3 1520.52 Z\" fill=\"#000000\" fill-rule=\"nonzero\" fill-opacity=\"1\" /><path clip-path=\"url(#clip630)\" d=\"M1197.06 1522.27 L1197.06 1532.4 L1209.12 1532.4 L1209.12 1536.95 L1197.06 1536.95 L1197.06 1556.3 Q1197.06 1560.66 1198.24 1561.9 Q1199.45 1563.14 1203.11 1563.14 L1209.12 1563.14 L1209.12 1568.04 L1203.11 1568.04 Q1196.33 1568.04 1193.75 1565.53 Q1191.17 1562.98 1191.17 1556.3 L1191.17 1536.95 L1186.87 1536.95 L1186.87 1532.4 L1191.17 1532.4 L1191.17 1522.27 L1197.06 1522.27 Z\" fill=\"#000000\" fill-rule=\"nonzero\" fill-opacity=\"1\" /><path clip-path=\"url(#clip630)\" d=\"M1247.32 1548.76 L1247.32 1551.62 L1220.39 1551.62 Q1220.77 1557.67 1224.02 1560.85 Q1227.3 1564 1233.12 1564 Q1236.5 1564 1239.65 1563.17 Q1242.83 1562.35 1245.95 1560.69 L1245.95 1566.23 Q1242.8 1567.57 1239.49 1568.27 Q1236.18 1568.97 1232.77 1568.97 Q1224.24 1568.97 1219.24 1564 Q1214.28 1559.04 1214.28 1550.57 Q1214.28 1541.82 1218.99 1536.69 Q1223.73 1531.54 1231.75 1531.54 Q1238.95 1531.54 1243.12 1536.18 Q1247.32 1540.8 1247.32 1548.76 M1241.46 1547.04 Q1241.4 1542.23 1238.75 1539.37 Q1236.14 1536.5 1231.82 1536.5 Q1226.91 1536.5 1223.95 1539.27 Q1221.03 1542.04 1220.58 1547.07 L1241.46 1547.04 M1235.83 1515.91 L1242.16 1515.91 L1231.78 1527.88 L1226.91 1527.88 L1235.83 1515.91 Z\" fill=\"#000000\" fill-rule=\"nonzero\" fill-opacity=\"1\" /><path clip-path=\"url(#clip630)\" d=\"M1277.59 1537.87 Q1276.6 1537.3 1275.42 1537.04 Q1274.28 1536.76 1272.88 1536.76 Q1267.91 1536.76 1265.24 1540 Q1262.59 1543.22 1262.59 1549.27 L1262.59 1568.04 L1256.71 1568.04 L1256.71 1532.4 L1262.59 1532.4 L1262.59 1537.93 Q1264.44 1534.69 1267.4 1533.13 Q1270.36 1531.54 1274.59 1531.54 Q1275.2 1531.54 1275.93 1531.63 Q1276.66 1531.7 1277.55 1531.85 L1277.59 1537.87 Z\" fill=\"#000000\" fill-rule=\"nonzero\" fill-opacity=\"1\" /><path clip-path=\"url(#clip630)\" d=\"M1299.93 1550.12 Q1292.83 1550.12 1290.09 1551.75 Q1287.36 1553.37 1287.36 1557.29 Q1287.36 1560.4 1289.39 1562.25 Q1291.46 1564.07 1295 1564.07 Q1299.87 1564.07 1302.79 1560.63 Q1305.75 1557.16 1305.75 1551.43 L1305.75 1550.12 L1299.93 1550.12 M1311.61 1547.71 L1311.61 1568.04 L1305.75 1568.04 L1305.75 1562.63 Q1303.75 1565.88 1300.76 1567.44 Q1297.77 1568.97 1293.44 1568.97 Q1287.96 1568.97 1284.72 1565.91 Q1281.5 1562.82 1281.5 1557.67 Q1281.5 1551.65 1285.51 1548.6 Q1289.55 1545.54 1297.54 1545.54 L1305.75 1545.54 L1305.75 1544.97 Q1305.75 1540.93 1303.08 1538.73 Q1300.44 1536.5 1295.63 1536.5 Q1292.58 1536.5 1289.68 1537.23 Q1286.78 1537.97 1284.11 1539.43 L1284.11 1534.02 Q1287.33 1532.78 1290.35 1532.17 Q1293.37 1531.54 1296.24 1531.54 Q1303.97 1531.54 1307.79 1535.55 Q1311.61 1539.56 1311.61 1547.71 Z\" fill=\"#000000\" fill-rule=\"nonzero\" fill-opacity=\"1\" /><path clip-path=\"url(#clip630)\" d=\"M1329.47 1522.27 L1329.47 1532.4 L1341.53 1532.4 L1341.53 1536.95 L1329.47 1536.95 L1329.47 1556.3 Q1329.47 1560.66 1330.64 1561.9 Q1331.85 1563.14 1335.51 1563.14 L1341.53 1563.14 L1341.53 1568.04 L1335.51 1568.04 Q1328.73 1568.04 1326.16 1565.53 Q1323.58 1562.98 1323.58 1556.3 L1323.58 1536.95 L1319.28 1536.95 L1319.28 1532.4 L1323.58 1532.4 L1323.58 1522.27 L1329.47 1522.27 Z\" fill=\"#000000\" fill-rule=\"nonzero\" fill-opacity=\"1\" /><path clip-path=\"url(#clip630)\" d=\"M1349.23 1532.4 L1355.09 1532.4 L1355.09 1568.04 L1349.23 1568.04 L1349.23 1532.4 M1349.23 1518.52 L1355.09 1518.52 L1355.09 1525.93 L1349.23 1525.93 L1349.23 1518.52 Z\" fill=\"#000000\" fill-rule=\"nonzero\" fill-opacity=\"1\" /><path clip-path=\"url(#clip630)\" d=\"M1381.16 1536.5 Q1376.45 1536.5 1373.71 1540.19 Q1370.97 1543.85 1370.97 1550.25 Q1370.97 1556.65 1373.68 1560.34 Q1376.41 1564 1381.16 1564 Q1385.83 1564 1388.57 1560.31 Q1391.31 1556.62 1391.31 1550.25 Q1391.31 1543.92 1388.57 1540.23 Q1385.83 1536.5 1381.16 1536.5 M1381.16 1531.54 Q1388.79 1531.54 1393.16 1536.5 Q1397.52 1541.47 1397.52 1550.25 Q1397.52 1559 1393.16 1564 Q1388.79 1568.97 1381.16 1568.97 Q1373.49 1568.97 1369.12 1564 Q1364.8 1559 1364.8 1550.25 Q1364.8 1541.47 1369.12 1536.5 Q1373.49 1531.54 1381.16 1531.54 Z\" fill=\"#000000\" fill-rule=\"nonzero\" fill-opacity=\"1\" /><path clip-path=\"url(#clip630)\" d=\"M1436.86 1546.53 L1436.86 1568.04 L1431 1568.04 L1431 1546.72 Q1431 1541.66 1429.03 1539.14 Q1427.05 1536.63 1423.11 1536.63 Q1418.36 1536.63 1415.63 1539.65 Q1412.89 1542.68 1412.89 1547.9 L1412.89 1568.04 L1407 1568.04 L1407 1532.4 L1412.89 1532.4 L1412.89 1537.93 Q1414.99 1534.72 1417.82 1533.13 Q1420.69 1531.54 1424.41 1531.54 Q1430.55 1531.54 1433.7 1535.36 Q1436.86 1539.14 1436.86 1546.53 Z\" fill=\"#000000\" fill-rule=\"nonzero\" fill-opacity=\"1\" /><path clip-path=\"url(#clip630)\" d=\"M1471.26 1533.45 L1471.26 1538.98 Q1468.78 1537.71 1466.11 1537.07 Q1463.43 1536.44 1460.57 1536.44 Q1456.21 1536.44 1454.01 1537.77 Q1451.85 1539.11 1451.85 1541.79 Q1451.85 1543.82 1453.41 1545 Q1454.97 1546.15 1459.68 1547.2 L1461.68 1547.64 Q1467.92 1548.98 1470.53 1551.43 Q1473.17 1553.85 1473.17 1558.21 Q1473.17 1563.17 1469.23 1566.07 Q1465.31 1568.97 1458.44 1568.97 Q1455.57 1568.97 1452.45 1568.39 Q1449.36 1567.85 1445.93 1566.74 L1445.93 1560.69 Q1449.17 1562.38 1452.32 1563.24 Q1455.48 1564.07 1458.56 1564.07 Q1462.7 1564.07 1464.93 1562.66 Q1467.16 1561.23 1467.16 1558.65 Q1467.16 1556.27 1465.53 1554.99 Q1463.94 1553.72 1458.5 1552.54 L1456.46 1552.07 Q1451.02 1550.92 1448.6 1548.56 Q1446.18 1546.18 1446.18 1542.04 Q1446.18 1537.01 1449.75 1534.27 Q1453.31 1531.54 1459.87 1531.54 Q1463.11 1531.54 1465.98 1532.01 Q1468.84 1532.49 1471.26 1533.45 Z\" fill=\"#000000\" fill-rule=\"nonzero\" fill-opacity=\"1\" /><polyline clip-path=\"url(#clip632)\" style=\"stroke:#000000; stroke-linecap:round; stroke-linejoin:round; stroke-width:2; stroke-opacity:0.1; fill:none\" points=\"292.713,1410.73 2352.76,1410.73 \"/>\n",
       "<polyline clip-path=\"url(#clip632)\" style=\"stroke:#000000; stroke-linecap:round; stroke-linejoin:round; stroke-width:2; stroke-opacity:0.1; fill:none\" points=\"292.713,1045.97 2352.76,1045.97 \"/>\n",
       "<polyline clip-path=\"url(#clip632)\" style=\"stroke:#000000; stroke-linecap:round; stroke-linejoin:round; stroke-width:2; stroke-opacity:0.1; fill:none\" points=\"292.713,681.209 2352.76,681.209 \"/>\n",
       "<polyline clip-path=\"url(#clip632)\" style=\"stroke:#000000; stroke-linecap:round; stroke-linejoin:round; stroke-width:2; stroke-opacity:0.1; fill:none\" points=\"292.713,316.449 2352.76,316.449 \"/>\n",
       "<polyline clip-path=\"url(#clip630)\" style=\"stroke:#000000; stroke-linecap:round; stroke-linejoin:round; stroke-width:4; stroke-opacity:1; fill:none\" points=\"292.713,1423.18 292.713,123.472 \"/>\n",
       "<polyline clip-path=\"url(#clip630)\" style=\"stroke:#000000; stroke-linecap:round; stroke-linejoin:round; stroke-width:4; stroke-opacity:1; fill:none\" points=\"292.713,1410.73 311.611,1410.73 \"/>\n",
       "<polyline clip-path=\"url(#clip630)\" style=\"stroke:#000000; stroke-linecap:round; stroke-linejoin:round; stroke-width:4; stroke-opacity:1; fill:none\" points=\"292.713,1045.97 311.611,1045.97 \"/>\n",
       "<polyline clip-path=\"url(#clip630)\" style=\"stroke:#000000; stroke-linecap:round; stroke-linejoin:round; stroke-width:4; stroke-opacity:1; fill:none\" points=\"292.713,681.209 311.611,681.209 \"/>\n",
       "<polyline clip-path=\"url(#clip630)\" style=\"stroke:#000000; stroke-linecap:round; stroke-linejoin:round; stroke-width:4; stroke-opacity:1; fill:none\" points=\"292.713,316.449 311.611,316.449 \"/>\n",
       "<path clip-path=\"url(#clip630)\" d=\"M143.103 1393.45 L165.325 1393.45 L165.325 1395.44 L152.778 1428.01 L147.894 1428.01 L159.7 1397.39 L143.103 1397.39 L143.103 1393.45 Z\" fill=\"#000000\" fill-rule=\"nonzero\" fill-opacity=\"1\" /><path clip-path=\"url(#clip630)\" d=\"M174.491 1393.45 L192.848 1393.45 L192.848 1397.39 L178.774 1397.39 L178.774 1405.86 Q179.792 1405.51 180.811 1405.35 Q181.829 1405.16 182.848 1405.16 Q188.635 1405.16 192.014 1408.33 Q195.394 1411.51 195.394 1416.92 Q195.394 1422.5 191.922 1425.6 Q188.45 1428.68 182.13 1428.68 Q179.954 1428.68 177.686 1428.31 Q175.44 1427.94 173.033 1427.2 L173.033 1422.5 Q175.116 1423.63 177.339 1424.19 Q179.561 1424.75 182.038 1424.75 Q186.042 1424.75 188.38 1422.64 Q190.718 1420.53 190.718 1416.92 Q190.718 1413.31 188.38 1411.2 Q186.042 1409.1 182.038 1409.1 Q180.163 1409.1 178.288 1409.51 Q176.436 1409.93 174.491 1410.81 L174.491 1393.45 Z\" fill=\"#000000\" fill-rule=\"nonzero\" fill-opacity=\"1\" /><path clip-path=\"url(#clip630)\" d=\"M214.607 1396.53 Q210.996 1396.53 209.167 1400.09 Q207.362 1403.64 207.362 1410.76 Q207.362 1417.87 209.167 1421.44 Q210.996 1424.98 214.607 1424.98 Q218.241 1424.98 220.047 1421.44 Q221.875 1417.87 221.875 1410.76 Q221.875 1403.64 220.047 1400.09 Q218.241 1396.53 214.607 1396.53 M214.607 1392.82 Q220.417 1392.82 223.473 1397.43 Q226.551 1402.01 226.551 1410.76 Q226.551 1419.49 223.473 1424.1 Q220.417 1428.68 214.607 1428.68 Q208.797 1428.68 205.718 1424.1 Q202.662 1419.49 202.662 1410.76 Q202.662 1402.01 205.718 1397.43 Q208.797 1392.82 214.607 1392.82 Z\" fill=\"#000000\" fill-rule=\"nonzero\" fill-opacity=\"1\" /><path clip-path=\"url(#clip630)\" d=\"M244.769 1396.53 Q241.158 1396.53 239.329 1400.09 Q237.523 1403.64 237.523 1410.76 Q237.523 1417.87 239.329 1421.44 Q241.158 1424.98 244.769 1424.98 Q248.403 1424.98 250.209 1421.44 Q252.037 1417.87 252.037 1410.76 Q252.037 1403.64 250.209 1400.09 Q248.403 1396.53 244.769 1396.53 M244.769 1392.82 Q250.579 1392.82 253.634 1397.43 Q256.713 1402.01 256.713 1410.76 Q256.713 1419.49 253.634 1424.1 Q250.579 1428.68 244.769 1428.68 Q238.959 1428.68 235.88 1424.1 Q232.824 1419.49 232.824 1410.76 Q232.824 1402.01 235.88 1397.43 Q238.959 1392.82 244.769 1392.82 Z\" fill=\"#000000\" fill-rule=\"nonzero\" fill-opacity=\"1\" /><path clip-path=\"url(#clip630)\" d=\"M114.931 1059.31 L122.57 1059.31 L122.57 1032.95 L114.26 1034.62 L114.26 1030.36 L122.524 1028.69 L127.2 1028.69 L127.2 1059.31 L134.839 1059.31 L134.839 1063.25 L114.931 1063.25 L114.931 1059.31 Z\" fill=\"#000000\" fill-rule=\"nonzero\" fill-opacity=\"1\" /><path clip-path=\"url(#clip630)\" d=\"M154.283 1031.77 Q150.672 1031.77 148.843 1035.33 Q147.038 1038.87 147.038 1046 Q147.038 1053.11 148.843 1056.68 Q150.672 1060.22 154.283 1060.22 Q157.917 1060.22 159.723 1056.68 Q161.552 1053.11 161.552 1046 Q161.552 1038.87 159.723 1035.33 Q157.917 1031.77 154.283 1031.77 M154.283 1028.06 Q160.093 1028.06 163.149 1032.67 Q166.227 1037.25 166.227 1046 Q166.227 1054.73 163.149 1059.34 Q160.093 1063.92 154.283 1063.92 Q148.473 1063.92 145.394 1059.34 Q142.339 1054.73 142.339 1046 Q142.339 1037.25 145.394 1032.67 Q148.473 1028.06 154.283 1028.06 Z\" fill=\"#000000\" fill-rule=\"nonzero\" fill-opacity=\"1\" /><path clip-path=\"url(#clip630)\" d=\"M184.445 1031.77 Q180.834 1031.77 179.005 1035.33 Q177.2 1038.87 177.2 1046 Q177.2 1053.11 179.005 1056.68 Q180.834 1060.22 184.445 1060.22 Q188.079 1060.22 189.885 1056.68 Q191.713 1053.11 191.713 1046 Q191.713 1038.87 189.885 1035.33 Q188.079 1031.77 184.445 1031.77 M184.445 1028.06 Q190.255 1028.06 193.311 1032.67 Q196.389 1037.25 196.389 1046 Q196.389 1054.73 193.311 1059.34 Q190.255 1063.92 184.445 1063.92 Q178.635 1063.92 175.556 1059.34 Q172.501 1054.73 172.501 1046 Q172.501 1037.25 175.556 1032.67 Q178.635 1028.06 184.445 1028.06 Z\" fill=\"#000000\" fill-rule=\"nonzero\" fill-opacity=\"1\" /><path clip-path=\"url(#clip630)\" d=\"M214.607 1031.77 Q210.996 1031.77 209.167 1035.33 Q207.362 1038.87 207.362 1046 Q207.362 1053.11 209.167 1056.68 Q210.996 1060.22 214.607 1060.22 Q218.241 1060.22 220.047 1056.68 Q221.875 1053.11 221.875 1046 Q221.875 1038.87 220.047 1035.33 Q218.241 1031.77 214.607 1031.77 M214.607 1028.06 Q220.417 1028.06 223.473 1032.67 Q226.551 1037.25 226.551 1046 Q226.551 1054.73 223.473 1059.34 Q220.417 1063.92 214.607 1063.92 Q208.797 1063.92 205.718 1059.34 Q202.662 1054.73 202.662 1046 Q202.662 1037.25 205.718 1032.67 Q208.797 1028.06 214.607 1028.06 Z\" fill=\"#000000\" fill-rule=\"nonzero\" fill-opacity=\"1\" /><path clip-path=\"url(#clip630)\" d=\"M244.769 1031.77 Q241.158 1031.77 239.329 1035.33 Q237.523 1038.87 237.523 1046 Q237.523 1053.11 239.329 1056.68 Q241.158 1060.22 244.769 1060.22 Q248.403 1060.22 250.209 1056.68 Q252.037 1053.11 252.037 1046 Q252.037 1038.87 250.209 1035.33 Q248.403 1031.77 244.769 1031.77 M244.769 1028.06 Q250.579 1028.06 253.634 1032.67 Q256.713 1037.25 256.713 1046 Q256.713 1054.73 253.634 1059.34 Q250.579 1063.92 244.769 1063.92 Q238.959 1063.92 235.88 1059.34 Q232.824 1054.73 232.824 1046 Q232.824 1037.25 235.88 1032.67 Q238.959 1028.06 244.769 1028.06 Z\" fill=\"#000000\" fill-rule=\"nonzero\" fill-opacity=\"1\" /><path clip-path=\"url(#clip630)\" d=\"M114.931 694.554 L122.57 694.554 L122.57 668.188 L114.26 669.855 L114.26 665.596 L122.524 663.929 L127.2 663.929 L127.2 694.554 L134.839 694.554 L134.839 698.489 L114.931 698.489 L114.931 694.554 Z\" fill=\"#000000\" fill-rule=\"nonzero\" fill-opacity=\"1\" /><path clip-path=\"url(#clip630)\" d=\"M148.311 694.554 L164.63 694.554 L164.63 698.489 L142.686 698.489 L142.686 694.554 Q145.348 691.799 149.931 687.17 Q154.538 682.517 155.718 681.174 Q157.964 678.651 158.843 676.915 Q159.746 675.156 159.746 673.466 Q159.746 670.711 157.802 668.975 Q155.88 667.239 152.778 667.239 Q150.579 667.239 148.126 668.003 Q145.695 668.767 142.917 670.318 L142.917 665.596 Q145.741 664.461 148.195 663.883 Q150.649 663.304 152.686 663.304 Q158.056 663.304 161.251 665.989 Q164.445 668.674 164.445 673.165 Q164.445 675.295 163.635 677.216 Q162.848 679.114 160.741 681.707 Q160.163 682.378 157.061 685.596 Q153.959 688.79 148.311 694.554 Z\" fill=\"#000000\" fill-rule=\"nonzero\" fill-opacity=\"1\" /><path clip-path=\"url(#clip630)\" d=\"M174.491 663.929 L192.848 663.929 L192.848 667.864 L178.774 667.864 L178.774 676.336 Q179.792 675.989 180.811 675.827 Q181.829 675.642 182.848 675.642 Q188.635 675.642 192.014 678.813 Q195.394 681.985 195.394 687.401 Q195.394 692.98 191.922 696.082 Q188.45 699.16 182.13 699.16 Q179.954 699.16 177.686 698.79 Q175.44 698.42 173.033 697.679 L173.033 692.98 Q175.116 694.114 177.339 694.67 Q179.561 695.225 182.038 695.225 Q186.042 695.225 188.38 693.119 Q190.718 691.012 190.718 687.401 Q190.718 683.79 188.38 681.684 Q186.042 679.577 182.038 679.577 Q180.163 679.577 178.288 679.994 Q176.436 680.41 174.491 681.29 L174.491 663.929 Z\" fill=\"#000000\" fill-rule=\"nonzero\" fill-opacity=\"1\" /><path clip-path=\"url(#clip630)\" d=\"M214.607 667.008 Q210.996 667.008 209.167 670.573 Q207.362 674.114 207.362 681.244 Q207.362 688.35 209.167 691.915 Q210.996 695.457 214.607 695.457 Q218.241 695.457 220.047 691.915 Q221.875 688.35 221.875 681.244 Q221.875 674.114 220.047 670.573 Q218.241 667.008 214.607 667.008 M214.607 663.304 Q220.417 663.304 223.473 667.911 Q226.551 672.494 226.551 681.244 Q226.551 689.971 223.473 694.577 Q220.417 699.16 214.607 699.16 Q208.797 699.16 205.718 694.577 Q202.662 689.971 202.662 681.244 Q202.662 672.494 205.718 667.911 Q208.797 663.304 214.607 663.304 Z\" fill=\"#000000\" fill-rule=\"nonzero\" fill-opacity=\"1\" /><path clip-path=\"url(#clip630)\" d=\"M244.769 667.008 Q241.158 667.008 239.329 670.573 Q237.523 674.114 237.523 681.244 Q237.523 688.35 239.329 691.915 Q241.158 695.457 244.769 695.457 Q248.403 695.457 250.209 691.915 Q252.037 688.35 252.037 681.244 Q252.037 674.114 250.209 670.573 Q248.403 667.008 244.769 667.008 M244.769 663.304 Q250.579 663.304 253.634 667.911 Q256.713 672.494 256.713 681.244 Q256.713 689.971 253.634 694.577 Q250.579 699.16 244.769 699.16 Q238.959 699.16 235.88 694.577 Q232.824 689.971 232.824 681.244 Q232.824 672.494 235.88 667.911 Q238.959 663.304 244.769 663.304 Z\" fill=\"#000000\" fill-rule=\"nonzero\" fill-opacity=\"1\" /><path clip-path=\"url(#clip630)\" d=\"M114.931 329.793 L122.57 329.793 L122.57 303.428 L114.26 305.095 L114.26 300.835 L122.524 299.169 L127.2 299.169 L127.2 329.793 L134.839 329.793 L134.839 333.729 L114.931 333.729 L114.931 329.793 Z\" fill=\"#000000\" fill-rule=\"nonzero\" fill-opacity=\"1\" /><path clip-path=\"url(#clip630)\" d=\"M144.329 299.169 L162.686 299.169 L162.686 303.104 L148.612 303.104 L148.612 311.576 Q149.63 311.229 150.649 311.067 Q151.667 310.882 152.686 310.882 Q158.473 310.882 161.852 314.053 Q165.232 317.224 165.232 322.641 Q165.232 328.219 161.76 331.321 Q158.288 334.4 151.968 334.4 Q149.792 334.4 147.524 334.03 Q145.279 333.659 142.871 332.918 L142.871 328.219 Q144.954 329.354 147.177 329.909 Q149.399 330.465 151.876 330.465 Q155.88 330.465 158.218 328.358 Q160.556 326.252 160.556 322.641 Q160.556 319.03 158.218 316.923 Q155.88 314.817 151.876 314.817 Q150.001 314.817 148.126 315.233 Q146.274 315.65 144.329 316.53 L144.329 299.169 Z\" fill=\"#000000\" fill-rule=\"nonzero\" fill-opacity=\"1\" /><path clip-path=\"url(#clip630)\" d=\"M184.445 302.247 Q180.834 302.247 179.005 305.812 Q177.2 309.354 177.2 316.483 Q177.2 323.59 179.005 327.155 Q180.834 330.696 184.445 330.696 Q188.079 330.696 189.885 327.155 Q191.713 323.59 191.713 316.483 Q191.713 309.354 189.885 305.812 Q188.079 302.247 184.445 302.247 M184.445 298.544 Q190.255 298.544 193.311 303.15 Q196.389 307.733 196.389 316.483 Q196.389 325.21 193.311 329.817 Q190.255 334.4 184.445 334.4 Q178.635 334.4 175.556 329.817 Q172.501 325.21 172.501 316.483 Q172.501 307.733 175.556 303.15 Q178.635 298.544 184.445 298.544 Z\" fill=\"#000000\" fill-rule=\"nonzero\" fill-opacity=\"1\" /><path clip-path=\"url(#clip630)\" d=\"M214.607 302.247 Q210.996 302.247 209.167 305.812 Q207.362 309.354 207.362 316.483 Q207.362 323.59 209.167 327.155 Q210.996 330.696 214.607 330.696 Q218.241 330.696 220.047 327.155 Q221.875 323.59 221.875 316.483 Q221.875 309.354 220.047 305.812 Q218.241 302.247 214.607 302.247 M214.607 298.544 Q220.417 298.544 223.473 303.15 Q226.551 307.733 226.551 316.483 Q226.551 325.21 223.473 329.817 Q220.417 334.4 214.607 334.4 Q208.797 334.4 205.718 329.817 Q202.662 325.21 202.662 316.483 Q202.662 307.733 205.718 303.15 Q208.797 298.544 214.607 298.544 Z\" fill=\"#000000\" fill-rule=\"nonzero\" fill-opacity=\"1\" /><path clip-path=\"url(#clip630)\" d=\"M244.769 302.247 Q241.158 302.247 239.329 305.812 Q237.523 309.354 237.523 316.483 Q237.523 323.59 239.329 327.155 Q241.158 330.696 244.769 330.696 Q248.403 330.696 250.209 327.155 Q252.037 323.59 252.037 316.483 Q252.037 309.354 250.209 305.812 Q248.403 302.247 244.769 302.247 M244.769 298.544 Q250.579 298.544 253.634 303.15 Q256.713 307.733 256.713 316.483 Q256.713 325.21 253.634 329.817 Q250.579 334.4 244.769 334.4 Q238.959 334.4 235.88 329.817 Q232.824 325.21 232.824 316.483 Q232.824 307.733 235.88 303.15 Q238.959 298.544 244.769 298.544 Z\" fill=\"#000000\" fill-rule=\"nonzero\" fill-opacity=\"1\" /><path clip-path=\"url(#clip630)\" d=\"M20.1444 808.528 L26.9239 808.528 Q23.9002 811.775 22.4043 815.467 Q20.9083 819.127 20.9083 823.265 Q20.9083 831.413 25.9054 835.742 Q30.8707 840.07 40.2919 840.07 Q49.6813 840.07 54.6784 835.742 Q59.6436 831.413 59.6436 823.265 Q59.6436 819.127 58.1477 815.467 Q56.6518 811.775 53.6281 808.528 L60.3439 808.528 Q62.6355 811.902 63.7814 815.69 Q64.9272 819.446 64.9272 823.647 Q64.9272 834.437 58.3387 840.643 Q51.7183 846.85 40.2919 846.85 Q28.8336 846.85 22.2451 840.643 Q15.6248 834.437 15.6248 823.647 Q15.6248 819.382 16.7706 815.626 Q17.8846 811.839 20.1444 808.528 Z\" fill=\"#000000\" fill-rule=\"nonzero\" fill-opacity=\"1\" /><path clip-path=\"url(#clip630)\" d=\"M32.4621 785.039 Q32.4621 789.75 36.1542 792.487 Q39.8145 795.224 46.212 795.224 Q52.6095 795.224 56.3017 792.519 Q59.9619 789.781 59.9619 785.039 Q59.9619 780.36 56.2698 777.623 Q52.5777 774.886 46.212 774.886 Q39.8781 774.886 36.186 777.623 Q32.4621 780.36 32.4621 785.039 M27.4968 785.039 Q27.4968 777.4 32.4621 773.04 Q37.4273 768.679 46.212 768.679 Q54.9649 768.679 59.9619 773.04 Q64.9272 777.4 64.9272 785.039 Q64.9272 792.71 59.9619 797.07 Q54.9649 801.399 46.212 801.399 Q37.4273 801.399 32.4621 797.07 Q27.4968 792.71 27.4968 785.039 Z\" fill=\"#000000\" fill-rule=\"nonzero\" fill-opacity=\"1\" /><path clip-path=\"url(#clip630)\" d=\"M49.9359 759.576 L28.3562 759.576 L28.3562 753.72 L49.7131 753.72 Q54.7739 753.72 57.3202 751.746 Q59.8346 749.773 59.8346 745.826 Q59.8346 741.084 56.8109 738.346 Q53.7872 735.577 48.5673 735.577 L28.3562 735.577 L28.3562 729.721 L64.0042 729.721 L64.0042 735.577 L58.5296 735.577 Q61.7762 737.71 63.3676 740.543 Q64.9272 743.344 64.9272 747.067 Q64.9272 753.21 61.1078 756.393 Q57.2883 759.576 49.9359 759.576 M27.4968 744.839 L27.4968 744.839 M11.869 747.258 L11.869 742.548 L23.8365 734.75 L23.8365 739.174 L16.0386 744.903 L23.8365 750.632 L23.8365 755.056 L11.869 747.258 Z\" fill=\"#000000\" fill-rule=\"nonzero\" fill-opacity=\"1\" /><path clip-path=\"url(#clip630)\" d=\"M18.2347 711.865 L28.3562 711.865 L28.3562 699.802 L32.9077 699.802 L32.9077 711.865 L52.2594 711.865 Q56.6199 711.865 57.8613 710.687 Q59.1026 709.478 59.1026 705.818 L59.1026 699.802 L64.0042 699.802 L64.0042 705.818 Q64.0042 712.597 61.4897 715.175 Q58.9434 717.753 52.2594 717.753 L32.9077 717.753 L32.9077 722.05 L28.3562 722.05 L28.3562 717.753 L18.2347 717.753 L18.2347 711.865 Z\" fill=\"#000000\" fill-rule=\"nonzero\" fill-opacity=\"1\" /><path clip-path=\"url(#clip630)\" d=\"M964.655 12.096 L1002.9 12.096 L1002.9 18.9825 L972.838 18.9825 L972.838 36.8875 L1001.64 36.8875 L1001.64 43.7741 L972.838 43.7741 L972.838 65.6895 L1003.62 65.6895 L1003.62 72.576 L964.655 72.576 L964.655 12.096 M985.882 -4.35067 L993.376 -4.35067 L984.14 6.34372 L977.942 6.34372 L985.882 -4.35067 Z\" fill=\"#000000\" fill-rule=\"nonzero\" fill-opacity=\"1\" /><path clip-path=\"url(#clip630)\" d=\"M1011.4 27.2059 L1019.3 27.2059 L1033.48 65.2844 L1047.66 27.2059 L1055.56 27.2059 L1038.54 72.576 L1028.42 72.576 L1011.4 27.2059 Z\" fill=\"#000000\" fill-rule=\"nonzero\" fill-opacity=\"1\" /><path clip-path=\"url(#clip630)\" d=\"M1083.43 32.4315 Q1077.43 32.4315 1073.95 37.1306 Q1070.46 41.7891 1070.46 49.9314 Q1070.46 58.0738 1073.91 62.7728 Q1077.39 67.4314 1083.43 67.4314 Q1089.38 67.4314 1092.87 62.7323 Q1096.35 58.0333 1096.35 49.9314 Q1096.35 41.8701 1092.87 37.1711 Q1089.38 32.4315 1083.43 32.4315 M1083.43 26.1121 Q1093.15 26.1121 1098.7 32.4315 Q1104.25 38.7509 1104.25 49.9314 Q1104.25 61.0714 1098.7 67.4314 Q1093.15 73.7508 1083.43 73.7508 Q1073.66 73.7508 1068.11 67.4314 Q1062.61 61.0714 1062.61 49.9314 Q1062.61 38.7509 1068.11 32.4315 Q1073.66 26.1121 1083.43 26.1121 Z\" fill=\"#000000\" fill-rule=\"nonzero\" fill-opacity=\"1\" /><path clip-path=\"url(#clip630)\" d=\"M1116.6 9.54393 L1124.06 9.54393 L1124.06 72.576 L1116.6 72.576 L1116.6 9.54393 Z\" fill=\"#000000\" fill-rule=\"nonzero\" fill-opacity=\"1\" /><path clip-path=\"url(#clip630)\" d=\"M1138.88 54.671 L1138.88 27.2059 L1146.34 27.2059 L1146.34 54.3874 Q1146.34 60.8284 1148.85 64.0691 Q1151.36 67.2693 1156.38 67.2693 Q1162.42 67.2693 1165.9 63.421 Q1169.43 59.5726 1169.43 52.9291 L1169.43 27.2059 L1176.88 27.2059 L1176.88 72.576 L1169.43 72.576 L1169.43 65.6084 Q1166.71 69.7404 1163.11 71.7658 Q1159.54 73.7508 1154.8 73.7508 Q1146.99 73.7508 1142.94 68.8897 Q1138.88 64.0286 1138.88 54.671 M1157.64 26.1121 L1157.64 26.1121 Z\" fill=\"#000000\" fill-rule=\"nonzero\" fill-opacity=\"1\" /><path clip-path=\"url(#clip630)\" d=\"M1199.61 14.324 L1199.61 27.2059 L1214.96 27.2059 L1214.96 32.9987 L1199.61 32.9987 L1199.61 57.6282 Q1199.61 63.1779 1201.11 64.7578 Q1202.65 66.3376 1207.3 66.3376 L1214.96 66.3376 L1214.96 72.576 L1207.3 72.576 Q1198.68 72.576 1195.39 69.3758 Q1192.11 66.1351 1192.11 57.6282 L1192.11 32.9987 L1186.64 32.9987 L1186.64 27.2059 L1192.11 27.2059 L1192.11 14.324 L1199.61 14.324 Z\" fill=\"#000000\" fill-rule=\"nonzero\" fill-opacity=\"1\" /><path clip-path=\"url(#clip630)\" d=\"M1224.76 27.2059 L1232.22 27.2059 L1232.22 72.576 L1224.76 72.576 L1224.76 27.2059 M1224.76 9.54393 L1232.22 9.54393 L1232.22 18.9825 L1224.76 18.9825 L1224.76 9.54393 Z\" fill=\"#000000\" fill-rule=\"nonzero\" fill-opacity=\"1\" /><path clip-path=\"url(#clip630)\" d=\"M1265.39 32.4315 Q1259.4 32.4315 1255.91 37.1306 Q1252.43 41.7891 1252.43 49.9314 Q1252.43 58.0738 1255.87 62.7728 Q1259.36 67.4314 1265.39 67.4314 Q1271.35 67.4314 1274.83 62.7323 Q1278.32 58.0333 1278.32 49.9314 Q1278.32 41.8701 1274.83 37.1711 Q1271.35 32.4315 1265.39 32.4315 M1265.39 26.1121 Q1275.12 26.1121 1280.67 32.4315 Q1286.22 38.7509 1286.22 49.9314 Q1286.22 61.0714 1280.67 67.4314 Q1275.12 73.7508 1265.39 73.7508 Q1255.63 73.7508 1250.08 67.4314 Q1244.57 61.0714 1244.57 49.9314 Q1244.57 38.7509 1250.08 32.4315 Q1255.63 26.1121 1265.39 26.1121 Z\" fill=\"#000000\" fill-rule=\"nonzero\" fill-opacity=\"1\" /><path clip-path=\"url(#clip630)\" d=\"M1336.28 45.1919 L1336.28 72.576 L1328.83 72.576 L1328.83 45.4349 Q1328.83 38.994 1326.32 35.7938 Q1323.81 32.5936 1318.78 32.5936 Q1312.75 32.5936 1309.27 36.4419 Q1305.78 40.2903 1305.78 46.9338 L1305.78 72.576 L1298.29 72.576 L1298.29 27.2059 L1305.78 27.2059 L1305.78 34.2544 Q1308.46 30.163 1312.06 28.1376 Q1315.71 26.1121 1320.45 26.1121 Q1328.26 26.1121 1332.27 30.9732 Q1336.28 35.7938 1336.28 45.1919 Z\" fill=\"#000000\" fill-rule=\"nonzero\" fill-opacity=\"1\" /><path clip-path=\"url(#clip630)\" d=\"M1407.38 34.0924 L1407.38 9.54393 L1414.83 9.54393 L1414.83 72.576 L1407.38 72.576 L1407.38 65.7705 Q1405.03 69.8214 1401.42 71.8063 Q1397.86 73.7508 1392.84 73.7508 Q1384.61 73.7508 1379.43 67.1883 Q1374.28 60.6258 1374.28 49.9314 Q1374.28 39.2371 1379.43 32.6746 Q1384.61 26.1121 1392.84 26.1121 Q1397.86 26.1121 1401.42 28.0971 Q1405.03 30.0415 1407.38 34.0924 M1381.98 49.9314 Q1381.98 58.1548 1385.34 62.8538 Q1388.74 67.5124 1394.66 67.5124 Q1400.57 67.5124 1403.98 62.8538 Q1407.38 58.1548 1407.38 49.9314 Q1407.38 41.7081 1403.98 37.0496 Q1400.57 32.3505 1394.66 32.3505 Q1388.74 32.3505 1385.34 37.0496 Q1381.98 41.7081 1381.98 49.9314 Z\" fill=\"#000000\" fill-rule=\"nonzero\" fill-opacity=\"1\" /><path clip-path=\"url(#clip630)\" d=\"M1429.42 54.671 L1429.42 27.2059 L1436.87 27.2059 L1436.87 54.3874 Q1436.87 60.8284 1439.38 64.0691 Q1441.89 67.2693 1446.91 67.2693 Q1452.95 67.2693 1456.43 63.421 Q1459.96 59.5726 1459.96 52.9291 L1459.96 27.2059 L1467.41 27.2059 L1467.41 72.576 L1459.96 72.576 L1459.96 65.6084 Q1457.24 69.7404 1453.64 71.7658 Q1450.07 73.7508 1445.34 73.7508 Q1437.52 73.7508 1433.47 68.8897 Q1429.42 64.0286 1429.42 54.671 M1448.17 26.1121 L1448.17 26.1121 Z\" fill=\"#000000\" fill-rule=\"nonzero\" fill-opacity=\"1\" /><path clip-path=\"url(#clip630)\" d=\"M1541.79 28.9478 L1541.79 35.9153 Q1538.63 34.1734 1535.43 33.3227 Q1532.27 32.4315 1529.03 32.4315 Q1521.78 32.4315 1517.77 37.0496 Q1513.75 41.6271 1513.75 49.9314 Q1513.75 58.2358 1517.77 62.8538 Q1521.78 67.4314 1529.03 67.4314 Q1532.27 67.4314 1535.43 66.5807 Q1538.63 65.6895 1541.79 63.9476 L1541.79 70.8341 Q1538.67 72.2924 1535.31 73.0216 Q1531.98 73.7508 1528.22 73.7508 Q1517.97 73.7508 1511.93 67.3098 Q1505.9 60.8689 1505.9 49.9314 Q1505.9 38.832 1511.97 32.472 Q1518.09 26.1121 1528.7 26.1121 Q1532.15 26.1121 1535.43 26.8413 Q1538.71 27.5299 1541.79 28.9478 Z\" fill=\"#000000\" fill-rule=\"nonzero\" fill-opacity=\"1\" /><path clip-path=\"url(#clip630)\" d=\"M1572.33 32.4315 Q1566.34 32.4315 1562.85 37.1306 Q1559.37 41.7891 1559.37 49.9314 Q1559.37 58.0738 1562.81 62.7728 Q1566.3 67.4314 1572.33 67.4314 Q1578.29 67.4314 1581.77 62.7323 Q1585.25 58.0333 1585.25 49.9314 Q1585.25 41.8701 1581.77 37.1711 Q1578.29 32.4315 1572.33 32.4315 M1572.33 26.1121 Q1582.05 26.1121 1587.6 32.4315 Q1593.15 38.7509 1593.15 49.9314 Q1593.15 61.0714 1587.6 67.4314 Q1582.05 73.7508 1572.33 73.7508 Q1562.57 73.7508 1557.02 67.4314 Q1551.51 61.0714 1551.51 49.9314 Q1551.51 38.7509 1557.02 32.4315 Q1562.57 26.1121 1572.33 26.1121 Z\" fill=\"#000000\" fill-rule=\"nonzero\" fill-opacity=\"1\" /><path clip-path=\"url(#clip630)\" d=\"M1604.74 54.671 L1604.74 27.2059 L1612.19 27.2059 L1612.19 54.3874 Q1612.19 60.8284 1614.7 64.0691 Q1617.21 67.2693 1622.24 67.2693 Q1628.27 67.2693 1631.76 63.421 Q1635.28 59.5726 1635.28 52.9291 L1635.28 27.2059 L1642.74 27.2059 L1642.74 72.576 L1635.28 72.576 L1635.28 65.6084 Q1632.57 69.7404 1628.96 71.7658 Q1625.4 73.7508 1620.66 73.7508 Q1612.84 73.7508 1608.79 68.8897 Q1604.74 64.0286 1604.74 54.671 M1623.49 26.1121 L1623.49 26.1121 M1620.42 6.22219 L1626.41 6.22219 L1636.34 21.4536 L1630.7 21.4536 L1623.41 11.5289 L1616.12 21.4536 L1610.49 21.4536 L1620.42 6.22219 Z\" fill=\"#000000\" fill-rule=\"nonzero\" fill-opacity=\"1\" /><path clip-path=\"url(#clip630)\" d=\"M1665.46 14.324 L1665.46 27.2059 L1680.81 27.2059 L1680.81 32.9987 L1665.46 32.9987 L1665.46 57.6282 Q1665.46 63.1779 1666.96 64.7578 Q1668.5 66.3376 1673.16 66.3376 L1680.81 66.3376 L1680.81 72.576 L1673.16 72.576 Q1664.53 72.576 1661.25 69.3758 Q1657.97 66.1351 1657.97 57.6282 L1657.97 32.9987 L1652.5 32.9987 L1652.5 27.2059 L1657.97 27.2059 L1657.97 14.324 L1665.46 14.324 Z\" fill=\"#000000\" fill-rule=\"nonzero\" fill-opacity=\"1\" /><polyline clip-path=\"url(#clip632)\" style=\"stroke:#009af9; stroke-linecap:round; stroke-linejoin:round; stroke-width:4; stroke-opacity:1; fill:none\" points=\"351.016,160.256 353.449,160.256 355.881,160.256 358.313,164.844 360.746,164.844 363.178,191.475 365.61,191.475 368.043,191.475 370.475,191.475 372.907,191.475 375.34,191.475 377.772,191.475 380.204,191.475 382.637,191.475 385.069,203.707 387.501,203.707 389.934,203.707 392.366,203.707 394.798,203.707 397.231,203.707 399.663,203.707 402.095,203.707 404.528,203.707 406.96,203.707 409.392,203.707 411.825,203.707 414.257,203.707 416.689,209.427 419.122,209.427 421.554,209.427 423.986,216.297 426.419,216.297 428.851,216.297 431.283,216.297 433.716,216.297 436.148,216.297 438.58,216.297 441.013,216.297 443.445,216.297 445.877,216.297 448.31,216.297 450.742,216.297 453.174,216.297 455.607,216.297 458.039,216.297 460.471,216.297 462.904,216.297 465.336,216.297 467.768,216.297 470.201,216.297 472.633,216.297 475.065,216.297 477.498,216.297 479.93,216.297 482.362,216.297 484.795,216.297 487.227,216.297 489.659,216.297 492.092,216.297 494.524,216.297 496.956,216.297 499.389,216.297 501.821,216.297 504.253,216.297 506.686,216.297 509.118,216.297 511.55,216.297 513.983,216.297 516.415,216.297 518.847,216.297 521.28,216.297 523.712,221.88 526.144,221.88 528.577,221.88 531.009,221.88 533.441,221.88 535.874,221.88 538.306,247.046 540.738,253.803 543.171,254.614 545.603,254.614 548.035,254.614 550.468,254.614 552.9,254.614 555.332,254.614 557.765,254.614 560.197,254.614 562.629,588.435 565.062,588.435 567.494,588.435 569.926,588.435 572.359,588.435 574.791,588.435 577.223,588.435 579.656,627.542 582.088,627.542 584.52,627.542 586.953,627.542 589.385,627.542 591.817,633.161 594.25,633.161 596.682,651.185 599.114,651.185 601.547,651.185 603.979,651.185 606.411,651.185 608.844,651.185 611.276,651.185 613.709,651.185 616.141,651.185 618.573,669.197 621.006,669.197 623.438,669.93 625.87,689.118 628.303,689.118 630.735,689.118 633.167,689.118 635.6,689.118 638.032,689.118 640.464,689.118 642.897,689.118 645.329,689.118 647.761,689.118 650.194,689.118 652.626,689.118 655.058,689.118 657.491,689.118 659.923,689.118 662.355,689.118 664.788,689.118 667.22,689.118 669.652,689.118 672.085,689.118 674.517,689.118 676.949,689.118 679.382,689.118 681.814,689.118 684.246,708.958 686.679,708.958 689.111,708.958 691.543,708.958 693.976,708.958 696.408,708.958 698.84,708.958 701.273,708.958 703.705,708.958 706.137,708.958 708.57,708.958 711.002,708.958 713.434,708.958 715.867,708.958 718.299,710.14 720.731,710.14 723.164,710.14 725.596,710.14 728.028,710.227 730.461,710.227 732.893,710.227 735.325,710.227 737.758,710.227 740.19,710.227 742.622,710.227 745.055,710.227 747.487,710.227 749.919,710.227 752.352,710.227 754.784,710.227 757.216,710.227 759.649,710.227 762.081,710.227 764.513,710.227 766.946,710.227 769.378,710.227 771.81,710.227 774.243,710.227 776.675,710.227 779.107,710.227 781.54,710.227 783.972,710.227 786.404,710.227 788.837,710.227 791.269,710.227 793.701,710.227 796.134,710.227 798.566,820.889 800.998,820.889 803.431,820.889 805.863,820.889 808.295,820.889 810.728,820.889 813.16,868.718 815.592,868.718 818.025,868.718 820.457,868.718 822.889,868.718 825.322,868.718 827.754,868.718 830.186,868.718 832.619,868.718 835.051,868.718 837.483,868.718 839.916,868.718 842.348,868.718 844.78,868.718 847.213,886.805 849.645,886.805 852.077,886.805 854.51,907.382 856.942,907.382 859.374,907.382 861.807,907.382 864.239,907.382 866.671,960.565 869.104,964.104 871.536,964.104 873.968,964.104 876.401,964.104 878.833,964.104 881.265,982.403 883.698,982.403 886.13,982.403 888.562,982.403 890.995,982.403 893.427,982.403 895.86,982.403 898.292,982.403 900.724,982.403 903.157,982.403 905.589,982.403 908.021,982.403 910.454,982.403 912.886,982.861 915.318,982.861 917.751,982.861 920.183,982.861 922.615,982.861 925.048,982.861 927.48,982.861 929.912,982.861 932.345,982.861 934.777,982.861 937.209,982.861 939.642,982.861 942.074,982.861 944.506,982.861 946.939,982.861 949.371,982.861 951.803,982.861 954.236,982.861 956.668,982.861 959.1,982.861 961.533,982.861 963.965,982.861 966.397,982.861 968.83,982.861 971.262,982.861 973.694,982.861 976.127,982.861 978.559,982.861 980.991,982.861 983.424,982.861 985.856,982.861 988.288,982.861 990.721,982.861 993.153,982.861 995.585,1011.36 998.018,1037.57 1000.45,1037.57 1002.88,1037.57 1005.31,1037.57 1007.75,1037.57 1010.18,1061.11 1012.61,1061.11 1015.04,1061.11 1017.48,1061.11 1019.91,1061.11 1022.34,1061.11 1024.77,1061.11 1027.21,1061.11 1029.64,1061.11 1032.07,1061.11 1034.5,1061.11 1036.94,1061.11 1039.37,1061.11 1041.8,1061.11 1044.23,1061.11 1046.66,1061.11 1049.1,1061.11 1051.53,1061.11 1053.96,1061.11 1056.39,1061.11 1058.83,1061.11 1061.26,1061.11 1063.69,1061.11 1066.12,1061.11 1068.56,1061.11 1070.99,1119.16 1073.42,1119.16 1075.85,1119.16 1078.28,1119.16 1080.72,1119.16 1083.15,1119.16 1085.58,1119.16 1088.01,1119.16 1090.45,1119.16 1092.88,1119.16 1095.31,1119.16 1097.74,1119.16 1100.18,1119.16 1102.61,1119.16 1105.04,1119.16 1107.47,1119.16 1109.91,1119.16 1112.34,1119.16 1114.77,1119.16 1117.2,1119.16 1119.63,1119.16 1122.07,1119.16 1124.5,1119.16 1126.93,1119.16 1129.36,1119.16 1131.8,1119.16 1134.23,1119.16 1136.66,1119.16 1139.09,1119.16 1141.53,1119.16 1143.96,1119.16 1146.39,1119.16 1148.82,1119.16 1151.25,1119.16 1153.69,1119.16 1156.12,1119.16 1158.55,1119.16 1160.98,1119.16 1163.42,1119.16 1165.85,1125.1 1168.28,1125.1 1170.71,1144.28 1173.15,1144.28 1175.58,1144.28 1178.01,1144.28 1180.44,1144.28 1182.88,1150.22 1185.31,1150.22 1187.74,1150.22 1190.17,1150.22 1192.6,1150.22 1195.04,1150.22 1197.47,1150.22 1199.9,1150.22 1202.33,1150.22 1204.77,1150.22 1207.2,1150.22 1209.63,1150.22 1212.06,1150.22 1214.5,1150.22 1216.93,1150.22 1219.36,1150.22 1221.79,1150.22 1224.22,1150.22 1226.66,1150.22 1229.09,1150.22 1231.52,1150.22 1233.95,1150.22 1236.39,1150.22 1238.82,1150.22 1241.25,1150.22 1243.68,1150.22 1246.12,1150.22 1248.55,1150.22 1250.98,1150.22 1253.41,1150.22 1255.85,1150.22 1258.28,1150.22 1260.71,1150.22 1263.14,1150.22 1265.57,1150.22 1268.01,1150.22 1270.44,1150.22 1272.87,1150.22 1275.3,1150.22 1277.74,1150.22 1280.17,1150.22 1282.6,1150.22 1285.03,1150.22 1287.47,1150.22 1289.9,1150.22 1292.33,1150.22 1294.76,1150.22 1297.19,1150.22 1299.63,1150.22 1302.06,1150.22 1304.49,1150.22 1306.92,1150.22 1309.36,1150.22 1311.79,1150.22 1314.22,1150.22 1316.65,1150.22 1319.09,1150.22 1321.52,1150.22 1323.95,1150.22 1326.38,1150.22 1328.82,1150.22 1331.25,1150.22 1333.68,1150.22 1336.11,1150.22 1338.54,1150.22 1340.98,1150.22 1343.41,1150.22 1345.84,1150.22 1348.27,1150.22 1350.71,1150.22 1353.14,1150.22 1355.57,1150.22 1358,1150.22 1360.44,1150.22 1362.87,1150.22 1365.3,1150.22 1367.73,1150.22 1370.17,1150.22 1372.6,1150.22 1375.03,1150.22 1377.46,1150.22 1379.89,1150.22 1382.33,1150.22 1384.76,1150.22 1387.19,1150.22 1389.62,1150.22 1392.06,1150.22 1394.49,1150.22 1396.92,1150.22 1399.35,1150.22 1401.79,1150.22 1404.22,1150.22 1406.65,1150.22 1409.08,1150.22 1411.51,1150.22 1413.95,1150.22 1416.38,1150.22 1418.81,1150.22 1421.24,1150.22 1423.68,1150.22 1426.11,1150.22 1428.54,1150.22 1430.97,1150.22 1433.41,1150.22 1435.84,1150.22 1438.27,1150.22 1440.7,1150.22 1443.14,1150.22 1445.57,1150.22 1448,1150.22 1450.43,1150.22 1452.86,1150.22 1455.3,1150.22 1457.73,1150.22 1460.16,1150.22 1462.59,1150.22 1465.03,1169.14 1467.46,1169.14 1469.89,1169.14 1472.32,1169.14 1474.76,1169.14 1477.19,1169.14 1479.62,1169.14 1482.05,1169.14 1484.48,1169.14 1486.92,1169.14 1489.35,1169.14 1491.78,1169.14 1494.21,1169.14 1496.65,1169.14 1499.08,1169.14 1501.51,1169.14 1503.94,1169.14 1506.38,1169.14 1508.81,1169.14 1511.24,1169.14 1513.67,1169.14 1516.11,1169.14 1518.54,1169.14 1520.97,1169.14 1523.4,1169.14 1525.83,1169.14 1528.27,1169.14 1530.7,1169.21 1533.13,1169.21 1535.56,1169.21 1538,1169.21 1540.43,1169.21 1542.86,1169.21 1545.29,1169.21 1547.73,1169.21 1550.16,1169.21 1552.59,1169.21 1555.02,1169.21 1557.45,1169.21 1559.89,1169.21 1562.32,1169.21 1564.75,1169.21 1567.18,1169.21 1569.62,1169.21 1572.05,1169.21 1574.48,1169.21 1576.91,1169.21 1579.35,1169.21 1581.78,1169.21 1584.21,1169.21 1586.64,1169.21 1589.08,1169.21 1591.51,1169.21 1593.94,1169.21 1596.37,1169.21 1598.8,1169.21 1601.24,1169.21 1603.67,1169.21 1606.1,1169.21 1608.53,1169.21 1610.97,1169.21 1613.4,1169.21 1615.83,1169.21 1618.26,1169.21 1620.7,1171.22 1623.13,1171.22 1625.56,1171.22 1627.99,1172.35 1630.43,1172.35 1632.86,1172.35 1635.29,1172.35 1637.72,1172.35 1640.15,1172.35 1642.59,1172.35 1645.02,1172.35 1647.45,1172.35 1649.88,1172.35 1652.32,1172.35 1654.75,1172.35 1657.18,1172.35 1659.61,1172.35 1662.05,1172.35 1664.48,1172.35 1666.91,1172.35 1669.34,1172.35 1671.77,1172.35 1674.21,1172.35 1676.64,1172.35 1679.07,1172.35 1681.5,1172.35 1683.94,1172.35 1686.37,1172.35 1688.8,1172.35 1691.23,1172.35 1693.67,1172.35 1696.1,1172.35 1698.53,1172.35 1700.96,1172.35 1703.4,1172.35 1705.83,1172.35 1708.26,1172.35 1710.69,1172.35 1713.12,1274.96 1715.56,1274.96 1717.99,1274.96 1720.42,1274.96 1722.85,1274.96 1725.29,1274.96 1727.72,1274.96 1730.15,1274.96 1732.58,1274.96 1735.02,1274.96 1737.45,1274.96 1739.88,1274.96 1742.31,1274.96 1744.74,1274.96 1747.18,1274.96 1749.61,1274.96 1752.04,1274.96 1754.47,1274.96 1756.91,1274.96 1759.34,1274.96 1761.77,1274.96 1764.2,1274.96 1766.64,1274.96 1769.07,1274.96 1771.5,1274.96 1773.93,1290.03 1776.37,1290.03 1778.8,1290.03 1781.23,1290.03 1783.66,1348.4 1786.09,1348.4 1788.53,1348.4 1790.96,1348.4 1793.39,1348.4 1795.82,1348.4 1798.26,1348.4 1800.69,1348.4 1803.12,1348.4 1805.55,1348.4 1807.99,1348.4 1810.42,1348.4 1812.85,1348.4 1815.28,1348.4 1817.71,1348.69 1820.15,1348.69 1822.58,1348.69 1825.01,1348.69 1827.44,1348.69 1829.88,1348.69 1832.31,1348.69 1834.74,1348.69 1837.17,1348.69 1839.61,1348.69 1842.04,1348.69 1844.47,1348.69 1846.9,1348.69 1849.34,1348.69 1851.77,1348.69 1854.2,1348.69 1856.63,1348.69 1859.06,1348.69 1861.5,1348.69 1863.93,1348.69 1866.36,1348.69 1868.79,1348.69 1871.23,1348.69 1873.66,1348.69 1876.09,1348.69 1878.52,1348.69 1880.96,1348.69 1883.39,1348.69 1885.82,1348.69 1888.25,1348.69 1890.69,1348.69 1893.12,1348.69 1895.55,1348.69 1897.98,1348.69 1900.41,1348.69 1902.85,1348.69 1905.28,1348.69 1907.71,1348.69 1910.14,1348.69 1912.58,1348.69 1915.01,1348.69 1917.44,1348.69 1919.87,1348.69 1922.31,1348.69 1924.74,1348.69 1927.17,1348.69 1929.6,1348.69 1932.03,1348.69 1934.47,1348.69 1936.9,1348.69 1939.33,1348.69 1941.76,1348.69 1944.2,1348.69 1946.63,1348.69 1949.06,1348.69 1951.49,1348.69 1953.93,1348.69 1956.36,1348.81 1958.79,1348.81 1961.22,1348.81 1963.66,1348.81 1966.09,1348.81 1968.52,1348.81 1970.95,1348.81 1973.38,1348.81 1975.82,1348.81 1978.25,1348.81 1980.68,1348.81 1983.11,1348.81 1985.55,1348.81 1987.98,1350.27 1990.41,1350.27 1992.84,1350.27 1995.28,1350.27 1997.71,1350.27 2000.14,1350.27 2002.57,1350.27 2005,1350.27 2007.44,1350.27 2009.87,1350.27 2012.3,1350.27 2014.73,1350.27 2017.17,1350.27 2019.6,1350.27 2022.03,1350.27 2024.46,1379.96 2026.9,1379.96 2029.33,1379.96 2031.76,1379.96 2034.19,1379.96 2036.63,1379.96 2039.06,1379.96 2041.49,1379.96 2043.92,1379.96 2046.35,1379.96 2048.79,1379.96 2051.22,1379.96 2053.65,1379.96 2056.08,1379.96 2058.52,1379.96 2060.95,1379.96 2063.38,1379.96 2065.81,1379.96 2068.25,1379.96 2070.68,1379.96 2073.11,1379.96 2075.54,1379.96 2077.97,1379.96 2080.41,1379.96 2082.84,1379.96 2085.27,1379.96 2087.7,1379.96 2090.14,1379.96 2092.57,1379.96 2095,1379.96 2097.43,1379.96 2099.87,1379.96 2102.3,1379.96 2104.73,1379.96 2107.16,1379.96 2109.6,1379.96 2112.03,1379.96 2114.46,1379.96 2116.89,1379.96 2119.32,1379.96 2121.76,1379.96 2124.19,1379.96 2126.62,1379.96 2129.05,1379.96 2131.49,1379.96 2133.92,1379.96 2136.35,1379.96 2138.78,1379.96 2141.22,1379.96 2143.65,1379.96 2146.08,1379.96 2148.51,1379.96 2150.94,1379.96 2153.38,1379.96 2155.81,1379.96 2158.24,1379.96 2160.67,1379.96 2163.11,1379.96 2165.54,1379.96 2167.97,1379.96 2170.4,1379.96 2172.84,1379.96 2175.27,1379.96 2177.7,1379.96 2180.13,1379.96 2182.57,1379.96 2185,1379.96 2187.43,1379.96 2189.86,1379.96 2192.29,1379.96 2194.73,1379.96 2197.16,1379.96 2199.59,1380.15 2202.02,1380.15 2204.46,1382.31 2206.89,1382.31 2209.32,1382.31 2211.75,1383.72 2214.19,1383.72 2216.62,1383.72 2219.05,1386.4 2221.48,1386.4 2223.92,1386.4 2226.35,1386.4 2228.78,1386.4 2231.21,1386.4 2233.64,1386.4 2236.08,1386.4 2238.51,1386.4 2240.94,1386.4 2243.37,1386.4 2245.81,1386.4 2248.24,1386.4 2250.67,1386.4 2253.1,1386.4 2255.54,1386.4 2257.97,1386.4 2260.4,1386.4 2262.83,1386.4 2265.26,1386.4 2267.7,1386.4 2270.13,1386.4 2272.56,1386.4 2274.99,1386.4 2277.43,1386.4 2279.86,1386.4 2282.29,1386.4 2284.72,1386.4 2287.16,1386.4 2289.59,1386.4 2292.02,1386.4 2294.45,1386.4 \"/>\n",
       "<path clip-path=\"url(#clip630)\" d=\"M2025.65 270.476 L2284.09 270.476 L2284.09 166.796 L2025.65 166.796  Z\" fill=\"#ffffff\" fill-rule=\"evenodd\" fill-opacity=\"1\"/>\n",
       "<polyline clip-path=\"url(#clip630)\" style=\"stroke:#000000; stroke-linecap:round; stroke-linejoin:round; stroke-width:4; stroke-opacity:1; fill:none\" points=\"2025.65,270.476 2284.09,270.476 2284.09,166.796 2025.65,166.796 2025.65,270.476 \"/>\n",
       "<polyline clip-path=\"url(#clip630)\" style=\"stroke:#009af9; stroke-linecap:round; stroke-linejoin:round; stroke-width:4; stroke-opacity:1; fill:none\" points=\"2048.54,218.636 2185.88,218.636 \"/>\n",
       "<path clip-path=\"url(#clip630)\" d=\"M2222.61 238.323 Q2220.81 242.953 2219.09 244.365 Q2217.38 245.777 2214.51 245.777 L2211.11 245.777 L2211.11 242.212 L2213.61 242.212 Q2215.37 242.212 2216.34 241.379 Q2217.31 240.545 2218.49 237.443 L2219.25 235.499 L2208.77 209.99 L2213.28 209.99 L2221.38 230.268 L2229.49 209.99 L2234 209.99 L2222.61 238.323 Z\" fill=\"#000000\" fill-rule=\"nonzero\" fill-opacity=\"1\" /><path clip-path=\"url(#clip630)\" d=\"M2241.29 231.981 L2248.93 231.981 L2248.93 205.615 L2240.62 207.282 L2240.62 203.022 L2248.88 201.356 L2253.56 201.356 L2253.56 231.981 L2261.2 231.981 L2261.2 235.916 L2241.29 235.916 L2241.29 231.981 Z\" fill=\"#000000\" fill-rule=\"nonzero\" fill-opacity=\"1\" /></svg>\n"
      ]
     },
     "metadata": {},
     "output_type": "display_data"
    },
    {
     "name": "stdout",
     "output_type": "stream",
     "text": [
      "800\n"
     ]
    }
   ],
   "source": [
    "# Execution du programme\n",
    "\n",
    "L, S, costs, cost_f = metaheuristique(wind_scenarios, general_parameters, sub_sub_cable_types, land_substation_cable_types, substation_types)\n",
    "\n",
    "display(plot(1:800, costs, xlabel=\"Itérations\", ylabel=\"Coût\", title=\"Évolution du coût\"))\n",
    "\n"
   ]
  },
  {
   "cell_type": "code",
   "execution_count": 19,
   "metadata": {},
   "outputs": [],
   "source": [
    "# Mise en forme des solutions a format JSON\n",
    "\n",
    "# on crée un dictionnaire pour les sous-stations qui contient les informations suivantes :\n",
    "# - id : identifiant de la sous-station\n",
    "# - land_cable_type : type de câble entre la sous-station et la station terrestre\n",
    "# - substation_type : type de sous-station\n",
    "\n",
    "substations = []\n",
    "for i in 1:size(S, 1)\n",
    "    if S[i, 3] != 0\n",
    "        push!(substations, Dict(\"id\" => i, \"land_cable_type\" => S[i, 3], \"substation_type\" => S[i, 5]))\n",
    "    end\n",
    "end\n",
    "\n",
    "\n",
    "# on crée un dictionnaire pour les câbles entre les sous-stations qui contient les informations suivantes :\n",
    "# - substation_id : identifiant de la première sous-station\n",
    "# - other_substation_id : identifiant de la deuxième sous-station\n",
    "# - cable_type : type de câble entre les deux sous-stations\n",
    "\n",
    "substation_substation_cables = []\n",
    "\n",
    "for i in 1:size(S, 1)\n",
    "    if S[i, 2] != 0 && S[i, 4] != 0\n",
    "        push!(substation_substation_cables, Dict(\"substation_id\" => i, \"other_substation_id\" => S[i, 2], \"cable_type\" => S[i, 4]))\n",
    "        S[S[i, 2], 4] = 0\n",
    "        S[S[i, 2], 2] = 0\n",
    "    end\n",
    "end\n",
    "\n",
    "\n",
    "# on crée un dictionnaire pour les turbines qui contient les informations suivantes :\n",
    "# - id : identifiant de la turbine\n",
    "# - substation_id : identifiant de la sous-station à laquelle est reliée la turbine\n",
    "\n",
    "turbines = []\n",
    "for i in 1:length(L)\n",
    "    push!(turbines, Dict(\"id\" => i, \"substation_id\" => L[i]))\n",
    "end\n",
    "\n",
    "solutions = Dict(\"substations\" => substations, \"substation_substation_cables\" => substation_substation_cables, \"turbines\" => turbines)\n",
    "\n",
    "# on écrit le dictionnaire dans un fichier JSON\n",
    "\n",
    "open(\"solution.json\", \"w\") do f\n",
    "    JSON.print(f, solutions)\n",
    "end"
   ]
  },
  {
   "cell_type": "code",
   "execution_count": 18,
   "metadata": {},
   "outputs": [
    {
     "name": "stdout",
     "output_type": "stream",
     "text": [
      "7666.782749630524"
     ]
    }
   ],
   "source": [
    "print(costs[end])"
   ]
  }
 ],
 "metadata": {
  "kernelspec": {
   "display_name": "Julia 1.9.4",
   "language": "julia",
   "name": "julia-1.9"
  },
  "language_info": {
   "file_extension": ".jl",
   "mimetype": "application/julia",
   "name": "julia",
   "version": "1.9.4"
  }
 },
 "nbformat": 4,
 "nbformat_minor": 2
}
